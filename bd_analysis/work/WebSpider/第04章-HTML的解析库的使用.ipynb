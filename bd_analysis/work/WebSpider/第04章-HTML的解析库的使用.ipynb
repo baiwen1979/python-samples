{
 "cells": [
  {
   "cell_type": "markdown",
   "metadata": {},
   "source": [
    "# 03 正则表达式与HTML解析库的使用\n",
    "\n",
    "内容导航：\n",
    "\n",
    "1. 正则表达式\n",
    "2. BeautifulSoup\n",
    "3. XPath"
   ]
  },
  {
   "cell_type": "markdown",
   "metadata": {},
   "source": [
    "## 3.1 正则表达式\n",
    "\n",
    "在编写处理网页文本的程序时，经常会有查找符合某些复杂规则的字符串的需要。**正则表达式(Regular Expression)** 就是用于描述这些规则的工具。\n",
    "正则表达式是由普通字符（例如字符a到z）以及特殊字符（称为\"元字符\"）组成的文字模式(patterns)。模式用于描述在搜索文本时要匹配的一个或多个字符串。正则表达式作为一个模板，将某个字符模式与所搜索的字符串进行匹配。\n",
    "\n",
    "### 基本语法与使用\n",
    "\n",
    "最简单的正则表达式：由普通的字符构成的字符串"
   ]
  },
  {
   "cell_type": "code",
   "execution_count": 2,
   "metadata": {},
   "outputs": [
    {
     "name": "stdout",
     "output_type": "stream",
     "text": [
      "<re.Match object; span=(0, 2), match='We'>\n"
     ]
    }
   ],
   "source": [
    "import re\n",
    "\n",
    "pattern = re.compile(r'we', re.I)\n",
    "text = 'WewEwewellwelcome'\n",
    "result = re.match(pattern, text)\n",
    "print(result)"
   ]
  },
  {
   "cell_type": "code",
   "execution_count": 20,
   "metadata": {},
   "outputs": [
    {
     "data": {
      "text/plain": [
       "'We'"
      ]
     },
     "execution_count": 20,
     "metadata": {},
     "output_type": "execute_result"
    }
   ],
   "source": [
    "result = re.search(pattern, text)\n",
    "result.group()"
   ]
  },
  {
   "cell_type": "code",
   "execution_count": 22,
   "metadata": {},
   "outputs": [
    {
     "data": {
      "text/plain": [
       "['We', 'wE', 'we', 'we', 'we']"
      ]
     },
     "execution_count": 22,
     "metadata": {},
     "output_type": "execute_result"
    }
   ],
   "source": [
    "result = re.findall(pattern, text)\n",
    "result"
   ]
  },
  {
   "cell_type": "code",
   "execution_count": 188,
   "metadata": {},
   "outputs": [
    {
     "data": {
      "text/plain": [
       "['We', 'wE', 'we', 'we', 'we']"
      ]
     },
     "execution_count": 188,
     "metadata": {},
     "output_type": "execute_result"
    }
   ],
   "source": [
    "result = re.finditer(pattern, text)\n",
    "[item.group() for item in result]"
   ]
  },
  {
   "cell_type": "code",
   "execution_count": 32,
   "metadata": {},
   "outputs": [
    {
     "data": {
      "text/plain": [
       "'MNMNMNMNllMNlcome'"
      ]
     },
     "execution_count": 32,
     "metadata": {},
     "output_type": "execute_result"
    }
   ],
   "source": [
    "result = re.sub(pattern, 'MN', text)\n",
    "result"
   ]
  },
  {
   "cell_type": "code",
   "execution_count": 33,
   "metadata": {},
   "outputs": [
    {
     "data": {
      "text/plain": [
       "('MNMNwewellwelcome', 2)"
      ]
     },
     "execution_count": 33,
     "metadata": {},
     "output_type": "execute_result"
    }
   ],
   "source": [
    "result = re.subn(pattern, 'MN', text, 2)\n",
    "result"
   ]
  },
  {
   "cell_type": "markdown",
   "metadata": {},
   "source": [
    "#### 1. 元字符\n",
    "\n",
    "元字符主要有四个用途：\n",
    "\n",
    "1. 匹配字符\n",
    "2. 匹配位置\n",
    "3. 匹配数量\n",
    "4. 匹配模式\n",
    "\n",
    "常用元字符:\n",
    "\n",
    "|元字符|含义|\n",
    "|----|:---|\n",
    "| . |匹配除换行符以外的任意字符\n",
    "| \\b|匹配单词的开始或结束\n",
    "| \\d|匹配数字\n",
    "| \\w|匹配字母、数字、下划线或汉字\n",
    "| \\s|匹配任意空白字符，包括空格、制表符(tab)、换行符、中文全角空格等\n",
    "| ^ |匹配字符串的开始\n",
    "| $ |匹配字符串的结束"
   ]
  },
  {
   "cell_type": "code",
   "execution_count": 34,
   "metadata": {},
   "outputs": [
    {
     "data": {
      "text/plain": [
       "['still', 'studying', 'so']"
      ]
     },
     "execution_count": 34,
     "metadata": {},
     "output_type": "execute_result"
    }
   ],
   "source": [
    "# 匹配所有以s开头的单词\n",
    "pattern = re.compile(r'\\bs\\w*\\b')\n",
    "text = 'we are still studying and so busy.'\n",
    "re.findall(pattern, text)"
   ]
  },
  {
   "cell_type": "markdown",
   "metadata": {},
   "source": [
    "#### 2. 字符转义\n",
    "\n",
    "如果要查找元字符本身，比如查找\".\"或者\"*\"就会出问题，因为它们具有特定的功能。此时就需要转义，使用\"\\\"来取消这些字符的特殊含义。因此，如果要查找\".\"、\"\\\"或者\"*\"时，必须写成\"\\.\"、\"\\\\\"和\"\\*\"。"
   ]
  },
  {
   "cell_type": "code",
   "execution_count": 38,
   "metadata": {},
   "outputs": [
    {
     "data": {
      "text/plain": [
       "['www.baidu.com', 'www.126.com', 'www.python.org']"
      ]
     },
     "execution_count": 38,
     "metadata": {},
     "output_type": "execute_result"
    }
   ],
   "source": [
    "# 匹配类似www.163.com这样的网址\n",
    "pattern = re.compile(r'\\w*\\.\\w*\\.\\w*')\n",
    "text = 'www.baidu.com, www.126.com, http://www.python.org'\n",
    "re.findall(pattern, text)"
   ]
  },
  {
   "cell_type": "markdown",
   "metadata": {},
   "source": [
    "#### 3. 重复\n",
    "\n",
    "匹配重复的限定符如下表所示：\n",
    "\n",
    "元字符|含义\n",
    "-:|-:\n",
    " * |重复零次或多次\n",
    " + |重复一次或更多次\n",
    " ？|重复零次或一次\n",
    "{n}|重复n次\n",
    "{n,}|重复至少n次\n",
    "{n,m}|重复n到m次"
   ]
  },
  {
   "cell_type": "code",
   "execution_count": 41,
   "metadata": {},
   "outputs": [
    {
     "data": {
      "text/plain": [
       "['123456', '123456', '12345678', '65432102']"
      ]
     },
     "execution_count": 41,
     "metadata": {},
     "output_type": "execute_result"
    }
   ],
   "source": [
    "# 匹配6～12个数字的字符串\n",
    "pattern = re.compile(r'\\d{6,12}')\n",
    "text = '1234, 123456, ab123456, 12345678ab, 65432102'\n",
    "re.findall(pattern, text)"
   ]
  },
  {
   "cell_type": "markdown",
   "metadata": {},
   "source": [
    "#### 4. 字符集合\n",
    "\n",
    "正则表达式通过`[]`实现自定义字符集合"
   ]
  },
  {
   "cell_type": "code",
   "execution_count": 48,
   "metadata": {},
   "outputs": [
    {
     "data": {
      "text/plain": [
       "['b234567.', 'f123456.']"
      ]
     },
     "execution_count": 48,
     "metadata": {},
     "output_type": "execute_result"
    }
   ],
   "source": [
    "# 匹配由小写字符开始，后接6位数字，以“.\"结束的字符串\n",
    "pattern = re.compile(r'[a-z]\\d{6}\\.')\n",
    "text = 'A123 a123456 b234567. c3456 f123456.'\n",
    "re.findall(pattern, text)"
   ]
  },
  {
   "cell_type": "markdown",
   "metadata": {},
   "source": [
    "#### 5. 分支条件\n",
    "\n",
    "正则表达式的分支条件是指有几种匹配规则，如果满足其中任何一种规则都应该当成匹配。具体语法是用\"|\"把不同的规则分隔开。"
   ]
  },
  {
   "cell_type": "code",
   "execution_count": 49,
   "metadata": {},
   "outputs": [
    {
     "data": {
      "text/plain": [
       "['0352-8324115', '010-55787876']"
      ]
     },
     "execution_count": 49,
     "metadata": {},
     "output_type": "execute_result"
    }
   ],
   "source": [
    "# 匹配电话号码（3位区号-8为本地号，或者4位区号-7位本地号）\n",
    "pattern = re.compile(r'0\\d{2}-\\d{8}|0\\d{3}-\\d{7}')\n",
    "text = '7768777, 0352-8324115, 010-55787876, 12-34567890'\n",
    "re.findall(pattern, text)"
   ]
  },
  {
   "cell_type": "markdown",
   "metadata": {},
   "source": [
    "#### 6. 分组\n",
    "\n",
    "正则表达式使用括号\"()\"实现分组，将其当作一个整体。"
   ]
  },
  {
   "cell_type": "code",
   "execution_count": 3,
   "metadata": {},
   "outputs": [],
   "source": [
    "# 匹配类似www.163.com这样的网址\n",
    "pattern = re.compile(r'((\\w*\\.){2}\\w*)')\n",
    "text = 'www.163.com, 111.222.444'\n",
    "result = re.search(pattern, text)"
   ]
  },
  {
   "cell_type": "code",
   "execution_count": 4,
   "metadata": {},
   "outputs": [
    {
     "data": {
      "text/plain": [
       "'www.163.com'"
      ]
     },
     "execution_count": 4,
     "metadata": {},
     "output_type": "execute_result"
    }
   ],
   "source": [
    "result.group(0)"
   ]
  },
  {
   "cell_type": "markdown",
   "metadata": {},
   "source": [
    "#### 7. 反义\n",
    "\n",
    "有时需要查找除某一类字符集之外的字符，就需要用到反义，如下表所示：\n",
    "\n",
    "元字符|含义\n",
    "-:|-:\n",
    " \\W |匹配任意不是字母、数字、下划线及汉字的字符\n",
    " \\S |匹配任意不是空白字符的字符\n",
    " \\D |匹配任意非数字的字符\n",
    " \\B |匹配不是单词开头或结束的位置\n",
    " `[^a]`|匹配除了a以外的任意字符\n",
    " `[^abcde]`|匹配除了a,b,c,d,e以外的任意字符"
   ]
  },
  {
   "cell_type": "markdown",
   "metadata": {},
   "source": [
    "#### 8. 贪婪模式与懒惰模式\n",
    "\n",
    "总的来说，贪婪模式的核心点就是尽可能多地匹配，而懒惰模式的核心点就是尽可能少地匹配。"
   ]
  },
  {
   "cell_type": "code",
   "execution_count": 60,
   "metadata": {},
   "outputs": [
    {
     "data": {
      "text/plain": [
       "<re.Match object; span=(5, 21), match='php345pythony_py'>"
      ]
     },
     "execution_count": 60,
     "metadata": {},
     "output_type": "execute_result"
    }
   ],
   "source": [
    "pattern = re.compile(r'p.*y') # 贪婪模式\n",
    "text = 'abcdfphp345pythony_py'\n",
    "result = re.search(pattern, text)\n",
    "result"
   ]
  },
  {
   "cell_type": "code",
   "execution_count": 61,
   "metadata": {},
   "outputs": [
    {
     "data": {
      "text/plain": [
       "<re.Match object; span=(5, 13), match='php345py'>"
      ]
     },
     "execution_count": 61,
     "metadata": {},
     "output_type": "execute_result"
    }
   ],
   "source": [
    "pattern = re.compile(r'p.*?y') # 懒惰模式\n",
    "result = re.search(pattern, text)\n",
    "result"
   ]
  },
  {
   "cell_type": "markdown",
   "metadata": {},
   "source": [
    "## 3.2 BeautifulSoup\n",
    "\n",
    "Beautiful Soup是一个可以从HTML或XML文件中提取数据的Python库。它能够实现文档导航和查找等功能。"
   ]
  },
  {
   "cell_type": "code",
   "execution_count": 92,
   "metadata": {},
   "outputs": [],
   "source": [
    "from bs4 import BeautifulSoup\n",
    "import requests\n",
    "\n",
    "url = \"https://www.runoob.com/\"\n",
    "user_agent = 'Mozilla/5.0 (Macintosh;\\\n",
    "Intel Mac OS X 10_13_6) AppleWebKit/537.36 (KHTML, like Gecko) \\\n",
    "Chrome/75.0.3770.100 Safari/537.36'\n",
    "headers = {'User-Agent': user_agent}\n",
    "r = requests.get(url, headers = headers)\n",
    "r.encoding = 'utf-8'\n",
    "soup = BeautifulSoup(r.text, 'lxml')"
   ]
  },
  {
   "cell_type": "code",
   "execution_count": 94,
   "metadata": {},
   "outputs": [],
   "source": [
    "# print(soup.prettify())"
   ]
  },
  {
   "cell_type": "markdown",
   "metadata": {},
   "source": [
    "### 对象种类\n",
    "\n",
    "BeautifulSoup将复杂HTML文档转换为一个复杂的树形结构，每个节点都是Python对象，可归为以下4种：\n",
    "\n",
    "#### Tag对象"
   ]
  },
  {
   "cell_type": "code",
   "execution_count": 95,
   "metadata": {},
   "outputs": [
    {
     "name": "stdout",
     "output_type": "stream",
     "text": [
      "[document]\n"
     ]
    }
   ],
   "source": [
    "print(soup.name)"
   ]
  },
  {
   "cell_type": "code",
   "execution_count": 96,
   "metadata": {},
   "outputs": [
    {
     "name": "stdout",
     "output_type": "stream",
     "text": [
      "title\n"
     ]
    }
   ],
   "source": [
    "print(soup.title.name)"
   ]
  },
  {
   "cell_type": "code",
   "execution_count": 97,
   "metadata": {},
   "outputs": [
    {
     "name": "stdout",
     "output_type": "stream",
     "text": [
      "菜鸟教程 - 学的不仅是技术，更是梦想！\n"
     ]
    }
   ],
   "source": [
    "print(soup.title.text)"
   ]
  },
  {
   "cell_type": "code",
   "execution_count": 98,
   "metadata": {},
   "outputs": [
    {
     "name": "stdout",
     "output_type": "stream",
     "text": [
      "<p>感谢您的支持，我会继续努力的!</p>\n"
     ]
    }
   ],
   "source": [
    "print(soup.p)"
   ]
  },
  {
   "cell_type": "code",
   "execution_count": 99,
   "metadata": {},
   "outputs": [
    {
     "data": {
      "text/plain": [
       "<p>感谢您的支持，我会继续努力的!</p>"
      ]
     },
     "execution_count": 99,
     "metadata": {},
     "output_type": "execute_result"
    }
   ],
   "source": [
    "soup.p"
   ]
  },
  {
   "cell_type": "code",
   "execution_count": 134,
   "metadata": {},
   "outputs": [],
   "source": [
    "# soup.head.contents"
   ]
  },
  {
   "cell_type": "code",
   "execution_count": 105,
   "metadata": {},
   "outputs": [
    {
     "data": {
      "text/plain": [
       "<list_iterator at 0x110518198>"
      ]
     },
     "execution_count": 105,
     "metadata": {},
     "output_type": "execute_result"
    }
   ],
   "source": [
    "soup.head.children"
   ]
  },
  {
   "cell_type": "code",
   "execution_count": 135,
   "metadata": {},
   "outputs": [],
   "source": [
    "#for child in soup.head.children:\n",
    "#    if child!='\\n':\n",
    "#        print(child)"
   ]
  },
  {
   "cell_type": "markdown",
   "metadata": {},
   "source": [
    "#### NavigableString"
   ]
  },
  {
   "cell_type": "code",
   "execution_count": 127,
   "metadata": {},
   "outputs": [
    {
     "data": {
      "text/plain": [
       "bs4.element.NavigableString"
      ]
     },
     "execution_count": 127,
     "metadata": {},
     "output_type": "execute_result"
    }
   ],
   "source": [
    "type(soup.p.string)"
   ]
  },
  {
   "cell_type": "code",
   "execution_count": 128,
   "metadata": {},
   "outputs": [
    {
     "data": {
      "text/plain": [
       "'感谢您的支持，我会继续努力的!'"
      ]
     },
     "execution_count": 128,
     "metadata": {},
     "output_type": "execute_result"
    }
   ],
   "source": [
    "soup.p.string"
   ]
  },
  {
   "cell_type": "code",
   "execution_count": 111,
   "metadata": {},
   "outputs": [],
   "source": [
    "soup.html.string"
   ]
  },
  {
   "cell_type": "code",
   "execution_count": 112,
   "metadata": {},
   "outputs": [
    {
     "data": {
      "text/plain": [
       "<generator object Tag._all_strings at 0x1105058b8>"
      ]
     },
     "execution_count": 112,
     "metadata": {},
     "output_type": "execute_result"
    }
   ],
   "source": [
    "soup.head.strings"
   ]
  },
  {
   "cell_type": "code",
   "execution_count": 136,
   "metadata": {},
   "outputs": [],
   "source": [
    "#for s in soup.strings:\n",
    "#    if s!='\\n':\n",
    "#        print(s.strip())"
   ]
  },
  {
   "cell_type": "code",
   "execution_count": 137,
   "metadata": {},
   "outputs": [],
   "source": [
    "#for s in soup.stripped_strings:\n",
    "#    print(s)"
   ]
  },
  {
   "cell_type": "markdown",
   "metadata": {},
   "source": [
    "#### BeautifulSoup\n",
    "\n",
    "BeautifulSoup对象表示的是文档的全部内容。"
   ]
  },
  {
   "cell_type": "code",
   "execution_count": 129,
   "metadata": {},
   "outputs": [
    {
     "data": {
      "text/plain": [
       "bs4.BeautifulSoup"
      ]
     },
     "execution_count": 129,
     "metadata": {},
     "output_type": "execute_result"
    }
   ],
   "source": [
    "type(soup)"
   ]
  },
  {
   "cell_type": "code",
   "execution_count": 130,
   "metadata": {},
   "outputs": [
    {
     "data": {
      "text/plain": [
       "'[document]'"
      ]
     },
     "execution_count": 130,
     "metadata": {},
     "output_type": "execute_result"
    }
   ],
   "source": [
    "soup.name"
   ]
  },
  {
   "cell_type": "code",
   "execution_count": 119,
   "metadata": {},
   "outputs": [
    {
     "name": "stdout",
     "output_type": "stream",
     "text": [
      "<title>菜鸟教程 - 学的不仅是技术，更是梦想！</title>\n"
     ]
    }
   ],
   "source": [
    "print(soup.title)"
   ]
  },
  {
   "cell_type": "markdown",
   "metadata": {},
   "source": [
    "### 遍历文档树\n",
    "\n",
    "#### 子节点"
   ]
  },
  {
   "cell_type": "code",
   "execution_count": 140,
   "metadata": {},
   "outputs": [],
   "source": [
    "# soup.head.contents"
   ]
  },
  {
   "cell_type": "markdown",
   "metadata": {},
   "source": [
    "#### 父节点"
   ]
  },
  {
   "cell_type": "code",
   "execution_count": 122,
   "metadata": {},
   "outputs": [
    {
     "name": "stdout",
     "output_type": "stream",
     "text": [
      "head\n"
     ]
    }
   ],
   "source": [
    "print(soup.title.parent.name)"
   ]
  },
  {
   "cell_type": "code",
   "execution_count": 124,
   "metadata": {},
   "outputs": [
    {
     "name": "stdout",
     "output_type": "stream",
     "text": [
      "<a href=\"/\">菜鸟教程 -- 学的不仅是技术，更是梦想！</a>\n"
     ]
    }
   ],
   "source": [
    "print(soup.a)"
   ]
  },
  {
   "cell_type": "code",
   "execution_count": 125,
   "metadata": {},
   "outputs": [
    {
     "name": "stdout",
     "output_type": "stream",
     "text": [
      "h1\n",
      "div\n",
      "div\n",
      "div\n",
      "body\n",
      "html\n",
      "[document]\n"
     ]
    }
   ],
   "source": [
    "for parent in soup.a.parents:\n",
    "    if parent is None:\n",
    "        print(parent)\n",
    "    else:\n",
    "        print(parent.name)"
   ]
  },
  {
   "cell_type": "markdown",
   "metadata": {},
   "source": [
    "### 搜索文档树"
   ]
  },
  {
   "cell_type": "code",
   "execution_count": 141,
   "metadata": {},
   "outputs": [
    {
     "name": "stdout",
     "output_type": "stream",
     "text": [
      "Help on method find_all in module bs4.element:\n",
      "\n",
      "find_all(name=None, attrs={}, recursive=True, text=None, limit=None, **kwargs) method of bs4.BeautifulSoup instance\n",
      "    Extracts a list of Tag objects that match the given\n",
      "    criteria.  You can specify the name of the Tag and any\n",
      "    attributes you want the Tag to have.\n",
      "    \n",
      "    The value of a key-value pair in the 'attrs' map can be a\n",
      "    string, a list of strings, a regular expression object, or a\n",
      "    callable that takes a string and returns whether or not the\n",
      "    string matches for some custom definition of 'matches'. The\n",
      "    same is true of the tag name.\n",
      "\n"
     ]
    }
   ],
   "source": [
    "help(soup.find_all)"
   ]
  },
  {
   "cell_type": "markdown",
   "metadata": {},
   "source": [
    "### CSS选择器"
   ]
  },
  {
   "cell_type": "code",
   "execution_count": 142,
   "metadata": {},
   "outputs": [
    {
     "name": "stdout",
     "output_type": "stream",
     "text": [
      "Help on method select in module bs4.element:\n",
      "\n",
      "select(selector, namespaces=None, limit=None, **kwargs) method of bs4.BeautifulSoup instance\n",
      "    Perform a CSS selection operation on the current element.\n",
      "    \n",
      "    This uses the SoupSieve library.\n",
      "    \n",
      "    :param selector: A string containing a CSS selector.\n",
      "    \n",
      "    :param namespaces: A dictionary mapping namespace prefixes\n",
      "    used in the CSS selector to namespace URIs. By default,\n",
      "    Beautiful Soup will use the prefixes it encountered while\n",
      "    parsing the document.\n",
      "    \n",
      "    :param limit: After finding this number of results, stop looking.\n",
      "    \n",
      "    :param kwargs: Any extra arguments you'd like to pass in to\n",
      "    soupsieve.select().\n",
      "\n"
     ]
    }
   ],
   "source": [
    "help(soup.select)"
   ]
  },
  {
   "cell_type": "code",
   "execution_count": 149,
   "metadata": {},
   "outputs": [
    {
     "data": {
      "text/plain": [
       "['【学习 HTML】',\n",
       " '【学习 HTML5】',\n",
       " '【学习 CSS】',\n",
       " '【学习 CSS3】',\n",
       " '【学习 Bootstrap3】',\n",
       " '【学习 Bootstrap4】',\n",
       " '【学习 Font Awesome】',\n",
       " '【学习 Foundation】',\n",
       " '【学习 JavaScript】',\n",
       " '【学习 HTML DOM】',\n",
       " '【学习 jQuery】',\n",
       " '【学习 AngularJS】',\n",
       " '【学习 AngularJS2】',\n",
       " '【学习 Vue.js】',\n",
       " '【学习 React】',\n",
       " '【学习 TypeScript】',\n",
       " '【学习 jQuery UI】',\n",
       " '【学习 jQuery EasyUI 】',\n",
       " '【学习 Node.js】',\n",
       " '【学习 AJAX】',\n",
       " '【学习 JSON】',\n",
       " '【学习 Highcharts】',\n",
       " '【学习 Google 地图】',\n",
       " '【学习 PHP】',\n",
       " '【学习 Python】',\n",
       " '【学习 Python3】',\n",
       " '【学习 Django】',\n",
       " '【学习 Linux】',\n",
       " '【学习 Docker】',\n",
       " '【学习 Ruby】',\n",
       " '【学习 Java】',\n",
       " '【学习 C】',\n",
       " '【学习 C++】',\n",
       " '【学习 Perl】',\n",
       " '【学习 Servlet 】',\n",
       " '【学习 JSP】',\n",
       " '【学习 Lua】',\n",
       " '【学习 Scala】',\n",
       " '【学习 Go】',\n",
       " '【设计模式】',\n",
       " '【正则表达式】',\n",
       " '【学习 Maven】',\n",
       " '【学习 NumPy】',\n",
       " '【学习 ASP】',\n",
       " '【学习 AppML】',\n",
       " '【学习 VBScript】',\n",
       " '【学习 SQL】',\n",
       " '【学习 Mysql】',\n",
       " '【学习 PostgreSQL】',\n",
       " '【学习 SQLite】',\n",
       " '【学习 MongoDB】',\n",
       " '【学习 Redis】',\n",
       " '【学习 Memcached】',\n",
       " '【学习 Android】',\n",
       " '【学习 Swift】',\n",
       " '【学习 jQuery Mobile】',\n",
       " '【学习 ionic】',\n",
       " '【学习 Kotlin】',\n",
       " '【学习 XML】',\n",
       " '【学习 DTD】',\n",
       " '【学习 XML DOM】',\n",
       " '【学习 XSLT】',\n",
       " '【学习 XPath】',\n",
       " '【学习 XQuery】',\n",
       " '【学习 XLink】',\n",
       " '【学习 XPointer】',\n",
       " '【学习 XML Schema】',\n",
       " '【学习 XSL-FO】',\n",
       " '【学习 SVG】',\n",
       " '【学习 ASP.NET】',\n",
       " '【学习 C#】',\n",
       " '【学习 Web Pages】',\n",
       " '【学习 Razor】',\n",
       " '【学习 MVC】',\n",
       " '【学习 Web Forms】',\n",
       " '【学习 Web Service】',\n",
       " '【学习 WSDL】',\n",
       " '【学习 SOAP】',\n",
       " '【学习 RSS】',\n",
       " '【学习 RDF】',\n",
       " '【学习 Eclipse】',\n",
       " '【学习 Git】',\n",
       " '【学习 Svn】',\n",
       " '【学习 Markdown】',\n",
       " '【学习 HTTP】',\n",
       " '【网站建设指南】',\n",
       " '【浏览器信息】',\n",
       " '【网站主机教程】',\n",
       " '【学习 TCP/IP】',\n",
       " '【学习 W3C】',\n",
       " '【网站品质】',\n",
       " 'HTML',\n",
       " 'HTML5',\n",
       " 'CSS',\n",
       " 'CSS3',\n",
       " 'Bootstrap3',\n",
       " 'Bootstrap4',\n",
       " 'Font Awesome',\n",
       " 'Foundation',\n",
       " 'JavaScript',\n",
       " 'HTML DOM',\n",
       " 'jQuery',\n",
       " 'AngularJS',\n",
       " 'AngularJS2',\n",
       " 'Vue.js',\n",
       " 'React',\n",
       " 'TypeScript',\n",
       " 'jQuery UI',\n",
       " 'jQuery EasyUI',\n",
       " 'Node.js',\n",
       " 'AJAX',\n",
       " 'JSON',\n",
       " 'Highcharts',\n",
       " 'Google 地图',\n",
       " 'PHP',\n",
       " 'Python',\n",
       " 'Python3',\n",
       " 'Django',\n",
       " 'Linux',\n",
       " 'Docker',\n",
       " 'Ruby',\n",
       " 'Java',\n",
       " 'C',\n",
       " 'C++',\n",
       " 'Perl',\n",
       " 'Servlet',\n",
       " 'JSP',\n",
       " 'Lua',\n",
       " 'Scala',\n",
       " 'Go',\n",
       " '设计模式',\n",
       " '正则表达式',\n",
       " 'Maven',\n",
       " 'NumPy',\n",
       " 'ASP',\n",
       " 'AppML',\n",
       " 'VBScript',\n",
       " 'SQL',\n",
       " 'Mysql',\n",
       " 'PostgreSQL',\n",
       " 'SQLite',\n",
       " 'MongoDB',\n",
       " 'Redis',\n",
       " 'Memcached',\n",
       " 'Android',\n",
       " 'Swift',\n",
       " 'jQuery Mobile',\n",
       " 'ionic',\n",
       " 'Kotlin',\n",
       " 'XML',\n",
       " 'DTD',\n",
       " 'XML DOM',\n",
       " 'XSLT',\n",
       " 'XPath',\n",
       " 'XQuery',\n",
       " 'XLink',\n",
       " 'XPointer',\n",
       " 'XML Schema',\n",
       " 'XSL-FO',\n",
       " 'SVG',\n",
       " 'ASP.NET',\n",
       " 'C#',\n",
       " 'Web Pages',\n",
       " 'Razor',\n",
       " 'MVC',\n",
       " 'Web Forms',\n",
       " 'Web Service',\n",
       " 'WSDL',\n",
       " 'SOAP',\n",
       " 'RSS',\n",
       " 'RDF',\n",
       " 'Eclipse',\n",
       " 'Git',\n",
       " 'Svn',\n",
       " 'Markdown',\n",
       " 'HTTP',\n",
       " '网站建设指南',\n",
       " '浏览器信息',\n",
       " '网站主机教程',\n",
       " 'TCP/IP',\n",
       " 'W3C',\n",
       " '网站品质']"
      ]
     },
     "execution_count": 149,
     "metadata": {},
     "output_type": "execute_result"
    }
   ],
   "source": [
    "links = soup.select('a.item-top.item-1')\n",
    "[link.h4.text.strip() for link in links]"
   ]
  },
  {
   "cell_type": "markdown",
   "metadata": {},
   "source": [
    "## 3.3 lxml的XPath解析\n",
    "\n",
    "BeautifulSoup可以将lxml作为默认的解析器使用，同样lxml可以单独使用。\n",
    "区别：\n",
    "1. BeautifulSoup和lxml的原理不同，前者基于DOM的，会载入整个文档，解析整个DOM树，因此时间和内存开销较大。lxml使用XPath技术查询和处理HTML/XML，只进行局部遍历，速度较快，不过当前者使用lxml作为默认解析库时，二者性能差别不大。\n",
    "2. BeautifulSoup使用简单，API人性化，支持CSS选择器，适合新手。lxml的XPath写起来比较麻烦，开发效率不如前者。"
   ]
  },
  {
   "cell_type": "code",
   "execution_count": 150,
   "metadata": {},
   "outputs": [],
   "source": [
    "from lxml import etree"
   ]
  },
  {
   "cell_type": "code",
   "execution_count": 151,
   "metadata": {},
   "outputs": [],
   "source": [
    "html = etree.HTML(r.text)"
   ]
  },
  {
   "cell_type": "code",
   "execution_count": 152,
   "metadata": {},
   "outputs": [
    {
     "data": {
      "text/plain": [
       "<Element html at 0x11052cb08>"
      ]
     },
     "execution_count": 152,
     "metadata": {},
     "output_type": "execute_result"
    }
   ],
   "source": [
    "html"
   ]
  },
  {
   "cell_type": "code",
   "execution_count": 163,
   "metadata": {},
   "outputs": [],
   "source": [
    "result = etree.tostring(html, encoding=\"utf-8\", pretty_print=True)\n",
    "#help(etree.tostring)"
   ]
  },
  {
   "cell_type": "code",
   "execution_count": 166,
   "metadata": {},
   "outputs": [],
   "source": [
    "# print(result.decode('utf-8'))"
   ]
  },
  {
   "cell_type": "code",
   "execution_count": 181,
   "metadata": {},
   "outputs": [
    {
     "name": "stdout",
     "output_type": "stream",
     "text": [
      "//www.runoob.com/html/html-tutorial.html\n",
      "//www.runoob.com/html/html5-intro.html\n",
      "//www.runoob.com/css/css-tutorial.html\n",
      "//www.runoob.com/css3/css3-tutorial.html\n",
      "//www.runoob.com/bootstrap/bootstrap-tutorial.html\n",
      "//www.runoob.com/bootstrap4/bootstrap4-tutorial.html\n",
      "//www.runoob.com/font-awesome/fontawesome-tutorial.html\n",
      "//www.runoob.com/foundation/foundation-tutorial.html\n",
      "//www.runoob.com/js/js-tutorial.html\n",
      "//www.runoob.com/htmldom/htmldom-tutorial.html\n",
      "//www.runoob.com/jquery/jquery-tutorial.html\n",
      "//www.runoob.com/angularjs/angularjs-tutorial.html\n",
      "//www.runoob.com/angularjs2/angularjs2-tutorial.html\n",
      "//www.runoob.com/vue2/vue-tutorial.html\n",
      "//www.runoob.com/react/react-tutorial.html\n",
      "//www.runoob.com/typescript/ts-tutorial.html\n",
      "//www.runoob.com/jqueryui/jqueryui-tutorial.html\n",
      "//www.runoob.com/jeasyui/jqueryeasyui-tutorial.html\n",
      "//www.runoob.com/nodejs/nodejs-tutorial.html\n",
      "//www.runoob.com/ajax/ajax-tutorial.html\n",
      "//www.runoob.com/json/json-tutorial.html\n",
      "//www.runoob.com/highcharts/highcharts-tutorial.html\n",
      "//www.runoob.com/googleapi/google-maps-basic.html\n",
      "//www.runoob.com/php/php-tutorial.html\n",
      "//www.runoob.com/python/python-tutorial.html\n",
      "//www.runoob.com/python3/python3-tutorial.html\n",
      "//www.runoob.com/django/django-tutorial.html\n",
      "//www.runoob.com/linux/linux-tutorial.html\n",
      "//www.runoob.com/docker/docker-tutorial.html\n",
      "//www.runoob.com/ruby/ruby-tutorial.html\n",
      "//www.runoob.com/java/java-tutorial.html\n",
      "//www.runoob.com/c/c-tutorial.html\n",
      "//www.runoob.com/cplusplus/cpp-tutorial.html\n",
      "//www.runoob.com/perl/perl-tutorial.html\n",
      "//www.runoob.com/servlet/servlet-tutorial.html\n",
      "//www.runoob.com/jsp/jsp-tutorial.html\n",
      "//www.runoob.com/lua/lua-tutorial.html\n",
      "//www.runoob.com/scala/scala-tutorial.html\n",
      "//www.runoob.com/go/go-tutorial.html\n",
      "//www.runoob.com/design-pattern/design-pattern-tutorial.html\n",
      "//www.runoob.com/regexp/regexp-tutorial.html\n",
      "//www.runoob.com/maven/maven-tutorial.html\n",
      "//www.runoob.com/numpy/numpy-tutorial.html\n",
      "//www.runoob.com/asp/asp-tutorial.html\n",
      "//www.runoob.com/appml/appml-tutorial.html\n",
      "//www.runoob.com/vbscript/vbscript-tutorial.html\n",
      "//www.runoob.com/sql/sql-tutorial.html\n",
      "//www.runoob.com/mysql/mysql-tutorial.html\n",
      "//www.runoob.com/postgresql/postgresql-tutorial.html\n",
      "//www.runoob.com/sqlite/sqlite-tutorial.html\n",
      "//www.runoob.com/mongodb/mongodb-tutorial.html\n",
      "//www.runoob.com/redis/redis-tutorial.html\n",
      "//www.runoob.com/Memcached/Memcached-tutorial.html\n",
      "//www.runoob.com/w3cnote/android-tutorial-intro.html\n",
      "//www.runoob.com/swift/swift-tutorial.html\n",
      "//www.runoob.com/jquerymobile/jquerymobile-tutorial.html\n",
      "//www.runoob.com/ionic/ionic-tutorial.html\n",
      "//www.runoob.com/kotlin/kotlin-tutorial.html\n",
      "//www.runoob.com/xml/xml-tutorial.html\n",
      "//www.runoob.com/dtd/dtd-tutorial.html\n",
      "//www.runoob.com/dom/dom-tutorial.html\n",
      "//www.runoob.com/xsl/xsl-tutorial.html\n",
      "//www.runoob.com/xpath/xpath-tutorial.html\n",
      "//www.runoob.com/xquery/xquery-tutorial.html\n",
      "//www.runoob.com/xlink/xlink-tutorial.html\n",
      "//www.runoob.com/xlink/xlink-tutorial.html\n",
      "//www.runoob.com/schema/schema-tutorial.html\n",
      "//www.runoob.com/xslfo/xslfo-tutorial.html\n",
      "//www.runoob.com/svg/svg-tutorial.html\n",
      "//www.runoob.com/aspnet/aspnet-tutorial.html\n",
      "//www.runoob.com/csharp/csharp-tutorial.html\n",
      "//www.runoob.com/aspnet/webpages-intro.html\n",
      "//www.runoob.com/aspnet/razor-intro.html\n",
      "//www.runoob.com/aspnet/mvc-intro.html\n",
      "//www.runoob.com/aspnet/aspnet-intro.html\n",
      "//www.runoob.com/webservices/webservices-tutorial.html\n",
      "//www.runoob.com/wsdl/wsdl-tutorial.html\n",
      "//www.runoob.com/soap/soap-tutorial.html\n",
      "//www.runoob.com/rss/rss-tutorial.html\n",
      "//www.runoob.com/rdf/rdf-tutorial.html\n",
      "//www.runoob.com/eclipse/eclipse-tutorial.html\n",
      "//www.runoob.com/git/git-tutorial.html\n",
      "//www.runoob.com/svn/svn-tutorial.html\n",
      "//www.runoob.com/markdown/md-tutorial.html\n",
      "//www.runoob.com/http/http-tutorial.html\n",
      "//www.runoob.com/web/web-buildingprimer.html\n",
      "//www.runoob.com/browsers/browser-information.html\n",
      "//www.runoob.com/hosting/hosting-tutorial.html\n",
      "//www.runoob.com/tcpip/tcpip-tutorial.html\n",
      "//www.runoob.com/w3c/w3c-tutorial.html\n",
      "//www.runoob.com/quality/quality-tutorial.html\n",
      "//www.runoob.com/html/html-tutorial.html\n",
      "//www.runoob.com/html/html5-intro.html\n",
      "//www.runoob.com/css/css-tutorial.html\n",
      "//www.runoob.com/css3/css3-tutorial.html\n",
      "//www.runoob.com/bootstrap/bootstrap-tutorial.html\n",
      "//www.runoob.com/bootstrap4/bootstrap4-tutorial.html\n",
      "//www.runoob.com/font-awesome/fontawesome-tutorial.html\n",
      "//www.runoob.com/foundation/foundation-tutorial.html\n",
      "//www.runoob.com/js/js-tutorial.html\n",
      "//www.runoob.com/htmldom/htmldom-tutorial.html\n",
      "//www.runoob.com/jquery/jquery-tutorial.html\n",
      "//www.runoob.com/angularjs/angularjs-tutorial.html\n",
      "//www.runoob.com/angularjs2/angularjs2-tutorial.html\n",
      "//www.runoob.com/vue2/vue-tutorial.html\n",
      "//www.runoob.com/react/react-tutorial.html\n",
      "//www.runoob.com/typescript/ts-tutorial.html\n",
      "//www.runoob.com/jqueryui/jqueryui-tutorial.html\n",
      "//www.runoob.com/jeasyui/jqueryeasyui-tutorial.html\n",
      "//www.runoob.com/nodejs/nodejs-tutorial.html\n",
      "//www.runoob.com/ajax/ajax-tutorial.html\n",
      "//www.runoob.com/json/json-tutorial.html\n",
      "//www.runoob.com/highcharts/highcharts-tutorial.html\n",
      "//www.runoob.com/googleapi/google-maps-basic.html\n",
      "//www.runoob.com/php/php-tutorial.html\n",
      "//www.runoob.com/python/python-tutorial.html\n",
      "//www.runoob.com/python3/python3-tutorial.html\n",
      "//www.runoob.com/django/django-tutorial.html\n",
      "//www.runoob.com/linux/linux-tutorial.html\n",
      "//www.runoob.com/docker/docker-tutorial.html\n",
      "//www.runoob.com/ruby/ruby-tutorial.html\n",
      "//www.runoob.com/java/java-tutorial.html\n",
      "//www.runoob.com/c/c-tutorial.html\n",
      "//www.runoob.com/cplusplus/cpp-tutorial.html\n",
      "//www.runoob.com/perl/perl-tutorial.html\n",
      "//www.runoob.com/servlet/servlet-tutorial.html\n",
      "//www.runoob.com/jsp/jsp-tutorial.html\n",
      "//www.runoob.com/lua/lua-tutorial.html\n",
      "//www.runoob.com/scala/scala-tutorial.html\n",
      "//www.runoob.com/go/go-tutorial.html\n",
      "//www.runoob.com/design-pattern/design-pattern-tutorial.html\n",
      "//www.runoob.com/regexp/regexp-tutorial.html\n",
      "//www.runoob.com/maven/maven-tutorial.html\n",
      "//www.runoob.com/numpy/numpy-tutorial.html\n",
      "//www.runoob.com/asp/asp-tutorial.html\n",
      "//www.runoob.com/appml/appml-tutorial.html\n",
      "//www.runoob.com/vbscript/vbscript-tutorial.html\n",
      "//www.runoob.com/sql/sql-tutorial.html\n",
      "//www.runoob.com/mysql/mysql-tutorial.html\n",
      "//www.runoob.com/postgresql/postgresql-tutorial.html\n",
      "//www.runoob.com/sqlite/sqlite-tutorial.html\n",
      "//www.runoob.com/mongodb/mongodb-tutorial.html\n",
      "//www.runoob.com/redis/redis-tutorial.html\n",
      "//www.runoob.com/Memcached/Memcached-tutorial.html\n",
      "//www.runoob.com/w3cnote/android-tutorial-intro.html\n",
      "//www.runoob.com/swift/swift-tutorial.html\n",
      "//www.runoob.com/jquerymobile/jquerymobile-tutorial.html\n",
      "//www.runoob.com/ionic/ionic-tutorial.html\n",
      "//www.runoob.com/kotlin/kotlin-tutorial.html\n",
      "//www.runoob.com/xml/xml-tutorial.html\n",
      "//www.runoob.com/dtd/dtd-tutorial.html\n",
      "//www.runoob.com/dom/dom-tutorial.html\n",
      "//www.runoob.com/xsl/xsl-tutorial.html\n",
      "//www.runoob.com/xpath/xpath-tutorial.html\n",
      "//www.runoob.com/xquery/xquery-tutorial.html\n",
      "//www.runoob.com/xlink/xlink-tutorial.html\n",
      "//www.runoob.com/xlink/xlink-tutorial.html\n",
      "//www.runoob.com/schema/schema-tutorial.html\n",
      "//www.runoob.com/xslfo/xslfo-tutorial.html\n",
      "//www.runoob.com/svg/svg-tutorial.html\n",
      "//www.runoob.com/aspnet/aspnet-tutorial.html\n",
      "//www.runoob.com/csharp/csharp-tutorial.html\n",
      "//www.runoob.com/aspnet/webpages-intro.html\n",
      "//www.runoob.com/aspnet/razor-intro.html\n",
      "//www.runoob.com/aspnet/mvc-intro.html\n",
      "//www.runoob.com/aspnet/aspnet-intro.html\n",
      "//www.runoob.com/webservices/webservices-tutorial.html\n",
      "//www.runoob.com/wsdl/wsdl-tutorial.html\n",
      "//www.runoob.com/soap/soap-tutorial.html\n",
      "//www.runoob.com/rss/rss-tutorial.html\n",
      "//www.runoob.com/rdf/rdf-tutorial.html\n",
      "//www.runoob.com/eclipse/eclipse-tutorial.html\n",
      "//www.runoob.com/git/git-tutorial.html\n",
      "//www.runoob.com/svn/svn-tutorial.html\n",
      "//www.runoob.com/markdown/md-tutorial.html\n",
      "//www.runoob.com/http/http-tutorial.html\n",
      "//www.runoob.com/web/web-buildingprimer.html\n",
      "//www.runoob.com/browsers/browser-information.html\n",
      "//www.runoob.com/hosting/hosting-tutorial.html\n",
      "//www.runoob.com/tcpip/tcpip-tutorial.html\n",
      "//www.runoob.com/w3c/w3c-tutorial.html\n",
      "//www.runoob.com/quality/quality-tutorial.html\n"
     ]
    }
   ],
   "source": [
    "links = html.xpath('.//a[@class=\"item-top item-1\"]')\n",
    "#help(links[0])\n",
    "for link in links:\n",
    "    print(link.get('href'))"
   ]
  },
  {
   "cell_type": "code",
   "execution_count": null,
   "metadata": {},
   "outputs": [],
   "source": []
  }
 ],
 "metadata": {
  "kernelspec": {
   "display_name": "Python 3",
   "language": "python",
   "name": "python3"
  },
  "language_info": {
   "codemirror_mode": {
    "name": "ipython",
    "version": 3
   },
   "file_extension": ".py",
   "mimetype": "text/x-python",
   "name": "python",
   "nbconvert_exporter": "python",
   "pygments_lexer": "ipython3",
   "version": "3.7.6"
  }
 },
 "nbformat": 4,
 "nbformat_minor": 4
}
