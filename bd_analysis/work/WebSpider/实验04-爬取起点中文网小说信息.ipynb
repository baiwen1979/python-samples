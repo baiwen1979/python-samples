{
 "cells": [
  {
   "cell_type": "markdown",
   "metadata": {},
   "source": [
    "# 实验4 基础爬虫实验\n",
    "\n",
    "##  爬取起点中文网小说信息\n",
    "\n",
    "### 1. 实验目的\n",
    "\n",
    "1. 熟悉requests和lxml库的基本用法\n",
    "2. 掌握爬虫程序的开发流程\n",
    "3. 掌握如何使用requests抓取网页内容\n",
    "4. 掌握如何使用lxml库解析HTML，采集目标数据\n",
    "5. 掌握如何利用分页规律生成分页网址并抓取多页内容\n",
    "6. 掌握如何爬取进入详细页面的链接网址，进而爬取详细页面中的目标数据\n",
    "7. 掌握如何将爬取到的数据保存为Excel文件\n",
    "\n",
    "### 2. 实验内容：\n",
    "\n",
    "本实验爬取的内容为[起点中文网](http://a.qidian.com/)前100页的作品信息\n",
    "\n",
    "(1) 此站的分页规律如下（共100页）：\n",
    "\n",
    "1. http://a.qidian.com/?page=1\n",
    "2. http://a.qidian.com/?page=2\n",
    "3. http://a.qidian.com/?page=3\n",
    "4. http://a.qidian.com/?page=4\n",
    "5. http://a.qidian.com/?page=5\n",
    "\n",
    "(2) 利用此分页规律爬取各分页中的作品信息。\n",
    "\n",
    "(3) 需要爬取的信息有：小说名、作者ID、小说类型、完成情况、摘要和字数。如下图所示：\n",
    "\n",
    "![需获取的网页信息](images/qidian.jpeg)\n",
    "\n",
    "(4) 将爬取到的小说信息存储到名为qidian.xls文件中（使用第三方库xlwt）\n",
    "\n",
    "### 3. 实验代码"
   ]
  },
  {
   "cell_type": "code",
   "execution_count": 4,
   "metadata": {},
   "outputs": [],
   "source": [
    "# 请从此单元格开始编写爬虫程序"
   ]
  },
  {
   "cell_type": "markdown",
   "metadata": {},
   "source": [
    "### 4. 代码分析\n",
    "\n",
    "请在此处编写实验分析（双击编辑）"
   ]
  },
  {
   "cell_type": "markdown",
   "metadata": {},
   "source": [
    "### 5. 实验总结\n",
    "\n",
    "请在此处编写实验总结（双击编辑）"
   ]
  },
  {
   "cell_type": "code",
   "execution_count": null,
   "metadata": {},
   "outputs": [],
   "source": []
  }
 ],
 "metadata": {
  "kernelspec": {
   "display_name": "Python 3",
   "language": "python",
   "name": "python3"
  },
  "language_info": {
   "codemirror_mode": {
    "name": "ipython",
    "version": 3
   },
   "file_extension": ".py",
   "mimetype": "text/x-python",
   "name": "python",
   "nbconvert_exporter": "python",
   "pygments_lexer": "ipython3",
   "version": "3.7.6"
  }
 },
 "nbformat": 4,
 "nbformat_minor": 4
}
