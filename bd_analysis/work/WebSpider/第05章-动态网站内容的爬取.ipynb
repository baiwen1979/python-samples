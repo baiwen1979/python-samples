{
 "cells": [
  {
   "cell_type": "markdown",
   "metadata": {},
   "source": [
    "# 05 动态网站抓取\n",
    "\n",
    "内容导航：\n",
    "\n",
    "1. Ajax和动态HTML\n",
    "2. 动态爬虫1 - 爬取影评信息\n",
    "3. Selenium\n",
    "4. 动态爬虫2 - 爬取去哪网\n",
    "5. PhantomJS*"
   ]
  },
  {
   "cell_type": "markdown",
   "metadata": {},
   "source": [
    "## 5.1 Ajax和动态HTML\n",
    "\n",
    "### Ajax\n",
    "\n",
    "Ajax 即 Asynchronous JavaScript and XML，异步JS和XML，是基于JS的异步加载技术、XML（JSON）、DOM等技术的组合。使用Ajax技术无需刷新整个页面，只需对页面的局部更新，后台取回数据，减少了客户端（浏览器）和服务器之间的数据传输量，访问速度和用户体验得到提升。\n",
    "\n",
    "### DHTML\n",
    "\n",
    "DHTML是Dynamic HTML的简称，即动态HTML，是相对传统静态HTML而言的一种页面生成技术，也就是使用JavaScript和DOM，实现对页面内容的动态更新。\n",
    "\n",
    "**如何爬取动态数据？**， 一般有两种做法：\n",
    "\n",
    "1. 直接从JS中采集加载的数据\n",
    "2. 直接采集浏览器中已经加载好的数据\n"
   ]
  },
  {
   "cell_type": "markdown",
   "metadata": {},
   "source": [
    "## 5.2 动态爬虫1 - 爬取影评信息\n",
    "\n",
    "下面以[MTime电影网发现频道《蜘蛛侠：英雄远征》](http://movie.mtime.com/238037/)为例介绍从JS中采集加载数据的方法：\n",
    "1.使用浏览器的“开发者工具”进行分析。通过分析，在Network->JS分类中，找到包含Ajax字样的字符串，找到请求参数为：\n",
    "\n",
    "http://service.library.mtime.com/Movie.api?Ajax_CallBack=true&Ajax_CallBackType=Mtime.Library.Services&Ajax_CallBackMethod=GetMovieOverviewRating&Ajax_CrossDomain=1&Ajax_RequestUrl=http%3A%2F%2Fmovie.mtime.com%2F238037%2F&t=201988233208252&Ajax_CallBackArgument0=238037\n",
    "\n",
    "对应的评分和票房信息（使用json.loads反序列化为字典）为："
   ]
  },
  {
   "cell_type": "code",
   "execution_count": 1,
   "metadata": {},
   "outputs": [
    {
     "data": {
      "text/plain": [
       "{'value': {'isRelease': True,\n",
       "  'movieRating': {'MovieId': 238037,\n",
       "   'RatingFinal': 7.8,\n",
       "   'RDirectorFinal': 7.4,\n",
       "   'ROtherFinal': 7.6,\n",
       "   'RPictureFinal': 8.4,\n",
       "   'RShowFinal': 0,\n",
       "   'RStoryFinal': 7.3,\n",
       "   'RTotalFinal': 0,\n",
       "   'Usercount': 2565,\n",
       "   'AttitudeCount': 5046,\n",
       "   'UserId': 0,\n",
       "   'EnterTime': 0,\n",
       "   'JustTotal': 0,\n",
       "   'RatingCount': 0,\n",
       "   'TitleCn': '',\n",
       "   'TitleEn': '',\n",
       "   'Year': '',\n",
       "   'IP': 0},\n",
       "  'movieTitle': '蜘蛛侠：英雄远征',\n",
       "  'tweetId': 0,\n",
       "  'userLastComment': '',\n",
       "  'userLastCommentUrl': '',\n",
       "  'releaseType': 1,\n",
       "  'boxOffice': {'Rank': 17,\n",
       "   'TotalBoxOffice': '13.80',\n",
       "   'TotalBoxOfficeUnit': '亿',\n",
       "   'TodayBoxOffice': '7.5',\n",
       "   'TodayBoxOfficeUnit': '万',\n",
       "   'ShowDays': 42,\n",
       "   'EndDate': '2019-08-08 23:30',\n",
       "   'FirstDayBoxOffice': '2.17',\n",
       "   'FirstDayBoxOfficeUnit': '亿'}},\n",
       " 'error': None}"
      ]
     },
     "execution_count": 1,
     "metadata": {},
     "output_type": "execute_result"
    }
   ],
   "source": [
    "import json\n",
    "\n",
    "movie_info = json.loads('{\"value\":{\"isRelease\":true,\"movieRating\":{\"MovieId\":238037,\"RatingFinal\":7.8,\"RDirectorFinal\":7.4,\"ROtherFinal\":7.6,\"RPictureFinal\":8.4,\"RShowFinal\":0,\"RStoryFinal\":7.3,\"RTotalFinal\":0,\"Usercount\":2565,\"AttitudeCount\":5046,\"UserId\":0,\"EnterTime\":0,\"JustTotal\":0,\"RatingCount\":0,\"TitleCn\":\"\",\"TitleEn\":\"\",\"Year\":\"\",\"IP\":0},\"movieTitle\":\"蜘蛛侠：英雄远征\",\"tweetId\":0,\"userLastComment\":\"\",\"userLastCommentUrl\":\"\",\"releaseType\":1,\"boxOffice\":{\"Rank\":17,\"TotalBoxOffice\":\"13.80\",\"TotalBoxOfficeUnit\":\"亿\",\"TodayBoxOffice\":\"7.5\",\"TodayBoxOfficeUnit\":\"万\",\"ShowDays\":42,\"EndDate\":\"2019-08-08 23:30\",\"FirstDayBoxOffice\":\"2.17\",\"FirstDayBoxOfficeUnit\":\"亿\"}},\"error\":null}')\n",
    "movie_info"
   ]
  },
  {
   "cell_type": "code",
   "execution_count": 2,
   "metadata": {},
   "outputs": [],
   "source": [
    "from myspider import HtmlDownloader\n",
    "\n",
    "downloader = HtmlDownloader()\n",
    "url = 'http://service.library.mtime.com/Movie.api?Ajax_CallBack=true&Ajax_CallBackType=Mtime.Library.Services&Ajax_CallBackMethod=GetMovieOverviewRating&Ajax_CrossDomain=1&Ajax_RequestUrl=http%3A%2F%2Fmovie.mtime.com%2F238037%2F&t=201988233208252&Ajax_CallBackArgument0=238037'\n",
    "response = downloader.download(url)"
   ]
  },
  {
   "cell_type": "code",
   "execution_count": 3,
   "metadata": {},
   "outputs": [
    {
     "data": {
      "text/plain": [
       "{'Rank': 28,\n",
       " 'TotalBoxOffice': '13.80',\n",
       " 'TotalBoxOfficeUnit': '亿',\n",
       " 'TodayBoxOffice': '0.8',\n",
       " 'TodayBoxOfficeUnit': '万',\n",
       " 'ShowDays': 43,\n",
       " 'EndDate': '2019-08-09 09:45',\n",
       " 'FirstDayBoxOffice': '2.17',\n",
       " 'FirstDayBoxOfficeUnit': '亿'}"
      ]
     },
     "execution_count": 3,
     "metadata": {},
     "output_type": "execute_result"
    }
   ],
   "source": [
    "import re\n",
    "pattern = re.compile(r'=(.*?);')\n",
    "result = re.findall(pattern, response)[0]\n",
    "\n",
    "value = json.loads(result)\n",
    "value = value.get('value').get('boxOffice')\n",
    "value"
   ]
  },
  {
   "cell_type": "markdown",
   "metadata": {},
   "source": [
    "## 5.3 Selenium\n",
    "\n",
    "上述分析Ajax请求的方法需要手工分析每个Ajax请求，这是一项非常繁重的工作，没有一定的JS功底，难以做到。而且有时请求参数是加密的，这使得手工分析几乎不可能。此时就需要第二种方法，好处就是直接提取浏览器渲染好的结果，无需进行Ajax请求分析。\n",
    "\n",
    "### Selenium介绍\n",
    "\n",
    "如何在Python程序中驱动浏览器从渲染好的页面中爬取数据呢？那就是使用可以模拟人与浏览器自动进行交互的程序。其中Selenium就是这样一款工具，此工具可以控制各种主流浏览器（如Chrome、Safari、Firefox），并且支持各种语言和平台。\n",
    "\n",
    "### Selenium的安装\n",
    "\n",
    "```\n",
    "pip install selenium==3.01\n",
    "```\n",
    "\n",
    "除了Python库，还要安装浏览器驱动，不同浏览器需安装不同的驱动，如Chrome浏览器的驱动为chromedriver"
   ]
  },
  {
   "cell_type": "code",
   "execution_count": 4,
   "metadata": {},
   "outputs": [
    {
     "name": "stdout",
     "output_type": "stream",
     "text": [
      "Requirement already satisfied: selenium in /anaconda3/lib/python3.7/site-packages (3.141.0)\n",
      "Requirement already satisfied: urllib3 in /anaconda3/lib/python3.7/site-packages (from selenium) (1.24.1)\n"
     ]
    }
   ],
   "source": [
    "!pip install selenium"
   ]
  },
  {
   "cell_type": "code",
   "execution_count": 2,
   "metadata": {},
   "outputs": [
    {
     "name": "stdout",
     "output_type": "stream",
     "text": [
      "Name: selenium\n",
      "Version: 3.141.0\n",
      "Summary: Python bindings for Selenium\n",
      "Home-page: https://github.com/SeleniumHQ/selenium/\n",
      "Author: UNKNOWN\n",
      "Author-email: UNKNOWN\n",
      "License: Apache 2.0\n",
      "Location: /anaconda3/lib/python3.7/site-packages\n",
      "Requires: urllib3\n",
      "Required-by: \n"
     ]
    }
   ],
   "source": [
    "!pip show selenium"
   ]
  },
  {
   "cell_type": "markdown",
   "metadata": {},
   "source": [
    "### 快速入门\n",
    "\n",
    "代码示例："
   ]
  },
  {
   "cell_type": "code",
   "execution_count": 65,
   "metadata": {},
   "outputs": [],
   "source": [
    "from selenium import webdriver\n",
    "from selenium.webdriver.common.keys import Keys\n",
    "\n",
    "import time\n",
    "\n",
    "driver = webdriver.Chrome()\n",
    "driver.get('http://www.baidu.com')\n",
    "elem = driver.find_element_by_name('wd')\n",
    "time.sleep(3)\n",
    "elem.clear()\n",
    "elem.send_keys(u'网络爬虫')\n",
    "elem.send_keys(Keys.RETURN)"
   ]
  },
  {
   "cell_type": "markdown",
   "metadata": {},
   "source": [
    "### 元素选取\n",
    "\n",
    "元素选取方法如下表所示：\n",
    "\n",
    "![Selenium元素选取方法](images/selenium_selector.jpeg)\n",
    "\n",
    "更通用的方法：\n",
    "\n",
    "* find_element\n",
    "* find_elements"
   ]
  },
  {
   "cell_type": "code",
   "execution_count": 66,
   "metadata": {},
   "outputs": [],
   "source": [
    "from selenium.webdriver.common.by import By\n",
    "\n",
    "elem = driver.find_element(By.XPATH, '//*[@id=\"kw\"]')\n",
    "elem.clear()\n",
    "elem.send_keys(u'selenium')\n",
    "elem.send_keys(Keys.RETURN)"
   ]
  },
  {
   "cell_type": "markdown",
   "metadata": {},
   "source": [
    "## 动态爬虫2 - 爬取去哪网"
   ]
  },
  {
   "cell_type": "code",
   "execution_count": 69,
   "metadata": {},
   "outputs": [],
   "source": [
    "url = 'https://hotel.qunar.com/'\n",
    "driver.get(url)\n",
    "driver.maximize_window()\n",
    "driver.implicitly_wait(10)"
   ]
  },
  {
   "cell_type": "code",
   "execution_count": 70,
   "metadata": {},
   "outputs": [],
   "source": [
    "# 定位要操作的网页元素\n",
    "elem_to_city = driver.find_element(By.NAME, 'toCity')\n",
    "elem_search = driver.find_element(By.CLASS_NAME, 'search-button')\n",
    "\n",
    "elem_to_city.clear()\n",
    "elem_to_city.send_keys(u'太原')\n",
    "\n",
    "elem_search.click()"
   ]
  },
  {
   "cell_type": "code",
   "execution_count": 72,
   "metadata": {},
   "outputs": [],
   "source": [
    "js = 'window.scrollTo(0, document.body.scrollHeight);'\n",
    "driver.execute_script(js)"
   ]
  },
  {
   "cell_type": "code",
   "execution_count": 73,
   "metadata": {},
   "outputs": [],
   "source": [
    "next_page = driver.find_element(By.XPATH, '//*[@id=\"searchHotelPanel\"]/div[6]/div[1]/div/ul/li[10]/a')\n",
    "next_page.click()"
   ]
  },
  {
   "cell_type": "code",
   "execution_count": 74,
   "metadata": {},
   "outputs": [
    {
     "data": {
      "text/plain": [
       "462884"
      ]
     },
     "execution_count": 74,
     "metadata": {},
     "output_type": "execute_result"
    }
   ],
   "source": [
    "len(driver.page_source)"
   ]
  },
  {
   "cell_type": "code",
   "execution_count": 60,
   "metadata": {},
   "outputs": [],
   "source": [
    "from selenium.webdriver.support.ui import WebDriverWait\n",
    "from selenium.webdriver.support import expected_conditions as EC"
   ]
  }
 ],
 "metadata": {
  "kernelspec": {
   "display_name": "Python 3",
   "language": "python",
   "name": "python3"
  },
  "language_info": {
   "codemirror_mode": {
    "name": "ipython",
    "version": 3
   },
   "file_extension": ".py",
   "mimetype": "text/x-python",
   "name": "python",
   "nbconvert_exporter": "python",
   "pygments_lexer": "ipython3",
   "version": "3.7.6"
  }
 },
 "nbformat": 4,
 "nbformat_minor": 4
}
