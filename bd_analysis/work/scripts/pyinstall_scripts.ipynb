{
 "cells": [
  {
   "cell_type": "code",
   "execution_count": 1,
   "metadata": {},
   "outputs": [
    {
     "name": "stdout",
     "output_type": "stream",
     "text": [
      "Package              Version\n",
      "-------------------- -------\n",
      "absl-py              0.7.1  \n",
      "asn1crypto           0.24.0 \n",
      "astor                0.8.0  \n",
      "attrs                19.1.0 \n",
      "backcall             0.1.0  \n",
      "bleach               3.1.0  \n",
      "cryptography         2.1.4  \n",
      "cycler               0.10.0 \n",
      "decorator            4.4.0  \n",
      "defusedxml           0.6.0  \n",
      "entrypoints          0.3    \n",
      "enum34               1.1.6  \n",
      "gast                 0.2.2  \n",
      "google-pasta         0.1.7  \n",
      "grpcio               1.21.1 \n",
      "h5py                 2.9.0  \n",
      "idna                 2.6    \n",
      "ipykernel            5.1.1  \n",
      "ipython              7.5.0  \n",
      "ipython-genutils     0.2.0  \n",
      "ipywidgets           7.4.2  \n",
      "jedi                 0.13.3 \n",
      "Jinja2               2.10.1 \n",
      "jsonschema           3.0.1  \n",
      "jupyter              1.0.0  \n",
      "jupyter-client       5.2.4  \n",
      "jupyter-console      6.0.0  \n",
      "jupyter-core         4.5.0  \n",
      "jupyter-http-over-ws 0.0.6  \n",
      "Keras-Applications   1.0.8  \n",
      "Keras-Preprocessing  1.1.0  \n",
      "keyring              10.6.0 \n",
      "keyrings.alt         3.0    \n",
      "kiwisolver           1.1.0  \n",
      "Markdown             3.1.1  \n",
      "MarkupSafe           1.1.1  \n",
      "matplotlib           3.1.0  \n",
      "mistune              0.8.4  \n",
      "nbconvert            5.5.0  \n",
      "nbformat             4.4.0  \n",
      "notebook             5.7.8  \n",
      "numpy                1.16.4 \n",
      "pandocfilters        1.4.2  \n",
      "parso                0.4.0  \n",
      "pexpect              4.7.0  \n",
      "pickleshare          0.7.5  \n",
      "pip                  19.1.1 \n",
      "prometheus-client    0.7.1  \n",
      "prompt-toolkit       2.0.9  \n",
      "protobuf             3.8.0  \n",
      "ptyprocess           0.6.0  \n",
      "pycrypto             2.6.1  \n",
      "Pygments             2.4.2  \n",
      "pygobject            3.26.1 \n",
      "pyparsing            2.4.0  \n",
      "pyrsistent           0.15.2 \n",
      "python-dateutil      2.8.0  \n",
      "pyxdg                0.25   \n",
      "pyzmq                18.0.1 \n",
      "qtconsole            4.5.1  \n",
      "SecretStorage        2.3.1  \n",
      "Send2Trash           1.5.0  \n",
      "setuptools           41.0.1 \n",
      "six                  1.11.0 \n",
      "tensorboard          1.14.0 \n",
      "tensorflow           1.14.0 \n",
      "tensorflow-estimator 1.14.0 \n",
      "termcolor            1.1.0  \n",
      "terminado            0.8.2  \n",
      "testpath             0.4.2  \n",
      "tornado              6.0.2  \n",
      "traitlets            4.3.2  \n",
      "wcwidth              0.1.7  \n",
      "webencodings         0.5.1  \n",
      "Werkzeug             0.15.4 \n",
      "wheel                0.30.0 \n",
      "widgetsnbextension   3.4.2  \n",
      "wrapt                1.11.2 \n",
      "\u001b[33mWARNING: You are using pip version 19.1.1, however version 19.2.3 is available.\n",
      "You should consider upgrading via the 'pip install --upgrade pip' command.\u001b[0m\n"
     ]
    }
   ],
   "source": [
    "!pip list"
   ]
  },
  {
   "cell_type": "code",
   "execution_count": 3,
   "metadata": {},
   "outputs": [
    {
     "name": "stdout",
     "output_type": "stream",
     "text": [
      "Collecting pip\n",
      "\u001b[?25l  Downloading https://files.pythonhosted.org/packages/30/db/9e38760b32e3e7f40cce46dd5fb107b8c73840df38f0046d8e6514e675a1/pip-19.2.3-py2.py3-none-any.whl (1.4MB)\n",
      "\u001b[K     |████████████████████████████████| 1.4MB 651kB/s eta 0:00:01\n",
      "\u001b[?25hInstalling collected packages: pip\n",
      "  Found existing installation: pip 19.1.1\n",
      "    Uninstalling pip-19.1.1:\n",
      "      Successfully uninstalled pip-19.1.1\n",
      "Successfully installed pip-19.2.3\n"
     ]
    }
   ],
   "source": [
    "!pip install --upgrade pip"
   ]
  },
  {
   "cell_type": "code",
   "execution_count": 5,
   "metadata": {},
   "outputs": [
    {
     "name": "stdout",
     "output_type": "stream",
     "text": [
      "data_analysis.ipynb  tensorflow_test.ipynb\r\n"
     ]
    }
   ],
   "source": [
    "!ls"
   ]
  },
  {
   "cell_type": "code",
   "execution_count": 4,
   "metadata": {},
   "outputs": [
    {
     "name": "stdout",
     "output_type": "stream",
     "text": [
      "Collecting conda\n",
      "\u001b[?25l  Downloading https://files.pythonhosted.org/packages/74/4e/c533c3136427be62c38cc0e038cabf167bb54489c2ced2f6df903c456861/conda-4.3.16.tar.gz (299kB)\n",
      "\u001b[K     |████████████████████████████████| 307kB 17kB/s eta 0:00:01\n",
      "\u001b[?25hCollecting pycosat>=0.6.1 (from conda)\n",
      "\u001b[?25l  Downloading https://files.pythonhosted.org/packages/c0/fd/e38d68774c0a345b0090d608a90f1fbf423970d812f7ec7aef9ac024e648/pycosat-0.6.3.zip (66kB)\n",
      "\u001b[K     |████████████████████████████████| 71kB 41kB/s eta 0:00:01\n",
      "\u001b[?25hCollecting requests>=2.12.4 (from conda)\n",
      "\u001b[?25l  Downloading https://files.pythonhosted.org/packages/51/bd/23c926cd341ea6b7dd0b2a00aba99ae0f828be89d72b2190f27c11d4b7fb/requests-2.22.0-py2.py3-none-any.whl (57kB)\n",
      "\u001b[K     |████████████████████████████████| 61kB 12kB/s eta 0:00:01\n",
      "\u001b[?25hCollecting ruamel.yaml>=0.11.14 (from conda)\n",
      "\u001b[?25l  Downloading https://files.pythonhosted.org/packages/fa/90/ecff85a2e9c497e2fa7142496e10233556b5137db5bd46f3f3b006935ca8/ruamel.yaml-0.16.5-py2.py3-none-any.whl (123kB)\n",
      "\u001b[K     |████████████████████████████████| 133kB 12kB/s eta 0:00:01\n",
      "\u001b[?25hCollecting urllib3!=1.25.0,!=1.25.1,<1.26,>=1.21.1 (from requests>=2.12.4->conda)\n",
      "\u001b[?25l  Downloading https://files.pythonhosted.org/packages/91/0d/7777358f672a14b7ae0dfcd29f949f409f913e0578190d6bfa68eb55864b/urllib3-1.25.4-py2.py3-none-any.whl (125kB)\n",
      "\u001b[K     |████████████████████████████████| 133kB 7.3kB/s eta 0:00:01\n",
      "\u001b[?25hCollecting certifi>=2017.4.17 (from requests>=2.12.4->conda)\n",
      "\u001b[?25l  Downloading https://files.pythonhosted.org/packages/18/b0/8146a4f8dd402f60744fa380bc73ca47303cccf8b9190fd16a827281eac2/certifi-2019.9.11-py2.py3-none-any.whl (154kB)\n",
      "\u001b[K     |████████████████████████████████| 163kB 53kB/s eta 0:00:01\n",
      "\u001b[?25hRequirement already satisfied: idna<2.9,>=2.5 in /usr/lib/python3/dist-packages (from requests>=2.12.4->conda) (2.6)\n",
      "Collecting chardet<3.1.0,>=3.0.2 (from requests>=2.12.4->conda)\n",
      "\u001b[?25l  Downloading https://files.pythonhosted.org/packages/bc/a9/01ffebfb562e4274b6487b4bb1ddec7ca55ec7510b22e4c51f14098443b8/chardet-3.0.4-py2.py3-none-any.whl (133kB)\n",
      "\u001b[K     |████████████████████████████████| 143kB 128kB/s eta 0:00:01\n",
      "\u001b[?25hCollecting ruamel.yaml.clib>=0.1.2; platform_python_implementation == \"CPython\" and python_version < \"3.8\" (from ruamel.yaml>=0.11.14->conda)\n",
      "\u001b[?25l  Downloading https://files.pythonhosted.org/packages/96/62/ed93cb8ae7e2ad8c5fe874e8027306aeee0c6a02c04fa015b5f99d14b3db/ruamel.yaml.clib-0.1.2-cp36-cp36m-manylinux1_x86_64.whl (549kB)\n",
      "\u001b[K     |████████████████████████████████| 552kB 328kB/s eta 0:00:01\n",
      "\u001b[?25hBuilding wheels for collected packages: conda, pycosat\n",
      "  Building wheel for conda (setup.py) ... \u001b[?25ldone\n",
      "\u001b[?25h  Created wheel for conda: filename=conda-4.3.16-cp36-none-any.whl size=337344 sha256=1074565f8766ee135ce79d76f4bfd0dd9149015dd4d15dd7b28684619bd35995\n",
      "  Stored in directory: /root/.cache/pip/wheels/a3/50/79/302742d53e2231ec545cb3791abfdd24de234021ed8e0588a0\n",
      "  Building wheel for pycosat (setup.py) ... \u001b[?25ldone\n",
      "\u001b[?25h  Created wheel for pycosat: filename=pycosat-0.6.3-cp36-cp36m-linux_x86_64.whl size=144790 sha256=8e8688e98ba4d156c7d8edc4af964dffea71e69bb31a550d7a0b56cbf34df765\n",
      "  Stored in directory: /root/.cache/pip/wheels/c4/67/ff/5570304e45814eccef48a3c69c3af25d0456ed3a34eddbbe38\n",
      "Successfully built conda pycosat\n",
      "Installing collected packages: pycosat, urllib3, certifi, chardet, requests, ruamel.yaml.clib, ruamel.yaml, conda\n",
      "Successfully installed certifi-2019.9.11 chardet-3.0.4 conda-4.3.16 pycosat-0.6.3 requests-2.22.0 ruamel.yaml-0.16.5 ruamel.yaml.clib-0.1.2 urllib3-1.25.4\n"
     ]
    }
   ],
   "source": [
    "!pip install conda"
   ]
  },
  {
   "cell_type": "code",
   "execution_count": 7,
   "metadata": {},
   "outputs": [
    {
     "name": "stdout",
     "output_type": "stream",
     "text": [
      "Package              Version  \r\n",
      "-------------------- ---------\r\n",
      "absl-py              0.7.1    \r\n",
      "asn1crypto           0.24.0   \r\n",
      "astor                0.8.0    \r\n",
      "attrs                19.1.0   \r\n",
      "backcall             0.1.0    \r\n",
      "bleach               3.1.0    \r\n",
      "certifi              2019.9.11\r\n",
      "chardet              3.0.4    \r\n",
      "conda                4.3.16   \r\n",
      "cryptography         2.1.4    \r\n",
      "cycler               0.10.0   \r\n",
      "decorator            4.4.0    \r\n",
      "defusedxml           0.6.0    \r\n",
      "entrypoints          0.3      \r\n",
      "enum34               1.1.6    \r\n",
      "gast                 0.2.2    \r\n",
      "google-pasta         0.1.7    \r\n",
      "grpcio               1.21.1   \r\n",
      "h5py                 2.9.0    \r\n",
      "idna                 2.6      \r\n",
      "ipykernel            5.1.1    \r\n",
      "ipython              7.5.0    \r\n",
      "ipython-genutils     0.2.0    \r\n",
      "ipywidgets           7.4.2    \r\n",
      "jedi                 0.13.3   \r\n",
      "Jinja2               2.10.1   \r\n",
      "jsonschema           3.0.1    \r\n",
      "jupyter              1.0.0    \r\n",
      "jupyter-client       5.2.4    \r\n",
      "jupyter-console      6.0.0    \r\n",
      "jupyter-core         4.5.0    \r\n",
      "jupyter-http-over-ws 0.0.6    \r\n",
      "Keras-Applications   1.0.8    \r\n",
      "Keras-Preprocessing  1.1.0    \r\n",
      "keyring              10.6.0   \r\n",
      "keyrings.alt         3.0      \r\n",
      "kiwisolver           1.1.0    \r\n",
      "Markdown             3.1.1    \r\n",
      "MarkupSafe           1.1.1    \r\n",
      "matplotlib           3.1.0    \r\n",
      "mistune              0.8.4    \r\n",
      "nbconvert            5.5.0    \r\n",
      "nbformat             4.4.0    \r\n",
      "notebook             5.7.8    \r\n",
      "numpy                1.16.4   \r\n",
      "pandocfilters        1.4.2    \r\n",
      "parso                0.4.0    \r\n",
      "pexpect              4.7.0    \r\n",
      "pickleshare          0.7.5    \r\n",
      "pip                  19.2.3   \r\n",
      "prometheus-client    0.7.1    \r\n",
      "prompt-toolkit       2.0.9    \r\n",
      "protobuf             3.8.0    \r\n",
      "ptyprocess           0.6.0    \r\n",
      "pycosat              0.6.3    \r\n",
      "pycrypto             2.6.1    \r\n",
      "Pygments             2.4.2    \r\n",
      "pygobject            3.26.1   \r\n",
      "pyparsing            2.4.0    \r\n",
      "pyrsistent           0.15.2   \r\n",
      "python-dateutil      2.8.0    \r\n",
      "pyxdg                0.25     \r\n",
      "pyzmq                18.0.1   \r\n",
      "qtconsole            4.5.1    \r\n",
      "requests             2.22.0   \r\n",
      "ruamel.yaml          0.16.5   \r\n",
      "ruamel.yaml.clib     0.1.2    \r\n",
      "SecretStorage        2.3.1    \r\n",
      "Send2Trash           1.5.0    \r\n",
      "setuptools           41.0.1   \r\n",
      "six                  1.11.0   \r\n",
      "tensorboard          1.14.0   \r\n",
      "tensorflow           1.14.0   \r\n",
      "tensorflow-estimator 1.14.0   \r\n",
      "termcolor            1.1.0    \r\n",
      "terminado            0.8.2    \r\n",
      "testpath             0.4.2    \r\n",
      "tornado              6.0.2    \r\n",
      "traitlets            4.3.2    \r\n",
      "urllib3              1.25.4   \r\n",
      "wcwidth              0.1.7    \r\n",
      "webencodings         0.5.1    \r\n",
      "Werkzeug             0.15.4   \r\n",
      "wheel                0.30.0   \r\n",
      "widgetsnbextension   3.4.2    \r\n",
      "wrapt                1.11.2   \r\n"
     ]
    }
   ],
   "source": [
    "!pip list"
   ]
  },
  {
   "cell_type": "code",
   "execution_count": 8,
   "metadata": {},
   "outputs": [
    {
     "name": "stdout",
     "output_type": "stream",
     "text": [
      "Name: conda\r\n",
      "Version: 4.3.16\r\n",
      "Summary: OS-agnostic, system-level binary package manager.\r\n",
      "Home-page: https://github.com/conda/conda\r\n",
      "Author: Continuum Analytics, Inc.\r\n",
      "Author-email: conda@continuum.io\r\n",
      "License: BSD\r\n",
      "Location: /usr/local/lib/python3.6/dist-packages\r\n",
      "Requires: requests, ruamel.yaml, pycosat\r\n",
      "Required-by: \r\n"
     ]
    }
   ],
   "source": [
    "!pip show conda"
   ]
  },
  {
   "cell_type": "code",
   "execution_count": null,
   "metadata": {},
   "outputs": [
    {
     "name": "stdout",
     "output_type": "stream",
     "text": [
      "Collecting pandas\n",
      "\u001b[?25l  Downloading https://files.pythonhosted.org/packages/73/9b/52e228545d14f14bb2a1622e225f38463c8726645165e1cb7dde95bfe6d4/pandas-0.25.1-cp36-cp36m-manylinux1_x86_64.whl (10.5MB)\n",
      "\u001b[K     |███████████████                 | 4.9MB 33kB/s eta 0:02:496"
     ]
    }
   ],
   "source": [
    "!pip install pandas"
   ]
  },
  {
   "cell_type": "code",
   "execution_count": null,
   "metadata": {},
   "outputs": [],
   "source": []
  }
 ],
 "metadata": {
  "kernelspec": {
   "display_name": "Python 3",
   "language": "python",
   "name": "python3"
  },
  "language_info": {
   "codemirror_mode": {
    "name": "ipython",
    "version": 3
   },
   "file_extension": ".py",
   "mimetype": "text/x-python",
   "name": "python",
   "nbconvert_exporter": "python",
   "pygments_lexer": "ipython3",
   "version": "3.6.8"
  }
 },
 "nbformat": 4,
 "nbformat_minor": 2
}
