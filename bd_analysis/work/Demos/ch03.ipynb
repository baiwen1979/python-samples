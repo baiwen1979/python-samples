{
 "cells": [
  {
   "cell_type": "markdown",
   "metadata": {},
   "source": [
    "# 03 Python + MR 实现Hadoop Streaming分区和二次排序\n",
    "---\n",
    "\n",
    "## 1. 实验目的\n",
    "\n",
    "基于MapReduce思想，编写分区（Partition）和二次排序（Secondary Sorting）程序\n",
    "\n",
    "## 2. 实验要求\n",
    "\n",
    "理解MapReduce编程思想，会用Python编写基于HadoopStreaming的MapReduce分区和二次排序程序，然后将其在本地测试并在Hadoop集群上执行并分析执行过程。\n",
    "\n",
    "## 3. 实验原理\n",
    "\n",
    "HadoopStreaming框架默认情况下会以’\\t’作为分隔符，将每行第一个’\\t’之前的部分作为key，其余内容作为value， \n",
    "如果没有’\\t’分隔符，则整行作为key；这个{key}\\t{value}对又作为该map对应的reduce的输入。\n",
    "\n",
    "HadoopStreaming提供以下参数来实现对map输出进行分区：\n",
    "\n",
    "* -D stream.map.output.field.separator: 指定分割key分隔符，默认是'\\t'\n",
    "* -D stream.num.map.output.key.fields: 用作key的字段 \n",
    "* -D map.output.key.field.separator: 指定key内部的分隔符 \n",
    "* -D num.key.fields.for.partition: 指定对key分出来的前几部分做partition而不是整个key\n",
    "\n",
    "MR默认会对键进行排序，然后有时候也需要对值进行排序，满足这种需求的一种方法是在reduce阶段排序收集过来的values，但如果有数量巨大的values可能就会导致内存溢出等问题，这就是二次排序的应用场景--将对值的排序也安排到MR计算过程之中，而非单独来做。\n",
    "\n",
    "二次排序就是首先按照第一字段排序，然后再对第一次字段相同的行按照第二字段排序，注意不能破坏第一次排序的结果。\n",
    "\n",
    "mapper的输出被分区到各个reducer之后，会有一步排序。默认是按照key做二次排序，如果key是多列组成，先按照第一列排序，第一列相同的，按照第二列排序，依此类推。\n",
    "\n",
    "如果需要自定义排序，这里要指定key内部的哪些元素用来做排序依据，是排字典序还是数字序，倒序还是正序。用来控制的参数是 mapred.text.key.comparator.options，\n",
    "可通过org.apache.hadoop.mapred.lib.KeyFieldBasedComparator来自定义使用key中的部分字段做比较。\n",
    "\n",
    "\n",
    "## 4. 实验步骤\n",
    "\n",
    "### 1）准备数据\n",
    "\n",
    "#### 需要按注册地（省）进行分区的车牌数据\n",
    "\n",
    "数据的每行分别为：车牌号,注册地,里程数\n",
    "\n",
    "```\n",
    "鲁V73930,鲁,549 \n",
    "黑ML1711,黑,235 \n",
    "鲁V75066,鲁,657 \n",
    "桂J73031,桂,900 \n",
    "晋M42387,晋,432 \n",
    "桂J73138,桂,456 \n",
    "晋M41665,晋,879 \n",
    "晋M42529,晋,790\n",
    "```\n",
    "\n",
    "#### 需要按注册地（省）分区并按序号二次排序的车牌数据\n",
    "\n",
    "数据的每行分别为：车牌号,注册地,序号,里程数\n",
    "```\n",
    "鲁V73930,鲁,2,549 \n",
    "黑ML1711,黑,1,235 \n",
    "鲁V75066,鲁,1,657 \n",
    "桂J73031,桂,1,900 \n",
    "晋M42387,晋,3,432 \n",
    "桂J73138,桂,2,456 \n",
    "晋M41665,晋,2,879 \n",
    "晋M42529,晋,1,790\n",
    "鲁V75530,鲁,3,569\n",
    "```\n",
    "### 2）编写程序\n",
    "\n",
    "#### 1. 分区（Partition）\n",
    "\n",
    "##### mapper（plate_partition_mapper.py）"
   ]
  },
  {
   "cell_type": "code",
   "execution_count": 17,
   "metadata": {},
   "outputs": [],
   "source": [
    "#!/usr/bin/env python\n",
    "# -*- coding: utf-8 -*-\n",
    "import sys\n",
    "\n",
    "def main():    \n",
    "    for line in sys.stdin:\n",
    "        line = line.strip()\n",
    "        row = line.split(\",\")\n",
    "        if len(row) >= 3:\n",
    "            plate  = row[0]   # 车牌号\n",
    "            province = row[1] # 注册地\n",
    "            mile = row[2]     # 里程\n",
    "            print(province + \",\" + plate + \"\\t\" + mile) \n",
    "\n",
    "if __name__ == '__main__':\n",
    "    main()"
   ]
  },
  {
   "cell_type": "markdown",
   "metadata": {},
   "source": [
    "##### reducer（plate_partition_reducer.py）"
   ]
  },
  {
   "cell_type": "code",
   "execution_count": 15,
   "metadata": {},
   "outputs": [
    {
     "name": "stdout",
     "output_type": "stream",
     "text": [
      "None\t0\n"
     ]
    }
   ],
   "source": [
    "#!/usr/bin/env python\n",
    "# -*- coding: utf-8 -*-\n",
    "import sys\n",
    "\n",
    "def main():\n",
    "    prov = None\n",
    "    sum_mile = 0\n",
    "\n",
    "    for line in sys.stdin:\n",
    "        line = line.strip()\n",
    "        row, mile = line.split(\"\\t\")\n",
    "        mile = int(mile)\n",
    "        if prov == None:\n",
    "            prov = row[0].split(\",\")[0]\n",
    "            sum_mile = mile\n",
    "        else:\n",
    "            if prov == row[0].split(\",\")[0]:\n",
    "                # 相同组\n",
    "                sum_mile += mile\n",
    "            else:\n",
    "                # 不同组，输出上一组数据\n",
    "                print('{0}\\t{1}'.format(prov, sum_mile))\n",
    "                sum_mile = mile\n",
    "                prov = row[0].split(\",\")[0]\n",
    "\n",
    "    print('{0}\\t{1}'.format(prov, sum_mile))\n",
    "\n",
    "if __name__ == '__main__':\n",
    "    main()"
   ]
  },
  {
   "cell_type": "markdown",
   "metadata": {},
   "source": [
    "#### 2. 二次排序（Secondary Sorting）\n",
    "\n",
    "##### mapper（plate_secsort_mapper.py）"
   ]
  },
  {
   "cell_type": "code",
   "execution_count": 11,
   "metadata": {},
   "outputs": [],
   "source": [
    "#!/usr/bin/python\n",
    "# -*- coding: utf-8 -*-\n",
    "import sys\n",
    "\n",
    "def main():\n",
    "    for line in sys.stdin:\n",
    "        line = line.strip()\n",
    "        row = line.split(\",\")\n",
    "        if len(row) >= 3:\n",
    "            plate  = row[0]   # 车牌号\n",
    "            province = row[1] # 注册地\n",
    "            order = row[2]    # 序号\n",
    "            mile = row[3]     # 里程\n",
    "            print(\",\".join([province, plate, order, mile]))\n",
    "            \n",
    "if __name__ == '__main__':\n",
    "    main()"
   ]
  },
  {
   "cell_type": "markdown",
   "metadata": {},
   "source": [
    "##### reducer（plate_secsort_reducer.py）"
   ]
  },
  {
   "cell_type": "code",
   "execution_count": null,
   "metadata": {},
   "outputs": [],
   "source": [
    "#!/usr/bin/python\n",
    "# -*- coding: utf-8 -*-\n",
    "import sys\n",
    "\n",
    "def main():\n",
    "    # 几乎什么都不用做\n",
    "    for line in sys.stdin:\n",
    "        line = line.strip()\n",
    "        print line\n",
    "\n",
    "if __name__ == '__main__':\n",
    "    main()"
   ]
  },
  {
   "cell_type": "markdown",
   "metadata": {},
   "source": [
    "### 3）本地测试\n",
    "\n",
    "#### 1. 测试分区"
   ]
  },
  {
   "cell_type": "code",
   "execution_count": 228,
   "metadata": {},
   "outputs": [
    {
     "name": "stdout",
     "output_type": "stream",
     "text": [
      "鲁V73930,鲁,549 \r\n",
      "黑ML1711,黑,235 \r\n",
      "鲁V75066,鲁,657 \r\n",
      "桂J73031,桂,900 \r\n",
      "晋M42387,晋,432 \r\n",
      "桂J73138,桂,456 \r\n",
      "晋M41665,晋,879 \r\n",
      "晋M42529,晋,790"
     ]
    }
   ],
   "source": [
    "!cat data/plates_data1.txt"
   ]
  },
  {
   "cell_type": "code",
   "execution_count": 229,
   "metadata": {},
   "outputs": [
    {
     "name": "stdout",
     "output_type": "stream",
     "text": [
      "桂,桂J73031\t900\r\n",
      "桂,桂J73138\t456\r\n",
      "晋,晋M41665\t879\r\n",
      "晋,晋M42387\t432\r\n",
      "晋,晋M42529\t790\r\n",
      "黑,黑ML1711\t235\r\n",
      "鲁,鲁V73930\t549\r\n",
      "鲁,鲁V75066\t657\r\n"
     ]
    }
   ],
   "source": [
    "!cat data/plates_data1.txt | \\\n",
    "python input_files/plate_partition_mapper.py | \\\n",
    "sort"
   ]
  },
  {
   "cell_type": "code",
   "execution_count": 230,
   "metadata": {},
   "outputs": [
    {
     "name": "stdout",
     "output_type": "stream",
     "text": [
      "桂\t1356\r\n",
      "晋\t2101\r\n",
      "黑\t235\r\n",
      "鲁\t1206\r\n"
     ]
    }
   ],
   "source": [
    "!cat data/plates_data1.txt | \\\n",
    "python input_files/plate_partition_mapper.py | \\\n",
    "sort | \\\n",
    "python input_files/plate_partition_reducer.py "
   ]
  },
  {
   "cell_type": "markdown",
   "metadata": {},
   "source": [
    "#### 2. 测试二次排序"
   ]
  },
  {
   "cell_type": "code",
   "execution_count": 231,
   "metadata": {},
   "outputs": [
    {
     "name": "stdout",
     "output_type": "stream",
     "text": [
      "鲁V73930,鲁,2,549 \r\n",
      "黑ML1711,黑,1,235 \r\n",
      "鲁V75066,鲁,1,657 \r\n",
      "桂J73031,桂,1,900 \r\n",
      "晋M42387,晋,3,432 \r\n",
      "桂J73138,桂,2,456 \r\n",
      "晋M41665,晋,2,879 \r\n",
      "晋M42529,晋,1,790\r\n",
      "鲁V75530,鲁,3,569"
     ]
    }
   ],
   "source": [
    "!cat data/plates_data2.txt"
   ]
  },
  {
   "cell_type": "code",
   "execution_count": 232,
   "metadata": {},
   "outputs": [
    {
     "name": "stdout",
     "output_type": "stream",
     "text": [
      "桂,桂J73031,1,900\r\n",
      "桂,桂J73138,2,456\r\n",
      "晋,晋M41665,2,879\r\n",
      "晋,晋M42387,3,432\r\n",
      "晋,晋M42529,1,790\r\n",
      "黑,黑ML1711,1,235\r\n",
      "鲁,鲁V73930,2,549\r\n",
      "鲁,鲁V75066,1,657\r\n",
      "鲁,鲁V75530,3,569\r\n"
     ]
    }
   ],
   "source": [
    "!cat data/plates_data2.txt | \\\n",
    "python input_files/plate_secsort_mapper.py | \\\n",
    "sort | \\\n",
    "python input_files/plate_secsort_reducer.py "
   ]
  },
  {
   "cell_type": "code",
   "execution_count": 233,
   "metadata": {},
   "outputs": [
    {
     "name": "stdout",
     "output_type": "stream",
     "text": [
      "total 80\r\n",
      "drwxr-xr-x  3 xiaobai  staff    96  8 13 13:02 \u001b[34mdata\u001b[m\u001b[m\r\n",
      "-rwxr-xr-x  1 xiaobai  staff   386  8 13 13:08 \u001b[31mplate_partition_mapper.py\u001b[m\u001b[m\r\n",
      "-rwxr-xr-x  1 xiaobai  staff   717  8 13 13:08 \u001b[31mplate_partition_reducer.py\u001b[m\u001b[m\r\n",
      "-rw-r--r--  1 xiaobai  staff   761  8 13 15:05 plate_partition_run.sh\r\n",
      "-rw-r--r--  1 xiaobai  staff   449  8 13 11:32 plate_secsort_mapper.py\r\n",
      "-rw-r--r--  1 xiaobai  staff   210  8 13 11:37 plate_secsort_reducer.py\r\n",
      "-rwxr-xr-x  1 xiaobai  staff   982  8 13 15:33 \u001b[31mplate_secsort_run.sh\u001b[m\u001b[m\r\n",
      "-rwxr-xr-x  1 xiaobai  staff   568  8 12 16:42 \u001b[31mstock_mapper.py\u001b[m\u001b[m\r\n",
      "-rwxr-xr-x  1 xiaobai  staff   758  8 12 16:43 \u001b[31mstock_reducer.py\u001b[m\u001b[m\r\n",
      "-rwxr-xr-x  1 xiaobai  staff   603  8 11 17:39 \u001b[31mword_count_mapper.py\u001b[m\u001b[m\r\n",
      "-rwxr-xr-x  1 xiaobai  staff  1144  8 12 12:08 \u001b[31mword_count_reducer.py\u001b[m\u001b[m\r\n"
     ]
    }
   ],
   "source": [
    "!ls -l input_files/"
   ]
  },
  {
   "cell_type": "markdown",
   "metadata": {},
   "source": [
    "### 4）集群运行\n",
    "\n",
    "#### 1. 运行分区程序\n",
    "##### 编写启动脚本（plate_partition_run.sh）\n",
    "\n",
    "由于提交MapReduce作业的命令非常很长，参数很多，编写Shell启动脚本是一种高效的方法："
   ]
  },
  {
   "cell_type": "code",
   "execution_count": 236,
   "metadata": {},
   "outputs": [
    {
     "name": "stdout",
     "output_type": "stream",
     "text": [
      "#!/bin/bash\r\n",
      "EXEC_PATH=$(dirname \"$0\")\r\n",
      "HP_CMD=hadoop\r\n",
      "JAR_PACKAGE=/usr/hadoop-2.8.3/share/hadoop/tools/lib/hadoop-streaming-2.8.3.jar\r\n",
      "IN_PATH=/input/plates_data1.txt\r\n",
      "OUT_PATH=/output/plates_part\r\n",
      "MAP_FILE=${EXEC_PATH}/plate_partition_mapper.py\r\n",
      "RED_FILE=${EXEC_PATH}/plate_partition_reducer.py\r\n",
      "$HP_CMD fs -rm -r $OUT_PATH\r\n",
      "$HP_CMD jar $JAR_PACKAGE \\\r\n",
      "-D mapred.job.queue.name=bdev \\\r\n",
      "-D stream.map.input.ignoreKey=true \\\r\n",
      "-D map.output.key.field.separator=, \\\r\n",
      "-D num.key.fields.for.partition=1 \\\r\n",
      "-numReduceTasks 1 \\\r\n",
      "-input $IN_PATH \\\r\n",
      "-output $OUT_PATH \\\r\n",
      "-file $MAP_FILE \\\r\n",
      "-file $RED_FILE \\\r\n",
      "-mapper $MAP_FILE \\\r\n",
      "-reducer $RED_FILE \\\r\n",
      "-partitioner org.apache.hadoop.mapred.lib.KeyFieldBasedPartitioner\r\n",
      "$HP_CMD fs -ls $OUT_PATH"
     ]
    }
   ],
   "source": [
    "!cat input_files/plate_partition_run.sh"
   ]
  },
  {
   "cell_type": "code",
   "execution_count": 33,
   "metadata": {},
   "outputs": [],
   "source": [
    "!docker exec namenode \\\n",
    "chmod +x /input_files/plate_partition_run.sh"
   ]
  },
  {
   "cell_type": "code",
   "execution_count": 74,
   "metadata": {},
   "outputs": [],
   "source": [
    "!docker exec namenode \\\n",
    "chmod +x /input_files/plate_partition_mapper.py"
   ]
  },
  {
   "cell_type": "code",
   "execution_count": 75,
   "metadata": {},
   "outputs": [],
   "source": [
    "!docker exec namenode \\\n",
    "chmod +x /input_files/plate_partition_reducer.py"
   ]
  },
  {
   "cell_type": "code",
   "execution_count": 234,
   "metadata": {},
   "outputs": [
    {
     "name": "stdout",
     "output_type": "stream",
     "text": [
      "hadoop-streaming-2.7.1.jar\r\n"
     ]
    }
   ],
   "source": [
    "!docker exec namenode \\\n",
    "ls /opt/hadoop-2.7.1/share/hadoop/tools/lib | \\\n",
    "grep 'stream'"
   ]
  },
  {
   "cell_type": "markdown",
   "metadata": {},
   "source": [
    "##### 上传数据文件到 hadoop 集群并提交 MR Job"
   ]
  },
  {
   "cell_type": "code",
   "execution_count": 61,
   "metadata": {},
   "outputs": [],
   "source": [
    "!mkdir ./input_files/data"
   ]
  },
  {
   "cell_type": "code",
   "execution_count": 63,
   "metadata": {},
   "outputs": [],
   "source": [
    "!cp ./data/plates_data1.txt ./input_files/data"
   ]
  },
  {
   "cell_type": "code",
   "execution_count": 64,
   "metadata": {},
   "outputs": [],
   "source": [
    "!docker exec namenode \\\n",
    "hadoop fs -mkdir /input "
   ]
  },
  {
   "cell_type": "code",
   "execution_count": 68,
   "metadata": {},
   "outputs": [
    {
     "name": "stdout",
     "output_type": "stream",
     "text": [
      "Found 2 items\r\n",
      "drwxr-xr-x   - root supergroup          0 2019-08-13 05:03 /input\r\n",
      "drwxr-xr-x   - root supergroup          0 2019-08-11 12:20 /rmstate\r\n"
     ]
    }
   ],
   "source": [
    "!docker exec namenode \\\n",
    "hadoop fs -ls /"
   ]
  },
  {
   "cell_type": "code",
   "execution_count": 98,
   "metadata": {},
   "outputs": [],
   "source": [
    "!docker exec namenode \\\n",
    "hadoop fs -put /input_files/data/plates_data1.txt /input"
   ]
  },
  {
   "cell_type": "code",
   "execution_count": 101,
   "metadata": {},
   "outputs": [
    {
     "name": "stdout",
     "output_type": "stream",
     "text": [
      "Found 1 items\r\n",
      "-rw-r--r--   3 root supergroup        150 2019-08-13 05:05 /input/plates_data1.txt\r\n"
     ]
    }
   ],
   "source": [
    "!docker exec namenode \\\n",
    "hadoop fs -ls /input"
   ]
  },
  {
   "cell_type": "code",
   "execution_count": 111,
   "metadata": {},
   "outputs": [],
   "source": [
    "#!docker exec namenode /input_files/plate_partition_run.sh"
   ]
  },
  {
   "cell_type": "code",
   "execution_count": 106,
   "metadata": {},
   "outputs": [],
   "source": [
    "!docker cp ./input_files/data/plates_data1.txt master:/root/"
   ]
  },
  {
   "cell_type": "code",
   "execution_count": 85,
   "metadata": {},
   "outputs": [],
   "source": [
    "!docker cp ./input_files/plate_partition_mapper.py master:/root/"
   ]
  },
  {
   "cell_type": "code",
   "execution_count": 86,
   "metadata": {},
   "outputs": [],
   "source": [
    "!docker cp ./input_files/plate_partition_reducer.py master:/root/"
   ]
  },
  {
   "cell_type": "code",
   "execution_count": 95,
   "metadata": {},
   "outputs": [],
   "source": [
    "!docker cp ./input_files/plate_partition_run.sh master:/root/"
   ]
  },
  {
   "cell_type": "code",
   "execution_count": 107,
   "metadata": {},
   "outputs": [
    {
     "name": "stdout",
     "output_type": "stream",
     "text": [
      "put: `/input/plates_data1.txt': File exists\r\n"
     ]
    }
   ],
   "source": [
    "!docker exec master \\\n",
    "hadoop fs -put /root/plates_data1.txt /input/"
   ]
  },
  {
   "cell_type": "code",
   "execution_count": 237,
   "metadata": {},
   "outputs": [
    {
     "name": "stdout",
     "output_type": "stream",
     "text": [
      "19/08/13 12:03:19 INFO Configuration.deprecation: io.bytes.per.checksum is deprecated. Instead, use dfs.bytes-per-checksum\n",
      "Deleted /output/plates_part\n",
      "19/08/13 12:03:20 WARN streaming.StreamJob: -file option is deprecated, please use generic option -files instead.\n",
      "packageJobJar: [/root/plate_partition_mapper.py, /root/plate_partition_reducer.py] [] /tmp/streamjob3031390533179335376.jar tmpDir=null\n",
      "19/08/13 12:03:22 INFO Configuration.deprecation: session.id is deprecated. Instead, use dfs.metrics.session-id\n",
      "19/08/13 12:03:22 INFO jvm.JvmMetrics: Initializing JVM Metrics with processName=JobTracker, sessionId=\n",
      "19/08/13 12:03:22 INFO jvm.JvmMetrics: Cannot initialize JVM Metrics with processName=JobTracker, sessionId= - already initialized\n",
      "19/08/13 12:03:22 INFO mapred.FileInputFormat: Total input files to process : 1\n",
      "19/08/13 12:03:22 INFO mapreduce.JobSubmitter: number of splits:1\n",
      "19/08/13 12:03:22 INFO Configuration.deprecation: mapred.job.queue.name is deprecated. Instead, use mapreduce.job.queuename\n",
      "19/08/13 12:03:22 INFO Configuration.deprecation: map.output.key.field.separator is deprecated. Instead, use mapreduce.map.output.key.field.separator\n",
      "19/08/13 12:03:23 INFO mapreduce.JobSubmitter: Submitting tokens for job: job_local1201774250_0001\n",
      "19/08/13 12:03:23 INFO mapred.LocalDistributedCacheManager: Localized file:/root/plate_partition_mapper.py as file:/tmp/hadoop-root/mapred/local/1565697803279/plate_partition_mapper.py\n",
      "19/08/13 12:03:23 INFO mapred.LocalDistributedCacheManager: Localized file:/root/plate_partition_reducer.py as file:/tmp/hadoop-root/mapred/local/1565697803280/plate_partition_reducer.py\n",
      "19/08/13 12:03:23 INFO mapreduce.Job: The url to track the job: http://localhost:8080/\n",
      "19/08/13 12:03:23 INFO mapreduce.Job: Running job: job_local1201774250_0001\n",
      "19/08/13 12:03:23 INFO mapred.LocalJobRunner: OutputCommitter set in config null\n",
      "19/08/13 12:03:23 INFO mapred.LocalJobRunner: OutputCommitter is org.apache.hadoop.mapred.FileOutputCommitter\n",
      "19/08/13 12:03:23 INFO output.FileOutputCommitter: File Output Committer Algorithm version is 1\n",
      "19/08/13 12:03:23 INFO output.FileOutputCommitter: FileOutputCommitter skip cleanup _temporary folders under output directory:false, ignore cleanup failures: false\n",
      "19/08/13 12:03:23 INFO mapred.LocalJobRunner: Waiting for map tasks\n",
      "19/08/13 12:03:24 INFO mapred.LocalJobRunner: Starting task: attempt_local1201774250_0001_m_000000_0\n",
      "19/08/13 12:03:24 INFO output.FileOutputCommitter: File Output Committer Algorithm version is 1\n",
      "19/08/13 12:03:24 INFO output.FileOutputCommitter: FileOutputCommitter skip cleanup _temporary folders under output directory:false, ignore cleanup failures: false\n",
      "19/08/13 12:03:24 INFO mapred.Task:  Using ResourceCalculatorProcessTree : [ ]\n",
      "19/08/13 12:03:24 INFO mapred.MapTask: Processing split: file:/input/plates_data1.txt:0+150\n",
      "19/08/13 12:03:24 INFO mapred.MapTask: numReduceTasks: 2\n",
      "19/08/13 12:03:24 INFO mapred.MapTask: (EQUATOR) 0 kvi 26214396(104857584)\n",
      "19/08/13 12:03:24 INFO mapred.MapTask: mapreduce.task.io.sort.mb: 100\n",
      "19/08/13 12:03:24 INFO mapred.MapTask: soft limit at 83886080\n",
      "19/08/13 12:03:24 INFO mapred.MapTask: bufstart = 0; bufvoid = 104857600\n",
      "19/08/13 12:03:24 INFO mapred.MapTask: kvstart = 26214396; length = 6553600\n",
      "19/08/13 12:03:24 INFO mapred.MapTask: Map output collector class = org.apache.hadoop.mapred.MapTask$MapOutputBuffer\n",
      "19/08/13 12:03:24 INFO streaming.PipeMapRed: PipeMapRed exec [/usr/spark-2.3.0/./plate_partition_mapper.py]\n",
      "19/08/13 12:03:24 INFO Configuration.deprecation: mapred.work.output.dir is deprecated. Instead, use mapreduce.task.output.dir\n",
      "19/08/13 12:03:24 INFO Configuration.deprecation: map.input.start is deprecated. Instead, use mapreduce.map.input.start\n",
      "19/08/13 12:03:24 INFO Configuration.deprecation: mapred.task.is.map is deprecated. Instead, use mapreduce.task.ismap\n",
      "19/08/13 12:03:24 INFO Configuration.deprecation: mapred.task.id is deprecated. Instead, use mapreduce.task.attempt.id\n",
      "19/08/13 12:03:24 INFO Configuration.deprecation: mapred.tip.id is deprecated. Instead, use mapreduce.task.id\n",
      "19/08/13 12:03:24 INFO Configuration.deprecation: mapred.local.dir is deprecated. Instead, use mapreduce.cluster.local.dir\n",
      "19/08/13 12:03:24 INFO Configuration.deprecation: map.input.file is deprecated. Instead, use mapreduce.map.input.file\n",
      "19/08/13 12:03:24 INFO Configuration.deprecation: mapred.skip.on is deprecated. Instead, use mapreduce.job.skiprecords\n",
      "19/08/13 12:03:24 INFO Configuration.deprecation: map.input.length is deprecated. Instead, use mapreduce.map.input.length\n",
      "19/08/13 12:03:24 INFO Configuration.deprecation: mapred.job.id is deprecated. Instead, use mapreduce.job.id\n",
      "19/08/13 12:03:24 INFO Configuration.deprecation: user.name is deprecated. Instead, use mapreduce.job.user.name\n",
      "19/08/13 12:03:24 INFO Configuration.deprecation: mapred.task.partition is deprecated. Instead, use mapreduce.task.partition\n",
      "19/08/13 12:03:24 WARN partition.KeyFieldBasedPartitioner: Using deprecated num.key.fields.for.partition. Use mapreduce.partition.keypartitioner.options instead\n",
      "19/08/13 12:03:24 WARN partition.KeyFieldBasedPartitioner: Using deprecated num.key.fields.for.partition. Use mapreduce.partition.keypartitioner.options instead\n",
      "19/08/13 12:03:24 INFO streaming.PipeMapRed: R/W/S=1/0/0 in:NA [rec/s] out:NA [rec/s]\n",
      "19/08/13 12:03:24 INFO mapreduce.Job: Job job_local1201774250_0001 running in uber mode : false\n",
      "19/08/13 12:03:24 INFO mapreduce.Job:  map 0% reduce 0%\n",
      "19/08/13 12:03:24 INFO streaming.PipeMapRed: MRErrorThread done\n",
      "19/08/13 12:03:24 INFO streaming.PipeMapRed: Records R/W=8/1\n",
      "19/08/13 12:03:24 INFO streaming.PipeMapRed: mapRedFinished\n",
      "19/08/13 12:03:24 INFO mapred.LocalJobRunner: \n",
      "19/08/13 12:03:24 INFO mapred.MapTask: Starting flush of map output\n",
      "19/08/13 12:03:24 INFO mapred.MapTask: Spilling map output\n",
      "19/08/13 12:03:24 INFO mapred.MapTask: bufstart = 0; bufend = 144; bufvoid = 104857600\n",
      "19/08/13 12:03:24 INFO mapred.MapTask: kvstart = 26214396(104857584); kvend = 26214368(104857472); length = 29/6553600\n",
      "19/08/13 12:03:25 INFO mapred.MapTask: Finished spill 0\n",
      "19/08/13 12:03:25 INFO mapred.Task: Task:attempt_local1201774250_0001_m_000000_0 is done. And is in the process of committing\n",
      "19/08/13 12:03:25 INFO mapred.LocalJobRunner: Records R/W=8/1\n",
      "19/08/13 12:03:25 INFO mapred.Task: Task 'attempt_local1201774250_0001_m_000000_0' done.\n",
      "19/08/13 12:03:25 INFO mapred.Task: Final Counters for attempt_local1201774250_0001_m_000000_0: Counters: 17\n",
      "\tFile System Counters\n",
      "\t\tFILE: Number of bytes read=2297\n",
      "\t\tFILE: Number of bytes written=378399\n",
      "\t\tFILE: Number of read operations=0\n",
      "\t\tFILE: Number of large read operations=0\n",
      "\t\tFILE: Number of write operations=0\n",
      "\tMap-Reduce Framework\n",
      "\t\tMap input records=8\n",
      "\t\tMap output records=8\n",
      "\t\tMap output bytes=144\n",
      "\t\tMap output materialized bytes=172\n",
      "\t\tInput split bytes=80\n",
      "\t\tCombine input records=0\n",
      "\t\tSpilled Records=8\n",
      "\t\tFailed Shuffles=0\n",
      "\t\tMerged Map outputs=0\n",
      "\t\tGC time elapsed (ms)=0\n",
      "\t\tTotal committed heap usage (bytes)=189267968\n",
      "\tFile Input Format Counters \n",
      "\t\tBytes Read=170\n",
      "19/08/13 12:03:25 INFO mapred.LocalJobRunner: Finishing task: attempt_local1201774250_0001_m_000000_0\n",
      "19/08/13 12:03:25 INFO mapred.LocalJobRunner: map task executor complete.\n",
      "19/08/13 12:03:25 INFO mapred.LocalJobRunner: Waiting for reduce tasks\n",
      "19/08/13 12:03:25 INFO mapred.LocalJobRunner: Starting task: attempt_local1201774250_0001_r_000000_0\n",
      "19/08/13 12:03:25 INFO output.FileOutputCommitter: File Output Committer Algorithm version is 1\n",
      "19/08/13 12:03:25 INFO output.FileOutputCommitter: FileOutputCommitter skip cleanup _temporary folders under output directory:false, ignore cleanup failures: false\n",
      "19/08/13 12:03:25 INFO mapred.Task:  Using ResourceCalculatorProcessTree : [ ]\n",
      "19/08/13 12:03:25 INFO mapred.ReduceTask: Using ShuffleConsumerPlugin: org.apache.hadoop.mapreduce.task.reduce.Shuffle@2087a46a\n",
      "19/08/13 12:03:25 INFO reduce.MergeManagerImpl: MergerManager: memoryLimit=334338464, maxSingleShuffleLimit=83584616, mergeThreshold=220663392, ioSortFactor=10, memToMemMergeOutputsThreshold=10\n",
      "19/08/13 12:03:25 INFO reduce.EventFetcher: attempt_local1201774250_0001_r_000000_0 Thread started: EventFetcher for fetching Map Completion Events\n"
     ]
    },
    {
     "name": "stdout",
     "output_type": "stream",
     "text": [
      "19/08/13 12:03:25 INFO reduce.LocalFetcher: localfetcher#1 about to shuffle output of map attempt_local1201774250_0001_m_000000_0 decomp: 102 len: 106 to MEMORY\n",
      "19/08/13 12:03:25 INFO reduce.InMemoryMapOutput: Read 102 bytes from map-output for attempt_local1201774250_0001_m_000000_0\n",
      "19/08/13 12:03:25 INFO reduce.MergeManagerImpl: closeInMemoryFile -> map-output of size: 102, inMemoryMapOutputs.size() -> 1, commitMemory -> 0, usedMemory ->102\n",
      "19/08/13 12:03:25 INFO reduce.EventFetcher: EventFetcher is interrupted.. Returning\n",
      "19/08/13 12:03:25 INFO mapred.LocalJobRunner: 1 / 1 copied.\n",
      "19/08/13 12:03:25 INFO reduce.MergeManagerImpl: finalMerge called with 1 in-memory map-outputs and 0 on-disk map-outputs\n",
      "19/08/13 12:03:25 INFO mapred.Merger: Merging 1 sorted segments\n",
      "19/08/13 12:03:25 INFO mapred.Merger: Down to the last merge-pass, with 1 segments left of total size: 86 bytes\n",
      "19/08/13 12:03:25 INFO reduce.MergeManagerImpl: Merged 1 segments, 102 bytes to disk to satisfy reduce memory limit\n",
      "19/08/13 12:03:25 INFO reduce.MergeManagerImpl: Merging 1 files, 106 bytes from disk\n",
      "19/08/13 12:03:25 INFO reduce.MergeManagerImpl: Merging 0 segments, 0 bytes from memory into reduce\n",
      "19/08/13 12:03:25 INFO mapred.Merger: Merging 1 sorted segments\n",
      "19/08/13 12:03:25 INFO mapred.Merger: Down to the last merge-pass, with 1 segments left of total size: 86 bytes\n",
      "19/08/13 12:03:25 INFO mapred.LocalJobRunner: 1 / 1 copied.\n",
      "19/08/13 12:03:25 INFO streaming.PipeMapRed: PipeMapRed exec [/usr/spark-2.3.0/./plate_partition_reducer.py]\n",
      "19/08/13 12:03:25 INFO Configuration.deprecation: mapred.job.tracker is deprecated. Instead, use mapreduce.jobtracker.address\n",
      "19/08/13 12:03:25 INFO Configuration.deprecation: mapred.map.tasks is deprecated. Instead, use mapreduce.job.maps\n",
      "19/08/13 12:03:25 INFO streaming.PipeMapRed: R/W/S=1/0/0 in:NA [rec/s] out:NA [rec/s]\n",
      "19/08/13 12:03:25 INFO streaming.PipeMapRed: Records R/W=5/1\n",
      "19/08/13 12:03:25 INFO streaming.PipeMapRed: MRErrorThread done\n",
      "19/08/13 12:03:25 INFO streaming.PipeMapRed: mapRedFinished\n",
      "19/08/13 12:03:25 INFO mapred.Task: Task:attempt_local1201774250_0001_r_000000_0 is done. And is in the process of committing\n",
      "19/08/13 12:03:25 INFO mapred.LocalJobRunner: 1 / 1 copied.\n",
      "19/08/13 12:03:25 INFO mapred.Task: Task attempt_local1201774250_0001_r_000000_0 is allowed to commit now\n",
      "19/08/13 12:03:25 INFO output.FileOutputCommitter: Saved output of task 'attempt_local1201774250_0001_r_000000_0' to file:/output/plates_part/_temporary/0/task_local1201774250_0001_r_000000\n",
      "19/08/13 12:03:25 INFO mapred.LocalJobRunner: Records R/W=5/1 > reduce\n",
      "19/08/13 12:03:25 INFO mapred.Task: Task 'attempt_local1201774250_0001_r_000000_0' done.\n",
      "19/08/13 12:03:25 INFO mapred.Task: Final Counters for attempt_local1201774250_0001_r_000000_0: Counters: 24\n",
      "\tFile System Counters\n",
      "\t\tFILE: Number of bytes read=2631\n",
      "\t\tFILE: Number of bytes written=378535\n",
      "\t\tFILE: Number of read operations=0\n",
      "\t\tFILE: Number of large read operations=0\n",
      "\t\tFILE: Number of write operations=0\n",
      "\tMap-Reduce Framework\n",
      "\t\tCombine input records=0\n",
      "\t\tCombine output records=0\n",
      "\t\tReduce input groups=5\n",
      "\t\tReduce shuffle bytes=106\n",
      "\t\tReduce input records=5\n",
      "\t\tReduce output records=2\n",
      "\t\tSpilled Records=5\n",
      "\t\tShuffled Maps =1\n",
      "\t\tFailed Shuffles=0\n",
      "\t\tMerged Map outputs=1\n",
      "\t\tGC time elapsed (ms)=0\n",
      "\t\tTotal committed heap usage (bytes)=189267968\n",
      "\tShuffle Errors\n",
      "\t\tBAD_ID=0\n",
      "\t\tCONNECTION=0\n",
      "\t\tIO_ERROR=0\n",
      "\t\tWRONG_LENGTH=0\n",
      "\t\tWRONG_MAP=0\n",
      "\t\tWRONG_REDUCE=0\n",
      "\tFile Output Format Counters \n",
      "\t\tBytes Written=30\n",
      "19/08/13 12:03:25 INFO mapred.LocalJobRunner: Finishing task: attempt_local1201774250_0001_r_000000_0\n",
      "19/08/13 12:03:25 INFO mapred.LocalJobRunner: Starting task: attempt_local1201774250_0001_r_000001_0\n",
      "19/08/13 12:03:25 INFO output.FileOutputCommitter: File Output Committer Algorithm version is 1\n",
      "19/08/13 12:03:25 INFO output.FileOutputCommitter: FileOutputCommitter skip cleanup _temporary folders under output directory:false, ignore cleanup failures: false\n",
      "19/08/13 12:03:25 INFO mapred.Task:  Using ResourceCalculatorProcessTree : [ ]\n",
      "19/08/13 12:03:25 INFO mapred.ReduceTask: Using ShuffleConsumerPlugin: org.apache.hadoop.mapreduce.task.reduce.Shuffle@3003aec9\n",
      "19/08/13 12:03:25 INFO reduce.MergeManagerImpl: MergerManager: memoryLimit=334338464, maxSingleShuffleLimit=83584616, mergeThreshold=220663392, ioSortFactor=10, memToMemMergeOutputsThreshold=10\n",
      "19/08/13 12:03:25 INFO reduce.EventFetcher: attempt_local1201774250_0001_r_000001_0 Thread started: EventFetcher for fetching Map Completion Events\n",
      "19/08/13 12:03:25 INFO reduce.LocalFetcher: localfetcher#2 about to shuffle output of map attempt_local1201774250_0001_m_000000_0 decomp: 62 len: 66 to MEMORY\n",
      "19/08/13 12:03:25 INFO reduce.InMemoryMapOutput: Read 62 bytes from map-output for attempt_local1201774250_0001_m_000000_0\n",
      "19/08/13 12:03:25 INFO reduce.MergeManagerImpl: closeInMemoryFile -> map-output of size: 62, inMemoryMapOutputs.size() -> 1, commitMemory -> 0, usedMemory ->62\n",
      "19/08/13 12:03:25 INFO reduce.EventFetcher: EventFetcher is interrupted.. Returning\n",
      "19/08/13 12:03:25 INFO mapred.LocalJobRunner: 1 / 1 copied.\n",
      "19/08/13 12:03:25 INFO reduce.MergeManagerImpl: finalMerge called with 1 in-memory map-outputs and 0 on-disk map-outputs\n",
      "19/08/13 12:03:25 INFO mapred.Merger: Merging 1 sorted segments\n",
      "19/08/13 12:03:25 INFO mapred.Merger: Down to the last merge-pass, with 1 segments left of total size: 46 bytes\n",
      "19/08/13 12:03:25 INFO reduce.MergeManagerImpl: Merged 1 segments, 62 bytes to disk to satisfy reduce memory limit\n",
      "19/08/13 12:03:25 INFO reduce.MergeManagerImpl: Merging 1 files, 66 bytes from disk\n",
      "19/08/13 12:03:25 INFO reduce.MergeManagerImpl: Merging 0 segments, 0 bytes from memory into reduce\n",
      "19/08/13 12:03:25 INFO mapred.Merger: Merging 1 sorted segments\n",
      "19/08/13 12:03:25 WARN io.ReadaheadPool: Failed readahead on ifile\n",
      "EBADF: Bad file descriptor\n",
      "\tat org.apache.hadoop.io.nativeio.NativeIO$POSIX.posix_fadvise(Native Method)\n",
      "\tat org.apache.hadoop.io.nativeio.NativeIO$POSIX.posixFadviseIfPossible(NativeIO.java:267)\n",
      "\tat org.apache.hadoop.io.nativeio.NativeIO$POSIX$CacheManipulator.posixFadviseIfPossible(NativeIO.java:146)\n",
      "\tat org.apache.hadoop.io.ReadaheadPool$ReadaheadRequestImpl.run(ReadaheadPool.java:208)\n",
      "\tat java.util.concurrent.ThreadPoolExecutor.runWorker(ThreadPoolExecutor.java:1142)\n",
      "\tat java.util.concurrent.ThreadPoolExecutor$Worker.run(ThreadPoolExecutor.java:617)\n",
      "\tat java.lang.Thread.run(Thread.java:748)\n",
      "19/08/13 12:03:25 INFO mapred.Merger: Down to the last merge-pass, with 1 segments left of total size: 46 bytes\n",
      "19/08/13 12:03:25 INFO mapred.LocalJobRunner: 1 / 1 copied.\n",
      "19/08/13 12:03:25 INFO streaming.PipeMapRed: PipeMapRed exec [/usr/spark-2.3.0/./plate_partition_reducer.py]\n",
      "19/08/13 12:03:25 INFO streaming.PipeMapRed: R/W/S=1/0/0 in:NA [rec/s] out:NA [rec/s]\n",
      "19/08/13 12:03:25 INFO streaming.PipeMapRed: Records R/W=3/1\n",
      "19/08/13 12:03:25 INFO streaming.PipeMapRed: MRErrorThread done\n",
      "19/08/13 12:03:25 INFO streaming.PipeMapRed: mapRedFinished\n",
      "19/08/13 12:03:25 INFO mapred.Task: Task:attempt_local1201774250_0001_r_000001_0 is done. And is in the process of committing\n",
      "19/08/13 12:03:25 INFO mapred.LocalJobRunner: 1 / 1 copied.\n",
      "19/08/13 12:03:25 INFO mapred.Task: Task attempt_local1201774250_0001_r_000001_0 is allowed to commit now\n",
      "19/08/13 12:03:25 INFO output.FileOutputCommitter: Saved output of task 'attempt_local1201774250_0001_r_000001_0' to file:/output/plates_part/_temporary/0/task_local1201774250_0001_r_000001\n",
      "19/08/13 12:03:25 INFO mapred.LocalJobRunner: Records R/W=3/1 > reduce\n",
      "19/08/13 12:03:25 INFO mapred.Task: Task 'attempt_local1201774250_0001_r_000001_0' done.\n",
      "19/08/13 12:03:25 INFO mapred.Task: Final Counters for attempt_local1201774250_0001_r_000001_0: Counters: 24\n",
      "\tFile System Counters\n",
      "\t\tFILE: Number of bytes read=2819\n",
      "\t\tFILE: Number of bytes written=378630\n",
      "\t\tFILE: Number of read operations=0\n",
      "\t\tFILE: Number of large read operations=0\n",
      "\t\tFILE: Number of write operations=0\n",
      "\tMap-Reduce Framework\n",
      "\t\tCombine input records=0\n",
      "\t\tCombine output records=0\n",
      "\t\tReduce input groups=3\n",
      "\t\tReduce shuffle bytes=66\n",
      "\t\tReduce input records=3\n",
      "\t\tReduce output records=2\n",
      "\t\tSpilled Records=3\n",
      "\t\tShuffled Maps =1\n",
      "\t\tFailed Shuffles=0\n",
      "\t\tMerged Map outputs=1\n",
      "\t\tGC time elapsed (ms)=17\n",
      "\t\tTotal committed heap usage (bytes)=189792256\n",
      "\tShuffle Errors\n",
      "\t\tBAD_ID=0\n",
      "\t\tCONNECTION=0\n",
      "\t\tIO_ERROR=0\n",
      "\t\tWRONG_LENGTH=0\n",
      "\t\tWRONG_MAP=0\n",
      "\t\tWRONG_REDUCE=0\n",
      "\tFile Output Format Counters \n",
      "\t\tBytes Written=29\n",
      "19/08/13 12:03:25 INFO mapred.LocalJobRunner: Finishing task: attempt_local1201774250_0001_r_000001_0\n",
      "19/08/13 12:03:25 INFO mapred.LocalJobRunner: reduce task executor complete.\n",
      "19/08/13 12:03:25 INFO mapreduce.Job:  map 100% reduce 100%\n"
     ]
    },
    {
     "name": "stdout",
     "output_type": "stream",
     "text": [
      "19/08/13 12:03:26 INFO mapreduce.Job: Job job_local1201774250_0001 completed successfully\n",
      "19/08/13 12:03:27 INFO mapreduce.Job: Counters: 30\n",
      "\tFile System Counters\n",
      "\t\tFILE: Number of bytes read=7747\n",
      "\t\tFILE: Number of bytes written=1135564\n",
      "\t\tFILE: Number of read operations=0\n",
      "\t\tFILE: Number of large read operations=0\n",
      "\t\tFILE: Number of write operations=0\n",
      "\tMap-Reduce Framework\n",
      "\t\tMap input records=8\n",
      "\t\tMap output records=8\n",
      "\t\tMap output bytes=144\n",
      "\t\tMap output materialized bytes=172\n",
      "\t\tInput split bytes=80\n",
      "\t\tCombine input records=0\n",
      "\t\tCombine output records=0\n",
      "\t\tReduce input groups=8\n",
      "\t\tReduce shuffle bytes=172\n",
      "\t\tReduce input records=8\n",
      "\t\tReduce output records=4\n",
      "\t\tSpilled Records=16\n",
      "\t\tShuffled Maps =2\n",
      "\t\tFailed Shuffles=0\n",
      "\t\tMerged Map outputs=2\n",
      "\t\tGC time elapsed (ms)=17\n",
      "\t\tTotal committed heap usage (bytes)=568328192\n",
      "\tShuffle Errors\n",
      "\t\tBAD_ID=0\n",
      "\t\tCONNECTION=0\n",
      "\t\tIO_ERROR=0\n",
      "\t\tWRONG_LENGTH=0\n",
      "\t\tWRONG_MAP=0\n",
      "\t\tWRONG_REDUCE=0\n",
      "\tFile Input Format Counters \n",
      "\t\tBytes Read=170\n",
      "\tFile Output Format Counters \n",
      "\t\tBytes Written=59\n",
      "19/08/13 12:03:27 INFO streaming.StreamJob: Output directory: /output/plates_part\n",
      "Found 3 items\n",
      "-rw-r--r--   1 root root          0 2019-08-13 12:03 /output/plates_part/_SUCCESS\n",
      "-rw-r--r--   1 root root         18 2019-08-13 12:03 /output/plates_part/part-00000\n",
      "-rw-r--r--   1 root root         17 2019-08-13 12:03 /output/plates_part/part-00001\n"
     ]
    }
   ],
   "source": [
    "!docker exec master \\\n",
    "/root/plate_partition_run.sh"
   ]
  },
  {
   "cell_type": "code",
   "execution_count": 238,
   "metadata": {},
   "outputs": [
    {
     "name": "stdout",
     "output_type": "stream",
     "text": [
      "晋\t2101\r\n",
      "鲁\t1206\r\n"
     ]
    }
   ],
   "source": [
    "!docker exec master \\\n",
    "hadoop fs -cat /output/plates_part/part-00000"
   ]
  },
  {
   "cell_type": "code",
   "execution_count": 239,
   "metadata": {},
   "outputs": [
    {
     "name": "stdout",
     "output_type": "stream",
     "text": [
      "桂\t1356\r\n",
      "黑\t235\r\n"
     ]
    }
   ],
   "source": [
    "!docker exec master \\\n",
    "hadoop fs -cat /output/plates_part/part-00001"
   ]
  },
  {
   "cell_type": "markdown",
   "metadata": {},
   "source": [
    "#### 2. 运行二次排序\n",
    "\n",
    "##### 编写启动脚本（plate_secsort_run.sh）"
   ]
  },
  {
   "cell_type": "code",
   "execution_count": 257,
   "metadata": {},
   "outputs": [
    {
     "name": "stdout",
     "output_type": "stream",
     "text": [
      "#!/bin/bash\r\n",
      "EXEC_PATH=$(dirname \"$0\")\r\n",
      "HP_CMD=hadoop\r\n",
      "JAR_PACKAGE=/usr/hadoop-2.8.3/share/hadoop/tools/lib/hadoop-streaming-2.8.3.jar\r\n",
      "IN_PATH=/input/plates_data2.txt\r\n",
      "OUT_PATH=/output/plates_secsort\r\n",
      "MAP_FILE=${EXEC_PATH}/plate_secsort_mapper.py\r\n",
      "RED_FILE=${EXEC_PATH}/plate_secsort_reducer.py\r\n",
      "$HP_CMD fs -rm -r $OUT_PATH\r\n",
      "$HP_CMD jar $JAR_PACKAGE \\\r\n",
      "-D mapred.job.queue.name=bdev \\\r\n",
      "-D stream.map.input.ignoreKey=true \\\r\n",
      "-D stream.map.output.field.separator=, \\\r\n",
      "-D stream.num.map.output.key.fields=3 \\\r\n",
      "-D map.output.key.field.separator=, \\\r\n",
      "-D num.key.fields.for.partition=1 \\\r\n",
      "-D mapred.output.key.comparator.class=\\\r\n",
      "org.apache.hadoop.mapred.lib.KeyFieldBasedComparator \\\r\n",
      "-D mapred.text.key.comparator.options=-k3,3nr \\\r\n",
      "-numReduceTasks 5 \\\r\n",
      "-input $IN_PATH \\\r\n",
      "-output $OUT_PATH \\\r\n",
      "-file $MAP_FILE \\\r\n",
      "-file $RED_FILE \\\r\n",
      "-mapper $MAP_FILE \\\r\n",
      "-reducer $RED_FILE \\\r\n",
      "-partitioner org.apache.hadoop.mapred.lib.KeyFieldBasedPartitioner\r\n",
      "$HP_CMD fs -ls $OUT_PATH"
     ]
    }
   ],
   "source": [
    "!cat input_files/plate_secsort_run.sh"
   ]
  },
  {
   "cell_type": "code",
   "execution_count": 113,
   "metadata": {},
   "outputs": [],
   "source": [
    "!docker cp data/plates_data2.txt master:/root/"
   ]
  },
  {
   "cell_type": "code",
   "execution_count": 114,
   "metadata": {},
   "outputs": [],
   "source": [
    "!docker cp input_files/plate_secsort_mapper.py master:/root/"
   ]
  },
  {
   "cell_type": "code",
   "execution_count": 115,
   "metadata": {},
   "outputs": [],
   "source": [
    "!docker cp input_files/plate_secsort_reducer.py master:/root/"
   ]
  },
  {
   "cell_type": "code",
   "execution_count": 258,
   "metadata": {},
   "outputs": [],
   "source": [
    "!docker cp input_files/plate_secsort_run.sh master:/root/"
   ]
  },
  {
   "cell_type": "markdown",
   "metadata": {},
   "source": [
    "##### 上传数据到 hadoop 集群并提交 MR Job"
   ]
  },
  {
   "cell_type": "code",
   "execution_count": 117,
   "metadata": {},
   "outputs": [],
   "source": [
    "!docker exec master \\\n",
    "hadoop fs -put /root/plates_data2.txt /input/"
   ]
  },
  {
   "cell_type": "code",
   "execution_count": 259,
   "metadata": {},
   "outputs": [],
   "source": [
    "!docker exec master \\\n",
    "chmod +x /root/plate_secsort_run.sh"
   ]
  },
  {
   "cell_type": "code",
   "execution_count": 260,
   "metadata": {},
   "outputs": [
    {
     "name": "stdout",
     "output_type": "stream",
     "text": [
      "19/08/13 12:12:16 INFO Configuration.deprecation: io.bytes.per.checksum is deprecated. Instead, use dfs.bytes-per-checksum\n",
      "Deleted /output/plates_secsort\n",
      "19/08/13 12:12:17 WARN streaming.StreamJob: -file option is deprecated, please use generic option -files instead.\n",
      "packageJobJar: [/root/plate_secsort_mapper.py, /root/plate_secsort_reducer.py] [] /tmp/streamjob6141640170064330830.jar tmpDir=null\n",
      "19/08/13 12:12:18 INFO Configuration.deprecation: session.id is deprecated. Instead, use dfs.metrics.session-id\n",
      "19/08/13 12:12:18 INFO jvm.JvmMetrics: Initializing JVM Metrics with processName=JobTracker, sessionId=\n",
      "19/08/13 12:12:18 INFO jvm.JvmMetrics: Cannot initialize JVM Metrics with processName=JobTracker, sessionId= - already initialized\n",
      "19/08/13 12:12:19 INFO mapred.FileInputFormat: Total input files to process : 1\n",
      "19/08/13 12:12:19 INFO mapreduce.JobSubmitter: number of splits:1\n",
      "19/08/13 12:12:19 INFO Configuration.deprecation: mapred.job.queue.name is deprecated. Instead, use mapreduce.job.queuename\n",
      "19/08/13 12:12:19 INFO Configuration.deprecation: map.output.key.field.separator is deprecated. Instead, use mapreduce.map.output.key.field.separator\n",
      "19/08/13 12:12:19 INFO Configuration.deprecation: mapred.text.key.comparator.options is deprecated. Instead, use mapreduce.partition.keycomparator.options\n",
      "19/08/13 12:12:19 INFO Configuration.deprecation: mapred.output.key.comparator.class is deprecated. Instead, use mapreduce.job.output.key.comparator.class\n",
      "19/08/13 12:12:19 INFO mapreduce.JobSubmitter: Submitting tokens for job: job_local234080687_0001\n",
      "19/08/13 12:12:20 INFO mapred.LocalDistributedCacheManager: Localized file:/root/plate_secsort_mapper.py as file:/tmp/hadoop-root/mapred/local/1565698340045/plate_secsort_mapper.py\n",
      "19/08/13 12:12:20 INFO mapred.LocalDistributedCacheManager: Localized file:/root/plate_secsort_reducer.py as file:/tmp/hadoop-root/mapred/local/1565698340046/plate_secsort_reducer.py\n",
      "19/08/13 12:12:20 INFO mapreduce.Job: The url to track the job: http://localhost:8080/\n",
      "19/08/13 12:12:20 INFO mapreduce.Job: Running job: job_local234080687_0001\n",
      "19/08/13 12:12:20 INFO mapred.LocalJobRunner: OutputCommitter set in config null\n",
      "19/08/13 12:12:20 INFO mapred.LocalJobRunner: OutputCommitter is org.apache.hadoop.mapred.FileOutputCommitter\n",
      "19/08/13 12:12:20 INFO output.FileOutputCommitter: File Output Committer Algorithm version is 1\n",
      "19/08/13 12:12:20 INFO output.FileOutputCommitter: FileOutputCommitter skip cleanup _temporary folders under output directory:false, ignore cleanup failures: false\n",
      "19/08/13 12:12:20 INFO mapred.LocalJobRunner: Waiting for map tasks\n",
      "19/08/13 12:12:20 INFO mapred.LocalJobRunner: Starting task: attempt_local234080687_0001_m_000000_0\n",
      "19/08/13 12:12:20 INFO output.FileOutputCommitter: File Output Committer Algorithm version is 1\n",
      "19/08/13 12:12:20 INFO output.FileOutputCommitter: FileOutputCommitter skip cleanup _temporary folders under output directory:false, ignore cleanup failures: false\n",
      "19/08/13 12:12:20 INFO mapred.Task:  Using ResourceCalculatorProcessTree : [ ]\n",
      "19/08/13 12:12:20 INFO mapred.MapTask: Processing split: file:/input/plates_data2.txt:0+186\n",
      "19/08/13 12:12:20 INFO mapred.MapTask: numReduceTasks: 5\n",
      "19/08/13 12:12:20 INFO mapred.MapTask: (EQUATOR) 0 kvi 26214396(104857584)\n",
      "19/08/13 12:12:20 INFO mapred.MapTask: mapreduce.task.io.sort.mb: 100\n",
      "19/08/13 12:12:20 INFO mapred.MapTask: soft limit at 83886080\n",
      "19/08/13 12:12:20 INFO mapred.MapTask: bufstart = 0; bufvoid = 104857600\n",
      "19/08/13 12:12:20 INFO mapred.MapTask: kvstart = 26214396; length = 6553600\n",
      "19/08/13 12:12:20 INFO mapred.MapTask: Map output collector class = org.apache.hadoop.mapred.MapTask$MapOutputBuffer\n",
      "19/08/13 12:12:20 INFO streaming.PipeMapRed: PipeMapRed exec [/usr/spark-2.3.0/./plate_secsort_mapper.py]\n",
      "19/08/13 12:12:20 INFO Configuration.deprecation: mapred.work.output.dir is deprecated. Instead, use mapreduce.task.output.dir\n",
      "19/08/13 12:12:20 INFO Configuration.deprecation: map.input.start is deprecated. Instead, use mapreduce.map.input.start\n",
      "19/08/13 12:12:20 INFO Configuration.deprecation: mapred.task.is.map is deprecated. Instead, use mapreduce.task.ismap\n",
      "19/08/13 12:12:20 INFO Configuration.deprecation: mapred.task.id is deprecated. Instead, use mapreduce.task.attempt.id\n",
      "19/08/13 12:12:20 INFO Configuration.deprecation: mapred.tip.id is deprecated. Instead, use mapreduce.task.id\n",
      "19/08/13 12:12:20 INFO Configuration.deprecation: mapred.local.dir is deprecated. Instead, use mapreduce.cluster.local.dir\n",
      "19/08/13 12:12:20 INFO Configuration.deprecation: map.input.file is deprecated. Instead, use mapreduce.map.input.file\n",
      "19/08/13 12:12:20 INFO Configuration.deprecation: mapred.skip.on is deprecated. Instead, use mapreduce.job.skiprecords\n",
      "19/08/13 12:12:20 INFO Configuration.deprecation: map.input.length is deprecated. Instead, use mapreduce.map.input.length\n",
      "19/08/13 12:12:20 INFO Configuration.deprecation: mapred.job.id is deprecated. Instead, use mapreduce.job.id\n",
      "19/08/13 12:12:20 INFO Configuration.deprecation: user.name is deprecated. Instead, use mapreduce.job.user.name\n",
      "19/08/13 12:12:20 INFO Configuration.deprecation: mapred.task.partition is deprecated. Instead, use mapreduce.task.partition\n",
      "19/08/13 12:12:20 WARN partition.KeyFieldBasedPartitioner: Using deprecated num.key.fields.for.partition. Use mapreduce.partition.keypartitioner.options instead\n",
      "19/08/13 12:12:20 WARN partition.KeyFieldBasedPartitioner: Using deprecated num.key.fields.for.partition. Use mapreduce.partition.keypartitioner.options instead\n",
      "19/08/13 12:12:20 INFO streaming.PipeMapRed: R/W/S=1/0/0 in:NA [rec/s] out:NA [rec/s]\n",
      "19/08/13 12:12:21 INFO streaming.PipeMapRed: MRErrorThread done\n",
      "19/08/13 12:12:21 INFO streaming.PipeMapRed: Records R/W=9/1\n",
      "19/08/13 12:12:21 INFO streaming.PipeMapRed: mapRedFinished\n",
      "19/08/13 12:12:21 INFO mapred.LocalJobRunner: \n",
      "19/08/13 12:12:21 INFO mapred.MapTask: Starting flush of map output\n",
      "19/08/13 12:12:21 INFO mapred.MapTask: Spilling map output\n",
      "19/08/13 12:12:21 INFO mapred.MapTask: bufstart = 0; bufend = 180; bufvoid = 104857600\n",
      "19/08/13 12:12:21 INFO mapred.MapTask: kvstart = 26214396(104857584); kvend = 26214364(104857456); length = 33/6553600\n",
      "19/08/13 12:12:21 INFO mapred.MapTask: Finished spill 0\n",
      "19/08/13 12:12:21 INFO mapred.Task: Task:attempt_local234080687_0001_m_000000_0 is done. And is in the process of committing\n",
      "19/08/13 12:12:21 INFO mapred.LocalJobRunner: Records R/W=9/1\n",
      "19/08/13 12:12:21 INFO mapred.Task: Task 'attempt_local234080687_0001_m_000000_0' done.\n",
      "19/08/13 12:12:21 INFO mapred.Task: Final Counters for attempt_local234080687_0001_m_000000_0: Counters: 17\n",
      "\tFile System Counters\n",
      "\t\tFILE: Number of bytes read=1752\n",
      "\t\tFILE: Number of bytes written=378015\n",
      "\t\tFILE: Number of read operations=0\n",
      "\t\tFILE: Number of large read operations=0\n",
      "\t\tFILE: Number of write operations=0\n",
      "\tMap-Reduce Framework\n",
      "\t\tMap input records=9\n",
      "\t\tMap output records=9\n",
      "\t\tMap output bytes=180\n",
      "\t\tMap output materialized bytes=228\n",
      "\t\tInput split bytes=80\n",
      "\t\tCombine input records=0\n",
      "\t\tSpilled Records=9\n",
      "\t\tFailed Shuffles=0\n",
      "\t\tMerged Map outputs=0\n",
      "\t\tGC time elapsed (ms)=0\n",
      "\t\tTotal committed heap usage (bytes)=201326592\n",
      "\tFile Input Format Counters \n",
      "\t\tBytes Read=206\n",
      "19/08/13 12:12:21 INFO mapred.LocalJobRunner: Finishing task: attempt_local234080687_0001_m_000000_0\n",
      "19/08/13 12:12:21 INFO mapred.LocalJobRunner: map task executor complete.\n",
      "19/08/13 12:12:21 INFO mapred.LocalJobRunner: Waiting for reduce tasks\n",
      "19/08/13 12:12:21 INFO mapred.LocalJobRunner: Starting task: attempt_local234080687_0001_r_000000_0\n",
      "19/08/13 12:12:21 INFO output.FileOutputCommitter: File Output Committer Algorithm version is 1\n",
      "19/08/13 12:12:21 INFO output.FileOutputCommitter: FileOutputCommitter skip cleanup _temporary folders under output directory:false, ignore cleanup failures: false\n",
      "19/08/13 12:12:21 INFO mapred.Task:  Using ResourceCalculatorProcessTree : [ ]\n",
      "19/08/13 12:12:21 INFO mapred.ReduceTask: Using ShuffleConsumerPlugin: org.apache.hadoop.mapreduce.task.reduce.Shuffle@922022d\n",
      "19/08/13 12:12:21 INFO reduce.MergeManagerImpl: MergerManager: memoryLimit=334338464, maxSingleShuffleLimit=83584616, mergeThreshold=220663392, ioSortFactor=10, memToMemMergeOutputsThreshold=10\n"
     ]
    },
    {
     "name": "stdout",
     "output_type": "stream",
     "text": [
      "19/08/13 12:12:21 INFO reduce.EventFetcher: attempt_local234080687_0001_r_000000_0 Thread started: EventFetcher for fetching Map Completion Events\n",
      "19/08/13 12:12:21 INFO reduce.LocalFetcher: localfetcher#1 about to shuffle output of map attempt_local234080687_0001_m_000000_0 decomp: 90 len: 94 to MEMORY\n",
      "19/08/13 12:12:21 INFO reduce.InMemoryMapOutput: Read 90 bytes from map-output for attempt_local234080687_0001_m_000000_0\n",
      "19/08/13 12:12:21 INFO reduce.MergeManagerImpl: closeInMemoryFile -> map-output of size: 90, inMemoryMapOutputs.size() -> 1, commitMemory -> 0, usedMemory ->90\n",
      "19/08/13 12:12:21 WARN io.ReadaheadPool: Failed readahead on ifile\n",
      "EBADF: Bad file descriptor\n",
      "\tat org.apache.hadoop.io.nativeio.NativeIO$POSIX.posix_fadvise(Native Method)\n",
      "\tat org.apache.hadoop.io.nativeio.NativeIO$POSIX.posixFadviseIfPossible(NativeIO.java:267)\n",
      "\tat org.apache.hadoop.io.nativeio.NativeIO$POSIX$CacheManipulator.posixFadviseIfPossible(NativeIO.java:146)\n",
      "\tat org.apache.hadoop.io.ReadaheadPool$ReadaheadRequestImpl.run(ReadaheadPool.java:208)\n",
      "\tat java.util.concurrent.ThreadPoolExecutor.runWorker(ThreadPoolExecutor.java:1142)\n",
      "\tat java.util.concurrent.ThreadPoolExecutor$Worker.run(ThreadPoolExecutor.java:617)\n",
      "\tat java.lang.Thread.run(Thread.java:748)\n",
      "19/08/13 12:12:21 INFO reduce.EventFetcher: EventFetcher is interrupted.. Returning\n",
      "19/08/13 12:12:21 INFO mapred.LocalJobRunner: 1 / 1 copied.\n",
      "19/08/13 12:12:21 INFO reduce.MergeManagerImpl: finalMerge called with 1 in-memory map-outputs and 0 on-disk map-outputs\n",
      "19/08/13 12:12:21 INFO mapreduce.Job: Job job_local234080687_0001 running in uber mode : false\n",
      "19/08/13 12:12:21 INFO mapreduce.Job:  map 100% reduce 0%\n",
      "19/08/13 12:12:21 INFO mapred.Merger: Merging 1 sorted segments\n",
      "19/08/13 12:12:21 INFO mapred.Merger: Down to the last merge-pass, with 1 segments left of total size: 72 bytes\n",
      "19/08/13 12:12:21 INFO reduce.MergeManagerImpl: Merged 1 segments, 90 bytes to disk to satisfy reduce memory limit\n",
      "19/08/13 12:12:21 INFO reduce.MergeManagerImpl: Merging 1 files, 94 bytes from disk\n",
      "19/08/13 12:12:21 INFO reduce.MergeManagerImpl: Merging 0 segments, 0 bytes from memory into reduce\n",
      "19/08/13 12:12:21 INFO mapred.Merger: Merging 1 sorted segments\n",
      "19/08/13 12:12:21 INFO mapred.Merger: Down to the last merge-pass, with 1 segments left of total size: 72 bytes\n",
      "19/08/13 12:12:21 INFO mapred.LocalJobRunner: 1 / 1 copied.\n",
      "19/08/13 12:12:21 INFO streaming.PipeMapRed: PipeMapRed exec [/usr/spark-2.3.0/./plate_secsort_reducer.py]\n",
      "19/08/13 12:12:21 INFO Configuration.deprecation: mapred.job.tracker is deprecated. Instead, use mapreduce.jobtracker.address\n",
      "19/08/13 12:12:21 INFO Configuration.deprecation: mapred.map.tasks is deprecated. Instead, use mapreduce.job.maps\n",
      "19/08/13 12:12:21 INFO streaming.PipeMapRed: R/W/S=1/0/0 in:NA [rec/s] out:NA [rec/s]\n",
      "19/08/13 12:12:21 INFO streaming.PipeMapRed: Records R/W=4/1\n",
      "19/08/13 12:12:21 INFO streaming.PipeMapRed: MRErrorThread done\n",
      "19/08/13 12:12:21 INFO streaming.PipeMapRed: mapRedFinished\n",
      "19/08/13 12:12:21 INFO mapred.Task: Task:attempt_local234080687_0001_r_000000_0 is done. And is in the process of committing\n",
      "19/08/13 12:12:21 INFO mapred.LocalJobRunner: 1 / 1 copied.\n",
      "19/08/13 12:12:21 INFO mapred.Task: Task attempt_local234080687_0001_r_000000_0 is allowed to commit now\n",
      "19/08/13 12:12:21 INFO output.FileOutputCommitter: Saved output of task 'attempt_local234080687_0001_r_000000_0' to file:/output/plates_secsort/_temporary/0/task_local234080687_0001_r_000000\n",
      "19/08/13 12:12:21 INFO mapred.LocalJobRunner: Records R/W=4/1 > reduce\n",
      "19/08/13 12:12:21 INFO mapred.Task: Task 'attempt_local234080687_0001_r_000000_0' done.\n",
      "19/08/13 12:12:21 INFO mapred.Task: Final Counters for attempt_local234080687_0001_r_000000_0: Counters: 24\n",
      "\tFile System Counters\n",
      "\t\tFILE: Number of bytes read=2202\n",
      "\t\tFILE: Number of bytes written=378201\n",
      "\t\tFILE: Number of read operations=0\n",
      "\t\tFILE: Number of large read operations=0\n",
      "\t\tFILE: Number of write operations=0\n",
      "\tMap-Reduce Framework\n",
      "\t\tCombine input records=0\n",
      "\t\tCombine output records=0\n",
      "\t\tReduce input groups=4\n",
      "\t\tReduce shuffle bytes=94\n",
      "\t\tReduce input records=4\n",
      "\t\tReduce output records=4\n",
      "\t\tSpilled Records=4\n",
      "\t\tShuffled Maps =1\n",
      "\t\tFailed Shuffles=0\n",
      "\t\tMerged Map outputs=1\n",
      "\t\tGC time elapsed (ms)=12\n",
      "\t\tTotal committed heap usage (bytes)=201850880\n",
      "\tShuffle Errors\n",
      "\t\tBAD_ID=0\n",
      "\t\tCONNECTION=0\n",
      "\t\tIO_ERROR=0\n",
      "\t\tWRONG_LENGTH=0\n",
      "\t\tWRONG_MAP=0\n",
      "\t\tWRONG_REDUCE=0\n",
      "\tFile Output Format Counters \n",
      "\t\tBytes Written=92\n",
      "19/08/13 12:12:21 INFO mapred.LocalJobRunner: Finishing task: attempt_local234080687_0001_r_000000_0\n",
      "19/08/13 12:12:21 INFO mapred.LocalJobRunner: Starting task: attempt_local234080687_0001_r_000001_0\n",
      "19/08/13 12:12:21 INFO output.FileOutputCommitter: File Output Committer Algorithm version is 1\n",
      "19/08/13 12:12:21 INFO output.FileOutputCommitter: FileOutputCommitter skip cleanup _temporary folders under output directory:false, ignore cleanup failures: false\n",
      "19/08/13 12:12:21 INFO mapred.Task:  Using ResourceCalculatorProcessTree : [ ]\n",
      "19/08/13 12:12:21 INFO mapred.ReduceTask: Using ShuffleConsumerPlugin: org.apache.hadoop.mapreduce.task.reduce.Shuffle@28731cb8\n",
      "19/08/13 12:12:21 INFO reduce.MergeManagerImpl: MergerManager: memoryLimit=334338464, maxSingleShuffleLimit=83584616, mergeThreshold=220663392, ioSortFactor=10, memToMemMergeOutputsThreshold=10\n",
      "19/08/13 12:12:21 INFO reduce.EventFetcher: attempt_local234080687_0001_r_000001_0 Thread started: EventFetcher for fetching Map Completion Events\n",
      "19/08/13 12:12:21 INFO reduce.LocalFetcher: localfetcher#2 about to shuffle output of map attempt_local234080687_0001_m_000000_0 decomp: 46 len: 50 to MEMORY\n",
      "19/08/13 12:12:21 INFO reduce.InMemoryMapOutput: Read 46 bytes from map-output for attempt_local234080687_0001_m_000000_0\n",
      "19/08/13 12:12:21 INFO reduce.MergeManagerImpl: closeInMemoryFile -> map-output of size: 46, inMemoryMapOutputs.size() -> 1, commitMemory -> 0, usedMemory ->46\n",
      "19/08/13 12:12:21 INFO reduce.EventFetcher: EventFetcher is interrupted.. Returning\n",
      "19/08/13 12:12:21 INFO mapred.LocalJobRunner: 1 / 1 copied.\n",
      "19/08/13 12:12:21 INFO reduce.MergeManagerImpl: finalMerge called with 1 in-memory map-outputs and 0 on-disk map-outputs\n",
      "19/08/13 12:12:21 INFO mapred.Merger: Merging 1 sorted segments\n",
      "19/08/13 12:12:21 INFO mapred.Merger: Down to the last merge-pass, with 1 segments left of total size: 28 bytes\n",
      "19/08/13 12:12:21 INFO reduce.MergeManagerImpl: Merged 1 segments, 46 bytes to disk to satisfy reduce memory limit\n",
      "19/08/13 12:12:21 INFO reduce.MergeManagerImpl: Merging 1 files, 50 bytes from disk\n",
      "19/08/13 12:12:21 INFO reduce.MergeManagerImpl: Merging 0 segments, 0 bytes from memory into reduce\n",
      "19/08/13 12:12:21 INFO mapred.Merger: Merging 1 sorted segments\n",
      "19/08/13 12:12:21 INFO mapred.Merger: Down to the last merge-pass, with 1 segments left of total size: 28 bytes\n",
      "19/08/13 12:12:21 INFO mapred.LocalJobRunner: 1 / 1 copied.\n",
      "19/08/13 12:12:21 INFO streaming.PipeMapRed: PipeMapRed exec [/usr/spark-2.3.0/./plate_secsort_reducer.py]\n",
      "19/08/13 12:12:21 INFO streaming.PipeMapRed: R/W/S=1/0/0 in:NA [rec/s] out:NA [rec/s]\n",
      "19/08/13 12:12:21 INFO streaming.PipeMapRed: Records R/W=2/1\n",
      "19/08/13 12:12:21 INFO streaming.PipeMapRed: MRErrorThread done\n",
      "19/08/13 12:12:21 INFO streaming.PipeMapRed: mapRedFinished\n",
      "19/08/13 12:12:21 INFO mapred.Task: Task:attempt_local234080687_0001_r_000001_0 is done. And is in the process of committing\n",
      "19/08/13 12:12:21 INFO mapred.LocalJobRunner: 1 / 1 copied.\n",
      "19/08/13 12:12:21 INFO mapred.Task: Task attempt_local234080687_0001_r_000001_0 is allowed to commit now\n",
      "19/08/13 12:12:21 INFO output.FileOutputCommitter: Saved output of task 'attempt_local234080687_0001_r_000001_0' to file:/output/plates_secsort/_temporary/0/task_local234080687_0001_r_000001\n",
      "19/08/13 12:12:21 INFO mapred.LocalJobRunner: Records R/W=2/1 > reduce\n",
      "19/08/13 12:12:21 INFO mapred.Task: Task 'attempt_local234080687_0001_r_000001_0' done.\n",
      "19/08/13 12:12:21 INFO mapred.Task: Final Counters for attempt_local234080687_0001_r_000001_0: Counters: 24\n",
      "\tFile System Counters\n",
      "\t\tFILE: Number of bytes read=2514\n",
      "\t\tFILE: Number of bytes written=378303\n",
      "\t\tFILE: Number of read operations=0\n",
      "\t\tFILE: Number of large read operations=0\n",
      "\t\tFILE: Number of write operations=0\n",
      "\tMap-Reduce Framework\n",
      "\t\tCombine input records=0\n",
      "\t\tCombine output records=0\n",
      "\t\tReduce input groups=2\n",
      "\t\tReduce shuffle bytes=50\n",
      "\t\tReduce input records=2\n",
      "\t\tReduce output records=2\n",
      "\t\tSpilled Records=2\n",
      "\t\tShuffled Maps =1\n",
      "\t\tFailed Shuffles=0\n",
      "\t\tMerged Map outputs=1\n",
      "\t\tGC time elapsed (ms)=0\n",
      "\t\tTotal committed heap usage (bytes)=201850880\n",
      "\tShuffle Errors\n",
      "\t\tBAD_ID=0\n",
      "\t\tCONNECTION=0\n",
      "\t\tIO_ERROR=0\n",
      "\t\tWRONG_LENGTH=0\n",
      "\t\tWRONG_MAP=0\n",
      "\t\tWRONG_REDUCE=0\n",
      "\tFile Output Format Counters \n",
      "\t\tBytes Written=52\n",
      "19/08/13 12:12:21 INFO mapred.LocalJobRunner: Finishing task: attempt_local234080687_0001_r_000001_0\n",
      "19/08/13 12:12:21 INFO mapred.LocalJobRunner: Starting task: attempt_local234080687_0001_r_000002_0\n",
      "19/08/13 12:12:21 INFO output.FileOutputCommitter: File Output Committer Algorithm version is 1\n",
      "19/08/13 12:12:21 INFO output.FileOutputCommitter: FileOutputCommitter skip cleanup _temporary folders under output directory:false, ignore cleanup failures: false\n",
      "19/08/13 12:12:21 INFO mapred.Task:  Using ResourceCalculatorProcessTree : [ ]\n",
      "19/08/13 12:12:21 INFO mapred.ReduceTask: Using ShuffleConsumerPlugin: org.apache.hadoop.mapreduce.task.reduce.Shuffle@5ba0211a\n",
      "19/08/13 12:12:21 INFO reduce.MergeManagerImpl: MergerManager: memoryLimit=334338464, maxSingleShuffleLimit=83584616, mergeThreshold=220663392, ioSortFactor=10, memToMemMergeOutputsThreshold=10\n",
      "19/08/13 12:12:21 INFO reduce.EventFetcher: attempt_local234080687_0001_r_000002_0 Thread started: EventFetcher for fetching Map Completion Events\n"
     ]
    },
    {
     "name": "stdout",
     "output_type": "stream",
     "text": [
      "19/08/13 12:12:21 INFO reduce.LocalFetcher: localfetcher#3 about to shuffle output of map attempt_local234080687_0001_m_000000_0 decomp: 68 len: 72 to MEMORY\n",
      "19/08/13 12:12:21 INFO reduce.InMemoryMapOutput: Read 68 bytes from map-output for attempt_local234080687_0001_m_000000_0\n",
      "19/08/13 12:12:21 INFO reduce.MergeManagerImpl: closeInMemoryFile -> map-output of size: 68, inMemoryMapOutputs.size() -> 1, commitMemory -> 0, usedMemory ->68\n",
      "19/08/13 12:12:21 INFO reduce.EventFetcher: EventFetcher is interrupted.. Returning\n",
      "19/08/13 12:12:21 INFO mapred.LocalJobRunner: 1 / 1 copied.\n",
      "19/08/13 12:12:21 INFO reduce.MergeManagerImpl: finalMerge called with 1 in-memory map-outputs and 0 on-disk map-outputs\n",
      "19/08/13 12:12:21 INFO mapred.Merger: Merging 1 sorted segments\n",
      "19/08/13 12:12:21 INFO mapred.Merger: Down to the last merge-pass, with 1 segments left of total size: 50 bytes\n",
      "19/08/13 12:12:21 INFO reduce.MergeManagerImpl: Merged 1 segments, 68 bytes to disk to satisfy reduce memory limit\n",
      "19/08/13 12:12:21 INFO reduce.MergeManagerImpl: Merging 1 files, 72 bytes from disk\n",
      "19/08/13 12:12:21 INFO reduce.MergeManagerImpl: Merging 0 segments, 0 bytes from memory into reduce\n",
      "19/08/13 12:12:21 INFO mapred.Merger: Merging 1 sorted segments\n",
      "19/08/13 12:12:21 INFO mapred.Merger: Down to the last merge-pass, with 1 segments left of total size: 50 bytes\n",
      "19/08/13 12:12:21 INFO mapred.LocalJobRunner: 1 / 1 copied.\n",
      "19/08/13 12:12:21 INFO streaming.PipeMapRed: PipeMapRed exec [/usr/spark-2.3.0/./plate_secsort_reducer.py]\n",
      "19/08/13 12:12:21 INFO streaming.PipeMapRed: R/W/S=1/0/0 in:NA [rec/s] out:NA [rec/s]\n",
      "19/08/13 12:12:21 INFO streaming.PipeMapRed: Records R/W=3/1\n",
      "19/08/13 12:12:21 INFO streaming.PipeMapRed: MRErrorThread done\n",
      "19/08/13 12:12:21 INFO streaming.PipeMapRed: mapRedFinished\n",
      "19/08/13 12:12:21 INFO mapred.Task: Task:attempt_local234080687_0001_r_000002_0 is done. And is in the process of committing\n",
      "19/08/13 12:12:21 INFO mapred.LocalJobRunner: 1 / 1 copied.\n",
      "19/08/13 12:12:21 INFO mapred.Task: Task attempt_local234080687_0001_r_000002_0 is allowed to commit now\n",
      "19/08/13 12:12:21 INFO output.FileOutputCommitter: Saved output of task 'attempt_local234080687_0001_r_000002_0' to file:/output/plates_secsort/_temporary/0/task_local234080687_0001_r_000002\n",
      "19/08/13 12:12:21 INFO mapred.LocalJobRunner: Records R/W=3/1 > reduce\n",
      "19/08/13 12:12:21 INFO mapred.Task: Task 'attempt_local234080687_0001_r_000002_0' done.\n",
      "19/08/13 12:12:22 INFO mapred.Task: Final Counters for attempt_local234080687_0001_r_000002_0: Counters: 24\n",
      "\tFile System Counters\n",
      "\t\tFILE: Number of bytes read=2798\n",
      "\t\tFILE: Number of bytes written=378447\n",
      "\t\tFILE: Number of read operations=0\n",
      "\t\tFILE: Number of large read operations=0\n",
      "\t\tFILE: Number of write operations=0\n",
      "\tMap-Reduce Framework\n",
      "\t\tCombine input records=0\n",
      "\t\tCombine output records=0\n",
      "\t\tReduce input groups=3\n",
      "\t\tReduce shuffle bytes=72\n",
      "\t\tReduce input records=3\n",
      "\t\tReduce output records=3\n",
      "\t\tSpilled Records=3\n",
      "\t\tShuffled Maps =1\n",
      "\t\tFailed Shuffles=0\n",
      "\t\tMerged Map outputs=1\n",
      "\t\tGC time elapsed (ms)=0\n",
      "\t\tTotal committed heap usage (bytes)=201850880\n",
      "\tShuffle Errors\n",
      "\t\tBAD_ID=0\n",
      "\t\tCONNECTION=0\n",
      "\t\tIO_ERROR=0\n",
      "\t\tWRONG_LENGTH=0\n",
      "\t\tWRONG_MAP=0\n",
      "\t\tWRONG_REDUCE=0\n",
      "\tFile Output Format Counters \n",
      "\t\tBytes Written=72\n",
      "19/08/13 12:12:22 INFO mapred.LocalJobRunner: Finishing task: attempt_local234080687_0001_r_000002_0\n",
      "19/08/13 12:12:22 INFO mapred.LocalJobRunner: Starting task: attempt_local234080687_0001_r_000003_0\n",
      "19/08/13 12:12:22 INFO output.FileOutputCommitter: File Output Committer Algorithm version is 1\n",
      "19/08/13 12:12:22 INFO output.FileOutputCommitter: FileOutputCommitter skip cleanup _temporary folders under output directory:false, ignore cleanup failures: false\n",
      "19/08/13 12:12:22 INFO mapred.Task:  Using ResourceCalculatorProcessTree : [ ]\n",
      "19/08/13 12:12:22 INFO mapred.ReduceTask: Using ShuffleConsumerPlugin: org.apache.hadoop.mapreduce.task.reduce.Shuffle@40c88080\n",
      "19/08/13 12:12:22 INFO reduce.MergeManagerImpl: MergerManager: memoryLimit=334338464, maxSingleShuffleLimit=83584616, mergeThreshold=220663392, ioSortFactor=10, memToMemMergeOutputsThreshold=10\n",
      "19/08/13 12:12:22 INFO reduce.EventFetcher: attempt_local234080687_0001_r_000003_0 Thread started: EventFetcher for fetching Map Completion Events\n",
      "19/08/13 12:12:22 INFO reduce.LocalFetcher: localfetcher#4 about to shuffle output of map attempt_local234080687_0001_m_000000_0 decomp: 2 len: 6 to MEMORY\n",
      "19/08/13 12:12:22 INFO reduce.InMemoryMapOutput: Read 2 bytes from map-output for attempt_local234080687_0001_m_000000_0\n",
      "19/08/13 12:12:22 INFO reduce.MergeManagerImpl: closeInMemoryFile -> map-output of size: 2, inMemoryMapOutputs.size() -> 1, commitMemory -> 0, usedMemory ->2\n",
      "19/08/13 12:12:22 INFO reduce.EventFetcher: EventFetcher is interrupted.. Returning\n",
      "19/08/13 12:12:22 INFO mapred.LocalJobRunner: 1 / 1 copied.\n",
      "19/08/13 12:12:22 INFO reduce.MergeManagerImpl: finalMerge called with 1 in-memory map-outputs and 0 on-disk map-outputs\n",
      "19/08/13 12:12:22 INFO mapred.Merger: Merging 1 sorted segments\n",
      "19/08/13 12:12:22 INFO mapred.Merger: Down to the last merge-pass, with 0 segments left of total size: 0 bytes\n",
      "19/08/13 12:12:22 INFO reduce.MergeManagerImpl: Merged 1 segments, 2 bytes to disk to satisfy reduce memory limit\n",
      "19/08/13 12:12:22 INFO reduce.MergeManagerImpl: Merging 1 files, 6 bytes from disk\n",
      "19/08/13 12:12:22 INFO reduce.MergeManagerImpl: Merging 0 segments, 0 bytes from memory into reduce\n",
      "19/08/13 12:12:22 INFO mapred.Merger: Merging 1 sorted segments\n",
      "19/08/13 12:12:22 INFO mapred.Merger: Down to the last merge-pass, with 0 segments left of total size: 0 bytes\n",
      "19/08/13 12:12:22 INFO mapred.LocalJobRunner: 1 / 1 copied.\n",
      "19/08/13 12:12:22 INFO streaming.PipeMapRed: PipeMapRed exec [/usr/spark-2.3.0/./plate_secsort_reducer.py]\n",
      "19/08/13 12:12:22 INFO streaming.PipeMapRed: MRErrorThread done\n",
      "19/08/13 12:12:22 INFO streaming.PipeMapRed: mapRedFinished\n",
      "19/08/13 12:12:22 INFO mapred.Task: Task:attempt_local234080687_0001_r_000003_0 is done. And is in the process of committing\n",
      "19/08/13 12:12:22 INFO mapred.LocalJobRunner: 1 / 1 copied.\n",
      "19/08/13 12:12:22 INFO mapred.Task: Task attempt_local234080687_0001_r_000003_0 is allowed to commit now\n",
      "19/08/13 12:12:22 INFO output.FileOutputCommitter: Saved output of task 'attempt_local234080687_0001_r_000003_0' to file:/output/plates_secsort/_temporary/0/task_local234080687_0001_r_000003\n",
      "19/08/13 12:12:22 INFO mapred.LocalJobRunner: reduce > reduce\n",
      "19/08/13 12:12:22 INFO mapred.Task: Task 'attempt_local234080687_0001_r_000003_0' done.\n",
      "19/08/13 12:12:22 INFO mapred.Task: Final Counters for attempt_local234080687_0001_r_000003_0: Counters: 24\n",
      "\tFile System Counters\n",
      "\t\tFILE: Number of bytes read=2944\n",
      "\t\tFILE: Number of bytes written=378461\n",
      "\t\tFILE: Number of read operations=0\n",
      "\t\tFILE: Number of large read operations=0\n",
      "\t\tFILE: Number of write operations=0\n",
      "\tMap-Reduce Framework\n",
      "\t\tCombine input records=0\n",
      "\t\tCombine output records=0\n",
      "\t\tReduce input groups=0\n",
      "\t\tReduce shuffle bytes=6\n",
      "\t\tReduce input records=0\n",
      "\t\tReduce output records=0\n",
      "\t\tSpilled Records=0\n",
      "\t\tShuffled Maps =1\n",
      "\t\tFailed Shuffles=0\n",
      "\t\tMerged Map outputs=1\n",
      "\t\tGC time elapsed (ms)=0\n",
      "\t\tTotal committed heap usage (bytes)=201850880\n",
      "\tShuffle Errors\n",
      "\t\tBAD_ID=0\n",
      "\t\tCONNECTION=0\n",
      "\t\tIO_ERROR=0\n",
      "\t\tWRONG_LENGTH=0\n",
      "\t\tWRONG_MAP=0\n",
      "\t\tWRONG_REDUCE=0\n",
      "\tFile Output Format Counters \n",
      "\t\tBytes Written=8\n",
      "19/08/13 12:12:22 INFO mapred.LocalJobRunner: Finishing task: attempt_local234080687_0001_r_000003_0\n",
      "19/08/13 12:12:22 INFO mapred.LocalJobRunner: Starting task: attempt_local234080687_0001_r_000004_0\n",
      "19/08/13 12:12:22 INFO output.FileOutputCommitter: File Output Committer Algorithm version is 1\n",
      "19/08/13 12:12:22 INFO output.FileOutputCommitter: FileOutputCommitter skip cleanup _temporary folders under output directory:false, ignore cleanup failures: false\n",
      "19/08/13 12:12:22 INFO mapred.Task:  Using ResourceCalculatorProcessTree : [ ]\n",
      "19/08/13 12:12:22 INFO mapred.ReduceTask: Using ShuffleConsumerPlugin: org.apache.hadoop.mapreduce.task.reduce.Shuffle@3dd4bf2\n",
      "19/08/13 12:12:22 INFO reduce.MergeManagerImpl: MergerManager: memoryLimit=334338464, maxSingleShuffleLimit=83584616, mergeThreshold=220663392, ioSortFactor=10, memToMemMergeOutputsThreshold=10\n",
      "19/08/13 12:12:22 INFO reduce.EventFetcher: attempt_local234080687_0001_r_000004_0 Thread started: EventFetcher for fetching Map Completion Events\n",
      "19/08/13 12:12:22 INFO reduce.LocalFetcher: localfetcher#5 about to shuffle output of map attempt_local234080687_0001_m_000000_0 decomp: 2 len: 6 to MEMORY\n",
      "19/08/13 12:12:22 INFO reduce.InMemoryMapOutput: Read 2 bytes from map-output for attempt_local234080687_0001_m_000000_0\n",
      "19/08/13 12:12:22 INFO reduce.MergeManagerImpl: closeInMemoryFile -> map-output of size: 2, inMemoryMapOutputs.size() -> 1, commitMemory -> 0, usedMemory ->2\n",
      "19/08/13 12:12:22 INFO reduce.EventFetcher: EventFetcher is interrupted.. Returning\n",
      "19/08/13 12:12:22 INFO mapred.LocalJobRunner: 1 / 1 copied.\n",
      "19/08/13 12:12:22 INFO reduce.MergeManagerImpl: finalMerge called with 1 in-memory map-outputs and 0 on-disk map-outputs\n",
      "19/08/13 12:12:22 INFO mapred.Merger: Merging 1 sorted segments\n",
      "19/08/13 12:12:22 INFO mapred.Merger: Down to the last merge-pass, with 0 segments left of total size: 0 bytes\n",
      "19/08/13 12:12:22 INFO reduce.MergeManagerImpl: Merged 1 segments, 2 bytes to disk to satisfy reduce memory limit\n",
      "19/08/13 12:12:22 INFO reduce.MergeManagerImpl: Merging 1 files, 6 bytes from disk\n",
      "19/08/13 12:12:22 INFO reduce.MergeManagerImpl: Merging 0 segments, 0 bytes from memory into reduce\n",
      "19/08/13 12:12:22 INFO mapred.Merger: Merging 1 sorted segments\n",
      "19/08/13 12:12:22 INFO mapred.Merger: Down to the last merge-pass, with 0 segments left of total size: 0 bytes\n",
      "19/08/13 12:12:22 INFO mapred.LocalJobRunner: 1 / 1 copied.\n",
      "19/08/13 12:12:22 INFO streaming.PipeMapRed: PipeMapRed exec [/usr/spark-2.3.0/./plate_secsort_reducer.py]\n"
     ]
    },
    {
     "name": "stdout",
     "output_type": "stream",
     "text": [
      "19/08/13 12:12:22 INFO streaming.PipeMapRed: MRErrorThread done\n",
      "19/08/13 12:12:22 INFO streaming.PipeMapRed: mapRedFinished\n",
      "19/08/13 12:12:22 INFO mapred.Task: Task:attempt_local234080687_0001_r_000004_0 is done. And is in the process of committing\n",
      "19/08/13 12:12:22 INFO mapred.LocalJobRunner: 1 / 1 copied.\n",
      "19/08/13 12:12:22 INFO mapred.Task: Task attempt_local234080687_0001_r_000004_0 is allowed to commit now\n",
      "19/08/13 12:12:22 INFO output.FileOutputCommitter: Saved output of task 'attempt_local234080687_0001_r_000004_0' to file:/output/plates_secsort/_temporary/0/task_local234080687_0001_r_000004\n",
      "19/08/13 12:12:22 INFO mapred.LocalJobRunner: reduce > reduce\n",
      "19/08/13 12:12:22 INFO mapred.Task: Task 'attempt_local234080687_0001_r_000004_0' done.\n",
      "19/08/13 12:12:22 INFO mapred.Task: Final Counters for attempt_local234080687_0001_r_000004_0: Counters: 24\n",
      "\tFile System Counters\n",
      "\t\tFILE: Number of bytes read=3084\n",
      "\t\tFILE: Number of bytes written=378475\n",
      "\t\tFILE: Number of read operations=0\n",
      "\t\tFILE: Number of large read operations=0\n",
      "\t\tFILE: Number of write operations=0\n",
      "\tMap-Reduce Framework\n",
      "\t\tCombine input records=0\n",
      "\t\tCombine output records=0\n",
      "\t\tReduce input groups=0\n",
      "\t\tReduce shuffle bytes=6\n",
      "\t\tReduce input records=0\n",
      "\t\tReduce output records=0\n",
      "\t\tSpilled Records=0\n",
      "\t\tShuffled Maps =1\n",
      "\t\tFailed Shuffles=0\n",
      "\t\tMerged Map outputs=1\n",
      "\t\tGC time elapsed (ms)=0\n",
      "\t\tTotal committed heap usage (bytes)=201850880\n",
      "\tShuffle Errors\n",
      "\t\tBAD_ID=0\n",
      "\t\tCONNECTION=0\n",
      "\t\tIO_ERROR=0\n",
      "\t\tWRONG_LENGTH=0\n",
      "\t\tWRONG_MAP=0\n",
      "\t\tWRONG_REDUCE=0\n",
      "\tFile Output Format Counters \n",
      "\t\tBytes Written=8\n",
      "19/08/13 12:12:22 INFO mapred.LocalJobRunner: Finishing task: attempt_local234080687_0001_r_000004_0\n",
      "19/08/13 12:12:22 INFO mapred.LocalJobRunner: reduce task executor complete.\n",
      "19/08/13 12:12:22 INFO mapreduce.Job:  map 100% reduce 100%\n",
      "19/08/13 12:12:22 INFO mapreduce.Job: Job job_local234080687_0001 completed successfully\n",
      "19/08/13 12:12:22 INFO mapreduce.Job: Counters: 30\n",
      "\tFile System Counters\n",
      "\t\tFILE: Number of bytes read=15294\n",
      "\t\tFILE: Number of bytes written=2269902\n",
      "\t\tFILE: Number of read operations=0\n",
      "\t\tFILE: Number of large read operations=0\n",
      "\t\tFILE: Number of write operations=0\n",
      "\tMap-Reduce Framework\n",
      "\t\tMap input records=9\n",
      "\t\tMap output records=9\n",
      "\t\tMap output bytes=180\n",
      "\t\tMap output materialized bytes=228\n",
      "\t\tInput split bytes=80\n",
      "\t\tCombine input records=0\n",
      "\t\tCombine output records=0\n",
      "\t\tReduce input groups=9\n",
      "\t\tReduce shuffle bytes=228\n",
      "\t\tReduce input records=9\n",
      "\t\tReduce output records=9\n",
      "\t\tSpilled Records=18\n",
      "\t\tShuffled Maps =5\n",
      "\t\tFailed Shuffles=0\n",
      "\t\tMerged Map outputs=5\n",
      "\t\tGC time elapsed (ms)=12\n",
      "\t\tTotal committed heap usage (bytes)=1210580992\n",
      "\tShuffle Errors\n",
      "\t\tBAD_ID=0\n",
      "\t\tCONNECTION=0\n",
      "\t\tIO_ERROR=0\n",
      "\t\tWRONG_LENGTH=0\n",
      "\t\tWRONG_MAP=0\n",
      "\t\tWRONG_REDUCE=0\n",
      "\tFile Input Format Counters \n",
      "\t\tBytes Read=206\n",
      "\tFile Output Format Counters \n",
      "\t\tBytes Written=232\n",
      "19/08/13 12:12:22 INFO streaming.StreamJob: Output directory: /output/plates_secsort\n",
      "Found 6 items\n",
      "-rw-r--r--   1 root root          0 2019-08-13 12:12 /output/plates_secsort/_SUCCESS\n",
      "-rw-r--r--   1 root root         80 2019-08-13 12:12 /output/plates_secsort/part-00000\n",
      "-rw-r--r--   1 root root         40 2019-08-13 12:12 /output/plates_secsort/part-00001\n",
      "-rw-r--r--   1 root root         60 2019-08-13 12:12 /output/plates_secsort/part-00002\n",
      "-rw-r--r--   1 root root          0 2019-08-13 12:12 /output/plates_secsort/part-00003\n",
      "-rw-r--r--   1 root root          0 2019-08-13 12:12 /output/plates_secsort/part-00004\n"
     ]
    }
   ],
   "source": [
    "!docker exec master \\\n",
    "/root/plate_secsort_run.sh"
   ]
  },
  {
   "cell_type": "code",
   "execution_count": 261,
   "metadata": {},
   "outputs": [
    {
     "name": "stdout",
     "output_type": "stream",
     "text": [
      "鲁,鲁V75530,3\t569\r\n",
      "鲁,鲁V73930,2\t549\r\n",
      "鲁,鲁V75066,1\t657\r\n",
      "黑,黑ML1711,1\t235\r\n"
     ]
    }
   ],
   "source": [
    "!docker exec master hadoop fs -cat /output/plates_secsort/part-00000"
   ]
  },
  {
   "cell_type": "code",
   "execution_count": 262,
   "metadata": {},
   "outputs": [
    {
     "name": "stdout",
     "output_type": "stream",
     "text": [
      "桂,桂J73138,2\t456\r\n",
      "桂,桂J73031,1\t900\r\n"
     ]
    }
   ],
   "source": [
    "!docker exec master hadoop fs -cat /output/plates_secsort/part-00001"
   ]
  },
  {
   "cell_type": "code",
   "execution_count": 263,
   "metadata": {},
   "outputs": [
    {
     "name": "stdout",
     "output_type": "stream",
     "text": [
      "晋,晋M42387,3\t432\r\n",
      "晋,晋M41665,2\t879\r\n",
      "晋,晋M42529,1\t790\r\n"
     ]
    }
   ],
   "source": [
    "!docker exec master hadoop fs -cat /output/plates_secsort/part-00002"
   ]
  },
  {
   "cell_type": "markdown",
   "metadata": {},
   "source": [
    "### 5）离线分析\n",
    "\n",
    "#### 1. 分区数据分析"
   ]
  },
  {
   "cell_type": "markdown",
   "metadata": {},
   "source": [
    "##### 下载分区文件到本地并合并"
   ]
  },
  {
   "cell_type": "code",
   "execution_count": 274,
   "metadata": {},
   "outputs": [],
   "source": [
    "!docker exec master hadoop fs -cat /output/plates_part/part-00000 > \\\n",
    "./data/plates_part_result.txt"
   ]
  },
  {
   "cell_type": "code",
   "execution_count": 275,
   "metadata": {},
   "outputs": [],
   "source": [
    "!docker exec master hadoop fs -cat /output/plates_part/part-00001 >> \\\n",
    "./data/plates_part_result.txt"
   ]
  },
  {
   "cell_type": "code",
   "execution_count": 276,
   "metadata": {},
   "outputs": [
    {
     "name": "stdout",
     "output_type": "stream",
     "text": [
      "晋\t2101\r\n",
      "鲁\t1206\r\n",
      "桂\t1356\r\n",
      "黑\t235\r\n"
     ]
    }
   ],
   "source": [
    "!cat ./data/plates_part_result.txt"
   ]
  },
  {
   "cell_type": "markdown",
   "metadata": {},
   "source": [
    "##### 分析与可视化处理"
   ]
  },
  {
   "cell_type": "code",
   "execution_count": 280,
   "metadata": {},
   "outputs": [
    {
     "data": {
      "text/html": [
       "<div>\n",
       "<style scoped>\n",
       "    .dataframe tbody tr th:only-of-type {\n",
       "        vertical-align: middle;\n",
       "    }\n",
       "\n",
       "    .dataframe tbody tr th {\n",
       "        vertical-align: top;\n",
       "    }\n",
       "\n",
       "    .dataframe thead th {\n",
       "        text-align: right;\n",
       "    }\n",
       "</style>\n",
       "<table border=\"1\" class=\"dataframe\">\n",
       "  <thead>\n",
       "    <tr style=\"text-align: right;\">\n",
       "      <th></th>\n",
       "      <th>Province</th>\n",
       "      <th>Total Miles</th>\n",
       "    </tr>\n",
       "  </thead>\n",
       "  <tbody>\n",
       "    <tr>\n",
       "      <th>0</th>\n",
       "      <td>晋</td>\n",
       "      <td>2101</td>\n",
       "    </tr>\n",
       "    <tr>\n",
       "      <th>1</th>\n",
       "      <td>鲁</td>\n",
       "      <td>1206</td>\n",
       "    </tr>\n",
       "    <tr>\n",
       "      <th>2</th>\n",
       "      <td>桂</td>\n",
       "      <td>1356</td>\n",
       "    </tr>\n",
       "    <tr>\n",
       "      <th>3</th>\n",
       "      <td>黑</td>\n",
       "      <td>235</td>\n",
       "    </tr>\n",
       "  </tbody>\n",
       "</table>\n",
       "</div>"
      ],
      "text/plain": [
       "  Province  Total Miles\n",
       "0        晋         2101\n",
       "1        鲁         1206\n",
       "2        桂         1356\n",
       "3        黑          235"
      ]
     },
     "execution_count": 280,
     "metadata": {},
     "output_type": "execute_result"
    }
   ],
   "source": [
    "import pandas as pd\n",
    "df = pd.read_csv('data/plates_part_result.txt', sep='\\t', names=('Province', 'Total Miles'))\n",
    "df"
   ]
  },
  {
   "cell_type": "code",
   "execution_count": 281,
   "metadata": {},
   "outputs": [
    {
     "data": {
      "text/plain": [
       "<matplotlib.axes._subplots.AxesSubplot at 0x1183af908>"
      ]
     },
     "execution_count": 281,
     "metadata": {},
     "output_type": "execute_result"
    },
    {
     "data": {
      "image/png": "[encoded data removed]",
      "text/plain": [
       "<Figure size 432x288 with 1 Axes>"
      ]
     },
     "metadata": {
      "needs_background": "light"
     },
     "output_type": "display_data"
    }
   ],
   "source": [
    "df.plot(kind = 'bar')"
   ]
  },
  {
   "cell_type": "markdown",
   "metadata": {},
   "source": [
    "#### 2. 二此排序数据分析\n",
    "\n",
    "##### 下载并合并分区数据"
   ]
  },
  {
   "cell_type": "code",
   "execution_count": 221,
   "metadata": {},
   "outputs": [],
   "source": [
    "!docker exec master hadoop fs -cat /output/plates_secsort/part-00000 > \\\n",
    "./data/plates_secsort_result.txt"
   ]
  },
  {
   "cell_type": "code",
   "execution_count": 222,
   "metadata": {},
   "outputs": [],
   "source": [
    "!docker exec master hadoop fs -cat /output/plates_secsort/part-00001 >> \\\n",
    "./data/plates_secsort_result.txt"
   ]
  },
  {
   "cell_type": "code",
   "execution_count": 223,
   "metadata": {},
   "outputs": [],
   "source": [
    "!docker exec master hadoop fs -cat /output/plates_secsort/part-00002 >> \\\n",
    "./data/plates_secsort_result.txt"
   ]
  },
  {
   "cell_type": "code",
   "execution_count": 224,
   "metadata": {},
   "outputs": [
    {
     "name": "stdout",
     "output_type": "stream",
     "text": [
      "鲁,鲁V75530,3\t569\r\n",
      "鲁,鲁V73930,2\t549\r\n",
      "鲁,鲁V75066,1\t657\r\n",
      "黑,黑ML1711,1\t235\r\n",
      "桂,桂J73138,2\t456\r\n",
      "桂,桂J73031,1\t900\r\n",
      "晋,晋M42387,3\t432\r\n",
      "晋,晋M41665,2\t879\r\n",
      "晋,晋M42529,1\t790\r\n"
     ]
    }
   ],
   "source": [
    "!cat ./data/plates_secsort_result.txt"
   ]
  },
  {
   "cell_type": "markdown",
   "metadata": {},
   "source": [
    "##### 分析与可视化处理"
   ]
  },
  {
   "cell_type": "code",
   "execution_count": 269,
   "metadata": {},
   "outputs": [],
   "source": [
    "def read_file(filename):\n",
    "    result = []\n",
    "    with open(filename) as f:\n",
    "        for row in f:\n",
    "            key, mile = row.split('\\t')\n",
    "            key = key.split(',')\n",
    "            mile = int(mile)\n",
    "            if len(key) >= 3:\n",
    "                province = key[0]\n",
    "                plate = key[1]\n",
    "                order = key[2]\n",
    "                result.append([province, plate, order, mile])\n",
    "    return result"
   ]
  },
  {
   "cell_type": "code",
   "execution_count": 265,
   "metadata": {},
   "outputs": [],
   "source": [
    "result = read_file('./data/plates_secsort_result.txt')"
   ]
  },
  {
   "cell_type": "code",
   "execution_count": 266,
   "metadata": {},
   "outputs": [],
   "source": [
    "import pandas as pd"
   ]
  },
  {
   "cell_type": "code",
   "execution_count": 270,
   "metadata": {},
   "outputs": [
    {
     "data": {
      "text/html": [
       "<div>\n",
       "<style scoped>\n",
       "    .dataframe tbody tr th:only-of-type {\n",
       "        vertical-align: middle;\n",
       "    }\n",
       "\n",
       "    .dataframe tbody tr th {\n",
       "        vertical-align: top;\n",
       "    }\n",
       "\n",
       "    .dataframe thead th {\n",
       "        text-align: right;\n",
       "    }\n",
       "</style>\n",
       "<table border=\"1\" class=\"dataframe\">\n",
       "  <thead>\n",
       "    <tr style=\"text-align: right;\">\n",
       "      <th></th>\n",
       "      <th>Province</th>\n",
       "      <th>Plate</th>\n",
       "      <th>Order</th>\n",
       "      <th>Mile</th>\n",
       "    </tr>\n",
       "  </thead>\n",
       "  <tbody>\n",
       "    <tr>\n",
       "      <th>0</th>\n",
       "      <td>鲁</td>\n",
       "      <td>鲁V75530</td>\n",
       "      <td>3</td>\n",
       "      <td>569</td>\n",
       "    </tr>\n",
       "    <tr>\n",
       "      <th>1</th>\n",
       "      <td>鲁</td>\n",
       "      <td>鲁V73930</td>\n",
       "      <td>2</td>\n",
       "      <td>549</td>\n",
       "    </tr>\n",
       "    <tr>\n",
       "      <th>2</th>\n",
       "      <td>鲁</td>\n",
       "      <td>鲁V75066</td>\n",
       "      <td>1</td>\n",
       "      <td>657</td>\n",
       "    </tr>\n",
       "    <tr>\n",
       "      <th>3</th>\n",
       "      <td>黑</td>\n",
       "      <td>黑ML1711</td>\n",
       "      <td>1</td>\n",
       "      <td>235</td>\n",
       "    </tr>\n",
       "    <tr>\n",
       "      <th>4</th>\n",
       "      <td>桂</td>\n",
       "      <td>桂J73138</td>\n",
       "      <td>2</td>\n",
       "      <td>456</td>\n",
       "    </tr>\n",
       "    <tr>\n",
       "      <th>5</th>\n",
       "      <td>桂</td>\n",
       "      <td>桂J73031</td>\n",
       "      <td>1</td>\n",
       "      <td>900</td>\n",
       "    </tr>\n",
       "    <tr>\n",
       "      <th>6</th>\n",
       "      <td>晋</td>\n",
       "      <td>晋M42387</td>\n",
       "      <td>3</td>\n",
       "      <td>432</td>\n",
       "    </tr>\n",
       "    <tr>\n",
       "      <th>7</th>\n",
       "      <td>晋</td>\n",
       "      <td>晋M41665</td>\n",
       "      <td>2</td>\n",
       "      <td>879</td>\n",
       "    </tr>\n",
       "    <tr>\n",
       "      <th>8</th>\n",
       "      <td>晋</td>\n",
       "      <td>晋M42529</td>\n",
       "      <td>1</td>\n",
       "      <td>790</td>\n",
       "    </tr>\n",
       "  </tbody>\n",
       "</table>\n",
       "</div>"
      ],
      "text/plain": [
       "  Province    Plate Order  Mile\n",
       "0        鲁  鲁V75530     3   569\n",
       "1        鲁  鲁V73930     2   549\n",
       "2        鲁  鲁V75066     1   657\n",
       "3        黑  黑ML1711     1   235\n",
       "4        桂  桂J73138     2   456\n",
       "5        桂  桂J73031     1   900\n",
       "6        晋  晋M42387     3   432\n",
       "7        晋  晋M41665     2   879\n",
       "8        晋  晋M42529     1   790"
      ]
     },
     "execution_count": 270,
     "metadata": {},
     "output_type": "execute_result"
    }
   ],
   "source": [
    "df = pd.DataFrame(result, columns = ['Province','Plate','Order', 'Mile'])\n",
    "df"
   ]
  },
  {
   "cell_type": "code",
   "execution_count": 268,
   "metadata": {},
   "outputs": [
    {
     "data": {
      "text/plain": [
       "<matplotlib.axes._subplots.AxesSubplot at 0x1182a9c88>"
      ]
     },
     "execution_count": 268,
     "metadata": {},
     "output_type": "execute_result"
    },
    {
     "data": {
      "image/png": "[encoded data removed]",
      "text/plain": [
       "<Figure size 432x288 with 1 Axes>"
      ]
     },
     "metadata": {
      "needs_background": "light"
     },
     "output_type": "display_data"
    }
   ],
   "source": [
    "df.plot(kind = 'bar')"
   ]
  }
 ],
 "metadata": {
  "kernelspec": {
   "display_name": "Python 3",
   "language": "python",
   "name": "python3"
  },
  "language_info": {
   "codemirror_mode": {
    "name": "ipython",
    "version": 3
   },
   "file_extension": ".py",
   "mimetype": "text/x-python",
   "name": "python",
   "nbconvert_exporter": "python",
   "pygments_lexer": "ipython3",
   "version": "3.7.3"
  }
 },
 "nbformat": 4,
 "nbformat_minor": 2
}
