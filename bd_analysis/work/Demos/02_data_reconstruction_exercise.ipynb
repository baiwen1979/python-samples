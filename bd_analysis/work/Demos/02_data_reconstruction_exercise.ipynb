{
 "cells": [
  {
   "cell_type": "markdown",
   "metadata": {},
   "source": [
    "# 综合练习 - 学生成绩表\n",
    "---\n",
    "## 数据集\n",
    "\n",
    "### 1. 学生表"
   ]
  },
  {
   "cell_type": "code",
   "execution_count": 1,
   "metadata": {},
   "outputs": [
    {
     "name": "stdout",
     "output_type": "stream",
     "text": [
      "sid,name,sex\r\n",
      "001,Jack,M\r\n",
      "002,Marry,F\r\n",
      "003,Nacy,F\r\n",
      "004,Leion,M\r\n",
      "005,Harry,F\r\n",
      "006,Tomy,M\r\n",
      "007,Sharry,F\r\n",
      "008,ZK,M\r\n",
      "009,HJ,M\r\n",
      "010,MD,F\r\n"
     ]
    }
   ],
   "source": [
    "!cat data/student.csv"
   ]
  },
  {
   "cell_type": "markdown",
   "metadata": {},
   "source": [
    "### 2. 成绩表"
   ]
  },
  {
   "cell_type": "code",
   "execution_count": 2,
   "metadata": {},
   "outputs": [
    {
     "name": "stdout",
     "output_type": "stream",
     "text": [
      "sid,course,score\r\n",
      "001,Math,80\r\n",
      "001,Python,90\r\n",
      "001,Java,80\r\n",
      "002,Math,82\r\n",
      "002,Python,95\r\n",
      "003,Math,80\r\n",
      "003,Python,95\r\n",
      "004,Math,96\r\n",
      "004,Python,85\r\n",
      "005,Math,78\r\n",
      "005,Python,82\r\n",
      "006,Math,100\r\n",
      "006,Python,100\r\n",
      "007,Math,72\r\n",
      "007,Python,75\r\n",
      "007,PHP,69\r\n",
      "008,Math,100\r\n",
      "008,Python,100\r\n",
      "009,Math,100\r\n",
      "009,Python,100\r\n",
      "010,Math,98\r\n",
      "010,Python,98\r\n"
     ]
    }
   ],
   "source": [
    "!cat data/score.csv"
   ]
  },
  {
   "cell_type": "markdown",
   "metadata": {},
   "source": [
    "## 任务\n",
    "\n",
    "1. 分别使用Numpy和Pandas从学生表中筛选出所有男生记录（行）\n",
    "2. 分别使用Numpy和Pandas将学生表拆分为男生表(students_M)和女生表(students_F)\n",
    "3. 连接学生表和成绩表为学生成绩表（student_score）\n",
    "4. 从学生成绩表（student_score）中筛选出成绩>90分的学生\n",
    "5. 对学生成绩表（student_score）的成绩（score）字段进行离散化为等级（grade）成绩（优、良、中、差）\n",
    "6. 对学生成绩表的课程（course）进行二元化（one hot独热编码）处理"
   ]
  },
  {
   "cell_type": "code",
   "execution_count": null,
   "metadata": {},
   "outputs": [],
   "source": []
  }
 ],
 "metadata": {
  "kernelspec": {
   "display_name": "Python 3",
   "language": "python",
   "name": "python3"
  },
  "language_info": {
   "codemirror_mode": {
    "name": "ipython",
    "version": 3
   },
   "file_extension": ".py",
   "mimetype": "text/x-python",
   "name": "python",
   "nbconvert_exporter": "python",
   "pygments_lexer": "ipython3",
   "version": "3.7.3"
  }
 },
 "nbformat": 4,
 "nbformat_minor": 2
}
