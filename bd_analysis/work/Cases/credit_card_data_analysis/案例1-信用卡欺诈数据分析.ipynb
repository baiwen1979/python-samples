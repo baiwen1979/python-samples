{
 "cells": [
  {
   "cell_type": "markdown",
   "metadata": {},
   "source": [
    "# 案例1-信用卡欺诈数据分析及防欺诈模型的构建\n",
    "---\n",
    "\n",
    "## 1. 项目背景\n",
    "\n",
    "信用卡欺诈是传统金融行业的范畴，信用卡企债行为包括利用信用卡透支消费的特点，以非法占有为目的，经发卡银行催收后仍不归还透支款或者在大量透支后潜逃隐瞒身份、以逃避还款责任的行为。出现信用卡被欺诈使用的情况通常有几下几种：\n",
    "\n",
    "- 卡不在场：欺诈者通过盗取卡和人的相关信息（卡号、有效期、姓名）进行交易；\n",
    "- 卡被伪造：通过一定设备读取真实磁条卡的信息，并伪造信用卡；\n",
    "- 卡丢失或被盗：持卡人在挂失前被欺诈使用；\n",
    "- 身份信息被盗：欺诈分子通过盗取电话账单、水电费账单、银行对账单等信息，以他人名义申请信用卡；\n",
    "- 卡邮寄被盗：信用卡在邮寄过程中被盗\n",
    "\n",
    "## 2. 项目数据\n",
    "\n",
    "**数据来源**：[信用卡欺诈检测数据集 - DF,CCF大数据竞赛平台](https://www.datafountain.cn/dataSets/7/details)\n",
    "\n",
    "**数据集内容**：数据集包含2013年9月由欧洲持卡人通过信用卡进行的交易。\n",
    "\n",
    "**数据详述**：\n",
    "\n",
    "- 数据列表\n",
    "\n",
    "  该数据集包含1个文件：\n",
    "\n",
    "  1. creditcard.csv : 包含信用卡交易的金额、时间、数量等信息。\n",
    "  \n",
    "- 整体特征\n",
    "  \n",
    "数据集合名称|数据类型|字段数|行数|值缺失|相关任务\n",
    "----------|------|-----|---|-----|-----|\n",
    "信用卡欺诈检测|数值数据|31|284807|无|分类\n",
    "\n",
    "- 属性描述\n",
    "\n",
    "  文件creditcard.csv包含31个字段，284807行，每一行代表的是一笔交易，具体信息如下：\n",
    "  \n",
    "序号|字段名|数据类型|字段描述\n",
    "----|----|-------|-------\n",
    "1   |Time|Integer|此交易与数据集中第一个交易之间经过的秒数\n",
    "2-29|V1-V28|Integer|经PCA转换后数据\n",
    "30|Amount|Integer|交易金额\n",
    "31|Class |Integer|在欺诈情况下取值为1，否则取0\n",
    "\n",
    "## 第一部分：信用卡欺诈数据分析\n",
    "\n",
    "### 1. 提出问题\n",
    "\n",
    "根据信用卡数据提供的字段信息，提出以下几个问题：\n",
    "\n",
    "1. 交易类型中欺诈交易占比多少？\n",
    "\n",
    "2. 欺诈交易金额呈现什么规律？\n",
    "\n",
    "3. 使用信用卡交易一般发生在什么时间段？欺诈交易在什么时间段出现高峰？\n",
    "\n",
    "4. 对新的信用卡交易进行欺诈交易识别，即判断出现欺诈交易的概率？\n",
    "\n",
    "根据上述问题，整理分析思路：通过对相关特征变量进行EDA探索性数据分析，利用逻辑回归算法建立欺诈模型。\n",
    "\n",
    "### 2. 了解数据\n",
    "\n",
    "在导入数据之前，先安装以下工具包："
   ]
  },
  {
   "cell_type": "code",
   "execution_count": 2,
   "metadata": {},
   "outputs": [
    {
     "name": "stdout",
     "output_type": "stream",
     "text": [
      "Name: seaborn\r\n",
      "Version: 0.9.0\r\n",
      "Summary: seaborn: statistical data visualization\r\n",
      "Home-page: https://seaborn.pydata.org\r\n",
      "Author: Michael Waskom\r\n",
      "Author-email: mwaskom@nyu.edu\r\n",
      "License: BSD (3-clause)\r\n",
      "Location: /anaconda3/lib/python3.7/site-packages\r\n",
      "Requires: numpy, pandas, matplotlib, scipy\r\n",
      "Required-by: \r\n"
     ]
    }
   ],
   "source": [
    "# seaborn图形包\n",
    "!pip show seaborn"
   ]
  },
  {
   "cell_type": "code",
   "execution_count": 4,
   "metadata": {},
   "outputs": [
    {
     "name": "stdout",
     "output_type": "stream",
     "text": [
      "Name: pyecharts\r\n",
      "Version: 1.3.1\r\n",
      "Summary: Python options, make charting easier\r\n",
      "Home-page: https://github.com/pyecharts/pyecharts\r\n",
      "Author: chenjiandongx\r\n",
      "Author-email: chenjiandongx@qq.com\r\n",
      "License: MIT\r\n",
      "Location: /anaconda3/lib/python3.7/site-packages\r\n",
      "Requires: jinja2, simplejson, prettytable\r\n",
      "Required-by: \r\n"
     ]
    }
   ],
   "source": [
    "# echarts图形包\n",
    "!pip show pyecharts"
   ]
  },
  {
   "cell_type": "code",
   "execution_count": 3,
   "metadata": {},
   "outputs": [
    {
     "name": "stdout",
     "output_type": "stream",
     "text": [
      "Name: missingno\r\n",
      "Version: 0.4.2\r\n",
      "Summary: Missing data visualization module for Python.\r\n",
      "Home-page: https://github.com/ResidentMario/missingno\r\n",
      "Author: Aleksey Bilogur\r\n",
      "Author-email: aleksey.bilogur@gmail.com\r\n",
      "License: UNKNOWN\r\n",
      "Location: /anaconda3/lib/python3.7/site-packages\r\n",
      "Requires: matplotlib, scipy, numpy, seaborn\r\n",
      "Required-by: \r\n"
     ]
    }
   ],
   "source": [
    "# 缺失值可视化包\n",
    "!pip show missingno"
   ]
  },
  {
   "cell_type": "code",
   "execution_count": 6,
   "metadata": {},
   "outputs": [
    {
     "name": "stdout",
     "output_type": "stream",
     "text": [
      "Name: scikit-learn\r\n",
      "Version: 0.21.3\r\n",
      "Summary: A set of python modules for machine learning and data mining\r\n",
      "Home-page: http://scikit-learn.org\r\n",
      "Author: None\r\n",
      "Author-email: None\r\n",
      "License: new BSD\r\n",
      "Location: /anaconda3/lib/python3.7/site-packages\r\n",
      "Requires: scipy, joblib, numpy\r\n",
      "Required-by: imbalanced-learn\r\n"
     ]
    }
   ],
   "source": [
    "# scikit-learn机器学习包\n",
    "!pip show scikit-learn"
   ]
  },
  {
   "cell_type": "code",
   "execution_count": 7,
   "metadata": {},
   "outputs": [
    {
     "name": "stdout",
     "output_type": "stream",
     "text": [
      "Name: imblearn\r\n",
      "Version: 0.0\r\n",
      "Summary: Toolbox for imbalanced dataset in machine learning.\r\n",
      "Home-page: https://pypi.python.org/pypi/imbalanced-learn/\r\n",
      "Author: UNKNOWN\r\n",
      "Author-email: UNKNOWN\r\n",
      "License: UNKNOWN\r\n",
      "Location: /anaconda3/lib/python3.7/site-packages\r\n",
      "Requires: imbalanced-learn\r\n",
      "Required-by: \r\n"
     ]
    }
   ],
   "source": [
    "# imblearn包，用于解决样本不均衡问题\n",
    "!pip show imblearn"
   ]
  },
  {
   "cell_type": "markdown",
   "metadata": {},
   "source": [
    "#### 4.1 准备工作\n",
    "\n",
    "##### 导入数据分析和绘图包"
   ]
  },
  {
   "cell_type": "code",
   "execution_count": 59,
   "metadata": {},
   "outputs": [],
   "source": [
    "import numpy as np\n",
    "import pandas as pd\n",
    "import datetime\n",
    "import matplotlib.pyplot as plt\n",
    "from matplotlib.gridspec import GridSpec\n",
    "import seaborn as sns\n",
    "\n",
    "import missingno as msno\n",
    "import warnings\n",
    "\n",
    "# 设置sns样式，忽略警告\n",
    "sns.set_style('whitegrid')\n",
    "warnings.filterwarnings('ignore')"
   ]
  },
  {
   "cell_type": "markdown",
   "metadata": {},
   "source": [
    "##### 导入数据"
   ]
  },
  {
   "cell_type": "code",
   "execution_count": 60,
   "metadata": {},
   "outputs": [],
   "source": [
    "data = pd.read_csv('creditcard.csv')"
   ]
  },
  {
   "cell_type": "markdown",
   "metadata": {},
   "source": [
    "#### 4.2  查看数据\n",
    "\n",
    "##### 第1步：查看数据大小"
   ]
  },
  {
   "cell_type": "code",
   "execution_count": 61,
   "metadata": {},
   "outputs": [
    {
     "data": {
      "text/plain": [
       "(284807, 31)"
      ]
     },
     "execution_count": 61,
     "metadata": {},
     "output_type": "execute_result"
    }
   ],
   "source": [
    "data.shape"
   ]
  },
  {
   "cell_type": "markdown",
   "metadata": {},
   "source": [
    "##### 第2步：查看前5行"
   ]
  },
  {
   "cell_type": "code",
   "execution_count": 62,
   "metadata": {},
   "outputs": [
    {
     "data": {
      "text/html": [
       "<div>\n",
       "<style scoped>\n",
       "    .dataframe tbody tr th:only-of-type {\n",
       "        vertical-align: middle;\n",
       "    }\n",
       "\n",
       "    .dataframe tbody tr th {\n",
       "        vertical-align: top;\n",
       "    }\n",
       "\n",
       "    .dataframe thead th {\n",
       "        text-align: right;\n",
       "    }\n",
       "</style>\n",
       "<table border=\"1\" class=\"dataframe\">\n",
       "  <thead>\n",
       "    <tr style=\"text-align: right;\">\n",
       "      <th></th>\n",
       "      <th>Time</th>\n",
       "      <th>V1</th>\n",
       "      <th>V2</th>\n",
       "      <th>V3</th>\n",
       "      <th>V4</th>\n",
       "      <th>V5</th>\n",
       "      <th>V6</th>\n",
       "      <th>V7</th>\n",
       "      <th>V8</th>\n",
       "      <th>V9</th>\n",
       "      <th>...</th>\n",
       "      <th>V21</th>\n",
       "      <th>V22</th>\n",
       "      <th>V23</th>\n",
       "      <th>V24</th>\n",
       "      <th>V25</th>\n",
       "      <th>V26</th>\n",
       "      <th>V27</th>\n",
       "      <th>V28</th>\n",
       "      <th>Amount</th>\n",
       "      <th>Class</th>\n",
       "    </tr>\n",
       "  </thead>\n",
       "  <tbody>\n",
       "    <tr>\n",
       "      <th>0</th>\n",
       "      <td>0.0000</td>\n",
       "      <td>-1.3598</td>\n",
       "      <td>-0.0728</td>\n",
       "      <td>2.5363</td>\n",
       "      <td>1.3782</td>\n",
       "      <td>-0.3383</td>\n",
       "      <td>0.4624</td>\n",
       "      <td>0.2396</td>\n",
       "      <td>0.0987</td>\n",
       "      <td>0.3638</td>\n",
       "      <td>...</td>\n",
       "      <td>-0.0183</td>\n",
       "      <td>0.2778</td>\n",
       "      <td>-0.1105</td>\n",
       "      <td>0.0669</td>\n",
       "      <td>0.1285</td>\n",
       "      <td>-0.1891</td>\n",
       "      <td>0.1336</td>\n",
       "      <td>-0.0211</td>\n",
       "      <td>149.6200</td>\n",
       "      <td>0</td>\n",
       "    </tr>\n",
       "    <tr>\n",
       "      <th>1</th>\n",
       "      <td>0.0000</td>\n",
       "      <td>1.1919</td>\n",
       "      <td>0.2662</td>\n",
       "      <td>0.1665</td>\n",
       "      <td>0.4482</td>\n",
       "      <td>0.0600</td>\n",
       "      <td>-0.0824</td>\n",
       "      <td>-0.0788</td>\n",
       "      <td>0.0851</td>\n",
       "      <td>-0.2554</td>\n",
       "      <td>...</td>\n",
       "      <td>-0.2258</td>\n",
       "      <td>-0.6387</td>\n",
       "      <td>0.1013</td>\n",
       "      <td>-0.3398</td>\n",
       "      <td>0.1672</td>\n",
       "      <td>0.1259</td>\n",
       "      <td>-0.0090</td>\n",
       "      <td>0.0147</td>\n",
       "      <td>2.6900</td>\n",
       "      <td>0</td>\n",
       "    </tr>\n",
       "    <tr>\n",
       "      <th>2</th>\n",
       "      <td>1.0000</td>\n",
       "      <td>-1.3584</td>\n",
       "      <td>-1.3402</td>\n",
       "      <td>1.7732</td>\n",
       "      <td>0.3798</td>\n",
       "      <td>-0.5032</td>\n",
       "      <td>1.8005</td>\n",
       "      <td>0.7915</td>\n",
       "      <td>0.2477</td>\n",
       "      <td>-1.5147</td>\n",
       "      <td>...</td>\n",
       "      <td>0.2480</td>\n",
       "      <td>0.7717</td>\n",
       "      <td>0.9094</td>\n",
       "      <td>-0.6893</td>\n",
       "      <td>-0.3276</td>\n",
       "      <td>-0.1391</td>\n",
       "      <td>-0.0554</td>\n",
       "      <td>-0.0598</td>\n",
       "      <td>378.6600</td>\n",
       "      <td>0</td>\n",
       "    </tr>\n",
       "    <tr>\n",
       "      <th>3</th>\n",
       "      <td>1.0000</td>\n",
       "      <td>-0.9663</td>\n",
       "      <td>-0.1852</td>\n",
       "      <td>1.7930</td>\n",
       "      <td>-0.8633</td>\n",
       "      <td>-0.0103</td>\n",
       "      <td>1.2472</td>\n",
       "      <td>0.2376</td>\n",
       "      <td>0.3774</td>\n",
       "      <td>-1.3870</td>\n",
       "      <td>...</td>\n",
       "      <td>-0.1083</td>\n",
       "      <td>0.0053</td>\n",
       "      <td>-0.1903</td>\n",
       "      <td>-1.1756</td>\n",
       "      <td>0.6474</td>\n",
       "      <td>-0.2219</td>\n",
       "      <td>0.0627</td>\n",
       "      <td>0.0615</td>\n",
       "      <td>123.5000</td>\n",
       "      <td>0</td>\n",
       "    </tr>\n",
       "    <tr>\n",
       "      <th>4</th>\n",
       "      <td>2.0000</td>\n",
       "      <td>-1.1582</td>\n",
       "      <td>0.8777</td>\n",
       "      <td>1.5487</td>\n",
       "      <td>0.4030</td>\n",
       "      <td>-0.4072</td>\n",
       "      <td>0.0959</td>\n",
       "      <td>0.5929</td>\n",
       "      <td>-0.2705</td>\n",
       "      <td>0.8177</td>\n",
       "      <td>...</td>\n",
       "      <td>-0.0094</td>\n",
       "      <td>0.7983</td>\n",
       "      <td>-0.1375</td>\n",
       "      <td>0.1413</td>\n",
       "      <td>-0.2060</td>\n",
       "      <td>0.5023</td>\n",
       "      <td>0.2194</td>\n",
       "      <td>0.2152</td>\n",
       "      <td>69.9900</td>\n",
       "      <td>0</td>\n",
       "    </tr>\n",
       "  </tbody>\n",
       "</table>\n",
       "<p>5 rows × 31 columns</p>\n",
       "</div>"
      ],
      "text/plain": [
       "    Time      V1      V2     V3      V4      V5      V6      V7      V8  \\\n",
       "0 0.0000 -1.3598 -0.0728 2.5363  1.3782 -0.3383  0.4624  0.2396  0.0987   \n",
       "1 0.0000  1.1919  0.2662 0.1665  0.4482  0.0600 -0.0824 -0.0788  0.0851   \n",
       "2 1.0000 -1.3584 -1.3402 1.7732  0.3798 -0.5032  1.8005  0.7915  0.2477   \n",
       "3 1.0000 -0.9663 -0.1852 1.7930 -0.8633 -0.0103  1.2472  0.2376  0.3774   \n",
       "4 2.0000 -1.1582  0.8777 1.5487  0.4030 -0.4072  0.0959  0.5929 -0.2705   \n",
       "\n",
       "       V9  ...     V21     V22     V23     V24     V25     V26     V27  \\\n",
       "0  0.3638  ... -0.0183  0.2778 -0.1105  0.0669  0.1285 -0.1891  0.1336   \n",
       "1 -0.2554  ... -0.2258 -0.6387  0.1013 -0.3398  0.1672  0.1259 -0.0090   \n",
       "2 -1.5147  ...  0.2480  0.7717  0.9094 -0.6893 -0.3276 -0.1391 -0.0554   \n",
       "3 -1.3870  ... -0.1083  0.0053 -0.1903 -1.1756  0.6474 -0.2219  0.0627   \n",
       "4  0.8177  ... -0.0094  0.7983 -0.1375  0.1413 -0.2060  0.5023  0.2194   \n",
       "\n",
       "      V28   Amount  Class  \n",
       "0 -0.0211 149.6200      0  \n",
       "1  0.0147   2.6900      0  \n",
       "2 -0.0598 378.6600      0  \n",
       "3  0.0615 123.5000      0  \n",
       "4  0.2152  69.9900      0  \n",
       "\n",
       "[5 rows x 31 columns]"
      ]
     },
     "execution_count": 62,
     "metadata": {},
     "output_type": "execute_result"
    }
   ],
   "source": [
    "data.head()"
   ]
  },
  {
   "cell_type": "markdown",
   "metadata": {},
   "source": [
    "可见，上述数据集中有31个数据特征。\n",
    "\n",
    "其中，V1-V28列对应的数据区间为\\[-1,1\\]，是经过PCA转换后的数据，无需做其他特征处理。Amount列数据与其他列数据相比数值大小差异大，所以对后续建模时需要进行特征缩放处理。"
   ]
  },
  {
   "cell_type": "markdown",
   "metadata": {},
   "source": [
    "##### 第3步：查看数据类型\n",
    "\n",
    "查看数据类型的目的：检查数据是否需要进行类型转换。"
   ]
  },
  {
   "cell_type": "code",
   "execution_count": 63,
   "metadata": {},
   "outputs": [
    {
     "data": {
      "text/plain": [
       "Time      float64\n",
       "V1        float64\n",
       "V2        float64\n",
       "V3        float64\n",
       "V4        float64\n",
       "V5        float64\n",
       "V6        float64\n",
       "V7        float64\n",
       "V8        float64\n",
       "V9        float64\n",
       "V10       float64\n",
       "V11       float64\n",
       "V12       float64\n",
       "V13       float64\n",
       "V14       float64\n",
       "V15       float64\n",
       "V16       float64\n",
       "V17       float64\n",
       "V18       float64\n",
       "V19       float64\n",
       "V20       float64\n",
       "V21       float64\n",
       "V22       float64\n",
       "V23       float64\n",
       "V24       float64\n",
       "V25       float64\n",
       "V26       float64\n",
       "V27       float64\n",
       "V28       float64\n",
       "Amount    float64\n",
       "Class       int64\n",
       "dtype: object"
      ]
     },
     "execution_count": 63,
     "metadata": {},
     "output_type": "execute_result"
    }
   ],
   "source": [
    "data.dtypes"
   ]
  },
  {
   "cell_type": "markdown",
   "metadata": {},
   "source": [
    "可知，上述数据规范，均为数值类型，无需进行数据转换处理。"
   ]
  },
  {
   "cell_type": "markdown",
   "metadata": {},
   "source": [
    "##### 第4步：查看数据统计信息\n",
    "\n",
    "- 查看数据统计信息的主要目的：检查数据有无缺失值和异常值\n",
    "- 查看数据缺失值方法：可以用统计函数describe和缺失值可视化函数missingnso"
   ]
  },
  {
   "cell_type": "code",
   "execution_count": 64,
   "metadata": {},
   "outputs": [
    {
     "data": {
      "text/html": [
       "<div>\n",
       "<style scoped>\n",
       "    .dataframe tbody tr th:only-of-type {\n",
       "        vertical-align: middle;\n",
       "    }\n",
       "\n",
       "    .dataframe tbody tr th {\n",
       "        vertical-align: top;\n",
       "    }\n",
       "\n",
       "    .dataframe thead th {\n",
       "        text-align: right;\n",
       "    }\n",
       "</style>\n",
       "<table border=\"1\" class=\"dataframe\">\n",
       "  <thead>\n",
       "    <tr style=\"text-align: right;\">\n",
       "      <th></th>\n",
       "      <th>Time</th>\n",
       "      <th>V1</th>\n",
       "      <th>V2</th>\n",
       "      <th>V3</th>\n",
       "      <th>V4</th>\n",
       "      <th>V5</th>\n",
       "      <th>V6</th>\n",
       "      <th>V7</th>\n",
       "      <th>V8</th>\n",
       "      <th>V9</th>\n",
       "      <th>...</th>\n",
       "      <th>V21</th>\n",
       "      <th>V22</th>\n",
       "      <th>V23</th>\n",
       "      <th>V24</th>\n",
       "      <th>V25</th>\n",
       "      <th>V26</th>\n",
       "      <th>V27</th>\n",
       "      <th>V28</th>\n",
       "      <th>Amount</th>\n",
       "      <th>Class</th>\n",
       "    </tr>\n",
       "  </thead>\n",
       "  <tbody>\n",
       "    <tr>\n",
       "      <th>count</th>\n",
       "      <td>284807.0000</td>\n",
       "      <td>284807.0000</td>\n",
       "      <td>284807.0000</td>\n",
       "      <td>284807.0000</td>\n",
       "      <td>284807.0000</td>\n",
       "      <td>284807.0000</td>\n",
       "      <td>284807.0000</td>\n",
       "      <td>284807.0000</td>\n",
       "      <td>284807.0000</td>\n",
       "      <td>284807.0000</td>\n",
       "      <td>...</td>\n",
       "      <td>284807.0000</td>\n",
       "      <td>284807.0000</td>\n",
       "      <td>284807.0000</td>\n",
       "      <td>284807.0000</td>\n",
       "      <td>284807.0000</td>\n",
       "      <td>284807.0000</td>\n",
       "      <td>284807.0000</td>\n",
       "      <td>284807.0000</td>\n",
       "      <td>284807.0000</td>\n",
       "      <td>284807.0000</td>\n",
       "    </tr>\n",
       "    <tr>\n",
       "      <th>mean</th>\n",
       "      <td>94813.8596</td>\n",
       "      <td>0.0000</td>\n",
       "      <td>0.0000</td>\n",
       "      <td>-0.0000</td>\n",
       "      <td>0.0000</td>\n",
       "      <td>-0.0000</td>\n",
       "      <td>0.0000</td>\n",
       "      <td>-0.0000</td>\n",
       "      <td>-0.0000</td>\n",
       "      <td>-0.0000</td>\n",
       "      <td>...</td>\n",
       "      <td>0.0000</td>\n",
       "      <td>0.0000</td>\n",
       "      <td>0.0000</td>\n",
       "      <td>0.0000</td>\n",
       "      <td>0.0000</td>\n",
       "      <td>0.0000</td>\n",
       "      <td>-0.0000</td>\n",
       "      <td>-0.0000</td>\n",
       "      <td>88.3496</td>\n",
       "      <td>0.0017</td>\n",
       "    </tr>\n",
       "    <tr>\n",
       "      <th>std</th>\n",
       "      <td>47488.1460</td>\n",
       "      <td>1.9587</td>\n",
       "      <td>1.6513</td>\n",
       "      <td>1.5163</td>\n",
       "      <td>1.4159</td>\n",
       "      <td>1.3802</td>\n",
       "      <td>1.3323</td>\n",
       "      <td>1.2371</td>\n",
       "      <td>1.1944</td>\n",
       "      <td>1.0986</td>\n",
       "      <td>...</td>\n",
       "      <td>0.7345</td>\n",
       "      <td>0.7257</td>\n",
       "      <td>0.6245</td>\n",
       "      <td>0.6056</td>\n",
       "      <td>0.5213</td>\n",
       "      <td>0.4822</td>\n",
       "      <td>0.4036</td>\n",
       "      <td>0.3301</td>\n",
       "      <td>250.1201</td>\n",
       "      <td>0.0415</td>\n",
       "    </tr>\n",
       "    <tr>\n",
       "      <th>min</th>\n",
       "      <td>0.0000</td>\n",
       "      <td>-56.4075</td>\n",
       "      <td>-72.7157</td>\n",
       "      <td>-48.3256</td>\n",
       "      <td>-5.6832</td>\n",
       "      <td>-113.7433</td>\n",
       "      <td>-26.1605</td>\n",
       "      <td>-43.5572</td>\n",
       "      <td>-73.2167</td>\n",
       "      <td>-13.4341</td>\n",
       "      <td>...</td>\n",
       "      <td>-34.8304</td>\n",
       "      <td>-10.9331</td>\n",
       "      <td>-44.8077</td>\n",
       "      <td>-2.8366</td>\n",
       "      <td>-10.2954</td>\n",
       "      <td>-2.6046</td>\n",
       "      <td>-22.5657</td>\n",
       "      <td>-15.4301</td>\n",
       "      <td>0.0000</td>\n",
       "      <td>0.0000</td>\n",
       "    </tr>\n",
       "    <tr>\n",
       "      <th>25%</th>\n",
       "      <td>54201.5000</td>\n",
       "      <td>-0.9204</td>\n",
       "      <td>-0.5985</td>\n",
       "      <td>-0.8904</td>\n",
       "      <td>-0.8486</td>\n",
       "      <td>-0.6916</td>\n",
       "      <td>-0.7683</td>\n",
       "      <td>-0.5541</td>\n",
       "      <td>-0.2086</td>\n",
       "      <td>-0.6431</td>\n",
       "      <td>...</td>\n",
       "      <td>-0.2284</td>\n",
       "      <td>-0.5424</td>\n",
       "      <td>-0.1618</td>\n",
       "      <td>-0.3546</td>\n",
       "      <td>-0.3171</td>\n",
       "      <td>-0.3270</td>\n",
       "      <td>-0.0708</td>\n",
       "      <td>-0.0530</td>\n",
       "      <td>5.6000</td>\n",
       "      <td>0.0000</td>\n",
       "    </tr>\n",
       "    <tr>\n",
       "      <th>50%</th>\n",
       "      <td>84692.0000</td>\n",
       "      <td>0.0181</td>\n",
       "      <td>0.0655</td>\n",
       "      <td>0.1798</td>\n",
       "      <td>-0.0198</td>\n",
       "      <td>-0.0543</td>\n",
       "      <td>-0.2742</td>\n",
       "      <td>0.0401</td>\n",
       "      <td>0.0224</td>\n",
       "      <td>-0.0514</td>\n",
       "      <td>...</td>\n",
       "      <td>-0.0295</td>\n",
       "      <td>0.0068</td>\n",
       "      <td>-0.0112</td>\n",
       "      <td>0.0410</td>\n",
       "      <td>0.0166</td>\n",
       "      <td>-0.0521</td>\n",
       "      <td>0.0013</td>\n",
       "      <td>0.0112</td>\n",
       "      <td>22.0000</td>\n",
       "      <td>0.0000</td>\n",
       "    </tr>\n",
       "    <tr>\n",
       "      <th>75%</th>\n",
       "      <td>139320.5000</td>\n",
       "      <td>1.3156</td>\n",
       "      <td>0.8037</td>\n",
       "      <td>1.0272</td>\n",
       "      <td>0.7433</td>\n",
       "      <td>0.6119</td>\n",
       "      <td>0.3986</td>\n",
       "      <td>0.5704</td>\n",
       "      <td>0.3273</td>\n",
       "      <td>0.5971</td>\n",
       "      <td>...</td>\n",
       "      <td>0.1864</td>\n",
       "      <td>0.5286</td>\n",
       "      <td>0.1476</td>\n",
       "      <td>0.4395</td>\n",
       "      <td>0.3507</td>\n",
       "      <td>0.2410</td>\n",
       "      <td>0.0910</td>\n",
       "      <td>0.0783</td>\n",
       "      <td>77.1650</td>\n",
       "      <td>0.0000</td>\n",
       "    </tr>\n",
       "    <tr>\n",
       "      <th>max</th>\n",
       "      <td>172792.0000</td>\n",
       "      <td>2.4549</td>\n",
       "      <td>22.0577</td>\n",
       "      <td>9.3826</td>\n",
       "      <td>16.8753</td>\n",
       "      <td>34.8017</td>\n",
       "      <td>73.3016</td>\n",
       "      <td>120.5895</td>\n",
       "      <td>20.0072</td>\n",
       "      <td>15.5950</td>\n",
       "      <td>...</td>\n",
       "      <td>27.2028</td>\n",
       "      <td>10.5031</td>\n",
       "      <td>22.5284</td>\n",
       "      <td>4.5845</td>\n",
       "      <td>7.5196</td>\n",
       "      <td>3.5173</td>\n",
       "      <td>31.6122</td>\n",
       "      <td>33.8478</td>\n",
       "      <td>25691.1600</td>\n",
       "      <td>1.0000</td>\n",
       "    </tr>\n",
       "  </tbody>\n",
       "</table>\n",
       "<p>8 rows × 31 columns</p>\n",
       "</div>"
      ],
      "text/plain": [
       "             Time          V1          V2          V3          V4          V5  \\\n",
       "count 284807.0000 284807.0000 284807.0000 284807.0000 284807.0000 284807.0000   \n",
       "mean   94813.8596      0.0000      0.0000     -0.0000      0.0000     -0.0000   \n",
       "std    47488.1460      1.9587      1.6513      1.5163      1.4159      1.3802   \n",
       "min        0.0000    -56.4075    -72.7157    -48.3256     -5.6832   -113.7433   \n",
       "25%    54201.5000     -0.9204     -0.5985     -0.8904     -0.8486     -0.6916   \n",
       "50%    84692.0000      0.0181      0.0655      0.1798     -0.0198     -0.0543   \n",
       "75%   139320.5000      1.3156      0.8037      1.0272      0.7433      0.6119   \n",
       "max   172792.0000      2.4549     22.0577      9.3826     16.8753     34.8017   \n",
       "\n",
       "               V6          V7          V8          V9  ...         V21  \\\n",
       "count 284807.0000 284807.0000 284807.0000 284807.0000  ... 284807.0000   \n",
       "mean       0.0000     -0.0000     -0.0000     -0.0000  ...      0.0000   \n",
       "std        1.3323      1.2371      1.1944      1.0986  ...      0.7345   \n",
       "min      -26.1605    -43.5572    -73.2167    -13.4341  ...    -34.8304   \n",
       "25%       -0.7683     -0.5541     -0.2086     -0.6431  ...     -0.2284   \n",
       "50%       -0.2742      0.0401      0.0224     -0.0514  ...     -0.0295   \n",
       "75%        0.3986      0.5704      0.3273      0.5971  ...      0.1864   \n",
       "max       73.3016    120.5895     20.0072     15.5950  ...     27.2028   \n",
       "\n",
       "              V22         V23         V24         V25         V26         V27  \\\n",
       "count 284807.0000 284807.0000 284807.0000 284807.0000 284807.0000 284807.0000   \n",
       "mean       0.0000      0.0000      0.0000      0.0000      0.0000     -0.0000   \n",
       "std        0.7257      0.6245      0.6056      0.5213      0.4822      0.4036   \n",
       "min      -10.9331    -44.8077     -2.8366    -10.2954     -2.6046    -22.5657   \n",
       "25%       -0.5424     -0.1618     -0.3546     -0.3171     -0.3270     -0.0708   \n",
       "50%        0.0068     -0.0112      0.0410      0.0166     -0.0521      0.0013   \n",
       "75%        0.5286      0.1476      0.4395      0.3507      0.2410      0.0910   \n",
       "max       10.5031     22.5284      4.5845      7.5196      3.5173     31.6122   \n",
       "\n",
       "              V28      Amount       Class  \n",
       "count 284807.0000 284807.0000 284807.0000  \n",
       "mean      -0.0000     88.3496      0.0017  \n",
       "std        0.3301    250.1201      0.0415  \n",
       "min      -15.4301      0.0000      0.0000  \n",
       "25%       -0.0530      5.6000      0.0000  \n",
       "50%        0.0112     22.0000      0.0000  \n",
       "75%        0.0783     77.1650      0.0000  \n",
       "max       33.8478  25691.1600      1.0000  \n",
       "\n",
       "[8 rows x 31 columns]"
      ]
     },
     "execution_count": 64,
     "metadata": {},
     "output_type": "execute_result"
    }
   ],
   "source": [
    "data.describe()"
   ]
  },
  {
   "cell_type": "markdown",
   "metadata": {},
   "source": [
    "通过使用统计信息查看，数据无缺失值。\n",
    "\n",
    "为进一步验证数据无缺失值，使用缺失值可视化函数："
   ]
  },
  {
   "cell_type": "code",
   "execution_count": 65,
   "metadata": {},
   "outputs": [
    {
     "data": {
      "text/plain": [
       "<matplotlib.axes._subplots.AxesSubplot at 0x1a272cc6d8>"
      ]
     },
     "execution_count": 65,
     "metadata": {},
     "output_type": "execute_result"
    },
    {
     "data": {
      "image/png": "[encoded data removed]",
      "text/plain": [
       "<Figure size 1800x720 with 2 Axes>"
      ]
     },
     "metadata": {},
     "output_type": "display_data"
    }
   ],
   "source": [
    "msno.matrix(data)"
   ]
  },
  {
   "cell_type": "markdown",
   "metadata": {},
   "source": [
    "同样可见：数据集中无缺失值，无需进行缺失值处理。\n",
    "\n",
    "综上，数据集中数据类型规范一致，且无缺失值和异常值，无需进行数据转换和缺失值异常值处理。\n",
    "\n",
    "需要注意的是，构建模型前需要对Amount进行特征缩放处理，避免后续算法使用不同列时不会因为数值的大小而导致权重分配不均匀问题。"
   ]
  },
  {
   "cell_type": "markdown",
   "metadata": {},
   "source": [
    "### 3. 数据清洗\n",
    "\n",
    "由于文案例中时间特征Time以秒为单位，为了后续方便统计分析信用卡交易发生的时间段，将单位转化为以小时为单位对应每天的时间。"
   ]
  },
  {
   "cell_type": "code",
   "execution_count": 66,
   "metadata": {},
   "outputs": [
    {
     "data": {
      "text/plain": [
       "0   0.0000\n",
       "1   0.0000\n",
       "2   1.0000\n",
       "3   1.0000\n",
       "4   2.0000\n",
       "Name: Time, dtype: float64"
      ]
     },
     "execution_count": 66,
     "metadata": {},
     "output_type": "execute_result"
    }
   ],
   "source": [
    "data['Time'].head()"
   ]
  },
  {
   "cell_type": "code",
   "execution_count": 67,
   "metadata": {},
   "outputs": [
    {
     "data": {
      "text/plain": [
       "0   0.0000\n",
       "1   0.0000\n",
       "2   0.0000\n",
       "3   0.0000\n",
       "4   0.0000\n",
       "Name: Time, dtype: float64"
      ]
     },
     "execution_count": 67,
     "metadata": {},
     "output_type": "execute_result"
    }
   ],
   "source": [
    "# 时间特征单位转换\n",
    "data['Time'] = data['Time'].apply(lambda x: divmod(x, 3600)[0])\n",
    "data['Time'].head()"
   ]
  },
  {
   "cell_type": "markdown",
   "metadata": {},
   "source": [
    "查看时间特征转换后的前5行，验证时间特征是否转换好："
   ]
  },
  {
   "cell_type": "code",
   "execution_count": 68,
   "metadata": {},
   "outputs": [
    {
     "data": {
      "text/html": [
       "<div>\n",
       "<style scoped>\n",
       "    .dataframe tbody tr th:only-of-type {\n",
       "        vertical-align: middle;\n",
       "    }\n",
       "\n",
       "    .dataframe tbody tr th {\n",
       "        vertical-align: top;\n",
       "    }\n",
       "\n",
       "    .dataframe thead th {\n",
       "        text-align: right;\n",
       "    }\n",
       "</style>\n",
       "<table border=\"1\" class=\"dataframe\">\n",
       "  <thead>\n",
       "    <tr style=\"text-align: right;\">\n",
       "      <th></th>\n",
       "      <th>Time</th>\n",
       "      <th>V1</th>\n",
       "      <th>V2</th>\n",
       "      <th>V3</th>\n",
       "      <th>V4</th>\n",
       "      <th>V5</th>\n",
       "      <th>V6</th>\n",
       "      <th>V7</th>\n",
       "      <th>V8</th>\n",
       "      <th>V9</th>\n",
       "      <th>...</th>\n",
       "      <th>V21</th>\n",
       "      <th>V22</th>\n",
       "      <th>V23</th>\n",
       "      <th>V24</th>\n",
       "      <th>V25</th>\n",
       "      <th>V26</th>\n",
       "      <th>V27</th>\n",
       "      <th>V28</th>\n",
       "      <th>Amount</th>\n",
       "      <th>Class</th>\n",
       "    </tr>\n",
       "  </thead>\n",
       "  <tbody>\n",
       "    <tr>\n",
       "      <th>0</th>\n",
       "      <td>0.0000</td>\n",
       "      <td>-1.3598</td>\n",
       "      <td>-0.0728</td>\n",
       "      <td>2.5363</td>\n",
       "      <td>1.3782</td>\n",
       "      <td>-0.3383</td>\n",
       "      <td>0.4624</td>\n",
       "      <td>0.2396</td>\n",
       "      <td>0.0987</td>\n",
       "      <td>0.3638</td>\n",
       "      <td>...</td>\n",
       "      <td>-0.0183</td>\n",
       "      <td>0.2778</td>\n",
       "      <td>-0.1105</td>\n",
       "      <td>0.0669</td>\n",
       "      <td>0.1285</td>\n",
       "      <td>-0.1891</td>\n",
       "      <td>0.1336</td>\n",
       "      <td>-0.0211</td>\n",
       "      <td>149.6200</td>\n",
       "      <td>0</td>\n",
       "    </tr>\n",
       "    <tr>\n",
       "      <th>1</th>\n",
       "      <td>0.0000</td>\n",
       "      <td>1.1919</td>\n",
       "      <td>0.2662</td>\n",
       "      <td>0.1665</td>\n",
       "      <td>0.4482</td>\n",
       "      <td>0.0600</td>\n",
       "      <td>-0.0824</td>\n",
       "      <td>-0.0788</td>\n",
       "      <td>0.0851</td>\n",
       "      <td>-0.2554</td>\n",
       "      <td>...</td>\n",
       "      <td>-0.2258</td>\n",
       "      <td>-0.6387</td>\n",
       "      <td>0.1013</td>\n",
       "      <td>-0.3398</td>\n",
       "      <td>0.1672</td>\n",
       "      <td>0.1259</td>\n",
       "      <td>-0.0090</td>\n",
       "      <td>0.0147</td>\n",
       "      <td>2.6900</td>\n",
       "      <td>0</td>\n",
       "    </tr>\n",
       "    <tr>\n",
       "      <th>2</th>\n",
       "      <td>0.0000</td>\n",
       "      <td>-1.3584</td>\n",
       "      <td>-1.3402</td>\n",
       "      <td>1.7732</td>\n",
       "      <td>0.3798</td>\n",
       "      <td>-0.5032</td>\n",
       "      <td>1.8005</td>\n",
       "      <td>0.7915</td>\n",
       "      <td>0.2477</td>\n",
       "      <td>-1.5147</td>\n",
       "      <td>...</td>\n",
       "      <td>0.2480</td>\n",
       "      <td>0.7717</td>\n",
       "      <td>0.9094</td>\n",
       "      <td>-0.6893</td>\n",
       "      <td>-0.3276</td>\n",
       "      <td>-0.1391</td>\n",
       "      <td>-0.0554</td>\n",
       "      <td>-0.0598</td>\n",
       "      <td>378.6600</td>\n",
       "      <td>0</td>\n",
       "    </tr>\n",
       "    <tr>\n",
       "      <th>3</th>\n",
       "      <td>0.0000</td>\n",
       "      <td>-0.9663</td>\n",
       "      <td>-0.1852</td>\n",
       "      <td>1.7930</td>\n",
       "      <td>-0.8633</td>\n",
       "      <td>-0.0103</td>\n",
       "      <td>1.2472</td>\n",
       "      <td>0.2376</td>\n",
       "      <td>0.3774</td>\n",
       "      <td>-1.3870</td>\n",
       "      <td>...</td>\n",
       "      <td>-0.1083</td>\n",
       "      <td>0.0053</td>\n",
       "      <td>-0.1903</td>\n",
       "      <td>-1.1756</td>\n",
       "      <td>0.6474</td>\n",
       "      <td>-0.2219</td>\n",
       "      <td>0.0627</td>\n",
       "      <td>0.0615</td>\n",
       "      <td>123.5000</td>\n",
       "      <td>0</td>\n",
       "    </tr>\n",
       "    <tr>\n",
       "      <th>4</th>\n",
       "      <td>0.0000</td>\n",
       "      <td>-1.1582</td>\n",
       "      <td>0.8777</td>\n",
       "      <td>1.5487</td>\n",
       "      <td>0.4030</td>\n",
       "      <td>-0.4072</td>\n",
       "      <td>0.0959</td>\n",
       "      <td>0.5929</td>\n",
       "      <td>-0.2705</td>\n",
       "      <td>0.8177</td>\n",
       "      <td>...</td>\n",
       "      <td>-0.0094</td>\n",
       "      <td>0.7983</td>\n",
       "      <td>-0.1375</td>\n",
       "      <td>0.1413</td>\n",
       "      <td>-0.2060</td>\n",
       "      <td>0.5023</td>\n",
       "      <td>0.2194</td>\n",
       "      <td>0.2152</td>\n",
       "      <td>69.9900</td>\n",
       "      <td>0</td>\n",
       "    </tr>\n",
       "  </tbody>\n",
       "</table>\n",
       "<p>5 rows × 31 columns</p>\n",
       "</div>"
      ],
      "text/plain": [
       "    Time      V1      V2     V3      V4      V5      V6      V7      V8  \\\n",
       "0 0.0000 -1.3598 -0.0728 2.5363  1.3782 -0.3383  0.4624  0.2396  0.0987   \n",
       "1 0.0000  1.1919  0.2662 0.1665  0.4482  0.0600 -0.0824 -0.0788  0.0851   \n",
       "2 0.0000 -1.3584 -1.3402 1.7732  0.3798 -0.5032  1.8005  0.7915  0.2477   \n",
       "3 0.0000 -0.9663 -0.1852 1.7930 -0.8633 -0.0103  1.2472  0.2376  0.3774   \n",
       "4 0.0000 -1.1582  0.8777 1.5487  0.4030 -0.4072  0.0959  0.5929 -0.2705   \n",
       "\n",
       "       V9  ...     V21     V22     V23     V24     V25     V26     V27  \\\n",
       "0  0.3638  ... -0.0183  0.2778 -0.1105  0.0669  0.1285 -0.1891  0.1336   \n",
       "1 -0.2554  ... -0.2258 -0.6387  0.1013 -0.3398  0.1672  0.1259 -0.0090   \n",
       "2 -1.5147  ...  0.2480  0.7717  0.9094 -0.6893 -0.3276 -0.1391 -0.0554   \n",
       "3 -1.3870  ... -0.1083  0.0053 -0.1903 -1.1756  0.6474 -0.2219  0.0627   \n",
       "4  0.8177  ... -0.0094  0.7983 -0.1375  0.1413 -0.2060  0.5023  0.2194   \n",
       "\n",
       "      V28   Amount  Class  \n",
       "0 -0.0211 149.6200      0  \n",
       "1  0.0147   2.6900      0  \n",
       "2 -0.0598 378.6600      0  \n",
       "3  0.0615 123.5000      0  \n",
       "4  0.2152  69.9900      0  \n",
       "\n",
       "[5 rows x 31 columns]"
      ]
     },
     "execution_count": 68,
     "metadata": {},
     "output_type": "execute_result"
    }
   ],
   "source": [
    "data.head()"
   ]
  },
  {
   "cell_type": "markdown",
   "metadata": {},
   "source": [
    "至此，时间特征已清洗完毕。"
   ]
  },
  {
   "cell_type": "markdown",
   "metadata": {},
   "source": [
    "### 4. 数据分析\n",
    "\n",
    "根据上述问题进行以下分析：\n",
    "\n",
    "#### 4.1 信用卡交易中欺诈类的占比情况\n",
    "\n",
    "接下来对案例中信用卡交易类型进行统计，分别计算出正常交易(Class=0)和欺诈交易(Class=1)出现的次数："
   ]
  },
  {
   "cell_type": "code",
   "execution_count": 69,
   "metadata": {},
   "outputs": [
    {
     "data": {
      "text/plain": [
       "(2,)"
      ]
     },
     "execution_count": 69,
     "metadata": {},
     "output_type": "execute_result"
    }
   ],
   "source": [
    "classes = pd.value_counts(data['Class'], sort=True).sort_index()\n",
    "classes.shape"
   ]
  },
  {
   "cell_type": "code",
   "execution_count": 70,
   "metadata": {},
   "outputs": [
    {
     "data": {
      "text/plain": [
       "0    284315\n",
       "1       492\n",
       "Name: Class, dtype: int64"
      ]
     },
     "execution_count": 70,
     "metadata": {},
     "output_type": "execute_result"
    }
   ],
   "source": [
    "classes.head()"
   ]
  },
  {
   "cell_type": "code",
   "execution_count": 71,
   "metadata": {},
   "outputs": [
    {
     "data": {
      "text/plain": [
       "284315    1\n",
       "492       1\n",
       "Name: Class, dtype: int64"
      ]
     },
     "execution_count": 71,
     "metadata": {},
     "output_type": "execute_result"
    }
   ],
   "source": [
    "# 统计0和1出现的频率\n",
    "classes.value_counts()"
   ]
  },
  {
   "cell_type": "code",
   "execution_count": 72,
   "metadata": {},
   "outputs": [
    {
     "data": {
      "text/plain": [
       "(284315, 492)"
      ]
     },
     "execution_count": 72,
     "metadata": {},
     "output_type": "execute_result"
    }
   ],
   "source": [
    "classes[0], classes[1]"
   ]
  },
  {
   "cell_type": "markdown",
   "metadata": {},
   "source": [
    "可见，出现正常交易的次数是284315次，出现欺诈交易的次数是492次，其中欺诈交易占总交易的比例是："
   ]
  },
  {
   "cell_type": "code",
   "execution_count": 73,
   "metadata": {},
   "outputs": [
    {
     "data": {
      "text/plain": [
       "'欺诈交易占比：0.17%'"
      ]
     },
     "execution_count": 73,
     "metadata": {},
     "output_type": "execute_result"
    }
   ],
   "source": [
    "'欺诈交易占比：{0:.2f}%'.format(classes[1] * 100 / (classes[0] + classes[1]))"
   ]
  },
  {
   "cell_type": "markdown",
   "metadata": {},
   "source": [
    "将上述结果进行可视化如下："
   ]
  },
  {
   "cell_type": "code",
   "execution_count": 74,
   "metadata": {},
   "outputs": [
    {
     "data": {
      "text/plain": [
       "<matplotlib.axes._subplots.AxesSubplot at 0x1a28c34710>"
      ]
     },
     "execution_count": 74,
     "metadata": {},
     "output_type": "execute_result"
    },
    {
     "data": {
      "image/png": "[encoded data removed]",
      "text/plain": [
       "<Figure size 432x288 with 1 Axes>"
      ]
     },
     "metadata": {},
     "output_type": "display_data"
    }
   ],
   "source": [
    "classes.plot(kind = 'bar')"
   ]
  },
  {
   "cell_type": "markdown",
   "metadata": {},
   "source": [
    "**分析**：样本中的欺诈交易数据和正常交易数据分布非常不均匀，所以在训练模型之前，需要对该部分数据进行预处理，以解决数据分布不均衡问题。"
   ]
  },
  {
   "cell_type": "markdown",
   "metadata": {},
   "source": [
    "#### 4.2 信用卡交易时间分布情况\n",
    "\n",
    "分别查看信用卡正常交易和欺诈交易的描述性统计与时间序列分布的关系："
   ]
  },
  {
   "cell_type": "markdown",
   "metadata": {},
   "source": [
    "print('正常交易：')\n",
    "data.Time[data.Class==0].describe()"
   ]
  },
  {
   "cell_type": "code",
   "execution_count": 75,
   "metadata": {},
   "outputs": [
    {
     "name": "stdout",
     "output_type": "stream",
     "text": [
      "欺诈交易：\n"
     ]
    },
    {
     "data": {
      "text/plain": [
       "count   492.0000\n",
       "mean     21.9390\n",
       "std      13.2834\n",
       "min       0.0000\n",
       "25%      11.0000\n",
       "50%      20.0000\n",
       "75%      35.0000\n",
       "max      47.0000\n",
       "Name: Time, dtype: float64"
      ]
     },
     "execution_count": 75,
     "metadata": {},
     "output_type": "execute_result"
    }
   ],
   "source": [
    "print('欺诈交易：')\n",
    "data.Time[data.Class==1].describe()"
   ]
  },
  {
   "cell_type": "markdown",
   "metadata": {},
   "source": [
    "按照时间对信用卡交易情况进行可视化如下："
   ]
  },
  {
   "cell_type": "code",
   "execution_count": 76,
   "metadata": {},
   "outputs": [
    {
     "data": {
      "image/png": "[encoded data removed]",
      "text/plain": [
       "<Figure size 864x432 with 2 Axes>"
      ]
     },
     "metadata": {},
     "output_type": "display_data"
    }
   ],
   "source": [
    "fig, (ax1, ax2) = plt.subplots(2, 1, sharex=True, figsize=(12, 6))\n",
    "\n",
    "bins = 50\n",
    "\n",
    "ax1.hist(data.Time[data.Class==1], bins=bins)\n",
    "ax1.set_title('Fraud', fontsize=22)\n",
    "ax1.set_ylabel('Number of Transactions', fontsize=15)\n",
    "\n",
    "ax2.hist(data.Time[data.Class==0], bins=bins)\n",
    "ax2.set_title('Normal', fontsize=22)\n",
    "\n",
    "plt.xlabel('Time(h)', fontsize=15)\n",
    "plt.xticks(fontsize=15)\n",
    "\n",
    "plt.ylabel('Number of Transactions', fontsize=15)\n",
    "plt.show()"
   ]
  },
  {
   "cell_type": "markdown",
   "metadata": {},
   "source": [
    "**分析**：上图为信用卡48小时内的交易情况：\n",
    "\n",
    "- 在信用卡欺诈交易样本中，离群值发生在客户使用信用卡消费更低频的时间段；\n",
    "\n",
    "- 信用卡欺诈交易数量案发最高峰在第一天上午11点达到47次，其余发生信用卡被盗刷案发时间在晚上时间11点至第二早上9点之间；\n",
    "\n",
    "- 信用正常交易情况存在一定的周期性规律，可能与持卡人消费习惯有关。"
   ]
  },
  {
   "cell_type": "markdown",
   "metadata": {},
   "source": [
    "#### 4.3 信用卡欺诈交易金额情况\n",
    "\n",
    "分别查看信用卡正常交易和欺诈交易的描述性统计与金额的关系："
   ]
  },
  {
   "cell_type": "code",
   "execution_count": 77,
   "metadata": {},
   "outputs": [
    {
     "name": "stdout",
     "output_type": "stream",
     "text": [
      "----------Fraud----------\n"
     ]
    },
    {
     "data": {
      "text/plain": [
       "count    492.0000\n",
       "mean     122.2113\n",
       "std      256.6833\n",
       "min        0.0000\n",
       "25%        1.0000\n",
       "50%        9.2500\n",
       "75%      105.8900\n",
       "max     2125.8700\n",
       "Name: Amount, dtype: float64"
      ]
     },
     "execution_count": 77,
     "metadata": {},
     "output_type": "execute_result"
    }
   ],
   "source": [
    "print('-' * 10 + 'Fraud' + '-' * 10)\n",
    "data.Amount[data.Class==1].describe()"
   ]
  },
  {
   "cell_type": "code",
   "execution_count": 78,
   "metadata": {},
   "outputs": [
    {
     "name": "stdout",
     "output_type": "stream",
     "text": [
      "----------Normal----------\n"
     ]
    },
    {
     "data": {
      "text/plain": [
       "count   284315.0000\n",
       "mean        88.2910\n",
       "std        250.1051\n",
       "min          0.0000\n",
       "25%          5.6500\n",
       "50%         22.0000\n",
       "75%         77.0500\n",
       "max      25691.1600\n",
       "Name: Amount, dtype: float64"
      ]
     },
     "execution_count": 78,
     "metadata": {},
     "output_type": "execute_result"
    }
   ],
   "source": [
    "print('-' * 10 + 'Normal' + '-' * 10)\n",
    "data.Amount[data.Class==0].describe()"
   ]
  },
  {
   "cell_type": "markdown",
   "metadata": {},
   "source": [
    "可见，信用卡欺诈交易最大金额是2,125.87美元，数额不大。\n",
    "\n",
    "按照交易金额对信用卡交易情况进行可视化如下："
   ]
  },
  {
   "cell_type": "code",
   "execution_count": 79,
   "metadata": {},
   "outputs": [
    {
     "data": {
      "image/png": "[encoded data removed]",
      "text/plain": [
       "<Figure size 864x432 with 2 Axes>"
      ]
     },
     "metadata": {},
     "output_type": "display_data"
    }
   ],
   "source": [
    "fig, (ax1, ax2) = plt.subplots(2, 1, sharex=True, figsize=(12, 6))\n",
    "\n",
    "bins = 30\n",
    "\n",
    "fraud_amount = data.Amount[data.Class==1]\n",
    "\n",
    "ax1.hist(fraud_amount, bins=bins)\n",
    "ax1.set_title('Fraud', fontsize=22)\n",
    "ax1.set_ylabel('Number of Transactions', fontsize=15)\n",
    "# ax1.set_ylim(0,100)\n",
    "# ax1.set_xlim(0, fraud_amount.max())\n",
    "\n",
    "normal_amount = data.Amount[data.Class==0]\n",
    "\n",
    "ax2.hist(normal_amount, bins=bins)\n",
    "ax2.set_title('Normal', fontsize=22)\n",
    "#ax2.set_xlim(0, normal_amount.max())\n",
    "\n",
    "plt.xlabel('Amounts($)', fontsize=15)\n",
    "plt.xticks(fontsize=15)\n",
    "\n",
    "plt.ylabel('Number of Transactions', fontsize=15)\n",
    "plt.yscale('log') # 由于Amount金额数值较大，为平滑数据将y轴进行对数缩放\n",
    "plt.tight_layout()\n",
    "\n",
    "plt.show()"
   ]
  },
  {
   "cell_type": "markdown",
   "metadata": {},
   "source": [
    "**分析**：信用卡欺诈交易的金额非常低，可见金额这一列的数据对分析的参考价值不大。\n",
    "\n",
    "#### 4.4 各变量的相关性分析\n",
    "\n",
    "查看各变量之间的相关性，显示部分如下："
   ]
  },
  {
   "cell_type": "code",
   "execution_count": 80,
   "metadata": {},
   "outputs": [
    {
     "data": {
      "text/html": [
       "<div>\n",
       "<style scoped>\n",
       "    .dataframe tbody tr th:only-of-type {\n",
       "        vertical-align: middle;\n",
       "    }\n",
       "\n",
       "    .dataframe tbody tr th {\n",
       "        vertical-align: top;\n",
       "    }\n",
       "\n",
       "    .dataframe thead th {\n",
       "        text-align: right;\n",
       "    }\n",
       "</style>\n",
       "<table border=\"1\" class=\"dataframe\">\n",
       "  <thead>\n",
       "    <tr style=\"text-align: right;\">\n",
       "      <th></th>\n",
       "      <th>Time</th>\n",
       "      <th>V1</th>\n",
       "      <th>V2</th>\n",
       "      <th>V3</th>\n",
       "      <th>V4</th>\n",
       "      <th>V5</th>\n",
       "      <th>V6</th>\n",
       "      <th>V7</th>\n",
       "      <th>V8</th>\n",
       "      <th>V9</th>\n",
       "      <th>...</th>\n",
       "      <th>V21</th>\n",
       "      <th>V22</th>\n",
       "      <th>V23</th>\n",
       "      <th>V24</th>\n",
       "      <th>V25</th>\n",
       "      <th>V26</th>\n",
       "      <th>V27</th>\n",
       "      <th>V28</th>\n",
       "      <th>Amount</th>\n",
       "      <th>Class</th>\n",
       "    </tr>\n",
       "  </thead>\n",
       "  <tbody>\n",
       "    <tr>\n",
       "      <th>Time</th>\n",
       "      <td>1.0000</td>\n",
       "      <td>0.1177</td>\n",
       "      <td>-0.0106</td>\n",
       "      <td>-0.4196</td>\n",
       "      <td>-0.1052</td>\n",
       "      <td>0.1732</td>\n",
       "      <td>-0.0630</td>\n",
       "      <td>0.0848</td>\n",
       "      <td>-0.0371</td>\n",
       "      <td>-0.0080</td>\n",
       "      <td>...</td>\n",
       "      <td>0.0447</td>\n",
       "      <td>0.1441</td>\n",
       "      <td>0.0512</td>\n",
       "      <td>-0.0162</td>\n",
       "      <td>-0.2332</td>\n",
       "      <td>-0.0414</td>\n",
       "      <td>-0.0052</td>\n",
       "      <td>-0.0094</td>\n",
       "      <td>-0.0107</td>\n",
       "      <td>-0.0123</td>\n",
       "    </tr>\n",
       "    <tr>\n",
       "      <th>V1</th>\n",
       "      <td>0.1177</td>\n",
       "      <td>1.0000</td>\n",
       "      <td>0.0000</td>\n",
       "      <td>-0.0000</td>\n",
       "      <td>0.0000</td>\n",
       "      <td>0.0000</td>\n",
       "      <td>0.0000</td>\n",
       "      <td>0.0000</td>\n",
       "      <td>-0.0000</td>\n",
       "      <td>0.0000</td>\n",
       "      <td>...</td>\n",
       "      <td>-0.0000</td>\n",
       "      <td>0.0000</td>\n",
       "      <td>0.0000</td>\n",
       "      <td>0.0000</td>\n",
       "      <td>-0.0000</td>\n",
       "      <td>-0.0000</td>\n",
       "      <td>0.0000</td>\n",
       "      <td>0.0000</td>\n",
       "      <td>-0.2277</td>\n",
       "      <td>-0.1013</td>\n",
       "    </tr>\n",
       "    <tr>\n",
       "      <th>V2</th>\n",
       "      <td>-0.0106</td>\n",
       "      <td>0.0000</td>\n",
       "      <td>1.0000</td>\n",
       "      <td>0.0000</td>\n",
       "      <td>-0.0000</td>\n",
       "      <td>-0.0000</td>\n",
       "      <td>0.0000</td>\n",
       "      <td>0.0000</td>\n",
       "      <td>-0.0000</td>\n",
       "      <td>-0.0000</td>\n",
       "      <td>...</td>\n",
       "      <td>0.0000</td>\n",
       "      <td>0.0000</td>\n",
       "      <td>0.0000</td>\n",
       "      <td>-0.0000</td>\n",
       "      <td>-0.0000</td>\n",
       "      <td>0.0000</td>\n",
       "      <td>-0.0000</td>\n",
       "      <td>-0.0000</td>\n",
       "      <td>-0.5314</td>\n",
       "      <td>0.0913</td>\n",
       "    </tr>\n",
       "    <tr>\n",
       "      <th>V3</th>\n",
       "      <td>-0.4196</td>\n",
       "      <td>-0.0000</td>\n",
       "      <td>0.0000</td>\n",
       "      <td>1.0000</td>\n",
       "      <td>-0.0000</td>\n",
       "      <td>-0.0000</td>\n",
       "      <td>0.0000</td>\n",
       "      <td>0.0000</td>\n",
       "      <td>0.0000</td>\n",
       "      <td>-0.0000</td>\n",
       "      <td>...</td>\n",
       "      <td>-0.0000</td>\n",
       "      <td>0.0000</td>\n",
       "      <td>0.0000</td>\n",
       "      <td>-0.0000</td>\n",
       "      <td>0.0000</td>\n",
       "      <td>0.0000</td>\n",
       "      <td>0.0000</td>\n",
       "      <td>0.0000</td>\n",
       "      <td>-0.2109</td>\n",
       "      <td>-0.1930</td>\n",
       "    </tr>\n",
       "    <tr>\n",
       "      <th>V4</th>\n",
       "      <td>-0.1052</td>\n",
       "      <td>0.0000</td>\n",
       "      <td>-0.0000</td>\n",
       "      <td>-0.0000</td>\n",
       "      <td>1.0000</td>\n",
       "      <td>-0.0000</td>\n",
       "      <td>-0.0000</td>\n",
       "      <td>0.0000</td>\n",
       "      <td>0.0000</td>\n",
       "      <td>0.0000</td>\n",
       "      <td>...</td>\n",
       "      <td>-0.0000</td>\n",
       "      <td>0.0000</td>\n",
       "      <td>0.0000</td>\n",
       "      <td>0.0000</td>\n",
       "      <td>0.0000</td>\n",
       "      <td>-0.0000</td>\n",
       "      <td>-0.0000</td>\n",
       "      <td>-0.0000</td>\n",
       "      <td>0.0987</td>\n",
       "      <td>0.1334</td>\n",
       "    </tr>\n",
       "  </tbody>\n",
       "</table>\n",
       "<p>5 rows × 31 columns</p>\n",
       "</div>"
      ],
      "text/plain": [
       "        Time      V1      V2      V3      V4      V5      V6     V7      V8  \\\n",
       "Time  1.0000  0.1177 -0.0106 -0.4196 -0.1052  0.1732 -0.0630 0.0848 -0.0371   \n",
       "V1    0.1177  1.0000  0.0000 -0.0000  0.0000  0.0000  0.0000 0.0000 -0.0000   \n",
       "V2   -0.0106  0.0000  1.0000  0.0000 -0.0000 -0.0000  0.0000 0.0000 -0.0000   \n",
       "V3   -0.4196 -0.0000  0.0000  1.0000 -0.0000 -0.0000  0.0000 0.0000  0.0000   \n",
       "V4   -0.1052  0.0000 -0.0000 -0.0000  1.0000 -0.0000 -0.0000 0.0000  0.0000   \n",
       "\n",
       "          V9  ...     V21    V22    V23     V24     V25     V26     V27  \\\n",
       "Time -0.0080  ...  0.0447 0.1441 0.0512 -0.0162 -0.2332 -0.0414 -0.0052   \n",
       "V1    0.0000  ... -0.0000 0.0000 0.0000  0.0000 -0.0000 -0.0000  0.0000   \n",
       "V2   -0.0000  ...  0.0000 0.0000 0.0000 -0.0000 -0.0000  0.0000 -0.0000   \n",
       "V3   -0.0000  ... -0.0000 0.0000 0.0000 -0.0000  0.0000  0.0000  0.0000   \n",
       "V4    0.0000  ... -0.0000 0.0000 0.0000  0.0000  0.0000 -0.0000 -0.0000   \n",
       "\n",
       "         V28  Amount   Class  \n",
       "Time -0.0094 -0.0107 -0.0123  \n",
       "V1    0.0000 -0.2277 -0.1013  \n",
       "V2   -0.0000 -0.5314  0.0913  \n",
       "V3    0.0000 -0.2109 -0.1930  \n",
       "V4   -0.0000  0.0987  0.1334  \n",
       "\n",
       "[5 rows x 31 columns]"
      ]
     },
     "execution_count": 80,
     "metadata": {},
     "output_type": "execute_result"
    }
   ],
   "source": [
    "data_corr = data.corr()\n",
    "data_corr.head()"
   ]
  },
  {
   "cell_type": "markdown",
   "metadata": {},
   "source": [
    "查看各变量与Class之间的相关性系数如下："
   ]
  },
  {
   "cell_type": "code",
   "execution_count": 81,
   "metadata": {},
   "outputs": [
    {
     "data": {
      "text/plain": [
       "Class     1.0000\n",
       "V11       0.1549\n",
       "V4        0.1334\n",
       "V2        0.0913\n",
       "V21       0.0404\n",
       "V19       0.0348\n",
       "V20       0.0201\n",
       "V8        0.0199\n",
       "V27       0.0176\n",
       "V28       0.0095\n",
       "Amount    0.0056\n",
       "V26       0.0045\n",
       "V25       0.0033\n",
       "V22       0.0008\n",
       "V23      -0.0027\n",
       "V15      -0.0042\n",
       "V13      -0.0046\n",
       "V24      -0.0072\n",
       "Time     -0.0123\n",
       "V6       -0.0436\n",
       "V5       -0.0950\n",
       "V9       -0.0977\n",
       "V1       -0.1013\n",
       "V18      -0.1115\n",
       "V7       -0.1873\n",
       "V3       -0.1930\n",
       "V16      -0.1965\n",
       "V10      -0.2169\n",
       "V12      -0.2606\n",
       "V14      -0.3025\n",
       "V17      -0.3265\n",
       "Name: Class, dtype: float64"
      ]
     },
     "execution_count": 81,
     "metadata": {},
     "output_type": "execute_result"
    }
   ],
   "source": [
    "data_corr['Class'].sort_values(ascending=False)"
   ]
  },
  {
   "cell_type": "markdown",
   "metadata": {},
   "source": [
    "各变量与Class之间的相关性图表如下："
   ]
  },
  {
   "cell_type": "code",
   "execution_count": 94,
   "metadata": {},
   "outputs": [
    {
     "data": {
      "image/png": "[encoded data removed]",
      "text/plain": [
       "<Figure size 864x864 with 2 Axes>"
      ]
     },
     "metadata": {},
     "output_type": "display_data"
    }
   ],
   "source": [
    "plt.figure(figsize=(12,12))\n",
    "sns.heatmap(data_corr, vmax=1, square=False, cmap='YlGnBu', lw=0.5)\n",
    "plt.show()"
   ]
  },
  {
   "cell_type": "markdown",
   "metadata": {},
   "source": [
    "可知：V11、V4、V2这3个变量对Class的影响较大。\n",
    "\n",
    "至此，数据分析已完成。"
   ]
  },
  {
   "cell_type": "markdown",
   "metadata": {},
   "source": [
    "### 5. 分析总结\n",
    "\n",
    "综合上述分析，结论如下：\n",
    "\n",
    "- 信用卡交易数据集中出现正常交易的次数是284315次，出现欺诈交易的次数是492次，其中欺诈交易占总交易的比例是0.17%；\n",
    "- 数据集为信用卡48小时内的交易情况；\n",
    "- 在信用卡欺诈交易样本中，离群值发生在客户使用信用卡消费更低频的时间段；\n",
    "- 信用卡欺诈交易数量案发最高峰在第一天上午11点达到47次，其余发生信用卡被盗刷案发时间在晚上时间11点至第二早上9点之间；\n",
    "- 信用卡欺诈交易最大金额是2,125.87美元，数额不大；\n",
    "- 信用正常交易情况存在一定的周期性规律，可能与持卡人消费习惯有关；\n",
    "- 对信用卡正常交易与否影响最大的3个变量是：V11、V4、V2。"
   ]
  },
  {
   "cell_type": "markdown",
   "metadata": {},
   "source": [
    "## 第二部分：构建信用卡发欺诈模型\n",
    "\n",
    "### 1. 准备工作\n",
    "\n",
    "#### 1.1 导入机器学习模型库"
   ]
  },
  {
   "cell_type": "code",
   "execution_count": 18,
   "metadata": {},
   "outputs": [],
   "source": [
    "from sklearn.linear_model import LogisticRegression\n",
    "from sklearn.ensemble import RandomForestClassifier\n",
    "from sklearn.model_selection import GridSearchCV\n",
    "from sklearn.model_selection import train_test_split\n",
    "from sklearn.metrics import confusion_matrix\n",
    "from sklearn.metrics import precision_recall_curve\n",
    "from sklearn.metrics import auc\n",
    "from sklearn.metrics import roc_auc_score\n",
    "from sklearn.metrics import roc_curve\n",
    "from sklearn.metrics import recall_score\n",
    "from sklearn.metrics import classification_report\n",
    "from sklearn.metrics import accuracy_score\n",
    "from sklearn.preprocessing import StandardScaler\n",
    "\n",
    "import warnings\n",
    "warnings.filterwarnings('ignore')\n",
    "\n",
    "pd.set_option('display.float_format', lambda x: '%.4f'% x)\n",
    "\n",
    "from imblearn.over_sampling import SMOTE\n",
    "import itertools"
   ]
  },
  {
   "cell_type": "markdown",
   "metadata": {},
   "source": [
    "### 2. 特征工程\n",
    "\n",
    "由于数据集中V1-V28列的数据已经经过特征化处理，所以无需再做其他处理。\n",
    "\n",
    "但是，\n",
    "Time和Amount列：数据规格和其他特征相差较大，因此为了避免权重影响，需要要进行特征缩放。\n",
    "Class列：Class=0和Class=1的个数相差较大，数据分布不均衡。\n",
    "\n",
    "所以，需要对上述三列数据进行预处理。\n",
    "\n",
    "#### 2.1 特征缩放：对Time和Amount列标准化处理\n",
    "\n",
    "##### 第1步：将“Amount”和“Time“放入新的列表中，便于同时进行特征缩放。"
   ]
  },
  {
   "cell_type": "code",
   "execution_count": 15,
   "metadata": {},
   "outputs": [
    {
     "data": {
      "text/html": [
       "<div>\n",
       "<style scoped>\n",
       "    .dataframe tbody tr th:only-of-type {\n",
       "        vertical-align: middle;\n",
       "    }\n",
       "\n",
       "    .dataframe tbody tr th {\n",
       "        vertical-align: top;\n",
       "    }\n",
       "\n",
       "    .dataframe thead th {\n",
       "        text-align: right;\n",
       "    }\n",
       "</style>\n",
       "<table border=\"1\" class=\"dataframe\">\n",
       "  <thead>\n",
       "    <tr style=\"text-align: right;\">\n",
       "      <th></th>\n",
       "      <th>Amount</th>\n",
       "      <th>Time</th>\n",
       "    </tr>\n",
       "  </thead>\n",
       "  <tbody>\n",
       "    <tr>\n",
       "      <th>0</th>\n",
       "      <td>149.62</td>\n",
       "      <td>0.0</td>\n",
       "    </tr>\n",
       "    <tr>\n",
       "      <th>1</th>\n",
       "      <td>2.69</td>\n",
       "      <td>0.0</td>\n",
       "    </tr>\n",
       "    <tr>\n",
       "      <th>2</th>\n",
       "      <td>378.66</td>\n",
       "      <td>0.0</td>\n",
       "    </tr>\n",
       "    <tr>\n",
       "      <th>3</th>\n",
       "      <td>123.50</td>\n",
       "      <td>0.0</td>\n",
       "    </tr>\n",
       "    <tr>\n",
       "      <th>4</th>\n",
       "      <td>69.99</td>\n",
       "      <td>0.0</td>\n",
       "    </tr>\n",
       "  </tbody>\n",
       "</table>\n",
       "</div>"
      ],
      "text/plain": [
       "   Amount  Time\n",
       "0  149.62   0.0\n",
       "1    2.69   0.0\n",
       "2  378.66   0.0\n",
       "3  123.50   0.0\n",
       "4   69.99   0.0"
      ]
     },
     "execution_count": 15,
     "metadata": {},
     "output_type": "execute_result"
    }
   ],
   "source": [
    "cols = ['Amount', 'Time']\n",
    "data[cols].head()"
   ]
  },
  {
   "cell_type": "markdown",
   "metadata": {},
   "source": [
    "##### 第2步：初始化缩放器，并对数据进行标准化\n",
    "\n",
    "- StandardScaler()：将特征中的值进行标准差标准化，即转换为均值为0，方差为1的正态分布；\n",
    "  参考网址：[StandardScalers数据预处理](https://blog.csdn.net/u010758410/article/details/78158781)\n",
    "- fit_transform(trainData)对部分数据先拟合fit，找到该part的整体指标，如均值、方差、最大值最小值等等（根据具体转换的目的），然后对该trainData进行转换transform，从而实现数据的标准化、归一化等等。\n",
    "  参考网址：[fit_transform](https://blog.csdn.net/weixin_38278334/article/details/82971752)"
   ]
  },
  {
   "cell_type": "code",
   "execution_count": 20,
   "metadata": {},
   "outputs": [
    {
     "data": {
      "text/html": [
       "<div>\n",
       "<style scoped>\n",
       "    .dataframe tbody tr th:only-of-type {\n",
       "        vertical-align: middle;\n",
       "    }\n",
       "\n",
       "    .dataframe tbody tr th {\n",
       "        vertical-align: top;\n",
       "    }\n",
       "\n",
       "    .dataframe thead th {\n",
       "        text-align: right;\n",
       "    }\n",
       "</style>\n",
       "<table border=\"1\" class=\"dataframe\">\n",
       "  <thead>\n",
       "    <tr style=\"text-align: right;\">\n",
       "      <th></th>\n",
       "      <th>Amount</th>\n",
       "      <th>Time</th>\n",
       "    </tr>\n",
       "  </thead>\n",
       "  <tbody>\n",
       "    <tr>\n",
       "      <th>0</th>\n",
       "      <td>0.2450</td>\n",
       "      <td>-1.9603</td>\n",
       "    </tr>\n",
       "    <tr>\n",
       "      <th>1</th>\n",
       "      <td>-0.3425</td>\n",
       "      <td>-1.9603</td>\n",
       "    </tr>\n",
       "    <tr>\n",
       "      <th>2</th>\n",
       "      <td>1.1607</td>\n",
       "      <td>-1.9603</td>\n",
       "    </tr>\n",
       "    <tr>\n",
       "      <th>3</th>\n",
       "      <td>0.1405</td>\n",
       "      <td>-1.9603</td>\n",
       "    </tr>\n",
       "    <tr>\n",
       "      <th>4</th>\n",
       "      <td>-0.0734</td>\n",
       "      <td>-1.9603</td>\n",
       "    </tr>\n",
       "  </tbody>\n",
       "</table>\n",
       "</div>"
      ],
      "text/plain": [
       "   Amount    Time\n",
       "0  0.2450 -1.9603\n",
       "1 -0.3425 -1.9603\n",
       "2  1.1607 -1.9603\n",
       "3  0.1405 -1.9603\n",
       "4 -0.0734 -1.9603"
      ]
     },
     "execution_count": 20,
     "metadata": {},
     "output_type": "execute_result"
    }
   ],
   "source": [
    "# 初始化缩放器\n",
    "sc = StandardScaler()\n",
    "# 对数据标准化\n",
    "data[cols] = sc.fit_transform(data[cols])\n",
    "data[cols].head()"
   ]
  },
  {
   "cell_type": "markdown",
   "metadata": {},
   "source": [
    "##### 第3步：查看整个数据集data中的'Time'和’Amount‘两列是否完成标准化。"
   ]
  },
  {
   "cell_type": "code",
   "execution_count": 21,
   "metadata": {},
   "outputs": [
    {
     "data": {
      "text/html": [
       "<div>\n",
       "<style scoped>\n",
       "    .dataframe tbody tr th:only-of-type {\n",
       "        vertical-align: middle;\n",
       "    }\n",
       "\n",
       "    .dataframe tbody tr th {\n",
       "        vertical-align: top;\n",
       "    }\n",
       "\n",
       "    .dataframe thead th {\n",
       "        text-align: right;\n",
       "    }\n",
       "</style>\n",
       "<table border=\"1\" class=\"dataframe\">\n",
       "  <thead>\n",
       "    <tr style=\"text-align: right;\">\n",
       "      <th></th>\n",
       "      <th>Time</th>\n",
       "      <th>V1</th>\n",
       "      <th>V2</th>\n",
       "      <th>V3</th>\n",
       "      <th>V4</th>\n",
       "      <th>V5</th>\n",
       "      <th>V6</th>\n",
       "      <th>V7</th>\n",
       "      <th>V8</th>\n",
       "      <th>V9</th>\n",
       "      <th>...</th>\n",
       "      <th>V21</th>\n",
       "      <th>V22</th>\n",
       "      <th>V23</th>\n",
       "      <th>V24</th>\n",
       "      <th>V25</th>\n",
       "      <th>V26</th>\n",
       "      <th>V27</th>\n",
       "      <th>V28</th>\n",
       "      <th>Amount</th>\n",
       "      <th>Class</th>\n",
       "    </tr>\n",
       "  </thead>\n",
       "  <tbody>\n",
       "    <tr>\n",
       "      <th>0</th>\n",
       "      <td>-1.9603</td>\n",
       "      <td>-1.3598</td>\n",
       "      <td>-0.0728</td>\n",
       "      <td>2.5363</td>\n",
       "      <td>1.3782</td>\n",
       "      <td>-0.3383</td>\n",
       "      <td>0.4624</td>\n",
       "      <td>0.2396</td>\n",
       "      <td>0.0987</td>\n",
       "      <td>0.3638</td>\n",
       "      <td>...</td>\n",
       "      <td>-0.0183</td>\n",
       "      <td>0.2778</td>\n",
       "      <td>-0.1105</td>\n",
       "      <td>0.0669</td>\n",
       "      <td>0.1285</td>\n",
       "      <td>-0.1891</td>\n",
       "      <td>0.1336</td>\n",
       "      <td>-0.0211</td>\n",
       "      <td>0.2450</td>\n",
       "      <td>0</td>\n",
       "    </tr>\n",
       "    <tr>\n",
       "      <th>1</th>\n",
       "      <td>-1.9603</td>\n",
       "      <td>1.1919</td>\n",
       "      <td>0.2662</td>\n",
       "      <td>0.1665</td>\n",
       "      <td>0.4482</td>\n",
       "      <td>0.0600</td>\n",
       "      <td>-0.0824</td>\n",
       "      <td>-0.0788</td>\n",
       "      <td>0.0851</td>\n",
       "      <td>-0.2554</td>\n",
       "      <td>...</td>\n",
       "      <td>-0.2258</td>\n",
       "      <td>-0.6387</td>\n",
       "      <td>0.1013</td>\n",
       "      <td>-0.3398</td>\n",
       "      <td>0.1672</td>\n",
       "      <td>0.1259</td>\n",
       "      <td>-0.0090</td>\n",
       "      <td>0.0147</td>\n",
       "      <td>-0.3425</td>\n",
       "      <td>0</td>\n",
       "    </tr>\n",
       "    <tr>\n",
       "      <th>2</th>\n",
       "      <td>-1.9603</td>\n",
       "      <td>-1.3584</td>\n",
       "      <td>-1.3402</td>\n",
       "      <td>1.7732</td>\n",
       "      <td>0.3798</td>\n",
       "      <td>-0.5032</td>\n",
       "      <td>1.8005</td>\n",
       "      <td>0.7915</td>\n",
       "      <td>0.2477</td>\n",
       "      <td>-1.5147</td>\n",
       "      <td>...</td>\n",
       "      <td>0.2480</td>\n",
       "      <td>0.7717</td>\n",
       "      <td>0.9094</td>\n",
       "      <td>-0.6893</td>\n",
       "      <td>-0.3276</td>\n",
       "      <td>-0.1391</td>\n",
       "      <td>-0.0554</td>\n",
       "      <td>-0.0598</td>\n",
       "      <td>1.1607</td>\n",
       "      <td>0</td>\n",
       "    </tr>\n",
       "    <tr>\n",
       "      <th>3</th>\n",
       "      <td>-1.9603</td>\n",
       "      <td>-0.9663</td>\n",
       "      <td>-0.1852</td>\n",
       "      <td>1.7930</td>\n",
       "      <td>-0.8633</td>\n",
       "      <td>-0.0103</td>\n",
       "      <td>1.2472</td>\n",
       "      <td>0.2376</td>\n",
       "      <td>0.3774</td>\n",
       "      <td>-1.3870</td>\n",
       "      <td>...</td>\n",
       "      <td>-0.1083</td>\n",
       "      <td>0.0053</td>\n",
       "      <td>-0.1903</td>\n",
       "      <td>-1.1756</td>\n",
       "      <td>0.6474</td>\n",
       "      <td>-0.2219</td>\n",
       "      <td>0.0627</td>\n",
       "      <td>0.0615</td>\n",
       "      <td>0.1405</td>\n",
       "      <td>0</td>\n",
       "    </tr>\n",
       "    <tr>\n",
       "      <th>4</th>\n",
       "      <td>-1.9603</td>\n",
       "      <td>-1.1582</td>\n",
       "      <td>0.8777</td>\n",
       "      <td>1.5487</td>\n",
       "      <td>0.4030</td>\n",
       "      <td>-0.4072</td>\n",
       "      <td>0.0959</td>\n",
       "      <td>0.5929</td>\n",
       "      <td>-0.2705</td>\n",
       "      <td>0.8177</td>\n",
       "      <td>...</td>\n",
       "      <td>-0.0094</td>\n",
       "      <td>0.7983</td>\n",
       "      <td>-0.1375</td>\n",
       "      <td>0.1413</td>\n",
       "      <td>-0.2060</td>\n",
       "      <td>0.5023</td>\n",
       "      <td>0.2194</td>\n",
       "      <td>0.2152</td>\n",
       "      <td>-0.0734</td>\n",
       "      <td>0</td>\n",
       "    </tr>\n",
       "  </tbody>\n",
       "</table>\n",
       "<p>5 rows × 31 columns</p>\n",
       "</div>"
      ],
      "text/plain": [
       "     Time      V1      V2     V3      V4      V5      V6      V7      V8  \\\n",
       "0 -1.9603 -1.3598 -0.0728 2.5363  1.3782 -0.3383  0.4624  0.2396  0.0987   \n",
       "1 -1.9603  1.1919  0.2662 0.1665  0.4482  0.0600 -0.0824 -0.0788  0.0851   \n",
       "2 -1.9603 -1.3584 -1.3402 1.7732  0.3798 -0.5032  1.8005  0.7915  0.2477   \n",
       "3 -1.9603 -0.9663 -0.1852 1.7930 -0.8633 -0.0103  1.2472  0.2376  0.3774   \n",
       "4 -1.9603 -1.1582  0.8777 1.5487  0.4030 -0.4072  0.0959  0.5929 -0.2705   \n",
       "\n",
       "       V9  ...     V21     V22     V23     V24     V25     V26     V27  \\\n",
       "0  0.3638  ... -0.0183  0.2778 -0.1105  0.0669  0.1285 -0.1891  0.1336   \n",
       "1 -0.2554  ... -0.2258 -0.6387  0.1013 -0.3398  0.1672  0.1259 -0.0090   \n",
       "2 -1.5147  ...  0.2480  0.7717  0.9094 -0.6893 -0.3276 -0.1391 -0.0554   \n",
       "3 -1.3870  ... -0.1083  0.0053 -0.1903 -1.1756  0.6474 -0.2219  0.0627   \n",
       "4  0.8177  ... -0.0094  0.7983 -0.1375  0.1413 -0.2060  0.5023  0.2194   \n",
       "\n",
       "      V28  Amount  Class  \n",
       "0 -0.0211  0.2450      0  \n",
       "1  0.0147 -0.3425      0  \n",
       "2 -0.0598  1.1607      0  \n",
       "3  0.0615  0.1405      0  \n",
       "4  0.2152 -0.0734      0  \n",
       "\n",
       "[5 rows x 31 columns]"
      ]
     },
     "execution_count": 21,
     "metadata": {},
     "output_type": "execute_result"
    }
   ],
   "source": [
    "data.head()"
   ]
  },
  {
   "cell_type": "markdown",
   "metadata": {},
   "source": [
    "可见，Time和Amount两列已完成标准化转换。\n",
    "\n",
    "#### 2.2 Class列中不平衡数据处理\n",
    "\n",
    "机器学习中不平衡数据的处理方式有以下几种："
   ]
  },
  {
   "cell_type": "markdown",
   "metadata": {},
   "source": [
    "- 常规方法：\n",
    "  - 上采样：小种类复制多份。弊端：过拟合，上采样后的数据集中会反复出现一些样本，训练处来的模型会有一定的过拟合\n",
    "  - 下采样：只从大种类中选取部分样本。弊端：欠拟合，最终的训练集丢失了数据，模型只学到了总体模式的一部分\n",
    "- 改进方法：\n",
    "  - EasyEnsemble：多次下采样产生多个不同的训练集，以训练多个不同的分类器\n",
    "  - BalanceCascade：\n",
    "    - 先通过一次下采样产生训练集，训练一个分类器\n",
    "    - 那些分类正确的大众样本不放回，然后对这个更小的大众样本下采样产生训练集，训练第二个分类器\n",
    "  - 数据合成：SMOTE\n",
    "  - 数据加权：麻烦的地方在于如何设置合适的权重，实际应用中一般让各个分类间的加权损失近似相等\n",
    "  - 一分类：看成是一分类或异常检测问题\n",
    "  \n",
    "本案例通过过采样的改进方法**SMOTE算法**进行数据合成处理不平衡数据问题。\n",
    "\n",
    "首先了解一下过采样数据集SMOTE算法是什么？\n",
    "\n",
    "**SMOTE**全称是*Synthetic Minority Oversampling Technique*，即合成少数类过采样技术，它是基于随机过采样算法的一种改进方案，由于随机过采样采取简单复制样本的策略来增加少数类样本，这样容易产生模型过拟合的问题，即使得模型学习到的信息过于特别(Specific)而不够泛化(General)，SMOTE算法的基本思想是对少数类样本进行分析并根据少数类样本人工合成新样本添加到数据集中，具体如下图所示，算法流程如下：\n",
    "\n",
    "1. 对于少数类中每一个样本$x$，以欧氏距离为标准计算它到少数类样本集 $S_{min}$ 中所有样本的距离，得到其k近邻；\n",
    "2. 根据样本不平衡比例设置一个采样比例以确定采样倍率$N$，对于每一个少数类样本$x$，从其k近邻中随机选择若干个样本，假设选择的近邻为$\\hat{x}$；\n",
    "3. 对于每一个随机选出的近邻$\\hat{x}$，分别与原样本按照如下的公式构建新的样本:\n",
    "$$\n",
    "x_{new} = x + rand(0,1) \\times(\\hat{x} - x)\n",
    "$$\n",
    "\n",
    "其中，欧式距离源自N维欧氏空间中两点x1,x2距离公式：\n",
    "$$\n",
    "d = \\sqrt{\\sum_{i=1}^{n}{(x_{1i}-x_{2i})}^2}\n",
    "$$\n",
    "\n",
    "接下来用SMOTE算法对不平衡数据进行处理。\n",
    "\n",
    "##### 第1步：查看处理不平衡数据前情况，下图正样本即为Class=1数据样本，负样本即为Class=0数据样本，代码如下："
   ]
  },
  {
   "cell_type": "code",
   "execution_count": 36,
   "metadata": {},
   "outputs": [
    {
     "name": "stdout",
     "output_type": "stream",
     "text": [
      "样本个数：284807 \n",
      "正例占比：99.83% \n",
      "负例占比：0.17%\n"
     ]
    }
   ],
   "source": [
    "x_features = list(data.columns)\n",
    "X = data[x_features]\n",
    "y = data['Class']\n",
    "\n",
    "n_samples = y.shape[0]\n",
    "\n",
    "n_pos_samples = y[y == 0].shape[0]\n",
    "n_neg_samples = y[y == 1].shape[0]\n",
    "\n",
    "print('样本个数：{} \\n正例占比：{:.2%} \\n负例占比：{:.2%}'.format(\n",
    "    n_samples, n_pos_samples/n_samples, n_neg_samples / n_samples))"
   ]
  },
  {
   "cell_type": "markdown",
   "metadata": {},
   "source": [
    "##### 第2步：通过SMOTE方法平衡正负样本，代码如下："
   ]
  },
  {
   "cell_type": "code",
   "execution_count": 38,
   "metadata": {},
   "outputs": [
    {
     "name": "stdout",
     "output_type": "stream",
     "text": [
      "通过SMOTE方法平衡正负样本后：\n",
      "样本个数：568630 \n",
      "正例占比：50.00% \n",
      "负例占比：50.00%\n",
      "特征维数：31\n"
     ]
    }
   ],
   "source": [
    "# 处理不平衡数据\n",
    "sm = SMOTE(random_state=42)\n",
    "X, y = sm.fit_sample(X, y)\n",
    "\n",
    "print('通过SMOTE方法平衡正负样本后：')\n",
    "\n",
    "n_samples = y.shape[0]\n",
    "\n",
    "n_pos_samples = y[y == 0].shape[0]\n",
    "n_neg_samples = y[y == 1].shape[0]\n",
    "\n",
    "print('样本个数：{} \\n正例占比：{:.2%} \\n负例占比：{:.2%}'.format(\n",
    "    n_samples, n_pos_samples/n_samples, n_neg_samples / n_samples))\n",
    "print('特征维数：{}'.format(X.shape[1]))"
   ]
  },
  {
   "cell_type": "markdown",
   "metadata": {},
   "source": [
    "至此，特征处理已完成。\n",
    "\n",
    "### 3. 建立训练数据集和测试数据集"
   ]
  },
  {
   "cell_type": "code",
   "execution_count": 42,
   "metadata": {},
   "outputs": [
    {
     "name": "stdout",
     "output_type": "stream",
     "text": [
      "过采样训练集数据特征： 454904\n",
      "过采样训练集数据标签： 454904\n",
      "过采样测试集数据特征： 113726\n",
      "过采样测试集数据标签： 113726\n"
     ]
    }
   ],
   "source": [
    "X_train_oversamples, X_test_oversamples, y_train_oversamples, y_test_oversamples = \\\n",
    "train_test_split(X, y, test_size=0.2, random_state=0)\n",
    "\n",
    "print('过采样训练集数据特征：', len(X_train_oversamples))\n",
    "print('过采样训练集数据标签：', len(y_train_oversamples))\n",
    "\n",
    "print('过采样测试集数据特征：', len(X_test_oversamples))\n",
    "print('过采样测试集数据标签：', len(y_test_oversamples))"
   ]
  },
  {
   "cell_type": "markdown",
   "metadata": {},
   "source": [
    "### 4. 模型构建及评估\n",
    "\n",
    "建立逻辑回归模型并通过AUC值进行模型评估，AUC（Area Under roc Curve）是一种用来度量分类模型好坏的一个标准。AUC值为ROC曲线所覆盖的区域面积，显然，AUC越大，分类器分类效果越好。\n",
    "\n",
    "- sklearn包：混淆矩阵、分类报告等自动生成；\n",
    "- sklearn.my_confusion_matrix()函数：混淆矩阵，主要是针对预测出来的结果，和原来的结果对比，算出混淆矩阵。其对每个类别的混淆矩阵都计算出来了，并且labels参数默认是排序了的。\n",
    "- sklearn.my_classification_report()函数：分类报告，主要针对每个类别给出详细的准确率、召回率和F-值这三个参数和宏平均值，用来评价算法好坏。另外ROC曲线的话，需要是对二分类才可以。\n",
    "\n",
    "#### 4.1 构建并训练模型"
   ]
  },
  {
   "cell_type": "code",
   "execution_count": 53,
   "metadata": {},
   "outputs": [
    {
     "data": {
      "text/plain": [
       "LogisticRegression(C=1.0, class_weight=None, dual=False, fit_intercept=True,\n",
       "                   intercept_scaling=1, l1_ratio=None, max_iter=100,\n",
       "                   multi_class='warn', n_jobs=None, penalty='l2',\n",
       "                   random_state=None, solver='warn', tol=0.0001, verbose=0,\n",
       "                   warm_start=False)"
      ]
     },
     "execution_count": 53,
     "metadata": {},
     "output_type": "execute_result"
    }
   ],
   "source": [
    "# 构建并训练逻辑回归模型\n",
    "from sklearn.model_selection import KFold, cross_val_score\n",
    "\n",
    "lr_model = LogisticRegression(penalty='l2')\n",
    "lr_model.fit(X_train_oversamples, y_train_oversamples)"
   ]
  },
  {
   "cell_type": "code",
   "execution_count": 95,
   "metadata": {},
   "outputs": [
    {
     "data": {
      "text/plain": [
       "(113726,)"
      ]
     },
     "execution_count": 95,
     "metadata": {},
     "output_type": "execute_result"
    }
   ],
   "source": [
    "y_test_oversamples"
   ]
  },
  {
   "cell_type": "markdown",
   "metadata": {},
   "source": [
    "#### 4.2 测试并评估模型"
   ]
  },
  {
   "cell_type": "code",
   "execution_count": 54,
   "metadata": {},
   "outputs": [
    {
     "name": "stdout",
     "output_type": "stream",
     "text": [
      "--------------------Logistic Regression Model--------------------\n",
      "LogisticRegression(C=1.0, class_weight=None, dual=False, fit_intercept=True,\n",
      "                   intercept_scaling=1, l1_ratio=None, max_iter=100,\n",
      "                   multi_class='warn', n_jobs=None, penalty='l2',\n",
      "                   random_state=None, solver='warn', tol=0.0001, verbose=0,\n",
      "                   warm_start=False)\n",
      "--------------------Confusion Matrix--------------------\n",
      "[[56723     1]\n",
      " [    0 57002]]\n",
      "--------------------Classification Report--------------------\n",
      "              precision    recall  f1-score   support\n",
      "\n",
      "           0       1.00      1.00      1.00     56724\n",
      "           1       1.00      1.00      1.00     57002\n",
      "\n",
      "    accuracy                           1.00    113726\n",
      "   macro avg       1.00      1.00      1.00    113726\n",
      "weighted avg       1.00      1.00      1.00    113726\n",
      "\n",
      "Accuracy: 0.999991\n",
      "AUC: 0.999991\n"
     ]
    }
   ],
   "source": [
    "# 查看模型信息\n",
    "print('-'*20 + 'Logistic Regression Model' + '-'*20)\n",
    "print(lr_model)\n",
    "\n",
    "# 查看混淆矩阵\n",
    "y_pred = lr_model.predict(X_test_oversamples)\n",
    "print('-'*20 + 'Confusion Matrix' + '-'*20)\n",
    "print(confusion_matrix(y_test_oversamples, y_pred))\n",
    "\n",
    "# 查看分类报告\n",
    "print('-'*20 + \"Classification Report\" + '-'*20)\n",
    "print(classification_report(y_test_oversamples, y_pred))\n",
    "\n",
    "# 查看精度与决策覆盖面\n",
    "print('Accuracy: {:.6f}'.format(accuracy_score(y_test_oversamples, y_pred)))\n",
    "print('AUC: {:.6f}'.format(roc_auc_score(y_test_oversamples, y_pred)))"
   ]
  },
  {
   "cell_type": "markdown",
   "metadata": {},
   "source": [
    "由上述结果可见，该模型的分类准确率为0.999，其模型精度即AUC数值为0.999，具有较高精度。后续可利用该模型自动批量化处理信用卡使用数据，完成欺诈风险评估。"
   ]
  },
  {
   "cell_type": "markdown",
   "metadata": {},
   "source": [
    "### 5. 参考文献\n",
    "\n",
    "1. [主成分分析（PCA）原理详解](https://blog.csdn.net/program_developer/article/details/80632779)\n",
    "2. [探索性数据分析(EDA)及其应用](https://link.zhihu.com/?target=http%3A//tech.hqew.com/news_1095930)\n",
    "3. [缺失值可视化处理--missingno](https://blog.csdn.net/Andy_shenzl/article/details/81633356)\n",
    "4. [不平衡数据集的处理](https://www.cnblogs.com/kamekin/p/9824294.html)\n",
    "5. [机器学习中不平衡数据的处理方式](https://blog.csdn.net/zk_ken/article/details/82013965)\n",
    "6. [类别不平衡问题之SMOTE算法（Python imblearn极简实现](https://www.cnblogs.com/lvdongjie/p/11489743.html)\n",
    "7. [欧式距离、标准化欧式距离、马氏距离、余弦距离](https://blog.csdn.net/Kevin_cc98/article/details/73742037)\n",
    "8. [python sklearn包--混淆矩阵、分类报告等自动生成](http://blog.csdn.net/Kevin_cc98/article/details/73742037)\n",
    "9. [ROC曲线与AUC值](https://www.cnblogs.com/gatherstars/p/6084696.html)"
   ]
  },
  {
   "cell_type": "code",
   "execution_count": null,
   "metadata": {},
   "outputs": [],
   "source": []
  }
 ],
 "metadata": {
  "kernelspec": {
   "display_name": "Python 3",
   "language": "python",
   "name": "python3"
  },
  "language_info": {
   "codemirror_mode": {
    "name": "ipython",
    "version": 3
   },
   "file_extension": ".py",
   "mimetype": "text/x-python",
   "name": "python",
   "nbconvert_exporter": "python",
   "pygments_lexer": "ipython3",
   "version": "3.7.3"
  },
  "toc": {
   "base_numbering": 1,
   "nav_menu": {},
   "number_sections": false,
   "sideBar": true,
   "skip_h1_title": false,
   "title_cell": "Table of Contents",
   "title_sidebar": "目录",
   "toc_cell": false,
   "toc_position": {
    "height": "calc(100% - 180px)",
    "left": "10px",
    "top": "150px",
    "width": "167.902px"
   },
   "toc_section_display": true,
   "toc_window_display": true
  }
 },
 "nbformat": 4,
 "nbformat_minor": 2
}
