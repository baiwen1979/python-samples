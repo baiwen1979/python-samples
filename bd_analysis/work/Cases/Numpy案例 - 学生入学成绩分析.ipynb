{
 "cells": [
  {
   "cell_type": "markdown",
   "metadata": {},
   "source": [
    "# 数据分析实操专题练习-Numpy\n",
    "---\n",
    "\n",
    "**习题说明：**\n",
    "\n",
    "- 练习时间：6小时\n",
    "- 练习环境：jupyter notebook\n",
    "- 练习要求：所有操作命令或代码均在此notebook文件中编写，完整的Python程序可新建为扩展名为.py的文本文件，然后在本notebook中使用命令或者以引入模块的方式调用执行。程序运行结果必须在此notebook中输出。\n",
    "\n",
    "## 数据预处理与可视化\n",
    "\n",
    "### 数据描述\n",
    "\n",
    "高校学生入学成绩数据分为4个数据文件，分别为：\n",
    "\n",
    "- 班级信息表（datalab/40538/class_info.csv）\n",
    "- 学生信息表（datalab/40538/student_info.csv）\n",
    "- 院系信息表（datalab/40538/department_info.csv）\n",
    "- 学生成绩表（datalab/40538/student_scores.csv）\n",
    "\n",
    "\n",
    "### 题目要求\n",
    "\n",
    "请使用**numpy**编程完成以下操作任务。【注：只能使用numpy和matplotlib，禁止使用第三方工具包】\n",
    "\n",
    "#### 第1题（难易程度：* ）\n",
    "\n",
    "分别导入上述数据文件，完成以下操作：\n",
    "\n",
    "1. 输出每个数据表的行列数（形状）和头5行"
   ]
  },
  {
   "cell_type": "code",
   "execution_count": 4,
   "metadata": {},
   "outputs": [],
   "source": [
    "# 导入必需包\n",
    "import numpy as np\n",
    "import matplotlib.pyplot as plt"
   ]
  },
  {
   "cell_type": "code",
   "execution_count": 9,
   "metadata": {},
   "outputs": [
    {
     "ename": "UnicodeEncodeError",
     "evalue": "'latin-1' codec can't encode characters in position 0-3: ordinal not in range(256)",
     "output_type": "error",
     "traceback": [
      "\u001b[0;31m---------------------------------------------------------------------------\u001b[0m",
      "\u001b[0;31mUnicodeEncodeError\u001b[0m                        Traceback (most recent call last)",
      "\u001b[0;32m<ipython-input-9-1fb8b653ad90>\u001b[0m in \u001b[0;36m<module>\u001b[0;34m()\u001b[0m\n\u001b[1;32m      1\u001b[0m \u001b[0;31m# 加载班级信息表\u001b[0m\u001b[0;34m\u001b[0m\u001b[0;34m\u001b[0m\u001b[0;34m\u001b[0m\u001b[0m\n\u001b[0;32m----> 2\u001b[0;31m \u001b[0mclasses_info\u001b[0m \u001b[0;34m=\u001b[0m \u001b[0mnp\u001b[0m\u001b[0;34m.\u001b[0m\u001b[0mloadtxt\u001b[0m\u001b[0;34m(\u001b[0m\u001b[0;34m'./datalab/40538/class_info.csv'\u001b[0m\u001b[0;34m,\u001b[0m \u001b[0mdelimiter\u001b[0m\u001b[0;34m=\u001b[0m\u001b[0;34m','\u001b[0m\u001b[0;34m,\u001b[0m \u001b[0mdtype\u001b[0m\u001b[0;34m=\u001b[0m\u001b[0;34m'str'\u001b[0m\u001b[0;34m)\u001b[0m\u001b[0;34m\u001b[0m\u001b[0;34m\u001b[0m\u001b[0m\n\u001b[0m\u001b[1;32m      3\u001b[0m \u001b[0mprint\u001b[0m\u001b[0;34m(\u001b[0m\u001b[0;34m'行列数：'\u001b[0m\u001b[0;34m,\u001b[0m \u001b[0mclasses_info\u001b[0m\u001b[0;34m.\u001b[0m\u001b[0mshape\u001b[0m\u001b[0;34m)\u001b[0m\u001b[0;34m\u001b[0m\u001b[0;34m\u001b[0m\u001b[0m\n\u001b[1;32m      4\u001b[0m \u001b[0mclasses_info\u001b[0m\u001b[0;34m[\u001b[0m\u001b[0;34m:\u001b[0m\u001b[0;36m5\u001b[0m\u001b[0;34m]\u001b[0m\u001b[0;34m\u001b[0m\u001b[0;34m\u001b[0m\u001b[0m\n",
      "\u001b[0;32m/opt/conda/lib/python3.6/site-packages/numpy/lib/npyio.py\u001b[0m in \u001b[0;36mloadtxt\u001b[0;34m(fname, dtype, comments, delimiter, converters, skiprows, usecols, unpack, ndmin)\u001b[0m\n\u001b[1;32m    980\u001b[0m             \u001b[0;32mwhile\u001b[0m \u001b[0;32mnot\u001b[0m \u001b[0mfirst_vals\u001b[0m\u001b[0;34m:\u001b[0m\u001b[0;34m\u001b[0m\u001b[0;34m\u001b[0m\u001b[0m\n\u001b[1;32m    981\u001b[0m                 \u001b[0mfirst_line\u001b[0m \u001b[0;34m=\u001b[0m \u001b[0mnext\u001b[0m\u001b[0;34m(\u001b[0m\u001b[0mfh\u001b[0m\u001b[0;34m)\u001b[0m\u001b[0;34m\u001b[0m\u001b[0;34m\u001b[0m\u001b[0m\n\u001b[0;32m--> 982\u001b[0;31m                 \u001b[0mfirst_vals\u001b[0m \u001b[0;34m=\u001b[0m \u001b[0msplit_line\u001b[0m\u001b[0;34m(\u001b[0m\u001b[0mfirst_line\u001b[0m\u001b[0;34m)\u001b[0m\u001b[0;34m\u001b[0m\u001b[0;34m\u001b[0m\u001b[0m\n\u001b[0m\u001b[1;32m    983\u001b[0m         \u001b[0;32mexcept\u001b[0m \u001b[0mStopIteration\u001b[0m\u001b[0;34m:\u001b[0m\u001b[0;34m\u001b[0m\u001b[0;34m\u001b[0m\u001b[0m\n\u001b[1;32m    984\u001b[0m             \u001b[0;31m# End of lines reached\u001b[0m\u001b[0;34m\u001b[0m\u001b[0;34m\u001b[0m\u001b[0;34m\u001b[0m\u001b[0m\n",
      "\u001b[0;32m/opt/conda/lib/python3.6/site-packages/numpy/lib/npyio.py\u001b[0m in \u001b[0;36msplit_line\u001b[0;34m(line)\u001b[0m\n\u001b[1;32m    956\u001b[0m \u001b[0;34m\u001b[0m\u001b[0m\n\u001b[1;32m    957\u001b[0m         \"\"\"\n\u001b[0;32m--> 958\u001b[0;31m         \u001b[0mline\u001b[0m \u001b[0;34m=\u001b[0m \u001b[0masbytes\u001b[0m\u001b[0;34m(\u001b[0m\u001b[0mline\u001b[0m\u001b[0;34m)\u001b[0m\u001b[0;34m\u001b[0m\u001b[0;34m\u001b[0m\u001b[0m\n\u001b[0m\u001b[1;32m    959\u001b[0m         \u001b[0;32mif\u001b[0m \u001b[0mcomments\u001b[0m \u001b[0;32mis\u001b[0m \u001b[0;32mnot\u001b[0m \u001b[0;32mNone\u001b[0m\u001b[0;34m:\u001b[0m\u001b[0;34m\u001b[0m\u001b[0;34m\u001b[0m\u001b[0m\n\u001b[1;32m    960\u001b[0m             \u001b[0mline\u001b[0m \u001b[0;34m=\u001b[0m \u001b[0mregex_comments\u001b[0m\u001b[0;34m.\u001b[0m\u001b[0msplit\u001b[0m\u001b[0;34m(\u001b[0m\u001b[0masbytes\u001b[0m\u001b[0;34m(\u001b[0m\u001b[0mline\u001b[0m\u001b[0;34m)\u001b[0m\u001b[0;34m,\u001b[0m \u001b[0mmaxsplit\u001b[0m\u001b[0;34m=\u001b[0m\u001b[0;36m1\u001b[0m\u001b[0;34m)\u001b[0m\u001b[0;34m[\u001b[0m\u001b[0;36m0\u001b[0m\u001b[0;34m]\u001b[0m\u001b[0;34m\u001b[0m\u001b[0;34m\u001b[0m\u001b[0m\n",
      "\u001b[0;32m/opt/conda/lib/python3.6/site-packages/numpy/compat/py3k.py\u001b[0m in \u001b[0;36masbytes\u001b[0;34m(s)\u001b[0m\n\u001b[1;32m     33\u001b[0m         \u001b[0;32mif\u001b[0m \u001b[0misinstance\u001b[0m\u001b[0;34m(\u001b[0m\u001b[0ms\u001b[0m\u001b[0;34m,\u001b[0m \u001b[0mbytes\u001b[0m\u001b[0;34m)\u001b[0m\u001b[0;34m:\u001b[0m\u001b[0;34m\u001b[0m\u001b[0;34m\u001b[0m\u001b[0m\n\u001b[1;32m     34\u001b[0m             \u001b[0;32mreturn\u001b[0m \u001b[0ms\u001b[0m\u001b[0;34m\u001b[0m\u001b[0;34m\u001b[0m\u001b[0m\n\u001b[0;32m---> 35\u001b[0;31m         \u001b[0;32mreturn\u001b[0m \u001b[0mstr\u001b[0m\u001b[0;34m(\u001b[0m\u001b[0ms\u001b[0m\u001b[0;34m)\u001b[0m\u001b[0;34m.\u001b[0m\u001b[0mencode\u001b[0m\u001b[0;34m(\u001b[0m\u001b[0;34m'latin1'\u001b[0m\u001b[0;34m)\u001b[0m\u001b[0;34m\u001b[0m\u001b[0;34m\u001b[0m\u001b[0m\n\u001b[0m\u001b[1;32m     36\u001b[0m \u001b[0;34m\u001b[0m\u001b[0m\n\u001b[1;32m     37\u001b[0m     \u001b[0;32mdef\u001b[0m \u001b[0masstr\u001b[0m\u001b[0;34m(\u001b[0m\u001b[0ms\u001b[0m\u001b[0;34m)\u001b[0m\u001b[0;34m:\u001b[0m\u001b[0;34m\u001b[0m\u001b[0;34m\u001b[0m\u001b[0m\n",
      "\u001b[0;31mUnicodeEncodeError\u001b[0m: 'latin-1' codec can't encode characters in position 0-3: ordinal not in range(256)"
     ]
    }
   ],
   "source": [
    "# 加载班级信息表\n",
    "classes_info = np.loadtxt('./datalab/40538/class_info.csv', delimiter=',', dtype='str')\n",
    "print('行列数：', classes_info.shape)\n",
    "classes_info[:5]"
   ]
  },
  {
   "cell_type": "code",
   "execution_count": 4,
   "metadata": {},
   "outputs": [
    {
     "name": "stdout",
     "output_type": "stream",
     "text": [
      "行列数： (761, 5)\n"
     ]
    },
    {
     "data": {
      "text/plain": [
       "array([['学号', '姓名', '性别', '所属班级编号', '入学日期'],\n",
       "       ['170401011001', '施礼义', '男', '0101', '20170901'],\n",
       "       ['170401011002', '王旭', '男', '0101', '20170901'],\n",
       "       ['170401011003', '肖桢', '女', '0101', '20170901'],\n",
       "       ['170401011004', '吴佩东', '男', '0101', '20170901']], dtype='<U12')"
      ]
     },
     "execution_count": 4,
     "metadata": {},
     "output_type": "execute_result"
    }
   ],
   "source": [
    "# 加载学生信息表\n",
    "students_info = np.loadtxt('data/学生信息表.txt', delimiter=',', dtype='str')\n",
    "print('行列数：', students_info.shape)\n",
    "students_info[:5]"
   ]
  },
  {
   "cell_type": "code",
   "execution_count": 5,
   "metadata": {},
   "outputs": [
    {
     "name": "stdout",
     "output_type": "stream",
     "text": [
      "行列数： (96, 2)\n"
     ]
    },
    {
     "data": {
      "text/plain": [
       "array([['院系编号', '院系名称'],\n",
       "       ['01', '计算机学院'],\n",
       "       ['01', '计算机学院'],\n",
       "       ['01', '计算机学院'],\n",
       "       ['01', '计算机学院']], dtype='<U8')"
      ]
     },
     "execution_count": 5,
     "metadata": {},
     "output_type": "execute_result"
    }
   ],
   "source": [
    "# 加载院系信息表\n",
    "departments_info = np.loadtxt('data/院系信息表.txt', delimiter=',', dtype='str', encoding='gbk')\n",
    "print('行列数：', departments_info.shape)\n",
    "departments_info[:5]"
   ]
  },
  {
   "cell_type": "code",
   "execution_count": 6,
   "metadata": {},
   "outputs": [
    {
     "name": "stdout",
     "output_type": "stream",
     "text": [
      "行列数： (128, 5)\n"
     ]
    },
    {
     "data": {
      "text/plain": [
       "array([['学号', '姓名', '性别', '所属班级编号', '入学成绩'],\n",
       "       ['170401011001 ', '施礼义', '男', '0101', '467'],\n",
       "       ['170401011002 ', '王旭', '男', '0101', '518'],\n",
       "       ['170401011003 ', '肖桢', '女', '0101', '509'],\n",
       "       ['170401011004 ', '吴佩东', '男', '0101', '508']], dtype='<U13')"
      ]
     },
     "execution_count": 6,
     "metadata": {},
     "output_type": "execute_result"
    }
   ],
   "source": [
    "# 加载学生成绩表\n",
    "students_scores = np.loadtxt('data/学生成绩表.txt', delimiter=',', dtype=str, encoding='gbk')\n",
    "print('行列数：', students_scores.shape)\n",
    "students_scores[:5]"
   ]
  },
  {
   "cell_type": "markdown",
   "metadata": {},
   "source": [
    "2. 去除院系信息表和学生信息表中的重复行，去重后的数据分别保存为\"院系信息表-1.csv\"和\"学生信息表-1.csv\"文件"
   ]
  },
  {
   "cell_type": "code",
   "execution_count": 7,
   "metadata": {},
   "outputs": [
    {
     "data": {
      "text/plain": [
       "array([['院系编号', '院系名称'],\n",
       "       ['01', '计算机学院'],\n",
       "       ['02', '经济管理学院'],\n",
       "       ['03', '软件与微电子学院'],\n",
       "       ['04', '信息科学技术学院']], dtype='<U8')"
      ]
     },
     "execution_count": 7,
     "metadata": {},
     "output_type": "execute_result"
    }
   ],
   "source": [
    "departments_info = np.vstack((departments_info[0], np.unique(departments_info[1:], axis=0)))\n",
    "departments_info"
   ]
  },
  {
   "cell_type": "markdown",
   "metadata": {},
   "source": [
    "3. 去除学生信息表中存在的空白字符"
   ]
  },
  {
   "cell_type": "code",
   "execution_count": 8,
   "metadata": {},
   "outputs": [
    {
     "data": {
      "text/plain": [
       "array([['学号', '姓名', '性别', '所属班级编号', '入学成绩'],\n",
       "       ['170401011001', '施礼义', '男', '0101', '467'],\n",
       "       ['170401011002', '王旭', '男', '0101', '518'],\n",
       "       ['170401011003', '肖桢', '女', '0101', '509'],\n",
       "       ['170401011004', '吴佩东', '男', '0101', '508']], dtype='<U13')"
      ]
     },
     "execution_count": 8,
     "metadata": {},
     "output_type": "execute_result"
    }
   ],
   "source": [
    "students_scores = np.char.strip(students_scores)\n",
    "students_scores[:5]"
   ]
  },
  {
   "cell_type": "code",
   "execution_count": 9,
   "metadata": {},
   "outputs": [
    {
     "name": "stdout",
     "output_type": "stream",
     "text": [
      "院系编号,院系名称\n",
      "\n",
      "01,计算机学院\n",
      "\n",
      "02,经济管理学院\n",
      "\n",
      "03,软件与微电子学院\n",
      "\n",
      "04,信息科学技术学院\n"
     ]
    }
   ],
   "source": [
    "np.savetxt('院系信息表-1.csv', departments_info, fmt='%s', delimiter=',')\n",
    "!cat 院系信息表-1.csv"
   ]
  },
  {
   "cell_type": "markdown",
   "metadata": {},
   "source": [
    "#### 第2题（难易程度：* ）\n",
    "\n",
    "1. 将学生成绩表按列划分为两个表，分别为**学生基本信息表**（学号，姓名，性别，所属班级编号）和**学号成绩表**（学号，入学成绩），分别保存为\"学生基本信息表-2.csv\"和\"学号成绩表-2.csv\""
   ]
  },
  {
   "cell_type": "code",
   "execution_count": 10,
   "metadata": {},
   "outputs": [
    {
     "name": "stdout",
     "output_type": "stream",
     "text": [
      "学号,姓名,性别,所属班级编号\n",
      "\n",
      "170401011001,施礼义,男,0101\n",
      "\n",
      "170401011002,王旭,男,0101\n",
      "\n",
      "170401011003,肖桢,女,0101\n",
      "\n",
      "170401011004,吴佩东,男,0101\n",
      "\n",
      "170401011005,魏会,男,0101\n",
      "\n",
      "170401011006,曾美,女,0101\n",
      "\n",
      "170401011007,邵亚,女,0101\n",
      "\n",
      "170401011008,朱燕菊,女,0101\n",
      "\n",
      "170401011009,杨明书,男,0101\n"
     ]
    }
   ],
   "source": [
    "# 学生基本信息表\n",
    "students_basic_info = students_scores[:, 0:4]\n",
    "np.savetxt('学生基本信息表-3.csv', students_basic_info, fmt='%s', delimiter=',')\n",
    "!cat 学生基本信息表-3.csv | head -n 10"
   ]
  },
  {
   "cell_type": "code",
   "execution_count": 11,
   "metadata": {},
   "outputs": [
    {
     "name": "stdout",
     "output_type": "stream",
     "text": [
      "学号,入学成绩\n",
      "\n",
      "170401011001,467\n",
      "\n",
      "170401011002,518\n",
      "\n",
      "170401011003,509\n",
      "\n",
      "170401011004,508\n",
      "\n",
      "170401011005,494\n",
      "\n",
      "170401011006,500\n",
      "\n",
      "170401011007,490\n",
      "\n",
      "170401011008,466\n",
      "\n",
      "170401011009,534\n"
     ]
    }
   ],
   "source": [
    "# 学号成绩表\n",
    "id_scores = students_scores[:, [0, 4]]\n",
    "np.savetxt('学号成绩表-3.csv', id_scores, fmt='%s', delimiter=',')\n",
    "!cat 学号成绩表-3.csv | head -n 10"
   ]
  },
  {
   "cell_type": "markdown",
   "metadata": {},
   "source": [
    "2. 将学生信息表拆分为两个表，分别为学生基本信息表2（学号，姓名，性别，所属班级编号）和入学日期表（学号，入学日期），分别保存为\"学生基本信息表-2-2.csv\"和\"入学日期表-2.csv\""
   ]
  },
  {
   "cell_type": "code",
   "execution_count": 12,
   "metadata": {},
   "outputs": [
    {
     "name": "stdout",
     "output_type": "stream",
     "text": [
      "学号,姓名,性别,所属班级编号\n",
      "\n",
      "170401011001,施礼义,男,0101\n",
      "\n",
      "170401011002,王旭,男,0101\n",
      "\n",
      "170401011003,肖桢,女,0101\n",
      "\n",
      "170401011004,吴佩东,男,0101\n",
      "\n",
      "170401011005,魏会,男,0101\n",
      "\n",
      "170401011006,曾美,女,0101\n",
      "\n",
      "170401011007,邵亚,女,0101\n",
      "\n",
      "170401011008,朱燕菊,女,0101\n",
      "\n",
      "170401011009,杨明书,男,0101\n"
     ]
    }
   ],
   "source": [
    "# 学生基本信息表2\n",
    "students_basic_info2 = students_info[:, 0:4]\n",
    "np.savetxt('学生基本信息表-2-2.csv', students_basic_info2, fmt='%s', delimiter=',')\n",
    "!cat 学生基本信息表-2-2.csv | head -n 10"
   ]
  },
  {
   "cell_type": "code",
   "execution_count": 13,
   "metadata": {},
   "outputs": [
    {
     "name": "stdout",
     "output_type": "stream",
     "text": [
      "学号,入学日期\n",
      "\n",
      "170401011001,20170901\n",
      "\n",
      "170401011002,20170901\n",
      "\n",
      "170401011003,20170901\n",
      "\n",
      "170401011004,20170901\n",
      "\n",
      "170401011005,20170901\n",
      "\n",
      "170401011006,20170901\n",
      "\n",
      "170401011007,20170901\n",
      "\n",
      "170401011008,20170901\n",
      "\n",
      "170401011009,20170901\n"
     ]
    }
   ],
   "source": [
    "# 入学日期表\n",
    "id_dates = students_info[:, [0, 4]]\n",
    "np.savetxt('入学日期表-2.csv', id_dates, fmt='%s', delimiter=',')\n",
    "!cat 入学日期表-2.csv | head -n 10"
   ]
  },
  {
   "cell_type": "markdown",
   "metadata": {},
   "source": [
    "3. 将**学生基本信息表**，**入学日期表**和**学号成绩表**合并为**学生入学成绩表**，忽略没有对应成绩的行，并保存为\"学生入学成绩表-2.csv\""
   ]
  },
  {
   "cell_type": "code",
   "execution_count": 14,
   "metadata": {},
   "outputs": [
    {
     "data": {
      "text/plain": [
       "(128, 761, 128)"
      ]
     },
     "execution_count": 14,
     "metadata": {},
     "output_type": "execute_result"
    }
   ],
   "source": [
    "# 查看这些表的行数\n",
    "len(students_basic_info), len(id_dates), len(id_scores)"
   ]
  },
  {
   "cell_type": "code",
   "execution_count": 15,
   "metadata": {},
   "outputs": [
    {
     "data": {
      "text/plain": [
       "(True, True)"
      ]
     },
     "execution_count": 15,
     "metadata": {},
     "output_type": "execute_result"
    }
   ],
   "source": [
    "# 确保学号匹配\n",
    "# 这里使用数据本身的特点（三个表前128行的学号正好一一对应），可以考虑使用更为通用的方案，实现像pandas的连接操作\n",
    "np.all(students_basic_info[:, 0] == id_dates[:128, 0]), np.all(id_dates[:128, 0] == id_scores[:, 0])"
   ]
  },
  {
   "cell_type": "code",
   "execution_count": 16,
   "metadata": {},
   "outputs": [
    {
     "name": "stdout",
     "output_type": "stream",
     "text": [
      "学号,姓名,性别,所属班级编号,入学日期,入学成绩\n",
      "\n",
      "170401011001,施礼义,男,0101,20170901,467\n",
      "\n",
      "170401011002,王旭,男,0101,20170901,518\n",
      "\n",
      "170401011003,肖桢,女,0101,20170901,509\n",
      "\n",
      "170401011004,吴佩东,男,0101,20170901,508\n",
      "\n",
      "170401011005,魏会,男,0101,20170901,494\n",
      "\n",
      "170401011006,曾美,女,0101,20170901,500\n",
      "\n",
      "170401011007,邵亚,女,0101,20170901,490\n",
      "\n",
      "170401011008,朱燕菊,女,0101,20170901,466\n",
      "\n",
      "170401011009,杨明书,男,0101,20170901,534\n"
     ]
    }
   ],
   "source": [
    "student_enrol_scores = np.concatenate((students_basic_info, id_dates[:128, [1]], id_scores[:, [1]]), axis=1)\n",
    "np.savetxt('学生入学成绩表-2.csv', student_enrol_scores, fmt='%s', delimiter=',')\n",
    "!cat 学生入学成绩表-2.csv | head -n 10"
   ]
  },
  {
   "cell_type": "markdown",
   "metadata": {},
   "source": [
    "#### 第3题（难易程度：* ）\n",
    "\n",
    "统计**学生信息表**中的男女生比例，绘制爆裂式饼图，标题为\"2017年入学男女生比例\"，并显示男女生的百分比。图表保存为\"2017年入学男女生比例.png\"文件"
   ]
  },
  {
   "cell_type": "code",
   "execution_count": 32,
   "metadata": {},
   "outputs": [
    {
     "data": {
      "image/png": "[encoded data removed]",
      "text/plain": [
       "<Figure size 576x576 with 1 Axes>"
      ]
     },
     "metadata": {},
     "output_type": "display_data"
    }
   ],
   "source": [
    "# 操作代码\n",
    "sexes = students_info[:, 2]\n",
    "male_count = len(sexes[sexes=='男'])\n",
    "female_count = len(sexes[sexes=='女'])\n",
    "\n",
    "labels = ['Male', 'Female']\n",
    "data = [males_count, female_count]\n",
    "\n",
    "plt.figure(figsize=(8, 8))\n",
    "plt.rc('font', size=16)\n",
    "\n",
    "plt.pie(data, explode=[0.1, 0], labels=labels, autopct='%3.1f%%', startangle=90, shadow=True)\n",
    "\n",
    "plt.title('2017 Enrollment: Males vs. Females')\n",
    "plt.savefig('2017年入学男女生比例.png')\n",
    "\n",
    "plt.show()"
   ]
  },
  {
   "cell_type": "markdown",
   "metadata": {},
   "source": [
    "#### 第4题 （难易程度：**）\n",
    "\n",
    "统计**学生信息表中**不同班级的男生人数和女生人数，并绘制堆叠式柱状图，男生显示为绿色，女生显示为红色。横坐标为班级编号，纵坐标为男女生人数。图表保存为\"班级男女生人数对比.png\""
   ]
  },
  {
   "cell_type": "code",
   "execution_count": 47,
   "metadata": {},
   "outputs": [
    {
     "data": {
      "text/plain": [
       "((58,), (58,))"
      ]
     },
     "execution_count": 47,
     "metadata": {},
     "output_type": "execute_result"
    }
   ],
   "source": [
    "# 操作代码\n",
    "males = students_info[:,2]=='男'\n",
    "mclasses = students_info[males][:, 3]\n",
    "mclass_ids, mcounts = np.unique(classes, return_counts=True)\n",
    "mclass_ids, mcounts\n",
    "# 若能显示中文，采用班级名称作为下标\n",
    "mclass_ids.shape,classes_info[1:,1][mclass_ids.argsort()].shape"
   ]
  },
  {
   "cell_type": "markdown",
   "metadata": {},
   "source": [
    "#### 第5题 （难易程度：**）\n",
    "\n",
    "绘制**学生入学成绩表**入学成绩的箱线图，在图表中以注解的形式显示中位数，最大值、最小值和异常值（如果有的话）"
   ]
  },
  {
   "cell_type": "code",
   "execution_count": null,
   "metadata": {},
   "outputs": [],
   "source": [
    "# 操作代码\n"
   ]
  },
  {
   "cell_type": "markdown",
   "metadata": {},
   "source": [
    "#### 第6题 （难易程度：**）\n",
    "\n",
    "**学生信息表**中的学号存在大量重复，请将这些重复学号的中间4位替换为相应的班级编号。替换后的学生信息表保存为\"学生信息表-6.csv\""
   ]
  },
  {
   "cell_type": "code",
   "execution_count": null,
   "metadata": {},
   "outputs": [],
   "source": [
    "# 操作代码\n"
   ]
  },
  {
   "cell_type": "markdown",
   "metadata": {},
   "source": [
    "#### 第7题  （难易程度：**）\n",
    "\n",
    "结合**班级信息表**和**学生信息表**，统计不同院系的入学人数，并绘制条形图，其中横坐标为入学人数，纵坐标为院系名称，标题为“院系入学人数”。图表保存为“2017院系入学人数-7.csv\"文件。"
   ]
  },
  {
   "cell_type": "code",
   "execution_count": null,
   "metadata": {},
   "outputs": [],
   "source": [
    "# 操作代码\n"
   ]
  },
  {
   "cell_type": "markdown",
   "metadata": {},
   "source": [
    "#### 第8题 （难易程度：**）\n",
    "\n",
    "结合**班级信息表**和**学生入学成绩表**统计**不同院系**的入学平均成绩和男女生比例，并分别绘制柱状图和饼图"
   ]
  },
  {
   "cell_type": "code",
   "execution_count": null,
   "metadata": {},
   "outputs": [],
   "source": [
    "# 操作代码\n"
   ]
  },
  {
   "cell_type": "markdown",
   "metadata": {},
   "source": [
    "#### 第9题 （难易程度：** ）\n",
    "\n",
    "将**学生信息表**和**学生成绩表**合并为一张新表，**保留**没有对应成绩的行，合并后缺失的成绩通过**随机选取**的方式从前面具有成绩的行中选取并填充缺失值。新表保存为\"学生成绩表-9.csv\"。"
   ]
  },
  {
   "cell_type": "code",
   "execution_count": null,
   "metadata": {},
   "outputs": [],
   "source": [
    "# 操作代码\n"
   ]
  },
  {
   "cell_type": "markdown",
   "metadata": {},
   "source": [
    "#### 第10题 （难易程度：**）\n",
    "\n",
    "在第9题操作的基础上：\n",
    "\n",
    "1. 计算**新表**中学生成绩的均值，方差、标准差和中位数\n",
    "2. 绘制**新表**和**学生入学成绩表**入学成绩的箱线图，比较二者成绩分布的差异，以了解上述成绩填充的方式是否合理。图表标题为\"成绩分布对比\"，保存为\"成绩分布对比-10.csv\"。"
   ]
  },
  {
   "cell_type": "code",
   "execution_count": null,
   "metadata": {},
   "outputs": [],
   "source": [
    "# 操作代码\n"
   ]
  },
  {
   "cell_type": "markdown",
   "metadata": {},
   "source": [
    "#### 第11题 （难易程度：**）\n",
    "\n",
    "在第9题操作的基础上：\n",
    "\n",
    "1. 输出**新表**入学成绩最高和最低的学生姓名、所属班级和院系名称。注：若存在多个，则全部输出\n",
    "2. 输出**新表**全体学生中，男生成绩最高和最低的学生姓名、所属班级和院系名称。注：若存在多个，则全部输出"
   ]
  },
  {
   "cell_type": "code",
   "execution_count": null,
   "metadata": {},
   "outputs": [],
   "source": [
    "# 操作代码\n"
   ]
  },
  {
   "cell_type": "markdown",
   "metadata": {},
   "source": [
    "#### 第12题 （难易程度：***）\n",
    "\n",
    "在第9题操作的基础上：\n",
    "\n",
    "1. 将**新表**按照院系拆分4个表，分别保存为形如\"<院系名称>入学成绩表-12.csv\"的文件\n",
    "2. 按入学成绩的中位数将**新表**拆分为两个表，分别保存为\"学生成绩表-高于中等-12.csv\"和\"学生成绩表-低于中等-12.csv\"文件\n",
    "3. 按入学成绩的均值将**新表**拆分为两个表，分别保存为\"学生成绩表-高于平均-12.csv\"和\"学生成绩表-低于平均-12.csv\"文件"
   ]
  },
  {
   "cell_type": "code",
   "execution_count": null,
   "metadata": {},
   "outputs": [],
   "source": [
    "# 操作代码\n"
   ]
  }
 ],
 "metadata": {
  "kernelspec": {
   "display_name": "Python 3",
   "language": "python",
   "name": "python3"
  },
  "language_info": {
   "codemirror_mode": {
    "name": "ipython",
    "version": 3
   },
   "file_extension": ".py",
   "mimetype": "text/x-python",
   "name": "python",
   "nbconvert_exporter": "python",
   "pygments_lexer": "ipython3",
   "version": "3.7.6"
  },
  "toc": {
   "base_numbering": 1,
   "nav_menu": {},
   "number_sections": false,
   "sideBar": true,
   "skip_h1_title": false,
   "title_cell": "Table of Contents",
   "title_sidebar": "Contents",
   "toc_cell": false,
   "toc_position": {
    "height": "calc(100% - 180px)",
    "left": "10px",
    "top": "150px",
    "width": "166.179px"
   },
   "toc_section_display": true,
   "toc_window_display": true
  }
 },
 "nbformat": 4,
 "nbformat_minor": 4
}
