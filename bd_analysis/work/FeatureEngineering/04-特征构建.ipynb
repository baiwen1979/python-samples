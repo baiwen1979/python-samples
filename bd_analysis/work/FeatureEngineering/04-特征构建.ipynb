{
 "cells": [
  {
   "cell_type": "markdown",
   "metadata": {},
   "source": [
    "# 特征构建：生成新特征\n",
    "\n",
    "本章内容：\n",
    "\n",
    "- 检查数据集\n",
    "- 填充分类特征\n",
    "- 编码分类变量\n",
    "- 扩展数值特征\n",
    "- 针对文本的特征构建\n",
    "\n",
    "## 4.1 检查数据集\n",
    "\n",
    "为了展示不同的数据等级和类型，首先创建一个自己的数据集："
   ]
  },
  {
   "cell_type": "code",
   "execution_count": 3,
   "metadata": {},
   "outputs": [
    {
     "data": {
      "text/html": [
       "<div>\n",
       "<style scoped>\n",
       "    .dataframe tbody tr th:only-of-type {\n",
       "        vertical-align: middle;\n",
       "    }\n",
       "\n",
       "    .dataframe tbody tr th {\n",
       "        vertical-align: top;\n",
       "    }\n",
       "\n",
       "    .dataframe thead th {\n",
       "        text-align: right;\n",
       "    }\n",
       "</style>\n",
       "<table border=\"1\" class=\"dataframe\">\n",
       "  <thead>\n",
       "    <tr style=\"text-align: right;\">\n",
       "      <th></th>\n",
       "      <th>城市</th>\n",
       "      <th>是否宜居</th>\n",
       "      <th>欢迎程度</th>\n",
       "      <th>年人均收入（万元）</th>\n",
       "    </tr>\n",
       "  </thead>\n",
       "  <tbody>\n",
       "    <tr>\n",
       "      <th>0</th>\n",
       "      <td>太原</td>\n",
       "      <td>是</td>\n",
       "      <td>有点喜欢</td>\n",
       "      <td>6.25</td>\n",
       "    </tr>\n",
       "    <tr>\n",
       "      <th>1</th>\n",
       "      <td>None</td>\n",
       "      <td>否</td>\n",
       "      <td>喜欢</td>\n",
       "      <td>NaN</td>\n",
       "    </tr>\n",
       "    <tr>\n",
       "      <th>2</th>\n",
       "      <td>上海</td>\n",
       "      <td>否</td>\n",
       "      <td>有点喜欢</td>\n",
       "      <td>4.86</td>\n",
       "    </tr>\n",
       "    <tr>\n",
       "      <th>3</th>\n",
       "      <td>太原</td>\n",
       "      <td>None</td>\n",
       "      <td>喜欢</td>\n",
       "      <td>8.24</td>\n",
       "    </tr>\n",
       "    <tr>\n",
       "      <th>4</th>\n",
       "      <td>深圳</td>\n",
       "      <td>否</td>\n",
       "      <td>有点喜欢</td>\n",
       "      <td>5.20</td>\n",
       "    </tr>\n",
       "    <tr>\n",
       "      <th>5</th>\n",
       "      <td>西安</td>\n",
       "      <td>是</td>\n",
       "      <td>不喜欢</td>\n",
       "      <td>7.20</td>\n",
       "    </tr>\n",
       "  </tbody>\n",
       "</table>\n",
       "</div>"
      ],
      "text/plain": [
       "     城市  是否宜居  欢迎程度  年人均收入（万元）\n",
       "0    太原     是  有点喜欢       6.25\n",
       "1  None     否    喜欢        NaN\n",
       "2    上海     否  有点喜欢       4.86\n",
       "3    太原  None    喜欢       8.24\n",
       "4    深圳     否  有点喜欢       5.20\n",
       "5    西安     是   不喜欢       7.20"
      ]
     },
     "execution_count": 3,
     "metadata": {},
     "output_type": "execute_result"
    }
   ],
   "source": [
    "import pandas as pd\n",
    "\n",
    "X = pd.DataFrame({\n",
    "    '城市': ['太原', None, '上海', '太原', '深圳', '西安'],\n",
    "    '是否宜居': ['是', '否',  '否', None, '否', '是'],\n",
    "    '欢迎程度': ['有点喜欢', '喜欢', '有点喜欢', '喜欢', '有点喜欢', '不喜欢'],\n",
    "    '年人均收入（万元）': [6.25, None, 4.86, 8.24, 5.20, 7.20]\n",
    "})\n",
    "X"
   ]
  },
  {
   "cell_type": "markdown",
   "metadata": {},
   "source": [
    "观察每一列，并识别每列的类型和等级：\n",
    "\n",
    "- 城市：此列是分类数据，也是定类等级\n",
    "- 是否省会：此列是二元分类数据（是/否），定类等级\n",
    "- 评价：此列是顺序数据，定序等级\n",
    "- 年人均收入（万元）：此列是数值，定比等级"
   ]
  },
  {
   "cell_type": "markdown",
   "metadata": {},
   "source": [
    "## 4.2 填充分类特征\n",
    "\n",
    "对要处理的数据有了一定的理解后，现在可以看看缺失值："
   ]
  },
  {
   "cell_type": "code",
   "execution_count": 9,
   "metadata": {},
   "outputs": [
    {
     "data": {
      "text/plain": [
       "城市           1\n",
       "是否宜居         1\n",
       "欢迎程度         0\n",
       "年人均收入（万元）    1\n",
       "dtype: int64"
      ]
     },
     "execution_count": 9,
     "metadata": {},
     "output_type": "execute_result"
    }
   ],
   "source": [
    "X.isnull().sum()"
   ]
  },
  {
   "cell_type": "markdown",
   "metadata": {},
   "source": [
    "可见，有3列存在缺失值。接下来当然要填充这些值。\n",
    "\n",
    "上一章使用了scikit-learn中Impute模块的估算器（Imputer）填充缺失值，但主要用于填充数值数据。虽然这些Imputer有一个most_frequent方法可以用在**定性数据**上，但是只能处理**整型的分类数据**。通常不这样做，因为这种转换会改变对分类数据的解释方式。因此需要编写自己的转换器填充每列的缺失值。\n",
    "\n",
    "本章将创建自定义转换器，这些转换器对转换数据帮助很大，而且可以实现Pandas和scikit-learn不支持的操作。\n",
    "\n",
    "先从定性列“城市”开始。对于数值数据，可以通过计算均值的方法填充缺失值；而对于分类数据，也有类似的处理方法：计算出最常见的类别用于填充。为此，需要找出\"城市\"列中最常见的类别："
   ]
  },
  {
   "cell_type": "code",
   "execution_count": 10,
   "metadata": {},
   "outputs": [
    {
     "data": {
      "text/plain": [
       "'太原'"
      ]
     },
     "execution_count": 10,
     "metadata": {},
     "output_type": "execute_result"
    }
   ],
   "source": [
    "X['城市'].value_counts().index[0]"
   ]
  },
  {
   "cell_type": "markdown",
   "metadata": {},
   "source": [
    "使用出现最频繁的类别填充缺失值："
   ]
  },
  {
   "cell_type": "code",
   "execution_count": 11,
   "metadata": {},
   "outputs": [
    {
     "data": {
      "text/plain": [
       "0    太原\n",
       "1    太原\n",
       "2    上海\n",
       "3    太原\n",
       "4    深圳\n",
       "5    西安\n",
       "Name: 城市, dtype: object"
      ]
     },
     "execution_count": 11,
     "metadata": {},
     "output_type": "execute_result"
    }
   ],
   "source": [
    "X['城市'].fillna(X['城市'].value_counts().index[0])"
   ]
  },
  {
   "cell_type": "markdown",
   "metadata": {},
   "source": [
    "现在“城市”列没有缺失值。对于“是否宜居”列，这里不再使用同样的方法，而是构建一个自定义填充器，用来处理分类数据的填充。\n",
    "\n",
    "### 自定义填充器\n",
    "\n",
    "在写代码之前，快速回顾一下机器学习流水线：\n",
    "\n",
    "- 用流水线按顺序应用转换和最终的预测器\n",
    "- 流水线的中间步骤只能是转换，这意味着它们必须实现fit和transform方法\n",
    "- 最终的预测器只需要实现fit方法\n",
    "\n",
    "流水线的目的是将几个可以交叉验证的步骤组装在一起，并设置不同的参数。在为每个需要填充的列构建好自定义转换器后，就可以把它们传入流水线，一口气转换好数据。\n",
    "\n",
    "下面开始编写第一个自定义分类填充器："
   ]
  },
  {
   "cell_type": "code",
   "execution_count": 13,
   "metadata": {},
   "outputs": [],
   "source": [
    "from sklearn.base import TransformerMixin\n",
    "\n",
    "class CustomCategoryImputer(TransformerMixin):\n",
    "    def __init__(self, cols=None):\n",
    "        self.cols = cols\n",
    "    def transform(self, df):\n",
    "        X = df.copy()\n",
    "        for col in self.cols:\n",
    "            X[col].fillna(X[col].value_counts().index[0], inplace=True)\n",
    "        return X\n",
    "    \n",
    "    def fit(self, *_):\n",
    "        return self"
   ]
  },
  {
   "cell_type": "markdown",
   "metadata": {},
   "source": [
    "有了自定义分类填充器，先用其在“城市”和“是否宜居”两列上适用一下："
   ]
  },
  {
   "cell_type": "code",
   "execution_count": 21,
   "metadata": {},
   "outputs": [
    {
     "data": {
      "text/html": [
       "<div>\n",
       "<style scoped>\n",
       "    .dataframe tbody tr th:only-of-type {\n",
       "        vertical-align: middle;\n",
       "    }\n",
       "\n",
       "    .dataframe tbody tr th {\n",
       "        vertical-align: top;\n",
       "    }\n",
       "\n",
       "    .dataframe thead th {\n",
       "        text-align: right;\n",
       "    }\n",
       "</style>\n",
       "<table border=\"1\" class=\"dataframe\">\n",
       "  <thead>\n",
       "    <tr style=\"text-align: right;\">\n",
       "      <th></th>\n",
       "      <th>城市</th>\n",
       "      <th>是否宜居</th>\n",
       "      <th>欢迎程度</th>\n",
       "      <th>年人均收入（万元）</th>\n",
       "    </tr>\n",
       "  </thead>\n",
       "  <tbody>\n",
       "    <tr>\n",
       "      <th>0</th>\n",
       "      <td>太原</td>\n",
       "      <td>是</td>\n",
       "      <td>有点喜欢</td>\n",
       "      <td>6.25</td>\n",
       "    </tr>\n",
       "    <tr>\n",
       "      <th>1</th>\n",
       "      <td>太原</td>\n",
       "      <td>否</td>\n",
       "      <td>喜欢</td>\n",
       "      <td>NaN</td>\n",
       "    </tr>\n",
       "    <tr>\n",
       "      <th>2</th>\n",
       "      <td>上海</td>\n",
       "      <td>否</td>\n",
       "      <td>有点喜欢</td>\n",
       "      <td>4.86</td>\n",
       "    </tr>\n",
       "    <tr>\n",
       "      <th>3</th>\n",
       "      <td>太原</td>\n",
       "      <td>否</td>\n",
       "      <td>喜欢</td>\n",
       "      <td>8.24</td>\n",
       "    </tr>\n",
       "    <tr>\n",
       "      <th>4</th>\n",
       "      <td>深圳</td>\n",
       "      <td>否</td>\n",
       "      <td>有点喜欢</td>\n",
       "      <td>5.20</td>\n",
       "    </tr>\n",
       "    <tr>\n",
       "      <th>5</th>\n",
       "      <td>西安</td>\n",
       "      <td>是</td>\n",
       "      <td>不喜欢</td>\n",
       "      <td>7.20</td>\n",
       "    </tr>\n",
       "  </tbody>\n",
       "</table>\n",
       "</div>"
      ],
      "text/plain": [
       "   城市 是否宜居  欢迎程度  年人均收入（万元）\n",
       "0  太原    是  有点喜欢       6.25\n",
       "1  太原    否    喜欢        NaN\n",
       "2  上海    否  有点喜欢       4.86\n",
       "3  太原    否    喜欢       8.24\n",
       "4  深圳    否  有点喜欢       5.20\n",
       "5  西安    是   不喜欢       7.20"
      ]
     },
     "execution_count": 21,
     "metadata": {},
     "output_type": "execute_result"
    }
   ],
   "source": [
    "cci = CustomCategoryImputer(cols=['城市', '是否宜居'])\n",
    "cci.fit_transform(X)"
   ]
  },
  {
   "cell_type": "markdown",
   "metadata": {},
   "source": [
    "现在“城市”和“是否宜居”列都没有缺失值。还差定量列“年人均收入”还有缺失值。如法炮制，再编写一个基于列名的自定义定量填充器："
   ]
  },
  {
   "cell_type": "code",
   "execution_count": 18,
   "metadata": {},
   "outputs": [],
   "source": [
    "from sklearn.impute import SimpleImputer\n",
    "from sklearn.base import TransformerMixin\n",
    "\n",
    "class CustomquantitativeImputer(TransformerMixin):\n",
    "    def __init__(self, cols=None, strategy='mean'):\n",
    "        self.cols = cols\n",
    "        self.strategy = strategy\n",
    "        \n",
    "    def transform(self, df):\n",
    "        X = df.copy()\n",
    "        imputer = SimpleImputer(strategy=self.strategy)\n",
    "        for col in self.cols:\n",
    "            X[col] = imputer.fit_transform(X[[col]])\n",
    "        return X\n",
    "    \n",
    "    def fit(self, *_):\n",
    "        return self\n"
   ]
  },
  {
   "cell_type": "markdown",
   "metadata": {},
   "source": [
    "测试一下："
   ]
  },
  {
   "cell_type": "code",
   "execution_count": 22,
   "metadata": {},
   "outputs": [
    {
     "data": {
      "text/html": [
       "<div>\n",
       "<style scoped>\n",
       "    .dataframe tbody tr th:only-of-type {\n",
       "        vertical-align: middle;\n",
       "    }\n",
       "\n",
       "    .dataframe tbody tr th {\n",
       "        vertical-align: top;\n",
       "    }\n",
       "\n",
       "    .dataframe thead th {\n",
       "        text-align: right;\n",
       "    }\n",
       "</style>\n",
       "<table border=\"1\" class=\"dataframe\">\n",
       "  <thead>\n",
       "    <tr style=\"text-align: right;\">\n",
       "      <th></th>\n",
       "      <th>城市</th>\n",
       "      <th>是否宜居</th>\n",
       "      <th>欢迎程度</th>\n",
       "      <th>年人均收入（万元）</th>\n",
       "    </tr>\n",
       "  </thead>\n",
       "  <tbody>\n",
       "    <tr>\n",
       "      <th>0</th>\n",
       "      <td>太原</td>\n",
       "      <td>是</td>\n",
       "      <td>有点喜欢</td>\n",
       "      <td>6.25</td>\n",
       "    </tr>\n",
       "    <tr>\n",
       "      <th>1</th>\n",
       "      <td>太原</td>\n",
       "      <td>否</td>\n",
       "      <td>喜欢</td>\n",
       "      <td>6.35</td>\n",
       "    </tr>\n",
       "    <tr>\n",
       "      <th>2</th>\n",
       "      <td>上海</td>\n",
       "      <td>否</td>\n",
       "      <td>有点喜欢</td>\n",
       "      <td>4.86</td>\n",
       "    </tr>\n",
       "    <tr>\n",
       "      <th>3</th>\n",
       "      <td>太原</td>\n",
       "      <td>否</td>\n",
       "      <td>喜欢</td>\n",
       "      <td>8.24</td>\n",
       "    </tr>\n",
       "    <tr>\n",
       "      <th>4</th>\n",
       "      <td>深圳</td>\n",
       "      <td>否</td>\n",
       "      <td>有点喜欢</td>\n",
       "      <td>5.20</td>\n",
       "    </tr>\n",
       "    <tr>\n",
       "      <th>5</th>\n",
       "      <td>西安</td>\n",
       "      <td>是</td>\n",
       "      <td>不喜欢</td>\n",
       "      <td>7.20</td>\n",
       "    </tr>\n",
       "  </tbody>\n",
       "</table>\n",
       "</div>"
      ],
      "text/plain": [
       "   城市 是否宜居  欢迎程度  年人均收入（万元）\n",
       "0  太原    是  有点喜欢       6.25\n",
       "1  太原    否    喜欢       6.35\n",
       "2  上海    否  有点喜欢       4.86\n",
       "3  太原    否    喜欢       8.24\n",
       "4  深圳    否  有点喜欢       5.20\n",
       "5  西安    是   不喜欢       7.20"
      ]
     },
     "execution_count": 22,
     "metadata": {},
     "output_type": "execute_result"
    }
   ],
   "source": [
    "cqi = CustomquantitativeImputer(cols=['年人均收入（万元）'])\n",
    "cqi.fit_transform(X)"
   ]
  },
  {
   "cell_type": "markdown",
   "metadata": {},
   "source": [
    "现在，没有缺失值了，定性列和定量列都进行了合理的填充。那么，如何让机器学习算法利用分类数据呢？"
   ]
  },
  {
   "cell_type": "markdown",
   "metadata": {},
   "source": [
    "## 4.3 编码分类变量\n",
    "\n",
    "为了让机器学习算法利用分类数据，需要**将分类数据转换为数值数据**，即**编码**。因为几乎所有机器学习算法，无论是线性回归还是利用欧几里得距离的KNN算法，需要的输入特征都必须是数值.\n",
    "\n",
    "将分类数据转换为数值数据（编码）的方法跟分类变量的等级有关，有以下几种方法：\n",
    "\n",
    "### 定类等级数据的编码\n",
    "\n",
    "对于定类等级，主要方法是将分类数据转换为虚拟（哑）变量（dummy variable）,也称为One-hot编码（独热编码），有两种选择：\n",
    "\n",
    "- 用Pandas自动对分类变量进行编码\n",
    "- 创建自定义虚拟变量编码器，并用于流水线\n",
    "\n",
    "什么是虚拟变量？ 虚拟变量的取值是1或0，代表是否是某个类别。虚拟变量是定性数据的代理，或者是分类的数值型替代。\n",
    "\n",
    "回到数据集中，用第一种选择将分类数据编码成虚拟变量："
   ]
  },
  {
   "cell_type": "code",
   "execution_count": 24,
   "metadata": {},
   "outputs": [
    {
     "data": {
      "text/html": [
       "<div>\n",
       "<style scoped>\n",
       "    .dataframe tbody tr th:only-of-type {\n",
       "        vertical-align: middle;\n",
       "    }\n",
       "\n",
       "    .dataframe tbody tr th {\n",
       "        vertical-align: top;\n",
       "    }\n",
       "\n",
       "    .dataframe thead th {\n",
       "        text-align: right;\n",
       "    }\n",
       "</style>\n",
       "<table border=\"1\" class=\"dataframe\">\n",
       "  <thead>\n",
       "    <tr style=\"text-align: right;\">\n",
       "      <th></th>\n",
       "      <th>欢迎程度</th>\n",
       "      <th>年人均收入（万元）</th>\n",
       "      <th>城市_上海</th>\n",
       "      <th>城市_太原</th>\n",
       "      <th>城市_深圳</th>\n",
       "      <th>城市_西安</th>\n",
       "      <th>是否宜居_否</th>\n",
       "      <th>是否宜居_是</th>\n",
       "    </tr>\n",
       "  </thead>\n",
       "  <tbody>\n",
       "    <tr>\n",
       "      <th>0</th>\n",
       "      <td>有点喜欢</td>\n",
       "      <td>6.25</td>\n",
       "      <td>0</td>\n",
       "      <td>1</td>\n",
       "      <td>0</td>\n",
       "      <td>0</td>\n",
       "      <td>0</td>\n",
       "      <td>1</td>\n",
       "    </tr>\n",
       "    <tr>\n",
       "      <th>1</th>\n",
       "      <td>喜欢</td>\n",
       "      <td>NaN</td>\n",
       "      <td>0</td>\n",
       "      <td>1</td>\n",
       "      <td>0</td>\n",
       "      <td>0</td>\n",
       "      <td>1</td>\n",
       "      <td>0</td>\n",
       "    </tr>\n",
       "    <tr>\n",
       "      <th>2</th>\n",
       "      <td>有点喜欢</td>\n",
       "      <td>4.86</td>\n",
       "      <td>1</td>\n",
       "      <td>0</td>\n",
       "      <td>0</td>\n",
       "      <td>0</td>\n",
       "      <td>1</td>\n",
       "      <td>0</td>\n",
       "    </tr>\n",
       "    <tr>\n",
       "      <th>3</th>\n",
       "      <td>喜欢</td>\n",
       "      <td>8.24</td>\n",
       "      <td>0</td>\n",
       "      <td>1</td>\n",
       "      <td>0</td>\n",
       "      <td>0</td>\n",
       "      <td>1</td>\n",
       "      <td>0</td>\n",
       "    </tr>\n",
       "    <tr>\n",
       "      <th>4</th>\n",
       "      <td>有点喜欢</td>\n",
       "      <td>5.20</td>\n",
       "      <td>0</td>\n",
       "      <td>0</td>\n",
       "      <td>1</td>\n",
       "      <td>0</td>\n",
       "      <td>1</td>\n",
       "      <td>0</td>\n",
       "    </tr>\n",
       "    <tr>\n",
       "      <th>5</th>\n",
       "      <td>不喜欢</td>\n",
       "      <td>7.20</td>\n",
       "      <td>0</td>\n",
       "      <td>0</td>\n",
       "      <td>0</td>\n",
       "      <td>1</td>\n",
       "      <td>0</td>\n",
       "      <td>1</td>\n",
       "    </tr>\n",
       "  </tbody>\n",
       "</table>\n",
       "</div>"
      ],
      "text/plain": [
       "   欢迎程度  年人均收入（万元）  城市_上海  城市_太原  城市_深圳  城市_西安  是否宜居_否  是否宜居_是\n",
       "0  有点喜欢       6.25      0      1      0      0       0       1\n",
       "1    喜欢        NaN      0      1      0      0       1       0\n",
       "2  有点喜欢       4.86      1      0      0      0       1       0\n",
       "3    喜欢       8.24      0      1      0      0       1       0\n",
       "4  有点喜欢       5.20      0      0      1      0       1       0\n",
       "5   不喜欢       7.20      0      0      0      1       0       1"
      ]
     },
     "execution_count": 24,
     "metadata": {},
     "output_type": "execute_result"
    }
   ],
   "source": [
    "pd.get_dummies(X, columns = ['城市', '是否宜居'], prefix_sep='_')"
   ]
  },
  {
   "cell_type": "markdown",
   "metadata": {},
   "source": [
    "这种选择要求必须指定应用虚拟化的列，因为Pandas也会编码定序等级的列，这就没有意义了。\n",
    "\n",
    "另一个选择是创建一个自定义虚拟化器，从而在流水线中一口气转换整个数据集："
   ]
  },
  {
   "cell_type": "code",
   "execution_count": 26,
   "metadata": {},
   "outputs": [],
   "source": [
    "class CustomDummifier(TransformerMixin):\n",
    "    def __init__(self, cols=None):\n",
    "        self.cols = cols\n",
    "        \n",
    "    def transform(self, X):\n",
    "        return pd.get_dummies(X, columns=self.cols)\n",
    "    \n",
    "    def fit(self, *_):\n",
    "        return self"
   ]
  },
  {
   "cell_type": "markdown",
   "metadata": {},
   "source": [
    "我们自定义的虚拟编码器模仿了scikit-learn的OneHotEncoding，但可以在整个DateFrame上运行。测试一下："
   ]
  },
  {
   "cell_type": "code",
   "execution_count": 27,
   "metadata": {},
   "outputs": [
    {
     "data": {
      "text/html": [
       "<div>\n",
       "<style scoped>\n",
       "    .dataframe tbody tr th:only-of-type {\n",
       "        vertical-align: middle;\n",
       "    }\n",
       "\n",
       "    .dataframe tbody tr th {\n",
       "        vertical-align: top;\n",
       "    }\n",
       "\n",
       "    .dataframe thead th {\n",
       "        text-align: right;\n",
       "    }\n",
       "</style>\n",
       "<table border=\"1\" class=\"dataframe\">\n",
       "  <thead>\n",
       "    <tr style=\"text-align: right;\">\n",
       "      <th></th>\n",
       "      <th>欢迎程度</th>\n",
       "      <th>年人均收入（万元）</th>\n",
       "      <th>是否宜居_否</th>\n",
       "      <th>是否宜居_是</th>\n",
       "      <th>城市_上海</th>\n",
       "      <th>城市_太原</th>\n",
       "      <th>城市_深圳</th>\n",
       "      <th>城市_西安</th>\n",
       "    </tr>\n",
       "  </thead>\n",
       "  <tbody>\n",
       "    <tr>\n",
       "      <th>0</th>\n",
       "      <td>有点喜欢</td>\n",
       "      <td>6.25</td>\n",
       "      <td>0</td>\n",
       "      <td>1</td>\n",
       "      <td>0</td>\n",
       "      <td>1</td>\n",
       "      <td>0</td>\n",
       "      <td>0</td>\n",
       "    </tr>\n",
       "    <tr>\n",
       "      <th>1</th>\n",
       "      <td>喜欢</td>\n",
       "      <td>NaN</td>\n",
       "      <td>1</td>\n",
       "      <td>0</td>\n",
       "      <td>0</td>\n",
       "      <td>1</td>\n",
       "      <td>0</td>\n",
       "      <td>0</td>\n",
       "    </tr>\n",
       "    <tr>\n",
       "      <th>2</th>\n",
       "      <td>有点喜欢</td>\n",
       "      <td>4.86</td>\n",
       "      <td>1</td>\n",
       "      <td>0</td>\n",
       "      <td>1</td>\n",
       "      <td>0</td>\n",
       "      <td>0</td>\n",
       "      <td>0</td>\n",
       "    </tr>\n",
       "    <tr>\n",
       "      <th>3</th>\n",
       "      <td>喜欢</td>\n",
       "      <td>8.24</td>\n",
       "      <td>1</td>\n",
       "      <td>0</td>\n",
       "      <td>0</td>\n",
       "      <td>1</td>\n",
       "      <td>0</td>\n",
       "      <td>0</td>\n",
       "    </tr>\n",
       "    <tr>\n",
       "      <th>4</th>\n",
       "      <td>有点喜欢</td>\n",
       "      <td>5.20</td>\n",
       "      <td>1</td>\n",
       "      <td>0</td>\n",
       "      <td>0</td>\n",
       "      <td>0</td>\n",
       "      <td>1</td>\n",
       "      <td>0</td>\n",
       "    </tr>\n",
       "    <tr>\n",
       "      <th>5</th>\n",
       "      <td>不喜欢</td>\n",
       "      <td>7.20</td>\n",
       "      <td>0</td>\n",
       "      <td>1</td>\n",
       "      <td>0</td>\n",
       "      <td>0</td>\n",
       "      <td>0</td>\n",
       "      <td>1</td>\n",
       "    </tr>\n",
       "  </tbody>\n",
       "</table>\n",
       "</div>"
      ],
      "text/plain": [
       "   欢迎程度  年人均收入（万元）  是否宜居_否  是否宜居_是  城市_上海  城市_太原  城市_深圳  城市_西安\n",
       "0  有点喜欢       6.25       0       1      0      1      0      0\n",
       "1    喜欢        NaN       1       0      0      1      0      0\n",
       "2  有点喜欢       4.86       1       0      1      0      0      0\n",
       "3    喜欢       8.24       1       0      0      1      0      0\n",
       "4  有点喜欢       5.20       1       0      0      0      1      0\n",
       "5   不喜欢       7.20       0       1      0      0      0      1"
      ]
     },
     "execution_count": 27,
     "metadata": {},
     "output_type": "execute_result"
    }
   ],
   "source": [
    "cd = CustomDummifier(cols=['是否宜居','城市'])\n",
    "cd.fit_transform(X)"
   ]
  },
  {
   "cell_type": "markdown",
   "metadata": {},
   "source": [
    "### 定序等级数据的编码\n",
    "\n",
    "在定序等级，由于数据的顺序有含义，使用虚拟变量是没有意义的。为了保持顺序，我们使用标签编码器。\n",
    "\n",
    "标签编码器是指，顺序数据的每个标签都会有一个相关数值。这意味着“欢迎程度”列的值（不喜欢、 有点喜欢和喜欢）会用0、1、2来表示。\n",
    "\n",
    "最简单的编码方法如下："
   ]
  },
  {
   "cell_type": "code",
   "execution_count": 28,
   "metadata": {},
   "outputs": [
    {
     "data": {
      "text/plain": [
       "0    1\n",
       "1    2\n",
       "2    1\n",
       "3    2\n",
       "4    1\n",
       "5    0\n",
       "Name: 欢迎程度, dtype: int64"
      ]
     },
     "execution_count": 28,
     "metadata": {},
     "output_type": "execute_result"
    }
   ],
   "source": [
    "ordering = ['不喜欢', '有点喜欢', '喜欢']\n",
    "X['欢迎程度'].map(lambda x: ordering.index(x))"
   ]
  },
  {
   "cell_type": "markdown",
   "metadata": {},
   "source": [
    "注意，这里没有使用scikit-learn的LabelEncoder，因为LabelEncoder不能像上述代码那样按照我们期望的顺序进行编码（0表示“不喜欢”，1表示“有点喜欢”，2表示“喜欢”）。LabelEncoder是用字符串排序的方式确定编码，这不一定符合实际需求。\n",
    "\n",
    "为了能将上述编码方法用于流水线，把上述代码封装为自定义标签编码器："
   ]
  },
  {
   "cell_type": "code",
   "execution_count": 32,
   "metadata": {},
   "outputs": [],
   "source": [
    "class CustomEncoder(TransformerMixin):\n",
    "    def __init__(self, col, ordering=None):\n",
    "        self.ordering = ordering\n",
    "        self.col = col\n",
    "    \n",
    "    def transform(self, df):\n",
    "        X = df.copy()\n",
    "        X[self.col] = X[self.col].map(lambda x: self.ordering.index(x))\n",
    "        return X\n",
    "    \n",
    "    def fit(self, *_):\n",
    "        return self\n"
   ]
  },
  {
   "cell_type": "markdown",
   "metadata": {},
   "source": [
    "测试一下："
   ]
  },
  {
   "cell_type": "code",
   "execution_count": 33,
   "metadata": {},
   "outputs": [
    {
     "data": {
      "text/html": [
       "<div>\n",
       "<style scoped>\n",
       "    .dataframe tbody tr th:only-of-type {\n",
       "        vertical-align: middle;\n",
       "    }\n",
       "\n",
       "    .dataframe tbody tr th {\n",
       "        vertical-align: top;\n",
       "    }\n",
       "\n",
       "    .dataframe thead th {\n",
       "        text-align: right;\n",
       "    }\n",
       "</style>\n",
       "<table border=\"1\" class=\"dataframe\">\n",
       "  <thead>\n",
       "    <tr style=\"text-align: right;\">\n",
       "      <th></th>\n",
       "      <th>城市</th>\n",
       "      <th>是否宜居</th>\n",
       "      <th>欢迎程度</th>\n",
       "      <th>年人均收入（万元）</th>\n",
       "    </tr>\n",
       "  </thead>\n",
       "  <tbody>\n",
       "    <tr>\n",
       "      <th>0</th>\n",
       "      <td>太原</td>\n",
       "      <td>是</td>\n",
       "      <td>1</td>\n",
       "      <td>6.25</td>\n",
       "    </tr>\n",
       "    <tr>\n",
       "      <th>1</th>\n",
       "      <td>太原</td>\n",
       "      <td>否</td>\n",
       "      <td>2</td>\n",
       "      <td>NaN</td>\n",
       "    </tr>\n",
       "    <tr>\n",
       "      <th>2</th>\n",
       "      <td>上海</td>\n",
       "      <td>否</td>\n",
       "      <td>1</td>\n",
       "      <td>4.86</td>\n",
       "    </tr>\n",
       "    <tr>\n",
       "      <th>3</th>\n",
       "      <td>太原</td>\n",
       "      <td>否</td>\n",
       "      <td>2</td>\n",
       "      <td>8.24</td>\n",
       "    </tr>\n",
       "    <tr>\n",
       "      <th>4</th>\n",
       "      <td>深圳</td>\n",
       "      <td>否</td>\n",
       "      <td>1</td>\n",
       "      <td>5.20</td>\n",
       "    </tr>\n",
       "    <tr>\n",
       "      <th>5</th>\n",
       "      <td>西安</td>\n",
       "      <td>是</td>\n",
       "      <td>0</td>\n",
       "      <td>7.20</td>\n",
       "    </tr>\n",
       "  </tbody>\n",
       "</table>\n",
       "</div>"
      ],
      "text/plain": [
       "   城市 是否宜居  欢迎程度  年人均收入（万元）\n",
       "0  太原    是     1       6.25\n",
       "1  太原    否     2        NaN\n",
       "2  上海    否     1       4.86\n",
       "3  太原    否     2       8.24\n",
       "4  深圳    否     1       5.20\n",
       "5  西安    是     0       7.20"
      ]
     },
     "execution_count": 33,
     "metadata": {},
     "output_type": "execute_result"
    }
   ],
   "source": [
    "ce = CustomEncoder(col='欢迎程度', ordering=['不喜欢','有点喜欢','喜欢'])\n",
    "ce.fit_transform(X)"
   ]
  },
  {
   "cell_type": "markdown",
   "metadata": {},
   "source": [
    "OK，”欢迎程度“列编码成功。到这里，我们已经转换了如下这些列：\n",
    "\n",
    "- \"城市“和”是否宜居“：虚拟变量编码\n",
    "- ”欢迎程度“：标签编码\n",
    "\n",
    "### 将连续值分箱\n",
    "\n",
    "如果数值数据是连续的，那么将其转换为分类变量可能是有意义的。比如年龄分段（幼年、童年、少年、青年、中年、老年等）。\n",
    "\n",
    "Pandas有一个有用的函数叫作cut，可以将数据分箱（binning），亦称为分桶（bucketing），即数据的范围："
   ]
  },
  {
   "cell_type": "code",
   "execution_count": 34,
   "metadata": {},
   "outputs": [
    {
     "data": {
      "text/plain": [
       "0    (5.987, 7.113]\n",
       "1               NaN\n",
       "2    (4.857, 5.987]\n",
       "3     (7.113, 8.24]\n",
       "4    (4.857, 5.987]\n",
       "5     (7.113, 8.24]\n",
       "Name: 年人均收入（万元）, dtype: category\n",
       "Categories (3, interval[float64]): [(4.857, 5.987] < (5.987, 7.113] < (7.113, 8.24]]"
      ]
     },
     "execution_count": 34,
     "metadata": {},
     "output_type": "execute_result"
    }
   ],
   "source": [
    "pd.cut(X['年人均收入（万元）'], bins=3)"
   ]
  },
  {
   "cell_type": "markdown",
   "metadata": {},
   "source": [
    "仿照之前的转换器结构，可以为流水线定义自己的CustomCutter:"
   ]
  },
  {
   "cell_type": "code",
   "execution_count": 36,
   "metadata": {},
   "outputs": [],
   "source": [
    "class CustomCutter(TransformerMixin):\n",
    "    def __init__(self, col, bins, labels=False):\n",
    "        self.labels = labels\n",
    "        self.bins = bins\n",
    "        self.col = col\n",
    "        \n",
    "    def transform(self, df):\n",
    "        X = df.copy()\n",
    "        X[self.col] = pd.cut(X[self.col], bins=self.bins, labels=self.labels)\n",
    "        return X\n",
    "    \n",
    "    def fit(self, *_):\n",
    "        return self"
   ]
  },
  {
   "cell_type": "markdown",
   "metadata": {},
   "source": [
    "测试一下："
   ]
  },
  {
   "cell_type": "code",
   "execution_count": 37,
   "metadata": {},
   "outputs": [
    {
     "data": {
      "text/html": [
       "<div>\n",
       "<style scoped>\n",
       "    .dataframe tbody tr th:only-of-type {\n",
       "        vertical-align: middle;\n",
       "    }\n",
       "\n",
       "    .dataframe tbody tr th {\n",
       "        vertical-align: top;\n",
       "    }\n",
       "\n",
       "    .dataframe thead th {\n",
       "        text-align: right;\n",
       "    }\n",
       "</style>\n",
       "<table border=\"1\" class=\"dataframe\">\n",
       "  <thead>\n",
       "    <tr style=\"text-align: right;\">\n",
       "      <th></th>\n",
       "      <th>城市</th>\n",
       "      <th>是否宜居</th>\n",
       "      <th>欢迎程度</th>\n",
       "      <th>年人均收入（万元）</th>\n",
       "    </tr>\n",
       "  </thead>\n",
       "  <tbody>\n",
       "    <tr>\n",
       "      <th>0</th>\n",
       "      <td>太原</td>\n",
       "      <td>是</td>\n",
       "      <td>有点喜欢</td>\n",
       "      <td>1.0</td>\n",
       "    </tr>\n",
       "    <tr>\n",
       "      <th>1</th>\n",
       "      <td>太原</td>\n",
       "      <td>否</td>\n",
       "      <td>喜欢</td>\n",
       "      <td>NaN</td>\n",
       "    </tr>\n",
       "    <tr>\n",
       "      <th>2</th>\n",
       "      <td>上海</td>\n",
       "      <td>否</td>\n",
       "      <td>有点喜欢</td>\n",
       "      <td>0.0</td>\n",
       "    </tr>\n",
       "    <tr>\n",
       "      <th>3</th>\n",
       "      <td>太原</td>\n",
       "      <td>否</td>\n",
       "      <td>喜欢</td>\n",
       "      <td>2.0</td>\n",
       "    </tr>\n",
       "    <tr>\n",
       "      <th>4</th>\n",
       "      <td>深圳</td>\n",
       "      <td>否</td>\n",
       "      <td>有点喜欢</td>\n",
       "      <td>0.0</td>\n",
       "    </tr>\n",
       "    <tr>\n",
       "      <th>5</th>\n",
       "      <td>西安</td>\n",
       "      <td>是</td>\n",
       "      <td>不喜欢</td>\n",
       "      <td>2.0</td>\n",
       "    </tr>\n",
       "  </tbody>\n",
       "</table>\n",
       "</div>"
      ],
      "text/plain": [
       "   城市 是否宜居  欢迎程度  年人均收入（万元）\n",
       "0  太原    是  有点喜欢        1.0\n",
       "1  太原    否    喜欢        NaN\n",
       "2  上海    否  有点喜欢        0.0\n",
       "3  太原    否    喜欢        2.0\n",
       "4  深圳    否  有点喜欢        0.0\n",
       "5  西安    是   不喜欢        2.0"
      ]
     },
     "execution_count": 37,
     "metadata": {},
     "output_type": "execute_result"
    }
   ],
   "source": [
    "cc = CustomCutter(col='年人均收入（万元）', bins=3)\n",
    "cc.fit_transform(X)"
   ]
  },
  {
   "cell_type": "markdown",
   "metadata": {},
   "source": [
    "### 创建流水线\n",
    "\n",
    "我们对数据集里的列进行了以下转换：\n",
    "\n",
    "- \"城市“和”是否宜居“：虚拟变量编码\n",
    "- “欢迎程度”：标签编码\n",
    "- ”年人均收入（万元）“：分箱\n",
    "\n",
    "把自定义转换器按以下的顺序组装为流水线：\n",
    "\n",
    "1. 用imputer填充缺失值\n",
    "2. 用虚拟变量填充分类列（“城市”和“是否宜居”）\n",
    "3. 对“欢迎程度”进行标签编码\n",
    "4. 将“年人均收入（万元）“分箱"
   ]
  },
  {
   "cell_type": "code",
   "execution_count": 50,
   "metadata": {},
   "outputs": [
    {
     "data": {
      "text/html": [
       "<div>\n",
       "<style scoped>\n",
       "    .dataframe tbody tr th:only-of-type {\n",
       "        vertical-align: middle;\n",
       "    }\n",
       "\n",
       "    .dataframe tbody tr th {\n",
       "        vertical-align: top;\n",
       "    }\n",
       "\n",
       "    .dataframe thead th {\n",
       "        text-align: right;\n",
       "    }\n",
       "</style>\n",
       "<table border=\"1\" class=\"dataframe\">\n",
       "  <thead>\n",
       "    <tr style=\"text-align: right;\">\n",
       "      <th></th>\n",
       "      <th>城市</th>\n",
       "      <th>是否宜居</th>\n",
       "      <th>欢迎程度</th>\n",
       "      <th>年人均收入（万元）</th>\n",
       "    </tr>\n",
       "  </thead>\n",
       "  <tbody>\n",
       "    <tr>\n",
       "      <th>0</th>\n",
       "      <td>太原</td>\n",
       "      <td>是</td>\n",
       "      <td>有点喜欢</td>\n",
       "      <td>6.25</td>\n",
       "    </tr>\n",
       "    <tr>\n",
       "      <th>1</th>\n",
       "      <td>None</td>\n",
       "      <td>否</td>\n",
       "      <td>喜欢</td>\n",
       "      <td>NaN</td>\n",
       "    </tr>\n",
       "    <tr>\n",
       "      <th>2</th>\n",
       "      <td>上海</td>\n",
       "      <td>否</td>\n",
       "      <td>有点喜欢</td>\n",
       "      <td>4.86</td>\n",
       "    </tr>\n",
       "    <tr>\n",
       "      <th>3</th>\n",
       "      <td>太原</td>\n",
       "      <td>None</td>\n",
       "      <td>喜欢</td>\n",
       "      <td>8.24</td>\n",
       "    </tr>\n",
       "    <tr>\n",
       "      <th>4</th>\n",
       "      <td>深圳</td>\n",
       "      <td>否</td>\n",
       "      <td>有点喜欢</td>\n",
       "      <td>5.20</td>\n",
       "    </tr>\n",
       "    <tr>\n",
       "      <th>5</th>\n",
       "      <td>西安</td>\n",
       "      <td>是</td>\n",
       "      <td>不喜欢</td>\n",
       "      <td>7.20</td>\n",
       "    </tr>\n",
       "  </tbody>\n",
       "</table>\n",
       "</div>"
      ],
      "text/plain": [
       "     城市  是否宜居  欢迎程度  年人均收入（万元）\n",
       "0    太原     是  有点喜欢       6.25\n",
       "1  None     否    喜欢        NaN\n",
       "2    上海     否  有点喜欢       4.86\n",
       "3    太原  None    喜欢       8.24\n",
       "4    深圳     否  有点喜欢       5.20\n",
       "5    西安     是   不喜欢       7.20"
      ]
     },
     "execution_count": 50,
     "metadata": {},
     "output_type": "execute_result"
    }
   ],
   "source": [
    "from sklearn.pipeline import Pipeline\n",
    "\n",
    "pipe = Pipeline(steps=[\n",
    "    ('imputer_c', cci), # 填充缺失的定性值\n",
    "    ('imputer_q', cqi), # 填充缺失的定量值\n",
    "    ('dummify', cd),    # 定类虚拟编码\n",
    "    ('encode', ce),     # 定序标签编码\n",
    "    ('cut', cc)         # 定量分箱\n",
    "])\n",
    "\n",
    "# 查看进入流水线前的数据\n",
    "X"
   ]
  },
  {
   "cell_type": "code",
   "execution_count": 48,
   "metadata": {},
   "outputs": [
    {
     "data": {
      "text/plain": [
       "Pipeline(memory=None,\n",
       "         steps=[('imputer_c',\n",
       "                 <__main__.CustomCategoryImputer object at 0x7f8c050f3e50>),\n",
       "                ('imputer_q',\n",
       "                 <__main__.CustomquantitativeImputer object at 0x7f8c02877e50>),\n",
       "                ('dummify',\n",
       "                 <__main__.CustomDummifier object at 0x7f8c02834950>),\n",
       "                ('encode', <__main__.CustomEncoder object at 0x7f8c0284b710>),\n",
       "                ('cut', <__main__.CustomCutter object at 0x7f8c0284bed0>)],\n",
       "         verbose=False)"
      ]
     },
     "execution_count": 48,
     "metadata": {},
     "output_type": "execute_result"
    }
   ],
   "source": [
    "# 拟合流水线\n",
    "pipe.fit(X)"
   ]
  },
  {
   "cell_type": "code",
   "execution_count": 49,
   "metadata": {},
   "outputs": [
    {
     "data": {
      "text/html": [
       "<div>\n",
       "<style scoped>\n",
       "    .dataframe tbody tr th:only-of-type {\n",
       "        vertical-align: middle;\n",
       "    }\n",
       "\n",
       "    .dataframe tbody tr th {\n",
       "        vertical-align: top;\n",
       "    }\n",
       "\n",
       "    .dataframe thead th {\n",
       "        text-align: right;\n",
       "    }\n",
       "</style>\n",
       "<table border=\"1\" class=\"dataframe\">\n",
       "  <thead>\n",
       "    <tr style=\"text-align: right;\">\n",
       "      <th></th>\n",
       "      <th>欢迎程度</th>\n",
       "      <th>年人均收入（万元）</th>\n",
       "      <th>是否宜居_否</th>\n",
       "      <th>是否宜居_是</th>\n",
       "      <th>城市_上海</th>\n",
       "      <th>城市_太原</th>\n",
       "      <th>城市_深圳</th>\n",
       "      <th>城市_西安</th>\n",
       "    </tr>\n",
       "  </thead>\n",
       "  <tbody>\n",
       "    <tr>\n",
       "      <th>0</th>\n",
       "      <td>1</td>\n",
       "      <td>1</td>\n",
       "      <td>0</td>\n",
       "      <td>1</td>\n",
       "      <td>0</td>\n",
       "      <td>1</td>\n",
       "      <td>0</td>\n",
       "      <td>0</td>\n",
       "    </tr>\n",
       "    <tr>\n",
       "      <th>1</th>\n",
       "      <td>2</td>\n",
       "      <td>1</td>\n",
       "      <td>1</td>\n",
       "      <td>0</td>\n",
       "      <td>0</td>\n",
       "      <td>1</td>\n",
       "      <td>0</td>\n",
       "      <td>0</td>\n",
       "    </tr>\n",
       "    <tr>\n",
       "      <th>2</th>\n",
       "      <td>1</td>\n",
       "      <td>0</td>\n",
       "      <td>1</td>\n",
       "      <td>0</td>\n",
       "      <td>1</td>\n",
       "      <td>0</td>\n",
       "      <td>0</td>\n",
       "      <td>0</td>\n",
       "    </tr>\n",
       "    <tr>\n",
       "      <th>3</th>\n",
       "      <td>2</td>\n",
       "      <td>2</td>\n",
       "      <td>1</td>\n",
       "      <td>0</td>\n",
       "      <td>0</td>\n",
       "      <td>1</td>\n",
       "      <td>0</td>\n",
       "      <td>0</td>\n",
       "    </tr>\n",
       "    <tr>\n",
       "      <th>4</th>\n",
       "      <td>1</td>\n",
       "      <td>0</td>\n",
       "      <td>1</td>\n",
       "      <td>0</td>\n",
       "      <td>0</td>\n",
       "      <td>0</td>\n",
       "      <td>1</td>\n",
       "      <td>0</td>\n",
       "    </tr>\n",
       "    <tr>\n",
       "      <th>5</th>\n",
       "      <td>0</td>\n",
       "      <td>2</td>\n",
       "      <td>0</td>\n",
       "      <td>1</td>\n",
       "      <td>0</td>\n",
       "      <td>0</td>\n",
       "      <td>0</td>\n",
       "      <td>1</td>\n",
       "    </tr>\n",
       "  </tbody>\n",
       "</table>\n",
       "</div>"
      ],
      "text/plain": [
       "   欢迎程度  年人均收入（万元）  是否宜居_否  是否宜居_是  城市_上海  城市_太原  城市_深圳  城市_西安\n",
       "0     1          1       0       1      0      1      0      0\n",
       "1     2          1       1       0      0      1      0      0\n",
       "2     1          0       1       0      1      0      0      0\n",
       "3     2          2       1       0      0      1      0      0\n",
       "4     1          0       1       0      0      0      1      0\n",
       "5     0          2       0       1      0      0      0      1"
      ]
     },
     "execution_count": 49,
     "metadata": {},
     "output_type": "execute_result"
    }
   ],
   "source": [
    "# 转换DataFrame\n",
    "pipe.transform(X)"
   ]
  },
  {
   "cell_type": "markdown",
   "metadata": {},
   "source": [
    "## 4.4 扩展数值特征\n",
    "\n",
    "可以从数值特征中创建扩展特征。在深入研究前，先介绍一个新的数据集。\n",
    "\n",
    "### 根据胸部加速计识别动作的数据集\n",
    "\n",
    "此数据集来自佩戴在胸部的加速计，它收集了15名参与者的7种动作。采样频率是52Hz，加度计数据未校准。\n",
    "\n",
    "数据来源：[UCI机器学习库](https://archive.ics.uci.edu/ml/datasets/Activity+Recognition+from+Single+Chest-Mounted+Accelerometer)\n",
    "\n",
    "数据集按参与者划分，包含以下属性：\n",
    "\n",
    "- 序号\n",
    "- x轴加速度\n",
    "- y轴加速度\n",
    "- z轴加速度\n",
    "- 标签\n",
    "\n",
    "标签是数字，每个数字代表一种动作（activity），如下所示：\n",
    "\n",
    "- 1: 在电脑前工作\n",
    "- 2: 站立、走路和上下楼梯\n",
    "- 3: 站立\n",
    "- 4: 走路\n",
    "- 5: 上下楼梯\n",
    "- 6: 与人边走边聊\n",
    "- 7: 站立着讲话\n",
    "\n",
    "开始探索数据："
   ]
  },
  {
   "cell_type": "code",
   "execution_count": 52,
   "metadata": {},
   "outputs": [
    {
     "data": {
      "text/html": [
       "<div>\n",
       "<style scoped>\n",
       "    .dataframe tbody tr th:only-of-type {\n",
       "        vertical-align: middle;\n",
       "    }\n",
       "\n",
       "    .dataframe tbody tr th {\n",
       "        vertical-align: top;\n",
       "    }\n",
       "\n",
       "    .dataframe thead th {\n",
       "        text-align: right;\n",
       "    }\n",
       "</style>\n",
       "<table border=\"1\" class=\"dataframe\">\n",
       "  <thead>\n",
       "    <tr style=\"text-align: right;\">\n",
       "      <th></th>\n",
       "      <th>index</th>\n",
       "      <th>x</th>\n",
       "      <th>y</th>\n",
       "      <th>z</th>\n",
       "      <th>activity</th>\n",
       "    </tr>\n",
       "  </thead>\n",
       "  <tbody>\n",
       "    <tr>\n",
       "      <th>0</th>\n",
       "      <td>0.0</td>\n",
       "      <td>1502</td>\n",
       "      <td>2215</td>\n",
       "      <td>2153</td>\n",
       "      <td>1</td>\n",
       "    </tr>\n",
       "    <tr>\n",
       "      <th>1</th>\n",
       "      <td>1.0</td>\n",
       "      <td>1667</td>\n",
       "      <td>2072</td>\n",
       "      <td>2047</td>\n",
       "      <td>1</td>\n",
       "    </tr>\n",
       "    <tr>\n",
       "      <th>2</th>\n",
       "      <td>2.0</td>\n",
       "      <td>1611</td>\n",
       "      <td>1957</td>\n",
       "      <td>1906</td>\n",
       "      <td>1</td>\n",
       "    </tr>\n",
       "    <tr>\n",
       "      <th>3</th>\n",
       "      <td>3.0</td>\n",
       "      <td>1601</td>\n",
       "      <td>1939</td>\n",
       "      <td>1831</td>\n",
       "      <td>1</td>\n",
       "    </tr>\n",
       "    <tr>\n",
       "      <th>4</th>\n",
       "      <td>4.0</td>\n",
       "      <td>1643</td>\n",
       "      <td>1965</td>\n",
       "      <td>1879</td>\n",
       "      <td>1</td>\n",
       "    </tr>\n",
       "  </tbody>\n",
       "</table>\n",
       "</div>"
      ],
      "text/plain": [
       "   index     x     y     z  activity\n",
       "0    0.0  1502  2215  2153         1\n",
       "1    1.0  1667  2072  2047         1\n",
       "2    2.0  1611  1957  1906         1\n",
       "3    3.0  1601  1939  1831         1\n",
       "4    4.0  1643  1965  1879         1"
      ]
     },
     "execution_count": 52,
     "metadata": {},
     "output_type": "execute_result"
    }
   ],
   "source": [
    "df = pd.read_csv('sample_data/activity_recognition/1.csv', header=None)\n",
    "df.columns = ['index', 'x', 'y', 'z', 'activity']\n",
    "df.head()"
   ]
  },
  {
   "cell_type": "markdown",
   "metadata": {},
   "source": [
    "此数据集的目的是训练模型，以便根据智能手机等设备上加速度计的x、y、z读数识别用户的当前动作，即预测activity列。\n",
    "\n",
    "首先确定要击败的空准确率（可能结果的猜中率）："
   ]
  },
  {
   "cell_type": "code",
   "execution_count": 53,
   "metadata": {},
   "outputs": [
    {
     "data": {
      "text/plain": [
       "7    0.515369\n",
       "1    0.207242\n",
       "4    0.165291\n",
       "3    0.068793\n",
       "5    0.019637\n",
       "6    0.017951\n",
       "2    0.005711\n",
       "0    0.000006\n",
       "Name: activity, dtype: float64"
      ]
     },
     "execution_count": 53,
     "metadata": {},
     "output_type": "execute_result"
    }
   ],
   "source": [
    "df['activity'].value_counts(normalize=True)"
   ]
  },
  {
   "cell_type": "markdown",
   "metadata": {},
   "source": [
    "空准确率是51.54%，意外着如果我们猜7（站着讲话），正确率就超过一半了。现在开始进行机器学习，一步步建立模型："
   ]
  },
  {
   "cell_type": "code",
   "execution_count": 54,
   "metadata": {},
   "outputs": [],
   "source": [
    "from sklearn.neighbors import KNeighborsClassifier\n",
    "from sklearn.model_selection import GridSearchCV"
   ]
  },
  {
   "cell_type": "markdown",
   "metadata": {},
   "source": [
    "这里还是用scikit-learn的KNN分类模型和网格搜索模块，该模块自动找到最适合数据的KNN参数组合，以达到最佳的**交叉验证准确率**。\n",
    "\n",
    "然后，为预测模型创建一个特征矩阵（X）和一个响应变量（y）："
   ]
  },
  {
   "cell_type": "code",
   "execution_count": 56,
   "metadata": {},
   "outputs": [
    {
     "data": {
      "text/plain": [
       "(      x     y     z\n",
       " 0  1502  2215  2153\n",
       " 1  1667  2072  2047\n",
       " 2  1611  1957  1906\n",
       " 3  1601  1939  1831\n",
       " 4  1643  1965  1879,\n",
       " 0    1\n",
       " 1    1\n",
       " 2    1\n",
       " 3    1\n",
       " 4    1\n",
       " Name: activity, dtype: int64)"
      ]
     },
     "execution_count": 56,
     "metadata": {},
     "output_type": "execute_result"
    }
   ],
   "source": [
    "X = df[['x', 'y', 'z']]\n",
    "y = df['activity']\n",
    "X.head(),y.head()"
   ]
  },
  {
   "cell_type": "markdown",
   "metadata": {},
   "source": [
    "引入网格搜索所需的参数和实例:"
   ]
  },
  {
   "cell_type": "code",
   "execution_count": 61,
   "metadata": {},
   "outputs": [],
   "source": [
    "# KNN模型参数\n",
    "knn_params = {'n_neighbors': [3, 4, 5, 6]}"
   ]
  },
  {
   "cell_type": "markdown",
   "metadata": {},
   "source": [
    "实例化一个KNN模型和一个网格搜索模块，并且用特征矩阵和响应变量拟合："
   ]
  },
  {
   "cell_type": "code",
   "execution_count": 62,
   "metadata": {},
   "outputs": [
    {
     "name": "stderr",
     "output_type": "stream",
     "text": [
      "/opt/conda/lib/python3.7/site-packages/sklearn/model_selection/_split.py:667: UserWarning: The least populated class in y has only 1 members, which is less than n_splits=5.\n",
      "  % (min_groups, self.n_splits)), UserWarning)\n"
     ]
    },
    {
     "data": {
      "text/plain": [
       "GridSearchCV(cv=None, error_score=nan,\n",
       "             estimator=KNeighborsClassifier(algorithm='auto', leaf_size=30,\n",
       "                                            metric='minkowski',\n",
       "                                            metric_params=None, n_jobs=None,\n",
       "                                            n_neighbors=5, p=2,\n",
       "                                            weights='uniform'),\n",
       "             iid='deprecated', n_jobs=None,\n",
       "             param_grid={'n_neighbors': [3, 4, 5, 6]}, pre_dispatch='2*n_jobs',\n",
       "             refit=True, return_train_score=False, scoring=None, verbose=0)"
      ]
     },
     "execution_count": 62,
     "metadata": {},
     "output_type": "execute_result"
    }
   ],
   "source": [
    "knn = KNeighborsClassifier()\n",
    "grid = GridSearchCV(knn, knn_params)\n",
    "grid.fit(X, y)"
   ]
  },
  {
   "cell_type": "code",
   "execution_count": 63,
   "metadata": {},
   "outputs": [
    {
     "data": {
      "text/plain": [
       "(0.7408140649873495, {'n_neighbors': 5})"
      ]
     },
     "execution_count": 63,
     "metadata": {},
     "output_type": "execute_result"
    }
   ],
   "source": [
    "grid.best_score_, grid.best_params_"
   ]
  },
  {
   "cell_type": "markdown",
   "metadata": {},
   "source": [
    "使用5个邻居作为参数时，KNN模型准确率达到了74.08%，比51.54%的空准确率高很多。也许还有别的办法可以进一步提高准确率。"
   ]
  },
  {
   "cell_type": "markdown",
   "metadata": {},
   "source": [
    "### 多项式特征\n",
    "\n",
    "在处理数值数据、创建更多特征时，一个关键方法是使用scikit-learn的PolynomialFeatures类。这个类会生成一个新的特征矩阵，里面是原始数据各个特征的多项式组合，阶数小于或等于指定的阶数。意思是，如果输入是二维的，例如[a, b]，那么二阶的多项式特征就是[1, a, b, a^2, ab, b^2]"
   ]
  },
  {
   "cell_type": "markdown",
   "metadata": {},
   "source": [
    "#### 1.参数\n",
    "\n",
    "在实例化多项式特征时，需要了解3个参数：\n",
    "\n",
    "- degree：多项式特征的阶数，默认值是2\n",
    "- interaction_only：布尔值：如果为真，表示只生成互相影响/交互的特征，也就是不同阶数特征的乘积。默认为false\n",
    "- include_bias：布尔值：如果为真（默认），会生成一列阶数为0的偏差列，也就是说列中全是数字1\n",
    "\n",
    "导入这个多项式特征类，并设置参数来实例化。首先看看将interaction_only设成False时的数据："
   ]
  },
  {
   "cell_type": "code",
   "execution_count": 79,
   "metadata": {},
   "outputs": [
    {
     "name": "stdout",
     "output_type": "stream",
     "text": [
      "(162501, 3) --> (162501, 9)\n"
     ]
    }
   ],
   "source": [
    "from sklearn.preprocessing import PolynomialFeatures\n",
    "\n",
    "poly = PolynomialFeatures(degree=2, \n",
    "                          include_bias=False, \n",
    "                          interaction_only=False)\n",
    "\n",
    "X_poly = poly.fit_transform(X)\n",
    "print(X.shape, '-->', X_poly.shape)"
   ]
  },
  {
   "cell_type": "code",
   "execution_count": 80,
   "metadata": {},
   "outputs": [
    {
     "data": {
      "text/html": [
       "<div>\n",
       "<style scoped>\n",
       "    .dataframe tbody tr th:only-of-type {\n",
       "        vertical-align: middle;\n",
       "    }\n",
       "\n",
       "    .dataframe tbody tr th {\n",
       "        vertical-align: top;\n",
       "    }\n",
       "\n",
       "    .dataframe thead th {\n",
       "        text-align: right;\n",
       "    }\n",
       "</style>\n",
       "<table border=\"1\" class=\"dataframe\">\n",
       "  <thead>\n",
       "    <tr style=\"text-align: right;\">\n",
       "      <th></th>\n",
       "      <th>x0</th>\n",
       "      <th>x1</th>\n",
       "      <th>x2</th>\n",
       "      <th>x0^2</th>\n",
       "      <th>x0 x1</th>\n",
       "      <th>x0 x2</th>\n",
       "      <th>x1^2</th>\n",
       "      <th>x1 x2</th>\n",
       "      <th>x2^2</th>\n",
       "    </tr>\n",
       "  </thead>\n",
       "  <tbody>\n",
       "    <tr>\n",
       "      <th>0</th>\n",
       "      <td>1502.0</td>\n",
       "      <td>2215.0</td>\n",
       "      <td>2153.0</td>\n",
       "      <td>2256004.0</td>\n",
       "      <td>3326930.0</td>\n",
       "      <td>3233806.0</td>\n",
       "      <td>4906225.0</td>\n",
       "      <td>4768895.0</td>\n",
       "      <td>4635409.0</td>\n",
       "    </tr>\n",
       "    <tr>\n",
       "      <th>1</th>\n",
       "      <td>1667.0</td>\n",
       "      <td>2072.0</td>\n",
       "      <td>2047.0</td>\n",
       "      <td>2778889.0</td>\n",
       "      <td>3454024.0</td>\n",
       "      <td>3412349.0</td>\n",
       "      <td>4293184.0</td>\n",
       "      <td>4241384.0</td>\n",
       "      <td>4190209.0</td>\n",
       "    </tr>\n",
       "    <tr>\n",
       "      <th>2</th>\n",
       "      <td>1611.0</td>\n",
       "      <td>1957.0</td>\n",
       "      <td>1906.0</td>\n",
       "      <td>2595321.0</td>\n",
       "      <td>3152727.0</td>\n",
       "      <td>3070566.0</td>\n",
       "      <td>3829849.0</td>\n",
       "      <td>3730042.0</td>\n",
       "      <td>3632836.0</td>\n",
       "    </tr>\n",
       "    <tr>\n",
       "      <th>3</th>\n",
       "      <td>1601.0</td>\n",
       "      <td>1939.0</td>\n",
       "      <td>1831.0</td>\n",
       "      <td>2563201.0</td>\n",
       "      <td>3104339.0</td>\n",
       "      <td>2931431.0</td>\n",
       "      <td>3759721.0</td>\n",
       "      <td>3550309.0</td>\n",
       "      <td>3352561.0</td>\n",
       "    </tr>\n",
       "    <tr>\n",
       "      <th>4</th>\n",
       "      <td>1643.0</td>\n",
       "      <td>1965.0</td>\n",
       "      <td>1879.0</td>\n",
       "      <td>2699449.0</td>\n",
       "      <td>3228495.0</td>\n",
       "      <td>3087197.0</td>\n",
       "      <td>3861225.0</td>\n",
       "      <td>3692235.0</td>\n",
       "      <td>3530641.0</td>\n",
       "    </tr>\n",
       "  </tbody>\n",
       "</table>\n",
       "</div>"
      ],
      "text/plain": [
       "       x0      x1      x2       x0^2      x0 x1      x0 x2       x1^2  \\\n",
       "0  1502.0  2215.0  2153.0  2256004.0  3326930.0  3233806.0  4906225.0   \n",
       "1  1667.0  2072.0  2047.0  2778889.0  3454024.0  3412349.0  4293184.0   \n",
       "2  1611.0  1957.0  1906.0  2595321.0  3152727.0  3070566.0  3829849.0   \n",
       "3  1601.0  1939.0  1831.0  2563201.0  3104339.0  2931431.0  3759721.0   \n",
       "4  1643.0  1965.0  1879.0  2699449.0  3228495.0  3087197.0  3861225.0   \n",
       "\n",
       "       x1 x2       x2^2  \n",
       "0  4768895.0  4635409.0  \n",
       "1  4241384.0  4190209.0  \n",
       "2  3730042.0  3632836.0  \n",
       "3  3550309.0  3352561.0  \n",
       "4  3692235.0  3530641.0  "
      ]
     },
     "execution_count": 80,
     "metadata": {},
     "output_type": "execute_result"
    }
   ],
   "source": [
    "pd.DataFrame(X_poly, columns=poly.get_feature_names()).head()"
   ]
  },
  {
   "cell_type": "markdown",
   "metadata": {},
   "source": [
    "### 2. 探索性数据分析\n",
    "\n",
    "因为多项式特征的目的是更好地理解原始数据的特征交互情况，所以最好的可视化办法是关联热图："
   ]
  },
  {
   "cell_type": "code",
   "execution_count": 2,
   "metadata": {},
   "outputs": [
    {
     "ename": "NameError",
     "evalue": "name 'pd' is not defined",
     "output_type": "error",
     "traceback": [
      "\u001b[0;31m---------------------------------------------------------------------------\u001b[0m",
      "\u001b[0;31mNameError\u001b[0m                                 Traceback (most recent call last)",
      "\u001b[0;32m<ipython-input-2-f14b4624d0ba>\u001b[0m in \u001b[0;36m<module>\u001b[0;34m\u001b[0m\n\u001b[1;32m      2\u001b[0m \u001b[0;32mimport\u001b[0m \u001b[0mseaborn\u001b[0m \u001b[0;32mas\u001b[0m \u001b[0msns\u001b[0m\u001b[0;34m\u001b[0m\u001b[0;34m\u001b[0m\u001b[0m\n\u001b[1;32m      3\u001b[0m \u001b[0;34m\u001b[0m\u001b[0m\n\u001b[0;32m----> 4\u001b[0;31m \u001b[0msns\u001b[0m\u001b[0;34m.\u001b[0m\u001b[0mheatmap\u001b[0m\u001b[0;34m(\u001b[0m\u001b[0mpd\u001b[0m\u001b[0;34m.\u001b[0m\u001b[0mDataFrame\u001b[0m\u001b[0;34m(\u001b[0m\u001b[0mX_poly\u001b[0m\u001b[0;34m,\u001b[0m \u001b[0mcolumns\u001b[0m\u001b[0;34m=\u001b[0m\u001b[0mpoly\u001b[0m\u001b[0;34m.\u001b[0m\u001b[0mget_feature_names\u001b[0m\u001b[0;34m(\u001b[0m\u001b[0;34m)\u001b[0m\u001b[0;34m)\u001b[0m\u001b[0;34m.\u001b[0m\u001b[0mcorr\u001b[0m\u001b[0;34m(\u001b[0m\u001b[0;34m)\u001b[0m\u001b[0;34m)\u001b[0m\u001b[0;34m\u001b[0m\u001b[0;34m\u001b[0m\u001b[0m\n\u001b[0m\u001b[1;32m      5\u001b[0m \u001b[0mplt\u001b[0m\u001b[0;34m.\u001b[0m\u001b[0mshow\u001b[0m\u001b[0;34m(\u001b[0m\u001b[0;34m)\u001b[0m\u001b[0;34m\u001b[0m\u001b[0;34m\u001b[0m\u001b[0m\n",
      "\u001b[0;31mNameError\u001b[0m: name 'pd' is not defined"
     ]
    }
   ],
   "source": [
    "import matplotlib.pyplot as plt\n",
    "import pandas as pd\n",
    "import seaborn as sns\n",
    "\n",
    "sns.heatmap(pd.DataFrame(X_poly, columns=poly.get_feature_names()).corr())\n",
    "plt.show()"
   ]
  },
  {
   "cell_type": "markdown",
   "metadata": {},
   "source": [
    "interaction_only参数是False,将其设成True试试："
   ]
  },
  {
   "cell_type": "code",
   "execution_count": 82,
   "metadata": {},
   "outputs": [
    {
     "name": "stdout",
     "output_type": "stream",
     "text": [
      "(162501, 3) --> (162501, 6)\n"
     ]
    }
   ],
   "source": [
    "poly = PolynomialFeatures(degree=2, \n",
    "                          include_bias=False, \n",
    "                          interaction_only=True)\n",
    "X_poly = poly.fit_transform(X)\n",
    "print(X.shape, '-->', X_poly.shape)"
   ]
  },
  {
   "cell_type": "code",
   "execution_count": 83,
   "metadata": {},
   "outputs": [
    {
     "data": {
      "text/html": [
       "<div>\n",
       "<style scoped>\n",
       "    .dataframe tbody tr th:only-of-type {\n",
       "        vertical-align: middle;\n",
       "    }\n",
       "\n",
       "    .dataframe tbody tr th {\n",
       "        vertical-align: top;\n",
       "    }\n",
       "\n",
       "    .dataframe thead th {\n",
       "        text-align: right;\n",
       "    }\n",
       "</style>\n",
       "<table border=\"1\" class=\"dataframe\">\n",
       "  <thead>\n",
       "    <tr style=\"text-align: right;\">\n",
       "      <th></th>\n",
       "      <th>x0</th>\n",
       "      <th>x1</th>\n",
       "      <th>x2</th>\n",
       "      <th>x0 x1</th>\n",
       "      <th>x0 x2</th>\n",
       "      <th>x1 x2</th>\n",
       "    </tr>\n",
       "  </thead>\n",
       "  <tbody>\n",
       "    <tr>\n",
       "      <th>0</th>\n",
       "      <td>1502.0</td>\n",
       "      <td>2215.0</td>\n",
       "      <td>2153.0</td>\n",
       "      <td>3326930.0</td>\n",
       "      <td>3233806.0</td>\n",
       "      <td>4768895.0</td>\n",
       "    </tr>\n",
       "    <tr>\n",
       "      <th>1</th>\n",
       "      <td>1667.0</td>\n",
       "      <td>2072.0</td>\n",
       "      <td>2047.0</td>\n",
       "      <td>3454024.0</td>\n",
       "      <td>3412349.0</td>\n",
       "      <td>4241384.0</td>\n",
       "    </tr>\n",
       "    <tr>\n",
       "      <th>2</th>\n",
       "      <td>1611.0</td>\n",
       "      <td>1957.0</td>\n",
       "      <td>1906.0</td>\n",
       "      <td>3152727.0</td>\n",
       "      <td>3070566.0</td>\n",
       "      <td>3730042.0</td>\n",
       "    </tr>\n",
       "    <tr>\n",
       "      <th>3</th>\n",
       "      <td>1601.0</td>\n",
       "      <td>1939.0</td>\n",
       "      <td>1831.0</td>\n",
       "      <td>3104339.0</td>\n",
       "      <td>2931431.0</td>\n",
       "      <td>3550309.0</td>\n",
       "    </tr>\n",
       "    <tr>\n",
       "      <th>4</th>\n",
       "      <td>1643.0</td>\n",
       "      <td>1965.0</td>\n",
       "      <td>1879.0</td>\n",
       "      <td>3228495.0</td>\n",
       "      <td>3087197.0</td>\n",
       "      <td>3692235.0</td>\n",
       "    </tr>\n",
       "  </tbody>\n",
       "</table>\n",
       "</div>"
      ],
      "text/plain": [
       "       x0      x1      x2      x0 x1      x0 x2      x1 x2\n",
       "0  1502.0  2215.0  2153.0  3326930.0  3233806.0  4768895.0\n",
       "1  1667.0  2072.0  2047.0  3454024.0  3412349.0  4241384.0\n",
       "2  1611.0  1957.0  1906.0  3152727.0  3070566.0  3730042.0\n",
       "3  1601.0  1939.0  1831.0  3104339.0  2931431.0  3550309.0\n",
       "4  1643.0  1965.0  1879.0  3228495.0  3087197.0  3692235.0"
      ]
     },
     "execution_count": 83,
     "metadata": {},
     "output_type": "execute_result"
    }
   ],
   "source": [
    "pd.DataFrame(X_poly, columns=poly.get_feature_names()).head()"
   ]
  },
  {
   "cell_type": "code",
   "execution_count": 84,
   "metadata": {},
   "outputs": [
    {
     "data": {
      "image/png": "[encoded data removed]",
      "text/plain": [
       "<Figure size 432x288 with 2 Axes>"
      ]
     },
     "metadata": {
      "needs_background": "light"
     },
     "output_type": "display_data"
    }
   ],
   "source": [
    "sns.heatmap(pd.DataFrame(X_poly, columns=poly.get_feature_names()).corr())\n",
    "plt.show()"
   ]
  },
  {
   "cell_type": "markdown",
   "metadata": {},
   "source": [
    "可以用新的多项式特征对KNN模型进行网格搜索，这也可以在流水线中进行:"
   ]
  },
  {
   "cell_type": "code",
   "execution_count": 85,
   "metadata": {},
   "outputs": [
    {
     "name": "stderr",
     "output_type": "stream",
     "text": [
      "/opt/conda/lib/python3.7/site-packages/sklearn/model_selection/_split.py:667: UserWarning: The least populated class in y has only 1 members, which is less than n_splits=5.\n",
      "  % (min_groups, self.n_splits)), UserWarning)\n"
     ]
    },
    {
     "data": {
      "text/plain": [
       "(0.7408140649873495,\n",
       " {'classify__n_neighbors': 5,\n",
       "  'poly_features__degree': 1,\n",
       "  'poly_features__interaction_only': True})"
      ]
     },
     "execution_count": 85,
     "metadata": {},
     "output_type": "execute_result"
    }
   ],
   "source": [
    "from sklearn.pipeline import Pipeline\n",
    "\n",
    "# 设置流水线参数：\n",
    "pipe_params = {\n",
    "    'poly_features__degree': [1, 2, 3],\n",
    "    'poly_features__interaction_only': [True, False],\n",
    "    'classify__n_neighbors': [3, 4, 5, 6]\n",
    "}\n",
    "\n",
    "# 实例化流水线\n",
    "pipe = Pipeline([\n",
    "    ('poly_features', poly),\n",
    "    ('classify', knn)\n",
    "])\n",
    "\n",
    "# 设置网格搜索，打印最佳准确率和学习到的参数\n",
    "grid = GridSearchCV(pipe, pipe_params)\n",
    "grid.fit(X, y)\n",
    "\n",
    "grid.best_score_, grid.best_params_"
   ]
  },
  {
   "cell_type": "markdown",
   "metadata": {},
   "source": [
    "准确率仍然是74.08%，比之前不用多项式扩展的准确率没有变化，但训练的时间增加了10倍多。"
   ]
  },
  {
   "cell_type": "markdown",
   "metadata": {},
   "source": [
    "## 4.5 针对文本的特征构建（选讲）\n",
    "\n",
    "到目前为止，我们一直在处理分类数据和数值数据。虽然分类数据是字符串，但是里面的文本仅仅是某个类别。我们现在进一步探索更长的文本数据。这种**文本数据**比单个类别的文本复杂得多，因为长文本包括一系列类别，或称为**词项（token）**。\n",
    "\n",
    "考虑一下商户点评：用户在平台上撰写对餐厅和商家的评论，分享对自己体验的看法。这些评论都是文本格式的，包含可用于机器学习的大量有用信息，例如预测最应该去的餐厅。\n",
    "\n",
    "在当今世界中，我们沟通方式的很大一部分还是基于书面文本，无论使用的是聊天服务、社会媒体，还是电子邮件。通过建模，我们可以从中获得海量信息，例如用微博数据进行情绪分析。\n",
    "\n",
    "这个过程被称为**自然语言处理**（NLP，naturallanguage processing）。这个领域主要涉及计算机与人类的交流，特别是对计算机进行编程，以处理自然语言。\n",
    "\n",
    "所有的机器学习模型都需要数值输入。因此处理文本时需要有创造性，有策略地思考如何将文本数据转换为数值特征。下面就介绍文本到数值的转换方法："
   ]
  },
  {
   "cell_type": "markdown",
   "metadata": {},
   "source": [
    "### 词袋法\n",
    "\n",
    "scikit-learn的feature_extraction模块能以机器学习算法支持的方法提取数据的特征，包括文本数据（也称为语料库Corpus，尤其指文本内容或文档的集合）。\n",
    "\n",
    "将语料库转换为数值表示（也就是向量化）的常见方法是**词袋（bag of words）法**，其背后的基本思想是：通过单词的出现频率来描述文档，完全忽略单词在文档中的位置。\n",
    "\n",
    "词袋，顾名思义，用一个袋子表示文本，不考虑语法和词序，并将这个袋子视作一个集合，其中重复度高的单词更重要。 创建词袋的3个步骤是：\n",
    "\n",
    "- 分词（tokenizing）：用空白和标点将单词分开，将其变为词项。每个可能出现的词项都有一个整数ID\n",
    "- 计数（counting）：简单地计算文档中词项的出现次数\n",
    "- 归一化（normalizing）：将词项在大多数文档中的重要性按逆序排列"
   ]
  },
  {
   "cell_type": "markdown",
   "metadata": {},
   "source": [
    "### CountVectorizer\n",
    "\n",
    "CountVectorizer是将文本数据转换为其向量表示的最常用办法。和虚拟变量类似，CountVectorizer将文本列转换为矩阵，其中的列是词项，单元值是每个文档中每个词项的出现次数。这个矩阵叫文档-词矩阵（document-term matrix），因为每行代表一个文档（在本例中是一条推文），每列代表一个词（一个单词）。\n",
    "\n",
    "下面用一个新的数据集展示CountVectorizer的工作原理。[Twitter情感分析数据集](https://www.kaggle.com/arkhoshghalb/twitter-sentiment-analysis-hatred-speech?select=train.csv)包括1578627条分类后的推文，每行标记为1或0：前者代表正面情绪，后者代表负面情绪。"
   ]
  },
  {
   "cell_type": "code",
   "execution_count": 86,
   "metadata": {},
   "outputs": [
    {
     "name": "stdout",
     "output_type": "stream",
     "text": [
      "2013-sfo-customer-survey.csv\n",
      "activity_recognition\n",
      "DataDictionary_2013-SFO-Customer-Survey.pdf\n",
      "GlobalLandTemperaturesByCountry.csv\n",
      "pima-indians-diabetes.csv\n",
      "salary-ranges-by-job-classification.csv\n",
      "twitter-sentiment-analysis-train.csv\n"
     ]
    }
   ],
   "source": [
    "!ls sample_data"
   ]
  },
  {
   "cell_type": "code",
   "execution_count": 4,
   "metadata": {},
   "outputs": [
    {
     "data": {
      "text/html": [
       "<div>\n",
       "<style scoped>\n",
       "    .dataframe tbody tr th:only-of-type {\n",
       "        vertical-align: middle;\n",
       "    }\n",
       "\n",
       "    .dataframe tbody tr th {\n",
       "        vertical-align: top;\n",
       "    }\n",
       "\n",
       "    .dataframe thead th {\n",
       "        text-align: right;\n",
       "    }\n",
       "</style>\n",
       "<table border=\"1\" class=\"dataframe\">\n",
       "  <thead>\n",
       "    <tr style=\"text-align: right;\">\n",
       "      <th></th>\n",
       "      <th>ItemID</th>\n",
       "      <th>Sentiment</th>\n",
       "      <th>SentimentText</th>\n",
       "    </tr>\n",
       "  </thead>\n",
       "  <tbody>\n",
       "    <tr>\n",
       "      <th>0</th>\n",
       "      <td>1</td>\n",
       "      <td>0</td>\n",
       "      <td>is so sad for my APL frie...</td>\n",
       "    </tr>\n",
       "    <tr>\n",
       "      <th>1</th>\n",
       "      <td>2</td>\n",
       "      <td>0</td>\n",
       "      <td>I missed the New Moon trail...</td>\n",
       "    </tr>\n",
       "    <tr>\n",
       "      <th>2</th>\n",
       "      <td>3</td>\n",
       "      <td>1</td>\n",
       "      <td>omg its already 7:30 :O</td>\n",
       "    </tr>\n",
       "    <tr>\n",
       "      <th>3</th>\n",
       "      <td>4</td>\n",
       "      <td>0</td>\n",
       "      <td>.. Omgaga. Im sooo  im gunna CRy. I'...</td>\n",
       "    </tr>\n",
       "    <tr>\n",
       "      <th>4</th>\n",
       "      <td>5</td>\n",
       "      <td>0</td>\n",
       "      <td>i think mi bf is cheating on me!!!   ...</td>\n",
       "    </tr>\n",
       "  </tbody>\n",
       "</table>\n",
       "</div>"
      ],
      "text/plain": [
       "   ItemID  Sentiment                                      SentimentText\n",
       "0       1          0                       is so sad for my APL frie...\n",
       "1       2          0                     I missed the New Moon trail...\n",
       "2       3          1                            omg its already 7:30 :O\n",
       "3       4          0            .. Omgaga. Im sooo  im gunna CRy. I'...\n",
       "4       5          0           i think mi bf is cheating on me!!!   ..."
      ]
     },
     "execution_count": 4,
     "metadata": {},
     "output_type": "execute_result"
    }
   ],
   "source": [
    "tweets = pd.read_csv('sample_data/twitter-sentiment-analysis-train.csv', encoding='latin1')\n",
    "tweets.head()"
   ]
  },
  {
   "cell_type": "markdown",
   "metadata": {},
   "source": [
    "本例只关注Sentiment和SentimentText列，所以删除ItemID列："
   ]
  },
  {
   "cell_type": "code",
   "execution_count": 5,
   "metadata": {},
   "outputs": [
    {
     "data": {
      "text/html": [
       "<div>\n",
       "<style scoped>\n",
       "    .dataframe tbody tr th:only-of-type {\n",
       "        vertical-align: middle;\n",
       "    }\n",
       "\n",
       "    .dataframe tbody tr th {\n",
       "        vertical-align: top;\n",
       "    }\n",
       "\n",
       "    .dataframe thead th {\n",
       "        text-align: right;\n",
       "    }\n",
       "</style>\n",
       "<table border=\"1\" class=\"dataframe\">\n",
       "  <thead>\n",
       "    <tr style=\"text-align: right;\">\n",
       "      <th></th>\n",
       "      <th>Sentiment</th>\n",
       "      <th>SentimentText</th>\n",
       "    </tr>\n",
       "  </thead>\n",
       "  <tbody>\n",
       "    <tr>\n",
       "      <th>0</th>\n",
       "      <td>0</td>\n",
       "      <td>is so sad for my APL frie...</td>\n",
       "    </tr>\n",
       "    <tr>\n",
       "      <th>1</th>\n",
       "      <td>0</td>\n",
       "      <td>I missed the New Moon trail...</td>\n",
       "    </tr>\n",
       "    <tr>\n",
       "      <th>2</th>\n",
       "      <td>1</td>\n",
       "      <td>omg its already 7:30 :O</td>\n",
       "    </tr>\n",
       "    <tr>\n",
       "      <th>3</th>\n",
       "      <td>0</td>\n",
       "      <td>.. Omgaga. Im sooo  im gunna CRy. I'...</td>\n",
       "    </tr>\n",
       "    <tr>\n",
       "      <th>4</th>\n",
       "      <td>0</td>\n",
       "      <td>i think mi bf is cheating on me!!!   ...</td>\n",
       "    </tr>\n",
       "  </tbody>\n",
       "</table>\n",
       "</div>"
      ],
      "text/plain": [
       "   Sentiment                                      SentimentText\n",
       "0          0                       is so sad for my APL frie...\n",
       "1          0                     I missed the New Moon trail...\n",
       "2          1                            omg its already 7:30 :O\n",
       "3          0            .. Omgaga. Im sooo  im gunna CRy. I'...\n",
       "4          0           i think mi bf is cheating on me!!!   ..."
      ]
     },
     "execution_count": 5,
     "metadata": {},
     "output_type": "execute_result"
    }
   ],
   "source": [
    "del tweets['ItemID']\n",
    "tweets.head()"
   ]
  },
  {
   "cell_type": "markdown",
   "metadata": {},
   "source": [
    "下面导入CountVectorizer，更好地理解这些文本："
   ]
  },
  {
   "cell_type": "code",
   "execution_count": 6,
   "metadata": {},
   "outputs": [
    {
     "name": "stdout",
     "output_type": "stream",
     "text": [
      "(99989,) --> (99989, 105849)\n"
     ]
    }
   ],
   "source": [
    "from sklearn.feature_extraction.text import CountVectorizer\n",
    "\n",
    "X = tweets['SentimentText']\n",
    "y = tweets['Sentiment']\n",
    "\n",
    "cv = CountVectorizer()\n",
    "_ = cv.fit_transform(X)\n",
    "print(X.shape, '-->', _.shape)"
   ]
  },
  {
   "cell_type": "markdown",
   "metadata": {},
   "source": [
    "#### CountVectorizer的参数:\n",
    "\n",
    "- stop_words: 停用词，即从词项中删除，不会表示为特征的词\n",
    "- min_df: 最少词频阈值，通过忽略在文档中出现频率低于阈值的词，减少特征的数量\n",
    "- max_df: 最大词频阈值，词频超过该阈值的词被忽略，不会表示为特征\n",
    "- ngram_range: 短语中的单词数量范围，这个参数接收一个元组，表示n值的范围\n",
    "- analyzer： 分析器，判断特征是单词还是短语。默认是单词\n",
    "\n",
    "下面依次查看一下这些参数对特征数量的影响："
   ]
  },
  {
   "cell_type": "code",
   "execution_count": 7,
   "metadata": {},
   "outputs": [
    {
     "name": "stdout",
     "output_type": "stream",
     "text": [
      "(99989,) --> (99989, 105545)\n"
     ]
    }
   ],
   "source": [
    "# 设置停用词\n",
    "cv = CountVectorizer(stop_words='english')\n",
    "_ = cv.fit_transform(X)\n",
    "print(X.shape, '-->', _.shape)"
   ]
  },
  {
   "cell_type": "code",
   "execution_count": 8,
   "metadata": {},
   "outputs": [
    {
     "name": "stdout",
     "output_type": "stream",
     "text": [
      "(99989,) --> (99989, 31)\n"
     ]
    }
   ],
   "source": [
    "# 设置最少词频阈值\n",
    "cv = CountVectorizer(min_df=.05)\n",
    "_ = cv.fit_transform(X)\n",
    "print(X.shape, '-->', _.shape)"
   ]
  },
  {
   "cell_type": "code",
   "execution_count": 9,
   "metadata": {},
   "outputs": [
    {
     "name": "stdout",
     "output_type": "stream",
     "text": [
      "(99989,) --> (99989, 105846)\n"
     ]
    }
   ],
   "source": [
    "# 设置最少词频阈值\n",
    "cv = CountVectorizer(max_df=.2)\n",
    "_ = cv.fit_transform(X)\n",
    "print(X.shape, '-->', _.shape)"
   ]
  },
  {
   "cell_type": "code",
   "execution_count": null,
   "metadata": {},
   "outputs": [],
   "source": [
    "# 设置最少词频阈值\n",
    "cv = CountVectorizer(ngram_range=(1, 2))\n",
    "_ = cv.fit_transform(X)\n",
    "print(X.shape, '-->', _.shape)"
   ]
  },
  {
   "cell_type": "code",
   "execution_count": 11,
   "metadata": {},
   "outputs": [
    {
     "name": "stdout",
     "output_type": "stream",
     "text": [
      "(99989,) --> (99989, 105849)\n"
     ]
    }
   ],
   "source": [
    "# 设置分析器\n",
    "cv = CountVectorizer(analyzer='word')\n",
    "_ = cv.fit_transform(X)\n",
    "print(X.shape, '-->', _.shape)"
   ]
  },
  {
   "cell_type": "markdown",
   "metadata": {},
   "source": [
    "可以创建自定义分析器。理论上说，单词是由词根或词干构建而来的，所以可以据此写一个自己的分析器。\n",
    "\n",
    "词干提取（stemming）是一种常见的自然语言处理方法，可以将词汇中的词干提取出来，也就是把单词转换为其词根，从而缩小词汇量。\n",
    "\n",
    "NLTK是一个自然语言工具包，里面有几个可以处理文本数据的包，stemmer就是其中之一。下面了解一下其用法："
   ]
  },
  {
   "cell_type": "code",
   "execution_count": 13,
   "metadata": {},
   "outputs": [
    {
     "name": "stdout",
     "output_type": "stream",
     "text": [
      "Collecting nltk\n",
      "  Downloading nltk-3.5.zip (1.4 MB)\n",
      "\u001b[K     |████████████████████████████████| 1.4 MB 38 kB/s eta 0:00:01\n",
      "\u001b[?25hRequirement already satisfied: click in /opt/conda/lib/python3.7/site-packages (from nltk) (7.1.2)\n",
      "Requirement already satisfied: joblib in /opt/conda/lib/python3.7/site-packages (from nltk) (0.15.1)\n",
      "Collecting regex\n",
      "  Downloading regex-2020.7.14-cp37-cp37m-manylinux2010_x86_64.whl (660 kB)\n",
      "\u001b[K     |████████████████████████████████| 660 kB 48 kB/s eta 0:00:01\n",
      "\u001b[?25hRequirement already satisfied: tqdm in /opt/conda/lib/python3.7/site-packages (from nltk) (4.46.1)\n",
      "Building wheels for collected packages: nltk\n",
      "  Building wheel for nltk (setup.py) ... \u001b[?25ldone\n",
      "\u001b[?25h  Created wheel for nltk: filename=nltk-3.5-py3-none-any.whl size=1434675 sha256=7761fa6ecc502e3463f176782c2d79abe58246bb0dbe3cb2932ab338d8406f74\n",
      "  Stored in directory: /home/jovyan/.cache/pip/wheels/45/6c/46/a1865e7ba706b3817f5d1b2ff7ce8996aabdd0d03d47ba0266\n",
      "Successfully built nltk\n",
      "Installing collected packages: regex, nltk\n",
      "Successfully installed nltk-3.5 regex-2020.7.14\n"
     ]
    }
   ],
   "source": [
    "# 安装nltk包\n",
    "!pip install nltk"
   ]
  },
  {
   "cell_type": "code",
   "execution_count": 16,
   "metadata": {},
   "outputs": [
    {
     "data": {
      "text/plain": [
       "('interest', 'ill')"
      ]
     },
     "execution_count": 16,
     "metadata": {},
     "output_type": "execute_result"
    }
   ],
   "source": [
    "# 导入nltk中的stemmer\n",
    "from nltk.stem.snowball import SnowballStemmer\n",
    "stemmer = SnowballStemmer('english')\n",
    "stemmer.stem('interesting'),stemmer.stem('illness')"
   ]
  },
  {
   "cell_type": "markdown",
   "metadata": {},
   "source": [
    "单词变成了相应的词根。现在定义一个函数，将单词转换为词根："
   ]
  },
  {
   "cell_type": "code",
   "execution_count": 17,
   "metadata": {},
   "outputs": [],
   "source": [
    "def word_tokenize(text):\n",
    "    words = text.split(' ') # 按空格分词\n",
    "    return [stemmer.stem(word) for word in words]"
   ]
  },
  {
   "cell_type": "markdown",
   "metadata": {},
   "source": [
    "测试一下："
   ]
  },
  {
   "cell_type": "code",
   "execution_count": 18,
   "metadata": {},
   "outputs": [
    {
     "data": {
      "text/plain": [
       "['what', 'are', 'you', 'do']"
      ]
     },
     "execution_count": 18,
     "metadata": {},
     "output_type": "execute_result"
    }
   ],
   "source": [
    "word_tokenize(\"what are you doing\")"
   ]
  },
  {
   "cell_type": "markdown",
   "metadata": {},
   "source": [
    "将此分词器作为CountVectorizer的分析器参数："
   ]
  },
  {
   "cell_type": "code",
   "execution_count": 21,
   "metadata": {},
   "outputs": [
    {
     "name": "stdout",
     "output_type": "stream",
     "text": [
      "(99989,) --> (99989, 154397)\n"
     ]
    }
   ],
   "source": [
    "cv = CountVectorizer(stop_words='english', analyzer=word_tokenize)\n",
    "_ = cv.fit_transform(X)\n",
    "print(X.shape, '-->', _.shape)"
   ]
  },
  {
   "cell_type": "markdown",
   "metadata": {},
   "source": [
    "### TF-IDF向量化器\n",
    "\n",
    "TF-IDF向量化器由两部分组成：**表示词频的TF**部分，以及**表示逆文档频率的IDF**部分。TF-IDF是一个用于信息检索和聚类的词加权方法。\n",
    "\n",
    "对于语料库中的文档，TF-IDF会给出其中单词的权重，表示重要性。相关概念介绍如下：\n",
    "\n",
    "- **TF（term frequency，词频**）：衡量**词在文档中出现的频率**。由于文档的长度不同，词在长文中的出现次数有可能比在短文中出现的次数多得多。因此，一般会对词频进行归一化，用其除以文档长度或文档的总词数。\n",
    "- **IDF（inverse document frequency，逆文档频率）**：衡量**词的重要性**。在计算词频时，我们认为所有的词都同等重要。但是某些词（如is、of和that）有可能出现很多次，但这些词并不重要。因此，我们需要**减少常见词的权重，加大稀有词的权重**\n",
    "\n",
    "TfidfVectorizer和CountVectorizer类似，都从词项构造了特征，但是TfidfVectorizer进一步将词项计数按照在语料库中出现的频率进行了归一化。下面看一个例子："
   ]
  },
  {
   "cell_type": "code",
   "execution_count": 22,
   "metadata": {},
   "outputs": [
    {
     "name": "stdout",
     "output_type": "stream",
     "text": [
      "(99989,) --> (99989, 105849) Mean: 6.613194267305311e-05\n"
     ]
    }
   ],
   "source": [
    "from sklearn.feature_extraction.text import TfidfVectorizer\n",
    "\n",
    "cv = CountVectorizer()\n",
    "_ = cv.fit_transform(X)\n",
    "\n",
    "print(X.shape, '-->', _.shape, 'Mean:', _[0,:].mean())"
   ]
  },
  {
   "cell_type": "code",
   "execution_count": 23,
   "metadata": {},
   "outputs": [
    {
     "name": "stdout",
     "output_type": "stream",
     "text": [
      "(99989,) --> (99989, 105849) Mean: 2.1863060975751192e-05\n"
     ]
    }
   ],
   "source": [
    "tv = TfidfVectorizer()\n",
    "_ = tv.fit_transform(X)\n",
    "\n",
    "print(X.shape, '-->', _.shape, 'Mean:', _[0,:].mean())"
   ]
  },
  {
   "cell_type": "markdown",
   "metadata": {},
   "source": [
    "可见，两个**向量化器**输出的行列数相同，但是里面的值不同。这是因为TfidfVectorizer和CountVectorizer把文本数据转换为定量数据时，填充单元值的方法不同。"
   ]
  },
  {
   "cell_type": "markdown",
   "metadata": {},
   "source": [
    "### 在机器学习流水线中使用文本\n",
    "\n",
    "向量化器的最终目标是让机器学习流水线**理解文本数据**。CountVectorizer和TfidfVectorizer与其他转换器一样，可以装配到机器学习流水线中。由于列数很多（十几万），这里更高效的分类器——朴素贝叶斯（naive Bayes）模型："
   ]
  },
  {
   "cell_type": "code",
   "execution_count": 24,
   "metadata": {},
   "outputs": [],
   "source": [
    "# 特征数多时更快\n",
    "from sklearn.naive_bayes import MultinomialNB"
   ]
  },
  {
   "cell_type": "markdown",
   "metadata": {},
   "source": [
    "在开始构建流水线之前，看一下响应列的空准确率（0是负面情绪，1是正面情绪）："
   ]
  },
  {
   "cell_type": "code",
   "execution_count": 25,
   "metadata": {},
   "outputs": [
    {
     "data": {
      "text/plain": [
       "1    0.564632\n",
       "0    0.435368\n",
       "Name: Sentiment, dtype: float64"
      ]
     },
     "execution_count": 25,
     "metadata": {},
     "output_type": "execute_result"
    }
   ],
   "source": [
    "y.value_counts(normalize=True)"
   ]
  },
  {
   "cell_type": "markdown",
   "metadata": {},
   "source": [
    "要让准确率超过56.5%。我们分两步创建流水线：\n",
    "\n",
    "- 用CountVectorizer将推文变成特征\n",
    "- 用朴素贝叶斯模型MultiNomialNB进行正负面情绪的分类\n",
    "\n",
    "首先设置流水线的参数，然后实例化网格搜索："
   ]
  },
  {
   "cell_type": "code",
   "execution_count": 28,
   "metadata": {},
   "outputs": [
    {
     "data": {
      "text/plain": [
       "(0.7558931564507154,\n",
       " {'cv__max_features': 10000,\n",
       "  'cv__ngram_range': (1, 2),\n",
       "  'cv__stop_words': None})"
      ]
     },
     "execution_count": 28,
     "metadata": {},
     "output_type": "execute_result"
    }
   ],
   "source": [
    "from sklearn.pipeline import Pipeline\n",
    "from sklearn.model_selection import GridSearchCV\n",
    "\n",
    "# 设置流水线参数\n",
    "pipe_params = {\n",
    "    'cv__ngram_range':[(1, 1), (1, 2)],\n",
    "    'cv__max_features': [1000, 10000],\n",
    "    'cv__stop_words': [None, 'english']\n",
    "}\n",
    "\n",
    "# 实例化流水线\n",
    "pipe = Pipeline([\n",
    "    ('cv', CountVectorizer()),\n",
    "    ('classify', MultinomialNB())\n",
    "])\n",
    "\n",
    "# 实例化网格搜索\n",
    "grid = GridSearchCV(pipe, pipe_params)\n",
    "# 拟合\n",
    "grid.fit(X, y)\n",
    "\n",
    "# 输出结果\n",
    "grid.best_score_, grid.best_params_"
   ]
  },
  {
   "cell_type": "markdown",
   "metadata": {},
   "source": [
    "结果是75.6%，很不错！现在进一步调优，加入TfidfVectorizer。这次我们尝试新的做法，比简单地利用TF-IDF建立流水线高级一些。scikit-learn有一个FeatureUnion模块，可以水平（并排）排列特征。这样，在一个流水线中可以使用多种类型的文本特征构建器："
   ]
  },
  {
   "cell_type": "code",
   "execution_count": null,
   "metadata": {},
   "outputs": [],
   "source": [
    "from sklearn.pipeline import FeatureUnion\n",
    "from sklearn.feature_extraction.text import TfidfVectorizer\n",
    "from sklearn.feature_extraction.text import CountVectorizer\n",
    "\n",
    "featurizer = FeatureUnion([\n",
    "    ('tfidf_vec', TfidfVectorizer()),\n",
    "    ('count_vec', CountVectorizer())\n",
    "])\n",
    "\n",
    "_ = featurizer.fit_transform(X)\n",
    "print(X.shape, '-->', _.shape)"
   ]
  },
  {
   "cell_type": "markdown",
   "metadata": {},
   "source": [
    "建立一个更完整的流水线，包括两个向量化器的特征结合："
   ]
  },
  {
   "cell_type": "raw",
   "metadata": {},
   "source": [
    "pipe_params = {\n",
    "    'featurizer__count_vec__ngram_range':[(1, 1), (1, 2)],\n",
    "    'featurizer__count_vec__max_features':[1000, 10000],\n",
    "    'featurizer__count_vec__stop_words':[None, 'english'],\n",
    "    'featurizer__tfidf_vec__ngram_range':[(1, 1), (1, 2)],\n",
    "    'featurizer__tfidf_vec__max_features':[1000, 10000],\n",
    "    'featurizer__tfidf_vec__stop_words':[None, 'english']\n",
    "}\n",
    "\n",
    "pipe = Pipeline([\n",
    "    ('featurizer', featurizer), \n",
    "    ('classify', MultinomialNB())\n",
    "])\n",
    "\n",
    "grid = GridSearchCV(pipe, pipe_params)\n",
    "grid.fit(X, y)\n",
    "grid.best_score_, grid.best_params_"
   ]
  },
  {
   "cell_type": "markdown",
   "metadata": {},
   "source": [
    "这段代码在大多数笔记本要跑几个小时，准确率比单独使用CountVectorizer好一些。\n",
    "\n",
    "至此，以下方法可以让流水线更加复杂：\n",
    "\n",
    "- 对向量化器的几十个参数使用网格搜索\n",
    "- 在流水线上添加步骤，例如多项式特征构造"
   ]
  },
  {
   "cell_type": "code",
   "execution_count": null,
   "metadata": {},
   "outputs": [],
   "source": []
  }
 ],
 "metadata": {
  "kernelspec": {
   "display_name": "Python 3",
   "language": "python",
   "name": "python3"
  },
  "language_info": {
   "codemirror_mode": {
    "name": "ipython",
    "version": 3
   },
   "file_extension": ".py",
   "mimetype": "text/x-python",
   "name": "python",
   "nbconvert_exporter": "python",
   "pygments_lexer": "ipython3",
   "version": "3.7.6"
  }
 },
 "nbformat": 4,
 "nbformat_minor": 4
}
