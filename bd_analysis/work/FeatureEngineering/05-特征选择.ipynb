{
 "cells": [
  {
   "cell_type": "markdown",
   "metadata": {},
   "source": [
    "# 特征选择：丢掉坏属性\n",
    "\n",
    "**特征选择**是从原始数据中**选择**对于预测流水线而言**最好**的特征的过程。更正式地说，给定n个特征，我们搜索其中包含K（k＜n）个特征的子集来改善机器学习流水线的性能。一般而言：**特征选择**尝试**剔除**数据中的**噪声**。\n",
    "\n",
    "这个定义包括两个需要解决的问题：\n",
    "\n",
    "- 如何找到k特征子集？\n",
    "- 在机器学习中，什么叫“更好”？\n",
    "\n",
    "特征选择的方法分为两大类：\n",
    "\n",
    "- 基于统计的特征选择\n",
    "- 基于模型的特征选择\n",
    "\n",
    "这种分类也许不能100%捕捉到特征选择在科学性和艺术性上的复杂程度，但是可以推动机器学习流水线输出真实、有效的结果。\n",
    "\n",
    "本章内容：\n",
    "\n",
    "- 在特征工程中实现更好的性能\n",
    "- 创建基准机器学习流水线\n",
    "- 特征选择的类型\n",
    "- 选用正确的特征选择方法"
   ]
  },
  {
   "cell_type": "markdown",
   "metadata": {},
   "source": [
    "## 5.1 在特征工程中实现更好的性能\n",
    "\n",
    "当讨论特征工程的方法时，需要对“更好”下定义。实际上，我们的目标是实现**更好的预测性能**，而且仅使用简单的指标进行测量，例如分类任务的**准确率**和回归任务的**均方根误差**。除此之外，还可以测量和跟踪其他指标，以评估预测的性能。例如，分类任务可以使用如下指标：\n",
    "\n",
    "- 真阳性率和假阳性率\n",
    "- 灵敏度（真阳性率）和特异性\n",
    "- 假阴性率和假阳性率。\n",
    "\n",
    "回归任务则可以使用：\n",
    "- 平均绝对误差\n",
    "- R方\n",
    "\n",
    "还有不直接于模型预测性能相关的**元指标**：\n",
    "\n",
    "- 模型拟合/训练所需的时间\n",
    "- 拟合后的模型预测新实例的时间\n",
    "- 需要持久化（永久保存）的数据大小\n",
    "\n",
    "为了跟踪这些指标，可以创建一个函数，通用到足以评估若干模型，同时精细到可以提供每个模型的指标，以完成一些任务：\n",
    "\n",
    "- 搜索所有给定的参数，优化机器学习流水线\n",
    "- 输出有助于评估流水线质量的指标\n",
    "\n",
    "该函数的定义如下："
   ]
  },
  {
   "cell_type": "code",
   "execution_count": 1,
   "metadata": {},
   "outputs": [],
   "source": [
    "# 导入网格搜索模块\n",
    "from sklearn.model_selection import GridSearchCV\n",
    "\n",
    "def get_best_model_and_accuracy(model, params, X, y):\n",
    "    grid = GridSearchCV(model, # 要搜索的模型\n",
    "                        params, # 要尝试的参数\n",
    "                        error_score=0.) # 如果报错，结果是0\n",
    "    \n",
    "    grid.fit(X, y) # 拟合模型和参数\n",
    "    # 经典的性能指标\n",
    "    print(\"最高准确率: {}\".format(grid.best_score_))\n",
    "    # 得到最佳准确率的最佳参数\n",
    "    print(\"最佳参数: {}\".format(grid.best_params_))\n",
    "    # 拟合的平均时间（秒）\n",
    "    print(\"拟合的平均时间(s):{}\"\n",
    "          .format(round(grid.cv_results_['mean_fit_time'].mean(), 3)))\n",
    "    # 预测的平均时间（秒）\n",
    "    # 从该指标可以看出模型在真实世界的性能\n",
    "    print(\"预测的平均时间(s):{}\"\n",
    "          .format(round(grid.cv_results_['mean_score_time'].mean(), 3)))"
   ]
  },
  {
   "cell_type": "markdown",
   "metadata": {},
   "source": [
    "这个函数的总体目标是给出一个基线数据，以便于评估每个特征选择方法，同时也更加标准化。\n",
    "\n",
    "### 案例分析：信用卡逾期数据集\n",
    "\n",
    "**特征选择算法**可以智能地从数据中提取最重要的信号并忽略噪声，达到以下两个结果：\n",
    "\n",
    "- **提升模型性能**：在删除冗余数据后，基于噪声和不相关数据做出错误决策的情况会减少，而且模型可以在重要的特征上练习，提高预测性能。\n",
    "- **减少训练和预测时间**：因为拟合的数据更少，所以模型一般在拟合和训练上有速度提升，让流水线的整体速度更快\n",
    "\n",
    "为了更好地理解噪声以及为什么噪声有副作用，这里介绍一个新的数据集：**[信用卡逾期数据集](http://archive.ics.uci.edu/ml/datasets/default+of+credit+card+clients)**。此数据集包含23个特征和一个响应变量。这个变量是一个布尔值，可以是True（真）或False（假）。\n",
    "\n",
    "我们的任务是：在23个特征中找出对机器学习流水线**有益**和**有害**的特征。\n",
    "\n",
    "首先，导入数据集："
   ]
  },
  {
   "cell_type": "code",
   "execution_count": 34,
   "metadata": {},
   "outputs": [
    {
     "data": {
      "text/plain": [
       "(30000, 24)"
      ]
     },
     "execution_count": 34,
     "metadata": {},
     "output_type": "execute_result"
    }
   ],
   "source": [
    "import pandas as pd\n",
    "import numpy as np\n",
    "# 用随机数种子保证随机数一致\n",
    "np.random.seed(123)\n",
    "credit_card = pd.read_csv('sample_data/credit_card_default.csv')\n",
    "credit_card.drop('ID', axis=1, inplace=True)\n",
    "credit_card.shape"
   ]
  },
  {
   "cell_type": "markdown",
   "metadata": {},
   "source": [
    "先进行基本的探索性数据分析。检查一下数据集的大小和描述性统计："
   ]
  },
  {
   "cell_type": "code",
   "execution_count": 35,
   "metadata": {},
   "outputs": [
    {
     "data": {
      "text/html": [
       "<div>\n",
       "<style scoped>\n",
       "    .dataframe tbody tr th:only-of-type {\n",
       "        vertical-align: middle;\n",
       "    }\n",
       "\n",
       "    .dataframe tbody tr th {\n",
       "        vertical-align: top;\n",
       "    }\n",
       "\n",
       "    .dataframe thead th {\n",
       "        text-align: right;\n",
       "    }\n",
       "</style>\n",
       "<table border=\"1\" class=\"dataframe\">\n",
       "  <thead>\n",
       "    <tr style=\"text-align: right;\">\n",
       "      <th></th>\n",
       "      <th>count</th>\n",
       "      <th>mean</th>\n",
       "      <th>std</th>\n",
       "      <th>min</th>\n",
       "      <th>25%</th>\n",
       "      <th>50%</th>\n",
       "      <th>75%</th>\n",
       "      <th>max</th>\n",
       "    </tr>\n",
       "  </thead>\n",
       "  <tbody>\n",
       "    <tr>\n",
       "      <th>LIMIT_BAL</th>\n",
       "      <td>30000.0</td>\n",
       "      <td>167484.322667</td>\n",
       "      <td>129747.661567</td>\n",
       "      <td>10000.0</td>\n",
       "      <td>50000.00</td>\n",
       "      <td>140000.0</td>\n",
       "      <td>240000.00</td>\n",
       "      <td>1000000.0</td>\n",
       "    </tr>\n",
       "    <tr>\n",
       "      <th>SEX</th>\n",
       "      <td>30000.0</td>\n",
       "      <td>1.603733</td>\n",
       "      <td>0.489129</td>\n",
       "      <td>1.0</td>\n",
       "      <td>1.00</td>\n",
       "      <td>2.0</td>\n",
       "      <td>2.00</td>\n",
       "      <td>2.0</td>\n",
       "    </tr>\n",
       "    <tr>\n",
       "      <th>EDUCATION</th>\n",
       "      <td>30000.0</td>\n",
       "      <td>1.853133</td>\n",
       "      <td>0.790349</td>\n",
       "      <td>0.0</td>\n",
       "      <td>1.00</td>\n",
       "      <td>2.0</td>\n",
       "      <td>2.00</td>\n",
       "      <td>6.0</td>\n",
       "    </tr>\n",
       "    <tr>\n",
       "      <th>MARRIAGE</th>\n",
       "      <td>30000.0</td>\n",
       "      <td>1.551867</td>\n",
       "      <td>0.521970</td>\n",
       "      <td>0.0</td>\n",
       "      <td>1.00</td>\n",
       "      <td>2.0</td>\n",
       "      <td>2.00</td>\n",
       "      <td>3.0</td>\n",
       "    </tr>\n",
       "    <tr>\n",
       "      <th>AGE</th>\n",
       "      <td>30000.0</td>\n",
       "      <td>35.485500</td>\n",
       "      <td>9.217904</td>\n",
       "      <td>21.0</td>\n",
       "      <td>28.00</td>\n",
       "      <td>34.0</td>\n",
       "      <td>41.00</td>\n",
       "      <td>79.0</td>\n",
       "    </tr>\n",
       "    <tr>\n",
       "      <th>PAY_1</th>\n",
       "      <td>30000.0</td>\n",
       "      <td>-0.016700</td>\n",
       "      <td>1.123802</td>\n",
       "      <td>-2.0</td>\n",
       "      <td>-1.00</td>\n",
       "      <td>0.0</td>\n",
       "      <td>0.00</td>\n",
       "      <td>8.0</td>\n",
       "    </tr>\n",
       "    <tr>\n",
       "      <th>PAY_2</th>\n",
       "      <td>30000.0</td>\n",
       "      <td>-0.133767</td>\n",
       "      <td>1.197186</td>\n",
       "      <td>-2.0</td>\n",
       "      <td>-1.00</td>\n",
       "      <td>0.0</td>\n",
       "      <td>0.00</td>\n",
       "      <td>8.0</td>\n",
       "    </tr>\n",
       "    <tr>\n",
       "      <th>PAY_3</th>\n",
       "      <td>30000.0</td>\n",
       "      <td>-0.166200</td>\n",
       "      <td>1.196868</td>\n",
       "      <td>-2.0</td>\n",
       "      <td>-1.00</td>\n",
       "      <td>0.0</td>\n",
       "      <td>0.00</td>\n",
       "      <td>8.0</td>\n",
       "    </tr>\n",
       "    <tr>\n",
       "      <th>PAY_4</th>\n",
       "      <td>30000.0</td>\n",
       "      <td>-0.220667</td>\n",
       "      <td>1.169139</td>\n",
       "      <td>-2.0</td>\n",
       "      <td>-1.00</td>\n",
       "      <td>0.0</td>\n",
       "      <td>0.00</td>\n",
       "      <td>8.0</td>\n",
       "    </tr>\n",
       "    <tr>\n",
       "      <th>PAY_5</th>\n",
       "      <td>30000.0</td>\n",
       "      <td>-0.266200</td>\n",
       "      <td>1.133187</td>\n",
       "      <td>-2.0</td>\n",
       "      <td>-1.00</td>\n",
       "      <td>0.0</td>\n",
       "      <td>0.00</td>\n",
       "      <td>8.0</td>\n",
       "    </tr>\n",
       "    <tr>\n",
       "      <th>PAY_6</th>\n",
       "      <td>30000.0</td>\n",
       "      <td>-0.291100</td>\n",
       "      <td>1.149988</td>\n",
       "      <td>-2.0</td>\n",
       "      <td>-1.00</td>\n",
       "      <td>0.0</td>\n",
       "      <td>0.00</td>\n",
       "      <td>8.0</td>\n",
       "    </tr>\n",
       "    <tr>\n",
       "      <th>BILL_AMT1</th>\n",
       "      <td>30000.0</td>\n",
       "      <td>51223.330900</td>\n",
       "      <td>73635.860576</td>\n",
       "      <td>-165580.0</td>\n",
       "      <td>3558.75</td>\n",
       "      <td>22381.5</td>\n",
       "      <td>67091.00</td>\n",
       "      <td>964511.0</td>\n",
       "    </tr>\n",
       "    <tr>\n",
       "      <th>BILL_AMT2</th>\n",
       "      <td>30000.0</td>\n",
       "      <td>49179.075167</td>\n",
       "      <td>71173.768783</td>\n",
       "      <td>-69777.0</td>\n",
       "      <td>2984.75</td>\n",
       "      <td>21200.0</td>\n",
       "      <td>64006.25</td>\n",
       "      <td>983931.0</td>\n",
       "    </tr>\n",
       "    <tr>\n",
       "      <th>BILL_AMT3</th>\n",
       "      <td>30000.0</td>\n",
       "      <td>47013.154800</td>\n",
       "      <td>69349.387427</td>\n",
       "      <td>-157264.0</td>\n",
       "      <td>2666.25</td>\n",
       "      <td>20088.5</td>\n",
       "      <td>60164.75</td>\n",
       "      <td>1664089.0</td>\n",
       "    </tr>\n",
       "    <tr>\n",
       "      <th>BILL_AMT4</th>\n",
       "      <td>30000.0</td>\n",
       "      <td>43262.948967</td>\n",
       "      <td>64332.856134</td>\n",
       "      <td>-170000.0</td>\n",
       "      <td>2326.75</td>\n",
       "      <td>19052.0</td>\n",
       "      <td>54506.00</td>\n",
       "      <td>891586.0</td>\n",
       "    </tr>\n",
       "    <tr>\n",
       "      <th>BILL_AMT5</th>\n",
       "      <td>30000.0</td>\n",
       "      <td>40311.400967</td>\n",
       "      <td>60797.155770</td>\n",
       "      <td>-81334.0</td>\n",
       "      <td>1763.00</td>\n",
       "      <td>18104.5</td>\n",
       "      <td>50190.50</td>\n",
       "      <td>927171.0</td>\n",
       "    </tr>\n",
       "    <tr>\n",
       "      <th>BILL_AMT6</th>\n",
       "      <td>30000.0</td>\n",
       "      <td>38871.760400</td>\n",
       "      <td>59554.107537</td>\n",
       "      <td>-339603.0</td>\n",
       "      <td>1256.00</td>\n",
       "      <td>17071.0</td>\n",
       "      <td>49198.25</td>\n",
       "      <td>961664.0</td>\n",
       "    </tr>\n",
       "    <tr>\n",
       "      <th>PAY_AMT1</th>\n",
       "      <td>30000.0</td>\n",
       "      <td>5663.580500</td>\n",
       "      <td>16563.280354</td>\n",
       "      <td>0.0</td>\n",
       "      <td>1000.00</td>\n",
       "      <td>2100.0</td>\n",
       "      <td>5006.00</td>\n",
       "      <td>873552.0</td>\n",
       "    </tr>\n",
       "    <tr>\n",
       "      <th>PAY_AMT2</th>\n",
       "      <td>30000.0</td>\n",
       "      <td>5921.163500</td>\n",
       "      <td>23040.870402</td>\n",
       "      <td>0.0</td>\n",
       "      <td>833.00</td>\n",
       "      <td>2009.0</td>\n",
       "      <td>5000.00</td>\n",
       "      <td>1684259.0</td>\n",
       "    </tr>\n",
       "    <tr>\n",
       "      <th>PAY_AMT3</th>\n",
       "      <td>30000.0</td>\n",
       "      <td>5225.681500</td>\n",
       "      <td>17606.961470</td>\n",
       "      <td>0.0</td>\n",
       "      <td>390.00</td>\n",
       "      <td>1800.0</td>\n",
       "      <td>4505.00</td>\n",
       "      <td>896040.0</td>\n",
       "    </tr>\n",
       "    <tr>\n",
       "      <th>PAY_AMT4</th>\n",
       "      <td>30000.0</td>\n",
       "      <td>4826.076867</td>\n",
       "      <td>15666.159744</td>\n",
       "      <td>0.0</td>\n",
       "      <td>296.00</td>\n",
       "      <td>1500.0</td>\n",
       "      <td>4013.25</td>\n",
       "      <td>621000.0</td>\n",
       "    </tr>\n",
       "    <tr>\n",
       "      <th>PAY_AMT5</th>\n",
       "      <td>30000.0</td>\n",
       "      <td>4799.387633</td>\n",
       "      <td>15278.305679</td>\n",
       "      <td>0.0</td>\n",
       "      <td>252.50</td>\n",
       "      <td>1500.0</td>\n",
       "      <td>4031.50</td>\n",
       "      <td>426529.0</td>\n",
       "    </tr>\n",
       "    <tr>\n",
       "      <th>PAY_AMT6</th>\n",
       "      <td>30000.0</td>\n",
       "      <td>5215.502567</td>\n",
       "      <td>17777.465775</td>\n",
       "      <td>0.0</td>\n",
       "      <td>117.75</td>\n",
       "      <td>1500.0</td>\n",
       "      <td>4000.00</td>\n",
       "      <td>528666.0</td>\n",
       "    </tr>\n",
       "    <tr>\n",
       "      <th>dpnm</th>\n",
       "      <td>30000.0</td>\n",
       "      <td>0.221200</td>\n",
       "      <td>0.415062</td>\n",
       "      <td>0.0</td>\n",
       "      <td>0.00</td>\n",
       "      <td>0.0</td>\n",
       "      <td>0.00</td>\n",
       "      <td>1.0</td>\n",
       "    </tr>\n",
       "  </tbody>\n",
       "</table>\n",
       "</div>"
      ],
      "text/plain": [
       "             count           mean            std       min       25%  \\\n",
       "LIMIT_BAL  30000.0  167484.322667  129747.661567   10000.0  50000.00   \n",
       "SEX        30000.0       1.603733       0.489129       1.0      1.00   \n",
       "EDUCATION  30000.0       1.853133       0.790349       0.0      1.00   \n",
       "MARRIAGE   30000.0       1.551867       0.521970       0.0      1.00   \n",
       "AGE        30000.0      35.485500       9.217904      21.0     28.00   \n",
       "PAY_1      30000.0      -0.016700       1.123802      -2.0     -1.00   \n",
       "PAY_2      30000.0      -0.133767       1.197186      -2.0     -1.00   \n",
       "PAY_3      30000.0      -0.166200       1.196868      -2.0     -1.00   \n",
       "PAY_4      30000.0      -0.220667       1.169139      -2.0     -1.00   \n",
       "PAY_5      30000.0      -0.266200       1.133187      -2.0     -1.00   \n",
       "PAY_6      30000.0      -0.291100       1.149988      -2.0     -1.00   \n",
       "BILL_AMT1  30000.0   51223.330900   73635.860576 -165580.0   3558.75   \n",
       "BILL_AMT2  30000.0   49179.075167   71173.768783  -69777.0   2984.75   \n",
       "BILL_AMT3  30000.0   47013.154800   69349.387427 -157264.0   2666.25   \n",
       "BILL_AMT4  30000.0   43262.948967   64332.856134 -170000.0   2326.75   \n",
       "BILL_AMT5  30000.0   40311.400967   60797.155770  -81334.0   1763.00   \n",
       "BILL_AMT6  30000.0   38871.760400   59554.107537 -339603.0   1256.00   \n",
       "PAY_AMT1   30000.0    5663.580500   16563.280354       0.0   1000.00   \n",
       "PAY_AMT2   30000.0    5921.163500   23040.870402       0.0    833.00   \n",
       "PAY_AMT3   30000.0    5225.681500   17606.961470       0.0    390.00   \n",
       "PAY_AMT4   30000.0    4826.076867   15666.159744       0.0    296.00   \n",
       "PAY_AMT5   30000.0    4799.387633   15278.305679       0.0    252.50   \n",
       "PAY_AMT6   30000.0    5215.502567   17777.465775       0.0    117.75   \n",
       "dpnm       30000.0       0.221200       0.415062       0.0      0.00   \n",
       "\n",
       "                50%        75%        max  \n",
       "LIMIT_BAL  140000.0  240000.00  1000000.0  \n",
       "SEX             2.0       2.00        2.0  \n",
       "EDUCATION       2.0       2.00        6.0  \n",
       "MARRIAGE        2.0       2.00        3.0  \n",
       "AGE            34.0      41.00       79.0  \n",
       "PAY_1           0.0       0.00        8.0  \n",
       "PAY_2           0.0       0.00        8.0  \n",
       "PAY_3           0.0       0.00        8.0  \n",
       "PAY_4           0.0       0.00        8.0  \n",
       "PAY_5           0.0       0.00        8.0  \n",
       "PAY_6           0.0       0.00        8.0  \n",
       "BILL_AMT1   22381.5   67091.00   964511.0  \n",
       "BILL_AMT2   21200.0   64006.25   983931.0  \n",
       "BILL_AMT3   20088.5   60164.75  1664089.0  \n",
       "BILL_AMT4   19052.0   54506.00   891586.0  \n",
       "BILL_AMT5   18104.5   50190.50   927171.0  \n",
       "BILL_AMT6   17071.0   49198.25   961664.0  \n",
       "PAY_AMT1     2100.0    5006.00   873552.0  \n",
       "PAY_AMT2     2009.0    5000.00  1684259.0  \n",
       "PAY_AMT3     1800.0    4505.00   896040.0  \n",
       "PAY_AMT4     1500.0    4013.25   621000.0  \n",
       "PAY_AMT5     1500.0    4031.50   426529.0  \n",
       "PAY_AMT6     1500.0    4000.00   528666.0  \n",
       "dpnm            0.0       0.00        1.0  "
      ]
     },
     "execution_count": 35,
     "metadata": {},
     "output_type": "execute_result"
    }
   ],
   "source": [
    "credit_card.describe().T"
   ]
  },
  {
   "cell_type": "markdown",
   "metadata": {},
   "source": [
    "其中，dpnm(default payment next month，下个月逾期）是响应，其他都是特征。很明显，特征的尺度迥异，这是选择数据处理方法和模型时需要考虑的问题。可以使用StandardScalar和归一化解决了这些问题，这里暂时忽略这些问题，以便集中处理更相关的问题。\n",
    "\n",
    "先快速检查一下，确保不存在缺失值问题："
   ]
  },
  {
   "cell_type": "code",
   "execution_count": 36,
   "metadata": {},
   "outputs": [
    {
     "data": {
      "text/plain": [
       "LIMIT_BAL    0\n",
       "SEX          0\n",
       "EDUCATION    0\n",
       "MARRIAGE     0\n",
       "AGE          0\n",
       "PAY_1        0\n",
       "PAY_2        0\n",
       "PAY_3        0\n",
       "PAY_4        0\n",
       "PAY_5        0\n",
       "PAY_6        0\n",
       "BILL_AMT1    0\n",
       "BILL_AMT2    0\n",
       "BILL_AMT3    0\n",
       "BILL_AMT4    0\n",
       "BILL_AMT5    0\n",
       "BILL_AMT6    0\n",
       "PAY_AMT1     0\n",
       "PAY_AMT2     0\n",
       "PAY_AMT3     0\n",
       "PAY_AMT4     0\n",
       "PAY_AMT5     0\n",
       "PAY_AMT6     0\n",
       "dpnm         0\n",
       "dtype: int64"
      ]
     },
     "execution_count": 36,
     "metadata": {},
     "output_type": "execute_result"
    }
   ],
   "source": [
    "credit_card.isnull().sum()"
   ]
  },
  {
   "cell_type": "markdown",
   "metadata": {},
   "source": [
    "太好了，没有缺失值。接下来为机器学习流水线设置变量："
   ]
  },
  {
   "cell_type": "code",
   "execution_count": 37,
   "metadata": {},
   "outputs": [
    {
     "data": {
      "text/plain": [
       "(30000, 23)"
      ]
     },
     "execution_count": 37,
     "metadata": {},
     "output_type": "execute_result"
    }
   ],
   "source": [
    "# 特征矩阵\n",
    "X = credit_card.drop(['dpnm'], axis=1)\n",
    "# 响应变量\n",
    "y = credit_card['dpnm']\n",
    "X.shape"
   ]
  },
  {
   "cell_type": "code",
   "execution_count": 38,
   "metadata": {},
   "outputs": [
    {
     "data": {
      "text/plain": [
       "0    0.7788\n",
       "1    0.2212\n",
       "Name: dpnm, dtype: float64"
      ]
     },
     "execution_count": 38,
     "metadata": {},
     "output_type": "execute_result"
    }
   ],
   "source": [
    "# 空准确率\n",
    "y.value_counts(normalize=True)"
   ]
  },
  {
   "cell_type": "markdown",
   "metadata": {},
   "source": [
    "本例需要击败77.88%这个准确率，也就是没有逾期者的比例（0代表没有逾期）。"
   ]
  },
  {
   "cell_type": "markdown",
   "metadata": {},
   "source": [
    "## 5.2 创建基准机器学习流水线\n",
    "\n",
    "本章的目标是寻找最符合我们需求的机器学习模型，然后通过特征选择来增强模型。先导入4种模型： \n",
    "\n",
    "- 逻辑回归\n",
    "- K最近邻（KNN）\n",
    "- 决策树\n",
    "- 随机森林\n",
    "\n",
    "然后后执行get_best_model_and_accuracy函数，取得每个模型处理原始数据的基准。代码如下："
   ]
  },
  {
   "cell_type": "code",
   "execution_count": 39,
   "metadata": {},
   "outputs": [
    {
     "name": "stdout",
     "output_type": "stream",
     "text": [
      "******************** 逻辑回归 ********************\n",
      "最高准确率: 0.8099333333333334\n",
      "最佳参数: {'C': 100.0, 'penalty': 'l1', 'solver': 'liblinear'}\n",
      "拟合的平均时间(s):0.828\n",
      "预测的平均时间(s):0.003\n",
      "******************** K最近邻 ********************\n",
      "最高准确率: 0.7617333333333333\n",
      "最佳参数: {'n_neighbors': 7}\n",
      "拟合的平均时间(s):0.099\n",
      "预测的平均时间(s):0.993\n"
     ]
    }
   ],
   "source": [
    "# 导入4 种模型\n",
    "from sklearn.linear_model import LogisticRegression\n",
    "from sklearn.neighbors import KNeighborsClassifier\n",
    "from sklearn.tree import DecisionTreeClassifier\n",
    "from sklearn.ensemble import RandomForestClassifier\n",
    "# 忽略警告\n",
    "import warnings\n",
    "warnings.filterwarnings(\"ignore\")\n",
    "\n",
    "# 为网格搜索设置变量\n",
    "# 先设置机器学习模型的参数\n",
    "\n",
    "# 逻辑回归\n",
    "lr_params = {\n",
    "    'C': [1e-1, 1e0, 1e1, 1e2],\n",
    "    'solver': ['liblinear'],\n",
    "    'penalty': ['l1', 'l2']\n",
    "}\n",
    "\n",
    "# KNN\n",
    "knn_params = {\n",
    "    'n_neighbors': [1, 3, 5, 7]\n",
    "}\n",
    "\n",
    "# 决策树\n",
    "dt_params = {\n",
    "    'max_depth':[None, 1, 3, 5, 7]\n",
    "}\n",
    "\n",
    "# 随机森林\n",
    "rf_params = {\n",
    "    'n_estimators': [10, 50, 100], \n",
    "    'max_depth': [None, 1, 3, 5, 7]\n",
    "}\n",
    "\n",
    "# 实例花机器学习模型\n",
    "lr = LogisticRegression()\n",
    "knn = KNeighborsClassifier()\n",
    "dt = DecisionTreeClassifier()\n",
    "rf = RandomForestClassifier()\n",
    "\n",
    "# 在所以模型上运行评估函数，了解各个模型的好坏：\n",
    "print('*' * 20, '逻辑回归', '*' * 20)\n",
    "get_best_model_and_accuracy(lr, lr_params, X, y)\n",
    "print('*' * 20, 'K最近邻', '*' * 20)\n",
    "get_best_model_and_accuracy(knn, knn_params, X, y)"
   ]
  },
  {
   "cell_type": "markdown",
   "metadata": {},
   "source": [
    "可见，逻辑回归只用原始数据就打败了空准确率(77.88%)，KNN在拟合时间上表现得更好，但其准确率甚至不如空准确率，原因是：KNN是按照欧几里得距离进行预测的，在非标准数据上可能会失效，但是其他3个算法不会受此影响。因此对于KNN，需要更复杂的流水线，以更准确地评估基准性能："
   ]
  },
  {
   "cell_type": "code",
   "execution_count": 49,
   "metadata": {},
   "outputs": [
    {
     "name": "stdout",
     "output_type": "stream",
     "text": [
      "******************** K最近邻(标准化) ********************\n",
      "最高准确率: 0.7993333333333333\n",
      "最佳参数: {'classifier__n_neighbors': 7}\n",
      "拟合的平均时间(s):0.111\n",
      "预测的平均时间(s):7.428\n"
     ]
    }
   ],
   "source": [
    "# 导入所需的包\n",
    "from sklearn.pipeline import Pipeline\n",
    "from sklearn.preprocessing import StandardScaler\n",
    "# 为流水线设置KNN参数\n",
    "knn_pipe_params = {'classifier__{}'\n",
    "                   .format(k): v for k, v in knn_params.items()}\n",
    "# KNN需要标准化的参数\n",
    "knn_pipe = Pipeline([('scale', StandardScaler()), ('classifier', knn)])\n",
    "# 拟合快，预测慢\n",
    "print('*' * 20, 'K最近邻(标准化)', '*' * 20)\n",
    "get_best_model_and_accuracy(knn_pipe, knn_pipe_params, X, y)"
   ]
  },
  {
   "cell_type": "markdown",
   "metadata": {},
   "source": [
    "在用StandardScalar进行z分数标准化处理后，这个流水线的准确率（79.93%）至少比空准确率（77.88%）要高，但是这也严重影响了预测时间，因为多了一个预处理步骤。目前，逻辑回归依然领先：准确率（80.99%）更高，速度更快。\n",
    "\n",
    "下面继续讨论两个基于树的模型，从更简单的决策树开始："
   ]
  },
  {
   "cell_type": "code",
   "execution_count": 50,
   "metadata": {},
   "outputs": [
    {
     "name": "stdout",
     "output_type": "stream",
     "text": [
      "******************** 决策树 ********************\n",
      "最高准确率: 0.8206333333333333\n",
      "最佳参数: {'max_depth': 3}\n",
      "拟合的平均时间(s):0.244\n",
      "预测的平均时间(s):0.003\n"
     ]
    }
   ],
   "source": [
    "print('*' * 20, '决策树', '*' * 20)\n",
    "get_best_model_and_accuracy(dt, dt_params, X, y)"
   ]
  },
  {
   "cell_type": "markdown",
   "metadata": {},
   "source": [
    "现在决策树的准确率（82.06%）是第一，而且拟合和预测的速度也很快。实际上，决策树的拟合速度比逻辑回归快，预测速度比KNN快。最后测试一下随机森林："
   ]
  },
  {
   "cell_type": "code",
   "execution_count": 51,
   "metadata": {},
   "outputs": [
    {
     "name": "stdout",
     "output_type": "stream",
     "text": [
      "******************** 随机森林 ********************\n",
      "最高准确率: 0.8208000000000002\n",
      "最佳参数: {'max_depth': 7, 'n_estimators': 100}\n",
      "拟合的平均时间(s):1.732\n",
      "预测的平均时间(s):0.045\n"
     ]
    }
   ],
   "source": [
    "print('*' * 20, '随机森林', '*' * 20)\n",
    "get_best_model_and_accuracy(rf, rf_params, X, y)"
   ]
  },
  {
   "cell_type": "markdown",
   "metadata": {},
   "source": [
    "随机森林的准确率（82.08%）比逻辑回归和KNN都好，比决策树稍好。汇总一下结果，看看应该使用哪个模型：\n",
    "\n",
    "| 模  型 | 准确率（%） | 拟合时间（s） | 预测时间（s） |\n",
    "| :--  | :--: | :--: | :--: |\n",
    "| 逻辑回归  | 80.99% | 0.828 | 0.003 |\n",
    "| KNN（标准化） | 79.93% | 0.111 | 7.428 |\n",
    "| 决策树 | 82.06% | 0.224 | 0.003 |\n",
    "| 随机森林 | 82.08% | 1.732 | 0.045 |"
   ]
  },
  {
   "cell_type": "markdown",
   "metadata": {},
   "source": [
    "决策树的准确率略低于随机森林，但预测时间和逻辑回归并列第一，而带缩放的KNN拟合最快.总体而言，决策树应该是最适合下一步采用的模型，因为它在两个最重要的指标上领先：\n",
    "\n",
    "- 最高的准确率，保证预测的准确性\n",
    "- 考虑到实时生产环境，预测时间低大有裨益\n",
    "\n",
    "既然要使用决策树，那么：\n",
    "\n",
    "- 要击败的新基线准确率是82.06%，即拟合整个数据集的准确率\n",
    "- 不再需要StandardScaler了，因为决策树不受其影响"
   ]
  },
  {
   "cell_type": "markdown",
   "metadata": {},
   "source": [
    "## 5.3 特征选择的类型\n",
    "\n",
    "选择特征是为了提高预测能力，降低时间成本。因此这里介绍两种类型：\n",
    "\n",
    "- 基于统计的特征选择：依赖于机器学习模型之外的统计测试，以便在流水线的训练阶段选择特征\n",
    "- 基于模型的特征选择：依赖于一个预处理步骤，需要训练一个辅助的机器学习模型，并利用其预测能力来选择特征\n",
    "\n",
    "这两种类型都试图从原始特征中选择一个子集，减少数据大小，只留下预测能力最高的特征。\n",
    "\n",
    "首先，我们研究如何依靠**统计测试**从数据集中选择可行的特征。\n",
    "\n",
    "### 基于统计的特征选择\n",
    "\n",
    "通过统计数据，可以快速、简便地解释定量和定性数据。均值和标准差是计算z分数和数据缩放的指标。本章会使用两个新概念帮我们选择特征：\n",
    "\n",
    "- 皮尔逊相关系数（Pearson correlations）\n",
    "- 假设检验\n",
    "\n",
    "#### 1.使用皮尔逊相关系数\n",
    "\n",
    "先看一下相关系统："
   ]
  },
  {
   "cell_type": "code",
   "execution_count": 40,
   "metadata": {},
   "outputs": [
    {
     "data": {
      "text/html": [
       "<div>\n",
       "<style scoped>\n",
       "    .dataframe tbody tr th:only-of-type {\n",
       "        vertical-align: middle;\n",
       "    }\n",
       "\n",
       "    .dataframe tbody tr th {\n",
       "        vertical-align: top;\n",
       "    }\n",
       "\n",
       "    .dataframe thead th {\n",
       "        text-align: right;\n",
       "    }\n",
       "</style>\n",
       "<table border=\"1\" class=\"dataframe\">\n",
       "  <thead>\n",
       "    <tr style=\"text-align: right;\">\n",
       "      <th></th>\n",
       "      <th>LIMIT_BAL</th>\n",
       "      <th>SEX</th>\n",
       "      <th>EDUCATION</th>\n",
       "      <th>MARRIAGE</th>\n",
       "      <th>AGE</th>\n",
       "      <th>PAY_1</th>\n",
       "      <th>PAY_2</th>\n",
       "      <th>PAY_3</th>\n",
       "      <th>PAY_4</th>\n",
       "      <th>PAY_5</th>\n",
       "      <th>...</th>\n",
       "      <th>BILL_AMT4</th>\n",
       "      <th>BILL_AMT5</th>\n",
       "      <th>BILL_AMT6</th>\n",
       "      <th>PAY_AMT1</th>\n",
       "      <th>PAY_AMT2</th>\n",
       "      <th>PAY_AMT3</th>\n",
       "      <th>PAY_AMT4</th>\n",
       "      <th>PAY_AMT5</th>\n",
       "      <th>PAY_AMT6</th>\n",
       "      <th>dpnm</th>\n",
       "    </tr>\n",
       "  </thead>\n",
       "  <tbody>\n",
       "    <tr>\n",
       "      <th>LIMIT_BAL</th>\n",
       "      <td>1.000000</td>\n",
       "      <td>0.024755</td>\n",
       "      <td>-0.219161</td>\n",
       "      <td>-0.108139</td>\n",
       "      <td>0.144713</td>\n",
       "      <td>-0.271214</td>\n",
       "      <td>-0.296382</td>\n",
       "      <td>-0.286123</td>\n",
       "      <td>-0.267460</td>\n",
       "      <td>-0.249411</td>\n",
       "      <td>...</td>\n",
       "      <td>0.293988</td>\n",
       "      <td>0.295562</td>\n",
       "      <td>0.290389</td>\n",
       "      <td>0.195236</td>\n",
       "      <td>0.178408</td>\n",
       "      <td>0.210167</td>\n",
       "      <td>0.203242</td>\n",
       "      <td>0.217202</td>\n",
       "      <td>0.219595</td>\n",
       "      <td>-0.153520</td>\n",
       "    </tr>\n",
       "    <tr>\n",
       "      <th>SEX</th>\n",
       "      <td>0.024755</td>\n",
       "      <td>1.000000</td>\n",
       "      <td>0.014232</td>\n",
       "      <td>-0.031389</td>\n",
       "      <td>-0.090874</td>\n",
       "      <td>-0.057643</td>\n",
       "      <td>-0.070771</td>\n",
       "      <td>-0.066096</td>\n",
       "      <td>-0.060173</td>\n",
       "      <td>-0.055064</td>\n",
       "      <td>...</td>\n",
       "      <td>-0.021880</td>\n",
       "      <td>-0.017005</td>\n",
       "      <td>-0.016733</td>\n",
       "      <td>-0.000242</td>\n",
       "      <td>-0.001391</td>\n",
       "      <td>-0.008597</td>\n",
       "      <td>-0.002229</td>\n",
       "      <td>-0.001667</td>\n",
       "      <td>-0.002766</td>\n",
       "      <td>-0.039961</td>\n",
       "    </tr>\n",
       "    <tr>\n",
       "      <th>EDUCATION</th>\n",
       "      <td>-0.219161</td>\n",
       "      <td>0.014232</td>\n",
       "      <td>1.000000</td>\n",
       "      <td>-0.143464</td>\n",
       "      <td>0.175061</td>\n",
       "      <td>0.105364</td>\n",
       "      <td>0.121566</td>\n",
       "      <td>0.114025</td>\n",
       "      <td>0.108793</td>\n",
       "      <td>0.097520</td>\n",
       "      <td>...</td>\n",
       "      <td>-0.000451</td>\n",
       "      <td>-0.007567</td>\n",
       "      <td>-0.009099</td>\n",
       "      <td>-0.037456</td>\n",
       "      <td>-0.030038</td>\n",
       "      <td>-0.039943</td>\n",
       "      <td>-0.038218</td>\n",
       "      <td>-0.040358</td>\n",
       "      <td>-0.037200</td>\n",
       "      <td>0.028006</td>\n",
       "    </tr>\n",
       "    <tr>\n",
       "      <th>MARRIAGE</th>\n",
       "      <td>-0.108139</td>\n",
       "      <td>-0.031389</td>\n",
       "      <td>-0.143464</td>\n",
       "      <td>1.000000</td>\n",
       "      <td>-0.414170</td>\n",
       "      <td>0.019917</td>\n",
       "      <td>0.024199</td>\n",
       "      <td>0.032688</td>\n",
       "      <td>0.033122</td>\n",
       "      <td>0.035629</td>\n",
       "      <td>...</td>\n",
       "      <td>-0.023344</td>\n",
       "      <td>-0.025393</td>\n",
       "      <td>-0.021207</td>\n",
       "      <td>-0.005979</td>\n",
       "      <td>-0.008093</td>\n",
       "      <td>-0.003541</td>\n",
       "      <td>-0.012659</td>\n",
       "      <td>-0.001205</td>\n",
       "      <td>-0.006641</td>\n",
       "      <td>-0.024339</td>\n",
       "    </tr>\n",
       "    <tr>\n",
       "      <th>AGE</th>\n",
       "      <td>0.144713</td>\n",
       "      <td>-0.090874</td>\n",
       "      <td>0.175061</td>\n",
       "      <td>-0.414170</td>\n",
       "      <td>1.000000</td>\n",
       "      <td>-0.039447</td>\n",
       "      <td>-0.050148</td>\n",
       "      <td>-0.053048</td>\n",
       "      <td>-0.049722</td>\n",
       "      <td>-0.053826</td>\n",
       "      <td>...</td>\n",
       "      <td>0.051353</td>\n",
       "      <td>0.049345</td>\n",
       "      <td>0.047613</td>\n",
       "      <td>0.026147</td>\n",
       "      <td>0.021785</td>\n",
       "      <td>0.029247</td>\n",
       "      <td>0.021379</td>\n",
       "      <td>0.022850</td>\n",
       "      <td>0.019478</td>\n",
       "      <td>0.013890</td>\n",
       "    </tr>\n",
       "    <tr>\n",
       "      <th>PAY_1</th>\n",
       "      <td>-0.271214</td>\n",
       "      <td>-0.057643</td>\n",
       "      <td>0.105364</td>\n",
       "      <td>0.019917</td>\n",
       "      <td>-0.039447</td>\n",
       "      <td>1.000000</td>\n",
       "      <td>0.672164</td>\n",
       "      <td>0.574245</td>\n",
       "      <td>0.538841</td>\n",
       "      <td>0.509426</td>\n",
       "      <td>...</td>\n",
       "      <td>0.179125</td>\n",
       "      <td>0.180635</td>\n",
       "      <td>0.176980</td>\n",
       "      <td>-0.079269</td>\n",
       "      <td>-0.070101</td>\n",
       "      <td>-0.070561</td>\n",
       "      <td>-0.064005</td>\n",
       "      <td>-0.058190</td>\n",
       "      <td>-0.058673</td>\n",
       "      <td>0.324794</td>\n",
       "    </tr>\n",
       "    <tr>\n",
       "      <th>PAY_2</th>\n",
       "      <td>-0.296382</td>\n",
       "      <td>-0.070771</td>\n",
       "      <td>0.121566</td>\n",
       "      <td>0.024199</td>\n",
       "      <td>-0.050148</td>\n",
       "      <td>0.672164</td>\n",
       "      <td>1.000000</td>\n",
       "      <td>0.766552</td>\n",
       "      <td>0.662067</td>\n",
       "      <td>0.622780</td>\n",
       "      <td>...</td>\n",
       "      <td>0.222237</td>\n",
       "      <td>0.221348</td>\n",
       "      <td>0.219403</td>\n",
       "      <td>-0.080701</td>\n",
       "      <td>-0.058990</td>\n",
       "      <td>-0.055901</td>\n",
       "      <td>-0.046858</td>\n",
       "      <td>-0.037093</td>\n",
       "      <td>-0.036500</td>\n",
       "      <td>0.263551</td>\n",
       "    </tr>\n",
       "    <tr>\n",
       "      <th>PAY_3</th>\n",
       "      <td>-0.286123</td>\n",
       "      <td>-0.066096</td>\n",
       "      <td>0.114025</td>\n",
       "      <td>0.032688</td>\n",
       "      <td>-0.053048</td>\n",
       "      <td>0.574245</td>\n",
       "      <td>0.766552</td>\n",
       "      <td>1.000000</td>\n",
       "      <td>0.777359</td>\n",
       "      <td>0.686775</td>\n",
       "      <td>...</td>\n",
       "      <td>0.227202</td>\n",
       "      <td>0.225145</td>\n",
       "      <td>0.222327</td>\n",
       "      <td>0.001295</td>\n",
       "      <td>-0.066793</td>\n",
       "      <td>-0.053311</td>\n",
       "      <td>-0.046067</td>\n",
       "      <td>-0.035863</td>\n",
       "      <td>-0.035861</td>\n",
       "      <td>0.235253</td>\n",
       "    </tr>\n",
       "    <tr>\n",
       "      <th>PAY_4</th>\n",
       "      <td>-0.267460</td>\n",
       "      <td>-0.060173</td>\n",
       "      <td>0.108793</td>\n",
       "      <td>0.033122</td>\n",
       "      <td>-0.049722</td>\n",
       "      <td>0.538841</td>\n",
       "      <td>0.662067</td>\n",
       "      <td>0.777359</td>\n",
       "      <td>1.000000</td>\n",
       "      <td>0.819835</td>\n",
       "      <td>...</td>\n",
       "      <td>0.245917</td>\n",
       "      <td>0.242902</td>\n",
       "      <td>0.239154</td>\n",
       "      <td>-0.009362</td>\n",
       "      <td>-0.001944</td>\n",
       "      <td>-0.069235</td>\n",
       "      <td>-0.043461</td>\n",
       "      <td>-0.033590</td>\n",
       "      <td>-0.026565</td>\n",
       "      <td>0.216614</td>\n",
       "    </tr>\n",
       "    <tr>\n",
       "      <th>PAY_5</th>\n",
       "      <td>-0.249411</td>\n",
       "      <td>-0.055064</td>\n",
       "      <td>0.097520</td>\n",
       "      <td>0.035629</td>\n",
       "      <td>-0.053826</td>\n",
       "      <td>0.509426</td>\n",
       "      <td>0.622780</td>\n",
       "      <td>0.686775</td>\n",
       "      <td>0.819835</td>\n",
       "      <td>1.000000</td>\n",
       "      <td>...</td>\n",
       "      <td>0.271915</td>\n",
       "      <td>0.269783</td>\n",
       "      <td>0.262509</td>\n",
       "      <td>-0.006089</td>\n",
       "      <td>-0.003191</td>\n",
       "      <td>0.009062</td>\n",
       "      <td>-0.058299</td>\n",
       "      <td>-0.033337</td>\n",
       "      <td>-0.023027</td>\n",
       "      <td>0.204149</td>\n",
       "    </tr>\n",
       "    <tr>\n",
       "      <th>PAY_6</th>\n",
       "      <td>-0.235195</td>\n",
       "      <td>-0.044008</td>\n",
       "      <td>0.082316</td>\n",
       "      <td>0.034345</td>\n",
       "      <td>-0.048773</td>\n",
       "      <td>0.474553</td>\n",
       "      <td>0.575501</td>\n",
       "      <td>0.632684</td>\n",
       "      <td>0.716449</td>\n",
       "      <td>0.816900</td>\n",
       "      <td>...</td>\n",
       "      <td>0.266356</td>\n",
       "      <td>0.290894</td>\n",
       "      <td>0.285091</td>\n",
       "      <td>-0.001496</td>\n",
       "      <td>-0.005223</td>\n",
       "      <td>0.005834</td>\n",
       "      <td>0.019018</td>\n",
       "      <td>-0.046434</td>\n",
       "      <td>-0.025299</td>\n",
       "      <td>0.186866</td>\n",
       "    </tr>\n",
       "    <tr>\n",
       "      <th>BILL_AMT1</th>\n",
       "      <td>0.285430</td>\n",
       "      <td>-0.033642</td>\n",
       "      <td>0.023581</td>\n",
       "      <td>-0.023472</td>\n",
       "      <td>0.056239</td>\n",
       "      <td>0.187068</td>\n",
       "      <td>0.234887</td>\n",
       "      <td>0.208473</td>\n",
       "      <td>0.202812</td>\n",
       "      <td>0.206684</td>\n",
       "      <td>...</td>\n",
       "      <td>0.860272</td>\n",
       "      <td>0.829779</td>\n",
       "      <td>0.802650</td>\n",
       "      <td>0.140277</td>\n",
       "      <td>0.099355</td>\n",
       "      <td>0.156887</td>\n",
       "      <td>0.158303</td>\n",
       "      <td>0.167026</td>\n",
       "      <td>0.179341</td>\n",
       "      <td>-0.019644</td>\n",
       "    </tr>\n",
       "    <tr>\n",
       "      <th>BILL_AMT2</th>\n",
       "      <td>0.278314</td>\n",
       "      <td>-0.031183</td>\n",
       "      <td>0.018749</td>\n",
       "      <td>-0.021602</td>\n",
       "      <td>0.054283</td>\n",
       "      <td>0.189859</td>\n",
       "      <td>0.235257</td>\n",
       "      <td>0.237295</td>\n",
       "      <td>0.225816</td>\n",
       "      <td>0.226913</td>\n",
       "      <td>...</td>\n",
       "      <td>0.892482</td>\n",
       "      <td>0.859778</td>\n",
       "      <td>0.831594</td>\n",
       "      <td>0.280365</td>\n",
       "      <td>0.100851</td>\n",
       "      <td>0.150718</td>\n",
       "      <td>0.147398</td>\n",
       "      <td>0.157957</td>\n",
       "      <td>0.174256</td>\n",
       "      <td>-0.014193</td>\n",
       "    </tr>\n",
       "    <tr>\n",
       "      <th>BILL_AMT3</th>\n",
       "      <td>0.283236</td>\n",
       "      <td>-0.024563</td>\n",
       "      <td>0.013002</td>\n",
       "      <td>-0.024909</td>\n",
       "      <td>0.053710</td>\n",
       "      <td>0.179785</td>\n",
       "      <td>0.224146</td>\n",
       "      <td>0.227494</td>\n",
       "      <td>0.244983</td>\n",
       "      <td>0.243335</td>\n",
       "      <td>...</td>\n",
       "      <td>0.923969</td>\n",
       "      <td>0.883910</td>\n",
       "      <td>0.853320</td>\n",
       "      <td>0.244335</td>\n",
       "      <td>0.316936</td>\n",
       "      <td>0.130011</td>\n",
       "      <td>0.143405</td>\n",
       "      <td>0.179712</td>\n",
       "      <td>0.182326</td>\n",
       "      <td>-0.014076</td>\n",
       "    </tr>\n",
       "    <tr>\n",
       "      <th>BILL_AMT4</th>\n",
       "      <td>0.293988</td>\n",
       "      <td>-0.021880</td>\n",
       "      <td>-0.000451</td>\n",
       "      <td>-0.023344</td>\n",
       "      <td>0.051353</td>\n",
       "      <td>0.179125</td>\n",
       "      <td>0.222237</td>\n",
       "      <td>0.227202</td>\n",
       "      <td>0.245917</td>\n",
       "      <td>0.271915</td>\n",
       "      <td>...</td>\n",
       "      <td>1.000000</td>\n",
       "      <td>0.940134</td>\n",
       "      <td>0.900941</td>\n",
       "      <td>0.233012</td>\n",
       "      <td>0.207564</td>\n",
       "      <td>0.300023</td>\n",
       "      <td>0.130191</td>\n",
       "      <td>0.160433</td>\n",
       "      <td>0.177637</td>\n",
       "      <td>-0.010156</td>\n",
       "    </tr>\n",
       "    <tr>\n",
       "      <th>BILL_AMT5</th>\n",
       "      <td>0.295562</td>\n",
       "      <td>-0.017005</td>\n",
       "      <td>-0.007567</td>\n",
       "      <td>-0.025393</td>\n",
       "      <td>0.049345</td>\n",
       "      <td>0.180635</td>\n",
       "      <td>0.221348</td>\n",
       "      <td>0.225145</td>\n",
       "      <td>0.242902</td>\n",
       "      <td>0.269783</td>\n",
       "      <td>...</td>\n",
       "      <td>0.940134</td>\n",
       "      <td>1.000000</td>\n",
       "      <td>0.946197</td>\n",
       "      <td>0.217031</td>\n",
       "      <td>0.181246</td>\n",
       "      <td>0.252305</td>\n",
       "      <td>0.293118</td>\n",
       "      <td>0.141574</td>\n",
       "      <td>0.164184</td>\n",
       "      <td>-0.006760</td>\n",
       "    </tr>\n",
       "    <tr>\n",
       "      <th>BILL_AMT6</th>\n",
       "      <td>0.290389</td>\n",
       "      <td>-0.016733</td>\n",
       "      <td>-0.009099</td>\n",
       "      <td>-0.021207</td>\n",
       "      <td>0.047613</td>\n",
       "      <td>0.176980</td>\n",
       "      <td>0.219403</td>\n",
       "      <td>0.222327</td>\n",
       "      <td>0.239154</td>\n",
       "      <td>0.262509</td>\n",
       "      <td>...</td>\n",
       "      <td>0.900941</td>\n",
       "      <td>0.946197</td>\n",
       "      <td>1.000000</td>\n",
       "      <td>0.199965</td>\n",
       "      <td>0.172663</td>\n",
       "      <td>0.233770</td>\n",
       "      <td>0.250237</td>\n",
       "      <td>0.307729</td>\n",
       "      <td>0.115494</td>\n",
       "      <td>-0.005372</td>\n",
       "    </tr>\n",
       "    <tr>\n",
       "      <th>PAY_AMT1</th>\n",
       "      <td>0.195236</td>\n",
       "      <td>-0.000242</td>\n",
       "      <td>-0.037456</td>\n",
       "      <td>-0.005979</td>\n",
       "      <td>0.026147</td>\n",
       "      <td>-0.079269</td>\n",
       "      <td>-0.080701</td>\n",
       "      <td>0.001295</td>\n",
       "      <td>-0.009362</td>\n",
       "      <td>-0.006089</td>\n",
       "      <td>...</td>\n",
       "      <td>0.233012</td>\n",
       "      <td>0.217031</td>\n",
       "      <td>0.199965</td>\n",
       "      <td>1.000000</td>\n",
       "      <td>0.285576</td>\n",
       "      <td>0.252191</td>\n",
       "      <td>0.199558</td>\n",
       "      <td>0.148459</td>\n",
       "      <td>0.185735</td>\n",
       "      <td>-0.072929</td>\n",
       "    </tr>\n",
       "    <tr>\n",
       "      <th>PAY_AMT2</th>\n",
       "      <td>0.178408</td>\n",
       "      <td>-0.001391</td>\n",
       "      <td>-0.030038</td>\n",
       "      <td>-0.008093</td>\n",
       "      <td>0.021785</td>\n",
       "      <td>-0.070101</td>\n",
       "      <td>-0.058990</td>\n",
       "      <td>-0.066793</td>\n",
       "      <td>-0.001944</td>\n",
       "      <td>-0.003191</td>\n",
       "      <td>...</td>\n",
       "      <td>0.207564</td>\n",
       "      <td>0.181246</td>\n",
       "      <td>0.172663</td>\n",
       "      <td>0.285576</td>\n",
       "      <td>1.000000</td>\n",
       "      <td>0.244770</td>\n",
       "      <td>0.180107</td>\n",
       "      <td>0.180908</td>\n",
       "      <td>0.157634</td>\n",
       "      <td>-0.058579</td>\n",
       "    </tr>\n",
       "    <tr>\n",
       "      <th>PAY_AMT3</th>\n",
       "      <td>0.210167</td>\n",
       "      <td>-0.008597</td>\n",
       "      <td>-0.039943</td>\n",
       "      <td>-0.003541</td>\n",
       "      <td>0.029247</td>\n",
       "      <td>-0.070561</td>\n",
       "      <td>-0.055901</td>\n",
       "      <td>-0.053311</td>\n",
       "      <td>-0.069235</td>\n",
       "      <td>0.009062</td>\n",
       "      <td>...</td>\n",
       "      <td>0.300023</td>\n",
       "      <td>0.252305</td>\n",
       "      <td>0.233770</td>\n",
       "      <td>0.252191</td>\n",
       "      <td>0.244770</td>\n",
       "      <td>1.000000</td>\n",
       "      <td>0.216325</td>\n",
       "      <td>0.159214</td>\n",
       "      <td>0.162740</td>\n",
       "      <td>-0.056250</td>\n",
       "    </tr>\n",
       "    <tr>\n",
       "      <th>PAY_AMT4</th>\n",
       "      <td>0.203242</td>\n",
       "      <td>-0.002229</td>\n",
       "      <td>-0.038218</td>\n",
       "      <td>-0.012659</td>\n",
       "      <td>0.021379</td>\n",
       "      <td>-0.064005</td>\n",
       "      <td>-0.046858</td>\n",
       "      <td>-0.046067</td>\n",
       "      <td>-0.043461</td>\n",
       "      <td>-0.058299</td>\n",
       "      <td>...</td>\n",
       "      <td>0.130191</td>\n",
       "      <td>0.293118</td>\n",
       "      <td>0.250237</td>\n",
       "      <td>0.199558</td>\n",
       "      <td>0.180107</td>\n",
       "      <td>0.216325</td>\n",
       "      <td>1.000000</td>\n",
       "      <td>0.151830</td>\n",
       "      <td>0.157834</td>\n",
       "      <td>-0.056827</td>\n",
       "    </tr>\n",
       "    <tr>\n",
       "      <th>PAY_AMT5</th>\n",
       "      <td>0.217202</td>\n",
       "      <td>-0.001667</td>\n",
       "      <td>-0.040358</td>\n",
       "      <td>-0.001205</td>\n",
       "      <td>0.022850</td>\n",
       "      <td>-0.058190</td>\n",
       "      <td>-0.037093</td>\n",
       "      <td>-0.035863</td>\n",
       "      <td>-0.033590</td>\n",
       "      <td>-0.033337</td>\n",
       "      <td>...</td>\n",
       "      <td>0.160433</td>\n",
       "      <td>0.141574</td>\n",
       "      <td>0.307729</td>\n",
       "      <td>0.148459</td>\n",
       "      <td>0.180908</td>\n",
       "      <td>0.159214</td>\n",
       "      <td>0.151830</td>\n",
       "      <td>1.000000</td>\n",
       "      <td>0.154896</td>\n",
       "      <td>-0.055124</td>\n",
       "    </tr>\n",
       "    <tr>\n",
       "      <th>PAY_AMT6</th>\n",
       "      <td>0.219595</td>\n",
       "      <td>-0.002766</td>\n",
       "      <td>-0.037200</td>\n",
       "      <td>-0.006641</td>\n",
       "      <td>0.019478</td>\n",
       "      <td>-0.058673</td>\n",
       "      <td>-0.036500</td>\n",
       "      <td>-0.035861</td>\n",
       "      <td>-0.026565</td>\n",
       "      <td>-0.023027</td>\n",
       "      <td>...</td>\n",
       "      <td>0.177637</td>\n",
       "      <td>0.164184</td>\n",
       "      <td>0.115494</td>\n",
       "      <td>0.185735</td>\n",
       "      <td>0.157634</td>\n",
       "      <td>0.162740</td>\n",
       "      <td>0.157834</td>\n",
       "      <td>0.154896</td>\n",
       "      <td>1.000000</td>\n",
       "      <td>-0.053183</td>\n",
       "    </tr>\n",
       "    <tr>\n",
       "      <th>dpnm</th>\n",
       "      <td>-0.153520</td>\n",
       "      <td>-0.039961</td>\n",
       "      <td>0.028006</td>\n",
       "      <td>-0.024339</td>\n",
       "      <td>0.013890</td>\n",
       "      <td>0.324794</td>\n",
       "      <td>0.263551</td>\n",
       "      <td>0.235253</td>\n",
       "      <td>0.216614</td>\n",
       "      <td>0.204149</td>\n",
       "      <td>...</td>\n",
       "      <td>-0.010156</td>\n",
       "      <td>-0.006760</td>\n",
       "      <td>-0.005372</td>\n",
       "      <td>-0.072929</td>\n",
       "      <td>-0.058579</td>\n",
       "      <td>-0.056250</td>\n",
       "      <td>-0.056827</td>\n",
       "      <td>-0.055124</td>\n",
       "      <td>-0.053183</td>\n",
       "      <td>1.000000</td>\n",
       "    </tr>\n",
       "  </tbody>\n",
       "</table>\n",
       "<p>24 rows × 24 columns</p>\n",
       "</div>"
      ],
      "text/plain": [
       "           LIMIT_BAL       SEX  EDUCATION  MARRIAGE       AGE     PAY_1  \\\n",
       "LIMIT_BAL   1.000000  0.024755  -0.219161 -0.108139  0.144713 -0.271214   \n",
       "SEX         0.024755  1.000000   0.014232 -0.031389 -0.090874 -0.057643   \n",
       "EDUCATION  -0.219161  0.014232   1.000000 -0.143464  0.175061  0.105364   \n",
       "MARRIAGE   -0.108139 -0.031389  -0.143464  1.000000 -0.414170  0.019917   \n",
       "AGE         0.144713 -0.090874   0.175061 -0.414170  1.000000 -0.039447   \n",
       "PAY_1      -0.271214 -0.057643   0.105364  0.019917 -0.039447  1.000000   \n",
       "PAY_2      -0.296382 -0.070771   0.121566  0.024199 -0.050148  0.672164   \n",
       "PAY_3      -0.286123 -0.066096   0.114025  0.032688 -0.053048  0.574245   \n",
       "PAY_4      -0.267460 -0.060173   0.108793  0.033122 -0.049722  0.538841   \n",
       "PAY_5      -0.249411 -0.055064   0.097520  0.035629 -0.053826  0.509426   \n",
       "PAY_6      -0.235195 -0.044008   0.082316  0.034345 -0.048773  0.474553   \n",
       "BILL_AMT1   0.285430 -0.033642   0.023581 -0.023472  0.056239  0.187068   \n",
       "BILL_AMT2   0.278314 -0.031183   0.018749 -0.021602  0.054283  0.189859   \n",
       "BILL_AMT3   0.283236 -0.024563   0.013002 -0.024909  0.053710  0.179785   \n",
       "BILL_AMT4   0.293988 -0.021880  -0.000451 -0.023344  0.051353  0.179125   \n",
       "BILL_AMT5   0.295562 -0.017005  -0.007567 -0.025393  0.049345  0.180635   \n",
       "BILL_AMT6   0.290389 -0.016733  -0.009099 -0.021207  0.047613  0.176980   \n",
       "PAY_AMT1    0.195236 -0.000242  -0.037456 -0.005979  0.026147 -0.079269   \n",
       "PAY_AMT2    0.178408 -0.001391  -0.030038 -0.008093  0.021785 -0.070101   \n",
       "PAY_AMT3    0.210167 -0.008597  -0.039943 -0.003541  0.029247 -0.070561   \n",
       "PAY_AMT4    0.203242 -0.002229  -0.038218 -0.012659  0.021379 -0.064005   \n",
       "PAY_AMT5    0.217202 -0.001667  -0.040358 -0.001205  0.022850 -0.058190   \n",
       "PAY_AMT6    0.219595 -0.002766  -0.037200 -0.006641  0.019478 -0.058673   \n",
       "dpnm       -0.153520 -0.039961   0.028006 -0.024339  0.013890  0.324794   \n",
       "\n",
       "              PAY_2     PAY_3     PAY_4     PAY_5  ...  BILL_AMT4  BILL_AMT5  \\\n",
       "LIMIT_BAL -0.296382 -0.286123 -0.267460 -0.249411  ...   0.293988   0.295562   \n",
       "SEX       -0.070771 -0.066096 -0.060173 -0.055064  ...  -0.021880  -0.017005   \n",
       "EDUCATION  0.121566  0.114025  0.108793  0.097520  ...  -0.000451  -0.007567   \n",
       "MARRIAGE   0.024199  0.032688  0.033122  0.035629  ...  -0.023344  -0.025393   \n",
       "AGE       -0.050148 -0.053048 -0.049722 -0.053826  ...   0.051353   0.049345   \n",
       "PAY_1      0.672164  0.574245  0.538841  0.509426  ...   0.179125   0.180635   \n",
       "PAY_2      1.000000  0.766552  0.662067  0.622780  ...   0.222237   0.221348   \n",
       "PAY_3      0.766552  1.000000  0.777359  0.686775  ...   0.227202   0.225145   \n",
       "PAY_4      0.662067  0.777359  1.000000  0.819835  ...   0.245917   0.242902   \n",
       "PAY_5      0.622780  0.686775  0.819835  1.000000  ...   0.271915   0.269783   \n",
       "PAY_6      0.575501  0.632684  0.716449  0.816900  ...   0.266356   0.290894   \n",
       "BILL_AMT1  0.234887  0.208473  0.202812  0.206684  ...   0.860272   0.829779   \n",
       "BILL_AMT2  0.235257  0.237295  0.225816  0.226913  ...   0.892482   0.859778   \n",
       "BILL_AMT3  0.224146  0.227494  0.244983  0.243335  ...   0.923969   0.883910   \n",
       "BILL_AMT4  0.222237  0.227202  0.245917  0.271915  ...   1.000000   0.940134   \n",
       "BILL_AMT5  0.221348  0.225145  0.242902  0.269783  ...   0.940134   1.000000   \n",
       "BILL_AMT6  0.219403  0.222327  0.239154  0.262509  ...   0.900941   0.946197   \n",
       "PAY_AMT1  -0.080701  0.001295 -0.009362 -0.006089  ...   0.233012   0.217031   \n",
       "PAY_AMT2  -0.058990 -0.066793 -0.001944 -0.003191  ...   0.207564   0.181246   \n",
       "PAY_AMT3  -0.055901 -0.053311 -0.069235  0.009062  ...   0.300023   0.252305   \n",
       "PAY_AMT4  -0.046858 -0.046067 -0.043461 -0.058299  ...   0.130191   0.293118   \n",
       "PAY_AMT5  -0.037093 -0.035863 -0.033590 -0.033337  ...   0.160433   0.141574   \n",
       "PAY_AMT6  -0.036500 -0.035861 -0.026565 -0.023027  ...   0.177637   0.164184   \n",
       "dpnm       0.263551  0.235253  0.216614  0.204149  ...  -0.010156  -0.006760   \n",
       "\n",
       "           BILL_AMT6  PAY_AMT1  PAY_AMT2  PAY_AMT3  PAY_AMT4  PAY_AMT5  \\\n",
       "LIMIT_BAL   0.290389  0.195236  0.178408  0.210167  0.203242  0.217202   \n",
       "SEX        -0.016733 -0.000242 -0.001391 -0.008597 -0.002229 -0.001667   \n",
       "EDUCATION  -0.009099 -0.037456 -0.030038 -0.039943 -0.038218 -0.040358   \n",
       "MARRIAGE   -0.021207 -0.005979 -0.008093 -0.003541 -0.012659 -0.001205   \n",
       "AGE         0.047613  0.026147  0.021785  0.029247  0.021379  0.022850   \n",
       "PAY_1       0.176980 -0.079269 -0.070101 -0.070561 -0.064005 -0.058190   \n",
       "PAY_2       0.219403 -0.080701 -0.058990 -0.055901 -0.046858 -0.037093   \n",
       "PAY_3       0.222327  0.001295 -0.066793 -0.053311 -0.046067 -0.035863   \n",
       "PAY_4       0.239154 -0.009362 -0.001944 -0.069235 -0.043461 -0.033590   \n",
       "PAY_5       0.262509 -0.006089 -0.003191  0.009062 -0.058299 -0.033337   \n",
       "PAY_6       0.285091 -0.001496 -0.005223  0.005834  0.019018 -0.046434   \n",
       "BILL_AMT1   0.802650  0.140277  0.099355  0.156887  0.158303  0.167026   \n",
       "BILL_AMT2   0.831594  0.280365  0.100851  0.150718  0.147398  0.157957   \n",
       "BILL_AMT3   0.853320  0.244335  0.316936  0.130011  0.143405  0.179712   \n",
       "BILL_AMT4   0.900941  0.233012  0.207564  0.300023  0.130191  0.160433   \n",
       "BILL_AMT5   0.946197  0.217031  0.181246  0.252305  0.293118  0.141574   \n",
       "BILL_AMT6   1.000000  0.199965  0.172663  0.233770  0.250237  0.307729   \n",
       "PAY_AMT1    0.199965  1.000000  0.285576  0.252191  0.199558  0.148459   \n",
       "PAY_AMT2    0.172663  0.285576  1.000000  0.244770  0.180107  0.180908   \n",
       "PAY_AMT3    0.233770  0.252191  0.244770  1.000000  0.216325  0.159214   \n",
       "PAY_AMT4    0.250237  0.199558  0.180107  0.216325  1.000000  0.151830   \n",
       "PAY_AMT5    0.307729  0.148459  0.180908  0.159214  0.151830  1.000000   \n",
       "PAY_AMT6    0.115494  0.185735  0.157634  0.162740  0.157834  0.154896   \n",
       "dpnm       -0.005372 -0.072929 -0.058579 -0.056250 -0.056827 -0.055124   \n",
       "\n",
       "           PAY_AMT6      dpnm  \n",
       "LIMIT_BAL  0.219595 -0.153520  \n",
       "SEX       -0.002766 -0.039961  \n",
       "EDUCATION -0.037200  0.028006  \n",
       "MARRIAGE  -0.006641 -0.024339  \n",
       "AGE        0.019478  0.013890  \n",
       "PAY_1     -0.058673  0.324794  \n",
       "PAY_2     -0.036500  0.263551  \n",
       "PAY_3     -0.035861  0.235253  \n",
       "PAY_4     -0.026565  0.216614  \n",
       "PAY_5     -0.023027  0.204149  \n",
       "PAY_6     -0.025299  0.186866  \n",
       "BILL_AMT1  0.179341 -0.019644  \n",
       "BILL_AMT2  0.174256 -0.014193  \n",
       "BILL_AMT3  0.182326 -0.014076  \n",
       "BILL_AMT4  0.177637 -0.010156  \n",
       "BILL_AMT5  0.164184 -0.006760  \n",
       "BILL_AMT6  0.115494 -0.005372  \n",
       "PAY_AMT1   0.185735 -0.072929  \n",
       "PAY_AMT2   0.157634 -0.058579  \n",
       "PAY_AMT3   0.162740 -0.056250  \n",
       "PAY_AMT4   0.157834 -0.056827  \n",
       "PAY_AMT5   0.154896 -0.055124  \n",
       "PAY_AMT6   1.000000 -0.053183  \n",
       "dpnm      -0.053183  1.000000  \n",
       "\n",
       "[24 rows x 24 columns]"
      ]
     },
     "execution_count": 40,
     "metadata": {},
     "output_type": "execute_result"
    }
   ],
   "source": [
    "credit_card.corr()"
   ]
  },
  {
   "cell_type": "markdown",
   "metadata": {},
   "source": [
    "皮尔逊相关系数（是Pandas默认的）会测量列之间的线性关系。该系数在-1～1变化，0代表没有线性关系。相关性接近-1或1代表线性关系很强。\n",
    "\n",
    "Pandas的corr()方法会为所有的列计算皮尔逊相关系数。这个24×24的矩阵很难读，我们用热图优化一下："
   ]
  },
  {
   "cell_type": "code",
   "execution_count": 41,
   "metadata": {},
   "outputs": [
    {
     "data": {
      "image/png": "[encoded data removed]",
      "text/plain": [
       "<Figure size 432x288 with 2 Axes>"
      ]
     },
     "metadata": {},
     "output_type": "display_data"
    }
   ],
   "source": [
    "import seaborn as sns\n",
    "import matplotlib.pyplot as plt\n",
    "import matplotlib.style as style\n",
    "\n",
    "style.use('fivethirtyeight')\n",
    "sns.heatmap(credit_card.corr())\n",
    "\n",
    "plt.show()"
   ]
  },
  {
   "cell_type": "markdown",
   "metadata": {},
   "source": [
    "只看一下特征和响应的相关性："
   ]
  },
  {
   "cell_type": "code",
   "execution_count": 43,
   "metadata": {},
   "outputs": [
    {
     "data": {
      "text/plain": [
       "LIMIT_BAL   -0.153520\n",
       "SEX         -0.039961\n",
       "EDUCATION    0.028006\n",
       "MARRIAGE    -0.024339\n",
       "AGE          0.013890\n",
       "PAY_1        0.324794\n",
       "PAY_2        0.263551\n",
       "PAY_3        0.235253\n",
       "PAY_4        0.216614\n",
       "PAY_5        0.204149\n",
       "PAY_6        0.186866\n",
       "BILL_AMT1   -0.019644\n",
       "BILL_AMT2   -0.014193\n",
       "BILL_AMT3   -0.014076\n",
       "BILL_AMT4   -0.010156\n",
       "BILL_AMT5   -0.006760\n",
       "BILL_AMT6   -0.005372\n",
       "PAY_AMT1    -0.072929\n",
       "PAY_AMT2    -0.058579\n",
       "PAY_AMT3    -0.056250\n",
       "PAY_AMT4    -0.056827\n",
       "PAY_AMT5    -0.055124\n",
       "PAY_AMT6    -0.053183\n",
       "dpnm         1.000000\n",
       "Name: dpnm, dtype: float64"
      ]
     },
     "execution_count": 43,
     "metadata": {},
     "output_type": "execute_result"
    }
   ],
   "source": [
    "credit_card.corr()['dpnm']"
   ]
  },
  {
   "cell_type": "markdown",
   "metadata": {},
   "source": [
    "最后一行可以忽略，因为这是响应变量和自己的相关性。我们寻找相关系数接近-1或1的特征，因为这些特征应该会对预测有用。我们用Pandas过滤出相关系数超过正负0.2的特征:"
   ]
  },
  {
   "cell_type": "code",
   "execution_count": 44,
   "metadata": {},
   "outputs": [
    {
     "data": {
      "text/plain": [
       "LIMIT_BAL    False\n",
       "SEX          False\n",
       "EDUCATION    False\n",
       "MARRIAGE     False\n",
       "AGE          False\n",
       "PAY_1         True\n",
       "PAY_2         True\n",
       "PAY_3         True\n",
       "PAY_4         True\n",
       "PAY_5         True\n",
       "PAY_6        False\n",
       "BILL_AMT1    False\n",
       "BILL_AMT2    False\n",
       "BILL_AMT3    False\n",
       "BILL_AMT4    False\n",
       "BILL_AMT5    False\n",
       "BILL_AMT6    False\n",
       "PAY_AMT1     False\n",
       "PAY_AMT2     False\n",
       "PAY_AMT3     False\n",
       "PAY_AMT4     False\n",
       "PAY_AMT5     False\n",
       "PAY_AMT6     False\n",
       "dpnm          True\n",
       "Name: dpnm, dtype: bool"
      ]
     },
     "execution_count": 44,
     "metadata": {},
     "output_type": "execute_result"
    }
   ],
   "source": [
    "credit_card.corr()['dpnm'].abs() > .2"
   ]
  },
  {
   "cell_type": "markdown",
   "metadata": {},
   "source": [
    "上面Pandas Series中的False代表特征的相关系数在-0.2～0.2之间，True则代表相关系数超过了正负0.2。下面过滤出相关度大于0.2的特征："
   ]
  },
  {
   "cell_type": "code",
   "execution_count": 46,
   "metadata": {},
   "outputs": [
    {
     "data": {
      "text/plain": [
       "Index(['PAY_1', 'PAY_2', 'PAY_3', 'PAY_4', 'PAY_5', 'dpnm'], dtype='object')"
      ]
     },
     "execution_count": 46,
     "metadata": {},
     "output_type": "execute_result"
    }
   ],
   "source": [
    "col_filter = credit_card.corr()['dpnm'].abs() > .2\n",
    "highly_corr_features = credit_card.columns[col_filter]\n",
    "highly_corr_features"
   ]
  },
  {
   "cell_type": "markdown",
   "metadata": {},
   "source": [
    "highly_corr_features变量会存储与响应变量高度相关的特征，但是需要删掉响应列，因为在机器学习流水线中包括这列等于作弊："
   ]
  },
  {
   "cell_type": "code",
   "execution_count": 47,
   "metadata": {},
   "outputs": [
    {
     "data": {
      "text/plain": [
       "Index(['PAY_1', 'PAY_2', 'PAY_3', 'PAY_4', 'PAY_5'], dtype='object')"
      ]
     },
     "execution_count": 47,
     "metadata": {},
     "output_type": "execute_result"
    }
   ],
   "source": [
    "highly_corr_features = highly_corr_features.drop('dpnm')\n",
    "highly_corr_features"
   ]
  },
  {
   "cell_type": "markdown",
   "metadata": {},
   "source": [
    "下面使用原始数据集中的这5个高相关度的特征，预测响应变量，看一下准确度："
   ]
  },
  {
   "cell_type": "code",
   "execution_count": 48,
   "metadata": {},
   "outputs": [
    {
     "name": "stdout",
     "output_type": "stream",
     "text": [
      "最高准确率: 0.8213333333333332\n",
      "最佳参数: {'max_depth': 3}\n",
      "拟合的平均时间(s):0.015\n",
      "预测的平均时间(s):0.003\n"
     ]
    }
   ],
   "source": [
    "X_subsetted = X[highly_corr_features]\n",
    "\n",
    "get_best_model_and_accuracy(dt, dt_params, X_subsetted, y)"
   ]
  },
  {
   "cell_type": "markdown",
   "metadata": {},
   "source": [
    "准确率比要击败的0.8206略高，并且拟合时间快了20倍。我们的模型只需要5个特征就可以学习整个数据集，而且速度快得多。\n",
    "\n",
    "接下来使用scikit-learn流水线，将**相关性选择**作为预处理阶段的一部分。我们需要创建一个自定义转换器调用刚才的逻辑，并封装为流水线可以使用的类。\n",
    "\n",
    "这个类命名为CustomCorrelationChooser，它会实现一个拟合逻辑和一个转换逻辑：\n",
    "\n",
    "- 拟合逻辑：从特征矩阵中选择相关性高于阈值的列\n",
    "- 转换逻辑：对数据集取子集，只包含重要的列"
   ]
  },
  {
   "cell_type": "code",
   "execution_count": 52,
   "metadata": {},
   "outputs": [],
   "source": [
    "from sklearn.base import TransformerMixin, BaseEstimator\n",
    "\n",
    "class CustomCorrelationChooser(TransformerMixin, BaseEstimator):\n",
    "    def __init__(self, response, cols_to_keep=[], threshold=None):\n",
    "        # 保存响应变量\n",
    "        self.response = response\n",
    "        # 保存阈值\n",
    "        self.threshold = threshold\n",
    "        # 初始化一个变量，存放要保留的特征名\n",
    "        self.cols_to_keep = cols_to_keep\n",
    "\n",
    "    def transform(self, X):\n",
    "        # 转换会选择合适的列\n",
    "        return X[self.cols_to_keep]\n",
    "\n",
    "    def fit(self, X, *_):\n",
    "        # 创建新的DataFrame，存放特征和响应\n",
    "        df = pd.concat([X, self.response], axis=1)\n",
    "        # 保存高于阈值的列的名称\n",
    "        self.cols_to_keep = df.columns[df.corr()[df.columns[-1]].abs() >\n",
    "    self.threshold]\n",
    "        # 只保留X的列，删掉响应变量\n",
    "        self.cols_to_keep = [c for c in self.cols_to_keep if c in X.columns]\n",
    "        return self"
   ]
  },
  {
   "cell_type": "markdown",
   "metadata": {},
   "source": [
    "测试一下："
   ]
  },
  {
   "cell_type": "code",
   "execution_count": 54,
   "metadata": {},
   "outputs": [
    {
     "data": {
      "text/plain": [
       "['PAY_1', 'PAY_2', 'PAY_3', 'PAY_4', 'PAY_5']"
      ]
     },
     "execution_count": 54,
     "metadata": {},
     "output_type": "execute_result"
    }
   ],
   "source": [
    "# 实例化特征选择器\n",
    "ccc = CustomCorrelationChooser(threshold=.2, response=y)\n",
    "ccc.fit(X)\n",
    "ccc.cols_to_keep"
   ]
  },
  {
   "cell_type": "markdown",
   "metadata": {},
   "source": [
    "在X矩阵上应用转换:"
   ]
  },
  {
   "cell_type": "code",
   "execution_count": 55,
   "metadata": {},
   "outputs": [
    {
     "data": {
      "text/html": [
       "<div>\n",
       "<style scoped>\n",
       "    .dataframe tbody tr th:only-of-type {\n",
       "        vertical-align: middle;\n",
       "    }\n",
       "\n",
       "    .dataframe tbody tr th {\n",
       "        vertical-align: top;\n",
       "    }\n",
       "\n",
       "    .dataframe thead th {\n",
       "        text-align: right;\n",
       "    }\n",
       "</style>\n",
       "<table border=\"1\" class=\"dataframe\">\n",
       "  <thead>\n",
       "    <tr style=\"text-align: right;\">\n",
       "      <th></th>\n",
       "      <th>PAY_1</th>\n",
       "      <th>PAY_2</th>\n",
       "      <th>PAY_3</th>\n",
       "      <th>PAY_4</th>\n",
       "      <th>PAY_5</th>\n",
       "    </tr>\n",
       "  </thead>\n",
       "  <tbody>\n",
       "    <tr>\n",
       "      <th>0</th>\n",
       "      <td>2</td>\n",
       "      <td>2</td>\n",
       "      <td>-1</td>\n",
       "      <td>-1</td>\n",
       "      <td>-2</td>\n",
       "    </tr>\n",
       "    <tr>\n",
       "      <th>1</th>\n",
       "      <td>-1</td>\n",
       "      <td>2</td>\n",
       "      <td>0</td>\n",
       "      <td>0</td>\n",
       "      <td>0</td>\n",
       "    </tr>\n",
       "    <tr>\n",
       "      <th>2</th>\n",
       "      <td>0</td>\n",
       "      <td>0</td>\n",
       "      <td>0</td>\n",
       "      <td>0</td>\n",
       "      <td>0</td>\n",
       "    </tr>\n",
       "    <tr>\n",
       "      <th>3</th>\n",
       "      <td>0</td>\n",
       "      <td>0</td>\n",
       "      <td>0</td>\n",
       "      <td>0</td>\n",
       "      <td>0</td>\n",
       "    </tr>\n",
       "    <tr>\n",
       "      <th>4</th>\n",
       "      <td>-1</td>\n",
       "      <td>0</td>\n",
       "      <td>-1</td>\n",
       "      <td>0</td>\n",
       "      <td>0</td>\n",
       "    </tr>\n",
       "  </tbody>\n",
       "</table>\n",
       "</div>"
      ],
      "text/plain": [
       "   PAY_1  PAY_2  PAY_3  PAY_4  PAY_5\n",
       "0      2      2     -1     -1     -2\n",
       "1     -1      2      0      0      0\n",
       "2      0      0      0      0      0\n",
       "3      0      0      0      0      0\n",
       "4     -1      0     -1      0      0"
      ]
     },
     "execution_count": 55,
     "metadata": {},
     "output_type": "execute_result"
    }
   ],
   "source": [
    "ccc.transform(X).head()"
   ]
  },
  {
   "cell_type": "markdown",
   "metadata": {},
   "source": [
    "可见，transform方法删除了其他列，只保留大于0.2阈值的列。现在在流水线中把一切组装起来："
   ]
  },
  {
   "cell_type": "code",
   "execution_count": 56,
   "metadata": {},
   "outputs": [
    {
     "name": "stdout",
     "output_type": "stream",
     "text": [
      "最高准确率: 0.8207333333333333\n",
      "最佳参数: {'classifier__max_depth': 3, 'correlation_select__threshold': 0.2}\n",
      "拟合的平均时间(s):0.141\n",
      "预测的平均时间(s):0.004\n"
     ]
    }
   ],
   "source": [
    "from copy import deepcopy\n",
    "# 使用响应变量初始化特征选择器\n",
    "ccc = CustomCorrelationChooser(response=y)\n",
    "# 创建流水线，包括选择器\n",
    "ccc_pipe = Pipeline([\n",
    "    ('correlation_select', ccc),\n",
    "    ('classifier', dt)\n",
    "])\n",
    "\n",
    "tree_pipe_params = {\n",
    "    'classifier__max_depth':[None, 1, 3, 5, 7, 9, 11, 13, 15, 17, 19, 21]\n",
    "}\n",
    "# 复制决策树的参数\n",
    "ccc_pipe_params = deepcopy(tree_pipe_params)\n",
    "# 更新决策树的参数选择\n",
    "ccc_pipe_params.update({\n",
    "    'correlation_select__threshold':[0, .1, .2, .3]\n",
    "})\n",
    "\n",
    "get_best_model_and_accuracy(ccc_pipe, ccc_pipe_params, X, y)"
   ]
  },
  {
   "cell_type": "markdown",
   "metadata": {},
   "source": [
    "第一次的特征选择就已经打败了目标（虽然只高一点点）。我们的流水线显示，如果把阈值设为0.2，就足以消除噪声以提高准确性，并缩短拟合时间（0.141）。"
   ]
  },
  {
   "cell_type": "markdown",
   "metadata": {},
   "source": [
    "#### 2.使用假设检验\n",
    "\n",
    "**假设检验**是一种**统计学**方法，可以对单个特征进行复杂的**统计检验**。在特征选择中使用假设检验可以像之前的自定义相关选择器一样，尝试从数据集中选择**最佳特征**，但是这里的检验更依赖于形式化的统计方法，并通过所谓的p值进行检验。\n",
    "\n",
    "作为一种统计检验，假设检验用于在给定数据样本时确定可否在整个数据集上应用某种条件。假设检验的结果会告诉我们是否应该相信或拒绝假设（并选择另一个假设）。\n",
    "\n",
    "在特征选择中，假设测试的原则是：“**特征与响应变量没有关系**”（零假设）为真还是假。我们需要**在每个特征上进行检验，并决定其与响应变量是否有显著关系**。在某种程度上说，相关性检测逻辑也是这样运作的。如果某个特征与响应变量的相关性太弱，那么认为“特征与响应变量没有关系”这个假设为真。如果相关系数足够强，那么拒绝该假设，认为特征与响应变量有关。\n",
    "\n",
    "在将其用于数据之前，需要导入新模块SelectKBest和f_classif，代码如下："
   ]
  },
  {
   "cell_type": "code",
   "execution_count": 57,
   "metadata": {},
   "outputs": [],
   "source": [
    "# SelectKBest选择K个最好的特征\n",
    "from sklearn.feature_selection import SelectKBest\n",
    "# ANOVA测试\n",
    "from sklearn.feature_selection import f_classif"
   ]
  },
  {
   "cell_type": "markdown",
   "metadata": {},
   "source": [
    "SelectKBest基本上就是包装了一定数量的特征，而这些特征是根据某个标准保留的前几名。这里使用假设检验的p值作为排名依据。\n",
    "\n",
    "##### 理解p值\n",
    "\n",
    "p值是**介于0和1**的小数，代表在假设检验下，给定**数据偶然出现的概率**。简而言之，p值越低，拒绝零假设的概率越大。在我们的例子中，p值越低，这个特征与响应变量有关联的概率就越大，就越应该保留这个特征。\n",
    "\n",
    "需要注意的是，f_classif函数在每个特征上单独（单变量测试由此得名）执行一次ANOVA测试（一种假设检验类型），并分配一个p值。SelectKBest会将特征按p值排列（越小越好），只保留指定的k个最佳特征。\n",
    "\n",
    "##### p值排列\n",
    "\n",
    "首先实例化一个SelectKBest对象，并手动设定k是5，代表只希望保留5个最佳的特征："
   ]
  },
  {
   "cell_type": "code",
   "execution_count": 58,
   "metadata": {},
   "outputs": [],
   "source": [
    "k_best = SelectKBest(f_classif, k=5)"
   ]
  },
  {
   "cell_type": "markdown",
   "metadata": {},
   "source": [
    "然后可以像之前使用自定义选择器那样，拟合并转化X矩阵，选择需要的特征："
   ]
  },
  {
   "cell_type": "code",
   "execution_count": 59,
   "metadata": {},
   "outputs": [
    {
     "data": {
      "text/plain": [
       "array([[ 2,  2, -1, -1, -2],\n",
       "       [-1,  2,  0,  0,  0],\n",
       "       [ 0,  0,  0,  0,  0],\n",
       "       ...,\n",
       "       [ 4,  3,  2, -1,  0],\n",
       "       [ 1, -1,  0,  0,  0],\n",
       "       [ 0,  0,  0,  0,  0]])"
      ]
     },
     "execution_count": 59,
     "metadata": {},
     "output_type": "execute_result"
    }
   ],
   "source": [
    "# 选择最佳特征后的矩阵\n",
    "k_best.fit_transform(X, y)"
   ]
  },
  {
   "cell_type": "markdown",
   "metadata": {},
   "source": [
    "如果想直接查看p值并检查选择了哪些特征，可以深入观察k_best变量："
   ]
  },
  {
   "cell_type": "code",
   "execution_count": 60,
   "metadata": {},
   "outputs": [
    {
     "data": {
      "text/plain": [
       "array([1.30224395e-157, 4.39524880e-012, 1.22503803e-006, 2.48536389e-005,\n",
       "       1.61368459e-002, 0.00000000e+000, 0.00000000e+000, 0.00000000e+000,\n",
       "       1.89929659e-315, 1.12660795e-279, 7.29674048e-234, 6.67329549e-004,\n",
       "       1.39573624e-002, 1.47699827e-002, 7.85556416e-002, 2.41634443e-001,\n",
       "       3.52122521e-001, 1.14648761e-036, 3.16665676e-024, 1.84177029e-022,\n",
       "       6.83094160e-023, 1.24134477e-021, 3.03358907e-020])"
      ]
     },
     "execution_count": 60,
     "metadata": {},
     "output_type": "execute_result"
    }
   ],
   "source": [
    "# 查看所有列的p值\n",
    "k_best.pvalues_"
   ]
  },
  {
   "cell_type": "markdown",
   "metadata": {},
   "source": [
    "为了便于查看，将特征及其p值组成DataFrame,并按p值排列："
   ]
  },
  {
   "cell_type": "code",
   "execution_count": 61,
   "metadata": {},
   "outputs": [
    {
     "data": {
      "text/html": [
       "<div>\n",
       "<style scoped>\n",
       "    .dataframe tbody tr th:only-of-type {\n",
       "        vertical-align: middle;\n",
       "    }\n",
       "\n",
       "    .dataframe tbody tr th {\n",
       "        vertical-align: top;\n",
       "    }\n",
       "\n",
       "    .dataframe thead th {\n",
       "        text-align: right;\n",
       "    }\n",
       "</style>\n",
       "<table border=\"1\" class=\"dataframe\">\n",
       "  <thead>\n",
       "    <tr style=\"text-align: right;\">\n",
       "      <th></th>\n",
       "      <th>column</th>\n",
       "      <th>p_value</th>\n",
       "    </tr>\n",
       "  </thead>\n",
       "  <tbody>\n",
       "    <tr>\n",
       "      <th>5</th>\n",
       "      <td>PAY_1</td>\n",
       "      <td>0.000000e+00</td>\n",
       "    </tr>\n",
       "    <tr>\n",
       "      <th>6</th>\n",
       "      <td>PAY_2</td>\n",
       "      <td>0.000000e+00</td>\n",
       "    </tr>\n",
       "    <tr>\n",
       "      <th>7</th>\n",
       "      <td>PAY_3</td>\n",
       "      <td>0.000000e+00</td>\n",
       "    </tr>\n",
       "    <tr>\n",
       "      <th>8</th>\n",
       "      <td>PAY_4</td>\n",
       "      <td>1.899297e-315</td>\n",
       "    </tr>\n",
       "    <tr>\n",
       "      <th>9</th>\n",
       "      <td>PAY_5</td>\n",
       "      <td>1.126608e-279</td>\n",
       "    </tr>\n",
       "  </tbody>\n",
       "</table>\n",
       "</div>"
      ],
      "text/plain": [
       "  column        p_value\n",
       "5  PAY_1   0.000000e+00\n",
       "6  PAY_2   0.000000e+00\n",
       "7  PAY_3   0.000000e+00\n",
       "8  PAY_4  1.899297e-315\n",
       "9  PAY_5  1.126608e-279"
      ]
     },
     "execution_count": 61,
     "metadata": {},
     "output_type": "execute_result"
    }
   ],
   "source": [
    "p_values = pd.DataFrame({\n",
    "    'column': X.columns,\n",
    "    'p_value': k_best.pvalues_\n",
    "}).sort_values('p_value')\n",
    "\n",
    "p_values.head()"
   ]
  },
  {
   "cell_type": "markdown",
   "metadata": {},
   "source": [
    "可见，特征选择器认为PAY_X是最重要的特征。观察p值，可以看到，这些特征的p值极小，几乎为0。p值的一个常见阈值是0.05，可以认为p值小于0.05的特征都是显著的。对于测试，这些列是极其重要的。可以用Pandas的过滤方法，查看所有p值小于0.05的特征："
   ]
  },
  {
   "cell_type": "code",
   "execution_count": 62,
   "metadata": {},
   "outputs": [
    {
     "data": {
      "text/html": [
       "<div>\n",
       "<style scoped>\n",
       "    .dataframe tbody tr th:only-of-type {\n",
       "        vertical-align: middle;\n",
       "    }\n",
       "\n",
       "    .dataframe tbody tr th {\n",
       "        vertical-align: top;\n",
       "    }\n",
       "\n",
       "    .dataframe thead th {\n",
       "        text-align: right;\n",
       "    }\n",
       "</style>\n",
       "<table border=\"1\" class=\"dataframe\">\n",
       "  <thead>\n",
       "    <tr style=\"text-align: right;\">\n",
       "      <th></th>\n",
       "      <th>column</th>\n",
       "      <th>p_value</th>\n",
       "    </tr>\n",
       "  </thead>\n",
       "  <tbody>\n",
       "    <tr>\n",
       "      <th>5</th>\n",
       "      <td>PAY_1</td>\n",
       "      <td>0.000000e+00</td>\n",
       "    </tr>\n",
       "    <tr>\n",
       "      <th>6</th>\n",
       "      <td>PAY_2</td>\n",
       "      <td>0.000000e+00</td>\n",
       "    </tr>\n",
       "    <tr>\n",
       "      <th>7</th>\n",
       "      <td>PAY_3</td>\n",
       "      <td>0.000000e+00</td>\n",
       "    </tr>\n",
       "    <tr>\n",
       "      <th>8</th>\n",
       "      <td>PAY_4</td>\n",
       "      <td>1.899297e-315</td>\n",
       "    </tr>\n",
       "    <tr>\n",
       "      <th>9</th>\n",
       "      <td>PAY_5</td>\n",
       "      <td>1.126608e-279</td>\n",
       "    </tr>\n",
       "    <tr>\n",
       "      <th>10</th>\n",
       "      <td>PAY_6</td>\n",
       "      <td>7.296740e-234</td>\n",
       "    </tr>\n",
       "    <tr>\n",
       "      <th>0</th>\n",
       "      <td>LIMIT_BAL</td>\n",
       "      <td>1.302244e-157</td>\n",
       "    </tr>\n",
       "    <tr>\n",
       "      <th>17</th>\n",
       "      <td>PAY_AMT1</td>\n",
       "      <td>1.146488e-36</td>\n",
       "    </tr>\n",
       "    <tr>\n",
       "      <th>18</th>\n",
       "      <td>PAY_AMT2</td>\n",
       "      <td>3.166657e-24</td>\n",
       "    </tr>\n",
       "    <tr>\n",
       "      <th>20</th>\n",
       "      <td>PAY_AMT4</td>\n",
       "      <td>6.830942e-23</td>\n",
       "    </tr>\n",
       "    <tr>\n",
       "      <th>19</th>\n",
       "      <td>PAY_AMT3</td>\n",
       "      <td>1.841770e-22</td>\n",
       "    </tr>\n",
       "    <tr>\n",
       "      <th>21</th>\n",
       "      <td>PAY_AMT5</td>\n",
       "      <td>1.241345e-21</td>\n",
       "    </tr>\n",
       "    <tr>\n",
       "      <th>22</th>\n",
       "      <td>PAY_AMT6</td>\n",
       "      <td>3.033589e-20</td>\n",
       "    </tr>\n",
       "    <tr>\n",
       "      <th>1</th>\n",
       "      <td>SEX</td>\n",
       "      <td>4.395249e-12</td>\n",
       "    </tr>\n",
       "    <tr>\n",
       "      <th>2</th>\n",
       "      <td>EDUCATION</td>\n",
       "      <td>1.225038e-06</td>\n",
       "    </tr>\n",
       "    <tr>\n",
       "      <th>3</th>\n",
       "      <td>MARRIAGE</td>\n",
       "      <td>2.485364e-05</td>\n",
       "    </tr>\n",
       "    <tr>\n",
       "      <th>11</th>\n",
       "      <td>BILL_AMT1</td>\n",
       "      <td>6.673295e-04</td>\n",
       "    </tr>\n",
       "    <tr>\n",
       "      <th>12</th>\n",
       "      <td>BILL_AMT2</td>\n",
       "      <td>1.395736e-02</td>\n",
       "    </tr>\n",
       "    <tr>\n",
       "      <th>13</th>\n",
       "      <td>BILL_AMT3</td>\n",
       "      <td>1.476998e-02</td>\n",
       "    </tr>\n",
       "    <tr>\n",
       "      <th>4</th>\n",
       "      <td>AGE</td>\n",
       "      <td>1.613685e-02</td>\n",
       "    </tr>\n",
       "  </tbody>\n",
       "</table>\n",
       "</div>"
      ],
      "text/plain": [
       "       column        p_value\n",
       "5       PAY_1   0.000000e+00\n",
       "6       PAY_2   0.000000e+00\n",
       "7       PAY_3   0.000000e+00\n",
       "8       PAY_4  1.899297e-315\n",
       "9       PAY_5  1.126608e-279\n",
       "10      PAY_6  7.296740e-234\n",
       "0   LIMIT_BAL  1.302244e-157\n",
       "17   PAY_AMT1   1.146488e-36\n",
       "18   PAY_AMT2   3.166657e-24\n",
       "20   PAY_AMT4   6.830942e-23\n",
       "19   PAY_AMT3   1.841770e-22\n",
       "21   PAY_AMT5   1.241345e-21\n",
       "22   PAY_AMT6   3.033589e-20\n",
       "1         SEX   4.395249e-12\n",
       "2   EDUCATION   1.225038e-06\n",
       "3    MARRIAGE   2.485364e-05\n",
       "11  BILL_AMT1   6.673295e-04\n",
       "12  BILL_AMT2   1.395736e-02\n",
       "13  BILL_AMT3   1.476998e-02\n",
       "4         AGE   1.613685e-02"
      ]
     },
     "execution_count": 62,
     "metadata": {},
     "output_type": "execute_result"
    }
   ],
   "source": [
    "# 低p值的特性\n",
    "p_values[p_values['p_value'] < .05]"
   ]
  },
  {
   "cell_type": "markdown",
   "metadata": {},
   "source": [
    "大部分特征的p值都很低，但并不是全部。再看看哪些列的p_value较高："
   ]
  },
  {
   "cell_type": "code",
   "execution_count": 63,
   "metadata": {},
   "outputs": [
    {
     "data": {
      "text/html": [
       "<div>\n",
       "<style scoped>\n",
       "    .dataframe tbody tr th:only-of-type {\n",
       "        vertical-align: middle;\n",
       "    }\n",
       "\n",
       "    .dataframe tbody tr th {\n",
       "        vertical-align: top;\n",
       "    }\n",
       "\n",
       "    .dataframe thead th {\n",
       "        text-align: right;\n",
       "    }\n",
       "</style>\n",
       "<table border=\"1\" class=\"dataframe\">\n",
       "  <thead>\n",
       "    <tr style=\"text-align: right;\">\n",
       "      <th></th>\n",
       "      <th>column</th>\n",
       "      <th>p_value</th>\n",
       "    </tr>\n",
       "  </thead>\n",
       "  <tbody>\n",
       "    <tr>\n",
       "      <th>14</th>\n",
       "      <td>BILL_AMT4</td>\n",
       "      <td>0.078556</td>\n",
       "    </tr>\n",
       "    <tr>\n",
       "      <th>15</th>\n",
       "      <td>BILL_AMT5</td>\n",
       "      <td>0.241634</td>\n",
       "    </tr>\n",
       "    <tr>\n",
       "      <th>16</th>\n",
       "      <td>BILL_AMT6</td>\n",
       "      <td>0.352123</td>\n",
       "    </tr>\n",
       "  </tbody>\n",
       "</table>\n",
       "</div>"
      ],
      "text/plain": [
       "       column   p_value\n",
       "14  BILL_AMT4  0.078556\n",
       "15  BILL_AMT5  0.241634\n",
       "16  BILL_AMT6  0.352123"
      ]
     },
     "execution_count": 63,
     "metadata": {},
     "output_type": "execute_result"
    }
   ],
   "source": [
    "# 高p值的特性\n",
    "p_values[p_values['p_value'] >= .05]"
   ]
  },
  {
   "cell_type": "markdown",
   "metadata": {},
   "source": [
    "有3个特征的p值较高。可以在流水线中应用SelectKBest，看看是否效果更好："
   ]
  },
  {
   "cell_type": "code",
   "execution_count": 64,
   "metadata": {},
   "outputs": [
    {
     "name": "stdout",
     "output_type": "stream",
     "text": [
      "最高准确率: 0.8213333333333332\n",
      "最佳参数: {'classifier__max_depth': 3, 'k_best__k': 5}\n",
      "拟合的平均时间(s):0.149\n",
      "预测的平均时间(s):0.003\n"
     ]
    }
   ],
   "source": [
    "k_best = SelectKBest(f_classif)\n",
    "# 用SelectKBest建立流水线\n",
    "select_k_pipe = Pipeline([\n",
    "    ('k_best', k_best),\n",
    "    ('classifier', dt)\n",
    "])\n",
    "select_k_best_pipe_params = deepcopy(tree_pipe_params)\n",
    "# all没有作用\n",
    "select_k_best_pipe_params.update({\n",
    "    'k_best__k':list(range(1,23)) + ['all']\n",
    "})\n",
    "# 与相关特征选择器比较\n",
    "get_best_model_and_accuracy(select_k_pipe, select_k_best_pipe_params, X, y)"
   ]
  },
  {
   "cell_type": "markdown",
   "metadata": {},
   "source": [
    "SelectKBest模块和自定义转换器的准确率和拟合时间差不多。看一下选择了哪些特征："
   ]
  },
  {
   "cell_type": "code",
   "execution_count": 65,
   "metadata": {},
   "outputs": [
    {
     "data": {
      "text/html": [
       "<div>\n",
       "<style scoped>\n",
       "    .dataframe tbody tr th:only-of-type {\n",
       "        vertical-align: middle;\n",
       "    }\n",
       "\n",
       "    .dataframe tbody tr th {\n",
       "        vertical-align: top;\n",
       "    }\n",
       "\n",
       "    .dataframe thead th {\n",
       "        text-align: right;\n",
       "    }\n",
       "</style>\n",
       "<table border=\"1\" class=\"dataframe\">\n",
       "  <thead>\n",
       "    <tr style=\"text-align: right;\">\n",
       "      <th></th>\n",
       "      <th>column</th>\n",
       "      <th>p_value</th>\n",
       "    </tr>\n",
       "  </thead>\n",
       "  <tbody>\n",
       "    <tr>\n",
       "      <th>5</th>\n",
       "      <td>PAY_1</td>\n",
       "      <td>0.000000e+00</td>\n",
       "    </tr>\n",
       "    <tr>\n",
       "      <th>6</th>\n",
       "      <td>PAY_2</td>\n",
       "      <td>0.000000e+00</td>\n",
       "    </tr>\n",
       "    <tr>\n",
       "      <th>7</th>\n",
       "      <td>PAY_3</td>\n",
       "      <td>0.000000e+00</td>\n",
       "    </tr>\n",
       "    <tr>\n",
       "      <th>8</th>\n",
       "      <td>PAY_4</td>\n",
       "      <td>1.899297e-315</td>\n",
       "    </tr>\n",
       "    <tr>\n",
       "      <th>9</th>\n",
       "      <td>PAY_5</td>\n",
       "      <td>1.126608e-279</td>\n",
       "    </tr>\n",
       "    <tr>\n",
       "      <th>10</th>\n",
       "      <td>PAY_6</td>\n",
       "      <td>7.296740e-234</td>\n",
       "    </tr>\n",
       "    <tr>\n",
       "      <th>0</th>\n",
       "      <td>LIMIT_BAL</td>\n",
       "      <td>1.302244e-157</td>\n",
       "    </tr>\n",
       "  </tbody>\n",
       "</table>\n",
       "</div>"
      ],
      "text/plain": [
       "       column        p_value\n",
       "5       PAY_1   0.000000e+00\n",
       "6       PAY_2   0.000000e+00\n",
       "7       PAY_3   0.000000e+00\n",
       "8       PAY_4  1.899297e-315\n",
       "9       PAY_5  1.126608e-279\n",
       "10      PAY_6  7.296740e-234\n",
       "0   LIMIT_BAL  1.302244e-157"
      ]
     },
     "execution_count": 65,
     "metadata": {},
     "output_type": "execute_result"
    }
   ],
   "source": [
    "k_best = SelectKBest(f_classif, k=7)\n",
    "p_values.head(7)"
   ]
  },
  {
   "cell_type": "markdown",
   "metadata": {},
   "source": [
    "殊途同归，看起来和之前统计方法的选择相同。在ANOVA之外，还有其他的测试能用于回归任务，例如卡方检验等。\n",
    "\n",
    "在开始基于模型的特征选择前，可以进行一次快速的完整性检查，以确保路线正确。到目前为止，为了取得最佳准确率，已经用了特征选择的两种统计方法，每次选择的7个特征都一样。如果选择这7个特征之外的所有特征呢？是不是流水线的准确率会下降，流水线会劣化？下面来确认一下："
   ]
  },
  {
   "cell_type": "code",
   "execution_count": 72,
   "metadata": {},
   "outputs": [
    {
     "data": {
      "text/plain": [
       "5         PAY_1\n",
       "6         PAY_2\n",
       "7         PAY_3\n",
       "8         PAY_4\n",
       "9         PAY_5\n",
       "10        PAY_6\n",
       "0     LIMIT_BAL\n",
       "Name: column, dtype: object"
      ]
     },
     "execution_count": 72,
     "metadata": {},
     "output_type": "execute_result"
    }
   ],
   "source": [
    "p_values['column'].head(7)"
   ]
  },
  {
   "cell_type": "code",
   "execution_count": 74,
   "metadata": {},
   "outputs": [
    {
     "name": "stdout",
     "output_type": "stream",
     "text": [
      "最高准确率: 0.7829333333333333\n",
      "最佳参数: {'max_depth': 3}\n",
      "拟合的平均时间(s):0.22\n",
      "预测的平均时间(s):0.003\n"
     ]
    }
   ],
   "source": [
    "# 完整性测试\n",
    "# 用最差的特征\n",
    "the_worst_of_X = X[X.columns.drop(p_values['column'].head(7))]\n",
    "# 如果选择的特征特别差，性能会受影响\n",
    "get_best_model_and_accuracy(dt, dt_params, the_worst_of_X, y)"
   ]
  },
  {
   "cell_type": "markdown",
   "metadata": {},
   "source": [
    "因此，如果不选择之前的7个特征，不仅准确性会变差（几乎和空准确率一样差），而且拟合时间也会变慢。现在可以继续了解下一种特征选择方法了 —— 基于模型的方法。"
   ]
  },
  {
   "cell_type": "markdown",
   "metadata": {},
   "source": [
    "### 基于模型的特征选择\n",
    "\n",
    "这里使用统计方法和测试从原始数据集中选择特征，以优化机器学习流水线的预测性能和时间复杂度。\n",
    "\n",
    "#### 1.自然语言处理的特征选择（选讲）\n",
    "\n",
    "使用上一章的twitter情感分析数据集测试一下新技术，用SelectKBest和CountVectorizer组合一个流水线。看看这次能否不依赖内置的CountVectorizer选择特征，而是用统计测试来提高准确率："
   ]
  },
  {
   "cell_type": "code",
   "execution_count": 77,
   "metadata": {},
   "outputs": [
    {
     "name": "stdout",
     "output_type": "stream",
     "text": [
      " 2013-sfo-customer-survey.csv\n",
      " activity_recognition\n",
      " credit_card_default.csv\n",
      " DataDictionary_2013-SFO-Customer-Survey.pdf\n",
      "'default of credit card clients.csv.zip'\n",
      " GlobalLandTemperaturesByCountry.csv\n",
      " pima-indians-diabetes.csv\n",
      " salary-ranges-by-job-classification.csv\n",
      " twitter-sentiment-analysis-train.csv\n"
     ]
    }
   ],
   "source": [
    "!ls sample_data"
   ]
  },
  {
   "cell_type": "raw",
   "metadata": {},
   "source": [
    "from sklearn.feature_extraction.text import CountVectorizer\n",
    "# 导入朴素贝叶斯，加快处理\n",
    "from sklearn.naive_bayes import MultinomialNB\n",
    "\n",
    "tweets = pd.read_csv('sample_data/twitter-sentiment-analysis-train.csv',\n",
    "                    encoding='latin1')\n",
    "tweets_X, tweets_y = tweets['SentimentText'], tweets['Sentiment']\n",
    "\n",
    "featurizer = CountVectorizer()\n",
    "\n",
    "select_k_text_pipe = Pipeline([\n",
    "    ('featurizer', featurizer),\n",
    "    ('select_k', SelectKBest()),\n",
    "    ('classify', MultinomialNB())\n",
    "])\n",
    "select_k_text_pipe_params = {\n",
    "    'featurizer__ngram_range':[(1, 2)],\n",
    "    'featurizer__max_features': [5000, 10000],\n",
    "    'featurizer__min_df': [0., .1, .2, .3],\n",
    "    'featurizer__max_df': [.7, .8, .9, 1.],\n",
    "    'select_k__k': [1000, 5000]\n",
    "}\n",
    "\n",
    "get_best_model_and_accuracy(select_k_text_pipe, \n",
    "                            select_k_text_pipe_params, \n",
    "                            tweets_X,\n",
    "                            tweets_y)"
   ]
  },
  {
   "cell_type": "markdown",
   "metadata": {},
   "source": [
    "运行时间很长。SelectKBest对于文本数据效果并不好。无论使用何种方式，拟合和预测的时间都很长：这是因为统计单变量方法在大量特征（例如从文本向量化中获取的特征）上表现不佳。"
   ]
  },
  {
   "cell_type": "markdown",
   "metadata": {},
   "source": [
    "#### 2.使用机器学习选择特征\n",
    "\n",
    "这里主要使用的两类模型是基于树的模型和线性模型。这两类模型都有特征排列的功能，在对特征划分子集时很有用。\n",
    "\n",
    "##### 基于树的特征选择指标\n",
    "\n",
    "在拟合决策树时，决策树会从根节点开始，在每个节点处贪婪地选择最优分割，优化**节点纯度**指标。默认情况下，scikit-learn每步都会优化**基尼指数（gini metric）**。\n",
    "\n",
    "每次分割时，模型会记录每个分割对整体优化目标的帮助。因此，在树形结构中，这些指标对**特征重要性**有帮助。\n",
    "\n",
    "为此，拟合一个决策树，并输出特征重要性："
   ]
  },
  {
   "cell_type": "code",
   "execution_count": 84,
   "metadata": {},
   "outputs": [
    {
     "data": {
      "text/plain": [
       "DecisionTreeClassifier(ccp_alpha=0.0, class_weight=None, criterion='gini',\n",
       "                       max_depth=None, max_features=None, max_leaf_nodes=None,\n",
       "                       min_impurity_decrease=0.0, min_impurity_split=None,\n",
       "                       min_samples_leaf=1, min_samples_split=2,\n",
       "                       min_weight_fraction_leaf=0.0, presort='deprecated',\n",
       "                       random_state=None, splitter='best')"
      ]
     },
     "execution_count": 84,
     "metadata": {},
     "output_type": "execute_result"
    }
   ],
   "source": [
    "d_tree = DecisionTreeClassifier()\n",
    "d_tree.fit(X, y)"
   ]
  },
  {
   "cell_type": "markdown",
   "metadata": {},
   "source": [
    "拟合后，可以用feature_importances_属性展示特征对于拟合树的重要性："
   ]
  },
  {
   "cell_type": "code",
   "execution_count": 87,
   "metadata": {},
   "outputs": [
    {
     "data": {
      "text/html": [
       "<div>\n",
       "<style scoped>\n",
       "    .dataframe tbody tr th:only-of-type {\n",
       "        vertical-align: middle;\n",
       "    }\n",
       "\n",
       "    .dataframe tbody tr th {\n",
       "        vertical-align: top;\n",
       "    }\n",
       "\n",
       "    .dataframe thead th {\n",
       "        text-align: right;\n",
       "    }\n",
       "</style>\n",
       "<table border=\"1\" class=\"dataframe\">\n",
       "  <thead>\n",
       "    <tr style=\"text-align: right;\">\n",
       "      <th></th>\n",
       "      <th>importance</th>\n",
       "      <th>feature</th>\n",
       "    </tr>\n",
       "  </thead>\n",
       "  <tbody>\n",
       "    <tr>\n",
       "      <th>5</th>\n",
       "      <td>0.161604</td>\n",
       "      <td>PAY_1</td>\n",
       "    </tr>\n",
       "    <tr>\n",
       "      <th>4</th>\n",
       "      <td>0.071978</td>\n",
       "      <td>AGE</td>\n",
       "    </tr>\n",
       "    <tr>\n",
       "      <th>11</th>\n",
       "      <td>0.070057</td>\n",
       "      <td>BILL_AMT1</td>\n",
       "    </tr>\n",
       "    <tr>\n",
       "      <th>0</th>\n",
       "      <td>0.059077</td>\n",
       "      <td>LIMIT_BAL</td>\n",
       "    </tr>\n",
       "    <tr>\n",
       "      <th>16</th>\n",
       "      <td>0.053182</td>\n",
       "      <td>BILL_AMT6</td>\n",
       "    </tr>\n",
       "  </tbody>\n",
       "</table>\n",
       "</div>"
      ],
      "text/plain": [
       "    importance    feature\n",
       "5     0.161604      PAY_1\n",
       "4     0.071978        AGE\n",
       "11    0.070057  BILL_AMT1\n",
       "0     0.059077  LIMIT_BAL\n",
       "16    0.053182  BILL_AMT6"
      ]
     },
     "execution_count": 87,
     "metadata": {},
     "output_type": "execute_result"
    }
   ],
   "source": [
    "importances = pd.DataFrame({\n",
    "    'importance': d_tree.feature_importances_,\n",
    "    'feature': X.columns\n",
    "}).sort_values('importance', ascending=False)\n",
    "importances.head()"
   ]
  },
  {
   "cell_type": "markdown",
   "metadata": {},
   "source": [
    "上表显示，拟合中最重要的特征是PAY_0，和上一章统计模型的结果相匹配。更值得注意的是第2、第3和第5个特征，这3个特征在进行统计测试时没有显示出重要性。这意味着这种特征选择方法有可能带来一些新的结果。\n",
    "\n",
    "之前我们使用scikit-learn内置的包装器SelectKBest，基于排序函数（例如ANOVA的p值）取前k个特征。下面会引入一个新的包装器SelectFromModel，和SelectKBest一样选取最重要的前k个特征。但是，它会使用**机器学习模型的内部指标**来评估特征的重要性，不使用统计测试的p值。\n",
    "\n",
    "SelectFromModel和SelectKBest相比最大的不同之处在于不使用k（需要保留的特征数）：SelectFromModel使用**阈值**，代表重要性的最低限度。通过这种方式，这种**基于模型的选择器**可以脱离人工筛选的过程，只保留与流水线所需同等数量的特征："
   ]
  },
  {
   "cell_type": "code",
   "execution_count": 90,
   "metadata": {},
   "outputs": [],
   "source": [
    "from sklearn.feature_selection import SelectFromModel\n",
    "\n",
    "select_from_model = SelectFromModel(\n",
    "    DecisionTreeClassifier(), \n",
    "    threshold=.05\n",
    ")"
   ]
  },
  {
   "cell_type": "markdown",
   "metadata": {},
   "source": [
    "然后在SelectFromModel上拟合数据，调用transform方法，观察数据选择后的子集："
   ]
  },
  {
   "cell_type": "code",
   "execution_count": 91,
   "metadata": {},
   "outputs": [
    {
     "data": {
      "text/plain": [
       "(30000, 7)"
      ]
     },
     "execution_count": 91,
     "metadata": {},
     "output_type": "execute_result"
    }
   ],
   "source": [
    "selected_X = select_from_model.fit_transform(X, y)\n",
    "selected_X.shape"
   ]
  },
  {
   "cell_type": "markdown",
   "metadata": {},
   "source": [
    "在流水线中应用选择功能，看看准确率怎么样："
   ]
  },
  {
   "cell_type": "code",
   "execution_count": 92,
   "metadata": {},
   "outputs": [
    {
     "name": "stdout",
     "output_type": "stream",
     "text": [
      "最高准确率: 0.8206999999999999\n",
      "最佳参数: {'classifier__max_depth': 3, 'select__estimator__max_depth': 5, 'select__threshold': 'median'}\n",
      "拟合的平均时间(s):0.258\n",
      "预测的平均时间(s):0.002\n"
     ]
    }
   ],
   "source": [
    "tree_pipe_params = {'classifier__max_depth': [1, 3, 5, 7]}\n",
    "\n",
    "from sklearn.pipeline import Pipeline\n",
    "\n",
    "# 创建基于DecisionTreeClassifier的SelectFromModel\n",
    "select = SelectFromModel(DecisionTreeClassifier())\n",
    "\n",
    "select_from_pipe = Pipeline([\n",
    "    ('select', select),\n",
    "    ('classifier', d_tree)\n",
    "])\n",
    "\n",
    "select_from_pipe_params = deepcopy(tree_pipe_params)\n",
    "\n",
    "select_from_pipe_params.update({\n",
    "    'select__threshold': [.01, .05, .1, .2, .25, .3, .4, .5, .6,\n",
    "                          \"mean\", \"median\", \"2.*mean\"],\n",
    "    'select__estimator__max_depth': [None, 1, 3, 5, 7]\n",
    "})\n",
    "get_best_model_and_accuracy(\n",
    "    select_from_pipe,\n",
    "    select_from_pipe_params,\n",
    "    X, y\n",
    ")"
   ]
  },
  {
   "cell_type": "markdown",
   "metadata": {},
   "source": [
    "准确率没有比原来更好。现在查看基于决策树的选择器选出了哪些特征："
   ]
  },
  {
   "cell_type": "code",
   "execution_count": 97,
   "metadata": {},
   "outputs": [
    {
     "data": {
      "text/plain": [
       "Index(['LIMIT_BAL', 'AGE', 'PAY_1', 'BILL_AMT1', 'BILL_AMT2', 'BILL_AMT3',\n",
       "       'BILL_AMT4', 'BILL_AMT6', 'PAY_AMT1', 'PAY_AMT2', 'PAY_AMT3',\n",
       "       'PAY_AMT5', 'PAY_AMT6'],\n",
       "      dtype='object')"
      ]
     },
     "execution_count": 97,
     "metadata": {},
     "output_type": "execute_result"
    }
   ],
   "source": [
    "select_from_pipe.steps[0][1].fit(X, y)\n",
    "X.columns[select_from_pipe.steps[0][1].get_support()]"
   ]
  },
  {
   "cell_type": "code",
   "execution_count": 101,
   "metadata": {},
   "outputs": [
    {
     "data": {
      "text/plain": [
       "(23, 13)"
      ]
     },
     "execution_count": 101,
     "metadata": {},
     "output_type": "execute_result"
    }
   ],
   "source": [
    "X.columns.shape[0], X.columns[select_from_pipe.steps[0][1].get_support()].shape[0]"
   ]
  },
  {
   "attachments": {
    "77c2746a-d821-441a-8d00-c39aea4471ea.png": {
     "image/png": "[encoded data removed]"
    }
   },
   "cell_type": "markdown",
   "metadata": {},
   "source": [
    "特征数减少了10个，但准确率和不选特征差别不大。可以继续尝试几种基于树的模型，例如RandomForest（随机森林）和ExtraTrees-Classifier（极限随机树）等。\n",
    "\n",
    "#### 3.线性模型和正则化\n",
    "\n",
    "SelectFromModel可以处理任何包括feature_importances_或coef_属性的机器学习模型。\n",
    "\n",
    "基于树的模型会暴露前者，线性模型则会暴露后者。在拟合后，线性回归、逻辑回归、支持向量机（SVM，support vector machine）等线性模型会将一个系数放在特征的斜率（重要性）前面。SelectFromModel会认为这个系数等同于重要性，并根据拟合时的系数选择特征。\n",
    "\n",
    "在使用模型之前，我们需要引入正则化的概念，以选择真正有用的特征。\n",
    "\n",
    "##### 正则化\n",
    "\n",
    "在**线性模型**中，**正则化**是一种对模型施加**额外约束**的方法，目的是**防止过拟合**，并**改进数据泛化能力**。正则化通过对需要优化的**损失函数**添加额外的条件来完成，意味着在拟合时，正则化的线性模型有可能严重减少甚至损坏特征\n",
    "\n",
    "有两种广泛使用的正则化方法：L1和L2正则化。这两种技术都基于向量的Lp范数，定义如下：\n",
    "\n",
    "![image.png](attachment:77c2746a-d821-441a-8d00-c39aea4471ea.png)\n",
    "\n",
    "- L1正则化也称为lasso正则化，会使用L1范数将向量条目绝对值的和加以限制，使系数可以完全消失。如果系数降为0，那么这个特征在预测时就没有任何意义，而且肯定不会被SelectFromModel选择\n",
    "- L2正则化也称为岭正则化，施加惩罚L2范数（向量条目的平方和），让系数不会变成0，但是会非常小\n",
    "\n",
    "正则化也有助于解决多重共线性的问题，也就是说，数据中有多个线性相关的特征。L1惩罚可以强制其他线性相关特征的系数为0，保证选择器不会选择这些线性相关的特征，有助于解决过拟合问题。"
   ]
  },
  {
   "cell_type": "markdown",
   "metadata": {},
   "source": [
    "##### 线性模型系数\n",
    "\n",
    "和之前用树的方法一样，可以用L1和L2正则化为特征选择**寻找最佳系数**。\n",
    "\n",
    "下面用逻辑回归模型作为选择器，在L1和L2范数上进行网格搜索："
   ]
  },
  {
   "cell_type": "code",
   "execution_count": 103,
   "metadata": {},
   "outputs": [
    {
     "name": "stdout",
     "output_type": "stream",
     "text": [
      "最高准确率: 0.8199\n",
      "最佳参数: {'classifier__max_depth': 3, 'select__estimator__penalty': 'l2', 'select__threshold': 'median'}\n",
      "拟合的平均时间(s):0.123\n",
      "预测的平均时间(s):0.001\n"
     ]
    }
   ],
   "source": [
    "# 用正则化后的逻辑回归进行选择\n",
    "logistic_selector = SelectFromModel(LogisticRegression())\n",
    "# 新流水线，用LogistisRegression的参数进行排列\n",
    "regularization_pipe = Pipeline([\n",
    "    ('select', logistic_selector),\n",
    "    ('classifier', d_tree)\n",
    "])\n",
    "regularization_pipe_params = deepcopy(tree_pipe_params)\n",
    "# L1 和L2 正则化\n",
    "regularization_pipe_params.update({\n",
    "    'select__threshold': [.01, .05, .1, \"mean\", \"median\", \"2.*mean\"],\n",
    "    'select__estimator__penalty': ['l1', 'l2'],\n",
    "})\n",
    "\n",
    "get_best_model_and_accuracy(\n",
    "    regularization_pipe,\n",
    "    regularization_pipe_params,\n",
    "    X, y\n",
    ")"
   ]
  },
  {
   "cell_type": "markdown",
   "metadata": {},
   "source": [
    "准确率比统计测试略低。再次使用SelectFromModel的get_support()方法，列出选择的特征："
   ]
  },
  {
   "cell_type": "code",
   "execution_count": 105,
   "metadata": {},
   "outputs": [
    {
     "data": {
      "text/plain": [
       "Index(['AGE', 'PAY_1'], dtype='object')"
      ]
     },
     "execution_count": 105,
     "metadata": {},
     "output_type": "execute_result"
    }
   ],
   "source": [
    "regularization_pipe.steps[0][1].fit(X, y)\n",
    "X.columns[regularization_pipe.steps[0][1].get_support()]"
   ]
  },
  {
   "cell_type": "markdown",
   "metadata": {},
   "source": [
    "可见，逻辑回归选择器只选择了两个特征就达到了81.99%的准确率。接下来用SelectFromModel模块在**支持向量机（SVM）** 分类器上进行测试。\n",
    "\n",
    "支持向量机是分类模型，在空间中绘制线性边界，对数据进行分类，这些线性边界称为作**支持向量**。逻辑回归分类器和支持向量分类器（SVC）的最大区别在于，后者会最大优化二分类项目的准确性，而前者对属性的建模更好。\n",
    "\n",
    "下面，用scikit-learn实现一个线性SVC模型:"
   ]
  },
  {
   "cell_type": "code",
   "execution_count": null,
   "metadata": {},
   "outputs": [],
   "source": [
    "# SVC是线性模型，用线性支持在欧几里得空间内分割数据\n",
    "# 只能解决二分类问题\n",
    "from sklearn.svm import LinearSVC\n",
    "# 用SVC取参数\n",
    "svc_selector = SelectFromModel(LinearSVC())\n",
    "\n",
    "svc_pipe = Pipeline([\n",
    "    ('select', svc_selector),\n",
    "    ('classifier', d_tree)\n",
    "])\n",
    "svc_pipe_params = deepcopy(tree_pipe_params)\n",
    "svc_pipe_params.update({\n",
    "    'select__threshold': [.01, .05, .1, \"mean\", \"median\", \"2.*mean\"],\n",
    "    'select__estimator__penalty': ['l1', 'l2'],\n",
    "    'select__estimator__loss': ['squared_hinge', 'hinge'],\n",
    "    'select__estimator__dual': [True, False]\n",
    "})\n",
    "\n",
    "get_best_model_and_accuracy(\n",
    "    svc_pipe,\n",
    "    svc_pipe_params,\n",
    "    X, y\n",
    ")"
   ]
  },
  {
   "cell_type": "markdown",
   "metadata": {},
   "source": [
    "SVC达到了最高的准确率。可以看见拟合时间受到了影响，但是如果能把最快的预测和最好的准确率结合，那么机器学习流水线就会很出色了：基于SVC，利用正则化为决策树分类器找到最佳特征。\n",
    "\n",
    "下面看看选择器选择了哪些特征来达到目前的最佳准确率："
   ]
  },
  {
   "cell_type": "code",
   "execution_count": null,
   "metadata": {},
   "outputs": [],
   "source": [
    "svc_pipe.steps[0][1].fit(X, y)\n",
    "X.columns[svc_pipe.steps[0][1].get_support()]"
   ]
  },
  {
   "cell_type": "markdown",
   "metadata": {},
   "source": [
    "## 5.4 选用正确的特征选择方法\n",
    "\n",
    "我们已经知道，选择特征的方法主要有两类：\n",
    "\n",
    "- 基于统计学\n",
    "- 基于机器学习模型的二次输出\n",
    "\n",
    "那么，二者之间该选谁呢？最理想的情况是向本章这样多次尝试，但这样是不可行的。下面是一些经验作为指导下建议，可以帮助你做出恰当选择：\n",
    "\n",
    " - 如果特征是分类的，那么从SelectKBest开始，用卡方或基于树的选择器。\n",
    " - 如果特征基本是定量的，用线性模型和基于相关性的选择器一般效果更好\n",
    " - 如果是二元分类问题，考虑使用SelectFromModel和SVC，因为SVC会查找优化二元分类任务的系数\n",
    " - 在手动选择前，探索性数据分析会很有益处。不能低估领域知识的重要性\n",
    " \n",
    "本章的方式仅适合数据集特征较少的情况，如果数据集（如图像和文本）有很多特征（超过100），就要考虑数学转换的方法，以减少处理大量特征的工作量和特征难以解释的问题。"
   ]
  },
  {
   "cell_type": "code",
   "execution_count": null,
   "metadata": {},
   "outputs": [],
   "source": []
  }
 ],
 "metadata": {
  "kernelspec": {
   "display_name": "Python 3",
   "language": "python",
   "name": "python3"
  },
  "language_info": {
   "codemirror_mode": {
    "name": "ipython",
    "version": 3
   },
   "file_extension": ".py",
   "mimetype": "text/x-python",
   "name": "python",
   "nbconvert_exporter": "python",
   "pygments_lexer": "ipython3",
   "version": "3.7.6"
  }
 },
 "nbformat": 4,
 "nbformat_minor": 4
}
