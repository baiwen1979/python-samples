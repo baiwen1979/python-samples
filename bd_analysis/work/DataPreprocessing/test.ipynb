{
 "cells": [
  {
   "cell_type": "code",
   "execution_count": 3,
   "metadata": {},
   "outputs": [
    {
     "name": "stdout",
     "output_type": "stream",
     "text": [
      "total 91784\n",
      "-rw-r--r-- 1 jovyan users   257098 Sep  1  2019 all_week.csv\n",
      "-rw-r--r-- 1 jovyan users  1593275 Sep  1  2019 Baltimore_City_Employee_Salaries_FY2016.csv\n",
      "-rw-r--r-- 1 jovyan users     3133 Aug 14  2019 class_info.csv\n",
      "-rw-r--r-- 1 jovyan users   505096 Sep  1  2019 cn_starbucks.csv\n",
      "-rw-r--r-- 1 jovyan users  4111462 Sep  1  2019 directory.csv\n",
      "-rw------- 1 jovyan users       65 Sep  2  2019 eg01.csv\n",
      "-rw------- 1 jovyan users      127 Aug 30  2019 eg02.csv\n",
      "-rw------- 1 jovyan users       75 Aug 30  2019 eg03.csv\n",
      "-rw------- 1 jovyan users       75 Aug 30  2019 eg3.csv\n",
      "-rw-r--r-- 1 jovyan users  2368496 Aug 12  2019 gone_with_wind.txt\n",
      "-rw-r--r-- 1 jovyan users    18705 Sep  6  2019 ibm_stock.csv\n",
      "-rw-r--r-- 1 jovyan users     1465 Aug 12  2019 ibm_stock_part-00000\n",
      "-rw-r--r-- 1 jovyan users     4595 Sep  1  2019 iris-clean-data.csv\n",
      "-rw-r--r-- 1 jovyan users     4457 Sep  1  2019 iris-data.csv\n",
      "-rw-r--r-- 1 jovyan users  2222097 Sep 21  2019 lianjia.csv\n",
      "-rwxr-xr-x 1 jovyan users   579711 Jul 25  2018 meal_order_detail1.sql\n",
      "-rwxr-xr-x 1 jovyan users   764955 Jul 25  2018 meal_order_detail2.sql\n",
      "-rwxr-xr-x 1 jovyan users   756804 Jul 25  2018 meal_order_detail3.sql\n",
      "-rwxr-xr-x 1 jovyan users   918119 Jul 25  2018 meal_order_detail.xlsx\n",
      "-rwxr-xr-x 1 jovyan users   115573 Jul 25  2018 meal_order_info.csv\n",
      "-rw-r--r-- 1 jovyan users   674570 Aug 11  2019 pg20417.txt\n",
      "-rw-r--r-- 1 jovyan users  1586393 Aug 11  2019 pg4300.txt\n",
      "-rw-r--r-- 1 jovyan users  1428841 Aug 11  2019 pg5000.txt\n",
      "-rw-r--r-- 1 jovyan users      150 Aug 13  2019 plates_data1.txt\n",
      "-rw-r--r-- 1 jovyan users      186 Aug 13  2019 plates_data2.txt\n",
      "-rw-r--r-- 1 jovyan users       17 Aug 13  2019 plates_data_result.txt\n",
      "-rw-r--r-- 1 jovyan users       35 Aug 13  2019 plates_part_result.txt\n",
      "-rw-r--r-- 1 jovyan users      180 Aug 13  2019 plates_secsort_result.txt\n",
      "-rw-r--r-- 1 jovyan users      120 Aug 13  2019 plates_secsort_rssult.txt\n",
      "-rw-r--r-- 1 jovyan users   222437 Sep 25  2019 post.csv.html\n",
      "-rw-r--r-- 1 jovyan users    94732 Sep  1  2019 qiushi_info.csv\n",
      "-rw-r--r-- 1 jovyan users      543 Aug 13  2019 sample_data.csv\n",
      "-rw-r--r-- 1 jovyan users      306 Aug 14  2019 score.csv\n",
      "-rw-r--r-- 1 jovyan users  4077742 Sep  1  2019 starbucks.csv\n",
      "-rw-r--r-- 1 jovyan users      122 Sep  4  2019 student.csv\n",
      "-rw-r--r-- 1 jovyan users    30765 Aug 14  2019 student_info.csv\n",
      "-rw-r--r-- 1 jovyan users      420 Aug 14  2019 student_score.csv\n",
      "-rw-r--r-- 1 jovyan users      399 Aug 14  2019 student_score_result.txt\n",
      "-rwxr-xr-x 1 jovyan users 10284925 Sep 21  2019 superstore_data.csv\n",
      "-rw-r--r-- 1 jovyan users  2839564 Sep 21  2019 superstore-data.zip\n",
      "-rw-r--r-- 1 jovyan users    60302 Sep  1  2019 titanic.csv\n",
      "-rw-r--r-- 1 jovyan users       18 Aug 14  2019 top_student.csv\n",
      "-rw-r--r-- 1 jovyan users    25517 Sep  1  2019 train.csv\n",
      "-rwxr-xr-x 1 jovyan users 18962271 Jul 25  2018 Training_LogInfo.csv\n",
      "-rwxr-xr-x 1 jovyan users 20322725 Jul 25  2018 Training_Master.csv\n",
      "-rwxr-xr-x 1 jovyan users 15323941 Jul 25  2018 Training_Userupdate.csv\n",
      "-rw-r--r-- 1 jovyan users   131502 Sep  1  2019 us_cities.csv\n",
      "-rw-r--r-- 1 jovyan users    25914 Sep  1  2019 user_info.csv\n",
      "-rw------- 1 jovyan users   135889 Sep  5  2019 users.xlsx\n",
      "-rw-r--r-- 1 jovyan users    22858 Sep 27  2019 数据特征说明.htm\n",
      "-rwxr-xr-x 1 jovyan users    13407 Oct 22  2018 数据特征说明.xlsx\n"
     ]
    }
   ],
   "source": [
    "!ls -l ../sample_data"
   ]
  },
  {
   "cell_type": "code",
   "execution_count": 5,
   "metadata": {},
   "outputs": [
    {
     "name": "stdout",
     "output_type": "stream",
     "text": [
      "/usr/bin/sh: 1: mysql: not found\n"
     ]
    }
   ],
   "source": [
    "!"
   ]
  },
  {
   "cell_type": "code",
   "execution_count": null,
   "metadata": {},
   "outputs": [],
   "source": []
  }
 ],
 "metadata": {
  "kernelspec": {
   "display_name": "Python 3",
   "language": "python",
   "name": "python3"
  },
  "language_info": {
   "codemirror_mode": {
    "name": "ipython",
    "version": 3
   },
   "file_extension": ".py",
   "mimetype": "text/x-python",
   "name": "python",
   "nbconvert_exporter": "python",
   "pygments_lexer": "ipython3",
   "version": "3.7.6"
  }
 },
 "nbformat": 4,
 "nbformat_minor": 4
}
