{
 "cells": [
  {
   "cell_type": "markdown",
   "metadata": {},
   "source": [
    "# Concepts and Best Practices of Matplotlib \n",
    "\n",
    "## Concepts\n",
    "\n",
    "1. **everything in matplotlib is organized in a hierarchy**. At the top of the hierarchy is the matplotlib \"state-machine environment\" which is provided by the matplotlib.pyplot module. At this level, simple functions are used to add plot elements (lines, images, text, etc.) to the current axes in the current figure.\n",
    "\n",
    "2. The next level down in the hierarchy is the first level of the object-oriented interface, in which pyplot is used only for a few functions such as figure creation, and the user explicitly creates and keeps track of the figure and axes objects. At this level, the user uses pyplot to create figures, and through those figures, one or more axes objects can be created. **These axes objects are then used for most plotting actions**.\n",
    "\n",
    "3. The **Axes class and its member functions are the primary entry point** to working with the OO interface.\n",
    "\n",
    "4. Matplotlib is the whole package and matplotlib.pyplot is a module in Matplotlib.\n",
    "\n",
    "5. matplotlib targets many different use cases and output formats. To support all of these use cases, matplotlib can target different outputs, and each of these capabilities is called a **backend**; the \"frontend\" is the user facing code, i.e., the plotting code, whereas the \"backend\" does all the hard work behind-the-scenes to make the figure.\n",
    "\n",
    "6. There are two types of backends: **user interface backends** (for use in pygtk, wxpython, tkinter, qt4, or macosx; also referred to as \"interactive backends\") and **hardcopy backends** to make image files (PNG, SVG, PDF, PS; also referred to as \"non-interactive backends\")\n",
    "\n",
    "7. Vector graphics languages issue drawing commands like \"draw a line from this point to this point\" and hence are scale free, and raster backends generate a pixel representation of the line whose accuracy depends on a DPI setting.\n",
    "\n",
    "\n",
    "\n",
    "## Best practices\n",
    "\n",
    "1. For non-interactive plotting it is suggested to **use pyplot to create the figures** and then the **OO interface for plotting**.\n",
    "\n",
    "2. All of plotting functions expect np.array or np.ma.masked_array as input. Classes that are 'array-like' such as pandas data objects and np.matrix may or may not work as intended. **It is best to convert these to np.array objects prior to plotting**\n",
    "\n",
    "3. Use the pyplot interface for creating figures, and then use the object methods for the rest.\n",
    "\n",
    "4. For more complicated applications, this explicitness and clarity becomes increasingly valuable, and the richer and more complete object-oriented interface will likely make the program easier to write and maintain.(使用pyplot命令是一种MATLAB风格的写法，比较适合学术研究，但对于较为复杂应用程序的开发，应该使用面向对象风格的接口。即仅使用pyplot创建图表，然后使用Axes对象的OO接口进行绘图）\n",
    "\n",
    "5. Interactive mode may also be turned on via matplotlib.pyplot.ion(), and turned off via matplotlib.pyplot.ioff()\n",
    "\n"
   ]
  }
 ],
 "metadata": {
  "kernelspec": {
   "display_name": "Python 3",
   "language": "python",
   "name": "python3"
  },
  "language_info": {
   "codemirror_mode": {
    "name": "ipython",
    "version": 3
   },
   "file_extension": ".py",
   "mimetype": "text/x-python",
   "name": "python",
   "nbconvert_exporter": "python",
   "pygments_lexer": "ipython3",
   "version": "3.7.3"
  }
 },
 "nbformat": 4,
 "nbformat_minor": 2
}
