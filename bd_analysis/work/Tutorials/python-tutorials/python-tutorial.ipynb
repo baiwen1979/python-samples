{
 "cells": [
  {
   "cell_type": "markdown",
   "metadata": {},
   "source": [
    "# Python 语言基础教程\n",
    "\n",
    "---\n",
    "\n",
    "最少必要知识（Minimal Actionable Knowledge and Experience，简称MAKE）是入门某个新领域切实可行的最小知识集合。在学习某项技能时，我们要想办法在最短的时间内摸索清楚掌握这项技能的“最少必要知识”，然后迅速“get”它们，这是快速掌握某项技能的正确“姿势”。一旦掌握某项技能的MAKE，那么技能的提升通道就需要在实践中找到，缺啥补啥，有明确的任务导向，学习效率会“有如神助疾如风”。这也是信息时代的快节奏学习法。\n",
    "\n",
    "本教程就是大家需要掌握的最少必要知识，希望大家通过动手实践有所收获。\n",
    "\n",
    "## 1 基本语法\n",
    "\n",
    "### 1.1 声明与注释"
   ]
  },
  {
   "cell_type": "markdown",
   "metadata": {},
   "source": [
    "#### 1. 声明\n",
    "\n",
    "##### 编码声明"
   ]
  },
  {
   "cell_type": "code",
   "execution_count": 27,
   "metadata": {},
   "outputs": [
    {
     "name": "stdout",
     "output_type": "stream",
     "text": [
      "# -*- coding: utf-8 -*-\n"
     ]
    }
   ],
   "source": [
    "!head -n 1 apps/util.py"
   ]
  },
  {
   "cell_type": "markdown",
   "metadata": {},
   "source": [
    "##### 解释器路径声明"
   ]
  },
  {
   "cell_type": "code",
   "execution_count": 28,
   "metadata": {},
   "outputs": [
    {
     "name": "stdout",
     "output_type": "stream",
     "text": [
      "#!/opt/conda/bin/python\n",
      "\n",
      "print(\"你好，世界！\")\n",
      "\n"
     ]
    }
   ],
   "source": [
    "!cat apps/run.py"
   ]
  },
  {
   "cell_type": "code",
   "execution_count": 29,
   "metadata": {},
   "outputs": [],
   "source": [
    "!chmod +x apps/run.py"
   ]
  },
  {
   "cell_type": "code",
   "execution_count": 31,
   "metadata": {},
   "outputs": [
    {
     "name": "stdout",
     "output_type": "stream",
     "text": [
      "你好，世界！\n"
     ]
    }
   ],
   "source": [
    "!apps/run.py"
   ]
  },
  {
   "cell_type": "markdown",
   "metadata": {},
   "source": [
    "#### 2.注释\n",
    "\n",
    "##### 单行注释"
   ]
  },
  {
   "cell_type": "code",
   "execution_count": 1,
   "metadata": {},
   "outputs": [],
   "source": [
    "# 单行"
   ]
  },
  {
   "cell_type": "markdown",
   "metadata": {},
   "source": [
    "##### 多行注释"
   ]
  },
  {
   "cell_type": "code",
   "execution_count": 10,
   "metadata": {},
   "outputs": [
    {
     "name": "stdout",
     "output_type": "stream",
     "text": [
      "hello, python\n"
     ]
    }
   ],
   "source": [
    "'''\n",
    "第一行\n",
    "第二行\n",
    "'''\n",
    "print('hello, python')"
   ]
  },
  {
   "cell_type": "markdown",
   "metadata": {},
   "source": [
    "### 1.2 缩进与语句块"
   ]
  },
  {
   "cell_type": "code",
   "execution_count": 5,
   "metadata": {},
   "outputs": [
    {
     "data": {
      "text/plain": [
       "5050"
      ]
     },
     "execution_count": 5,
     "metadata": {},
     "output_type": "execute_result"
    }
   ],
   "source": [
    "sum = 0\n",
    "for i in range(1, 101):\n",
    "    sum += i\n",
    "\n",
    "sum"
   ]
  },
  {
   "cell_type": "markdown",
   "metadata": {},
   "source": [
    "### 1.3. 保留字与赋值\n",
    "\n",
    "#### 保留字"
   ]
  },
  {
   "cell_type": "code",
   "execution_count": 1,
   "metadata": {},
   "outputs": [
    {
     "name": "stdout",
     "output_type": "stream",
     "text": [
      "---------------------------------------- 保留字 ----------------------------------------\n"
     ]
    },
    {
     "data": {
      "text/html": [
       "<ul style=\"\n",
       "    list-style-type:none;\n",
       "    \"><li style=\"\n",
       "    display: inline-block;\n",
       "    padding-right: 1em;\n",
       "    width: 8.5em;\n",
       "    \">__add__</li><li style=\"\n",
       "    display: inline-block;\n",
       "    padding-right: 1em;\n",
       "    width: 8.5em;\n",
       "    \">__class__</li><li style=\"\n",
       "    display: inline-block;\n",
       "    padding-right: 1em;\n",
       "    width: 8.5em;\n",
       "    \">__contains__</li><li style=\"\n",
       "    display: inline-block;\n",
       "    padding-right: 1em;\n",
       "    width: 8.5em;\n",
       "    \">__delattr__</li><li style=\"\n",
       "    display: inline-block;\n",
       "    padding-right: 1em;\n",
       "    width: 8.5em;\n",
       "    \">__delitem__</li><li style=\"\n",
       "    display: inline-block;\n",
       "    padding-right: 1em;\n",
       "    width: 8.5em;\n",
       "    \">__dir__</li><li style=\"\n",
       "    display: inline-block;\n",
       "    padding-right: 1em;\n",
       "    width: 8.5em;\n",
       "    \">__doc__</li><li style=\"\n",
       "    display: inline-block;\n",
       "    padding-right: 1em;\n",
       "    width: 8.5em;\n",
       "    \">__eq__</li><li style=\"\n",
       "    display: inline-block;\n",
       "    padding-right: 1em;\n",
       "    width: 8.5em;\n",
       "    \">__format__</li><li style=\"\n",
       "    display: inline-block;\n",
       "    padding-right: 1em;\n",
       "    width: 8.5em;\n",
       "    \">__ge__</li><li style=\"\n",
       "    display: inline-block;\n",
       "    padding-right: 1em;\n",
       "    width: 8.5em;\n",
       "    \">__getattribute__</li><li style=\"\n",
       "    display: inline-block;\n",
       "    padding-right: 1em;\n",
       "    width: 8.5em;\n",
       "    \">__getitem__</li><li style=\"\n",
       "    display: inline-block;\n",
       "    padding-right: 1em;\n",
       "    width: 8.5em;\n",
       "    \">__gt__</li><li style=\"\n",
       "    display: inline-block;\n",
       "    padding-right: 1em;\n",
       "    width: 8.5em;\n",
       "    \">__hash__</li><li style=\"\n",
       "    display: inline-block;\n",
       "    padding-right: 1em;\n",
       "    width: 8.5em;\n",
       "    \">__iadd__</li><li style=\"\n",
       "    display: inline-block;\n",
       "    padding-right: 1em;\n",
       "    width: 8.5em;\n",
       "    \">__imul__</li><li style=\"\n",
       "    display: inline-block;\n",
       "    padding-right: 1em;\n",
       "    width: 8.5em;\n",
       "    \">__init__</li><li style=\"\n",
       "    display: inline-block;\n",
       "    padding-right: 1em;\n",
       "    width: 8.5em;\n",
       "    \">__init_subclass__</li><li style=\"\n",
       "    display: inline-block;\n",
       "    padding-right: 1em;\n",
       "    width: 8.5em;\n",
       "    \">__iter__</li><li style=\"\n",
       "    display: inline-block;\n",
       "    padding-right: 1em;\n",
       "    width: 8.5em;\n",
       "    \">__le__</li><li style=\"\n",
       "    display: inline-block;\n",
       "    padding-right: 1em;\n",
       "    width: 8.5em;\n",
       "    \">__len__</li><li style=\"\n",
       "    display: inline-block;\n",
       "    padding-right: 1em;\n",
       "    width: 8.5em;\n",
       "    \">__lt__</li><li style=\"\n",
       "    display: inline-block;\n",
       "    padding-right: 1em;\n",
       "    width: 8.5em;\n",
       "    \">__mul__</li><li style=\"\n",
       "    display: inline-block;\n",
       "    padding-right: 1em;\n",
       "    width: 8.5em;\n",
       "    \">__ne__</li><li style=\"\n",
       "    display: inline-block;\n",
       "    padding-right: 1em;\n",
       "    width: 8.5em;\n",
       "    \">__new__</li><li style=\"\n",
       "    display: inline-block;\n",
       "    padding-right: 1em;\n",
       "    width: 8.5em;\n",
       "    \">__reduce__</li><li style=\"\n",
       "    display: inline-block;\n",
       "    padding-right: 1em;\n",
       "    width: 8.5em;\n",
       "    \">__reduce_ex__</li><li style=\"\n",
       "    display: inline-block;\n",
       "    padding-right: 1em;\n",
       "    width: 8.5em;\n",
       "    \">__repr__</li><li style=\"\n",
       "    display: inline-block;\n",
       "    padding-right: 1em;\n",
       "    width: 8.5em;\n",
       "    \">__reversed__</li><li style=\"\n",
       "    display: inline-block;\n",
       "    padding-right: 1em;\n",
       "    width: 8.5em;\n",
       "    \">__rmul__</li><li style=\"\n",
       "    display: inline-block;\n",
       "    padding-right: 1em;\n",
       "    width: 8.5em;\n",
       "    \">__setattr__</li><li style=\"\n",
       "    display: inline-block;\n",
       "    padding-right: 1em;\n",
       "    width: 8.5em;\n",
       "    \">__setitem__</li><li style=\"\n",
       "    display: inline-block;\n",
       "    padding-right: 1em;\n",
       "    width: 8.5em;\n",
       "    \">__sizeof__</li><li style=\"\n",
       "    display: inline-block;\n",
       "    padding-right: 1em;\n",
       "    width: 8.5em;\n",
       "    \">__str__</li><li style=\"\n",
       "    display: inline-block;\n",
       "    padding-right: 1em;\n",
       "    width: 8.5em;\n",
       "    \">__subclasshook__</li><li style=\"\n",
       "    display: inline-block;\n",
       "    padding-right: 1em;\n",
       "    width: 8.5em;\n",
       "    \">append</li><li style=\"\n",
       "    display: inline-block;\n",
       "    padding-right: 1em;\n",
       "    width: 8.5em;\n",
       "    \">clear</li><li style=\"\n",
       "    display: inline-block;\n",
       "    padding-right: 1em;\n",
       "    width: 8.5em;\n",
       "    \">copy</li><li style=\"\n",
       "    display: inline-block;\n",
       "    padding-right: 1em;\n",
       "    width: 8.5em;\n",
       "    \">count</li><li style=\"\n",
       "    display: inline-block;\n",
       "    padding-right: 1em;\n",
       "    width: 8.5em;\n",
       "    \">extend</li><li style=\"\n",
       "    display: inline-block;\n",
       "    padding-right: 1em;\n",
       "    width: 8.5em;\n",
       "    \">index</li><li style=\"\n",
       "    display: inline-block;\n",
       "    padding-right: 1em;\n",
       "    width: 8.5em;\n",
       "    \">insert</li><li style=\"\n",
       "    display: inline-block;\n",
       "    padding-right: 1em;\n",
       "    width: 8.5em;\n",
       "    \">pop</li><li style=\"\n",
       "    display: inline-block;\n",
       "    padding-right: 1em;\n",
       "    width: 8.5em;\n",
       "    \">remove</li><li style=\"\n",
       "    display: inline-block;\n",
       "    padding-right: 1em;\n",
       "    width: 8.5em;\n",
       "    \">reverse</li><li style=\"\n",
       "    display: inline-block;\n",
       "    padding-right: 1em;\n",
       "    width: 8.5em;\n",
       "    \">sort</li></ul>"
      ],
      "text/plain": [
       "<IPython.core.display.HTML object>"
      ]
     },
     "metadata": {},
     "output_type": "display_data"
    }
   ],
   "source": [
    "import keyword\n",
    "from apps.util import print_as_html\n",
    "\n",
    "print(40 * '-','保留字', 40 * '-')\n",
    "print_as_html(dir(keyword.kwlist))"
   ]
  },
  {
   "cell_type": "code",
   "execution_count": 11,
   "metadata": {},
   "outputs": [
    {
     "name": "stdin",
     "output_type": "stream",
     "text": [
      "Please input: 100\n"
     ]
    },
    {
     "name": "stdout",
     "output_type": "stream",
     "text": [
      "Your input: 100 <class 'str'>\n"
     ]
    }
   ],
   "source": [
    "val = input('Please input:')\n",
    "print('Your input:', val)"
   ]
  },
  {
   "cell_type": "code",
   "execution_count": 9,
   "metadata": {},
   "outputs": [
    {
     "name": "stdout",
     "output_type": "stream",
     "text": [
      "The Zen of Python, by Tim Peters\n",
      "\n",
      "Beautiful is better than ugly.\n",
      "Explicit is better than implicit.\n",
      "Simple is better than complex.\n",
      "Complex is better than complicated.\n",
      "Flat is better than nested.\n",
      "Sparse is better than dense.\n",
      "Readability counts.\n",
      "Special cases aren't special enough to break the rules.\n",
      "Although practicality beats purity.\n",
      "Errors should never pass silently.\n",
      "Unless explicitly silenced.\n",
      "In the face of ambiguity, refuse the temptation to guess.\n",
      "There should be one-- and preferably only one --obvious way to do it.\n",
      "Although that way may not be obvious at first unless you're Dutch.\n",
      "Now is better than never.\n",
      "Although never is often better than *right* now.\n",
      "If the implementation is hard to explain, it's a bad idea.\n",
      "If the implementation is easy to explain, it may be a good idea.\n",
      "Namespaces are one honking great idea -- let's do more of those!\n"
     ]
    }
   ],
   "source": [
    "# python之禅\n",
    "import this"
   ]
  },
  {
   "cell_type": "code",
   "execution_count": 2,
   "metadata": {},
   "outputs": [
    {
     "name": "stdout",
     "output_type": "stream",
     "text": [
      "-------------------------------------------------- 内置函数 --------------------------------------------------\n"
     ]
    },
    {
     "data": {
      "text/html": [
       "<ul style=\"\n",
       "    list-style-type:none;\n",
       "    \"><li style=\"\n",
       "    display: inline-block;\n",
       "    padding-right: 1em;\n",
       "    width: 12.5em;\n",
       "    \">ArithmeticError</li><li style=\"\n",
       "    display: inline-block;\n",
       "    padding-right: 1em;\n",
       "    width: 12.5em;\n",
       "    \">AssertionError</li><li style=\"\n",
       "    display: inline-block;\n",
       "    padding-right: 1em;\n",
       "    width: 12.5em;\n",
       "    \">AttributeError</li><li style=\"\n",
       "    display: inline-block;\n",
       "    padding-right: 1em;\n",
       "    width: 12.5em;\n",
       "    \">BaseException</li><li style=\"\n",
       "    display: inline-block;\n",
       "    padding-right: 1em;\n",
       "    width: 12.5em;\n",
       "    \">BlockingIOError</li><li style=\"\n",
       "    display: inline-block;\n",
       "    padding-right: 1em;\n",
       "    width: 12.5em;\n",
       "    \">BrokenPipeError</li><li style=\"\n",
       "    display: inline-block;\n",
       "    padding-right: 1em;\n",
       "    width: 12.5em;\n",
       "    \">BufferError</li><li style=\"\n",
       "    display: inline-block;\n",
       "    padding-right: 1em;\n",
       "    width: 12.5em;\n",
       "    \">BytesWarning</li><li style=\"\n",
       "    display: inline-block;\n",
       "    padding-right: 1em;\n",
       "    width: 12.5em;\n",
       "    \">ChildProcessError</li><li style=\"\n",
       "    display: inline-block;\n",
       "    padding-right: 1em;\n",
       "    width: 12.5em;\n",
       "    \">ConnectionAbortedError</li><li style=\"\n",
       "    display: inline-block;\n",
       "    padding-right: 1em;\n",
       "    width: 12.5em;\n",
       "    \">ConnectionError</li><li style=\"\n",
       "    display: inline-block;\n",
       "    padding-right: 1em;\n",
       "    width: 12.5em;\n",
       "    \">ConnectionRefusedError</li><li style=\"\n",
       "    display: inline-block;\n",
       "    padding-right: 1em;\n",
       "    width: 12.5em;\n",
       "    \">ConnectionResetError</li><li style=\"\n",
       "    display: inline-block;\n",
       "    padding-right: 1em;\n",
       "    width: 12.5em;\n",
       "    \">DeprecationWarning</li><li style=\"\n",
       "    display: inline-block;\n",
       "    padding-right: 1em;\n",
       "    width: 12.5em;\n",
       "    \">EOFError</li><li style=\"\n",
       "    display: inline-block;\n",
       "    padding-right: 1em;\n",
       "    width: 12.5em;\n",
       "    \">Ellipsis</li><li style=\"\n",
       "    display: inline-block;\n",
       "    padding-right: 1em;\n",
       "    width: 12.5em;\n",
       "    \">EnvironmentError</li><li style=\"\n",
       "    display: inline-block;\n",
       "    padding-right: 1em;\n",
       "    width: 12.5em;\n",
       "    \">Exception</li><li style=\"\n",
       "    display: inline-block;\n",
       "    padding-right: 1em;\n",
       "    width: 12.5em;\n",
       "    \">False</li><li style=\"\n",
       "    display: inline-block;\n",
       "    padding-right: 1em;\n",
       "    width: 12.5em;\n",
       "    \">FileExistsError</li><li style=\"\n",
       "    display: inline-block;\n",
       "    padding-right: 1em;\n",
       "    width: 12.5em;\n",
       "    \">FileNotFoundError</li><li style=\"\n",
       "    display: inline-block;\n",
       "    padding-right: 1em;\n",
       "    width: 12.5em;\n",
       "    \">FloatingPointError</li><li style=\"\n",
       "    display: inline-block;\n",
       "    padding-right: 1em;\n",
       "    width: 12.5em;\n",
       "    \">FutureWarning</li><li style=\"\n",
       "    display: inline-block;\n",
       "    padding-right: 1em;\n",
       "    width: 12.5em;\n",
       "    \">GeneratorExit</li><li style=\"\n",
       "    display: inline-block;\n",
       "    padding-right: 1em;\n",
       "    width: 12.5em;\n",
       "    \">IOError</li><li style=\"\n",
       "    display: inline-block;\n",
       "    padding-right: 1em;\n",
       "    width: 12.5em;\n",
       "    \">ImportError</li><li style=\"\n",
       "    display: inline-block;\n",
       "    padding-right: 1em;\n",
       "    width: 12.5em;\n",
       "    \">ImportWarning</li><li style=\"\n",
       "    display: inline-block;\n",
       "    padding-right: 1em;\n",
       "    width: 12.5em;\n",
       "    \">IndentationError</li><li style=\"\n",
       "    display: inline-block;\n",
       "    padding-right: 1em;\n",
       "    width: 12.5em;\n",
       "    \">IndexError</li><li style=\"\n",
       "    display: inline-block;\n",
       "    padding-right: 1em;\n",
       "    width: 12.5em;\n",
       "    \">InterruptedError</li><li style=\"\n",
       "    display: inline-block;\n",
       "    padding-right: 1em;\n",
       "    width: 12.5em;\n",
       "    \">IsADirectoryError</li><li style=\"\n",
       "    display: inline-block;\n",
       "    padding-right: 1em;\n",
       "    width: 12.5em;\n",
       "    \">KeyError</li><li style=\"\n",
       "    display: inline-block;\n",
       "    padding-right: 1em;\n",
       "    width: 12.5em;\n",
       "    \">KeyboardInterrupt</li><li style=\"\n",
       "    display: inline-block;\n",
       "    padding-right: 1em;\n",
       "    width: 12.5em;\n",
       "    \">LookupError</li><li style=\"\n",
       "    display: inline-block;\n",
       "    padding-right: 1em;\n",
       "    width: 12.5em;\n",
       "    \">MemoryError</li><li style=\"\n",
       "    display: inline-block;\n",
       "    padding-right: 1em;\n",
       "    width: 12.5em;\n",
       "    \">ModuleNotFoundError</li><li style=\"\n",
       "    display: inline-block;\n",
       "    padding-right: 1em;\n",
       "    width: 12.5em;\n",
       "    \">NameError</li><li style=\"\n",
       "    display: inline-block;\n",
       "    padding-right: 1em;\n",
       "    width: 12.5em;\n",
       "    \">None</li><li style=\"\n",
       "    display: inline-block;\n",
       "    padding-right: 1em;\n",
       "    width: 12.5em;\n",
       "    \">NotADirectoryError</li><li style=\"\n",
       "    display: inline-block;\n",
       "    padding-right: 1em;\n",
       "    width: 12.5em;\n",
       "    \">NotImplemented</li><li style=\"\n",
       "    display: inline-block;\n",
       "    padding-right: 1em;\n",
       "    width: 12.5em;\n",
       "    \">NotImplementedError</li><li style=\"\n",
       "    display: inline-block;\n",
       "    padding-right: 1em;\n",
       "    width: 12.5em;\n",
       "    \">OSError</li><li style=\"\n",
       "    display: inline-block;\n",
       "    padding-right: 1em;\n",
       "    width: 12.5em;\n",
       "    \">OverflowError</li><li style=\"\n",
       "    display: inline-block;\n",
       "    padding-right: 1em;\n",
       "    width: 12.5em;\n",
       "    \">PendingDeprecationWarning</li><li style=\"\n",
       "    display: inline-block;\n",
       "    padding-right: 1em;\n",
       "    width: 12.5em;\n",
       "    \">PermissionError</li><li style=\"\n",
       "    display: inline-block;\n",
       "    padding-right: 1em;\n",
       "    width: 12.5em;\n",
       "    \">ProcessLookupError</li><li style=\"\n",
       "    display: inline-block;\n",
       "    padding-right: 1em;\n",
       "    width: 12.5em;\n",
       "    \">RecursionError</li><li style=\"\n",
       "    display: inline-block;\n",
       "    padding-right: 1em;\n",
       "    width: 12.5em;\n",
       "    \">ReferenceError</li><li style=\"\n",
       "    display: inline-block;\n",
       "    padding-right: 1em;\n",
       "    width: 12.5em;\n",
       "    \">ResourceWarning</li><li style=\"\n",
       "    display: inline-block;\n",
       "    padding-right: 1em;\n",
       "    width: 12.5em;\n",
       "    \">RuntimeError</li><li style=\"\n",
       "    display: inline-block;\n",
       "    padding-right: 1em;\n",
       "    width: 12.5em;\n",
       "    \">RuntimeWarning</li><li style=\"\n",
       "    display: inline-block;\n",
       "    padding-right: 1em;\n",
       "    width: 12.5em;\n",
       "    \">StopAsyncIteration</li><li style=\"\n",
       "    display: inline-block;\n",
       "    padding-right: 1em;\n",
       "    width: 12.5em;\n",
       "    \">StopIteration</li><li style=\"\n",
       "    display: inline-block;\n",
       "    padding-right: 1em;\n",
       "    width: 12.5em;\n",
       "    \">SyntaxError</li><li style=\"\n",
       "    display: inline-block;\n",
       "    padding-right: 1em;\n",
       "    width: 12.5em;\n",
       "    \">SyntaxWarning</li><li style=\"\n",
       "    display: inline-block;\n",
       "    padding-right: 1em;\n",
       "    width: 12.5em;\n",
       "    \">SystemError</li><li style=\"\n",
       "    display: inline-block;\n",
       "    padding-right: 1em;\n",
       "    width: 12.5em;\n",
       "    \">SystemExit</li><li style=\"\n",
       "    display: inline-block;\n",
       "    padding-right: 1em;\n",
       "    width: 12.5em;\n",
       "    \">TabError</li><li style=\"\n",
       "    display: inline-block;\n",
       "    padding-right: 1em;\n",
       "    width: 12.5em;\n",
       "    \">TimeoutError</li><li style=\"\n",
       "    display: inline-block;\n",
       "    padding-right: 1em;\n",
       "    width: 12.5em;\n",
       "    \">True</li><li style=\"\n",
       "    display: inline-block;\n",
       "    padding-right: 1em;\n",
       "    width: 12.5em;\n",
       "    \">TypeError</li><li style=\"\n",
       "    display: inline-block;\n",
       "    padding-right: 1em;\n",
       "    width: 12.5em;\n",
       "    \">UnboundLocalError</li><li style=\"\n",
       "    display: inline-block;\n",
       "    padding-right: 1em;\n",
       "    width: 12.5em;\n",
       "    \">UnicodeDecodeError</li><li style=\"\n",
       "    display: inline-block;\n",
       "    padding-right: 1em;\n",
       "    width: 12.5em;\n",
       "    \">UnicodeEncodeError</li><li style=\"\n",
       "    display: inline-block;\n",
       "    padding-right: 1em;\n",
       "    width: 12.5em;\n",
       "    \">UnicodeError</li><li style=\"\n",
       "    display: inline-block;\n",
       "    padding-right: 1em;\n",
       "    width: 12.5em;\n",
       "    \">UnicodeTranslateError</li><li style=\"\n",
       "    display: inline-block;\n",
       "    padding-right: 1em;\n",
       "    width: 12.5em;\n",
       "    \">UnicodeWarning</li><li style=\"\n",
       "    display: inline-block;\n",
       "    padding-right: 1em;\n",
       "    width: 12.5em;\n",
       "    \">UserWarning</li><li style=\"\n",
       "    display: inline-block;\n",
       "    padding-right: 1em;\n",
       "    width: 12.5em;\n",
       "    \">ValueError</li><li style=\"\n",
       "    display: inline-block;\n",
       "    padding-right: 1em;\n",
       "    width: 12.5em;\n",
       "    \">Warning</li><li style=\"\n",
       "    display: inline-block;\n",
       "    padding-right: 1em;\n",
       "    width: 12.5em;\n",
       "    \">ZeroDivisionError</li><li style=\"\n",
       "    display: inline-block;\n",
       "    padding-right: 1em;\n",
       "    width: 12.5em;\n",
       "    \">__IPYTHON__</li><li style=\"\n",
       "    display: inline-block;\n",
       "    padding-right: 1em;\n",
       "    width: 12.5em;\n",
       "    \">__build_class__</li><li style=\"\n",
       "    display: inline-block;\n",
       "    padding-right: 1em;\n",
       "    width: 12.5em;\n",
       "    \">__debug__</li><li style=\"\n",
       "    display: inline-block;\n",
       "    padding-right: 1em;\n",
       "    width: 12.5em;\n",
       "    \">__doc__</li><li style=\"\n",
       "    display: inline-block;\n",
       "    padding-right: 1em;\n",
       "    width: 12.5em;\n",
       "    \">__import__</li><li style=\"\n",
       "    display: inline-block;\n",
       "    padding-right: 1em;\n",
       "    width: 12.5em;\n",
       "    \">__loader__</li><li style=\"\n",
       "    display: inline-block;\n",
       "    padding-right: 1em;\n",
       "    width: 12.5em;\n",
       "    \">__name__</li><li style=\"\n",
       "    display: inline-block;\n",
       "    padding-right: 1em;\n",
       "    width: 12.5em;\n",
       "    \">__package__</li><li style=\"\n",
       "    display: inline-block;\n",
       "    padding-right: 1em;\n",
       "    width: 12.5em;\n",
       "    \">__spec__</li><li style=\"\n",
       "    display: inline-block;\n",
       "    padding-right: 1em;\n",
       "    width: 12.5em;\n",
       "    \">abs</li><li style=\"\n",
       "    display: inline-block;\n",
       "    padding-right: 1em;\n",
       "    width: 12.5em;\n",
       "    \">all</li><li style=\"\n",
       "    display: inline-block;\n",
       "    padding-right: 1em;\n",
       "    width: 12.5em;\n",
       "    \">any</li><li style=\"\n",
       "    display: inline-block;\n",
       "    padding-right: 1em;\n",
       "    width: 12.5em;\n",
       "    \">ascii</li><li style=\"\n",
       "    display: inline-block;\n",
       "    padding-right: 1em;\n",
       "    width: 12.5em;\n",
       "    \">bin</li><li style=\"\n",
       "    display: inline-block;\n",
       "    padding-right: 1em;\n",
       "    width: 12.5em;\n",
       "    \">bool</li><li style=\"\n",
       "    display: inline-block;\n",
       "    padding-right: 1em;\n",
       "    width: 12.5em;\n",
       "    \">breakpoint</li><li style=\"\n",
       "    display: inline-block;\n",
       "    padding-right: 1em;\n",
       "    width: 12.5em;\n",
       "    \">bytearray</li><li style=\"\n",
       "    display: inline-block;\n",
       "    padding-right: 1em;\n",
       "    width: 12.5em;\n",
       "    \">bytes</li><li style=\"\n",
       "    display: inline-block;\n",
       "    padding-right: 1em;\n",
       "    width: 12.5em;\n",
       "    \">callable</li><li style=\"\n",
       "    display: inline-block;\n",
       "    padding-right: 1em;\n",
       "    width: 12.5em;\n",
       "    \">chr</li><li style=\"\n",
       "    display: inline-block;\n",
       "    padding-right: 1em;\n",
       "    width: 12.5em;\n",
       "    \">classmethod</li><li style=\"\n",
       "    display: inline-block;\n",
       "    padding-right: 1em;\n",
       "    width: 12.5em;\n",
       "    \">compile</li><li style=\"\n",
       "    display: inline-block;\n",
       "    padding-right: 1em;\n",
       "    width: 12.5em;\n",
       "    \">complex</li><li style=\"\n",
       "    display: inline-block;\n",
       "    padding-right: 1em;\n",
       "    width: 12.5em;\n",
       "    \">copyright</li><li style=\"\n",
       "    display: inline-block;\n",
       "    padding-right: 1em;\n",
       "    width: 12.5em;\n",
       "    \">credits</li><li style=\"\n",
       "    display: inline-block;\n",
       "    padding-right: 1em;\n",
       "    width: 12.5em;\n",
       "    \">delattr</li><li style=\"\n",
       "    display: inline-block;\n",
       "    padding-right: 1em;\n",
       "    width: 12.5em;\n",
       "    \">dict</li><li style=\"\n",
       "    display: inline-block;\n",
       "    padding-right: 1em;\n",
       "    width: 12.5em;\n",
       "    \">dir</li><li style=\"\n",
       "    display: inline-block;\n",
       "    padding-right: 1em;\n",
       "    width: 12.5em;\n",
       "    \">display</li><li style=\"\n",
       "    display: inline-block;\n",
       "    padding-right: 1em;\n",
       "    width: 12.5em;\n",
       "    \">divmod</li><li style=\"\n",
       "    display: inline-block;\n",
       "    padding-right: 1em;\n",
       "    width: 12.5em;\n",
       "    \">enumerate</li><li style=\"\n",
       "    display: inline-block;\n",
       "    padding-right: 1em;\n",
       "    width: 12.5em;\n",
       "    \">eval</li><li style=\"\n",
       "    display: inline-block;\n",
       "    padding-right: 1em;\n",
       "    width: 12.5em;\n",
       "    \">exec</li><li style=\"\n",
       "    display: inline-block;\n",
       "    padding-right: 1em;\n",
       "    width: 12.5em;\n",
       "    \">filter</li><li style=\"\n",
       "    display: inline-block;\n",
       "    padding-right: 1em;\n",
       "    width: 12.5em;\n",
       "    \">float</li><li style=\"\n",
       "    display: inline-block;\n",
       "    padding-right: 1em;\n",
       "    width: 12.5em;\n",
       "    \">format</li><li style=\"\n",
       "    display: inline-block;\n",
       "    padding-right: 1em;\n",
       "    width: 12.5em;\n",
       "    \">frozenset</li><li style=\"\n",
       "    display: inline-block;\n",
       "    padding-right: 1em;\n",
       "    width: 12.5em;\n",
       "    \">get_ipython</li><li style=\"\n",
       "    display: inline-block;\n",
       "    padding-right: 1em;\n",
       "    width: 12.5em;\n",
       "    \">getattr</li><li style=\"\n",
       "    display: inline-block;\n",
       "    padding-right: 1em;\n",
       "    width: 12.5em;\n",
       "    \">globals</li><li style=\"\n",
       "    display: inline-block;\n",
       "    padding-right: 1em;\n",
       "    width: 12.5em;\n",
       "    \">hasattr</li><li style=\"\n",
       "    display: inline-block;\n",
       "    padding-right: 1em;\n",
       "    width: 12.5em;\n",
       "    \">hash</li><li style=\"\n",
       "    display: inline-block;\n",
       "    padding-right: 1em;\n",
       "    width: 12.5em;\n",
       "    \">help</li><li style=\"\n",
       "    display: inline-block;\n",
       "    padding-right: 1em;\n",
       "    width: 12.5em;\n",
       "    \">hex</li><li style=\"\n",
       "    display: inline-block;\n",
       "    padding-right: 1em;\n",
       "    width: 12.5em;\n",
       "    \">id</li><li style=\"\n",
       "    display: inline-block;\n",
       "    padding-right: 1em;\n",
       "    width: 12.5em;\n",
       "    \">input</li><li style=\"\n",
       "    display: inline-block;\n",
       "    padding-right: 1em;\n",
       "    width: 12.5em;\n",
       "    \">int</li><li style=\"\n",
       "    display: inline-block;\n",
       "    padding-right: 1em;\n",
       "    width: 12.5em;\n",
       "    \">isinstance</li><li style=\"\n",
       "    display: inline-block;\n",
       "    padding-right: 1em;\n",
       "    width: 12.5em;\n",
       "    \">issubclass</li><li style=\"\n",
       "    display: inline-block;\n",
       "    padding-right: 1em;\n",
       "    width: 12.5em;\n",
       "    \">iter</li><li style=\"\n",
       "    display: inline-block;\n",
       "    padding-right: 1em;\n",
       "    width: 12.5em;\n",
       "    \">len</li><li style=\"\n",
       "    display: inline-block;\n",
       "    padding-right: 1em;\n",
       "    width: 12.5em;\n",
       "    \">license</li><li style=\"\n",
       "    display: inline-block;\n",
       "    padding-right: 1em;\n",
       "    width: 12.5em;\n",
       "    \">list</li><li style=\"\n",
       "    display: inline-block;\n",
       "    padding-right: 1em;\n",
       "    width: 12.5em;\n",
       "    \">locals</li><li style=\"\n",
       "    display: inline-block;\n",
       "    padding-right: 1em;\n",
       "    width: 12.5em;\n",
       "    \">map</li><li style=\"\n",
       "    display: inline-block;\n",
       "    padding-right: 1em;\n",
       "    width: 12.5em;\n",
       "    \">max</li><li style=\"\n",
       "    display: inline-block;\n",
       "    padding-right: 1em;\n",
       "    width: 12.5em;\n",
       "    \">memoryview</li><li style=\"\n",
       "    display: inline-block;\n",
       "    padding-right: 1em;\n",
       "    width: 12.5em;\n",
       "    \">min</li><li style=\"\n",
       "    display: inline-block;\n",
       "    padding-right: 1em;\n",
       "    width: 12.5em;\n",
       "    \">next</li><li style=\"\n",
       "    display: inline-block;\n",
       "    padding-right: 1em;\n",
       "    width: 12.5em;\n",
       "    \">object</li><li style=\"\n",
       "    display: inline-block;\n",
       "    padding-right: 1em;\n",
       "    width: 12.5em;\n",
       "    \">oct</li><li style=\"\n",
       "    display: inline-block;\n",
       "    padding-right: 1em;\n",
       "    width: 12.5em;\n",
       "    \">open</li><li style=\"\n",
       "    display: inline-block;\n",
       "    padding-right: 1em;\n",
       "    width: 12.5em;\n",
       "    \">ord</li><li style=\"\n",
       "    display: inline-block;\n",
       "    padding-right: 1em;\n",
       "    width: 12.5em;\n",
       "    \">pow</li><li style=\"\n",
       "    display: inline-block;\n",
       "    padding-right: 1em;\n",
       "    width: 12.5em;\n",
       "    \">print</li><li style=\"\n",
       "    display: inline-block;\n",
       "    padding-right: 1em;\n",
       "    width: 12.5em;\n",
       "    \">property</li><li style=\"\n",
       "    display: inline-block;\n",
       "    padding-right: 1em;\n",
       "    width: 12.5em;\n",
       "    \">range</li><li style=\"\n",
       "    display: inline-block;\n",
       "    padding-right: 1em;\n",
       "    width: 12.5em;\n",
       "    \">repr</li><li style=\"\n",
       "    display: inline-block;\n",
       "    padding-right: 1em;\n",
       "    width: 12.5em;\n",
       "    \">reversed</li><li style=\"\n",
       "    display: inline-block;\n",
       "    padding-right: 1em;\n",
       "    width: 12.5em;\n",
       "    \">round</li><li style=\"\n",
       "    display: inline-block;\n",
       "    padding-right: 1em;\n",
       "    width: 12.5em;\n",
       "    \">set</li><li style=\"\n",
       "    display: inline-block;\n",
       "    padding-right: 1em;\n",
       "    width: 12.5em;\n",
       "    \">setattr</li><li style=\"\n",
       "    display: inline-block;\n",
       "    padding-right: 1em;\n",
       "    width: 12.5em;\n",
       "    \">slice</li><li style=\"\n",
       "    display: inline-block;\n",
       "    padding-right: 1em;\n",
       "    width: 12.5em;\n",
       "    \">sorted</li><li style=\"\n",
       "    display: inline-block;\n",
       "    padding-right: 1em;\n",
       "    width: 12.5em;\n",
       "    \">staticmethod</li><li style=\"\n",
       "    display: inline-block;\n",
       "    padding-right: 1em;\n",
       "    width: 12.5em;\n",
       "    \">str</li><li style=\"\n",
       "    display: inline-block;\n",
       "    padding-right: 1em;\n",
       "    width: 12.5em;\n",
       "    \">sum</li><li style=\"\n",
       "    display: inline-block;\n",
       "    padding-right: 1em;\n",
       "    width: 12.5em;\n",
       "    \">super</li><li style=\"\n",
       "    display: inline-block;\n",
       "    padding-right: 1em;\n",
       "    width: 12.5em;\n",
       "    \">tuple</li><li style=\"\n",
       "    display: inline-block;\n",
       "    padding-right: 1em;\n",
       "    width: 12.5em;\n",
       "    \">type</li><li style=\"\n",
       "    display: inline-block;\n",
       "    padding-right: 1em;\n",
       "    width: 12.5em;\n",
       "    \">vars</li><li style=\"\n",
       "    display: inline-block;\n",
       "    padding-right: 1em;\n",
       "    width: 12.5em;\n",
       "    \">zip</li></ul>"
      ],
      "text/plain": [
       "<IPython.core.display.HTML object>"
      ]
     },
     "metadata": {},
     "output_type": "display_data"
    }
   ],
   "source": [
    "from apps.util import print_as_html\n",
    "\n",
    "print(50 * '-','内置函数', 50 * '-')\n",
    "print_as_html(dir(__builtins__))"
   ]
  },
  {
   "cell_type": "markdown",
   "metadata": {},
   "source": [
    "#### jupyter魔法函数"
   ]
  },
  {
   "cell_type": "code",
   "execution_count": 23,
   "metadata": {},
   "outputs": [
    {
     "data": {
      "application/json": {
       "cell": {
        "!": "OSMagics",
        "HTML": "Other",
        "SVG": "Other",
        "bash": "Other",
        "capture": "ExecutionMagics",
        "debug": "ExecutionMagics",
        "file": "Other",
        "html": "DisplayMagics",
        "javascript": "DisplayMagics",
        "js": "DisplayMagics",
        "latex": "DisplayMagics",
        "markdown": "DisplayMagics",
        "perl": "Other",
        "prun": "ExecutionMagics",
        "pypy": "Other",
        "python": "Other",
        "python2": "Other",
        "python3": "Other",
        "ruby": "Other",
        "script": "ScriptMagics",
        "sh": "Other",
        "svg": "DisplayMagics",
        "sx": "OSMagics",
        "system": "OSMagics",
        "time": "ExecutionMagics",
        "timeit": "ExecutionMagics",
        "writefile": "OSMagics"
       },
       "line": {
        "alias": "OSMagics",
        "alias_magic": "BasicMagics",
        "autoawait": "AsyncMagics",
        "autocall": "AutoMagics",
        "automagic": "AutoMagics",
        "autosave": "KernelMagics",
        "bookmark": "OSMagics",
        "cat": "Other",
        "cd": "OSMagics",
        "clear": "KernelMagics",
        "colors": "BasicMagics",
        "conda": "PackagingMagics",
        "config": "ConfigMagics",
        "connect_info": "KernelMagics",
        "cp": "Other",
        "debug": "ExecutionMagics",
        "dhist": "OSMagics",
        "dirs": "OSMagics",
        "doctest_mode": "BasicMagics",
        "ed": "Other",
        "edit": "KernelMagics",
        "env": "OSMagics",
        "gui": "BasicMagics",
        "hist": "Other",
        "history": "HistoryMagics",
        "killbgscripts": "ScriptMagics",
        "ldir": "Other",
        "less": "KernelMagics",
        "lf": "Other",
        "lk": "Other",
        "ll": "Other",
        "load": "CodeMagics",
        "load_ext": "ExtensionMagics",
        "loadpy": "CodeMagics",
        "logoff": "LoggingMagics",
        "logon": "LoggingMagics",
        "logstart": "LoggingMagics",
        "logstate": "LoggingMagics",
        "logstop": "LoggingMagics",
        "ls": "Other",
        "lsmagic": "BasicMagics",
        "lx": "Other",
        "macro": "ExecutionMagics",
        "magic": "BasicMagics",
        "man": "KernelMagics",
        "matplotlib": "PylabMagics",
        "mkdir": "Other",
        "more": "KernelMagics",
        "mv": "Other",
        "notebook": "BasicMagics",
        "page": "BasicMagics",
        "pastebin": "CodeMagics",
        "pdb": "ExecutionMagics",
        "pdef": "NamespaceMagics",
        "pdoc": "NamespaceMagics",
        "pfile": "NamespaceMagics",
        "pinfo": "NamespaceMagics",
        "pinfo2": "NamespaceMagics",
        "pip": "PackagingMagics",
        "popd": "OSMagics",
        "pprint": "BasicMagics",
        "precision": "BasicMagics",
        "prun": "ExecutionMagics",
        "psearch": "NamespaceMagics",
        "psource": "NamespaceMagics",
        "pushd": "OSMagics",
        "pwd": "OSMagics",
        "pycat": "OSMagics",
        "pylab": "PylabMagics",
        "qtconsole": "KernelMagics",
        "quickref": "BasicMagics",
        "recall": "HistoryMagics",
        "rehashx": "OSMagics",
        "reload_ext": "ExtensionMagics",
        "rep": "Other",
        "rerun": "HistoryMagics",
        "reset": "NamespaceMagics",
        "reset_selective": "NamespaceMagics",
        "rm": "Other",
        "rmdir": "Other",
        "run": "ExecutionMagics",
        "save": "CodeMagics",
        "sc": "OSMagics",
        "set_env": "OSMagics",
        "store": "StoreMagics",
        "sx": "OSMagics",
        "system": "OSMagics",
        "tb": "ExecutionMagics",
        "time": "ExecutionMagics",
        "timeit": "ExecutionMagics",
        "unalias": "OSMagics",
        "unload_ext": "ExtensionMagics",
        "who": "NamespaceMagics",
        "who_ls": "NamespaceMagics",
        "whos": "NamespaceMagics",
        "xdel": "NamespaceMagics",
        "xmode": "BasicMagics"
       }
      },
      "text/plain": [
       "Available line magics:\n",
       "%alias  %alias_magic  %autoawait  %autocall  %automagic  %autosave  %bookmark  %cat  %cd  %clear  %colors  %conda  %config  %connect_info  %cp  %debug  %dhist  %dirs  %doctest_mode  %ed  %edit  %env  %gui  %hist  %history  %killbgscripts  %ldir  %less  %lf  %lk  %ll  %load  %load_ext  %loadpy  %logoff  %logon  %logstart  %logstate  %logstop  %ls  %lsmagic  %lx  %macro  %magic  %man  %matplotlib  %mkdir  %more  %mv  %notebook  %page  %pastebin  %pdb  %pdef  %pdoc  %pfile  %pinfo  %pinfo2  %pip  %popd  %pprint  %precision  %prun  %psearch  %psource  %pushd  %pwd  %pycat  %pylab  %qtconsole  %quickref  %recall  %rehashx  %reload_ext  %rep  %rerun  %reset  %reset_selective  %rm  %rmdir  %run  %save  %sc  %set_env  %store  %sx  %system  %tb  %time  %timeit  %unalias  %unload_ext  %who  %who_ls  %whos  %xdel  %xmode\n",
       "\n",
       "Available cell magics:\n",
       "%%!  %%HTML  %%SVG  %%bash  %%capture  %%debug  %%file  %%html  %%javascript  %%js  %%latex  %%markdown  %%perl  %%prun  %%pypy  %%python  %%python2  %%python3  %%ruby  %%script  %%sh  %%svg  %%sx  %%system  %%time  %%timeit  %%writefile\n",
       "\n",
       "Automagic is ON, % prefix IS NOT needed for line magics."
      ]
     },
     "execution_count": 23,
     "metadata": {},
     "output_type": "execute_result"
    }
   ],
   "source": [
    "# jupyter 魔法函数\n",
    "%lsmagic"
   ]
  },
  {
   "cell_type": "code",
   "execution_count": 28,
   "metadata": {},
   "outputs": [],
   "source": [
    "# 计算阶乘递归版\n",
    "def factorial_r(n):\n",
    "    if n < 2:\n",
    "        return 1\n",
    "    return n * factorial_r(n - 1)\n",
    "\n",
    "# 计算阶乘迭代版\n",
    "def factorial(n):\n",
    "    product = 1\n",
    "    for i in range(1, n + 1):\n",
    "        product *= i\n",
    "    return product\n"
   ]
  },
  {
   "cell_type": "code",
   "execution_count": 40,
   "metadata": {},
   "outputs": [
    {
     "name": "stdout",
     "output_type": "stream",
     "text": [
      "28.6 µs ± 9.65 µs per loop (mean ± std. dev. of 10 runs, 1000 loops each)\n"
     ]
    }
   ],
   "source": [
    "%timeit -r10 -n1000 factorial_r(100)"
   ]
  },
  {
   "cell_type": "code",
   "execution_count": 41,
   "metadata": {},
   "outputs": [
    {
     "name": "stdout",
     "output_type": "stream",
     "text": [
      "31.4 µs ± 15.1 µs per loop (mean ± std. dev. of 10 runs, 1000 loops each)\n"
     ]
    }
   ],
   "source": [
    "%timeit -r10 -n1000 factorial(100)"
   ]
  },
  {
   "cell_type": "code",
   "execution_count": 42,
   "metadata": {},
   "outputs": [
    {
     "name": "stdout",
     "output_type": "stream",
     "text": [
      "9.29 ms ± 373 µs per loop (mean ± std. dev. of 7 runs, 100 loops each)\n"
     ]
    }
   ],
   "source": [
    "%%timeit\n",
    "sum = 0\n",
    "for i in range(10**5):\n",
    "    sum += i"
   ]
  },
  {
   "cell_type": "code",
   "execution_count": 43,
   "metadata": {},
   "outputs": [
    {
     "name": "stdout",
     "output_type": "stream",
     "text": [
      "Writing apps/fact.py\n"
     ]
    }
   ],
   "source": [
    "%%writefile apps/fact.py\n",
    "# test.py\n",
    "def factorial_r(n):\n",
    "    if n < 2:\n",
    "        return 1\n",
    "    return n * factorial_r(n - 1)\n",
    "\n",
    "print('10! = ', factorial_r(10))"
   ]
  },
  {
   "cell_type": "code",
   "execution_count": 44,
   "metadata": {},
   "outputs": [
    {
     "name": "stdout",
     "output_type": "stream",
     "text": [
      "10! =  3628800\n"
     ]
    }
   ],
   "source": [
    "%run apps/fact.py"
   ]
  },
  {
   "cell_type": "code",
   "execution_count": 45,
   "metadata": {},
   "outputs": [],
   "source": [
    "# %load apps/fact.py\n",
    "# test.py\n",
    "def factorial_r(n):\n",
    "    if n < 2:\n",
    "        return 1\n",
    "    return n * factorial_r(n - 1)\n",
    "\n",
    "print('10! = ', factorial_r(10))\n"
   ]
  },
  {
   "cell_type": "code",
   "execution_count": 46,
   "metadata": {},
   "outputs": [
    {
     "data": {
      "text/plain": [
       "'/home/jovyan/Tutorials'"
      ]
     },
     "execution_count": 46,
     "metadata": {},
     "output_type": "execute_result"
    }
   ],
   "source": [
    "%pwd"
   ]
  },
  {
   "cell_type": "code",
   "execution_count": 3,
   "metadata": {},
   "outputs": [
    {
     "name": "stdout",
     "output_type": "stream",
     "text": [
      "keyword\t print_as_html\t \n"
     ]
    },
    {
     "data": {
      "text/html": [
       "<ul style=\"\n",
       "    list-style-type:none;\n",
       "    \"><li style=\"\n",
       "    display: inline-block;\n",
       "    padding-right: 1em;\n",
       "    width: 13.5em;\n",
       "    \">apps</li><li style=\"\n",
       "    display: inline-block;\n",
       "    padding-right: 1em;\n",
       "    width: 13.5em;\n",
       "    \">matplotlib_tutorials</li><li style=\"\n",
       "    display: inline-block;\n",
       "    padding-right: 1em;\n",
       "    width: 13.5em;\n",
       "    \">numpy_tutorials</li><li style=\"\n",
       "    display: inline-block;\n",
       "    padding-right: 1em;\n",
       "    width: 13.5em;\n",
       "    \">pandas_tutorials</li><li style=\"\n",
       "    display: inline-block;\n",
       "    padding-right: 1em;\n",
       "    width: 13.5em;\n",
       "    \">python-mysql-tutorial.ipynb</li><li style=\"\n",
       "    display: inline-block;\n",
       "    padding-right: 1em;\n",
       "    width: 13.5em;\n",
       "    \">python-tutorial.ipynb</li></ul>"
      ],
      "text/plain": [
       "<IPython.core.display.HTML object>"
      ]
     },
     "metadata": {},
     "output_type": "display_data"
    }
   ],
   "source": [
    "%who\n",
    "files = !ls\n",
    "print_as_html(files)"
   ]
  },
  {
   "cell_type": "markdown",
   "metadata": {},
   "source": [
    "## 2 数据类型"
   ]
  },
  {
   "cell_type": "markdown",
   "metadata": {},
   "source": [
    "### 2.1 数值型（Number）"
   ]
  },
  {
   "cell_type": "code",
   "execution_count": 53,
   "metadata": {},
   "outputs": [
    {
     "data": {
      "text/plain": [
       "int"
      ]
     },
     "execution_count": 53,
     "metadata": {},
     "output_type": "execute_result"
    }
   ],
   "source": [
    "x = 1\n",
    "type(x)"
   ]
  },
  {
   "cell_type": "code",
   "execution_count": 54,
   "metadata": {},
   "outputs": [
    {
     "data": {
      "text/plain": [
       "float"
      ]
     },
     "execution_count": 54,
     "metadata": {},
     "output_type": "execute_result"
    }
   ],
   "source": [
    "y = 1.0\n",
    "type(y)"
   ]
  },
  {
   "cell_type": "code",
   "execution_count": 56,
   "metadata": {},
   "outputs": [
    {
     "name": "stdout",
     "output_type": "stream",
     "text": [
      "100 100 100\n"
     ]
    }
   ],
   "source": [
    "a = b = c = 100\n",
    "print(a, b, c)"
   ]
  },
  {
   "cell_type": "code",
   "execution_count": 58,
   "metadata": {},
   "outputs": [
    {
     "data": {
      "text/plain": [
       "(int, float, complex)"
      ]
     },
     "execution_count": 58,
     "metadata": {},
     "output_type": "execute_result"
    }
   ],
   "source": [
    "a, b, c = 10, 4.7, 3 + 2j\n",
    "type(a), type(b), type(c)"
   ]
  },
  {
   "cell_type": "code",
   "execution_count": 59,
   "metadata": {},
   "outputs": [
    {
     "data": {
      "text/plain": [
       "3"
      ]
     },
     "execution_count": 59,
     "metadata": {},
     "output_type": "execute_result"
    }
   ],
   "source": [
    "15 % 4"
   ]
  },
  {
   "cell_type": "code",
   "execution_count": 60,
   "metadata": {},
   "outputs": [
    {
     "data": {
      "text/plain": [
       "3"
      ]
     },
     "execution_count": 60,
     "metadata": {},
     "output_type": "execute_result"
    }
   ],
   "source": [
    "15 // 4"
   ]
  },
  {
   "cell_type": "markdown",
   "metadata": {},
   "source": [
    "### 2.2 布尔型（Boolean）"
   ]
  },
  {
   "cell_type": "code",
   "execution_count": 61,
   "metadata": {},
   "outputs": [
    {
     "data": {
      "text/plain": [
       "3"
      ]
     },
     "execution_count": 61,
     "metadata": {},
     "output_type": "execute_result"
    }
   ],
   "source": [
    "True + 2"
   ]
  },
  {
   "cell_type": "code",
   "execution_count": 62,
   "metadata": {},
   "outputs": [
    {
     "data": {
      "text/plain": [
       "2"
      ]
     },
     "execution_count": 62,
     "metadata": {},
     "output_type": "execute_result"
    }
   ],
   "source": [
    "False + 2"
   ]
  },
  {
   "cell_type": "code",
   "execution_count": 63,
   "metadata": {},
   "outputs": [
    {
     "data": {
      "text/plain": [
       "False"
      ]
     },
     "execution_count": 63,
     "metadata": {},
     "output_type": "execute_result"
    }
   ],
   "source": [
    "True and False"
   ]
  },
  {
   "cell_type": "code",
   "execution_count": 64,
   "metadata": {},
   "outputs": [
    {
     "data": {
      "text/plain": [
       "True"
      ]
     },
     "execution_count": 64,
     "metadata": {},
     "output_type": "execute_result"
    }
   ],
   "source": [
    "True or False"
   ]
  },
  {
   "cell_type": "code",
   "execution_count": 66,
   "metadata": {},
   "outputs": [
    {
     "data": {
      "text/plain": [
       "False"
      ]
     },
     "execution_count": 66,
     "metadata": {},
     "output_type": "execute_result"
    }
   ],
   "source": [
    "not True"
   ]
  },
  {
   "cell_type": "code",
   "execution_count": 67,
   "metadata": {},
   "outputs": [
    {
     "data": {
      "text/plain": [
       "bool"
      ]
     },
     "execution_count": 67,
     "metadata": {},
     "output_type": "execute_result"
    }
   ],
   "source": [
    "type(True)"
   ]
  },
  {
   "cell_type": "markdown",
   "metadata": {},
   "source": [
    "### 2.3 字符串（String）"
   ]
  },
  {
   "cell_type": "code",
   "execution_count": 3,
   "metadata": {},
   "outputs": [
    {
     "data": {
      "text/plain": [
       "12"
      ]
     },
     "execution_count": 3,
     "metadata": {},
     "output_type": "execute_result"
    }
   ],
   "source": [
    "s_en = 'hello, world'\n",
    "len(s_en)"
   ]
  },
  {
   "cell_type": "code",
   "execution_count": 4,
   "metadata": {},
   "outputs": [
    {
     "data": {
      "text/plain": [
       "5"
      ]
     },
     "execution_count": 4,
     "metadata": {},
     "output_type": "execute_result"
    }
   ],
   "source": [
    "s_cn = '你好，世界'\n",
    "len(s_cn)"
   ]
  },
  {
   "cell_type": "code",
   "execution_count": 5,
   "metadata": {},
   "outputs": [
    {
     "data": {
      "text/plain": [
       "('h', '界')"
      ]
     },
     "execution_count": 5,
     "metadata": {},
     "output_type": "execute_result"
    }
   ],
   "source": [
    "s_en[0], s_cn[-1]"
   ]
  },
  {
   "cell_type": "code",
   "execution_count": 6,
   "metadata": {},
   "outputs": [
    {
     "data": {
      "text/html": [
       "<ul style=\"\n",
       "    list-style-type:none;\n",
       "    \"><li style=\"\n",
       "    display: inline-block;\n",
       "    padding-right: 1em;\n",
       "    width: 8.5em;\n",
       "    \">__add__</li><li style=\"\n",
       "    display: inline-block;\n",
       "    padding-right: 1em;\n",
       "    width: 8.5em;\n",
       "    \">__class__</li><li style=\"\n",
       "    display: inline-block;\n",
       "    padding-right: 1em;\n",
       "    width: 8.5em;\n",
       "    \">__contains__</li><li style=\"\n",
       "    display: inline-block;\n",
       "    padding-right: 1em;\n",
       "    width: 8.5em;\n",
       "    \">__delattr__</li><li style=\"\n",
       "    display: inline-block;\n",
       "    padding-right: 1em;\n",
       "    width: 8.5em;\n",
       "    \">__dir__</li><li style=\"\n",
       "    display: inline-block;\n",
       "    padding-right: 1em;\n",
       "    width: 8.5em;\n",
       "    \">__doc__</li><li style=\"\n",
       "    display: inline-block;\n",
       "    padding-right: 1em;\n",
       "    width: 8.5em;\n",
       "    \">__eq__</li><li style=\"\n",
       "    display: inline-block;\n",
       "    padding-right: 1em;\n",
       "    width: 8.5em;\n",
       "    \">__format__</li><li style=\"\n",
       "    display: inline-block;\n",
       "    padding-right: 1em;\n",
       "    width: 8.5em;\n",
       "    \">__ge__</li><li style=\"\n",
       "    display: inline-block;\n",
       "    padding-right: 1em;\n",
       "    width: 8.5em;\n",
       "    \">__getattribute__</li><li style=\"\n",
       "    display: inline-block;\n",
       "    padding-right: 1em;\n",
       "    width: 8.5em;\n",
       "    \">__getitem__</li><li style=\"\n",
       "    display: inline-block;\n",
       "    padding-right: 1em;\n",
       "    width: 8.5em;\n",
       "    \">__getnewargs__</li><li style=\"\n",
       "    display: inline-block;\n",
       "    padding-right: 1em;\n",
       "    width: 8.5em;\n",
       "    \">__gt__</li><li style=\"\n",
       "    display: inline-block;\n",
       "    padding-right: 1em;\n",
       "    width: 8.5em;\n",
       "    \">__hash__</li><li style=\"\n",
       "    display: inline-block;\n",
       "    padding-right: 1em;\n",
       "    width: 8.5em;\n",
       "    \">__init__</li><li style=\"\n",
       "    display: inline-block;\n",
       "    padding-right: 1em;\n",
       "    width: 8.5em;\n",
       "    \">__init_subclass__</li><li style=\"\n",
       "    display: inline-block;\n",
       "    padding-right: 1em;\n",
       "    width: 8.5em;\n",
       "    \">__iter__</li><li style=\"\n",
       "    display: inline-block;\n",
       "    padding-right: 1em;\n",
       "    width: 8.5em;\n",
       "    \">__le__</li><li style=\"\n",
       "    display: inline-block;\n",
       "    padding-right: 1em;\n",
       "    width: 8.5em;\n",
       "    \">__len__</li><li style=\"\n",
       "    display: inline-block;\n",
       "    padding-right: 1em;\n",
       "    width: 8.5em;\n",
       "    \">__lt__</li><li style=\"\n",
       "    display: inline-block;\n",
       "    padding-right: 1em;\n",
       "    width: 8.5em;\n",
       "    \">__mod__</li><li style=\"\n",
       "    display: inline-block;\n",
       "    padding-right: 1em;\n",
       "    width: 8.5em;\n",
       "    \">__mul__</li><li style=\"\n",
       "    display: inline-block;\n",
       "    padding-right: 1em;\n",
       "    width: 8.5em;\n",
       "    \">__ne__</li><li style=\"\n",
       "    display: inline-block;\n",
       "    padding-right: 1em;\n",
       "    width: 8.5em;\n",
       "    \">__new__</li><li style=\"\n",
       "    display: inline-block;\n",
       "    padding-right: 1em;\n",
       "    width: 8.5em;\n",
       "    \">__reduce__</li><li style=\"\n",
       "    display: inline-block;\n",
       "    padding-right: 1em;\n",
       "    width: 8.5em;\n",
       "    \">__reduce_ex__</li><li style=\"\n",
       "    display: inline-block;\n",
       "    padding-right: 1em;\n",
       "    width: 8.5em;\n",
       "    \">__repr__</li><li style=\"\n",
       "    display: inline-block;\n",
       "    padding-right: 1em;\n",
       "    width: 8.5em;\n",
       "    \">__rmod__</li><li style=\"\n",
       "    display: inline-block;\n",
       "    padding-right: 1em;\n",
       "    width: 8.5em;\n",
       "    \">__rmul__</li><li style=\"\n",
       "    display: inline-block;\n",
       "    padding-right: 1em;\n",
       "    width: 8.5em;\n",
       "    \">__setattr__</li><li style=\"\n",
       "    display: inline-block;\n",
       "    padding-right: 1em;\n",
       "    width: 8.5em;\n",
       "    \">__sizeof__</li><li style=\"\n",
       "    display: inline-block;\n",
       "    padding-right: 1em;\n",
       "    width: 8.5em;\n",
       "    \">__str__</li><li style=\"\n",
       "    display: inline-block;\n",
       "    padding-right: 1em;\n",
       "    width: 8.5em;\n",
       "    \">__subclasshook__</li><li style=\"\n",
       "    display: inline-block;\n",
       "    padding-right: 1em;\n",
       "    width: 8.5em;\n",
       "    \">capitalize</li><li style=\"\n",
       "    display: inline-block;\n",
       "    padding-right: 1em;\n",
       "    width: 8.5em;\n",
       "    \">casefold</li><li style=\"\n",
       "    display: inline-block;\n",
       "    padding-right: 1em;\n",
       "    width: 8.5em;\n",
       "    \">center</li><li style=\"\n",
       "    display: inline-block;\n",
       "    padding-right: 1em;\n",
       "    width: 8.5em;\n",
       "    \">count</li><li style=\"\n",
       "    display: inline-block;\n",
       "    padding-right: 1em;\n",
       "    width: 8.5em;\n",
       "    \">encode</li><li style=\"\n",
       "    display: inline-block;\n",
       "    padding-right: 1em;\n",
       "    width: 8.5em;\n",
       "    \">endswith</li><li style=\"\n",
       "    display: inline-block;\n",
       "    padding-right: 1em;\n",
       "    width: 8.5em;\n",
       "    \">expandtabs</li><li style=\"\n",
       "    display: inline-block;\n",
       "    padding-right: 1em;\n",
       "    width: 8.5em;\n",
       "    \">find</li><li style=\"\n",
       "    display: inline-block;\n",
       "    padding-right: 1em;\n",
       "    width: 8.5em;\n",
       "    \">format</li><li style=\"\n",
       "    display: inline-block;\n",
       "    padding-right: 1em;\n",
       "    width: 8.5em;\n",
       "    \">format_map</li><li style=\"\n",
       "    display: inline-block;\n",
       "    padding-right: 1em;\n",
       "    width: 8.5em;\n",
       "    \">index</li><li style=\"\n",
       "    display: inline-block;\n",
       "    padding-right: 1em;\n",
       "    width: 8.5em;\n",
       "    \">isalnum</li><li style=\"\n",
       "    display: inline-block;\n",
       "    padding-right: 1em;\n",
       "    width: 8.5em;\n",
       "    \">isalpha</li><li style=\"\n",
       "    display: inline-block;\n",
       "    padding-right: 1em;\n",
       "    width: 8.5em;\n",
       "    \">isascii</li><li style=\"\n",
       "    display: inline-block;\n",
       "    padding-right: 1em;\n",
       "    width: 8.5em;\n",
       "    \">isdecimal</li><li style=\"\n",
       "    display: inline-block;\n",
       "    padding-right: 1em;\n",
       "    width: 8.5em;\n",
       "    \">isdigit</li><li style=\"\n",
       "    display: inline-block;\n",
       "    padding-right: 1em;\n",
       "    width: 8.5em;\n",
       "    \">isidentifier</li><li style=\"\n",
       "    display: inline-block;\n",
       "    padding-right: 1em;\n",
       "    width: 8.5em;\n",
       "    \">islower</li><li style=\"\n",
       "    display: inline-block;\n",
       "    padding-right: 1em;\n",
       "    width: 8.5em;\n",
       "    \">isnumeric</li><li style=\"\n",
       "    display: inline-block;\n",
       "    padding-right: 1em;\n",
       "    width: 8.5em;\n",
       "    \">isprintable</li><li style=\"\n",
       "    display: inline-block;\n",
       "    padding-right: 1em;\n",
       "    width: 8.5em;\n",
       "    \">isspace</li><li style=\"\n",
       "    display: inline-block;\n",
       "    padding-right: 1em;\n",
       "    width: 8.5em;\n",
       "    \">istitle</li><li style=\"\n",
       "    display: inline-block;\n",
       "    padding-right: 1em;\n",
       "    width: 8.5em;\n",
       "    \">isupper</li><li style=\"\n",
       "    display: inline-block;\n",
       "    padding-right: 1em;\n",
       "    width: 8.5em;\n",
       "    \">join</li><li style=\"\n",
       "    display: inline-block;\n",
       "    padding-right: 1em;\n",
       "    width: 8.5em;\n",
       "    \">ljust</li><li style=\"\n",
       "    display: inline-block;\n",
       "    padding-right: 1em;\n",
       "    width: 8.5em;\n",
       "    \">lower</li><li style=\"\n",
       "    display: inline-block;\n",
       "    padding-right: 1em;\n",
       "    width: 8.5em;\n",
       "    \">lstrip</li><li style=\"\n",
       "    display: inline-block;\n",
       "    padding-right: 1em;\n",
       "    width: 8.5em;\n",
       "    \">maketrans</li><li style=\"\n",
       "    display: inline-block;\n",
       "    padding-right: 1em;\n",
       "    width: 8.5em;\n",
       "    \">partition</li><li style=\"\n",
       "    display: inline-block;\n",
       "    padding-right: 1em;\n",
       "    width: 8.5em;\n",
       "    \">replace</li><li style=\"\n",
       "    display: inline-block;\n",
       "    padding-right: 1em;\n",
       "    width: 8.5em;\n",
       "    \">rfind</li><li style=\"\n",
       "    display: inline-block;\n",
       "    padding-right: 1em;\n",
       "    width: 8.5em;\n",
       "    \">rindex</li><li style=\"\n",
       "    display: inline-block;\n",
       "    padding-right: 1em;\n",
       "    width: 8.5em;\n",
       "    \">rjust</li><li style=\"\n",
       "    display: inline-block;\n",
       "    padding-right: 1em;\n",
       "    width: 8.5em;\n",
       "    \">rpartition</li><li style=\"\n",
       "    display: inline-block;\n",
       "    padding-right: 1em;\n",
       "    width: 8.5em;\n",
       "    \">rsplit</li><li style=\"\n",
       "    display: inline-block;\n",
       "    padding-right: 1em;\n",
       "    width: 8.5em;\n",
       "    \">rstrip</li><li style=\"\n",
       "    display: inline-block;\n",
       "    padding-right: 1em;\n",
       "    width: 8.5em;\n",
       "    \">split</li><li style=\"\n",
       "    display: inline-block;\n",
       "    padding-right: 1em;\n",
       "    width: 8.5em;\n",
       "    \">splitlines</li><li style=\"\n",
       "    display: inline-block;\n",
       "    padding-right: 1em;\n",
       "    width: 8.5em;\n",
       "    \">startswith</li><li style=\"\n",
       "    display: inline-block;\n",
       "    padding-right: 1em;\n",
       "    width: 8.5em;\n",
       "    \">strip</li><li style=\"\n",
       "    display: inline-block;\n",
       "    padding-right: 1em;\n",
       "    width: 8.5em;\n",
       "    \">swapcase</li><li style=\"\n",
       "    display: inline-block;\n",
       "    padding-right: 1em;\n",
       "    width: 8.5em;\n",
       "    \">title</li><li style=\"\n",
       "    display: inline-block;\n",
       "    padding-right: 1em;\n",
       "    width: 8.5em;\n",
       "    \">translate</li><li style=\"\n",
       "    display: inline-block;\n",
       "    padding-right: 1em;\n",
       "    width: 8.5em;\n",
       "    \">upper</li><li style=\"\n",
       "    display: inline-block;\n",
       "    padding-right: 1em;\n",
       "    width: 8.5em;\n",
       "    \">zfill</li></ul>"
      ],
      "text/plain": [
       "<IPython.core.display.HTML object>"
      ]
     },
     "metadata": {},
     "output_type": "display_data"
    }
   ],
   "source": [
    "print_as_html(dir(str))"
   ]
  },
  {
   "cell_type": "code",
   "execution_count": 9,
   "metadata": {},
   "outputs": [
    {
     "data": {
      "text/plain": [
       "['hello', ' world']"
      ]
     },
     "execution_count": 9,
     "metadata": {},
     "output_type": "execute_result"
    }
   ],
   "source": [
    "s_en.split(',')"
   ]
  },
  {
   "cell_type": "code",
   "execution_count": 10,
   "metadata": {},
   "outputs": [
    {
     "data": {
      "text/plain": [
       "'Hello, World'"
      ]
     },
     "execution_count": 10,
     "metadata": {},
     "output_type": "execute_result"
    }
   ],
   "source": [
    "s_en.title()"
   ]
  },
  {
   "cell_type": "code",
   "execution_count": 14,
   "metadata": {},
   "outputs": [
    {
     "data": {
      "text/plain": [
       "'1.41'"
      ]
     },
     "execution_count": 14,
     "metadata": {},
     "output_type": "execute_result"
    }
   ],
   "source": [
    "'{:.2f}'.format(2 ** 0.5)"
   ]
  },
  {
   "cell_type": "code",
   "execution_count": 15,
   "metadata": {},
   "outputs": [
    {
     "data": {
      "text/plain": [
       "'+1.4142'"
      ]
     },
     "execution_count": 15,
     "metadata": {},
     "output_type": "execute_result"
    }
   ],
   "source": [
    "'{:+.4f}'.format(2 ** 0.5)"
   ]
  },
  {
   "cell_type": "code",
   "execution_count": 16,
   "metadata": {},
   "outputs": [
    {
     "data": {
      "text/plain": [
       "'-1.4142'"
      ]
     },
     "execution_count": 16,
     "metadata": {},
     "output_type": "execute_result"
    }
   ],
   "source": [
    "'{:+.4f}'.format(-2 ** 0.5)"
   ]
  },
  {
   "cell_type": "code",
   "execution_count": 18,
   "metadata": {},
   "outputs": [
    {
     "data": {
      "text/plain": [
       "'1'"
      ]
     },
     "execution_count": 18,
     "metadata": {},
     "output_type": "execute_result"
    }
   ],
   "source": [
    "'{:.0f}'.format(1.2)"
   ]
  },
  {
   "cell_type": "markdown",
   "metadata": {},
   "source": [
    "### 2.4 列表（List)"
   ]
  },
  {
   "cell_type": "code",
   "execution_count": 7,
   "metadata": {},
   "outputs": [
    {
     "data": {
      "text/plain": [
       "list"
      ]
     },
     "execution_count": 7,
     "metadata": {},
     "output_type": "execute_result"
    }
   ],
   "source": [
    "l = []\n",
    "type(l)"
   ]
  },
  {
   "cell_type": "code",
   "execution_count": 8,
   "metadata": {},
   "outputs": [
    {
     "data": {
      "text/plain": [
       "'语文'"
      ]
     },
     "execution_count": 8,
     "metadata": {},
     "output_type": "execute_result"
    }
   ],
   "source": [
    "l = ['语文', 'Python', 20, 1.65, False]\n",
    "l[0]"
   ]
  },
  {
   "cell_type": "code",
   "execution_count": 9,
   "metadata": {},
   "outputs": [
    {
     "data": {
      "text/plain": [
       "False"
      ]
     },
     "execution_count": 9,
     "metadata": {},
     "output_type": "execute_result"
    }
   ],
   "source": [
    "l[-1]"
   ]
  },
  {
   "cell_type": "code",
   "execution_count": 10,
   "metadata": {},
   "outputs": [
    {
     "data": {
      "text/plain": [
       "1.65"
      ]
     },
     "execution_count": 10,
     "metadata": {},
     "output_type": "execute_result"
    }
   ],
   "source": [
    "l[-2]"
   ]
  },
  {
   "cell_type": "code",
   "execution_count": 11,
   "metadata": {},
   "outputs": [
    {
     "data": {
      "text/plain": [
       "['语文', '数学', 20, 1.65, False]"
      ]
     },
     "execution_count": 11,
     "metadata": {},
     "output_type": "execute_result"
    }
   ],
   "source": [
    "l[1]='数学'\n",
    "l"
   ]
  },
  {
   "cell_type": "code",
   "execution_count": 12,
   "metadata": {},
   "outputs": [],
   "source": [
    "l += [100, 200, 'china']"
   ]
  },
  {
   "cell_type": "code",
   "execution_count": 13,
   "metadata": {},
   "outputs": [
    {
     "data": {
      "text/plain": [
       "['语文', '数学', 20, 1.65, False, 100, 200, 'china']"
      ]
     },
     "execution_count": 13,
     "metadata": {},
     "output_type": "execute_result"
    }
   ],
   "source": [
    "l"
   ]
  },
  {
   "cell_type": "code",
   "execution_count": 14,
   "metadata": {},
   "outputs": [
    {
     "data": {
      "text/plain": [
       "['语文', '数学', 20, 1.65]"
      ]
     },
     "execution_count": 14,
     "metadata": {},
     "output_type": "execute_result"
    }
   ],
   "source": [
    "l[:4]"
   ]
  },
  {
   "cell_type": "code",
   "execution_count": 15,
   "metadata": {},
   "outputs": [
    {
     "data": {
      "text/plain": [
       "[False, 100, 200, 'china']"
      ]
     },
     "execution_count": 15,
     "metadata": {},
     "output_type": "execute_result"
    }
   ],
   "source": [
    "l[4:]"
   ]
  },
  {
   "cell_type": "code",
   "execution_count": 16,
   "metadata": {},
   "outputs": [
    {
     "data": {
      "text/plain": [
       "['语文', '数学', 20, 1.65, False, 100, 200, 'china']"
      ]
     },
     "execution_count": 16,
     "metadata": {},
     "output_type": "execute_result"
    }
   ],
   "source": [
    "l[:]"
   ]
  },
  {
   "cell_type": "code",
   "execution_count": 17,
   "metadata": {},
   "outputs": [
    {
     "data": {
      "text/plain": [
       "['语文', 20, False, 200]"
      ]
     },
     "execution_count": 17,
     "metadata": {},
     "output_type": "execute_result"
    }
   ],
   "source": [
    "l[0:9:2]"
   ]
  },
  {
   "cell_type": "code",
   "execution_count": 18,
   "metadata": {},
   "outputs": [
    {
     "data": {
      "text/plain": [
       "[1, 2, 3, 4, 5, 6, 7, 8, 9]"
      ]
     },
     "execution_count": 18,
     "metadata": {},
     "output_type": "execute_result"
    }
   ],
   "source": [
    "ll = list(range(1, 10))\n",
    "ll"
   ]
  },
  {
   "cell_type": "code",
   "execution_count": 19,
   "metadata": {},
   "outputs": [
    {
     "data": {
      "text/plain": [
       "[9, 8, 7, 6, 5, 4, 3, 2, 1]"
      ]
     },
     "execution_count": 19,
     "metadata": {},
     "output_type": "execute_result"
    }
   ],
   "source": [
    "ll[::-1]"
   ]
  },
  {
   "cell_type": "code",
   "execution_count": 20,
   "metadata": {},
   "outputs": [
    {
     "data": {
      "text/plain": [
       "[1, 2, 3, 4, 5, 6]"
      ]
     },
     "execution_count": 20,
     "metadata": {},
     "output_type": "execute_result"
    }
   ],
   "source": [
    "la = [1, 2, 3]\n",
    "lb = [4, 5, 6]\n",
    "la + lb"
   ]
  },
  {
   "cell_type": "code",
   "execution_count": 21,
   "metadata": {},
   "outputs": [
    {
     "data": {
      "text/plain": [
       "[1, 2, 3, 1, 2, 3]"
      ]
     },
     "execution_count": 21,
     "metadata": {},
     "output_type": "execute_result"
    }
   ],
   "source": [
    "la * 2"
   ]
  },
  {
   "cell_type": "code",
   "execution_count": 22,
   "metadata": {},
   "outputs": [
    {
     "data": {
      "text/plain": [
       "['P', 'y', 't', 'h', 'o', 'n']"
      ]
     },
     "execution_count": 22,
     "metadata": {},
     "output_type": "execute_result"
    }
   ],
   "source": [
    "lc = list('Python')\n",
    "lc"
   ]
  },
  {
   "cell_type": "code",
   "execution_count": 23,
   "metadata": {},
   "outputs": [
    {
     "data": {
      "text/plain": [
       "['语文', '数学', 20, 1.65, False, 100, 200, 'china', 'python']"
      ]
     },
     "execution_count": 23,
     "metadata": {},
     "output_type": "execute_result"
    }
   ],
   "source": [
    "l.append('python')\n",
    "l"
   ]
  },
  {
   "cell_type": "code",
   "execution_count": 24,
   "metadata": {},
   "outputs": [
    {
     "data": {
      "text/html": [
       "<ul style=\"\n",
       "    list-style-type:none;\n",
       "    \"><li style=\"\n",
       "    display: inline-block;\n",
       "    padding-right: 1em;\n",
       "    width: 3.0em;\n",
       "    \">语文</li><li style=\"\n",
       "    display: inline-block;\n",
       "    padding-right: 1em;\n",
       "    width: 3.0em;\n",
       "    \">数学</li><li style=\"\n",
       "    display: inline-block;\n",
       "    padding-right: 1em;\n",
       "    width: 3.0em;\n",
       "    \">20</li><li style=\"\n",
       "    display: inline-block;\n",
       "    padding-right: 1em;\n",
       "    width: 3.0em;\n",
       "    \">1.65</li><li style=\"\n",
       "    display: inline-block;\n",
       "    padding-right: 1em;\n",
       "    width: 3.0em;\n",
       "    \">False</li><li style=\"\n",
       "    display: inline-block;\n",
       "    padding-right: 1em;\n",
       "    width: 3.0em;\n",
       "    \">100</li><li style=\"\n",
       "    display: inline-block;\n",
       "    padding-right: 1em;\n",
       "    width: 3.0em;\n",
       "    \">200</li><li style=\"\n",
       "    display: inline-block;\n",
       "    padding-right: 1em;\n",
       "    width: 3.0em;\n",
       "    \">china</li><li style=\"\n",
       "    display: inline-block;\n",
       "    padding-right: 1em;\n",
       "    width: 3.0em;\n",
       "    \">python</li></ul>"
      ],
      "text/plain": [
       "<IPython.core.display.HTML object>"
      ]
     },
     "metadata": {},
     "output_type": "display_data"
    }
   ],
   "source": [
    "print_as_html(l)"
   ]
  },
  {
   "cell_type": "code",
   "execution_count": 25,
   "metadata": {},
   "outputs": [
    {
     "data": {
      "text/plain": [
       "['语文', '数学', 20, 1.65, False, 100, 200, 'china', 'Numpy', 'python']"
      ]
     },
     "execution_count": 25,
     "metadata": {},
     "output_type": "execute_result"
    }
   ],
   "source": [
    "l.insert(-1, 'Numpy')\n",
    "l"
   ]
  },
  {
   "cell_type": "code",
   "execution_count": 26,
   "metadata": {},
   "outputs": [
    {
     "data": {
      "text/plain": [
       "['语文', '数学', 20, 1.65, False, 100, 200, 'china', 'Numpy', 'python', 1, 2, 3]"
      ]
     },
     "execution_count": 26,
     "metadata": {},
     "output_type": "execute_result"
    }
   ],
   "source": [
    "l.extend(la)\n",
    "l"
   ]
  },
  {
   "cell_type": "code",
   "execution_count": 27,
   "metadata": {},
   "outputs": [
    {
     "data": {
      "text/plain": [
       "140529989757840"
      ]
     },
     "execution_count": 27,
     "metadata": {},
     "output_type": "execute_result"
    }
   ],
   "source": [
    "id(l)"
   ]
  },
  {
   "cell_type": "code",
   "execution_count": 28,
   "metadata": {},
   "outputs": [
    {
     "data": {
      "text/plain": [
       "3"
      ]
     },
     "execution_count": 28,
     "metadata": {},
     "output_type": "execute_result"
    }
   ],
   "source": [
    "l.pop()"
   ]
  },
  {
   "cell_type": "code",
   "execution_count": 29,
   "metadata": {},
   "outputs": [
    {
     "data": {
      "text/plain": [
       "['语文', '数学', 20, 1.65, False, 100, 200, 'china', 'Numpy', 'python', 1, 2]"
      ]
     },
     "execution_count": 29,
     "metadata": {},
     "output_type": "execute_result"
    }
   ],
   "source": [
    "l"
   ]
  },
  {
   "cell_type": "code",
   "execution_count": 30,
   "metadata": {},
   "outputs": [
    {
     "data": {
      "text/plain": [
       "1"
      ]
     },
     "execution_count": 30,
     "metadata": {},
     "output_type": "execute_result"
    }
   ],
   "source": [
    "l.pop(-2)"
   ]
  },
  {
   "cell_type": "code",
   "execution_count": 32,
   "metadata": {},
   "outputs": [
    {
     "data": {
      "text/plain": [
       "['语文', '数学', 20, 1.65, False, 100, 200, 'china', 'Numpy', 'python', 2]"
      ]
     },
     "execution_count": 32,
     "metadata": {},
     "output_type": "execute_result"
    }
   ],
   "source": [
    "l"
   ]
  },
  {
   "cell_type": "code",
   "execution_count": 33,
   "metadata": {},
   "outputs": [],
   "source": [
    "l.remove(2)"
   ]
  },
  {
   "cell_type": "code",
   "execution_count": 34,
   "metadata": {},
   "outputs": [
    {
     "data": {
      "text/plain": [
       "['语文', '数学', 20, 1.65, False, 100, 200, 'china', 'Numpy', 'python']"
      ]
     },
     "execution_count": 34,
     "metadata": {},
     "output_type": "execute_result"
    }
   ],
   "source": [
    "l"
   ]
  },
  {
   "cell_type": "code",
   "execution_count": 35,
   "metadata": {},
   "outputs": [],
   "source": [
    "del l[4]"
   ]
  },
  {
   "cell_type": "code",
   "execution_count": 36,
   "metadata": {},
   "outputs": [
    {
     "data": {
      "text/plain": [
       "['语文', '数学', 20, 1.65, 100, 200, 'china', 'Numpy', 'python']"
      ]
     },
     "execution_count": 36,
     "metadata": {},
     "output_type": "execute_result"
    }
   ],
   "source": [
    "l"
   ]
  },
  {
   "cell_type": "code",
   "execution_count": 37,
   "metadata": {},
   "outputs": [
    {
     "data": {
      "text/plain": [
       "1"
      ]
     },
     "execution_count": 37,
     "metadata": {},
     "output_type": "execute_result"
    }
   ],
   "source": [
    "l.count(20)"
   ]
  },
  {
   "cell_type": "code",
   "execution_count": 38,
   "metadata": {},
   "outputs": [
    {
     "data": {
      "text/plain": [
       "0"
      ]
     },
     "execution_count": 38,
     "metadata": {},
     "output_type": "execute_result"
    }
   ],
   "source": [
    "l.count(0)"
   ]
  },
  {
   "cell_type": "code",
   "execution_count": 39,
   "metadata": {},
   "outputs": [
    {
     "data": {
      "text/plain": [
       "4"
      ]
     },
     "execution_count": 39,
     "metadata": {},
     "output_type": "execute_result"
    }
   ],
   "source": [
    "l.index(100)"
   ]
  },
  {
   "cell_type": "code",
   "execution_count": 40,
   "metadata": {},
   "outputs": [
    {
     "data": {
      "text/plain": [
       "True"
      ]
     },
     "execution_count": 40,
     "metadata": {},
     "output_type": "execute_result"
    }
   ],
   "source": [
    "200 in l"
   ]
  },
  {
   "cell_type": "code",
   "execution_count": 41,
   "metadata": {},
   "outputs": [
    {
     "data": {
      "text/plain": [
       "False"
      ]
     },
     "execution_count": 41,
     "metadata": {},
     "output_type": "execute_result"
    }
   ],
   "source": [
    "5 in l"
   ]
  },
  {
   "cell_type": "code",
   "execution_count": 42,
   "metadata": {},
   "outputs": [
    {
     "data": {
      "text/plain": [
       "True"
      ]
     },
     "execution_count": 42,
     "metadata": {},
     "output_type": "execute_result"
    }
   ],
   "source": [
    "5 not in l"
   ]
  },
  {
   "cell_type": "code",
   "execution_count": 44,
   "metadata": {},
   "outputs": [],
   "source": [
    "fruits = ['orange', 'apple', 'pear', 'banana', 'kiwi', 'apple', 'banana']"
   ]
  },
  {
   "cell_type": "code",
   "execution_count": 45,
   "metadata": {},
   "outputs": [
    {
     "data": {
      "text/plain": [
       "1"
      ]
     },
     "execution_count": 45,
     "metadata": {},
     "output_type": "execute_result"
    }
   ],
   "source": [
    "fruits.count('orange')"
   ]
  },
  {
   "cell_type": "code",
   "execution_count": 46,
   "metadata": {},
   "outputs": [
    {
     "data": {
      "text/plain": [
       "2"
      ]
     },
     "execution_count": 46,
     "metadata": {},
     "output_type": "execute_result"
    }
   ],
   "source": [
    "fruits.count('apple')"
   ]
  },
  {
   "cell_type": "code",
   "execution_count": 47,
   "metadata": {},
   "outputs": [
    {
     "data": {
      "text/plain": [
       "['apple', 'apple', 'banana', 'banana', 'kiwi', 'orange', 'pear']"
      ]
     },
     "execution_count": 47,
     "metadata": {},
     "output_type": "execute_result"
    }
   ],
   "source": [
    "fruits.sort()\n",
    "fruits"
   ]
  },
  {
   "cell_type": "code",
   "execution_count": 49,
   "metadata": {},
   "outputs": [
    {
     "data": {
      "text/plain": [
       "['pear', 'orange', 'kiwi', 'banana', 'banana', 'apple', 'apple']"
      ]
     },
     "execution_count": 49,
     "metadata": {},
     "output_type": "execute_result"
    }
   ],
   "source": [
    "fruits.sort(reverse=True)\n",
    "fruits"
   ]
  },
  {
   "cell_type": "code",
   "execution_count": 58,
   "metadata": {},
   "outputs": [
    {
     "data": {
      "text/plain": [
       "['pear', 'kiwi', 'apple', 'apple', 'orange', 'banana', 'banana']"
      ]
     },
     "execution_count": 58,
     "metadata": {},
     "output_type": "execute_result"
    }
   ],
   "source": [
    "fruits.sort(key=lambda s: len(s))\n",
    "fruits"
   ]
  },
  {
   "cell_type": "code",
   "execution_count": 59,
   "metadata": {},
   "outputs": [
    {
     "data": {
      "text/plain": [
       "['apple', 'apple', 'banana', 'banana', 'kiwi', 'orange', 'pear']"
      ]
     },
     "execution_count": 59,
     "metadata": {},
     "output_type": "execute_result"
    }
   ],
   "source": [
    "sorted(fruits)"
   ]
  },
  {
   "cell_type": "code",
   "execution_count": 60,
   "metadata": {},
   "outputs": [
    {
     "data": {
      "text/html": [
       "<ul style=\"\n",
       "    list-style-type:none;\n",
       "    \"><li style=\"\n",
       "    display: inline-block;\n",
       "    padding-right: 1em;\n",
       "    width: 8.5em;\n",
       "    \">__add__</li><li style=\"\n",
       "    display: inline-block;\n",
       "    padding-right: 1em;\n",
       "    width: 8.5em;\n",
       "    \">__class__</li><li style=\"\n",
       "    display: inline-block;\n",
       "    padding-right: 1em;\n",
       "    width: 8.5em;\n",
       "    \">__contains__</li><li style=\"\n",
       "    display: inline-block;\n",
       "    padding-right: 1em;\n",
       "    width: 8.5em;\n",
       "    \">__delattr__</li><li style=\"\n",
       "    display: inline-block;\n",
       "    padding-right: 1em;\n",
       "    width: 8.5em;\n",
       "    \">__delitem__</li><li style=\"\n",
       "    display: inline-block;\n",
       "    padding-right: 1em;\n",
       "    width: 8.5em;\n",
       "    \">__dir__</li><li style=\"\n",
       "    display: inline-block;\n",
       "    padding-right: 1em;\n",
       "    width: 8.5em;\n",
       "    \">__doc__</li><li style=\"\n",
       "    display: inline-block;\n",
       "    padding-right: 1em;\n",
       "    width: 8.5em;\n",
       "    \">__eq__</li><li style=\"\n",
       "    display: inline-block;\n",
       "    padding-right: 1em;\n",
       "    width: 8.5em;\n",
       "    \">__format__</li><li style=\"\n",
       "    display: inline-block;\n",
       "    padding-right: 1em;\n",
       "    width: 8.5em;\n",
       "    \">__ge__</li><li style=\"\n",
       "    display: inline-block;\n",
       "    padding-right: 1em;\n",
       "    width: 8.5em;\n",
       "    \">__getattribute__</li><li style=\"\n",
       "    display: inline-block;\n",
       "    padding-right: 1em;\n",
       "    width: 8.5em;\n",
       "    \">__getitem__</li><li style=\"\n",
       "    display: inline-block;\n",
       "    padding-right: 1em;\n",
       "    width: 8.5em;\n",
       "    \">__gt__</li><li style=\"\n",
       "    display: inline-block;\n",
       "    padding-right: 1em;\n",
       "    width: 8.5em;\n",
       "    \">__hash__</li><li style=\"\n",
       "    display: inline-block;\n",
       "    padding-right: 1em;\n",
       "    width: 8.5em;\n",
       "    \">__iadd__</li><li style=\"\n",
       "    display: inline-block;\n",
       "    padding-right: 1em;\n",
       "    width: 8.5em;\n",
       "    \">__imul__</li><li style=\"\n",
       "    display: inline-block;\n",
       "    padding-right: 1em;\n",
       "    width: 8.5em;\n",
       "    \">__init__</li><li style=\"\n",
       "    display: inline-block;\n",
       "    padding-right: 1em;\n",
       "    width: 8.5em;\n",
       "    \">__init_subclass__</li><li style=\"\n",
       "    display: inline-block;\n",
       "    padding-right: 1em;\n",
       "    width: 8.5em;\n",
       "    \">__iter__</li><li style=\"\n",
       "    display: inline-block;\n",
       "    padding-right: 1em;\n",
       "    width: 8.5em;\n",
       "    \">__le__</li><li style=\"\n",
       "    display: inline-block;\n",
       "    padding-right: 1em;\n",
       "    width: 8.5em;\n",
       "    \">__len__</li><li style=\"\n",
       "    display: inline-block;\n",
       "    padding-right: 1em;\n",
       "    width: 8.5em;\n",
       "    \">__lt__</li><li style=\"\n",
       "    display: inline-block;\n",
       "    padding-right: 1em;\n",
       "    width: 8.5em;\n",
       "    \">__mul__</li><li style=\"\n",
       "    display: inline-block;\n",
       "    padding-right: 1em;\n",
       "    width: 8.5em;\n",
       "    \">__ne__</li><li style=\"\n",
       "    display: inline-block;\n",
       "    padding-right: 1em;\n",
       "    width: 8.5em;\n",
       "    \">__new__</li><li style=\"\n",
       "    display: inline-block;\n",
       "    padding-right: 1em;\n",
       "    width: 8.5em;\n",
       "    \">__reduce__</li><li style=\"\n",
       "    display: inline-block;\n",
       "    padding-right: 1em;\n",
       "    width: 8.5em;\n",
       "    \">__reduce_ex__</li><li style=\"\n",
       "    display: inline-block;\n",
       "    padding-right: 1em;\n",
       "    width: 8.5em;\n",
       "    \">__repr__</li><li style=\"\n",
       "    display: inline-block;\n",
       "    padding-right: 1em;\n",
       "    width: 8.5em;\n",
       "    \">__reversed__</li><li style=\"\n",
       "    display: inline-block;\n",
       "    padding-right: 1em;\n",
       "    width: 8.5em;\n",
       "    \">__rmul__</li><li style=\"\n",
       "    display: inline-block;\n",
       "    padding-right: 1em;\n",
       "    width: 8.5em;\n",
       "    \">__setattr__</li><li style=\"\n",
       "    display: inline-block;\n",
       "    padding-right: 1em;\n",
       "    width: 8.5em;\n",
       "    \">__setitem__</li><li style=\"\n",
       "    display: inline-block;\n",
       "    padding-right: 1em;\n",
       "    width: 8.5em;\n",
       "    \">__sizeof__</li><li style=\"\n",
       "    display: inline-block;\n",
       "    padding-right: 1em;\n",
       "    width: 8.5em;\n",
       "    \">__str__</li><li style=\"\n",
       "    display: inline-block;\n",
       "    padding-right: 1em;\n",
       "    width: 8.5em;\n",
       "    \">__subclasshook__</li><li style=\"\n",
       "    display: inline-block;\n",
       "    padding-right: 1em;\n",
       "    width: 8.5em;\n",
       "    \">append</li><li style=\"\n",
       "    display: inline-block;\n",
       "    padding-right: 1em;\n",
       "    width: 8.5em;\n",
       "    \">clear</li><li style=\"\n",
       "    display: inline-block;\n",
       "    padding-right: 1em;\n",
       "    width: 8.5em;\n",
       "    \">copy</li><li style=\"\n",
       "    display: inline-block;\n",
       "    padding-right: 1em;\n",
       "    width: 8.5em;\n",
       "    \">count</li><li style=\"\n",
       "    display: inline-block;\n",
       "    padding-right: 1em;\n",
       "    width: 8.5em;\n",
       "    \">extend</li><li style=\"\n",
       "    display: inline-block;\n",
       "    padding-right: 1em;\n",
       "    width: 8.5em;\n",
       "    \">index</li><li style=\"\n",
       "    display: inline-block;\n",
       "    padding-right: 1em;\n",
       "    width: 8.5em;\n",
       "    \">insert</li><li style=\"\n",
       "    display: inline-block;\n",
       "    padding-right: 1em;\n",
       "    width: 8.5em;\n",
       "    \">pop</li><li style=\"\n",
       "    display: inline-block;\n",
       "    padding-right: 1em;\n",
       "    width: 8.5em;\n",
       "    \">remove</li><li style=\"\n",
       "    display: inline-block;\n",
       "    padding-right: 1em;\n",
       "    width: 8.5em;\n",
       "    \">reverse</li><li style=\"\n",
       "    display: inline-block;\n",
       "    padding-right: 1em;\n",
       "    width: 8.5em;\n",
       "    \">sort</li></ul>"
      ],
      "text/plain": [
       "<IPython.core.display.HTML object>"
      ]
     },
     "metadata": {},
     "output_type": "display_data"
    }
   ],
   "source": [
    "print_as_html(dir(list))"
   ]
  },
  {
   "cell_type": "code",
   "execution_count": 63,
   "metadata": {},
   "outputs": [
    {
     "data": {
      "text/plain": [
       "7"
      ]
     },
     "execution_count": 63,
     "metadata": {},
     "output_type": "execute_result"
    }
   ],
   "source": [
    "len(fruits)"
   ]
  },
  {
   "cell_type": "code",
   "execution_count": 64,
   "metadata": {},
   "outputs": [
    {
     "data": {
      "text/plain": [
       "'pear'"
      ]
     },
     "execution_count": 64,
     "metadata": {},
     "output_type": "execute_result"
    }
   ],
   "source": [
    "max(fruits)"
   ]
  },
  {
   "cell_type": "code",
   "execution_count": 65,
   "metadata": {},
   "outputs": [
    {
     "data": {
      "text/plain": [
       "'apple'"
      ]
     },
     "execution_count": 65,
     "metadata": {},
     "output_type": "execute_result"
    }
   ],
   "source": [
    "min(fruits)"
   ]
  },
  {
   "cell_type": "code",
   "execution_count": 77,
   "metadata": {},
   "outputs": [
    {
     "data": {
      "text/html": [
       "<ul style=\"\n",
       "    list-style-type:none;\n",
       "    \"><li style=\"\n",
       "    display: inline-block;\n",
       "    padding-right: 1em;\n",
       "    width: 0.5em;\n",
       "    \">A</li><li style=\"\n",
       "    display: inline-block;\n",
       "    padding-right: 1em;\n",
       "    width: 0.5em;\n",
       "    \">B</li><li style=\"\n",
       "    display: inline-block;\n",
       "    padding-right: 1em;\n",
       "    width: 0.5em;\n",
       "    \">C</li><li style=\"\n",
       "    display: inline-block;\n",
       "    padding-right: 1em;\n",
       "    width: 0.5em;\n",
       "    \">D</li><li style=\"\n",
       "    display: inline-block;\n",
       "    padding-right: 1em;\n",
       "    width: 0.5em;\n",
       "    \">E</li><li style=\"\n",
       "    display: inline-block;\n",
       "    padding-right: 1em;\n",
       "    width: 0.5em;\n",
       "    \">F</li><li style=\"\n",
       "    display: inline-block;\n",
       "    padding-right: 1em;\n",
       "    width: 0.5em;\n",
       "    \">G</li><li style=\"\n",
       "    display: inline-block;\n",
       "    padding-right: 1em;\n",
       "    width: 0.5em;\n",
       "    \">H</li><li style=\"\n",
       "    display: inline-block;\n",
       "    padding-right: 1em;\n",
       "    width: 0.5em;\n",
       "    \">I</li><li style=\"\n",
       "    display: inline-block;\n",
       "    padding-right: 1em;\n",
       "    width: 0.5em;\n",
       "    \">J</li><li style=\"\n",
       "    display: inline-block;\n",
       "    padding-right: 1em;\n",
       "    width: 0.5em;\n",
       "    \">K</li><li style=\"\n",
       "    display: inline-block;\n",
       "    padding-right: 1em;\n",
       "    width: 0.5em;\n",
       "    \">L</li><li style=\"\n",
       "    display: inline-block;\n",
       "    padding-right: 1em;\n",
       "    width: 0.5em;\n",
       "    \">M</li><li style=\"\n",
       "    display: inline-block;\n",
       "    padding-right: 1em;\n",
       "    width: 0.5em;\n",
       "    \">N</li><li style=\"\n",
       "    display: inline-block;\n",
       "    padding-right: 1em;\n",
       "    width: 0.5em;\n",
       "    \">O</li><li style=\"\n",
       "    display: inline-block;\n",
       "    padding-right: 1em;\n",
       "    width: 0.5em;\n",
       "    \">P</li><li style=\"\n",
       "    display: inline-block;\n",
       "    padding-right: 1em;\n",
       "    width: 0.5em;\n",
       "    \">Q</li><li style=\"\n",
       "    display: inline-block;\n",
       "    padding-right: 1em;\n",
       "    width: 0.5em;\n",
       "    \">R</li><li style=\"\n",
       "    display: inline-block;\n",
       "    padding-right: 1em;\n",
       "    width: 0.5em;\n",
       "    \">S</li><li style=\"\n",
       "    display: inline-block;\n",
       "    padding-right: 1em;\n",
       "    width: 0.5em;\n",
       "    \">T</li><li style=\"\n",
       "    display: inline-block;\n",
       "    padding-right: 1em;\n",
       "    width: 0.5em;\n",
       "    \">U</li><li style=\"\n",
       "    display: inline-block;\n",
       "    padding-right: 1em;\n",
       "    width: 0.5em;\n",
       "    \">V</li><li style=\"\n",
       "    display: inline-block;\n",
       "    padding-right: 1em;\n",
       "    width: 0.5em;\n",
       "    \">W</li><li style=\"\n",
       "    display: inline-block;\n",
       "    padding-right: 1em;\n",
       "    width: 0.5em;\n",
       "    \">X</li><li style=\"\n",
       "    display: inline-block;\n",
       "    padding-right: 1em;\n",
       "    width: 0.5em;\n",
       "    \">Y</li><li style=\"\n",
       "    display: inline-block;\n",
       "    padding-right: 1em;\n",
       "    width: 0.5em;\n",
       "    \">Z</li></ul>"
      ],
      "text/plain": [
       "<IPython.core.display.HTML object>"
      ]
     },
     "metadata": {},
     "output_type": "display_data"
    }
   ],
   "source": [
    "letters = list(map(lambda i: chr(i), range(ord('A'), ord('Z') + 1)))\n",
    "print_as_html(letters)"
   ]
  },
  {
   "cell_type": "code",
   "execution_count": 82,
   "metadata": {},
   "outputs": [
    {
     "data": {
      "text/plain": [
       "[('A', 65),\n",
       " ('B', 66),\n",
       " ('C', 67),\n",
       " ('D', 68),\n",
       " ('E', 69),\n",
       " ('F', 70),\n",
       " ('G', 71),\n",
       " ('H', 72),\n",
       " ('I', 73),\n",
       " ('J', 74),\n",
       " ('K', 75),\n",
       " ('L', 76),\n",
       " ('M', 77),\n",
       " ('N', 78),\n",
       " ('O', 79),\n",
       " ('P', 80),\n",
       " ('Q', 81),\n",
       " ('R', 82),\n",
       " ('S', 83),\n",
       " ('T', 84),\n",
       " ('U', 85),\n",
       " ('V', 86),\n",
       " ('W', 87),\n",
       " ('X', 88),\n",
       " ('Y', 89),\n",
       " ('Z', 90)]"
      ]
     },
     "execution_count": 82,
     "metadata": {},
     "output_type": "execute_result"
    }
   ],
   "source": [
    "letter_orders = list(zip(letters, range(ord('A'), ord('Z') + 1)))\n",
    "letter_orders"
   ]
  },
  {
   "cell_type": "code",
   "execution_count": 84,
   "metadata": {},
   "outputs": [
    {
     "data": {
      "text/plain": [
       "[(0, 'Spring'), (1, 'Summer'), (2, 'Fall'), (3, 'Winter')]"
      ]
     },
     "execution_count": 84,
     "metadata": {},
     "output_type": "execute_result"
    }
   ],
   "source": [
    "seasons = ['Spring', 'Summer', 'Fall', 'Winter']\n",
    "list(enumerate(seasons))"
   ]
  },
  {
   "cell_type": "markdown",
   "metadata": {},
   "source": [
    "### 2.5 元组（tuple）"
   ]
  },
  {
   "cell_type": "code",
   "execution_count": 86,
   "metadata": {},
   "outputs": [
    {
     "data": {
      "text/plain": [
       "tuple"
      ]
     },
     "execution_count": 86,
     "metadata": {},
     "output_type": "execute_result"
    }
   ],
   "source": [
    "tup = ()\n",
    "type(tup)"
   ]
  },
  {
   "cell_type": "code",
   "execution_count": 87,
   "metadata": {},
   "outputs": [
    {
     "data": {
      "text/plain": [
       "tuple"
      ]
     },
     "execution_count": 87,
     "metadata": {},
     "output_type": "execute_result"
    }
   ],
   "source": [
    "tup = (100,)\n",
    "type(tup)"
   ]
  },
  {
   "cell_type": "code",
   "execution_count": 88,
   "metadata": {},
   "outputs": [
    {
     "data": {
      "text/plain": [
       "tuple"
      ]
     },
     "execution_count": 88,
     "metadata": {},
     "output_type": "execute_result"
    }
   ],
   "source": [
    "tup = 1, 2, 'a', 'b'\n",
    "type(tup)"
   ]
  },
  {
   "cell_type": "code",
   "execution_count": 89,
   "metadata": {},
   "outputs": [
    {
     "data": {
      "text/plain": [
       "(1, 2, 'a', 'b')"
      ]
     },
     "execution_count": 89,
     "metadata": {},
     "output_type": "execute_result"
    }
   ],
   "source": [
    "tup"
   ]
  },
  {
   "cell_type": "code",
   "execution_count": 90,
   "metadata": {},
   "outputs": [
    {
     "data": {
      "text/plain": [
       "(1, 2)"
      ]
     },
     "execution_count": 90,
     "metadata": {},
     "output_type": "execute_result"
    }
   ],
   "source": [
    "tup[:2]"
   ]
  },
  {
   "cell_type": "code",
   "execution_count": 91,
   "metadata": {},
   "outputs": [
    {
     "data": {
      "text/plain": [
       "('a', 'b')"
      ]
     },
     "execution_count": 91,
     "metadata": {},
     "output_type": "execute_result"
    }
   ],
   "source": [
    "tup[2:]"
   ]
  },
  {
   "cell_type": "code",
   "execution_count": 92,
   "metadata": {},
   "outputs": [
    {
     "name": "stdout",
     "output_type": "stream",
     "text": [
      "(1, 2, 3) (4, 5, 6) (1, 2, 3, 4, 5, 6)\n"
     ]
    }
   ],
   "source": [
    "ta = (1, 2, 3)\n",
    "tb = (4, 5, 6)\n",
    "tc = ta + tb\n",
    "\n",
    "print(ta, tb, tc)"
   ]
  },
  {
   "cell_type": "code",
   "execution_count": 93,
   "metadata": {},
   "outputs": [
    {
     "data": {
      "text/plain": [
       "('pear', 'kiwi', 'apple', 'apple', 'orange', 'banana', 'banana')"
      ]
     },
     "execution_count": 93,
     "metadata": {},
     "output_type": "execute_result"
    }
   ],
   "source": [
    "tup2 = tuple(fruits)\n",
    "tup2"
   ]
  },
  {
   "cell_type": "code",
   "execution_count": 94,
   "metadata": {},
   "outputs": [
    {
     "data": {
      "text/plain": [
       "('A',\n",
       " 'B',\n",
       " 'C',\n",
       " 'D',\n",
       " 'E',\n",
       " 'F',\n",
       " 'G',\n",
       " 'H',\n",
       " 'I',\n",
       " 'J',\n",
       " 'K',\n",
       " 'L',\n",
       " 'M',\n",
       " 'N',\n",
       " 'O',\n",
       " 'P',\n",
       " 'Q',\n",
       " 'R',\n",
       " 'S',\n",
       " 'T',\n",
       " 'U',\n",
       " 'V',\n",
       " 'W',\n",
       " 'X',\n",
       " 'Y',\n",
       " 'Z')"
      ]
     },
     "execution_count": 94,
     "metadata": {},
     "output_type": "execute_result"
    }
   ],
   "source": [
    "tup_letters = tuple(letters)\n",
    "tup_letters"
   ]
  },
  {
   "cell_type": "code",
   "execution_count": 95,
   "metadata": {},
   "outputs": [
    {
     "data": {
      "text/plain": [
       "140529989624672"
      ]
     },
     "execution_count": 95,
     "metadata": {},
     "output_type": "execute_result"
    }
   ],
   "source": [
    "id(tup2)"
   ]
  },
  {
   "cell_type": "code",
   "execution_count": 97,
   "metadata": {},
   "outputs": [
    {
     "data": {
      "text/plain": [
       "('pear', 'kiwi', 'orange', 'banana')"
      ]
     },
     "execution_count": 97,
     "metadata": {},
     "output_type": "execute_result"
    }
   ],
   "source": [
    "tup3 = tup2[:2] + tup2[4:6]\n",
    "tup3"
   ]
  },
  {
   "cell_type": "code",
   "execution_count": 98,
   "metadata": {},
   "outputs": [
    {
     "data": {
      "text/plain": [
       "140529988333840"
      ]
     },
     "execution_count": 98,
     "metadata": {},
     "output_type": "execute_result"
    }
   ],
   "source": [
    "id(tup3)"
   ]
  },
  {
   "cell_type": "markdown",
   "metadata": {},
   "source": [
    "### 2.6 字典（Dictionary）"
   ]
  },
  {
   "cell_type": "code",
   "execution_count": 99,
   "metadata": {},
   "outputs": [
    {
     "data": {
      "text/plain": [
       "{'a': 1, '2020': [1, 2, 3], 100: ('A', 'B', 'C')}"
      ]
     },
     "execution_count": 99,
     "metadata": {},
     "output_type": "execute_result"
    }
   ],
   "source": [
    "d = {'a': 1, '2020': [1, 2, 3], 100: ('A', 'B', 'C')}\n",
    "d"
   ]
  },
  {
   "cell_type": "code",
   "execution_count": 100,
   "metadata": {},
   "outputs": [
    {
     "data": {
      "text/plain": [
       "dict_items([('a', 1), ('2020', [1, 2, 3]), (100, ('A', 'B', 'C'))])"
      ]
     },
     "execution_count": 100,
     "metadata": {},
     "output_type": "execute_result"
    }
   ],
   "source": [
    "d.items()"
   ]
  },
  {
   "cell_type": "code",
   "execution_count": 101,
   "metadata": {},
   "outputs": [
    {
     "data": {
      "text/plain": [
       "dict_keys(['a', '2020', 100])"
      ]
     },
     "execution_count": 101,
     "metadata": {},
     "output_type": "execute_result"
    }
   ],
   "source": [
    "d.keys()"
   ]
  },
  {
   "cell_type": "code",
   "execution_count": 102,
   "metadata": {},
   "outputs": [
    {
     "data": {
      "text/plain": [
       "dict_values([1, [1, 2, 3], ('A', 'B', 'C')])"
      ]
     },
     "execution_count": 102,
     "metadata": {},
     "output_type": "execute_result"
    }
   ],
   "source": [
    "d.values()"
   ]
  },
  {
   "cell_type": "code",
   "execution_count": 103,
   "metadata": {},
   "outputs": [
    {
     "data": {
      "text/plain": [
       "1"
      ]
     },
     "execution_count": 103,
     "metadata": {},
     "output_type": "execute_result"
    }
   ],
   "source": [
    "d['a']"
   ]
  },
  {
   "cell_type": "code",
   "execution_count": 104,
   "metadata": {},
   "outputs": [
    {
     "data": {
      "text/plain": [
       "[1, 2, 3]"
      ]
     },
     "execution_count": 104,
     "metadata": {},
     "output_type": "execute_result"
    }
   ],
   "source": [
    "d['2020']"
   ]
  },
  {
   "cell_type": "code",
   "execution_count": 105,
   "metadata": {},
   "outputs": [
    {
     "data": {
      "text/plain": [
       "('A', 'B', 'C')"
      ]
     },
     "execution_count": 105,
     "metadata": {},
     "output_type": "execute_result"
    }
   ],
   "source": [
    "d[100]"
   ]
  },
  {
   "cell_type": "code",
   "execution_count": 106,
   "metadata": {},
   "outputs": [
    {
     "data": {
      "text/plain": [
       "('A', 'B', 'C')"
      ]
     },
     "execution_count": 106,
     "metadata": {},
     "output_type": "execute_result"
    }
   ],
   "source": [
    "d.get(100)"
   ]
  },
  {
   "cell_type": "code",
   "execution_count": 109,
   "metadata": {},
   "outputs": [
    {
     "data": {
      "text/plain": [
       "'Not IN'"
      ]
     },
     "execution_count": 109,
     "metadata": {},
     "output_type": "execute_result"
    }
   ],
   "source": [
    "d.get('b', 'Not IN')"
   ]
  },
  {
   "cell_type": "code",
   "execution_count": 110,
   "metadata": {},
   "outputs": [
    {
     "data": {
      "text/plain": [
       "{'a': 100, '2020': [1, 2, 3], 100: ('A', 'B', 'C')}"
      ]
     },
     "execution_count": 110,
     "metadata": {},
     "output_type": "execute_result"
    }
   ],
   "source": [
    "d['a'] = 100\n",
    "d"
   ]
  },
  {
   "cell_type": "code",
   "execution_count": 111,
   "metadata": {},
   "outputs": [
    {
     "data": {
      "text/plain": [
       "{'a': 100, '2020': [1, 2, 3], 100: ('A', 'B', 'C'), 'b': 200}"
      ]
     },
     "execution_count": 111,
     "metadata": {},
     "output_type": "execute_result"
    }
   ],
   "source": [
    "d['b'] = 200\n",
    "d"
   ]
  },
  {
   "cell_type": "code",
   "execution_count": 112,
   "metadata": {},
   "outputs": [
    {
     "data": {
      "text/plain": [
       "{'a': 100,\n",
       " '2020': [1, 2, 3],\n",
       " 100: ('A', 'B', 'C'),\n",
       " 'b': 200,\n",
       " 'c': 300,\n",
       " 'd': 400}"
      ]
     },
     "execution_count": 112,
     "metadata": {},
     "output_type": "execute_result"
    }
   ],
   "source": [
    "d2 = {'c': 300, 'd': 400}\n",
    "d.update(d2)\n",
    "d"
   ]
  },
  {
   "cell_type": "code",
   "execution_count": 113,
   "metadata": {},
   "outputs": [
    {
     "data": {
      "text/plain": [
       "('A', 'B', 'C')"
      ]
     },
     "execution_count": 113,
     "metadata": {},
     "output_type": "execute_result"
    }
   ],
   "source": [
    "d.pop(100)"
   ]
  },
  {
   "cell_type": "code",
   "execution_count": 114,
   "metadata": {},
   "outputs": [
    {
     "data": {
      "text/plain": [
       "{'a': 100, '2020': [1, 2, 3], 'b': 200, 'c': 300, 'd': 400}"
      ]
     },
     "execution_count": 114,
     "metadata": {},
     "output_type": "execute_result"
    }
   ],
   "source": [
    "d"
   ]
  },
  {
   "cell_type": "code",
   "execution_count": 115,
   "metadata": {},
   "outputs": [],
   "source": [
    "item = d.popitem()"
   ]
  },
  {
   "cell_type": "code",
   "execution_count": 116,
   "metadata": {},
   "outputs": [
    {
     "data": {
      "text/plain": [
       "{'a': 100, '2020': [1, 2, 3], 'b': 200, 'c': 300}"
      ]
     },
     "execution_count": 116,
     "metadata": {},
     "output_type": "execute_result"
    }
   ],
   "source": [
    "d"
   ]
  },
  {
   "cell_type": "code",
   "execution_count": 117,
   "metadata": {},
   "outputs": [
    {
     "data": {
      "text/html": [
       "<ul style=\"\n",
       "    list-style-type:none;\n",
       "    \"><li style=\"\n",
       "    display: inline-block;\n",
       "    padding-right: 1em;\n",
       "    width: 8.5em;\n",
       "    \">__class__</li><li style=\"\n",
       "    display: inline-block;\n",
       "    padding-right: 1em;\n",
       "    width: 8.5em;\n",
       "    \">__contains__</li><li style=\"\n",
       "    display: inline-block;\n",
       "    padding-right: 1em;\n",
       "    width: 8.5em;\n",
       "    \">__delattr__</li><li style=\"\n",
       "    display: inline-block;\n",
       "    padding-right: 1em;\n",
       "    width: 8.5em;\n",
       "    \">__delitem__</li><li style=\"\n",
       "    display: inline-block;\n",
       "    padding-right: 1em;\n",
       "    width: 8.5em;\n",
       "    \">__dir__</li><li style=\"\n",
       "    display: inline-block;\n",
       "    padding-right: 1em;\n",
       "    width: 8.5em;\n",
       "    \">__doc__</li><li style=\"\n",
       "    display: inline-block;\n",
       "    padding-right: 1em;\n",
       "    width: 8.5em;\n",
       "    \">__eq__</li><li style=\"\n",
       "    display: inline-block;\n",
       "    padding-right: 1em;\n",
       "    width: 8.5em;\n",
       "    \">__format__</li><li style=\"\n",
       "    display: inline-block;\n",
       "    padding-right: 1em;\n",
       "    width: 8.5em;\n",
       "    \">__ge__</li><li style=\"\n",
       "    display: inline-block;\n",
       "    padding-right: 1em;\n",
       "    width: 8.5em;\n",
       "    \">__getattribute__</li><li style=\"\n",
       "    display: inline-block;\n",
       "    padding-right: 1em;\n",
       "    width: 8.5em;\n",
       "    \">__getitem__</li><li style=\"\n",
       "    display: inline-block;\n",
       "    padding-right: 1em;\n",
       "    width: 8.5em;\n",
       "    \">__gt__</li><li style=\"\n",
       "    display: inline-block;\n",
       "    padding-right: 1em;\n",
       "    width: 8.5em;\n",
       "    \">__hash__</li><li style=\"\n",
       "    display: inline-block;\n",
       "    padding-right: 1em;\n",
       "    width: 8.5em;\n",
       "    \">__init__</li><li style=\"\n",
       "    display: inline-block;\n",
       "    padding-right: 1em;\n",
       "    width: 8.5em;\n",
       "    \">__init_subclass__</li><li style=\"\n",
       "    display: inline-block;\n",
       "    padding-right: 1em;\n",
       "    width: 8.5em;\n",
       "    \">__iter__</li><li style=\"\n",
       "    display: inline-block;\n",
       "    padding-right: 1em;\n",
       "    width: 8.5em;\n",
       "    \">__le__</li><li style=\"\n",
       "    display: inline-block;\n",
       "    padding-right: 1em;\n",
       "    width: 8.5em;\n",
       "    \">__len__</li><li style=\"\n",
       "    display: inline-block;\n",
       "    padding-right: 1em;\n",
       "    width: 8.5em;\n",
       "    \">__lt__</li><li style=\"\n",
       "    display: inline-block;\n",
       "    padding-right: 1em;\n",
       "    width: 8.5em;\n",
       "    \">__ne__</li><li style=\"\n",
       "    display: inline-block;\n",
       "    padding-right: 1em;\n",
       "    width: 8.5em;\n",
       "    \">__new__</li><li style=\"\n",
       "    display: inline-block;\n",
       "    padding-right: 1em;\n",
       "    width: 8.5em;\n",
       "    \">__reduce__</li><li style=\"\n",
       "    display: inline-block;\n",
       "    padding-right: 1em;\n",
       "    width: 8.5em;\n",
       "    \">__reduce_ex__</li><li style=\"\n",
       "    display: inline-block;\n",
       "    padding-right: 1em;\n",
       "    width: 8.5em;\n",
       "    \">__repr__</li><li style=\"\n",
       "    display: inline-block;\n",
       "    padding-right: 1em;\n",
       "    width: 8.5em;\n",
       "    \">__setattr__</li><li style=\"\n",
       "    display: inline-block;\n",
       "    padding-right: 1em;\n",
       "    width: 8.5em;\n",
       "    \">__setitem__</li><li style=\"\n",
       "    display: inline-block;\n",
       "    padding-right: 1em;\n",
       "    width: 8.5em;\n",
       "    \">__sizeof__</li><li style=\"\n",
       "    display: inline-block;\n",
       "    padding-right: 1em;\n",
       "    width: 8.5em;\n",
       "    \">__str__</li><li style=\"\n",
       "    display: inline-block;\n",
       "    padding-right: 1em;\n",
       "    width: 8.5em;\n",
       "    \">__subclasshook__</li><li style=\"\n",
       "    display: inline-block;\n",
       "    padding-right: 1em;\n",
       "    width: 8.5em;\n",
       "    \">clear</li><li style=\"\n",
       "    display: inline-block;\n",
       "    padding-right: 1em;\n",
       "    width: 8.5em;\n",
       "    \">copy</li><li style=\"\n",
       "    display: inline-block;\n",
       "    padding-right: 1em;\n",
       "    width: 8.5em;\n",
       "    \">fromkeys</li><li style=\"\n",
       "    display: inline-block;\n",
       "    padding-right: 1em;\n",
       "    width: 8.5em;\n",
       "    \">get</li><li style=\"\n",
       "    display: inline-block;\n",
       "    padding-right: 1em;\n",
       "    width: 8.5em;\n",
       "    \">items</li><li style=\"\n",
       "    display: inline-block;\n",
       "    padding-right: 1em;\n",
       "    width: 8.5em;\n",
       "    \">keys</li><li style=\"\n",
       "    display: inline-block;\n",
       "    padding-right: 1em;\n",
       "    width: 8.5em;\n",
       "    \">pop</li><li style=\"\n",
       "    display: inline-block;\n",
       "    padding-right: 1em;\n",
       "    width: 8.5em;\n",
       "    \">popitem</li><li style=\"\n",
       "    display: inline-block;\n",
       "    padding-right: 1em;\n",
       "    width: 8.5em;\n",
       "    \">setdefault</li><li style=\"\n",
       "    display: inline-block;\n",
       "    padding-right: 1em;\n",
       "    width: 8.5em;\n",
       "    \">update</li><li style=\"\n",
       "    display: inline-block;\n",
       "    padding-right: 1em;\n",
       "    width: 8.5em;\n",
       "    \">values</li></ul>"
      ],
      "text/plain": [
       "<IPython.core.display.HTML object>"
      ]
     },
     "metadata": {},
     "output_type": "display_data"
    }
   ],
   "source": [
    "print_as_html(dir(dict))"
   ]
  },
  {
   "cell_type": "markdown",
   "metadata": {},
   "source": [
    "### 2.7 集合（Set）"
   ]
  },
  {
   "cell_type": "code",
   "execution_count": 119,
   "metadata": {},
   "outputs": [
    {
     "data": {
      "text/plain": [
       "set"
      ]
     },
     "execution_count": 119,
     "metadata": {},
     "output_type": "execute_result"
    }
   ],
   "source": [
    "sa = {3 ,4, 5}\n",
    "type(sa)"
   ]
  },
  {
   "cell_type": "code",
   "execution_count": 120,
   "metadata": {},
   "outputs": [
    {
     "data": {
      "text/plain": [
       "{3, 4, 5}"
      ]
     },
     "execution_count": 120,
     "metadata": {},
     "output_type": "execute_result"
    }
   ],
   "source": [
    "sb = {3, 3, 4, 4, 5, 5}\n",
    "sb"
   ]
  },
  {
   "cell_type": "code",
   "execution_count": 121,
   "metadata": {},
   "outputs": [
    {
     "data": {
      "text/plain": [
       "['pear', 'kiwi', 'apple', 'apple', 'orange', 'banana', 'banana']"
      ]
     },
     "execution_count": 121,
     "metadata": {},
     "output_type": "execute_result"
    }
   ],
   "source": [
    "fruits"
   ]
  },
  {
   "cell_type": "code",
   "execution_count": 122,
   "metadata": {},
   "outputs": [
    {
     "data": {
      "text/plain": [
       "{'apple', 'banana', 'kiwi', 'orange', 'pear'}"
      ]
     },
     "execution_count": 122,
     "metadata": {},
     "output_type": "execute_result"
    }
   ],
   "source": [
    "s_fruits = set(fruits)\n",
    "s_fruits"
   ]
  },
  {
   "cell_type": "code",
   "execution_count": 125,
   "metadata": {},
   "outputs": [
    {
     "data": {
      "text/plain": [
       "['语文', '数学', 20, 1.65, 100, 200, 'china', 'Numpy', 'python']"
      ]
     },
     "execution_count": 125,
     "metadata": {},
     "output_type": "execute_result"
    }
   ],
   "source": [
    "l"
   ]
  },
  {
   "cell_type": "code",
   "execution_count": 123,
   "metadata": {},
   "outputs": [],
   "source": [
    "sc = set(l)"
   ]
  },
  {
   "cell_type": "code",
   "execution_count": 124,
   "metadata": {},
   "outputs": [
    {
     "data": {
      "text/plain": [
       "{1.65, 100, 20, 200, 'Numpy', 'china', 'python', '数学', '语文'}"
      ]
     },
     "execution_count": 124,
     "metadata": {},
     "output_type": "execute_result"
    }
   ],
   "source": [
    "sc"
   ]
  },
  {
   "cell_type": "code",
   "execution_count": 126,
   "metadata": {},
   "outputs": [
    {
     "data": {
      "text/plain": [
       "['语文', '数学', 20, 1.65, 100, 200, 'china', 'Numpy', 'python', [1, 3, 5]]"
      ]
     },
     "execution_count": 126,
     "metadata": {},
     "output_type": "execute_result"
    }
   ],
   "source": [
    "l.append([1, 3, 5])\n",
    "l"
   ]
  },
  {
   "cell_type": "code",
   "execution_count": 128,
   "metadata": {},
   "outputs": [],
   "source": [
    "# sd = set(l) # error"
   ]
  },
  {
   "cell_type": "code",
   "execution_count": 129,
   "metadata": {},
   "outputs": [
    {
     "data": {
      "text/plain": [
       "{1, 2, 3, 7, 8, 9, 10, 11}"
      ]
     },
     "execution_count": 129,
     "metadata": {},
     "output_type": "execute_result"
    }
   ],
   "source": [
    "sa = set([8, 9, 10, 11])\n",
    "sb = set([1, 2, 3, 7, 8, 9])\n",
    "# 集合并\n",
    "sa | sb"
   ]
  },
  {
   "cell_type": "code",
   "execution_count": 130,
   "metadata": {},
   "outputs": [
    {
     "data": {
      "text/plain": [
       "{8, 9}"
      ]
     },
     "execution_count": 130,
     "metadata": {},
     "output_type": "execute_result"
    }
   ],
   "source": [
    "# 集合交\n",
    "sa & sb"
   ]
  },
  {
   "cell_type": "code",
   "execution_count": 131,
   "metadata": {},
   "outputs": [
    {
     "data": {
      "text/plain": [
       "{10, 11}"
      ]
     },
     "execution_count": 131,
     "metadata": {},
     "output_type": "execute_result"
    }
   ],
   "source": [
    "# 集合差\n",
    "sa - sb"
   ]
  },
  {
   "cell_type": "code",
   "execution_count": 132,
   "metadata": {},
   "outputs": [
    {
     "data": {
      "text/plain": [
       "{1, 2, 3, 7}"
      ]
     },
     "execution_count": 132,
     "metadata": {},
     "output_type": "execute_result"
    }
   ],
   "source": [
    "sb - sa"
   ]
  },
  {
   "cell_type": "code",
   "execution_count": 133,
   "metadata": {},
   "outputs": [
    {
     "data": {
      "text/plain": [
       "{10, 11}"
      ]
     },
     "execution_count": 133,
     "metadata": {},
     "output_type": "execute_result"
    }
   ],
   "source": [
    "sa.difference(sb)"
   ]
  },
  {
   "cell_type": "code",
   "execution_count": 134,
   "metadata": {},
   "outputs": [
    {
     "data": {
      "text/plain": [
       "{1, 2, 3, 7}"
      ]
     },
     "execution_count": 134,
     "metadata": {},
     "output_type": "execute_result"
    }
   ],
   "source": [
    "sb.difference(sa)"
   ]
  },
  {
   "cell_type": "code",
   "execution_count": 135,
   "metadata": {},
   "outputs": [
    {
     "data": {
      "text/plain": [
       "{1, 2, 3, 7, 10, 11}"
      ]
     },
     "execution_count": 135,
     "metadata": {},
     "output_type": "execute_result"
    }
   ],
   "source": [
    "sa ^ sb"
   ]
  },
  {
   "cell_type": "code",
   "execution_count": 136,
   "metadata": {},
   "outputs": [
    {
     "data": {
      "text/plain": [
       "{1, 2, 3, 7, 10, 11}"
      ]
     },
     "execution_count": 136,
     "metadata": {},
     "output_type": "execute_result"
    }
   ],
   "source": [
    "sb ^ sa"
   ]
  },
  {
   "cell_type": "markdown",
   "metadata": {},
   "source": [
    "## 3 控制结构\n",
    "\n",
    "### 3.1 顺序"
   ]
  },
  {
   "cell_type": "code",
   "execution_count": 139,
   "metadata": {},
   "outputs": [
    {
     "name": "stdout",
     "output_type": "stream",
     "text": [
      "a = 100 , b = 200\n"
     ]
    }
   ],
   "source": [
    "a = 100\n",
    "b = 200\n",
    "\n",
    "print('a =', a, ', b =', b)"
   ]
  },
  {
   "cell_type": "code",
   "execution_count": 140,
   "metadata": {},
   "outputs": [
    {
     "name": "stdout",
     "output_type": "stream",
     "text": [
      "a = 200 , b = 100\n"
     ]
    }
   ],
   "source": [
    "# 交换a,b的值\n",
    "t = a\n",
    "a = b\n",
    "b = t\n",
    "\n",
    "print('a =', a, ', b =', b)"
   ]
  },
  {
   "cell_type": "markdown",
   "metadata": {},
   "source": [
    "### 3.2 选择\n",
    "\n",
    "#### 单分支"
   ]
  },
  {
   "cell_type": "code",
   "execution_count": 141,
   "metadata": {},
   "outputs": [],
   "source": [
    "if a == b:\n",
    "    print('Yes')"
   ]
  },
  {
   "cell_type": "markdown",
   "metadata": {},
   "source": [
    "#### 双分支"
   ]
  },
  {
   "cell_type": "code",
   "execution_count": 143,
   "metadata": {},
   "outputs": [
    {
     "name": "stdout",
     "output_type": "stream",
     "text": [
      "No\n"
     ]
    }
   ],
   "source": [
    "if a == b:\n",
    "    print('Yes')\n",
    "else:\n",
    "    print('No')"
   ]
  },
  {
   "cell_type": "markdown",
   "metadata": {},
   "source": [
    "#### 多分支"
   ]
  },
  {
   "cell_type": "code",
   "execution_count": 144,
   "metadata": {},
   "outputs": [
    {
     "name": "stdin",
     "output_type": "stream",
     "text": [
      "Please Input Score: 90\n"
     ]
    },
    {
     "name": "stdout",
     "output_type": "stream",
     "text": [
      "优秀\n"
     ]
    }
   ],
   "source": [
    "score = int(input(\"Please Input Score:\"))\n",
    "\n",
    "if score >= 90 and score <= 100:\n",
    "    print(\"优秀\")\n",
    "elif score >= 80:\n",
    "    print(\"良好\")\n",
    "elif score >= 70:\n",
    "    print(\"中等\")\n",
    "elif score >= 60:\n",
    "    print(\"及格\")\n",
    "else:\n",
    "    print(\"不及格\")"
   ]
  },
  {
   "cell_type": "markdown",
   "metadata": {},
   "source": [
    "### 3.3 循环\n",
    "\n",
    "#### for循环"
   ]
  },
  {
   "cell_type": "code",
   "execution_count": 145,
   "metadata": {},
   "outputs": [
    {
     "data": {
      "text/plain": [
       "5050"
      ]
     },
     "execution_count": 145,
     "metadata": {},
     "output_type": "execute_result"
    }
   ],
   "source": [
    "sum = 0\n",
    "for n in range(100):\n",
    "    sum += n + 1\n",
    "sum"
   ]
  },
  {
   "cell_type": "markdown",
   "metadata": {},
   "source": [
    "#### while循环"
   ]
  },
  {
   "cell_type": "code",
   "execution_count": 146,
   "metadata": {},
   "outputs": [
    {
     "name": "stdin",
     "output_type": "stream",
     "text": [
      "(0 = exit)N =  2\n"
     ]
    },
    {
     "name": "stdout",
     "output_type": "stream",
     "text": [
      "2 ! =  2\n"
     ]
    },
    {
     "name": "stdin",
     "output_type": "stream",
     "text": [
      "(0 = exit)N =  10\n"
     ]
    },
    {
     "name": "stdout",
     "output_type": "stream",
     "text": [
      "10 ! =  3628800\n"
     ]
    },
    {
     "name": "stdin",
     "output_type": "stream",
     "text": [
      "(0 = exit)N =  5\n"
     ]
    },
    {
     "name": "stdout",
     "output_type": "stream",
     "text": [
      "5 ! =  120\n"
     ]
    },
    {
     "name": "stdin",
     "output_type": "stream",
     "text": [
      "(0 = exit)N =  6\n"
     ]
    },
    {
     "name": "stdout",
     "output_type": "stream",
     "text": [
      "6 ! =  720\n"
     ]
    },
    {
     "name": "stdin",
     "output_type": "stream",
     "text": [
      "(0 = exit)N =  8\n"
     ]
    },
    {
     "name": "stdout",
     "output_type": "stream",
     "text": [
      "8 ! =  40320\n"
     ]
    },
    {
     "name": "stdin",
     "output_type": "stream",
     "text": [
      "(0 = exit)N =  4\n"
     ]
    },
    {
     "name": "stdout",
     "output_type": "stream",
     "text": [
      "4 ! =  24\n"
     ]
    },
    {
     "name": "stdin",
     "output_type": "stream",
     "text": [
      "(0 = exit)N =  0\n"
     ]
    },
    {
     "name": "stdout",
     "output_type": "stream",
     "text": [
      "0 ! =  1\n"
     ]
    }
   ],
   "source": [
    "n = -1\n",
    "while n != 0:\n",
    "    n = int(input(\"(0 = exit) N = \"))\n",
    "    \n",
    "    product = 1\n",
    "    for i in range(n):\n",
    "        product *= i + 1\n",
    "\n",
    "    print(n, \"! = \", product)"
   ]
  },
  {
   "cell_type": "markdown",
   "metadata": {},
   "source": [
    "#### break 与 continue"
   ]
  },
  {
   "cell_type": "code",
   "execution_count": 150,
   "metadata": {},
   "outputs": [
    {
     "name": "stdin",
     "output_type": "stream",
     "text": [
      "(0 = exit) N (1 ~ 100) =  1\n"
     ]
    },
    {
     "name": "stdout",
     "output_type": "stream",
     "text": [
      "1 ! =  1\n"
     ]
    },
    {
     "name": "stdin",
     "output_type": "stream",
     "text": [
      "(0 = exit) N (1 ~ 100) =  2\n"
     ]
    },
    {
     "name": "stdout",
     "output_type": "stream",
     "text": [
      "2 ! =  2\n"
     ]
    },
    {
     "name": "stdin",
     "output_type": "stream",
     "text": [
      "(0 = exit) N (1 ~ 100) =  3\n"
     ]
    },
    {
     "name": "stdout",
     "output_type": "stream",
     "text": [
      "3 ! =  6\n"
     ]
    },
    {
     "name": "stdin",
     "output_type": "stream",
     "text": [
      "(0 = exit) N (1 ~ 100) =  4\n"
     ]
    },
    {
     "name": "stdout",
     "output_type": "stream",
     "text": [
      "4 ! =  24\n"
     ]
    },
    {
     "name": "stdin",
     "output_type": "stream",
     "text": [
      "(0 = exit) N (1 ~ 100) =  5\n"
     ]
    },
    {
     "name": "stdout",
     "output_type": "stream",
     "text": [
      "5 ! =  120\n"
     ]
    },
    {
     "name": "stdin",
     "output_type": "stream",
     "text": [
      "(0 = exit) N (1 ~ 100) =  6\n"
     ]
    },
    {
     "name": "stdout",
     "output_type": "stream",
     "text": [
      "6 ! =  720\n"
     ]
    },
    {
     "name": "stdin",
     "output_type": "stream",
     "text": [
      "(0 = exit) N (1 ~ 100) =  -1\n"
     ]
    },
    {
     "name": "stdout",
     "output_type": "stream",
     "text": [
      "N < 0! 重试！\n"
     ]
    },
    {
     "name": "stdin",
     "output_type": "stream",
     "text": [
      "(0 = exit) N (1 ~ 100) =  0\n"
     ]
    },
    {
     "name": "stdout",
     "output_type": "stream",
     "text": [
      "0 ! =  1\n"
     ]
    }
   ],
   "source": [
    "n = -1\n",
    "while n != 0:\n",
    "    n = int(input(\"(0 = exit) N (1 ~ 100) = \"))\n",
    "    if n > 1000:\n",
    "        print('N > 100! 退出!')\n",
    "        break\n",
    "        \n",
    "    if n < 0:\n",
    "        print('N < 0! 重试！')\n",
    "        continue\n",
    "    \n",
    "    product = 1\n",
    "    for i in range(n):\n",
    "        product *= i + 1\n",
    "\n",
    "    print(n, \"! = \", product)"
   ]
  },
  {
   "cell_type": "markdown",
   "metadata": {},
   "source": [
    "## 4 推导式（解析式）\n",
    "\n",
    "### 4.1 列表推导式"
   ]
  },
  {
   "cell_type": "code",
   "execution_count": 153,
   "metadata": {},
   "outputs": [
    {
     "data": {
      "text/plain": [
       "[1, 4, 9, 16, 25, 36, 49, 64, 81]"
      ]
     },
     "execution_count": 153,
     "metadata": {},
     "output_type": "execute_result"
    }
   ],
   "source": [
    "squares = [x**2 for x in range(1, 10)]\n",
    "squares"
   ]
  },
  {
   "cell_type": "code",
   "execution_count": 154,
   "metadata": {},
   "outputs": [
    {
     "data": {
      "text/plain": [
       "[4, 16, 36, 64]"
      ]
     },
     "execution_count": 154,
     "metadata": {},
     "output_type": "execute_result"
    }
   ],
   "source": [
    "even_squares = [x for x in squares if x%2 == 0]\n",
    "even_squares"
   ]
  },
  {
   "cell_type": "code",
   "execution_count": 157,
   "metadata": {},
   "outputs": [
    {
     "data": {
      "text/plain": [
       "[1, 2, 3, 4, 5, 6, 7, 8, 9]"
      ]
     },
     "execution_count": 157,
     "metadata": {},
     "output_type": "execute_result"
    }
   ],
   "source": [
    "arr_2d = [[1, 2, 3], [4, 5, 6], [7, 8, 9]]\n",
    "arr_flattened = [col for row in arr_2d for col in row]\n",
    "arr_flattened"
   ]
  },
  {
   "cell_type": "code",
   "execution_count": 158,
   "metadata": {},
   "outputs": [
    {
     "data": {
      "text/plain": [
       "[(0, 0), (0, 1), (1, 0), (1, 1)]"
      ]
     },
     "execution_count": 158,
     "metadata": {},
     "output_type": "execute_result"
    }
   ],
   "source": [
    "[(a, b) for a in [0, 1] for b in [0, 1]]"
   ]
  },
  {
   "cell_type": "code",
   "execution_count": 159,
   "metadata": {},
   "outputs": [
    {
     "data": {
      "text/plain": [
       "[(1, 2), (1, 3), (2, 1), (2, 3), (3, 1), (3, 2)]"
      ]
     },
     "execution_count": 159,
     "metadata": {},
     "output_type": "execute_result"
    }
   ],
   "source": [
    "[(a, b) for a in [1, 2, 3] for b in [1, 2, 3] if a != b]"
   ]
  },
  {
   "cell_type": "markdown",
   "metadata": {},
   "source": [
    "### 4.2 字典推导式"
   ]
  },
  {
   "cell_type": "code",
   "execution_count": 162,
   "metadata": {},
   "outputs": [
    {
     "data": {
      "text/plain": [
       "{'A': 65,\n",
       " 'B': 66,\n",
       " 'C': 67,\n",
       " 'D': 68,\n",
       " 'E': 69,\n",
       " 'F': 70,\n",
       " 'G': 71,\n",
       " 'H': 72,\n",
       " 'I': 73,\n",
       " 'J': 74,\n",
       " 'K': 75,\n",
       " 'L': 76,\n",
       " 'M': 77,\n",
       " 'N': 78,\n",
       " 'O': 79,\n",
       " 'P': 80,\n",
       " 'Q': 81,\n",
       " 'R': 82,\n",
       " 'S': 83,\n",
       " 'T': 84,\n",
       " 'U': 85,\n",
       " 'V': 86,\n",
       " 'W': 87,\n",
       " 'X': 88,\n",
       " 'Y': 89,\n",
       " 'Z': 90}"
      ]
     },
     "execution_count": 162,
     "metadata": {},
     "output_type": "execute_result"
    }
   ],
   "source": [
    "{ chr(n): n for n in range(ord('A'), ord('Z') + 1) }"
   ]
  },
  {
   "cell_type": "markdown",
   "metadata": {},
   "source": [
    "### 4.2 集合推导式"
   ]
  },
  {
   "cell_type": "code",
   "execution_count": 164,
   "metadata": {},
   "outputs": [
    {
     "data": {
      "text/plain": [
       "{0, 1, 4, 9, 16, 25, 36, 49, 64, 81, 100}"
      ]
     },
     "execution_count": 164,
     "metadata": {},
     "output_type": "execute_result"
    }
   ],
   "source": [
    "{x ** 2 for x in range(-10, 11)}"
   ]
  },
  {
   "cell_type": "code",
   "execution_count": 165,
   "metadata": {},
   "outputs": [
    {
     "data": {
      "text/plain": [
       "{'Alice', 'Bob', 'John'}"
      ]
     },
     "execution_count": 165,
     "metadata": {},
     "output_type": "execute_result"
    }
   ],
   "source": [
    "names = ['Bob', 'JOHN', 'alice', 'bob', 'ALICE', 'J', 'BOB']\n",
    "{name[0].upper() + name[1:].lower() for name in names if len(name) > 2}"
   ]
  },
  {
   "cell_type": "markdown",
   "metadata": {},
   "source": [
    "## 5 Python模块\n",
    "\n",
    "### 5.1 导入标准库"
   ]
  },
  {
   "cell_type": "code",
   "execution_count": 167,
   "metadata": {},
   "outputs": [
    {
     "data": {
      "text/plain": [
       "3.141592653589793"
      ]
     },
     "execution_count": 167,
     "metadata": {},
     "output_type": "execute_result"
    }
   ],
   "source": [
    "import math\n",
    "math.pi"
   ]
  },
  {
   "cell_type": "code",
   "execution_count": 168,
   "metadata": {},
   "outputs": [
    {
     "data": {
      "text/plain": [
       "0.49999999999999994"
      ]
     },
     "execution_count": 168,
     "metadata": {},
     "output_type": "execute_result"
    }
   ],
   "source": [
    "math.sin(math.pi / 6)"
   ]
  },
  {
   "cell_type": "code",
   "execution_count": 170,
   "metadata": {},
   "outputs": [
    {
     "data": {
      "text/plain": [
       "0.8917659947382535"
      ]
     },
     "execution_count": 170,
     "metadata": {},
     "output_type": "execute_result"
    }
   ],
   "source": [
    "import random as rnd\n",
    "x = rnd.random()\n",
    "x"
   ]
  },
  {
   "cell_type": "markdown",
   "metadata": {},
   "source": [
    "### 5.2 自定义模块\n"
   ]
  },
  {
   "cell_type": "code",
   "execution_count": 171,
   "metadata": {},
   "outputs": [
    {
     "name": "stdout",
     "output_type": "stream",
     "text": [
      "Writing apps/samples.py\n"
     ]
    }
   ],
   "source": [
    "%%writefile apps/samples.py\n",
    "\n",
    "PI = 3.1415926\n",
    "\n",
    "def circle_area(r):\n",
    "    return PI * r * r\n",
    "\n",
    "def test():\n",
    "    print([circle_area(r) for r in range(1, 11)])\n",
    "    \n",
    "if __name__ == '__main__':\n",
    "    test()"
   ]
  },
  {
   "cell_type": "code",
   "execution_count": 172,
   "metadata": {},
   "outputs": [
    {
     "name": "stdout",
     "output_type": "stream",
     "text": [
      "[3.1415926, 12.5663704, 28.274333400000003, 50.2654816, 78.539815, 113.09733360000001, 153.9380374, 201.0619264, 254.4690006, 314.15926]\n"
     ]
    }
   ],
   "source": [
    "%run apps/samples.py"
   ]
  },
  {
   "cell_type": "code",
   "execution_count": 176,
   "metadata": {},
   "outputs": [
    {
     "data": {
      "text/plain": [
       "3.1415926"
      ]
     },
     "execution_count": 176,
     "metadata": {},
     "output_type": "execute_result"
    }
   ],
   "source": [
    "import apps.samples\n",
    "samples.PI"
   ]
  },
  {
   "cell_type": "code",
   "execution_count": 177,
   "metadata": {},
   "outputs": [
    {
     "name": "stdout",
     "output_type": "stream",
     "text": [
      "[3.1415926, 12.5663704, 28.274333400000003, 50.2654816, 78.539815, 113.09733360000001, 153.9380374, 201.0619264, 254.4690006, 314.15926]\n"
     ]
    }
   ],
   "source": [
    "samples.test()"
   ]
  },
  {
   "cell_type": "code",
   "execution_count": 178,
   "metadata": {},
   "outputs": [
    {
     "data": {
      "text/plain": [
       "31415.926000000003"
      ]
     },
     "execution_count": 178,
     "metadata": {},
     "output_type": "execute_result"
    }
   ],
   "source": [
    "samples.circle_area(100)"
   ]
  },
  {
   "cell_type": "code",
   "execution_count": 180,
   "metadata": {},
   "outputs": [
    {
     "name": "stdout",
     "output_type": "stream",
     "text": [
      "Writing test.c\n"
     ]
    }
   ],
   "source": [
    "%%writefile test.c\n",
    "\n",
    "#include <stdio.h>\n",
    "\n",
    "int main() {\n",
    "    \n",
    "    printf(\"hello, world\\n\");\n",
    "    return 0;\n",
    "}"
   ]
  },
  {
   "cell_type": "code",
   "execution_count": 181,
   "metadata": {},
   "outputs": [
    {
     "name": "stdout",
     "output_type": "stream",
     "text": [
      "hello, world\n"
     ]
    }
   ],
   "source": [
    "!gcc test.c -o test\n",
    "!./test"
   ]
  },
  {
   "cell_type": "code",
   "execution_count": 182,
   "metadata": {},
   "outputs": [
    {
     "data": {
      "text/plain": [
       "['/home/jovyan/Tutorials',\n",
       " '/usr/local/spark/python',\n",
       " '/usr/local/spark/python/lib/py4j-0.10.7-src.zip',\n",
       " '/opt/conda/lib/python37.zip',\n",
       " '/opt/conda/lib/python3.7',\n",
       " '/opt/conda/lib/python3.7/lib-dynload',\n",
       " '',\n",
       " '/opt/conda/lib/python3.7/site-packages',\n",
       " '/opt/conda/lib/python3.7/site-packages/IPython/extensions',\n",
       " '/home/jovyan/.ipython']"
      ]
     },
     "execution_count": 182,
     "metadata": {},
     "output_type": "execute_result"
    }
   ],
   "source": [
    "import sys\n",
    "sys.path"
   ]
  },
  {
   "cell_type": "markdown",
   "metadata": {},
   "source": [
    "### 5.3 常用的内建模块\n",
    "\n",
    "#### collections模块\n",
    "\n",
    "##### 1. namedtuple"
   ]
  },
  {
   "cell_type": "code",
   "execution_count": 194,
   "metadata": {},
   "outputs": [],
   "source": [
    "from collections import namedtuple\n",
    "\n",
    "Book = namedtuple('Book', ['name', 'author', 'price'])"
   ]
  },
  {
   "cell_type": "code",
   "execution_count": 195,
   "metadata": {},
   "outputs": [
    {
     "data": {
      "text/plain": [
       "'Python Programming'"
      ]
     },
     "execution_count": 195,
     "metadata": {},
     "output_type": "execute_result"
    }
   ],
   "source": [
    "b1 = Book('Python Programming', '张三', 24.5)\n",
    "b1.name"
   ]
  },
  {
   "cell_type": "code",
   "execution_count": 196,
   "metadata": {},
   "outputs": [
    {
     "data": {
      "text/plain": [
       "'张三'"
      ]
     },
     "execution_count": 196,
     "metadata": {},
     "output_type": "execute_result"
    }
   ],
   "source": [
    "b1.author"
   ]
  },
  {
   "cell_type": "code",
   "execution_count": 197,
   "metadata": {},
   "outputs": [
    {
     "data": {
      "text/plain": [
       "24.5"
      ]
     },
     "execution_count": 197,
     "metadata": {},
     "output_type": "execute_result"
    }
   ],
   "source": [
    "b1.price"
   ]
  },
  {
   "cell_type": "code",
   "execution_count": 198,
   "metadata": {},
   "outputs": [
    {
     "data": {
      "text/plain": [
       "Book(name='Python Programming', author='张三', price=24.5)"
      ]
     },
     "execution_count": 198,
     "metadata": {},
     "output_type": "execute_result"
    }
   ],
   "source": [
    "b1"
   ]
  },
  {
   "cell_type": "code",
   "execution_count": 199,
   "metadata": {},
   "outputs": [
    {
     "data": {
      "text/plain": [
       "Book(name='Python Data Analysis', author='李四', price=36.5)"
      ]
     },
     "execution_count": 199,
     "metadata": {},
     "output_type": "execute_result"
    }
   ],
   "source": [
    "b2 = Book('Python Data Analysis', '李四', 36.5)\n",
    "b2"
   ]
  },
  {
   "cell_type": "code",
   "execution_count": 200,
   "metadata": {},
   "outputs": [
    {
     "data": {
      "text/plain": [
       "True"
      ]
     },
     "execution_count": 200,
     "metadata": {},
     "output_type": "execute_result"
    }
   ],
   "source": [
    "isinstance(b1, Book)"
   ]
  },
  {
   "cell_type": "code",
   "execution_count": 201,
   "metadata": {},
   "outputs": [
    {
     "data": {
      "text/plain": [
       "True"
      ]
     },
     "execution_count": 201,
     "metadata": {},
     "output_type": "execute_result"
    }
   ],
   "source": [
    "isinstance(b2, tuple)"
   ]
  },
  {
   "cell_type": "code",
   "execution_count": 202,
   "metadata": {},
   "outputs": [
    {
     "data": {
      "text/plain": [
       "'Python Programming'"
      ]
     },
     "execution_count": 202,
     "metadata": {},
     "output_type": "execute_result"
    }
   ],
   "source": [
    "b1[0]"
   ]
  },
  {
   "cell_type": "code",
   "execution_count": 203,
   "metadata": {},
   "outputs": [
    {
     "data": {
      "text/plain": [
       "'张三'"
      ]
     },
     "execution_count": 203,
     "metadata": {},
     "output_type": "execute_result"
    }
   ],
   "source": [
    "b1[1]"
   ]
  },
  {
   "cell_type": "code",
   "execution_count": 204,
   "metadata": {},
   "outputs": [
    {
     "data": {
      "text/plain": [
       "24.5"
      ]
     },
     "execution_count": 204,
     "metadata": {},
     "output_type": "execute_result"
    }
   ],
   "source": [
    "b1[2]"
   ]
  },
  {
   "cell_type": "code",
   "execution_count": 209,
   "metadata": {},
   "outputs": [],
   "source": [
    "name, author, price = b2"
   ]
  },
  {
   "cell_type": "code",
   "execution_count": 210,
   "metadata": {},
   "outputs": [
    {
     "data": {
      "text/plain": [
       "'Python Data Analysis'"
      ]
     },
     "execution_count": 210,
     "metadata": {},
     "output_type": "execute_result"
    }
   ],
   "source": [
    "name"
   ]
  },
  {
   "cell_type": "code",
   "execution_count": 211,
   "metadata": {},
   "outputs": [
    {
     "data": {
      "text/plain": [
       "'李四'"
      ]
     },
     "execution_count": 211,
     "metadata": {},
     "output_type": "execute_result"
    }
   ],
   "source": [
    "author"
   ]
  },
  {
   "cell_type": "code",
   "execution_count": 212,
   "metadata": {},
   "outputs": [
    {
     "data": {
      "text/plain": [
       "36.5"
      ]
     },
     "execution_count": 212,
     "metadata": {},
     "output_type": "execute_result"
    }
   ],
   "source": [
    "price"
   ]
  },
  {
   "cell_type": "code",
   "execution_count": 244,
   "metadata": {},
   "outputs": [
    {
     "data": {
      "text/html": [
       "<ul style=\"\n",
       "    list-style-type:none;\n",
       "    \"><li style=\"\n",
       "    display: inline-block;\n",
       "    padding-right: 1em;\n",
       "    width: 8.5em;\n",
       "    \">__annotations__</li><li style=\"\n",
       "    display: inline-block;\n",
       "    padding-right: 1em;\n",
       "    width: 8.5em;\n",
       "    \">__call__</li><li style=\"\n",
       "    display: inline-block;\n",
       "    padding-right: 1em;\n",
       "    width: 8.5em;\n",
       "    \">__class__</li><li style=\"\n",
       "    display: inline-block;\n",
       "    padding-right: 1em;\n",
       "    width: 8.5em;\n",
       "    \">__closure__</li><li style=\"\n",
       "    display: inline-block;\n",
       "    padding-right: 1em;\n",
       "    width: 8.5em;\n",
       "    \">__code__</li><li style=\"\n",
       "    display: inline-block;\n",
       "    padding-right: 1em;\n",
       "    width: 8.5em;\n",
       "    \">__defaults__</li><li style=\"\n",
       "    display: inline-block;\n",
       "    padding-right: 1em;\n",
       "    width: 8.5em;\n",
       "    \">__delattr__</li><li style=\"\n",
       "    display: inline-block;\n",
       "    padding-right: 1em;\n",
       "    width: 8.5em;\n",
       "    \">__dict__</li><li style=\"\n",
       "    display: inline-block;\n",
       "    padding-right: 1em;\n",
       "    width: 8.5em;\n",
       "    \">__dir__</li><li style=\"\n",
       "    display: inline-block;\n",
       "    padding-right: 1em;\n",
       "    width: 8.5em;\n",
       "    \">__doc__</li><li style=\"\n",
       "    display: inline-block;\n",
       "    padding-right: 1em;\n",
       "    width: 8.5em;\n",
       "    \">__eq__</li><li style=\"\n",
       "    display: inline-block;\n",
       "    padding-right: 1em;\n",
       "    width: 8.5em;\n",
       "    \">__format__</li><li style=\"\n",
       "    display: inline-block;\n",
       "    padding-right: 1em;\n",
       "    width: 8.5em;\n",
       "    \">__ge__</li><li style=\"\n",
       "    display: inline-block;\n",
       "    padding-right: 1em;\n",
       "    width: 8.5em;\n",
       "    \">__get__</li><li style=\"\n",
       "    display: inline-block;\n",
       "    padding-right: 1em;\n",
       "    width: 8.5em;\n",
       "    \">__getattribute__</li><li style=\"\n",
       "    display: inline-block;\n",
       "    padding-right: 1em;\n",
       "    width: 8.5em;\n",
       "    \">__globals__</li><li style=\"\n",
       "    display: inline-block;\n",
       "    padding-right: 1em;\n",
       "    width: 8.5em;\n",
       "    \">__gt__</li><li style=\"\n",
       "    display: inline-block;\n",
       "    padding-right: 1em;\n",
       "    width: 8.5em;\n",
       "    \">__hash__</li><li style=\"\n",
       "    display: inline-block;\n",
       "    padding-right: 1em;\n",
       "    width: 8.5em;\n",
       "    \">__init__</li><li style=\"\n",
       "    display: inline-block;\n",
       "    padding-right: 1em;\n",
       "    width: 8.5em;\n",
       "    \">__init_subclass__</li><li style=\"\n",
       "    display: inline-block;\n",
       "    padding-right: 1em;\n",
       "    width: 8.5em;\n",
       "    \">__kwdefaults__</li><li style=\"\n",
       "    display: inline-block;\n",
       "    padding-right: 1em;\n",
       "    width: 8.5em;\n",
       "    \">__le__</li><li style=\"\n",
       "    display: inline-block;\n",
       "    padding-right: 1em;\n",
       "    width: 8.5em;\n",
       "    \">__lt__</li><li style=\"\n",
       "    display: inline-block;\n",
       "    padding-right: 1em;\n",
       "    width: 8.5em;\n",
       "    \">__module__</li><li style=\"\n",
       "    display: inline-block;\n",
       "    padding-right: 1em;\n",
       "    width: 8.5em;\n",
       "    \">__name__</li><li style=\"\n",
       "    display: inline-block;\n",
       "    padding-right: 1em;\n",
       "    width: 8.5em;\n",
       "    \">__ne__</li><li style=\"\n",
       "    display: inline-block;\n",
       "    padding-right: 1em;\n",
       "    width: 8.5em;\n",
       "    \">__new__</li><li style=\"\n",
       "    display: inline-block;\n",
       "    padding-right: 1em;\n",
       "    width: 8.5em;\n",
       "    \">__qualname__</li><li style=\"\n",
       "    display: inline-block;\n",
       "    padding-right: 1em;\n",
       "    width: 8.5em;\n",
       "    \">__reduce__</li><li style=\"\n",
       "    display: inline-block;\n",
       "    padding-right: 1em;\n",
       "    width: 8.5em;\n",
       "    \">__reduce_ex__</li><li style=\"\n",
       "    display: inline-block;\n",
       "    padding-right: 1em;\n",
       "    width: 8.5em;\n",
       "    \">__repr__</li><li style=\"\n",
       "    display: inline-block;\n",
       "    padding-right: 1em;\n",
       "    width: 8.5em;\n",
       "    \">__setattr__</li><li style=\"\n",
       "    display: inline-block;\n",
       "    padding-right: 1em;\n",
       "    width: 8.5em;\n",
       "    \">__sizeof__</li><li style=\"\n",
       "    display: inline-block;\n",
       "    padding-right: 1em;\n",
       "    width: 8.5em;\n",
       "    \">__str__</li><li style=\"\n",
       "    display: inline-block;\n",
       "    padding-right: 1em;\n",
       "    width: 8.5em;\n",
       "    \">__subclasshook__</li></ul>"
      ],
      "text/plain": [
       "<IPython.core.display.HTML object>"
      ]
     },
     "metadata": {},
     "output_type": "display_data"
    }
   ],
   "source": [
    "print_as_html(dir(namedtuple))"
   ]
  },
  {
   "cell_type": "markdown",
   "metadata": {},
   "source": [
    "##### 2. deque"
   ]
  },
  {
   "cell_type": "code",
   "execution_count": 213,
   "metadata": {},
   "outputs": [
    {
     "data": {
      "text/plain": [
       "deque(['A', 'B', 'C'])"
      ]
     },
     "execution_count": 213,
     "metadata": {},
     "output_type": "execute_result"
    }
   ],
   "source": [
    "from collections import deque\n",
    "dq = deque(['A', 'B', 'C'])\n",
    "dq"
   ]
  },
  {
   "cell_type": "code",
   "execution_count": 214,
   "metadata": {},
   "outputs": [],
   "source": [
    "dq.append('D')"
   ]
  },
  {
   "cell_type": "code",
   "execution_count": 215,
   "metadata": {},
   "outputs": [
    {
     "data": {
      "text/plain": [
       "deque(['A', 'B', 'C', 'D'])"
      ]
     },
     "execution_count": 215,
     "metadata": {},
     "output_type": "execute_result"
    }
   ],
   "source": [
    "dq"
   ]
  },
  {
   "cell_type": "code",
   "execution_count": 218,
   "metadata": {},
   "outputs": [
    {
     "data": {
      "text/plain": [
       "deque(['Z', 'Z', 'A', 'B', 'C', 'D'])"
      ]
     },
     "execution_count": 218,
     "metadata": {},
     "output_type": "execute_result"
    }
   ],
   "source": [
    "dq.appendleft('Z')\n",
    "dq"
   ]
  },
  {
   "cell_type": "code",
   "execution_count": 219,
   "metadata": {},
   "outputs": [
    {
     "data": {
      "text/plain": [
       "deque(['Z', 'X', 'Z', 'A', 'B', 'C', 'D'])"
      ]
     },
     "execution_count": 219,
     "metadata": {},
     "output_type": "execute_result"
    }
   ],
   "source": [
    "dq.insert(1, 'X')\n",
    "dq"
   ]
  },
  {
   "cell_type": "code",
   "execution_count": 221,
   "metadata": {},
   "outputs": [
    {
     "data": {
      "text/plain": [
       "'Z'"
      ]
     },
     "execution_count": 221,
     "metadata": {},
     "output_type": "execute_result"
    }
   ],
   "source": [
    "dq.popleft()"
   ]
  },
  {
   "cell_type": "code",
   "execution_count": 222,
   "metadata": {},
   "outputs": [],
   "source": [
    "dq.remove('Z')"
   ]
  },
  {
   "cell_type": "code",
   "execution_count": 223,
   "metadata": {},
   "outputs": [
    {
     "data": {
      "text/plain": [
       "deque(['X', 'A', 'B', 'C', 'D'])"
      ]
     },
     "execution_count": 223,
     "metadata": {},
     "output_type": "execute_result"
    }
   ],
   "source": [
    "dq"
   ]
  },
  {
   "cell_type": "code",
   "execution_count": 227,
   "metadata": {},
   "outputs": [
    {
     "data": {
      "text/plain": [
       "deque(['D', 'C', 'B', 'A', 'X'])"
      ]
     },
     "execution_count": 227,
     "metadata": {},
     "output_type": "execute_result"
    }
   ],
   "source": [
    "dq.reverse()\n",
    "dq"
   ]
  },
  {
   "cell_type": "code",
   "execution_count": 245,
   "metadata": {},
   "outputs": [
    {
     "data": {
      "text/html": [
       "<ul style=\"\n",
       "    list-style-type:none;\n",
       "    \"><li style=\"\n",
       "    display: inline-block;\n",
       "    padding-right: 1em;\n",
       "    width: 8.5em;\n",
       "    \">__add__</li><li style=\"\n",
       "    display: inline-block;\n",
       "    padding-right: 1em;\n",
       "    width: 8.5em;\n",
       "    \">__bool__</li><li style=\"\n",
       "    display: inline-block;\n",
       "    padding-right: 1em;\n",
       "    width: 8.5em;\n",
       "    \">__class__</li><li style=\"\n",
       "    display: inline-block;\n",
       "    padding-right: 1em;\n",
       "    width: 8.5em;\n",
       "    \">__contains__</li><li style=\"\n",
       "    display: inline-block;\n",
       "    padding-right: 1em;\n",
       "    width: 8.5em;\n",
       "    \">__copy__</li><li style=\"\n",
       "    display: inline-block;\n",
       "    padding-right: 1em;\n",
       "    width: 8.5em;\n",
       "    \">__delattr__</li><li style=\"\n",
       "    display: inline-block;\n",
       "    padding-right: 1em;\n",
       "    width: 8.5em;\n",
       "    \">__delitem__</li><li style=\"\n",
       "    display: inline-block;\n",
       "    padding-right: 1em;\n",
       "    width: 8.5em;\n",
       "    \">__dir__</li><li style=\"\n",
       "    display: inline-block;\n",
       "    padding-right: 1em;\n",
       "    width: 8.5em;\n",
       "    \">__doc__</li><li style=\"\n",
       "    display: inline-block;\n",
       "    padding-right: 1em;\n",
       "    width: 8.5em;\n",
       "    \">__eq__</li><li style=\"\n",
       "    display: inline-block;\n",
       "    padding-right: 1em;\n",
       "    width: 8.5em;\n",
       "    \">__format__</li><li style=\"\n",
       "    display: inline-block;\n",
       "    padding-right: 1em;\n",
       "    width: 8.5em;\n",
       "    \">__ge__</li><li style=\"\n",
       "    display: inline-block;\n",
       "    padding-right: 1em;\n",
       "    width: 8.5em;\n",
       "    \">__getattribute__</li><li style=\"\n",
       "    display: inline-block;\n",
       "    padding-right: 1em;\n",
       "    width: 8.5em;\n",
       "    \">__getitem__</li><li style=\"\n",
       "    display: inline-block;\n",
       "    padding-right: 1em;\n",
       "    width: 8.5em;\n",
       "    \">__gt__</li><li style=\"\n",
       "    display: inline-block;\n",
       "    padding-right: 1em;\n",
       "    width: 8.5em;\n",
       "    \">__hash__</li><li style=\"\n",
       "    display: inline-block;\n",
       "    padding-right: 1em;\n",
       "    width: 8.5em;\n",
       "    \">__iadd__</li><li style=\"\n",
       "    display: inline-block;\n",
       "    padding-right: 1em;\n",
       "    width: 8.5em;\n",
       "    \">__imul__</li><li style=\"\n",
       "    display: inline-block;\n",
       "    padding-right: 1em;\n",
       "    width: 8.5em;\n",
       "    \">__init__</li><li style=\"\n",
       "    display: inline-block;\n",
       "    padding-right: 1em;\n",
       "    width: 8.5em;\n",
       "    \">__init_subclass__</li><li style=\"\n",
       "    display: inline-block;\n",
       "    padding-right: 1em;\n",
       "    width: 8.5em;\n",
       "    \">__iter__</li><li style=\"\n",
       "    display: inline-block;\n",
       "    padding-right: 1em;\n",
       "    width: 8.5em;\n",
       "    \">__le__</li><li style=\"\n",
       "    display: inline-block;\n",
       "    padding-right: 1em;\n",
       "    width: 8.5em;\n",
       "    \">__len__</li><li style=\"\n",
       "    display: inline-block;\n",
       "    padding-right: 1em;\n",
       "    width: 8.5em;\n",
       "    \">__lt__</li><li style=\"\n",
       "    display: inline-block;\n",
       "    padding-right: 1em;\n",
       "    width: 8.5em;\n",
       "    \">__mul__</li><li style=\"\n",
       "    display: inline-block;\n",
       "    padding-right: 1em;\n",
       "    width: 8.5em;\n",
       "    \">__ne__</li><li style=\"\n",
       "    display: inline-block;\n",
       "    padding-right: 1em;\n",
       "    width: 8.5em;\n",
       "    \">__new__</li><li style=\"\n",
       "    display: inline-block;\n",
       "    padding-right: 1em;\n",
       "    width: 8.5em;\n",
       "    \">__reduce__</li><li style=\"\n",
       "    display: inline-block;\n",
       "    padding-right: 1em;\n",
       "    width: 8.5em;\n",
       "    \">__reduce_ex__</li><li style=\"\n",
       "    display: inline-block;\n",
       "    padding-right: 1em;\n",
       "    width: 8.5em;\n",
       "    \">__repr__</li><li style=\"\n",
       "    display: inline-block;\n",
       "    padding-right: 1em;\n",
       "    width: 8.5em;\n",
       "    \">__reversed__</li><li style=\"\n",
       "    display: inline-block;\n",
       "    padding-right: 1em;\n",
       "    width: 8.5em;\n",
       "    \">__rmul__</li><li style=\"\n",
       "    display: inline-block;\n",
       "    padding-right: 1em;\n",
       "    width: 8.5em;\n",
       "    \">__setattr__</li><li style=\"\n",
       "    display: inline-block;\n",
       "    padding-right: 1em;\n",
       "    width: 8.5em;\n",
       "    \">__setitem__</li><li style=\"\n",
       "    display: inline-block;\n",
       "    padding-right: 1em;\n",
       "    width: 8.5em;\n",
       "    \">__sizeof__</li><li style=\"\n",
       "    display: inline-block;\n",
       "    padding-right: 1em;\n",
       "    width: 8.5em;\n",
       "    \">__str__</li><li style=\"\n",
       "    display: inline-block;\n",
       "    padding-right: 1em;\n",
       "    width: 8.5em;\n",
       "    \">__subclasshook__</li><li style=\"\n",
       "    display: inline-block;\n",
       "    padding-right: 1em;\n",
       "    width: 8.5em;\n",
       "    \">append</li><li style=\"\n",
       "    display: inline-block;\n",
       "    padding-right: 1em;\n",
       "    width: 8.5em;\n",
       "    \">appendleft</li><li style=\"\n",
       "    display: inline-block;\n",
       "    padding-right: 1em;\n",
       "    width: 8.5em;\n",
       "    \">clear</li><li style=\"\n",
       "    display: inline-block;\n",
       "    padding-right: 1em;\n",
       "    width: 8.5em;\n",
       "    \">copy</li><li style=\"\n",
       "    display: inline-block;\n",
       "    padding-right: 1em;\n",
       "    width: 8.5em;\n",
       "    \">count</li><li style=\"\n",
       "    display: inline-block;\n",
       "    padding-right: 1em;\n",
       "    width: 8.5em;\n",
       "    \">extend</li><li style=\"\n",
       "    display: inline-block;\n",
       "    padding-right: 1em;\n",
       "    width: 8.5em;\n",
       "    \">extendleft</li><li style=\"\n",
       "    display: inline-block;\n",
       "    padding-right: 1em;\n",
       "    width: 8.5em;\n",
       "    \">index</li><li style=\"\n",
       "    display: inline-block;\n",
       "    padding-right: 1em;\n",
       "    width: 8.5em;\n",
       "    \">insert</li><li style=\"\n",
       "    display: inline-block;\n",
       "    padding-right: 1em;\n",
       "    width: 8.5em;\n",
       "    \">maxlen</li><li style=\"\n",
       "    display: inline-block;\n",
       "    padding-right: 1em;\n",
       "    width: 8.5em;\n",
       "    \">pop</li><li style=\"\n",
       "    display: inline-block;\n",
       "    padding-right: 1em;\n",
       "    width: 8.5em;\n",
       "    \">popleft</li><li style=\"\n",
       "    display: inline-block;\n",
       "    padding-right: 1em;\n",
       "    width: 8.5em;\n",
       "    \">remove</li><li style=\"\n",
       "    display: inline-block;\n",
       "    padding-right: 1em;\n",
       "    width: 8.5em;\n",
       "    \">reverse</li><li style=\"\n",
       "    display: inline-block;\n",
       "    padding-right: 1em;\n",
       "    width: 8.5em;\n",
       "    \">rotate</li></ul>"
      ],
      "text/plain": [
       "<IPython.core.display.HTML object>"
      ]
     },
     "metadata": {},
     "output_type": "display_data"
    }
   ],
   "source": [
    "print_as_html(dir(deque))"
   ]
  },
  {
   "cell_type": "markdown",
   "metadata": {},
   "source": [
    "##### 3. OrderedDict\n"
   ]
  },
  {
   "cell_type": "code",
   "execution_count": 230,
   "metadata": {},
   "outputs": [],
   "source": [
    "from collections import OrderedDict\n",
    "od = OrderedDict()"
   ]
  },
  {
   "cell_type": "code",
   "execution_count": 231,
   "metadata": {},
   "outputs": [
    {
     "data": {
      "text/plain": [
       "OrderedDict([('b', 1), ('c', 2), ('a', 3), ('d', 4)])"
      ]
     },
     "execution_count": 231,
     "metadata": {},
     "output_type": "execute_result"
    }
   ],
   "source": [
    "od['b'] = 1\n",
    "od['c'] = 2\n",
    "od['a'] = 3\n",
    "od['d'] = 4\n",
    "od"
   ]
  },
  {
   "cell_type": "code",
   "execution_count": 233,
   "metadata": {},
   "outputs": [
    {
     "data": {
      "text/plain": [
       "['b', 'c', 'a', 'd']"
      ]
     },
     "execution_count": 233,
     "metadata": {},
     "output_type": "execute_result"
    }
   ],
   "source": [
    "list(od.keys())"
   ]
  },
  {
   "cell_type": "code",
   "execution_count": 234,
   "metadata": {},
   "outputs": [
    {
     "data": {
      "text/plain": [
       "OrderedDict([('b', 1),\n",
       "             ('c', 2),\n",
       "             ('a', 3),\n",
       "             ('d', 4),\n",
       "             ('apple', 4),\n",
       "             ('banana', 5),\n",
       "             ('cat', 6)])"
      ]
     },
     "execution_count": 234,
     "metadata": {},
     "output_type": "execute_result"
    }
   ],
   "source": [
    "keys = ['apple', 'banana', 'cat']\n",
    "values = [4, 5, 6]\n",
    "\n",
    "od.update(zip(keys, values))\n",
    "od"
   ]
  },
  {
   "cell_type": "code",
   "execution_count": 235,
   "metadata": {},
   "outputs": [
    {
     "data": {
      "text/plain": [
       "OrderedDict([('b', 0),\n",
       "             ('c', 1),\n",
       "             ('a', 2),\n",
       "             ('d', 4),\n",
       "             ('apple', 4),\n",
       "             ('banana', 5),\n",
       "             ('cat', 6)])"
      ]
     },
     "execution_count": 235,
     "metadata": {},
     "output_type": "execute_result"
    }
   ],
   "source": [
    "od.update([('b', 0), ('c', 1), ('a', 2), ('d', 4)])\n",
    "od"
   ]
  },
  {
   "cell_type": "code",
   "execution_count": 237,
   "metadata": {},
   "outputs": [
    {
     "data": {
      "text/plain": [
       "[('aa', 11), ('bb', 22), ('cc', 33)]"
      ]
     },
     "execution_count": 237,
     "metadata": {},
     "output_type": "execute_result"
    }
   ],
   "source": [
    "list(zip(['aa','bb','cc'], [11, 22, 33]))"
   ]
  },
  {
   "cell_type": "code",
   "execution_count": 238,
   "metadata": {},
   "outputs": [
    {
     "data": {
      "text/plain": [
       "2"
      ]
     },
     "execution_count": 238,
     "metadata": {},
     "output_type": "execute_result"
    }
   ],
   "source": [
    "od.pop('a')"
   ]
  },
  {
   "cell_type": "code",
   "execution_count": 239,
   "metadata": {},
   "outputs": [
    {
     "data": {
      "text/plain": [
       "OrderedDict([('b', 0),\n",
       "             ('c', 1),\n",
       "             ('d', 4),\n",
       "             ('apple', 4),\n",
       "             ('banana', 5),\n",
       "             ('cat', 6)])"
      ]
     },
     "execution_count": 239,
     "metadata": {},
     "output_type": "execute_result"
    }
   ],
   "source": [
    "od"
   ]
  },
  {
   "cell_type": "code",
   "execution_count": 240,
   "metadata": {},
   "outputs": [
    {
     "data": {
      "text/plain": [
       "OrderedDict([('b', 0),\n",
       "             ('c', 1),\n",
       "             ('apple', 4),\n",
       "             ('banana', 5),\n",
       "             ('cat', 6),\n",
       "             ('d', 4)])"
      ]
     },
     "execution_count": 240,
     "metadata": {},
     "output_type": "execute_result"
    }
   ],
   "source": [
    "od.move_to_end('d')\n",
    "od"
   ]
  },
  {
   "cell_type": "code",
   "execution_count": 247,
   "metadata": {},
   "outputs": [
    {
     "data": {
      "text/plain": [
       "odict_keys(['b', 'c', 'apple', 'banana', 'cat', 'd'])"
      ]
     },
     "execution_count": 247,
     "metadata": {},
     "output_type": "execute_result"
    }
   ],
   "source": [
    "od.keys()"
   ]
  },
  {
   "cell_type": "code",
   "execution_count": 248,
   "metadata": {},
   "outputs": [
    {
     "data": {
      "text/plain": [
       "odict_values([0, 1, 4, 5, 6, 4])"
      ]
     },
     "execution_count": 248,
     "metadata": {},
     "output_type": "execute_result"
    }
   ],
   "source": [
    "od.values()"
   ]
  },
  {
   "cell_type": "code",
   "execution_count": 249,
   "metadata": {},
   "outputs": [
    {
     "data": {
      "text/plain": [
       "odict_items([('b', 0), ('c', 1), ('apple', 4), ('banana', 5), ('cat', 6), ('d', 4)])"
      ]
     },
     "execution_count": 249,
     "metadata": {},
     "output_type": "execute_result"
    }
   ],
   "source": [
    "od.items()"
   ]
  },
  {
   "cell_type": "code",
   "execution_count": 246,
   "metadata": {},
   "outputs": [
    {
     "data": {
      "text/html": [
       "<ul style=\"\n",
       "    list-style-type:none;\n",
       "    \"><li style=\"\n",
       "    display: inline-block;\n",
       "    padding-right: 1em;\n",
       "    width: 8.5em;\n",
       "    \">__class__</li><li style=\"\n",
       "    display: inline-block;\n",
       "    padding-right: 1em;\n",
       "    width: 8.5em;\n",
       "    \">__contains__</li><li style=\"\n",
       "    display: inline-block;\n",
       "    padding-right: 1em;\n",
       "    width: 8.5em;\n",
       "    \">__delattr__</li><li style=\"\n",
       "    display: inline-block;\n",
       "    padding-right: 1em;\n",
       "    width: 8.5em;\n",
       "    \">__delitem__</li><li style=\"\n",
       "    display: inline-block;\n",
       "    padding-right: 1em;\n",
       "    width: 8.5em;\n",
       "    \">__dict__</li><li style=\"\n",
       "    display: inline-block;\n",
       "    padding-right: 1em;\n",
       "    width: 8.5em;\n",
       "    \">__dir__</li><li style=\"\n",
       "    display: inline-block;\n",
       "    padding-right: 1em;\n",
       "    width: 8.5em;\n",
       "    \">__doc__</li><li style=\"\n",
       "    display: inline-block;\n",
       "    padding-right: 1em;\n",
       "    width: 8.5em;\n",
       "    \">__eq__</li><li style=\"\n",
       "    display: inline-block;\n",
       "    padding-right: 1em;\n",
       "    width: 8.5em;\n",
       "    \">__format__</li><li style=\"\n",
       "    display: inline-block;\n",
       "    padding-right: 1em;\n",
       "    width: 8.5em;\n",
       "    \">__ge__</li><li style=\"\n",
       "    display: inline-block;\n",
       "    padding-right: 1em;\n",
       "    width: 8.5em;\n",
       "    \">__getattribute__</li><li style=\"\n",
       "    display: inline-block;\n",
       "    padding-right: 1em;\n",
       "    width: 8.5em;\n",
       "    \">__getitem__</li><li style=\"\n",
       "    display: inline-block;\n",
       "    padding-right: 1em;\n",
       "    width: 8.5em;\n",
       "    \">__gt__</li><li style=\"\n",
       "    display: inline-block;\n",
       "    padding-right: 1em;\n",
       "    width: 8.5em;\n",
       "    \">__hash__</li><li style=\"\n",
       "    display: inline-block;\n",
       "    padding-right: 1em;\n",
       "    width: 8.5em;\n",
       "    \">__init__</li><li style=\"\n",
       "    display: inline-block;\n",
       "    padding-right: 1em;\n",
       "    width: 8.5em;\n",
       "    \">__init_subclass__</li><li style=\"\n",
       "    display: inline-block;\n",
       "    padding-right: 1em;\n",
       "    width: 8.5em;\n",
       "    \">__iter__</li><li style=\"\n",
       "    display: inline-block;\n",
       "    padding-right: 1em;\n",
       "    width: 8.5em;\n",
       "    \">__le__</li><li style=\"\n",
       "    display: inline-block;\n",
       "    padding-right: 1em;\n",
       "    width: 8.5em;\n",
       "    \">__len__</li><li style=\"\n",
       "    display: inline-block;\n",
       "    padding-right: 1em;\n",
       "    width: 8.5em;\n",
       "    \">__lt__</li><li style=\"\n",
       "    display: inline-block;\n",
       "    padding-right: 1em;\n",
       "    width: 8.5em;\n",
       "    \">__ne__</li><li style=\"\n",
       "    display: inline-block;\n",
       "    padding-right: 1em;\n",
       "    width: 8.5em;\n",
       "    \">__new__</li><li style=\"\n",
       "    display: inline-block;\n",
       "    padding-right: 1em;\n",
       "    width: 8.5em;\n",
       "    \">__reduce__</li><li style=\"\n",
       "    display: inline-block;\n",
       "    padding-right: 1em;\n",
       "    width: 8.5em;\n",
       "    \">__reduce_ex__</li><li style=\"\n",
       "    display: inline-block;\n",
       "    padding-right: 1em;\n",
       "    width: 8.5em;\n",
       "    \">__repr__</li><li style=\"\n",
       "    display: inline-block;\n",
       "    padding-right: 1em;\n",
       "    width: 8.5em;\n",
       "    \">__reversed__</li><li style=\"\n",
       "    display: inline-block;\n",
       "    padding-right: 1em;\n",
       "    width: 8.5em;\n",
       "    \">__setattr__</li><li style=\"\n",
       "    display: inline-block;\n",
       "    padding-right: 1em;\n",
       "    width: 8.5em;\n",
       "    \">__setitem__</li><li style=\"\n",
       "    display: inline-block;\n",
       "    padding-right: 1em;\n",
       "    width: 8.5em;\n",
       "    \">__sizeof__</li><li style=\"\n",
       "    display: inline-block;\n",
       "    padding-right: 1em;\n",
       "    width: 8.5em;\n",
       "    \">__str__</li><li style=\"\n",
       "    display: inline-block;\n",
       "    padding-right: 1em;\n",
       "    width: 8.5em;\n",
       "    \">__subclasshook__</li><li style=\"\n",
       "    display: inline-block;\n",
       "    padding-right: 1em;\n",
       "    width: 8.5em;\n",
       "    \">clear</li><li style=\"\n",
       "    display: inline-block;\n",
       "    padding-right: 1em;\n",
       "    width: 8.5em;\n",
       "    \">copy</li><li style=\"\n",
       "    display: inline-block;\n",
       "    padding-right: 1em;\n",
       "    width: 8.5em;\n",
       "    \">fromkeys</li><li style=\"\n",
       "    display: inline-block;\n",
       "    padding-right: 1em;\n",
       "    width: 8.5em;\n",
       "    \">get</li><li style=\"\n",
       "    display: inline-block;\n",
       "    padding-right: 1em;\n",
       "    width: 8.5em;\n",
       "    \">items</li><li style=\"\n",
       "    display: inline-block;\n",
       "    padding-right: 1em;\n",
       "    width: 8.5em;\n",
       "    \">keys</li><li style=\"\n",
       "    display: inline-block;\n",
       "    padding-right: 1em;\n",
       "    width: 8.5em;\n",
       "    \">move_to_end</li><li style=\"\n",
       "    display: inline-block;\n",
       "    padding-right: 1em;\n",
       "    width: 8.5em;\n",
       "    \">pop</li><li style=\"\n",
       "    display: inline-block;\n",
       "    padding-right: 1em;\n",
       "    width: 8.5em;\n",
       "    \">popitem</li><li style=\"\n",
       "    display: inline-block;\n",
       "    padding-right: 1em;\n",
       "    width: 8.5em;\n",
       "    \">setdefault</li><li style=\"\n",
       "    display: inline-block;\n",
       "    padding-right: 1em;\n",
       "    width: 8.5em;\n",
       "    \">update</li><li style=\"\n",
       "    display: inline-block;\n",
       "    padding-right: 1em;\n",
       "    width: 8.5em;\n",
       "    \">values</li></ul>"
      ],
      "text/plain": [
       "<IPython.core.display.HTML object>"
      ]
     },
     "metadata": {},
     "output_type": "display_data"
    }
   ],
   "source": [
    "print_as_html(dir(OrderedDict))"
   ]
  },
  {
   "cell_type": "markdown",
   "metadata": {},
   "source": [
    "##### 4. defaultdict"
   ]
  },
  {
   "cell_type": "code",
   "execution_count": 241,
   "metadata": {},
   "outputs": [],
   "source": [
    "from collections import defaultdict\n",
    "dd = defaultdict(lambda: 'N/A')\n",
    "\n",
    "dd['A'] = 'AAA'"
   ]
  },
  {
   "cell_type": "code",
   "execution_count": 242,
   "metadata": {},
   "outputs": [
    {
     "data": {
      "text/plain": [
       "'AAA'"
      ]
     },
     "execution_count": 242,
     "metadata": {},
     "output_type": "execute_result"
    }
   ],
   "source": [
    "dd['A']"
   ]
  },
  {
   "cell_type": "code",
   "execution_count": 243,
   "metadata": {},
   "outputs": [
    {
     "data": {
      "text/plain": [
       "'N/A'"
      ]
     },
     "execution_count": 243,
     "metadata": {},
     "output_type": "execute_result"
    }
   ],
   "source": [
    "dd['B']"
   ]
  },
  {
   "cell_type": "code",
   "execution_count": 250,
   "metadata": {},
   "outputs": [
    {
     "data": {
      "text/html": [
       "<ul style=\"\n",
       "    list-style-type:none;\n",
       "    \"><li style=\"\n",
       "    display: inline-block;\n",
       "    padding-right: 1em;\n",
       "    width: 8.5em;\n",
       "    \">__class__</li><li style=\"\n",
       "    display: inline-block;\n",
       "    padding-right: 1em;\n",
       "    width: 8.5em;\n",
       "    \">__contains__</li><li style=\"\n",
       "    display: inline-block;\n",
       "    padding-right: 1em;\n",
       "    width: 8.5em;\n",
       "    \">__copy__</li><li style=\"\n",
       "    display: inline-block;\n",
       "    padding-right: 1em;\n",
       "    width: 8.5em;\n",
       "    \">__delattr__</li><li style=\"\n",
       "    display: inline-block;\n",
       "    padding-right: 1em;\n",
       "    width: 8.5em;\n",
       "    \">__delitem__</li><li style=\"\n",
       "    display: inline-block;\n",
       "    padding-right: 1em;\n",
       "    width: 8.5em;\n",
       "    \">__dir__</li><li style=\"\n",
       "    display: inline-block;\n",
       "    padding-right: 1em;\n",
       "    width: 8.5em;\n",
       "    \">__doc__</li><li style=\"\n",
       "    display: inline-block;\n",
       "    padding-right: 1em;\n",
       "    width: 8.5em;\n",
       "    \">__eq__</li><li style=\"\n",
       "    display: inline-block;\n",
       "    padding-right: 1em;\n",
       "    width: 8.5em;\n",
       "    \">__format__</li><li style=\"\n",
       "    display: inline-block;\n",
       "    padding-right: 1em;\n",
       "    width: 8.5em;\n",
       "    \">__ge__</li><li style=\"\n",
       "    display: inline-block;\n",
       "    padding-right: 1em;\n",
       "    width: 8.5em;\n",
       "    \">__getattribute__</li><li style=\"\n",
       "    display: inline-block;\n",
       "    padding-right: 1em;\n",
       "    width: 8.5em;\n",
       "    \">__getitem__</li><li style=\"\n",
       "    display: inline-block;\n",
       "    padding-right: 1em;\n",
       "    width: 8.5em;\n",
       "    \">__gt__</li><li style=\"\n",
       "    display: inline-block;\n",
       "    padding-right: 1em;\n",
       "    width: 8.5em;\n",
       "    \">__hash__</li><li style=\"\n",
       "    display: inline-block;\n",
       "    padding-right: 1em;\n",
       "    width: 8.5em;\n",
       "    \">__init__</li><li style=\"\n",
       "    display: inline-block;\n",
       "    padding-right: 1em;\n",
       "    width: 8.5em;\n",
       "    \">__init_subclass__</li><li style=\"\n",
       "    display: inline-block;\n",
       "    padding-right: 1em;\n",
       "    width: 8.5em;\n",
       "    \">__iter__</li><li style=\"\n",
       "    display: inline-block;\n",
       "    padding-right: 1em;\n",
       "    width: 8.5em;\n",
       "    \">__le__</li><li style=\"\n",
       "    display: inline-block;\n",
       "    padding-right: 1em;\n",
       "    width: 8.5em;\n",
       "    \">__len__</li><li style=\"\n",
       "    display: inline-block;\n",
       "    padding-right: 1em;\n",
       "    width: 8.5em;\n",
       "    \">__lt__</li><li style=\"\n",
       "    display: inline-block;\n",
       "    padding-right: 1em;\n",
       "    width: 8.5em;\n",
       "    \">__missing__</li><li style=\"\n",
       "    display: inline-block;\n",
       "    padding-right: 1em;\n",
       "    width: 8.5em;\n",
       "    \">__ne__</li><li style=\"\n",
       "    display: inline-block;\n",
       "    padding-right: 1em;\n",
       "    width: 8.5em;\n",
       "    \">__new__</li><li style=\"\n",
       "    display: inline-block;\n",
       "    padding-right: 1em;\n",
       "    width: 8.5em;\n",
       "    \">__reduce__</li><li style=\"\n",
       "    display: inline-block;\n",
       "    padding-right: 1em;\n",
       "    width: 8.5em;\n",
       "    \">__reduce_ex__</li><li style=\"\n",
       "    display: inline-block;\n",
       "    padding-right: 1em;\n",
       "    width: 8.5em;\n",
       "    \">__repr__</li><li style=\"\n",
       "    display: inline-block;\n",
       "    padding-right: 1em;\n",
       "    width: 8.5em;\n",
       "    \">__setattr__</li><li style=\"\n",
       "    display: inline-block;\n",
       "    padding-right: 1em;\n",
       "    width: 8.5em;\n",
       "    \">__setitem__</li><li style=\"\n",
       "    display: inline-block;\n",
       "    padding-right: 1em;\n",
       "    width: 8.5em;\n",
       "    \">__sizeof__</li><li style=\"\n",
       "    display: inline-block;\n",
       "    padding-right: 1em;\n",
       "    width: 8.5em;\n",
       "    \">__str__</li><li style=\"\n",
       "    display: inline-block;\n",
       "    padding-right: 1em;\n",
       "    width: 8.5em;\n",
       "    \">__subclasshook__</li><li style=\"\n",
       "    display: inline-block;\n",
       "    padding-right: 1em;\n",
       "    width: 8.5em;\n",
       "    \">clear</li><li style=\"\n",
       "    display: inline-block;\n",
       "    padding-right: 1em;\n",
       "    width: 8.5em;\n",
       "    \">copy</li><li style=\"\n",
       "    display: inline-block;\n",
       "    padding-right: 1em;\n",
       "    width: 8.5em;\n",
       "    \">default_factory</li><li style=\"\n",
       "    display: inline-block;\n",
       "    padding-right: 1em;\n",
       "    width: 8.5em;\n",
       "    \">fromkeys</li><li style=\"\n",
       "    display: inline-block;\n",
       "    padding-right: 1em;\n",
       "    width: 8.5em;\n",
       "    \">get</li><li style=\"\n",
       "    display: inline-block;\n",
       "    padding-right: 1em;\n",
       "    width: 8.5em;\n",
       "    \">items</li><li style=\"\n",
       "    display: inline-block;\n",
       "    padding-right: 1em;\n",
       "    width: 8.5em;\n",
       "    \">keys</li><li style=\"\n",
       "    display: inline-block;\n",
       "    padding-right: 1em;\n",
       "    width: 8.5em;\n",
       "    \">pop</li><li style=\"\n",
       "    display: inline-block;\n",
       "    padding-right: 1em;\n",
       "    width: 8.5em;\n",
       "    \">popitem</li><li style=\"\n",
       "    display: inline-block;\n",
       "    padding-right: 1em;\n",
       "    width: 8.5em;\n",
       "    \">setdefault</li><li style=\"\n",
       "    display: inline-block;\n",
       "    padding-right: 1em;\n",
       "    width: 8.5em;\n",
       "    \">update</li><li style=\"\n",
       "    display: inline-block;\n",
       "    padding-right: 1em;\n",
       "    width: 8.5em;\n",
       "    \">values</li></ul>"
      ],
      "text/plain": [
       "<IPython.core.display.HTML object>"
      ]
     },
     "metadata": {},
     "output_type": "display_data"
    }
   ],
   "source": [
    "print_as_html(dir(defaultdict))"
   ]
  },
  {
   "cell_type": "markdown",
   "metadata": {},
   "source": [
    "##### 5. Counter"
   ]
  },
  {
   "cell_type": "code",
   "execution_count": 251,
   "metadata": {},
   "outputs": [
    {
     "data": {
      "text/plain": [
       "Counter({'red': 2, 'blue': 2, 'green': 1, 'yellow': 1})"
      ]
     },
     "execution_count": 251,
     "metadata": {},
     "output_type": "execute_result"
    }
   ],
   "source": [
    "from collections import Counter\n",
    "colors = ['red', 'blue', 'red', 'green', 'blue', 'yellow']\n",
    "\n",
    "result = Counter(colors)\n",
    "result"
   ]
  },
  {
   "cell_type": "code",
   "execution_count": 252,
   "metadata": {},
   "outputs": [
    {
     "data": {
      "text/plain": [
       "{'red': 2, 'blue': 2, 'green': 1, 'yellow': 1}"
      ]
     },
     "execution_count": 252,
     "metadata": {},
     "output_type": "execute_result"
    }
   ],
   "source": [
    "dict(result)"
   ]
  },
  {
   "cell_type": "code",
   "execution_count": 253,
   "metadata": {},
   "outputs": [
    {
     "data": {
      "text/plain": [
       "[('red', 2), ('blue', 2)]"
      ]
     },
     "execution_count": 253,
     "metadata": {},
     "output_type": "execute_result"
    }
   ],
   "source": [
    "result.most_common(2)"
   ]
  },
  {
   "cell_type": "markdown",
   "metadata": {},
   "source": [
    "#### datetime模块"
   ]
  },
  {
   "cell_type": "code",
   "execution_count": 277,
   "metadata": {},
   "outputs": [],
   "source": [
    "from datetime import datetime as dt\n",
    "from datetime import timedelta as td"
   ]
  },
  {
   "cell_type": "code",
   "execution_count": 256,
   "metadata": {},
   "outputs": [],
   "source": [
    "now = dt.now()"
   ]
  },
  {
   "cell_type": "code",
   "execution_count": 257,
   "metadata": {},
   "outputs": [
    {
     "data": {
      "text/plain": [
       "datetime.datetime(2020, 8, 21, 3, 9, 33, 829681)"
      ]
     },
     "execution_count": 257,
     "metadata": {},
     "output_type": "execute_result"
    }
   ],
   "source": [
    "now"
   ]
  },
  {
   "cell_type": "code",
   "execution_count": 258,
   "metadata": {},
   "outputs": [
    {
     "data": {
      "text/plain": [
       "datetime.datetime"
      ]
     },
     "execution_count": 258,
     "metadata": {},
     "output_type": "execute_result"
    }
   ],
   "source": [
    "type(now)"
   ]
  },
  {
   "cell_type": "code",
   "execution_count": 259,
   "metadata": {},
   "outputs": [
    {
     "data": {
      "text/plain": [
       "2020"
      ]
     },
     "execution_count": 259,
     "metadata": {},
     "output_type": "execute_result"
    }
   ],
   "source": [
    "now.year"
   ]
  },
  {
   "cell_type": "code",
   "execution_count": 260,
   "metadata": {},
   "outputs": [
    {
     "data": {
      "text/plain": [
       "8"
      ]
     },
     "execution_count": 260,
     "metadata": {},
     "output_type": "execute_result"
    }
   ],
   "source": [
    "now.month"
   ]
  },
  {
   "cell_type": "code",
   "execution_count": 261,
   "metadata": {},
   "outputs": [
    {
     "data": {
      "text/plain": [
       "21"
      ]
     },
     "execution_count": 261,
     "metadata": {},
     "output_type": "execute_result"
    }
   ],
   "source": [
    "now.day"
   ]
  },
  {
   "cell_type": "code",
   "execution_count": 262,
   "metadata": {},
   "outputs": [
    {
     "data": {
      "text/plain": [
       "3"
      ]
     },
     "execution_count": 262,
     "metadata": {},
     "output_type": "execute_result"
    }
   ],
   "source": [
    "now.hour"
   ]
  },
  {
   "cell_type": "code",
   "execution_count": 263,
   "metadata": {},
   "outputs": [
    {
     "data": {
      "text/plain": [
       "9"
      ]
     },
     "execution_count": 263,
     "metadata": {},
     "output_type": "execute_result"
    }
   ],
   "source": [
    "now.minute"
   ]
  },
  {
   "cell_type": "code",
   "execution_count": 264,
   "metadata": {},
   "outputs": [
    {
     "data": {
      "text/plain": [
       "1597979373.829681"
      ]
     },
     "execution_count": 264,
     "metadata": {},
     "output_type": "execute_result"
    }
   ],
   "source": [
    "now.timestamp()"
   ]
  },
  {
   "cell_type": "code",
   "execution_count": 265,
   "metadata": {},
   "outputs": [
    {
     "data": {
      "text/plain": [
       "datetime.datetime(1970, 1, 1, 0, 0)"
      ]
     },
     "execution_count": 265,
     "metadata": {},
     "output_type": "execute_result"
    }
   ],
   "source": [
    "epoch_time = datetime(1970, 1, 1, 0, 0, 0)\n",
    "epoch_time"
   ]
  },
  {
   "cell_type": "code",
   "execution_count": 268,
   "metadata": {},
   "outputs": [
    {
     "data": {
      "text/plain": [
       "0.0"
      ]
     },
     "execution_count": 268,
     "metadata": {},
     "output_type": "execute_result"
    }
   ],
   "source": [
    "epoch_time.timestamp()"
   ]
  },
  {
   "cell_type": "code",
   "execution_count": 270,
   "metadata": {},
   "outputs": [
    {
     "data": {
      "text/plain": [
       "datetime.datetime(2020, 8, 21, 11, 10, 12)"
      ]
     },
     "execution_count": 270,
     "metadata": {},
     "output_type": "execute_result"
    }
   ],
   "source": [
    "today = dt.strptime('2020-08-21 11:10:12', '%Y-%m-%d %H:%M:%S')\n",
    "today"
   ]
  },
  {
   "cell_type": "code",
   "execution_count": 271,
   "metadata": {},
   "outputs": [
    {
     "data": {
      "text/plain": [
       "'2020年08月21日'"
      ]
     },
     "execution_count": 271,
     "metadata": {},
     "output_type": "execute_result"
    }
   ],
   "source": [
    "now.strftime('%Y年%m月%d日')"
   ]
  },
  {
   "cell_type": "code",
   "execution_count": 273,
   "metadata": {},
   "outputs": [
    {
     "data": {
      "text/plain": [
       "datetime.timedelta(days=370)"
      ]
     },
     "execution_count": 273,
     "metadata": {},
     "output_type": "execute_result"
    }
   ],
   "source": [
    "days = ['2020-10-07', '2019-10-3']\n",
    "day1 = dt.strptime(days[0], '%Y-%m-%d')\n",
    "day2 = dt.strptime(days[1], '%Y-%m-%d')\n",
    "\n",
    "delta_days = day1 - day2\n",
    "delta_days"
   ]
  },
  {
   "cell_type": "code",
   "execution_count": 274,
   "metadata": {},
   "outputs": [
    {
     "data": {
      "text/plain": [
       "datetime.datetime(2020, 8, 21, 3, 9, 33, 829681)"
      ]
     },
     "execution_count": 274,
     "metadata": {},
     "output_type": "execute_result"
    }
   ],
   "source": [
    "now"
   ]
  },
  {
   "cell_type": "code",
   "execution_count": 279,
   "metadata": {},
   "outputs": [
    {
     "data": {
      "text/plain": [
       "datetime.datetime(2020, 10, 20, 3, 9, 33, 829681)"
      ]
     },
     "execution_count": 279,
     "metadata": {},
     "output_type": "execute_result"
    }
   ],
   "source": [
    "now + td(60)"
   ]
  },
  {
   "cell_type": "markdown",
   "metadata": {},
   "source": [
    "#### json模块"
   ]
  },
  {
   "cell_type": "code",
   "execution_count": 280,
   "metadata": {},
   "outputs": [],
   "source": [
    "import json"
   ]
  },
  {
   "cell_type": "code",
   "execution_count": 284,
   "metadata": {},
   "outputs": [
    {
     "data": {
      "text/plain": [
       "'{\"name\": \"ACME\", \"shares\": 1000, \"price\": 120.5, \"comment\": null, \"isOK\": false}'"
      ]
     },
     "execution_count": 284,
     "metadata": {},
     "output_type": "execute_result"
    }
   ],
   "source": [
    "data = {\n",
    "    'name': 'ACME',\n",
    "    'shares': 1000,\n",
    "    'price': 120.5,\n",
    "    'comment': None,\n",
    "    'isOK': False,\n",
    "}\n",
    "\n",
    "json_str = json.dumps(data)\n",
    "json_str"
   ]
  },
  {
   "cell_type": "code",
   "execution_count": 287,
   "metadata": {},
   "outputs": [
    {
     "data": {
      "text/plain": [
       "{'name': 'ACME',\n",
       " 'shares': 1000,\n",
       " 'price': 120.5,\n",
       " 'comment': None,\n",
       " 'isOK': False}"
      ]
     },
     "execution_count": 287,
     "metadata": {},
     "output_type": "execute_result"
    }
   ],
   "source": [
    "data1 = json.loads(json_str)\n",
    "data1"
   ]
  },
  {
   "cell_type": "code",
   "execution_count": 286,
   "metadata": {},
   "outputs": [
    {
     "data": {
      "text/plain": [
       "dict"
      ]
     },
     "execution_count": 286,
     "metadata": {},
     "output_type": "execute_result"
    }
   ],
   "source": [
    "type(data2)"
   ]
  },
  {
   "cell_type": "code",
   "execution_count": 288,
   "metadata": {},
   "outputs": [],
   "source": [
    "data2 = [\n",
    "    {'name': 'Python', 'teacher': 'Bai', 'times': 24},\n",
    "    {'name': 'Numpy', 'teacher': 'Bai', 'times': 12}\n",
    "]\n",
    "\n",
    "with open('data.json', 'w') as f:\n",
    "    json.dump(data2, f)"
   ]
  },
  {
   "cell_type": "code",
   "execution_count": 289,
   "metadata": {},
   "outputs": [
    {
     "name": "stdout",
     "output_type": "stream",
     "text": [
      "[{\"name\": \"Python\", \"teacher\": \"Bai\", \"times\": 24}, {\"name\": \"Numpy\", \"teacher\": \"Bai\", \"times\": 12}]"
     ]
    }
   ],
   "source": [
    "!cat data.json"
   ]
  },
  {
   "cell_type": "code",
   "execution_count": 291,
   "metadata": {},
   "outputs": [
    {
     "name": "stdout",
     "output_type": "stream",
     "text": [
      "{'name': 'Python', 'teacher': 'Bai', 'times': 24}\n"
     ]
    }
   ],
   "source": [
    "with open('data.json', 'r') as f:\n",
    "    data3 = json.load(f)\n",
    "    print(data3[0])"
   ]
  },
  {
   "cell_type": "markdown",
   "metadata": {},
   "source": [
    "#### random模块"
   ]
  },
  {
   "cell_type": "code",
   "execution_count": 292,
   "metadata": {},
   "outputs": [
    {
     "data": {
      "text/plain": [
       "0.9918979215115343"
      ]
     },
     "execution_count": 292,
     "metadata": {},
     "output_type": "execute_result"
    }
   ],
   "source": [
    "import random as rnd\n",
    "rnd.random()"
   ]
  },
  {
   "cell_type": "code",
   "execution_count": 293,
   "metadata": {},
   "outputs": [
    {
     "data": {
      "text/plain": [
       "18.25901978484244"
      ]
     },
     "execution_count": 293,
     "metadata": {},
     "output_type": "execute_result"
    }
   ],
   "source": [
    "rnd.uniform(10, 20)"
   ]
  },
  {
   "cell_type": "code",
   "execution_count": 294,
   "metadata": {},
   "outputs": [
    {
     "data": {
      "text/plain": [
       "\u001b[0;31mSignature:\u001b[0m \u001b[0mrnd\u001b[0m\u001b[0;34m.\u001b[0m\u001b[0muniform\u001b[0m\u001b[0;34m(\u001b[0m\u001b[0ma\u001b[0m\u001b[0;34m,\u001b[0m \u001b[0mb\u001b[0m\u001b[0;34m)\u001b[0m\u001b[0;34m\u001b[0m\u001b[0;34m\u001b[0m\u001b[0m\n",
       "\u001b[0;31mDocstring:\u001b[0m Get a random number in the range [a, b) or [a, b] depending on rounding.\n",
       "\u001b[0;31mFile:\u001b[0m      /opt/conda/lib/python3.7/random.py\n",
       "\u001b[0;31mType:\u001b[0m      method\n"
      ]
     },
     "metadata": {},
     "output_type": "display_data"
    }
   ],
   "source": [
    "rnd.uniform?"
   ]
  },
  {
   "cell_type": "code",
   "execution_count": 295,
   "metadata": {},
   "outputs": [
    {
     "data": {
      "text/plain": [
       "10.523635988509444"
      ]
     },
     "execution_count": 295,
     "metadata": {},
     "output_type": "execute_result"
    }
   ],
   "source": [
    "rnd.seed(123)\n",
    "rnd.uniform(10, 20)"
   ]
  },
  {
   "cell_type": "code",
   "execution_count": 296,
   "metadata": {},
   "outputs": [
    {
     "data": {
      "text/plain": [
       "10.871866775226323"
      ]
     },
     "execution_count": 296,
     "metadata": {},
     "output_type": "execute_result"
    }
   ],
   "source": [
    "rnd.uniform(10, 20)"
   ]
  },
  {
   "cell_type": "code",
   "execution_count": 302,
   "metadata": {},
   "outputs": [
    {
     "data": {
      "text/plain": [
       "[2, 3, 3, 1, 5, 7, 10, 8, 5, 8]"
      ]
     },
     "execution_count": 302,
     "metadata": {},
     "output_type": "execute_result"
    }
   ],
   "source": [
    "[rnd.randint(1, 10) for x in range(1, 11)]"
   ]
  },
  {
   "cell_type": "code",
   "execution_count": 305,
   "metadata": {},
   "outputs": [
    {
     "data": {
      "text/plain": [
       "[9, 1, 3, 1, 7, 5, 3, 5, 5, 9]"
      ]
     },
     "execution_count": 305,
     "metadata": {},
     "output_type": "execute_result"
    }
   ],
   "source": [
    "[rnd.randrange(1, 11, 2) for x in range(1, 11)]"
   ]
  },
  {
   "cell_type": "code",
   "execution_count": 307,
   "metadata": {},
   "outputs": [
    {
     "data": {
      "text/plain": [
       "[1, 4, 7, 10, 13, 16, 19]"
      ]
     },
     "execution_count": 307,
     "metadata": {},
     "output_type": "execute_result"
    }
   ],
   "source": [
    "list(range(1, 20, 3))"
   ]
  },
  {
   "cell_type": "code",
   "execution_count": 308,
   "metadata": {},
   "outputs": [
    {
     "data": {
      "text/plain": [
       "10"
      ]
     },
     "execution_count": 308,
     "metadata": {},
     "output_type": "execute_result"
    }
   ],
   "source": [
    "rnd.randrange(1, 20, 3)"
   ]
  },
  {
   "cell_type": "code",
   "execution_count": 309,
   "metadata": {},
   "outputs": [
    {
     "data": {
      "text/plain": [
       "['pear', 'kiwi', 'apple', 'apple', 'orange', 'banana', 'banana']"
      ]
     },
     "execution_count": 309,
     "metadata": {},
     "output_type": "execute_result"
    }
   ],
   "source": [
    "fruits"
   ]
  },
  {
   "cell_type": "code",
   "execution_count": 312,
   "metadata": {},
   "outputs": [
    {
     "data": {
      "text/plain": [
       "'apple'"
      ]
     },
     "execution_count": 312,
     "metadata": {},
     "output_type": "execute_result"
    }
   ],
   "source": [
    "rnd.choice(fruits)"
   ]
  },
  {
   "cell_type": "code",
   "execution_count": null,
   "metadata": {},
   "outputs": [],
   "source": [
    "rnd.choice(fruits)"
   ]
  },
  {
   "cell_type": "code",
   "execution_count": 313,
   "metadata": {},
   "outputs": [
    {
     "data": {
      "text/plain": [
       "['apple', 'banana', 'pear']"
      ]
     },
     "execution_count": 313,
     "metadata": {},
     "output_type": "execute_result"
    }
   ],
   "source": [
    "rnd.choices(fruits, k = 3)"
   ]
  },
  {
   "cell_type": "code",
   "execution_count": 316,
   "metadata": {},
   "outputs": [
    {
     "data": {
      "text/plain": [
       "['L', 'A', 'Z', 'H', 'M', 'R']"
      ]
     },
     "execution_count": 316,
     "metadata": {},
     "output_type": "execute_result"
    }
   ],
   "source": [
    "rnd.sample(letters, 6)"
   ]
  },
  {
   "cell_type": "code",
   "execution_count": 318,
   "metadata": {},
   "outputs": [],
   "source": [
    "rnd.shuffle(letters)"
   ]
  },
  {
   "cell_type": "code",
   "execution_count": 319,
   "metadata": {},
   "outputs": [
    {
     "data": {
      "text/plain": [
       "['Z',\n",
       " 'M',\n",
       " 'D',\n",
       " 'S',\n",
       " 'O',\n",
       " 'V',\n",
       " 'Y',\n",
       " 'L',\n",
       " 'C',\n",
       " 'K',\n",
       " 'A',\n",
       " 'N',\n",
       " 'G',\n",
       " 'T',\n",
       " 'I',\n",
       " 'E',\n",
       " 'F',\n",
       " 'W',\n",
       " 'R',\n",
       " 'H',\n",
       " 'P',\n",
       " 'J',\n",
       " 'U',\n",
       " 'B',\n",
       " 'X',\n",
       " 'Q']"
      ]
     },
     "execution_count": 319,
     "metadata": {},
     "output_type": "execute_result"
    }
   ],
   "source": [
    "letters"
   ]
  },
  {
   "cell_type": "markdown",
   "metadata": {},
   "source": [
    "## 6 函数\n",
    "\n",
    "### 6.1 函数的定义"
   ]
  },
  {
   "cell_type": "code",
   "execution_count": 6,
   "metadata": {},
   "outputs": [],
   "source": [
    "def rect_area(width, height):\n",
    "    '''    \n",
    "    功能：计算矩形的面积\n",
    "    \n",
    "    参数：\n",
    "    -------\n",
    "    width: 宽度（数值）\n",
    "    height: 高度（数值）\n",
    "    \n",
    "    返回值：\n",
    "    -------\n",
    "    矩形的面积（数值）\n",
    "    '''\n",
    "    \n",
    "    return width * height\n",
    "    "
   ]
  },
  {
   "cell_type": "code",
   "execution_count": 7,
   "metadata": {},
   "outputs": [
    {
     "name": "stdout",
     "output_type": "stream",
     "text": [
      "Help on function rect_area in module __main__:\n",
      "\n",
      "rect_area(width, height)\n",
      "    功能：计算矩形的面积\n",
      "    \n",
      "    参数：\n",
      "    -------\n",
      "    width: 宽度（数值）\n",
      "    height: 高度（数值）\n",
      "    \n",
      "    返回值：\n",
      "    -------\n",
      "    矩形的面积（数值）\n",
      "\n"
     ]
    }
   ],
   "source": [
    "help(rect_area)"
   ]
  },
  {
   "cell_type": "code",
   "execution_count": 8,
   "metadata": {},
   "outputs": [],
   "source": [
    "def sum(n):\n",
    "    s = 0\n",
    "    for i in range(n):\n",
    "        s += i + 1\n",
    "    return s"
   ]
  },
  {
   "cell_type": "code",
   "execution_count": 9,
   "metadata": {},
   "outputs": [
    {
     "data": {
      "text/plain": [
       "5050"
      ]
     },
     "execution_count": 9,
     "metadata": {},
     "output_type": "execute_result"
    }
   ],
   "source": [
    "sum(100)"
   ]
  },
  {
   "cell_type": "code",
   "execution_count": 11,
   "metadata": {},
   "outputs": [
    {
     "name": "stdout",
     "output_type": "stream",
     "text": [
      "    \n",
      "    功能：计算矩形的面积\n",
      "    \n",
      "    参数：\n",
      "    -------\n",
      "    width: 宽度（数值）\n",
      "    height: 高度（数值）\n",
      "    \n",
      "    返回值：\n",
      "    -------\n",
      "    矩形的面积（数值）\n",
      "    \n"
     ]
    }
   ],
   "source": [
    "print(rect_area.__doc__)"
   ]
  },
  {
   "cell_type": "code",
   "execution_count": 12,
   "metadata": {},
   "outputs": [
    {
     "data": {
      "text/plain": [
       "\u001b[0;31mSignature:\u001b[0m \u001b[0mrect_area\u001b[0m\u001b[0;34m(\u001b[0m\u001b[0mwidth\u001b[0m\u001b[0;34m,\u001b[0m \u001b[0mheight\u001b[0m\u001b[0;34m)\u001b[0m\u001b[0;34m\u001b[0m\u001b[0;34m\u001b[0m\u001b[0m\n",
       "\u001b[0;31mDocstring:\u001b[0m\n",
       "功能：计算矩形的面积\n",
       "\n",
       "参数：\n",
       "-------\n",
       "width: 宽度（数值）\n",
       "height: 高度（数值）\n",
       "\n",
       "返回值：\n",
       "-------\n",
       "矩形的面积（数值）\n",
       "\u001b[0;31mFile:\u001b[0m      ~/Tutorials/<ipython-input-6-5dca56c0c59b>\n",
       "\u001b[0;31mType:\u001b[0m      function\n"
      ]
     },
     "metadata": {},
     "output_type": "display_data"
    }
   ],
   "source": [
    "rect_area?"
   ]
  },
  {
   "cell_type": "markdown",
   "metadata": {},
   "source": [
    "### 6.2 参数传递\n",
    "\n",
    "#### 关键字参数"
   ]
  },
  {
   "cell_type": "code",
   "execution_count": 13,
   "metadata": {},
   "outputs": [
    {
     "data": {
      "text/plain": [
       "2000"
      ]
     },
     "execution_count": 13,
     "metadata": {},
     "output_type": "execute_result"
    }
   ],
   "source": [
    "rect_area(height=100, width=20)"
   ]
  },
  {
   "cell_type": "code",
   "execution_count": 14,
   "metadata": {},
   "outputs": [
    {
     "data": {
      "text/plain": [
       "200"
      ]
     },
     "execution_count": 14,
     "metadata": {},
     "output_type": "execute_result"
    }
   ],
   "source": [
    "rect_area(10, 20)"
   ]
  },
  {
   "cell_type": "markdown",
   "metadata": {},
   "source": [
    "#### 可变参数"
   ]
  },
  {
   "cell_type": "code",
   "execution_count": 18,
   "metadata": {},
   "outputs": [],
   "source": [
    "def arg_sum(*args):\n",
    "    s = 0\n",
    "    for i in range(0, len(args)):\n",
    "        s += args[i]\n",
    "    return s"
   ]
  },
  {
   "cell_type": "code",
   "execution_count": 19,
   "metadata": {},
   "outputs": [
    {
     "data": {
      "text/plain": [
       "12"
      ]
     },
     "execution_count": 19,
     "metadata": {},
     "output_type": "execute_result"
    }
   ],
   "source": [
    "arg_sum(1, 3, 3, 5)"
   ]
  },
  {
   "cell_type": "code",
   "execution_count": 20,
   "metadata": {},
   "outputs": [],
   "source": [
    "def kwarg_test(**kwargs):\n",
    "    print(kwargs)"
   ]
  },
  {
   "cell_type": "code",
   "execution_count": 21,
   "metadata": {},
   "outputs": [
    {
     "name": "stdout",
     "output_type": "stream",
     "text": [
      "{'a': 1, 'b': 2}\n"
     ]
    }
   ],
   "source": [
    "kwarg_test(a=1,b=2)"
   ]
  },
  {
   "cell_type": "markdown",
   "metadata": {},
   "source": [
    "#### 默认参数"
   ]
  },
  {
   "cell_type": "code",
   "execution_count": 22,
   "metadata": {},
   "outputs": [],
   "source": [
    "def default_arg_test(x, y = 100):\n",
    "    print(x, y)"
   ]
  },
  {
   "cell_type": "code",
   "execution_count": 23,
   "metadata": {},
   "outputs": [
    {
     "name": "stdout",
     "output_type": "stream",
     "text": [
      "10 100\n"
     ]
    }
   ],
   "source": [
    "default_arg_test(10)"
   ]
  },
  {
   "cell_type": "code",
   "execution_count": 24,
   "metadata": {},
   "outputs": [
    {
     "name": "stdout",
     "output_type": "stream",
     "text": [
      "10 400\n"
     ]
    }
   ],
   "source": [
    "default_arg_test(10, 400)"
   ]
  },
  {
   "cell_type": "markdown",
   "metadata": {},
   "source": [
    "需要记住的是，在定义默认参数时务必要让这个默认参数是不可变对象（immutable），比如说数值型、元组、字符串、不可变集合（frozenset）、None等。"
   ]
  },
  {
   "cell_type": "markdown",
   "metadata": {},
   "source": [
    "#### 参数的打包与解包"
   ]
  },
  {
   "cell_type": "code",
   "execution_count": 25,
   "metadata": {},
   "outputs": [
    {
     "data": {
      "text/plain": [
       "tuple"
      ]
     },
     "execution_count": 25,
     "metadata": {},
     "output_type": "execute_result"
    }
   ],
   "source": [
    "val = 1, 2 ,3, 4\n",
    "type(val)"
   ]
  },
  {
   "cell_type": "code",
   "execution_count": 26,
   "metadata": {},
   "outputs": [
    {
     "data": {
      "text/plain": [
       "(1, 2, 3, 4)"
      ]
     },
     "execution_count": 26,
     "metadata": {},
     "output_type": "execute_result"
    }
   ],
   "source": [
    "val"
   ]
  },
  {
   "cell_type": "code",
   "execution_count": 27,
   "metadata": {},
   "outputs": [],
   "source": [
    "a, b, c, d = val"
   ]
  },
  {
   "cell_type": "code",
   "execution_count": 28,
   "metadata": {},
   "outputs": [
    {
     "name": "stdout",
     "output_type": "stream",
     "text": [
      "1 2 3 4\n"
     ]
    }
   ],
   "source": [
    "print(a, b, c, d)"
   ]
  },
  {
   "cell_type": "code",
   "execution_count": 29,
   "metadata": {},
   "outputs": [],
   "source": [
    "def unpack_test(a, b, c, d):\n",
    "    print(a, b, c, d)"
   ]
  },
  {
   "cell_type": "code",
   "execution_count": 31,
   "metadata": {},
   "outputs": [
    {
     "name": "stdout",
     "output_type": "stream",
     "text": [
      "1 2 3 4\n"
     ]
    }
   ],
   "source": [
    "unpack_test(*[1, 2, 3, 4])"
   ]
  },
  {
   "cell_type": "code",
   "execution_count": 33,
   "metadata": {},
   "outputs": [
    {
     "name": "stdout",
     "output_type": "stream",
     "text": [
      "a b c d\n"
     ]
    }
   ],
   "source": [
    "unpack_test(*{'a':100, 'b': 200, 'c': 300, 'd': 400})"
   ]
  },
  {
   "cell_type": "code",
   "execution_count": 34,
   "metadata": {},
   "outputs": [
    {
     "name": "stdout",
     "output_type": "stream",
     "text": [
      "100 200 300 400\n"
     ]
    }
   ],
   "source": [
    "unpack_test(**{'a':100, 'b': 200, 'c': 300, 'd': 400})"
   ]
  },
  {
   "cell_type": "code",
   "execution_count": 35,
   "metadata": {},
   "outputs": [
    {
     "data": {
      "text/plain": [
       "3"
      ]
     },
     "execution_count": 35,
     "metadata": {},
     "output_type": "execute_result"
    }
   ],
   "source": [
    "def param_pass_test(x):\n",
    "    print('形参x的地址：', id(x))\n",
    "    print('形参x的值：', x)\n",
    "    x += 1\n",
    "    print('x的值更新为：',x)\n",
    "    print('x的地址更新为：',id(x))\n",
    "    \n",
    "a = 3\n",
    "a"
   ]
  },
  {
   "cell_type": "code",
   "execution_count": 36,
   "metadata": {},
   "outputs": [
    {
     "data": {
      "text/plain": [
       "94753658077888"
      ]
     },
     "execution_count": 36,
     "metadata": {},
     "output_type": "execute_result"
    }
   ],
   "source": [
    "id(a)"
   ]
  },
  {
   "cell_type": "code",
   "execution_count": 37,
   "metadata": {},
   "outputs": [
    {
     "name": "stdout",
     "output_type": "stream",
     "text": [
      "形参x的地址： 94753658077888\n",
      "形参x的值： 3\n",
      "x的值更新为： 4\n",
      "x的地址更新为： 94753658077920\n"
     ]
    }
   ],
   "source": [
    "param_pass_test(a)"
   ]
  },
  {
   "cell_type": "code",
   "execution_count": 38,
   "metadata": {},
   "outputs": [
    {
     "data": {
      "text/plain": [
       "3"
      ]
     },
     "execution_count": 38,
     "metadata": {},
     "output_type": "execute_result"
    }
   ],
   "source": [
    "a"
   ]
  },
  {
   "cell_type": "code",
   "execution_count": 43,
   "metadata": {},
   "outputs": [],
   "source": [
    "b = 'china'\n",
    "def param_pass_test0(s):\n",
    "    print('修改之前字符串为s(id={}) ='.format(id(s)), s)\n",
    "    s = 'python'\n",
    "    print('修改之后字符串为s(id={}) ='.format(id(s)), s)"
   ]
  },
  {
   "cell_type": "code",
   "execution_count": 44,
   "metadata": {},
   "outputs": [
    {
     "data": {
      "text/plain": [
       "140448252834544"
      ]
     },
     "execution_count": 44,
     "metadata": {},
     "output_type": "execute_result"
    }
   ],
   "source": [
    "id(b)"
   ]
  },
  {
   "cell_type": "code",
   "execution_count": 45,
   "metadata": {},
   "outputs": [
    {
     "name": "stdout",
     "output_type": "stream",
     "text": [
      "修改之前字符串为s(id=140448252834544) = china\n",
      "修改之后字符串为s(id=140448333410672) = python\n"
     ]
    }
   ],
   "source": [
    "param_pass_test0(b)"
   ]
  },
  {
   "cell_type": "code",
   "execution_count": 42,
   "metadata": {},
   "outputs": [
    {
     "data": {
      "text/plain": [
       "'china'"
      ]
     },
     "execution_count": 42,
     "metadata": {},
     "output_type": "execute_result"
    }
   ],
   "source": [
    "b"
   ]
  },
  {
   "cell_type": "markdown",
   "metadata": {},
   "source": [
    "对于可变数据类型（如列表和字典），参数传递是纯粹的传引用，即修改形参的值等同于修改实参的值."
   ]
  },
  {
   "cell_type": "markdown",
   "metadata": {},
   "source": [
    "### 6.3 函数递归"
   ]
  },
  {
   "cell_type": "code",
   "execution_count": 49,
   "metadata": {},
   "outputs": [],
   "source": [
    "# 计算N!,迭代(iterative)版\n",
    "def fact(n):\n",
    "    fact = 1\n",
    "    for i in range(1, n + 1):\n",
    "        fact *= i\n",
    "    return fact\n",
    "\n",
    "# 计算N！,递归(recursive)版\n",
    "def fact_r(n):\n",
    "    if n <= 1:\n",
    "        return 1\n",
    "    else:\n",
    "        return n * fact_r(n - 1)"
   ]
  },
  {
   "cell_type": "code",
   "execution_count": 47,
   "metadata": {},
   "outputs": [
    {
     "data": {
      "text/plain": [
       "120"
      ]
     },
     "execution_count": 47,
     "metadata": {},
     "output_type": "execute_result"
    }
   ],
   "source": [
    "fact(5)"
   ]
  },
  {
   "cell_type": "code",
   "execution_count": 48,
   "metadata": {},
   "outputs": [
    {
     "data": {
      "text/plain": [
       "120"
      ]
     },
     "execution_count": 48,
     "metadata": {},
     "output_type": "execute_result"
    }
   ],
   "source": [
    "fact_r(5)"
   ]
  },
  {
   "cell_type": "code",
   "execution_count": 89,
   "metadata": {},
   "outputs": [],
   "source": [
    "# 计算斐波那契数列的第n项\n",
    "def fibonacci(n):\n",
    "    if n <= 1:\n",
    "        return 1\n",
    "    return fibonacci(n - 2) + fibonacci(n - 1)"
   ]
  },
  {
   "cell_type": "code",
   "execution_count": 93,
   "metadata": {},
   "outputs": [
    {
     "data": {
      "text/plain": [
       "[1, 1, 2, 3, 5, 8, 13, 21, 34, 55, 89]"
      ]
     },
     "execution_count": 93,
     "metadata": {},
     "output_type": "execute_result"
    }
   ],
   "source": [
    "# 斐波那契数列数列\n",
    "list(map(fibonacci, range(11)))"
   ]
  },
  {
   "cell_type": "markdown",
   "metadata": {},
   "source": [
    "### 6.4 函数式编程\n",
    "\n",
    "#### lambda表达式"
   ]
  },
  {
   "cell_type": "code",
   "execution_count": 51,
   "metadata": {},
   "outputs": [],
   "source": [
    "mul = lambda x, y : x * y"
   ]
  },
  {
   "cell_type": "code",
   "execution_count": 52,
   "metadata": {},
   "outputs": [
    {
     "data": {
      "text/plain": [
       "220"
      ]
     },
     "execution_count": 52,
     "metadata": {},
     "output_type": "execute_result"
    }
   ],
   "source": [
    "mul(10, 22)"
   ]
  },
  {
   "cell_type": "markdown",
   "metadata": {},
   "source": [
    "#### filter()函数"
   ]
  },
  {
   "cell_type": "code",
   "execution_count": 54,
   "metadata": {},
   "outputs": [
    {
     "data": {
      "text/plain": [
       "[2, 4, 6, 8, 10]"
      ]
     },
     "execution_count": 54,
     "metadata": {},
     "output_type": "execute_result"
    }
   ],
   "source": [
    "list(filter(lambda x: x % 2 ==0 , range(1, 11)))"
   ]
  },
  {
   "cell_type": "markdown",
   "metadata": {},
   "source": [
    "#### map()函数"
   ]
  },
  {
   "cell_type": "code",
   "execution_count": 69,
   "metadata": {},
   "outputs": [
    {
     "data": {
      "text/plain": [
       "['apple', 'banana', 'cherry', 'carmel']"
      ]
     },
     "execution_count": 69,
     "metadata": {},
     "output_type": "execute_result"
    }
   ],
   "source": [
    "words = ['apple', 'banana', 'cherry', 'carmel']\n",
    "words"
   ]
  },
  {
   "cell_type": "code",
   "execution_count": 79,
   "metadata": {},
   "outputs": [
    {
     "data": {
      "text/plain": [
       "[5, 6, 6, 6]"
      ]
     },
     "execution_count": 79,
     "metadata": {},
     "output_type": "execute_result"
    }
   ],
   "source": [
    "words_len = map(lambda s: len(s), words)\n",
    "list(words_len)"
   ]
  },
  {
   "cell_type": "code",
   "execution_count": 80,
   "metadata": {},
   "outputs": [
    {
     "data": {
      "text/plain": [
       "[]"
      ]
     },
     "execution_count": 80,
     "metadata": {},
     "output_type": "execute_result"
    }
   ],
   "source": [
    "list(words_len)"
   ]
  },
  {
   "cell_type": "code",
   "execution_count": 77,
   "metadata": {},
   "outputs": [
    {
     "data": {
      "text/plain": [
       "[('apple', 5), ('banana', 6), ('cherry', 6), ('carmel', 6)]"
      ]
     },
     "execution_count": 77,
     "metadata": {},
     "output_type": "execute_result"
    }
   ],
   "source": [
    "list(zip(words, map(lambda s: len(s), words)))"
   ]
  },
  {
   "cell_type": "markdown",
   "metadata": {},
   "source": [
    "#### reduce()函数"
   ]
  },
  {
   "cell_type": "code",
   "execution_count": 83,
   "metadata": {},
   "outputs": [
    {
     "data": {
      "text/plain": [
       "5050"
      ]
     },
     "execution_count": 83,
     "metadata": {},
     "output_type": "execute_result"
    }
   ],
   "source": [
    "from functools import reduce\n",
    "\n",
    "reduce(lambda x, y: x + y, range(1, 101))"
   ]
  },
  {
   "cell_type": "markdown",
   "metadata": {},
   "source": [
    "#### sorted()函数"
   ]
  },
  {
   "cell_type": "code",
   "execution_count": 3,
   "metadata": {},
   "outputs": [
    {
     "data": {
      "text/plain": [
       "['edcba', 'dcba', 'cba', 'ba', 'a']"
      ]
     },
     "execution_count": 3,
     "metadata": {},
     "output_type": "execute_result"
    }
   ],
   "source": [
    "some_words = ['a', 'cba' ,'edcba', 'ba', 'dcba']\n",
    "sorted(some_words, reverse=True)"
   ]
  },
  {
   "cell_type": "code",
   "execution_count": 4,
   "metadata": {},
   "outputs": [
    {
     "data": {
      "text/plain": [
       "['edcba', 'dcba', 'cba', 'ba', 'a']"
      ]
     },
     "execution_count": 4,
     "metadata": {},
     "output_type": "execute_result"
    }
   ],
   "source": [
    "sorted(some_words, key=len, reverse=True)"
   ]
  },
  {
   "cell_type": "markdown",
   "metadata": {},
   "source": [
    "## 7. 文件操作\n",
    "\n",
    "### 7.1 打开文件"
   ]
  },
  {
   "cell_type": "code",
   "execution_count": 7,
   "metadata": {},
   "outputs": [
    {
     "name": "stdout",
     "output_type": "stream",
     "text": [
      "Help on built-in function open in module io:\n",
      "\n",
      "open(file, mode='r', buffering=-1, encoding=None, errors=None, newline=None, closefd=True, opener=None)\n",
      "    Open file and return a stream.  Raise OSError upon failure.\n",
      "    \n",
      "    file is either a text or byte string giving the name (and the path\n",
      "    if the file isn't in the current working directory) of the file to\n",
      "    be opened or an integer file descriptor of the file to be\n",
      "    wrapped. (If a file descriptor is given, it is closed when the\n",
      "    returned I/O object is closed, unless closefd is set to False.)\n",
      "    \n",
      "    mode is an optional string that specifies the mode in which the file\n",
      "    is opened. It defaults to 'r' which means open for reading in text\n",
      "    mode.  Other common values are 'w' for writing (truncating the file if\n",
      "    it already exists), 'x' for creating and writing to a new file, and\n",
      "    'a' for appending (which on some Unix systems, means that all writes\n",
      "    append to the end of the file regardless of the current seek position).\n",
      "    In text mode, if encoding is not specified the encoding used is platform\n",
      "    dependent: locale.getpreferredencoding(False) is called to get the\n",
      "    current locale encoding. (For reading and writing raw bytes use binary\n",
      "    mode and leave encoding unspecified.) The available modes are:\n",
      "    \n",
      "    ========= ===============================================================\n",
      "    Character Meaning\n",
      "    --------- ---------------------------------------------------------------\n",
      "    'r'       open for reading (default)\n",
      "    'w'       open for writing, truncating the file first\n",
      "    'x'       create a new file and open it for writing\n",
      "    'a'       open for writing, appending to the end of the file if it exists\n",
      "    'b'       binary mode\n",
      "    't'       text mode (default)\n",
      "    '+'       open a disk file for updating (reading and writing)\n",
      "    'U'       universal newline mode (deprecated)\n",
      "    ========= ===============================================================\n",
      "    \n",
      "    The default mode is 'rt' (open for reading text). For binary random\n",
      "    access, the mode 'w+b' opens and truncates the file to 0 bytes, while\n",
      "    'r+b' opens the file without truncation. The 'x' mode implies 'w' and\n",
      "    raises an `FileExistsError` if the file already exists.\n",
      "    \n",
      "    Python distinguishes between files opened in binary and text modes,\n",
      "    even when the underlying operating system doesn't. Files opened in\n",
      "    binary mode (appending 'b' to the mode argument) return contents as\n",
      "    bytes objects without any decoding. In text mode (the default, or when\n",
      "    't' is appended to the mode argument), the contents of the file are\n",
      "    returned as strings, the bytes having been first decoded using a\n",
      "    platform-dependent encoding or using the specified encoding if given.\n",
      "    \n",
      "    'U' mode is deprecated and will raise an exception in future versions\n",
      "    of Python.  It has no effect in Python 3.  Use newline to control\n",
      "    universal newlines mode.\n",
      "    \n",
      "    buffering is an optional integer used to set the buffering policy.\n",
      "    Pass 0 to switch buffering off (only allowed in binary mode), 1 to select\n",
      "    line buffering (only usable in text mode), and an integer > 1 to indicate\n",
      "    the size of a fixed-size chunk buffer.  When no buffering argument is\n",
      "    given, the default buffering policy works as follows:\n",
      "    \n",
      "    * Binary files are buffered in fixed-size chunks; the size of the buffer\n",
      "      is chosen using a heuristic trying to determine the underlying device's\n",
      "      \"block size\" and falling back on `io.DEFAULT_BUFFER_SIZE`.\n",
      "      On many systems, the buffer will typically be 4096 or 8192 bytes long.\n",
      "    \n",
      "    * \"Interactive\" text files (files for which isatty() returns True)\n",
      "      use line buffering.  Other text files use the policy described above\n",
      "      for binary files.\n",
      "    \n",
      "    encoding is the name of the encoding used to decode or encode the\n",
      "    file. This should only be used in text mode. The default encoding is\n",
      "    platform dependent, but any encoding supported by Python can be\n",
      "    passed.  See the codecs module for the list of supported encodings.\n",
      "    \n",
      "    errors is an optional string that specifies how encoding errors are to\n",
      "    be handled---this argument should not be used in binary mode. Pass\n",
      "    'strict' to raise a ValueError exception if there is an encoding error\n",
      "    (the default of None has the same effect), or pass 'ignore' to ignore\n",
      "    errors. (Note that ignoring encoding errors can lead to data loss.)\n",
      "    See the documentation for codecs.register or run 'help(codecs.Codec)'\n",
      "    for a list of the permitted encoding error strings.\n",
      "    \n",
      "    newline controls how universal newlines works (it only applies to text\n",
      "    mode). It can be None, '', '\\n', '\\r', and '\\r\\n'.  It works as\n",
      "    follows:\n",
      "    \n",
      "    * On input, if newline is None, universal newlines mode is\n",
      "      enabled. Lines in the input can end in '\\n', '\\r', or '\\r\\n', and\n",
      "      these are translated into '\\n' before being returned to the\n",
      "      caller. If it is '', universal newline mode is enabled, but line\n",
      "      endings are returned to the caller untranslated. If it has any of\n",
      "      the other legal values, input lines are only terminated by the given\n",
      "      string, and the line ending is returned to the caller untranslated.\n",
      "    \n",
      "    * On output, if newline is None, any '\\n' characters written are\n",
      "      translated to the system default line separator, os.linesep. If\n",
      "      newline is '' or '\\n', no translation takes place. If newline is any\n",
      "      of the other legal values, any '\\n' characters written are translated\n",
      "      to the given string.\n",
      "    \n",
      "    If closefd is False, the underlying file descriptor will be kept open\n",
      "    when the file is closed. This does not work when a file name is given\n",
      "    and must be True in that case.\n",
      "    \n",
      "    A custom opener can be used by passing a callable as *opener*. The\n",
      "    underlying file descriptor for the file object is then obtained by\n",
      "    calling *opener* with (*file*, *flags*). *opener* must return an open\n",
      "    file descriptor (passing os.open as *opener* results in functionality\n",
      "    similar to passing None).\n",
      "    \n",
      "    open() returns a file object whose type depends on the mode, and\n",
      "    through which the standard file operations such as reading and writing\n",
      "    are performed. When open() is used to open a file in a text mode ('w',\n",
      "    'r', 'wt', 'rt', etc.), it returns a TextIOWrapper. When used to open\n",
      "    a file in a binary mode, the returned class varies: in read binary\n",
      "    mode, it returns a BufferedReader; in write binary and append binary\n",
      "    modes, it returns a BufferedWriter, and in read/write mode, it returns\n",
      "    a BufferedRandom.\n",
      "    \n",
      "    It is also possible to use a string or bytearray as a file for both\n",
      "    reading and writing. For strings StringIO can be used like a file\n",
      "    opened in a text mode, and for bytes a BytesIO can be used like a file\n",
      "    opened in a binary mode.\n",
      "\n"
     ]
    }
   ],
   "source": [
    "help(open)"
   ]
  },
  {
   "cell_type": "code",
   "execution_count": 8,
   "metadata": {},
   "outputs": [
    {
     "name": "stdout",
     "output_type": "stream",
     "text": [
      "Python is fun!\n",
      "\n",
      "Programming is fun!\n",
      "\n",
      "Data Analysis is fun!\n",
      "\n",
      "Machine Learning is fun!\n"
     ]
    }
   ],
   "source": [
    "f = open('input_files/python.txt', 'r')\n",
    "for line in f:\n",
    "    print(line)"
   ]
  },
  {
   "cell_type": "code",
   "execution_count": 9,
   "metadata": {},
   "outputs": [
    {
     "data": {
      "text/plain": [
       "''"
      ]
     },
     "execution_count": 9,
     "metadata": {},
     "output_type": "execute_result"
    }
   ],
   "source": [
    "content = f.read()\n",
    "content"
   ]
  },
  {
   "cell_type": "code",
   "execution_count": 11,
   "metadata": {},
   "outputs": [
    {
     "name": "stdout",
     "output_type": "stream",
     "text": [
      "Python is fun!\n",
      "Programming is fun!\n",
      "Data Analysis is fun!\n",
      "Machine Learning is fun!\n"
     ]
    }
   ],
   "source": [
    "f.seek(0)\n",
    "content = f.read()\n",
    "print(content)"
   ]
  },
  {
   "cell_type": "code",
   "execution_count": 12,
   "metadata": {},
   "outputs": [
    {
     "data": {
      "text/plain": [
       "81"
      ]
     },
     "execution_count": 12,
     "metadata": {},
     "output_type": "execute_result"
    }
   ],
   "source": [
    "f.tell()"
   ]
  },
  {
   "cell_type": "markdown",
   "metadata": {},
   "source": [
    "### 7.2 读取一行与读取全部行"
   ]
  },
  {
   "cell_type": "code",
   "execution_count": 13,
   "metadata": {},
   "outputs": [
    {
     "data": {
      "text/plain": [
       "0"
      ]
     },
     "execution_count": 13,
     "metadata": {},
     "output_type": "execute_result"
    }
   ],
   "source": [
    "f.seek(0)"
   ]
  },
  {
   "cell_type": "code",
   "execution_count": 14,
   "metadata": {},
   "outputs": [
    {
     "data": {
      "text/plain": [
       "'Python is fun!\\n'"
      ]
     },
     "execution_count": 14,
     "metadata": {},
     "output_type": "execute_result"
    }
   ],
   "source": [
    "f.readline()"
   ]
  },
  {
   "cell_type": "code",
   "execution_count": 15,
   "metadata": {},
   "outputs": [
    {
     "data": {
      "text/plain": [
       "'Programming is fun!\\n'"
      ]
     },
     "execution_count": 15,
     "metadata": {},
     "output_type": "execute_result"
    }
   ],
   "source": [
    "f.readline()"
   ]
  },
  {
   "cell_type": "code",
   "execution_count": 16,
   "metadata": {},
   "outputs": [
    {
     "data": {
      "text/plain": [
       "0"
      ]
     },
     "execution_count": 16,
     "metadata": {},
     "output_type": "execute_result"
    }
   ],
   "source": [
    "f.seek(0)"
   ]
  },
  {
   "cell_type": "code",
   "execution_count": 17,
   "metadata": {},
   "outputs": [],
   "source": [
    "lines = f.readlines()"
   ]
  },
  {
   "cell_type": "code",
   "execution_count": 18,
   "metadata": {},
   "outputs": [
    {
     "data": {
      "text/plain": [
       "['Python is fun!\\n',\n",
       " 'Programming is fun!\\n',\n",
       " 'Data Analysis is fun!\\n',\n",
       " 'Machine Learning is fun!']"
      ]
     },
     "execution_count": 18,
     "metadata": {},
     "output_type": "execute_result"
    }
   ],
   "source": [
    "lines"
   ]
  },
  {
   "cell_type": "code",
   "execution_count": 19,
   "metadata": {},
   "outputs": [
    {
     "data": {
      "text/plain": [
       "['Python is fun!\\n', 'Programming is fun!\\n']"
      ]
     },
     "execution_count": 19,
     "metadata": {},
     "output_type": "execute_result"
    }
   ],
   "source": [
    "lines[:2]"
   ]
  },
  {
   "cell_type": "code",
   "execution_count": 20,
   "metadata": {},
   "outputs": [],
   "source": [
    "f.close()"
   ]
  },
  {
   "cell_type": "code",
   "execution_count": 21,
   "metadata": {},
   "outputs": [
    {
     "name": "stdout",
     "output_type": "stream",
     "text": [
      "Python is fun!\n",
      "Programming is fun!\n",
      "Data Analysis is fun!\n",
      "Machine Learning is fun!\n"
     ]
    }
   ],
   "source": [
    "with open('input_files/python.txt', 'r') as f:\n",
    "    print(f.read())"
   ]
  },
  {
   "cell_type": "markdown",
   "metadata": {},
   "source": [
    "### 7.3 写入文件"
   ]
  },
  {
   "cell_type": "code",
   "execution_count": 24,
   "metadata": {},
   "outputs": [],
   "source": [
    "with open('output_files/python.txt', 'w') as f:\n",
    "    content = '''Hello,World\n",
    "Hello,China\n",
    "Hello,Python'''\n",
    "    f.write(content)"
   ]
  },
  {
   "cell_type": "code",
   "execution_count": 25,
   "metadata": {},
   "outputs": [
    {
     "name": "stdout",
     "output_type": "stream",
     "text": [
      "Hello,World\n",
      "Hello,China\n",
      "Hello,Python"
     ]
    }
   ],
   "source": [
    "!cat output_files/python.txt"
   ]
  },
  {
   "cell_type": "code",
   "execution_count": null,
   "metadata": {},
   "outputs": [],
   "source": []
  }
 ],
 "metadata": {
  "kernelspec": {
   "display_name": "Python 3",
   "language": "python",
   "name": "python3"
  },
  "language_info": {
   "codemirror_mode": {
    "name": "ipython",
    "version": 3
   },
   "file_extension": ".py",
   "mimetype": "text/x-python",
   "name": "python",
   "nbconvert_exporter": "python",
   "pygments_lexer": "ipython3",
   "version": "3.7.6"
  }
 },
 "nbformat": 4,
 "nbformat_minor": 4
}
