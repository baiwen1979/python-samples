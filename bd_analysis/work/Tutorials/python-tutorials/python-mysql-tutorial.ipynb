{
 "cells": [
  {
   "cell_type": "markdown",
   "metadata": {},
   "source": [
    "# 使用Python进行MySQL数据库编程\n",
    "\n",
    "## Python 如何使用 MySQL？\n",
    "python 最为强大的一点就是社区的庞大，有着各种方便使用的开源库，使python在短短时间内就拥有了大量的用户和库，并且由于使用库极其简单，可以将其他语言中需要大量代码才能完成的操作浓缩于短短几行代码中。这里给出几种用于连接 MySQL 的库： \n",
    "\n",
    "- MySQL-python\n",
    "- mysqlclient\n",
    "- **PyMySQL**\n",
    "- peewee\n",
    "- **SQLAlchemy**\n",
    "\n",
    "可以在命令行中使用pip install (库名)来安装相应的第三方库。在本教程使用pymysql来操作数据库。\n",
    "\n",
    "## 如何使用 pymysql 连接数据库？\n",
    "\n",
    "连接数据库之前，请确认以下事项：\n",
    "\n",
    "- 已经拥有可用的MySQL数据库（OK）\n",
    "- 拥有操作权限的数据库账号密码（OK,账号为：root，密码为123456，mysql服务器主机名为mysql-server，默认端口地址3306）\n",
    "- 运行环境中拥有相应的pymysql库（需要安装）"
   ]
  },
  {
   "cell_type": "code",
   "execution_count": 1,
   "metadata": {},
   "outputs": [
    {
     "name": "stdout",
     "output_type": "stream",
     "text": [
      "Looking in indexes: https://pypi.tuna.tsinghua.edu.cn/simple\n",
      "Collecting pymysql\n",
      "  Downloading https://pypi.tuna.tsinghua.edu.cn/packages/2c/57/af502e0e113f139b3f3add4f1efba899a730a365d2264d476e85b9591da5/PyMySQL-0.10.0-py2.py3-none-any.whl (47 kB)\n",
      "\u001b[K     |████████████████████████████████| 47 kB 456 kB/s eta 0:00:011\n",
      "\u001b[?25hInstalling collected packages: pymysql\n",
      "Successfully installed pymysql-0.10.0\n"
     ]
    }
   ],
   "source": [
    "# 使用清华pip镜像源（https://pypi.tuna.tsinghua.edu.cn/simple）安装 pymysql\n",
    "!pip install pymysql -i https://pypi.tuna.tsinghua.edu.cn/simple"
   ]
  },
  {
   "cell_type": "code",
   "execution_count": 7,
   "metadata": {},
   "outputs": [],
   "source": [
    "# 连接mysql，创建连接并返回连接对象\n",
    "import pymysql\n",
    "\n",
    "def connect():\n",
    "    conn = pymysql.connect(\n",
    "        # mysql服务器主机地址\n",
    "        host='mysql-server',\n",
    "        # mysql服务器连接端口\n",
    "        port=3306,\n",
    "        # 用户名\n",
    "        user='root',\n",
    "        # 数据库名（若不选此参数则不指定具体数据库连接，我们可以使用use database来选择其它数据库）\n",
    "        db='test',\n",
    "        # 用户密码\n",
    "        passwd='123456',\n",
    "        # 编码格式\n",
    "        charset='utf8'\n",
    "    )\n",
    "    return conn\n",
    "\n",
    "def test():\n",
    "    # 创建连接，并且返回连接对象\n",
    "    conn = connect()\n",
    "    # 创建游标对象\n",
    "    cursor = conn.cursor()\n",
    "    # 执行SQL语句\n",
    "    cursor.execute('''show tables;''')\n",
    "    # 关闭游标\n",
    "    cursor.close()\n",
    "    # 关闭连接\n",
    "    conn.close()\n",
    "    \n",
    "#  执行SQL语句\n",
    "def exec_sql(sql):\n",
    "    # 创建连接，并且返回连接对象\n",
    "    conn = connect()\n",
    "    # 创建游标对象\n",
    "    cursor = conn.cursor()\n",
    "    # 执行SQL语句\n",
    "    cursor.execute(sql)\n",
    "    res = cursor.fetchall()\n",
    "    # 关闭游标\n",
    "    cursor.close()\n",
    "    # 关闭连接\n",
    "    conn.close()\n",
    "    return res\n",
    "\n",
    "test()"
   ]
  },
  {
   "cell_type": "code",
   "execution_count": 8,
   "metadata": {},
   "outputs": [
    {
     "data": {
      "text/plain": [
       "['__call__',\n",
       " '__class__',\n",
       " '__delattr__',\n",
       " '__dir__',\n",
       " '__doc__',\n",
       " '__eq__',\n",
       " '__format__',\n",
       " '__func__',\n",
       " '__ge__',\n",
       " '__get__',\n",
       " '__getattribute__',\n",
       " '__gt__',\n",
       " '__hash__',\n",
       " '__init__',\n",
       " '__init_subclass__',\n",
       " '__le__',\n",
       " '__lt__',\n",
       " '__ne__',\n",
       " '__new__',\n",
       " '__reduce__',\n",
       " '__reduce_ex__',\n",
       " '__repr__',\n",
       " '__self__',\n",
       " '__setattr__',\n",
       " '__sizeof__',\n",
       " '__str__',\n",
       " '__subclasshook__']"
      ]
     },
     "execution_count": 8,
     "metadata": {},
     "output_type": "execute_result"
    }
   ],
   "source": [
    "conn = connect()\n",
    "dir(conn.cursor)"
   ]
  },
  {
   "cell_type": "code",
   "execution_count": 8,
   "metadata": {},
   "outputs": [
    {
     "data": {
      "text/plain": [
       "((1, 'admin', datetime.datetime(2020, 8, 22, 9, 21, 41)),\n",
       " (2, 'wang', datetime.datetime(2020, 8, 22, 9, 22, 1)),\n",
       " (3, 'zhang', datetime.datetime(2020, 8, 22, 9, 22, 16)),\n",
       " (4, 'yue', datetime.datetime(2020, 8, 22, 9, 22, 32)),\n",
       " (5, 'bai', datetime.datetime(2020, 8, 22, 9, 22, 46)),\n",
       " (6, 'guo', datetime.datetime(2020, 8, 22, 9, 23, 10)))"
      ]
     },
     "execution_count": 8,
     "metadata": {},
     "output_type": "execute_result"
    }
   ],
   "source": [
    "exec_sql('select * from test')"
   ]
  },
  {
   "cell_type": "code",
   "execution_count": null,
   "metadata": {},
   "outputs": [],
   "source": []
  }
 ],
 "metadata": {
  "kernelspec": {
   "display_name": "Python 3",
   "language": "python",
   "name": "python3"
  },
  "language_info": {
   "codemirror_mode": {
    "name": "ipython",
    "version": 3
   },
   "file_extension": ".py",
   "mimetype": "text/x-python",
   "name": "python",
   "nbconvert_exporter": "python",
   "pygments_lexer": "ipython3",
   "version": "3.7.6"
  }
 },
 "nbformat": 4,
 "nbformat_minor": 4
}
