{
 "cells": [
  {
   "attachments": {
    "c14c66c1-6bff-48f6-9440-863e6b47bda4.png": {
     "image/png": "[encoded data removed]"
    }
   },
   "cell_type": "markdown",
   "metadata": {},
   "source": [
    "# 机器学习之线性回归\n",
    "\n",
    "#### 【简介】\n",
    "\n",
    "**线性回归**是属于机器学习里面的**监督学习**，与分类问题不同的是，在回归问题中，其目标是通过对训练样本的学习，得到从样本**特征到样本标签直接的映射**，其中，在回归问题中，**样本的标签是连续值**。线性回归是一类重要的回归问题。在线性回归中，**目标值与特征直接存在线性关系**。\n",
    "\n",
    "#### 【目录】\n",
    "\n",
    "1. [简单线性回归与多元线性回归](#1.-衡量线性回归的性能指标)\n",
    "2. [衡量线性回归的性能指标](#2.-衡量线性回归的性能指标)\n",
    "3. [scikit-learn线性回归实战-波斯顿房价预测](#3.-scikit-learn线性回归实战-波斯顿房价预测)\n",
    "\n",
    "\n",
    "## 1. 简单线性回归与多元线性回归\n",
    "\n",
    "### 简单线性回归\n",
    "\n",
    "在生活中，我们常常能碰到这么一种情况，一个变量会跟着另一个变量的变化而变化，如圆的周长与半径的关系，当圆的半径确定了，那么周长也就确定了。还有一种情况就是，两个变量之间看似存在某种关系，但又没那么确定，如青少年的身高与体重存在一种近似的线性关系：`身高/cm = 体重/kg + 105`\n",
    "\n",
    "但是，并不是每个青少年都符合这个公式，只能说每个青少年的身高体重都存在这么一种**近似的线性关系**。这就是其实就是**简单的线性回归**，那么，到底什么是线性回归呢？假如我们将青少年的身高和体重值作为坐标，不同人的身高体重就会在平面上构成不同的坐标点，然后用一条直线，尽可能的去拟合这些点，这就是简单的线性回归。\n",
    "\n",
    "![image.png](attachment:c14c66c1-6bff-48f6-9440-863e6b47bda4.png)\n",
    "\n",
    "简单线性回归模型如下：\n",
    "\n",
    "$$\n",
    " y = wx + b\n",
    "$$\n",
    "\n",
    "其中，$x$表示特征值(如：体重值)，$w$表示权重，$b$表示偏置，$y$表示标签(如：身高值)\n",
    "\n",
    "### 多元线性回归\n",
    "\n",
    "简单线性回归中，一个变量跟另一个变量的变化而变化，但是生活中，还有很多变量，可能由多个变量的变化决定着它的变化，比如房价，影响它的因素可能有：房屋面积、地理位置等等。如果我们要给它们建立出近似的线性关系，这就是多元线性回归，多元线性回归模型如下：\n",
    "\n",
    "$$\n",
    "y = b + w_1x_1 + w_2x_2 + ... + w_nx_n\n",
    "$$\n",
    "\n",
    "其中$x_i$表示第i个特征值，$w_i$表示第i个特征对应的权重，$b$表示偏置，$y$表示标签。"
   ]
  },
  {
   "cell_type": "markdown",
   "metadata": {},
   "source": [
    "### 任务描述\n",
    "\n",
    "构建线性回归算法，并利用波斯顿房价数据对模型进行训练，然后对未知的房价数据进行预测。\n",
    "\n",
    "### 相关知识\n",
    "\n",
    "为了完成本任务，需要掌握：\n",
    "\n",
    "1. 线性回归训练流程\n",
    "2. 线性回归的正规方程解\n",
    "\n",
    "#### 数据集介绍\n",
    "\n",
    "波斯顿房价数据集共有506条波斯顿房价的数据，每条数据包括对指定房屋的13项数值型特征和目标房价组成。本任务用数据集的80%作为训练集，数据集的20%作为测试集，训练集和测试集中都包括特征和目标房价。\n",
    "\n",
    "sklearn中已经提供了波斯顿房价数据集的相关接口，想要使用该数据集可以使用如下代码："
   ]
  },
  {
   "cell_type": "code",
   "execution_count": 3,
   "metadata": {},
   "outputs": [],
   "source": [
    "from sklearn import datasets\n",
    "#加载波斯顿房价数据集\n",
    "boston = datasets.load_boston()\n",
    "#X表示特征，y表示目标房价\n",
    "X = boston.data\n",
    "y = boston.target"
   ]
  },
  {
   "cell_type": "markdown",
   "metadata": {},
   "source": [
    "数据集中部分数据与标签如下："
   ]
  },
  {
   "cell_type": "code",
   "execution_count": 2,
   "metadata": {},
   "outputs": [
    {
     "data": {
      "text/html": [
       "<div>\n",
       "<style scoped>\n",
       "    .dataframe tbody tr th:only-of-type {\n",
       "        vertical-align: middle;\n",
       "    }\n",
       "\n",
       "    .dataframe tbody tr th {\n",
       "        vertical-align: top;\n",
       "    }\n",
       "\n",
       "    .dataframe thead th {\n",
       "        text-align: right;\n",
       "    }\n",
       "</style>\n",
       "<table border=\"1\" class=\"dataframe\">\n",
       "  <thead>\n",
       "    <tr style=\"text-align: right;\">\n",
       "      <th></th>\n",
       "      <th>CRIM</th>\n",
       "      <th>ZN</th>\n",
       "      <th>INDUS</th>\n",
       "      <th>CHAS</th>\n",
       "      <th>NOX</th>\n",
       "      <th>RM</th>\n",
       "      <th>AGE</th>\n",
       "      <th>DIS</th>\n",
       "      <th>RAD</th>\n",
       "      <th>TAX</th>\n",
       "      <th>PTRATIO</th>\n",
       "      <th>B</th>\n",
       "      <th>LSTAT</th>\n",
       "    </tr>\n",
       "  </thead>\n",
       "  <tbody>\n",
       "    <tr>\n",
       "      <th>0</th>\n",
       "      <td>0.00632</td>\n",
       "      <td>18.0</td>\n",
       "      <td>2.31</td>\n",
       "      <td>0.0</td>\n",
       "      <td>0.538</td>\n",
       "      <td>6.575</td>\n",
       "      <td>65.2</td>\n",
       "      <td>4.0900</td>\n",
       "      <td>1.0</td>\n",
       "      <td>296.0</td>\n",
       "      <td>15.3</td>\n",
       "      <td>396.90</td>\n",
       "      <td>4.98</td>\n",
       "    </tr>\n",
       "    <tr>\n",
       "      <th>1</th>\n",
       "      <td>0.02731</td>\n",
       "      <td>0.0</td>\n",
       "      <td>7.07</td>\n",
       "      <td>0.0</td>\n",
       "      <td>0.469</td>\n",
       "      <td>6.421</td>\n",
       "      <td>78.9</td>\n",
       "      <td>4.9671</td>\n",
       "      <td>2.0</td>\n",
       "      <td>242.0</td>\n",
       "      <td>17.8</td>\n",
       "      <td>396.90</td>\n",
       "      <td>9.14</td>\n",
       "    </tr>\n",
       "    <tr>\n",
       "      <th>2</th>\n",
       "      <td>0.02729</td>\n",
       "      <td>0.0</td>\n",
       "      <td>7.07</td>\n",
       "      <td>0.0</td>\n",
       "      <td>0.469</td>\n",
       "      <td>7.185</td>\n",
       "      <td>61.1</td>\n",
       "      <td>4.9671</td>\n",
       "      <td>2.0</td>\n",
       "      <td>242.0</td>\n",
       "      <td>17.8</td>\n",
       "      <td>392.83</td>\n",
       "      <td>4.03</td>\n",
       "    </tr>\n",
       "    <tr>\n",
       "      <th>3</th>\n",
       "      <td>0.03237</td>\n",
       "      <td>0.0</td>\n",
       "      <td>2.18</td>\n",
       "      <td>0.0</td>\n",
       "      <td>0.458</td>\n",
       "      <td>6.998</td>\n",
       "      <td>45.8</td>\n",
       "      <td>6.0622</td>\n",
       "      <td>3.0</td>\n",
       "      <td>222.0</td>\n",
       "      <td>18.7</td>\n",
       "      <td>394.63</td>\n",
       "      <td>2.94</td>\n",
       "    </tr>\n",
       "    <tr>\n",
       "      <th>4</th>\n",
       "      <td>0.06905</td>\n",
       "      <td>0.0</td>\n",
       "      <td>2.18</td>\n",
       "      <td>0.0</td>\n",
       "      <td>0.458</td>\n",
       "      <td>7.147</td>\n",
       "      <td>54.2</td>\n",
       "      <td>6.0622</td>\n",
       "      <td>3.0</td>\n",
       "      <td>222.0</td>\n",
       "      <td>18.7</td>\n",
       "      <td>396.90</td>\n",
       "      <td>5.33</td>\n",
       "    </tr>\n",
       "  </tbody>\n",
       "</table>\n",
       "</div>"
      ],
      "text/plain": [
       "      CRIM    ZN  INDUS  CHAS    NOX     RM   AGE     DIS  RAD    TAX  \\\n",
       "0  0.00632  18.0   2.31   0.0  0.538  6.575  65.2  4.0900  1.0  296.0   \n",
       "1  0.02731   0.0   7.07   0.0  0.469  6.421  78.9  4.9671  2.0  242.0   \n",
       "2  0.02729   0.0   7.07   0.0  0.469  7.185  61.1  4.9671  2.0  242.0   \n",
       "3  0.03237   0.0   2.18   0.0  0.458  6.998  45.8  6.0622  3.0  222.0   \n",
       "4  0.06905   0.0   2.18   0.0  0.458  7.147  54.2  6.0622  3.0  222.0   \n",
       "\n",
       "   PTRATIO       B  LSTAT  \n",
       "0     15.3  396.90   4.98  \n",
       "1     17.8  396.90   9.14  \n",
       "2     17.8  392.83   4.03  \n",
       "3     18.7  394.63   2.94  \n",
       "4     18.7  396.90   5.33  "
      ]
     },
     "execution_count": 2,
     "metadata": {},
     "output_type": "execute_result"
    }
   ],
   "source": [
    "import pandas as pd\n",
    "\n",
    "df_boston = pd.DataFrame(boston.data, columns = boston.feature_names)\n",
    "df_boston.head()"
   ]
  },
  {
   "cell_type": "code",
   "execution_count": 3,
   "metadata": {},
   "outputs": [],
   "source": [
    "df_boston['target'] = pd.Series(boston.target)"
   ]
  },
  {
   "cell_type": "code",
   "execution_count": 4,
   "metadata": {},
   "outputs": [
    {
     "data": {
      "text/html": [
       "<div>\n",
       "<style scoped>\n",
       "    .dataframe tbody tr th:only-of-type {\n",
       "        vertical-align: middle;\n",
       "    }\n",
       "\n",
       "    .dataframe tbody tr th {\n",
       "        vertical-align: top;\n",
       "    }\n",
       "\n",
       "    .dataframe thead th {\n",
       "        text-align: right;\n",
       "    }\n",
       "</style>\n",
       "<table border=\"1\" class=\"dataframe\">\n",
       "  <thead>\n",
       "    <tr style=\"text-align: right;\">\n",
       "      <th></th>\n",
       "      <th>0</th>\n",
       "      <th>1</th>\n",
       "      <th>2</th>\n",
       "      <th>3</th>\n",
       "      <th>4</th>\n",
       "    </tr>\n",
       "  </thead>\n",
       "  <tbody>\n",
       "    <tr>\n",
       "      <th>CRIM</th>\n",
       "      <td>0.00632</td>\n",
       "      <td>0.02731</td>\n",
       "      <td>0.02729</td>\n",
       "      <td>0.03237</td>\n",
       "      <td>0.06905</td>\n",
       "    </tr>\n",
       "    <tr>\n",
       "      <th>ZN</th>\n",
       "      <td>18.00000</td>\n",
       "      <td>0.00000</td>\n",
       "      <td>0.00000</td>\n",
       "      <td>0.00000</td>\n",
       "      <td>0.00000</td>\n",
       "    </tr>\n",
       "    <tr>\n",
       "      <th>INDUS</th>\n",
       "      <td>2.31000</td>\n",
       "      <td>7.07000</td>\n",
       "      <td>7.07000</td>\n",
       "      <td>2.18000</td>\n",
       "      <td>2.18000</td>\n",
       "    </tr>\n",
       "    <tr>\n",
       "      <th>CHAS</th>\n",
       "      <td>0.00000</td>\n",
       "      <td>0.00000</td>\n",
       "      <td>0.00000</td>\n",
       "      <td>0.00000</td>\n",
       "      <td>0.00000</td>\n",
       "    </tr>\n",
       "    <tr>\n",
       "      <th>NOX</th>\n",
       "      <td>0.53800</td>\n",
       "      <td>0.46900</td>\n",
       "      <td>0.46900</td>\n",
       "      <td>0.45800</td>\n",
       "      <td>0.45800</td>\n",
       "    </tr>\n",
       "    <tr>\n",
       "      <th>RM</th>\n",
       "      <td>6.57500</td>\n",
       "      <td>6.42100</td>\n",
       "      <td>7.18500</td>\n",
       "      <td>6.99800</td>\n",
       "      <td>7.14700</td>\n",
       "    </tr>\n",
       "    <tr>\n",
       "      <th>AGE</th>\n",
       "      <td>65.20000</td>\n",
       "      <td>78.90000</td>\n",
       "      <td>61.10000</td>\n",
       "      <td>45.80000</td>\n",
       "      <td>54.20000</td>\n",
       "    </tr>\n",
       "    <tr>\n",
       "      <th>DIS</th>\n",
       "      <td>4.09000</td>\n",
       "      <td>4.96710</td>\n",
       "      <td>4.96710</td>\n",
       "      <td>6.06220</td>\n",
       "      <td>6.06220</td>\n",
       "    </tr>\n",
       "    <tr>\n",
       "      <th>RAD</th>\n",
       "      <td>1.00000</td>\n",
       "      <td>2.00000</td>\n",
       "      <td>2.00000</td>\n",
       "      <td>3.00000</td>\n",
       "      <td>3.00000</td>\n",
       "    </tr>\n",
       "    <tr>\n",
       "      <th>TAX</th>\n",
       "      <td>296.00000</td>\n",
       "      <td>242.00000</td>\n",
       "      <td>242.00000</td>\n",
       "      <td>222.00000</td>\n",
       "      <td>222.00000</td>\n",
       "    </tr>\n",
       "    <tr>\n",
       "      <th>PTRATIO</th>\n",
       "      <td>15.30000</td>\n",
       "      <td>17.80000</td>\n",
       "      <td>17.80000</td>\n",
       "      <td>18.70000</td>\n",
       "      <td>18.70000</td>\n",
       "    </tr>\n",
       "    <tr>\n",
       "      <th>B</th>\n",
       "      <td>396.90000</td>\n",
       "      <td>396.90000</td>\n",
       "      <td>392.83000</td>\n",
       "      <td>394.63000</td>\n",
       "      <td>396.90000</td>\n",
       "    </tr>\n",
       "    <tr>\n",
       "      <th>LSTAT</th>\n",
       "      <td>4.98000</td>\n",
       "      <td>9.14000</td>\n",
       "      <td>4.03000</td>\n",
       "      <td>2.94000</td>\n",
       "      <td>5.33000</td>\n",
       "    </tr>\n",
       "    <tr>\n",
       "      <th>target</th>\n",
       "      <td>24.00000</td>\n",
       "      <td>21.60000</td>\n",
       "      <td>34.70000</td>\n",
       "      <td>33.40000</td>\n",
       "      <td>36.20000</td>\n",
       "    </tr>\n",
       "  </tbody>\n",
       "</table>\n",
       "</div>"
      ],
      "text/plain": [
       "                 0          1          2          3          4\n",
       "CRIM       0.00632    0.02731    0.02729    0.03237    0.06905\n",
       "ZN        18.00000    0.00000    0.00000    0.00000    0.00000\n",
       "INDUS      2.31000    7.07000    7.07000    2.18000    2.18000\n",
       "CHAS       0.00000    0.00000    0.00000    0.00000    0.00000\n",
       "NOX        0.53800    0.46900    0.46900    0.45800    0.45800\n",
       "RM         6.57500    6.42100    7.18500    6.99800    7.14700\n",
       "AGE       65.20000   78.90000   61.10000   45.80000   54.20000\n",
       "DIS        4.09000    4.96710    4.96710    6.06220    6.06220\n",
       "RAD        1.00000    2.00000    2.00000    3.00000    3.00000\n",
       "TAX      296.00000  242.00000  242.00000  222.00000  222.00000\n",
       "PTRATIO   15.30000   17.80000   17.80000   18.70000   18.70000\n",
       "B        396.90000  396.90000  392.83000  394.63000  396.90000\n",
       "LSTAT      4.98000    9.14000    4.03000    2.94000    5.33000\n",
       "target    24.00000   21.60000   34.70000   33.40000   36.20000"
      ]
     },
     "execution_count": 4,
     "metadata": {},
     "output_type": "execute_result"
    }
   ],
   "source": [
    "df_boston.head().T"
   ]
  },
  {
   "cell_type": "markdown",
   "metadata": {},
   "source": [
    "#### 线性回归训练流程\n",
    "\n",
    "由数据集可以知道，每一个样本有13个特征与目标房价，而我们要做的事就是通过这13个特征来预测房价，我们可以构建一个多元线性回归模型，来对房价进行预测。模型如下：\n",
    "\n",
    "$$\n",
    "y = b + w_1x_1 + w_2x_2 + ... + w_nx_n\n",
    "$$\n",
    "\n",
    "其中$x_i$表示第i个特征值，$w_i$表示第$i$个特征对应的权重，$b$表示偏置，$y$表示目标房价。\n",
    "\n",
    "为了方便，我们稍微将模型进行变换：\n",
    "\n",
    "$$\n",
    "y = w_0x_0 + w_1x_1 + w_2x_2 + ... + w_nx_n\n",
    "$$\n",
    "\n",
    "其中$x_0$等于1， 即：\n",
    "\n",
    "$$\n",
    "Y = \\theta X\n",
    "$$\n",
    "\n",
    "其中， \n",
    "$$\n",
    "\\theta = (w_0, w_1, ..., w_n)\n",
    "$$\n",
    "\n",
    "$$\n",
    "X = (1, x_1, ..., x_n)\n",
    "$$\n"
   ]
  },
  {
   "attachments": {
    "df4becae-fd85-4ed1-9aaa-61c94109e5e0.png": {
     "image/png": "[encoded data removed]"
    }
   },
   "cell_type": "markdown",
   "metadata": {},
   "source": [
    "而我们的目的就是找出能够正确预测的**多元线性回归模型**，即找出正确的参数$\\theta$。那么如何寻找呢？通常在监督学习里面都会构造一个**损失函数**，用来**衡量真实值与预测值之间的差异**，然后将问题转化为**最优化损失函数**。既然损失函数是用来衡量真实值与预测值之间的差异那么很多人自然而然的想到了用所有真实值与预测值的差的绝对值来表示损失函数。不过带绝对值的函数不容易求导，所以采用**MSE(均方误差)作为损失函数**，公式如下：\n",
    "\n",
    "$$\n",
    "loss = \\frac{1}{m}\\sum_{i=1}^m(y^i - p^i)^2\n",
    "$$\n",
    "\n",
    "其中$p$表示预测值，$y$表示真实值，$m$为样本总个数，$i$表示第$i$个样本。最后，我们再使用正规方程解来求得我们所需要的参数。\n",
    "\n",
    "线性回归模型训练流程如下:\n",
    "\n",
    "![image.png](attachment:df4becae-fd85-4ed1-9aaa-61c94109e5e0.png)"
   ]
  },
  {
   "cell_type": "markdown",
   "metadata": {},
   "source": [
    "#### 线性回归的正规方程解\n",
    "\n",
    "对线性回归模型，假设训练集中$m$个训练样本，每个训练样本中有$n$个特征，可以使用矩阵的表示方法，预测函数可以写为：\n",
    "\n",
    "$$\n",
    "Y=\\theta X\n",
    "$$\n",
    "\n",
    "其损失函数可以表示为:\n",
    "\n",
    "$$\n",
    "(Y - \\theta X)^T(Y - \\theta X)\n",
    "$$\n",
    "\n",
    "其中，标签$Y$为$m \\times 1$的矩阵，训练特征$X$为$m \\times (n+1)$的矩阵，回归系数$\\theta$为$(n+1) \\times 1$的矩阵，对$\\theta$求导，并令其导数等于0，可以得到$X^T(Y − \\theta X)=0$。所以，最优解为：\n",
    "\n",
    "$$\n",
    "\\theta = (X^TX)^{-1}X^TY\n",
    "$$\n",
    "\n",
    "这就是正规方程解，可以通过**最优方程解**直接求得我们所需要的参数。"
   ]
  },
  {
   "cell_type": "markdown",
   "metadata": {},
   "source": [
    "### 实操练习\n",
    "\n",
    "#### 编程要求\n",
    "\n",
    "根据提示，在补充下列 Python 代码，实现**线性回归算法**与**MSE损失函数**计算方法，并利用房价数据对模型进行**训练**，然后对未知的房价数据进行**预测**。\n",
    "\n",
    "#### 测试说明\n",
    "\n",
    "预测结果的MSE低于30，模型性能达标，否则为不达标。"
   ]
  },
  {
   "cell_type": "code",
   "execution_count": 1,
   "metadata": {},
   "outputs": [],
   "source": [
    "import numpy as np\n",
    "\n",
    "def mse_score(y_pred, y_test):\n",
    "    '''\n",
    "    输入: y_pred(ndarray):预测值\n",
    "         y_test(ndarray):真实值\n",
    "    输出: mse(float):mse损失函数值\n",
    "    '''\n",
    "    #********* Begin *********#\n",
    "    mse = np.mean((y_pred - y_test) ** 2)\n",
    "    #********* End *********#\n",
    "    return mse\n",
    "\n",
    "class LinearRegression:\n",
    "    \n",
    "    def __init__(self):\n",
    "        '''初始化线性回归模型'''\n",
    "        self.theta = None\n",
    "        \n",
    "    def fit(self, X_train, y_train):\n",
    "        '''\n",
    "        输入: X_train(ndarray):训练样本\n",
    "             y_train(ndarray):训练标签\n",
    "        输出: 拟合后的参数\n",
    "        '''\n",
    "        #********* Begin *********#\n",
    "        ones = np.ones((len(X_train), 1))\n",
    "        X = np.hstack([ones, X_train])\n",
    "        self.theta = np.linalg.inv(X.T.dot(X)).dot(X.T).dot(y_train)\n",
    "        #********* End *********#\n",
    "        return self.theta\n",
    "    \n",
    "    def predict(self, X_test):\n",
    "        '''\n",
    "        输入: X_test(ndarray):测试样本\n",
    "        输出: 预测结果\n",
    "        '''\n",
    "        #********* Begin *********#\n",
    "        X = np.hstack([np.ones((len(X_test), 1)), X_test])\n",
    "        return X.dot(self.theta)\n",
    "        #********* End ***********#"
   ]
  },
  {
   "cell_type": "code",
   "execution_count": 4,
   "metadata": {},
   "outputs": [
    {
     "name": "stdout",
     "output_type": "stream",
     "text": [
      "MSE = 32.80 > 30, 模型性能未达标!\n"
     ]
    }
   ],
   "source": [
    "# 直接拆分训练集（80%）和测试集（20%）\n",
    "split_index = int(X.shape[0] * 0.8)\n",
    "X_train, y_train = X[:split_index], y[:split_index]\n",
    "X_test,  y_test = X[split_index:], y[split_index:]\n",
    "# 创建模型\n",
    "LR = LinearRegression()\n",
    "# 拟合数据（训练）\n",
    "LR.fit(X_train, y_train)\n",
    "# 模型预测\n",
    "y_pred = LR.predict(X_test)\n",
    "# 评价模型\n",
    "mse_s = mse_score(y_pred, y_test)\n",
    "if  mse_s <= 30:\n",
    "    print('MSE = {:.2f} < 30, 模型性能已达标.'.format(mse_s))\n",
    "else:\n",
    "    print('MSE = {:.2f} > 30, 模型性能未达标!'.format(mse_s))"
   ]
  },
  {
   "cell_type": "markdown",
   "metadata": {},
   "source": [
    "上述代码直接划分数据集的方式不科学，使用sklearn.model_selection的train_test_split()函数划分数据集更能客观地评价模型。"
   ]
  },
  {
   "cell_type": "code",
   "execution_count": 5,
   "metadata": {},
   "outputs": [
    {
     "name": "stdout",
     "output_type": "stream",
     "text": [
      "MSE = 20.56 < 30, 模型性能已达标.\n"
     ]
    }
   ],
   "source": [
    "from sklearn.model_selection import train_test_split\n",
    "# 划分数据集为训练集与测试集\n",
    "X_train, X_test, y_train, y_test = train_test_split(\n",
    "    X, y, \n",
    "    test_size = 0.2, random_state=12\n",
    ")\n",
    "# 创建模型\n",
    "LR = LinearRegression()\n",
    "# 拟合数据（训练）\n",
    "LR.fit(X_train, y_train)\n",
    "# 模型预测\n",
    "y_pred = LR.predict(X_test)\n",
    "# 评价模型\n",
    "mse = mse_score(y_pred, y_test)\n",
    "if  mse <= 30:\n",
    "    print('MSE = {:.2f} < 30, 模型性能已达标.'.format(mse))\n",
    "else:\n",
    "    print('MSE = {:.2f} > 30, 模型性能未达标!'.format(mse))"
   ]
  },
  {
   "attachments": {
    "146f1c9a-9b27-4712-8124-fc0562ae09c3.png": {
     "image/png": "[encoded data removed]"
    },
    "29b6babb-44c8-4a75-93c0-7c0a5415d44a.png": {
     "image/png": "[encoded data removed]"
    }
   },
   "cell_type": "markdown",
   "metadata": {},
   "source": [
    "## 2. 衡量线性回归的性能指标\n",
    "\n",
    "### 任务描述\n",
    "\n",
    "用Python实现线性回归常用**评估指标**，并对构造的线性回归模型进行评估。\n",
    "\n",
    "### 相关知识\n",
    "\n",
    "为了完成本任务，需要掌握的知识点：\n",
    "\n",
    "1. 均方误差(MSE)\n",
    "2. 均方根误差(RMSE)\n",
    "3. 平均绝对误差(MAE)\n",
    "4. R-Squared\n",
    "\n",
    "机器学习通常都是将训练集上的数据对模型进行训练，然后再将测试集上的数据给训练好的模型进行预测，最后根据模型性能的好坏选择模型，对于**分类**问题，我们容易想到，可以使用**正确率**来评估模型的性能，那么回归问题可以使用哪些指标用来评估呢？\n",
    "\n",
    "![image.png](attachment:146f1c9a-9b27-4712-8124-fc0562ae09c3.png)\n",
    "\n",
    "#### MSE\n",
    "\n",
    "**MSE** （Mean Squared Error）叫做**均方误差**，公式如下：\n",
    "\n",
    "$$\n",
    "MSE = \\frac{1}{m}\\sum_{i=1}^m(y^i - p^i)^2\n",
    "$$\n",
    "\n",
    "其中$y^i$表示第$i$个样本的真实标签，$p^i$表示模型对第i个样本的预测标签。线性回归的**目的**就是让**损失函数最小**。那么模型训练出来了，我们**在测试集上用损失函数来评估模型**就行了。\n",
    "\n",
    "#### RMSE\n",
    "\n",
    "**RMSE**（Root Mean Squard Error）即**均方根误差**，公式如下：\n",
    "\n",
    "$$\n",
    "RMSE = \\sqrt{\\frac{1}{m}\\sum_{i=1}^m(y^i - p^i)^2}\n",
    "$$\n",
    "\n",
    "RMSE其实就是MSE开个根号。有什么意义呢？其实实质是一样的，只是对数据的描述更好。\n",
    "\n",
    "例如：要做房价预测，每平方是万元，我们预测结果也是万元。如果差值的平方单位是千万级别的，那就不太好描述自己做的模型效果。如模型误差是多少千万？。于是干脆开个根号，误差的结果就跟我们数据是同一个级别了。如在描述模型的时候就说，我们模型的误差是多少万元。\n",
    "\n",
    "#### MAE\n",
    "\n",
    "**MAE**（Mean Absolute Error）即**平均绝对误差**，公式如下：\n",
    "\n",
    "$$\n",
    "MAE = \\frac{1}{m}\\sum_{i=1}^m|y^i - p^i|\n",
    "$$\n",
    "\n",
    "MAE虽然不作为损失函数，确是一个非常直观的评估指标，它表示每个样本的预测标签值与真实标签值的**L1**距离。\n",
    "\n",
    "#### R-squared\n",
    "\n",
    "上面的几种衡量标准针对不同的模型会有不同的值。比如说预测房价,那么误差单位就是万元。数子可能是3，4，5之类的。那么预测身高就可能是0.1，0.6之类的。没有什么可读性，到底多少才算好呢？不知道，那要根据模型的应用场景来看。分类算法的衡量标准就是正确率，而正确率又在0～1之间，最高百分之百。最低0。如果是负数，则考虑非线性相关。很直观，而且不同模型一样的。那么线性回归有没有这样的衡量标准呢？\n",
    "\n",
    "**R-Squared**就是这么一个指标，公式如下：\n",
    "\n",
    "$$\n",
    "R^2 = 1 - \\frac{\\sum_i(p^i - y^i)^2}{\\sum_i(y_{mean}^i - y^i)^2}\n",
    "$$\n",
    "\n",
    "其中$y_{mean}$表示所有测试样本标签值的均值。为什么这个指标会有刚刚我们提到的性能呢？分析一下公式：\n",
    "\n",
    "![image.png](attachment:29b6babb-44c8-4a75-93c0-7c0a5415d44a.png)\n",
    "\n",
    "其实**分子**表示的是模型**预测**时产生的**误差**，**分母**表示的是对任意样本都预测为所有**标签均值**时产生的**误差**，由此可知：\n",
    "\n",
    "1. $R^2 \\leq 1$，当我们的模型不犯任何错误时，取最大值1\n",
    "2. 当我们的模型性能跟基模型性能（预测为均值）相同时，取0\n",
    "3. 如果为负数，则说明我们训练出来的模型还不如基准模型，此时，很有可能我们的数据不存在任何线性关系"
   ]
  },
  {
   "cell_type": "markdown",
   "metadata": {},
   "source": [
    "### 实操练习\n",
    "\n",
    "#### 编程要求\n",
    "\n",
    "根据提示，在下列代码的Begin-End处补充代码，用Python实现R-Squared指标，并用实现的R-Squared指标来评估前面的线性回归模型。\n",
    "\n",
    "#### 测试说明\n",
    "\n",
    "R-Squared指标高于0.6，模型性能达标，否则为不达标。"
   ]
  },
  {
   "cell_type": "code",
   "execution_count": 31,
   "metadata": {},
   "outputs": [],
   "source": [
    "import numpy as np\n",
    "\n",
    "# R-Squared\n",
    "def r2_score(y_pred, y_test):\n",
    "    '''\n",
    "    输入: y_predict(ndarray):预测值\n",
    "          y_test(ndarray):真实值\n",
    "    输出: r2(float):r2值\n",
    "    '''\n",
    "    #********* Begin *********#\n",
    "    r2 = 1 - mse_score(y_pred, y_test) / np.var(y_test)\n",
    "    #********* End *********#\n",
    "    return r2"
   ]
  },
  {
   "cell_type": "code",
   "execution_count": 33,
   "metadata": {},
   "outputs": [
    {
     "name": "stdout",
     "output_type": "stream",
     "text": [
      "R2 = 0.75 > 0.6, 模型性能已达标.\n"
     ]
    }
   ],
   "source": [
    "# 使用R-Squared评价模型\n",
    "r2 = r2_score(y_pred, y_test)\n",
    "if r2 > 0.6:\n",
    "    print('R2 = {:.2f} > 0.6, 模型性能已达标.'.format(r2))\n",
    "else:\n",
    "    print('R2 = {:.2f} < 0.6, 模型性能未达标!'.format(r2))"
   ]
  },
  {
   "cell_type": "markdown",
   "metadata": {},
   "source": [
    "## 3. scikit-learn线性回归实战-波斯顿房价预测\n",
    "\n",
    "### 任务描述\n",
    "\n",
    "使用**sklearn**中的**线性回归模型**，并通过**波斯顿房价数据集**中房价的13种属性与目标房价对线性回归**模型**进行**训练**，并对房价进行**预测**。\n",
    "\n",
    "### 相关知识\n",
    "\n",
    "#### LinearRegression\n",
    "\n",
    "**LinearRegression**的**构造方法**中有两个常用的参数可以设置：\n",
    "\n",
    "- **`fit_intercept`**：是否有**截距**，如果没有则直线过原点，默认为True。\n",
    "- **`normalize`**：是否将数据**归一化**，默认为False。\n",
    "\n",
    "**LinearRegression**类中的**`fit`** 方法用于**训练模型**，fit函数有两个向量输入：\n",
    "\n",
    "- **`X`**：大小为**`(样本数量,特征数量)`** 的ndarray，存放**训练样本**\n",
    "- **`Y`**：值为整型，大小为**`(样本数量,)`** 的ndarray，存放训练样本的**标签值**\n",
    "\n",
    "**LinearRegression**类中的**`predict`** 方法用于**预测**，返回预测值，predict函数有一个向量输入：\n",
    "\n",
    "- **`X`**：大小为**`(样本数量,特征数量)`** 的ndarray，存放**测试样本**\n",
    "\n",
    "LinearRegression的使用代码如下："
   ]
  },
  {
   "cell_type": "code",
   "execution_count": 23,
   "metadata": {},
   "outputs": [
    {
     "data": {
      "text/plain": [
       "array([ 5.88679928,  3.78705697,  6.64054968, 21.31276497, 15.41271412])"
      ]
     },
     "execution_count": 23,
     "metadata": {},
     "output_type": "execute_result"
    }
   ],
   "source": [
    "from sklearn.linear_model import LinearRegression\n",
    "lr = LinearRegression()\n",
    "lr.fit(X_train, y_train)\n",
    "y_pred = lr.predict(X_test)\n",
    "y_pred[:5]"
   ]
  },
  {
   "attachments": {
    "6aa49937-89e4-47ab-881d-0166d5aaac34.png": {
     "image/png": "[encoded data removed]"
    }
   },
   "cell_type": "markdown",
   "metadata": {},
   "source": [
    "### 实操练习\n",
    "\n",
    "#### 编程要求\n",
    "\n",
    "补全下列Begin和End之间的Python代码，使用**sklearn**构建**线性回归模型**，利用**sklearn**提供的**波士顿房价数据集**的前**80%** 作为**训练集**数据与训练标签对模型进行**训练**，然后使用训练好的模型对数据集的剩余**20%** 作为**测试集**数据进行**预测**，并将预测结果保存到**`./data/result-boston.csv`** 中。保存格式如下：\n",
    "\n",
    "![image.png](attachment:6aa49937-89e4-47ab-881d-0166d5aaac34.png)\n",
    "\n",
    "#### 测试说明\n",
    "\n",
    "要求：R2指标高于0.6"
   ]
  },
  {
   "cell_type": "code",
   "execution_count": 34,
   "metadata": {},
   "outputs": [],
   "source": [
    "#********* Begin *********#\n",
    "import pandas as pd\n",
    "from sklearn import datasets\n",
    "from sklearn.linear_model import LinearRegression\n",
    "#加载波斯顿房价数据集\n",
    "boston = datasets.load_boston()\n",
    "# X表示特征，y表示目标房价\n",
    "# 拆分训练(80%)与测试集(20%)\n",
    "split_index = int(0.8 * boston.data.shape[0])\n",
    "X_train, y_train = boston.data[:split_index], boston.target[:split_index]\n",
    "X_test, y_test = boston.data[split_index:], boston.target[split_index:]\n",
    "# 创建模型\n",
    "lr = LinearRegression()\n",
    "#训练模型\n",
    "lr.fit(X_train,y_train)\n",
    "#获取预测标签\n",
    "y_pred = lr.predict(X_test)\n",
    "#将预测标签写入csv\n",
    "df = pd.DataFrame({'result':y_pred}) \n",
    "df.to_csv('./data/result-boston.csv', index=False)\n",
    "#********* End *********#"
   ]
  },
  {
   "cell_type": "code",
   "execution_count": 35,
   "metadata": {},
   "outputs": [
    {
     "name": "stdout",
     "output_type": "stream",
     "text": [
      "result\n",
      "5.886799282181428\n",
      "3.7870569729086476\n",
      "6.640549683431075\n",
      "21.312764974873993\n",
      "15.412714122137173\n",
      "23.652297562693878\n"
     ]
    }
   ],
   "source": [
    "!head -n 7 ./data/result-boston.csv"
   ]
  },
  {
   "cell_type": "code",
   "execution_count": 36,
   "metadata": {},
   "outputs": [
    {
     "name": "stdout",
     "output_type": "stream",
     "text": [
      "R2 = -0.22 < 0.6, 模型性能未达标!\n"
     ]
    }
   ],
   "source": [
    "# 使用R-Squared评价模型\n",
    "r2 = r2_score(y_pred, y_test)\n",
    "if r2 > 0.6:\n",
    "    print('R2 = {:.2f} > 0.6, 模型性能已达标.'.format(r2))\n",
    "else:\n",
    "    print('R2 = {:.2f} < 0.6, 模型性能未达标!'.format(r2))"
   ]
  },
  {
   "cell_type": "markdown",
   "metadata": {},
   "source": [
    "影响模型性能的因素很多，其中数据集分布的影响很大。若数据集的分布不均匀，直接进行划分会导致模型在测试集的表现较差。下面使用sklearn.model_selection模块的train_test_split函数划分数据集，该函数在划分数据集之前会对数据集进行随机重排（shuffle），使数据集的分布均匀。"
   ]
  },
  {
   "cell_type": "code",
   "execution_count": 37,
   "metadata": {},
   "outputs": [
    {
     "name": "stdout",
     "output_type": "stream",
     "text": [
      "R2 = 0.75 > 0.6, 模型性能已达标.\n"
     ]
    }
   ],
   "source": [
    "from sklearn.model_selection import train_test_split\n",
    "\n",
    "X_train, X_test, y_train, y_test = train_test_split(\n",
    "    X, y, \n",
    "    test_size = 0.2, random_state=12\n",
    ")\n",
    "\n",
    "# 创建模型\n",
    "lr = LinearRegression()\n",
    "#训练模型\n",
    "lr.fit(X_train,y_train)\n",
    "#获取预测标签\n",
    "y_pred = lr.predict(X_test)\n",
    "\n",
    "r2 = r2_score(y_pred, y_test)\n",
    "if r2 > 0.6:\n",
    "    print('R2 = {:.2f} > 0.6, 模型性能已达标.'.format(r2))\n",
    "else:\n",
    "    print('R2 = {:.2f} < 0.6, 模型性能未达标!'.format(r2))"
   ]
  },
  {
   "cell_type": "markdown",
   "metadata": {},
   "source": [
    "因此，数据集必须均匀分布，才能训练出泛化能力（性能）更强的模型。"
   ]
  },
  {
   "cell_type": "code",
   "execution_count": null,
   "metadata": {},
   "outputs": [],
   "source": []
  }
 ],
 "metadata": {
  "kernelspec": {
   "display_name": "Python 3",
   "language": "python",
   "name": "python3"
  },
  "language_info": {
   "codemirror_mode": {
    "name": "ipython",
    "version": 3
   },
   "file_extension": ".py",
   "mimetype": "text/x-python",
   "name": "python",
   "nbconvert_exporter": "python",
   "pygments_lexer": "ipython3",
   "version": "3.7.6"
  }
 },
 "nbformat": 4,
 "nbformat_minor": 4
}
