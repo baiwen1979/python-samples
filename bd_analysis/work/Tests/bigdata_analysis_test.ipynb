{
 "cells": [
  {
   "cell_type": "markdown",
   "metadata": {},
   "source": [
    "# 《Python大数据离线分析》考试试题\n",
    "---\n",
    "\n",
    "#### 考试说明\n",
    "\n",
    "1. 请将此notebook文件更名为“<姓名>-<手机号>”的形式，如:张三-18803518868\n",
    "2. 考试时间：90分钟\n",
    "3. 考试形式：机试\n",
    "4. 只提交此文件，因此运行结果必须包含在此ipynb文件中\n",
    "5. 使用虚拟机的同学，请将Hadoop集群上运行程序所生成文件的内容显示在此ipynb文件中"
   ]
  },
  {
   "cell_type": "markdown",
   "metadata": {},
   "source": [
    "### 一、简答题\n",
    "\n",
    "1. 请简述大数据离线分析的基本操作流程（10分）"
   ]
  },
  {
   "cell_type": "markdown",
   "metadata": {},
   "source": [
    "答："
   ]
  },
  {
   "cell_type": "markdown",
   "metadata": {},
   "source": [
    "2. Mapper和Reducer的角色分别是什么？（10分）"
   ]
  },
  {
   "cell_type": "markdown",
   "metadata": {},
   "source": [
    "答："
   ]
  },
  {
   "cell_type": "markdown",
   "metadata": {},
   "source": [
    "3. 简述Mapper和Reducer的编程思路？（10分）"
   ]
  },
  {
   "cell_type": "markdown",
   "metadata": {},
   "source": [
    "答："
   ]
  },
  {
   "cell_type": "markdown",
   "metadata": {},
   "source": [
    "### 二、数据分析题\n",
    "\n",
    "1. 请使用离线大数据分析技术分别统计**班级信息表（class_info.csv）**中各专业（专业名称包含在班级名称中）和各学院的班级数，并用直方图显示统计结果。（要求列出完整的操作步骤和运行结果）（40分）"
   ]
  },
  {
   "cell_type": "code",
   "execution_count": 5,
   "metadata": {},
   "outputs": [
    {
     "name": "stdout",
     "output_type": "stream",
     "text": [
      "班级编号,班级名称,入学日期,所属院系中文名\r",
      "\r\n",
      "0101,计算机一班,20170901,计算机学院\r",
      "\r\n",
      "0102,计算机二班,20170901,计算机学院\r",
      "\r\n",
      "0103,计算机三班,20170901,计算机学院\r",
      "\r\n",
      "0104,智能科学一班,20170901,计算机学院\r",
      "\r\n",
      "0105,智能科学二班,20170901,计算机学院\r",
      "\r\n",
      "0106,智能科学三班,20170901,计算机学院\r",
      "\r\n",
      "0107,智能科学四班,20170901,计算机学院\r",
      "\r\n",
      "0108,软件工程一班,20170901,计算机学院\r",
      "\r\n",
      "0109,软件工程二班,20170901,计算机学院\r",
      "\r\n",
      "0110,软件工程三班,20170901,计算机学院\r",
      "\r\n",
      "0111,数字图像处理一班,20170901,计算机学院\r",
      "\r\n",
      "0112,数字图像处理二班,20170901,计算机学院\r",
      "\r\n",
      "0113,数字图像处理三班,20170901,计算机学院\r",
      "\r\n",
      "0114,网络计算一班,20170901,计算机学院\r",
      "\r\n",
      "0115,网络计算二班,20170901,计算机学院\r",
      "\r\n",
      "0116,网络计算三班,20170901,计算机学院\r",
      "\r\n",
      "0117,信息工程一班,20170901,计算机学院\r",
      "\r\n",
      "0118,信息工程二班,20170901,计算机学院\r",
      "\r\n",
      "0119,信息工程三班,20170901,计算机学院\r",
      "\r\n"
     ]
    }
   ],
   "source": [
    "# 操作和程序代码\n",
    "!cat data/class_info.csv | head -n 20"
   ]
  },
  {
   "cell_type": "code",
   "execution_count": null,
   "metadata": {},
   "outputs": [],
   "source": []
  },
  {
   "cell_type": "markdown",
   "metadata": {},
   "source": [
    "2. 连接（JOIN）**学生信息表（student_info.csv）**和**班级信息表**，并统计各班级的人数。（30分）"
   ]
  },
  {
   "cell_type": "code",
   "execution_count": 6,
   "metadata": {},
   "outputs": [
    {
     "name": "stdout",
     "output_type": "stream",
     "text": [
      "学号,姓名,性别,所属班级编号,入学日期\r",
      "\r\n",
      "170401011001,施礼义,男,0101,20170901\r",
      "\r\n",
      "170401011002,王旭,男,0101,20170901\r",
      "\r\n",
      "170401011003,肖桢,女,0101,20170901\r",
      "\r\n",
      "170401011004,吴佩东,男,0101,20170901\r",
      "\r\n",
      "170401011005,魏会,男,0101,20170901\r",
      "\r\n",
      "170401011006,曾美,女,0101,20170901\r",
      "\r\n",
      "170401011007,邵亚,女,0101,20170901\r",
      "\r\n",
      "170401011008,朱燕菊,女,0101,20170901\r",
      "\r\n",
      "170401011009,杨明书,男,0101,20170901\r",
      "\r\n",
      "170401011010,张伟,男,0101,20170901\r",
      "\r\n",
      "170401011011,张宁波,男,0102,20170901\r",
      "\r\n",
      "170401011012,石勇,男,0102,20170901\r",
      "\r\n",
      "170401011013,刘彬,男,0102,20170901\r",
      "\r\n",
      "170401011014,徐德海,男,0102,20170901\r",
      "\r\n",
      "170401011015,周涛,女,0102,20170901\r",
      "\r\n",
      "170401011016,周鹏琼,女,0102,20170901\r",
      "\r\n",
      "170401011017,刘硕,男,0102,20170901\r",
      "\r\n",
      "170401011018,黄城,男,0102,20170901\r",
      "\r\n",
      "170401011019,颜旺,男,0102,20170901\r",
      "\r\n"
     ]
    }
   ],
   "source": [
    "# 操作和程序代码\n",
    "!cat data/student_info.csv | head -n 20"
   ]
  },
  {
   "cell_type": "code",
   "execution_count": null,
   "metadata": {},
   "outputs": [],
   "source": []
  }
 ],
 "metadata": {
  "kernelspec": {
   "display_name": "Python 3",
   "language": "python",
   "name": "python3"
  },
  "language_info": {
   "codemirror_mode": {
    "name": "ipython",
    "version": 3
   },
   "file_extension": ".py",
   "mimetype": "text/x-python",
   "name": "python",
   "nbconvert_exporter": "python",
   "pygments_lexer": "ipython3",
   "version": "3.7.3"
  },
  "toc": {
   "base_numbering": 1,
   "nav_menu": {},
   "number_sections": true,
   "sideBar": true,
   "skip_h1_title": false,
   "title_cell": "Table of Contents",
   "title_sidebar": "Contents",
   "toc_cell": false,
   "toc_position": {},
   "toc_section_display": true,
   "toc_window_display": false
  }
 },
 "nbformat": 4,
 "nbformat_minor": 2
}
