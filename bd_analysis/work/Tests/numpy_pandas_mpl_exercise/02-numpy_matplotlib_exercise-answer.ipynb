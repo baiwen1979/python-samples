{
 "cells": [
  {
   "cell_type": "markdown",
   "metadata": {},
   "source": [
    "# 数据分析实操专题练习-Numpy\n",
    "---\n",
    "\n",
    "**习题说明：**\n",
    "\n",
    "- 练习时间：6小时\n",
    "- 练习环境：jupyter notebook\n",
    "- 练习要求：所有操作命令或代码均在此notebook文件中编写，完整的Python程序可新建为扩展名为.py的文本文件，然后在本notebook中使用命令或者以引入模块的方式调用执行。程序运行结果必须在此notebook中输出，具体输出方法可见题目中的**操作说明**。\n",
    "\n",
    "## 数据预处理与可视化\n",
    "\n",
    "### 数据描述\n",
    "\n",
    "高校学生入学成绩数据分为4个数据文件，分别为：\n",
    "\n",
    "- 班级信息表（data/班级信息表.txt）\n",
    "- 学生信息表（data/学生信息表.txt）\n",
    "- 院系信息表（data/院系信息表.txt）\n",
    "- 学生成绩表（data/学生成绩表.txt）\n",
    "\n",
    "\n",
    "### 题目要求\n",
    "\n",
    "请使用**numpy**编程完成以下操作任务。【注：只能使用numpy和matplotlib，禁止使用第三方工具包】\n",
    "\n",
    "#### 第1题（难易程度：* ）\n",
    "\n",
    "分别导入上述数据文件，完成以下操作：\n",
    "\n",
    "1. 输出每个数据表的行列数（形状）和头5行"
   ]
  },
  {
   "cell_type": "code",
   "execution_count": 5,
   "metadata": {},
   "outputs": [],
   "source": [
    "# 导入必需包\n",
    "import numpy as np\n",
    "import matplotlib.pyplot as plt"
   ]
  },
  {
   "cell_type": "code",
   "execution_count": 6,
   "metadata": {},
   "outputs": [
    {
     "name": "stdout",
     "output_type": "stream",
     "text": [
      "行列数： (59, 4)\n"
     ]
    },
    {
     "data": {
      "text/plain": [
       "array([['班级编号', '班级名称', '入学日期', '所属院系中文名'],\n",
       "       ['0101', '计算机一班', '20170901', '计算机学院'],\n",
       "       ['0102', '计算机二班', '20170901', '计算机学院'],\n",
       "       ['0103', '计算机三班', '20170901', '计算机学院'],\n",
       "       ['0104', '智能科学一班', '20170901', '计算机学院']], dtype='<U9')"
      ]
     },
     "execution_count": 6,
     "metadata": {},
     "output_type": "execute_result"
    }
   ],
   "source": [
    "# 加载班级信息表\n",
    "classes_info = np.loadtxt('data/班级信息表.txt', delimiter=',', dtype='str')\n",
    "print('行列数：', classes_info.shape)\n",
    "classes_info[:5]"
   ]
  },
  {
   "cell_type": "code",
   "execution_count": 7,
   "metadata": {},
   "outputs": [
    {
     "name": "stdout",
     "output_type": "stream",
     "text": [
      "行列数： (761, 5)\n"
     ]
    },
    {
     "data": {
      "text/plain": [
       "array([['学号', '姓名', '性别', '所属班级编号', '入学日期'],\n",
       "       ['170401011001', '施礼义', '男', '0101', '20170901'],\n",
       "       ['170401011002', '王旭', '男', '0101', '20170901'],\n",
       "       ['170401011003', '肖桢', '女', '0101', '20170901'],\n",
       "       ['170401011004', '吴佩东', '男', '0101', '20170901']], dtype='<U12')"
      ]
     },
     "execution_count": 7,
     "metadata": {},
     "output_type": "execute_result"
    }
   ],
   "source": [
    "# 加载学生信息表\n",
    "students_info = np.loadtxt('data/学生信息表.txt', delimiter=',', dtype='str')\n",
    "print('行列数：', students_info.shape)\n",
    "students_info[:5]"
   ]
  },
  {
   "cell_type": "code",
   "execution_count": 8,
   "metadata": {},
   "outputs": [
    {
     "name": "stdout",
     "output_type": "stream",
     "text": [
      "行列数： (96, 2)\n"
     ]
    },
    {
     "data": {
      "text/plain": [
       "array([['院系编号', '院系名称'],\n",
       "       ['01', '计算机学院'],\n",
       "       ['01', '计算机学院'],\n",
       "       ['01', '计算机学院'],\n",
       "       ['01', '计算机学院']], dtype='<U8')"
      ]
     },
     "execution_count": 8,
     "metadata": {},
     "output_type": "execute_result"
    }
   ],
   "source": [
    "# 加载院系信息表\n",
    "departments_info = np.loadtxt('data/院系信息表.txt', delimiter=',', dtype='str')\n",
    "print('行列数：', departments_info.shape)\n",
    "departments_info[:5]"
   ]
  },
  {
   "cell_type": "code",
   "execution_count": 9,
   "metadata": {},
   "outputs": [
    {
     "name": "stdout",
     "output_type": "stream",
     "text": [
      "行列数： (128, 5)\n"
     ]
    },
    {
     "data": {
      "text/plain": [
       "array([['学号', '姓名', '性别', '所属班级编号', '入学成绩'],\n",
       "       ['170401011001 ', '施礼义', '男', '0101', '467'],\n",
       "       ['170401011002 ', '王旭', '男', '0101', '518'],\n",
       "       ['170401011003 ', '肖桢', '女', '0101', '509'],\n",
       "       ['170401011004 ', '吴佩东', '男', '0101', '508']], dtype='<U13')"
      ]
     },
     "execution_count": 9,
     "metadata": {},
     "output_type": "execute_result"
    }
   ],
   "source": [
    "# 加载学生成绩表\n",
    "students_scores = np.loadtxt('data/学生成绩表.txt', delimiter=',', dtype=str)\n",
    "print('行列数：', students_scores.shape)\n",
    "students_scores[:5]"
   ]
  },
  {
   "cell_type": "markdown",
   "metadata": {},
   "source": [
    "2. 去除院系信息表和学生信息表中的重复行，去重后的数据分别保存为\"院系信息表-1.csv\"和\"学生信息表-1.csv\"文件"
   ]
  },
  {
   "cell_type": "code",
   "execution_count": 10,
   "metadata": {},
   "outputs": [
    {
     "data": {
      "text/plain": [
       "array([['院系编号', '院系名称'],\n",
       "       ['01', '计算机学院'],\n",
       "       ['02', '经济管理学院'],\n",
       "       ['03', '软件与微电子学院'],\n",
       "       ['04', '信息科学技术学院']], dtype='<U8')"
      ]
     },
     "execution_count": 10,
     "metadata": {},
     "output_type": "execute_result"
    }
   ],
   "source": [
    "departments_info = np.vstack((departments_info[0], np.unique(departments_info[1:], axis=0)))\n",
    "departments_info"
   ]
  },
  {
   "cell_type": "markdown",
   "metadata": {},
   "source": [
    "3. 去除学生成绩表中存在的空白字符"
   ]
  },
  {
   "cell_type": "code",
   "execution_count": 11,
   "metadata": {},
   "outputs": [
    {
     "data": {
      "text/plain": [
       "array([['学号', '姓名', '性别', '所属班级编号', '入学成绩'],\n",
       "       ['170401011001', '施礼义', '男', '0101', '467'],\n",
       "       ['170401011002', '王旭', '男', '0101', '518'],\n",
       "       ['170401011003', '肖桢', '女', '0101', '509'],\n",
       "       ['170401011004', '吴佩东', '男', '0101', '508']], dtype='<U13')"
      ]
     },
     "execution_count": 11,
     "metadata": {},
     "output_type": "execute_result"
    }
   ],
   "source": [
    "students_scores = np.char.strip(students_scores)\n",
    "students_scores[:5]"
   ]
  },
  {
   "cell_type": "code",
   "execution_count": 12,
   "metadata": {},
   "outputs": [
    {
     "name": "stdout",
     "output_type": "stream",
     "text": [
      "院系编号,院系名称\r\n",
      "01,计算机学院\r\n",
      "02,经济管理学院\r\n",
      "03,软件与微电子学院\r\n",
      "04,信息科学技术学院\r\n"
     ]
    }
   ],
   "source": [
    "np.savetxt('院系信息表-1.csv', departments_info, fmt='%s', delimiter=',')\n",
    "!cat 院系信息表-1.csv"
   ]
  },
  {
   "cell_type": "markdown",
   "metadata": {},
   "source": [
    "#### 第2题（难易程度：* ）\n",
    "\n",
    "1. 将学生成绩表按列划分为两个表，分别为**学生基本信息表**（学号，姓名，性别，所属班级编号）和**学号成绩表**（学号，入学成绩），分别保存为\"学生基本信息表-2.csv\"和\"学号成绩表-2.csv\""
   ]
  },
  {
   "cell_type": "code",
   "execution_count": 13,
   "metadata": {},
   "outputs": [
    {
     "name": "stdout",
     "output_type": "stream",
     "text": [
      "学号,姓名,性别,所属班级编号\r\n",
      "170401011001,施礼义,男,0101\r\n",
      "170401011002,王旭,男,0101\r\n",
      "170401011003,肖桢,女,0101\r\n",
      "170401011004,吴佩东,男,0101\r\n",
      "170401011005,魏会,男,0101\r\n",
      "170401011006,曾美,女,0101\r\n",
      "170401011007,邵亚,女,0101\r\n",
      "170401011008,朱燕菊,女,0101\r\n",
      "170401011009,杨明书,男,0101\r\n"
     ]
    }
   ],
   "source": [
    "# 学生基本信息表\n",
    "students_basic_info = students_scores[:, 0:4]\n",
    "np.savetxt('学生基本信息表-3.csv', students_basic_info, fmt='%s', delimiter=',')\n",
    "!cat 学生基本信息表-3.csv | head -n 10"
   ]
  },
  {
   "cell_type": "code",
   "execution_count": 14,
   "metadata": {},
   "outputs": [
    {
     "name": "stdout",
     "output_type": "stream",
     "text": [
      "学号,入学成绩\r\n",
      "170401011001,467\r\n",
      "170401011002,518\r\n",
      "170401011003,509\r\n",
      "170401011004,508\r\n",
      "170401011005,494\r\n",
      "170401011006,500\r\n",
      "170401011007,490\r\n",
      "170401011008,466\r\n",
      "170401011009,534\r\n"
     ]
    }
   ],
   "source": [
    "# 学号成绩表\n",
    "id_scores = students_scores[:, [0, 4]]\n",
    "np.savetxt('学号成绩表-3.csv', id_scores, fmt='%s', delimiter=',')\n",
    "!cat 学号成绩表-3.csv | head -n 10"
   ]
  },
  {
   "cell_type": "markdown",
   "metadata": {},
   "source": [
    "2. 将学生信息表拆分为两个表，分别为学生基本信息表2（学号，姓名，性别，所属班级编号）和入学日期表（学号，入学日期），分别保存为\"学生基本信息表-2-2.csv\"和\"入学日期表-2.csv\""
   ]
  },
  {
   "cell_type": "code",
   "execution_count": 15,
   "metadata": {},
   "outputs": [
    {
     "name": "stdout",
     "output_type": "stream",
     "text": [
      "学号,姓名,性别,所属班级编号\r\n",
      "170401011001,施礼义,男,0101\r\n",
      "170401011002,王旭,男,0101\r\n",
      "170401011003,肖桢,女,0101\r\n",
      "170401011004,吴佩东,男,0101\r\n",
      "170401011005,魏会,男,0101\r\n",
      "170401011006,曾美,女,0101\r\n",
      "170401011007,邵亚,女,0101\r\n",
      "170401011008,朱燕菊,女,0101\r\n",
      "170401011009,杨明书,男,0101\r\n"
     ]
    }
   ],
   "source": [
    "# 学生基本信息表2\n",
    "students_basic_info2 = students_info[:, 0:4]\n",
    "np.savetxt('学生基本信息表-2-2.csv', students_basic_info2, fmt='%s', delimiter=',')\n",
    "!cat 学生基本信息表-2-2.csv | head -n 10"
   ]
  },
  {
   "cell_type": "code",
   "execution_count": 16,
   "metadata": {},
   "outputs": [
    {
     "name": "stdout",
     "output_type": "stream",
     "text": [
      "学号,入学日期\r\n",
      "170401011001,20170901\r\n",
      "170401011002,20170901\r\n",
      "170401011003,20170901\r\n",
      "170401011004,20170901\r\n",
      "170401011005,20170901\r\n",
      "170401011006,20170901\r\n",
      "170401011007,20170901\r\n",
      "170401011008,20170901\r\n",
      "170401011009,20170901\r\n"
     ]
    }
   ],
   "source": [
    "# 入学日期表\n",
    "id_dates = students_info[:, [0, 4]]\n",
    "np.savetxt('入学日期表-2.csv', id_dates, fmt='%s', delimiter=',')\n",
    "!cat 入学日期表-2.csv | head -n 10"
   ]
  },
  {
   "cell_type": "markdown",
   "metadata": {},
   "source": [
    "3. 将**学生基本信息表**，**入学日期表**和**学号成绩表**合并为**学生入学成绩表**，忽略没有对应成绩的行，并保存为\"学生入学成绩表-2.csv\""
   ]
  },
  {
   "cell_type": "code",
   "execution_count": 17,
   "metadata": {},
   "outputs": [
    {
     "data": {
      "text/plain": [
       "(128, 761, 128)"
      ]
     },
     "execution_count": 17,
     "metadata": {},
     "output_type": "execute_result"
    }
   ],
   "source": [
    "# 查看这些表的行数\n",
    "len(students_basic_info), len(id_dates), len(id_scores)"
   ]
  },
  {
   "cell_type": "code",
   "execution_count": 18,
   "metadata": {},
   "outputs": [
    {
     "data": {
      "text/plain": [
       "(True, True)"
      ]
     },
     "execution_count": 18,
     "metadata": {},
     "output_type": "execute_result"
    }
   ],
   "source": [
    "# 确保学号匹配\n",
    "# 这里使用数据本身的特点（三个表前128行的学号正好一一对应），可以考虑使用更为通用的方案，实现像pandas的连接操作\n",
    "np.all(students_basic_info[:, 0] == id_dates[:128, 0]), np.all(id_dates[:128, 0] == id_scores[:, 0])"
   ]
  },
  {
   "cell_type": "code",
   "execution_count": 19,
   "metadata": {},
   "outputs": [
    {
     "name": "stdout",
     "output_type": "stream",
     "text": [
      "学号,姓名,性别,所属班级编号,入学日期,入学成绩\r\n",
      "170401011001,施礼义,男,0101,20170901,467\r\n",
      "170401011002,王旭,男,0101,20170901,518\r\n",
      "170401011003,肖桢,女,0101,20170901,509\r\n",
      "170401011004,吴佩东,男,0101,20170901,508\r\n",
      "170401011005,魏会,男,0101,20170901,494\r\n",
      "170401011006,曾美,女,0101,20170901,500\r\n",
      "170401011007,邵亚,女,0101,20170901,490\r\n",
      "170401011008,朱燕菊,女,0101,20170901,466\r\n",
      "170401011009,杨明书,男,0101,20170901,534\r\n"
     ]
    }
   ],
   "source": [
    "student_enrol_scores = np.concatenate((students_basic_info, id_dates[:128, [1]], id_scores[:, [1]]), axis=1)\n",
    "np.savetxt('学生入学成绩表-2.csv', student_enrol_scores, fmt='%s', delimiter=',')\n",
    "!cat 学生入学成绩表-2.csv | head -n 10"
   ]
  },
  {
   "cell_type": "markdown",
   "metadata": {},
   "source": [
    "#### 第3题（难易程度：* ）\n",
    "\n",
    "统计**学生信息表**中的男女生比例，绘制爆裂式饼图，标题为\"2017年入学男女生比例\"，并显示男女生的百分比。图表保存为\"2017年入学男女生比例.png\"文件"
   ]
  },
  {
   "cell_type": "code",
   "execution_count": 21,
   "metadata": {},
   "outputs": [
    {
     "data": {
      "image/png": "[encoded data removed]",
      "text/plain": [
       "<Figure size 576x576 with 1 Axes>"
      ]
     },
     "metadata": {},
     "output_type": "display_data"
    }
   ],
   "source": [
    "# 操作代码\n",
    "sexes = students_info[:, 2]\n",
    "male_count = len(sexes[sexes=='男'])\n",
    "female_count = len(sexes[sexes=='女'])\n",
    "\n",
    "labels = ['男', '女']\n",
    "data = [male_count, female_count]\n",
    "\n",
    "plt.figure(figsize=(8, 8))\n",
    "plt.rc('font', size=16, family='Arial Unicode MS')\n",
    "\n",
    "plt.pie(data, explode=[0.1, 0], labels=labels, autopct='%3.1f%%', startangle=90, shadow=True)\n",
    "\n",
    "plt.title('2017年入学男女生比例')\n",
    "plt.savefig('2017年入学男女生比例.png')\n",
    "\n",
    "plt.show()"
   ]
  },
  {
   "cell_type": "markdown",
   "metadata": {},
   "source": [
    "#### 第4题 （难易程度：**）\n",
    "\n",
    "统计**学生信息表中**不同班级的男生人数和女生人数，并绘制堆叠式柱状图，男生显示为绿色，女生显示为红色。横坐标为班级名称，纵坐标为男女生人数。图表保存为\"班级男女生人数对比.png\""
   ]
  },
  {
   "cell_type": "code",
   "execution_count": 22,
   "metadata": {},
   "outputs": [
    {
     "data": {
      "text/plain": [
       "(array([ 8, 10,  7,  6,  8,  7, 11, 10, 13,  7,  6, 10,  8,  5,  5,  5,  5,\n",
       "        10, 10, 10,  9,  6, 10,  8,  6,  7,  6,  7,  7, 10, 14, 11,  6,  5,\n",
       "         6,  7,  4,  6,  5,  6,  9,  6,  9,  4,  5,  5,  8,  4, 10,  8, 11,\n",
       "        11,  8,  7,  9,  9,  6, 11]),\n",
       " array([ 6,  4,  7,  8,  6,  7,  3,  3,  3,  5,  7,  2,  5,  7,  7,  9,  6,\n",
       "         2,  2,  2,  4,  5,  2,  3,  5,  4,  6,  4,  5,  3,  2,  2,  9,  6,\n",
       "         6,  6,  8,  6,  8,  8,  6,  6,  5,  8,  9,  7,  6,  9,  4,  4,  3,\n",
       "         2,  5,  7,  6,  6, 12,  5]),\n",
       " array(['计算机一班', '计算机二班', '计算机三班', '智能科学一班', '智能科学二班', '智能科学三班', '智能科学四班',\n",
       "        '软件工程一班', '软件工程二班', '软件工程三班', '数字图像处理一班', '数字图像处理二班', '数字图像处理三班',\n",
       "        '网络计算一班', '网络计算二班', '网络计算三班', '信息工程一班', '信息工程二班', '信息工程三班',\n",
       "        '管理科学与工程一班', '管理科学与工程二班', '管理科学与工程三班', '金融一班', '金融二班', '金融三班',\n",
       "        '会计一班', '会计二班', '会计三班', '经济一班', '经济二班', '经济三班', '工商管理一班', '工商管理二班',\n",
       "        '工商管理三班', '软件开发一班', '软件开发二班', '软件开发三班', '信息安全一班', '信息安全二班',\n",
       "        '信息安全三班', '电子通信一班', '电子通信二班', '电子通信三班', '电子金融一班', '电子金融二班',\n",
       "        '电子金融三班', '宇航一班', '宇航二班', '宇航三班', '机电一班', '机电二班', '机电三班', '光电一班',\n",
       "        '光电二班', '光电三班', '材料一班', '材料二班', '材料三班'], dtype='<U9'))"
      ]
     },
     "execution_count": 22,
     "metadata": {},
     "output_type": "execute_result"
    }
   ],
   "source": [
    "# 操作代码\n",
    "males = students_info[:,2]=='男'\n",
    "mclasses = students_info[males][:, 3]\n",
    "mclass_ids, mcounts = np.unique(mclasses, return_counts=True)\n",
    "\n",
    "females = students_info[:,2]=='女'\n",
    "fclasses = students_info[females][:, 3]\n",
    "fclass_ids, fcounts = np.unique(fclasses, return_counts=True)\n",
    "# 获取班级名称\n",
    "class_names = classes_info[1:,1][mclass_ids.argsort()]\n",
    "mcounts, fcounts, class_names"
   ]
  },
  {
   "cell_type": "code",
   "execution_count": 23,
   "metadata": {},
   "outputs": [
    {
     "data": {
      "image/png": "[encoded data removed]",
      "text/plain": [
       "<Figure size 864x432 with 1 Axes>"
      ]
     },
     "metadata": {
      "needs_background": "light"
     },
     "output_type": "display_data"
    }
   ],
   "source": [
    "# 由于无法显示中文，采用班级编号，这里显示班级编号\n",
    "\n",
    "plt.figure(figsize=(12, 6))\n",
    "plt.rc('font', size=10, family='Arial Unicode MS')\n",
    "\n",
    "p1 = plt.bar(class_names, mcounts)\n",
    "p2 = plt.bar(class_names, fcounts, bottom=mcounts)\n",
    "\n",
    "plt.xlabel('班级名称',fontsize=16)\n",
    "plt.ylabel('男女生人数', fontsize=16)\n",
    "plt.tick_params(labelrotation=90.0)\n",
    "\n",
    "plt.title('班级男女生人数对比', fontsize=20)\n",
    "\n",
    "plt.savefig('班级男女生人数对比.png')\n",
    "plt.show()"
   ]
  },
  {
   "cell_type": "markdown",
   "metadata": {},
   "source": [
    "#### 第5题 （难易程度：**）\n",
    "\n",
    "绘制**学生入学成绩表**入学成绩的箱线图，在图表中以注解的形式显示中位数，最大值、最小值和异常值（如果有的话）"
   ]
  },
  {
   "cell_type": "code",
   "execution_count": 24,
   "metadata": {},
   "outputs": [
    {
     "data": {
      "text/plain": [
       "(432.0, 677.0, 53.0)"
      ]
     },
     "execution_count": 24,
     "metadata": {},
     "output_type": "execute_result"
    }
   ],
   "source": [
    "# 操作代码\n",
    "scores = student_enrol_scores[1:, 5].astype('f4')\n",
    "score_median = np.percentile(scores, 50)\n",
    "score_max = np.max(scores)\n",
    "score_min = np.min(scores)\n",
    "score_median, score_max, score_min"
   ]
  },
  {
   "cell_type": "code",
   "execution_count": 25,
   "metadata": {},
   "outputs": [
    {
     "data": {
      "image/png": "[encoded data removed]",
      "text/plain": [
       "<Figure size 720x576 with 1 Axes>"
      ]
     },
     "metadata": {
      "needs_background": "light"
     },
     "output_type": "display_data"
    }
   ],
   "source": [
    "plt.figure(figsize=(10, 8))\n",
    "\n",
    "red_square = dict(markerfacecolor='r', marker='s')\n",
    "\n",
    "p = plt.boxplot(scores, flierprops=red_square)\n",
    "\n",
    "outliers = p['fliers'][0].get_ydata()\n",
    "min_outlier = min(outliers)\n",
    "\n",
    "plt.text(1.1, score_max - 8, 'Max:{}'.format(score_max), color='b', fontsize=16)\n",
    "plt.text(1.2, score_min - 8, 'Min:{}'.format(score_min), color='g', fontsize=16)\n",
    "plt.text(1.1, score_median - 8, 'Median:{}'.format(score_median), color='k', fontsize=16)\n",
    "plt.text(1.02, min_outlier - 8, 'Outlier:{}'.format(min_outlier), color='r', fontsize=16)\n",
    "\n",
    "plt.show()"
   ]
  },
  {
   "cell_type": "markdown",
   "metadata": {},
   "source": [
    "#### 第6题 （难易程度：**）\n",
    "\n",
    "**学生信息表**中的学号存在大量重复，请将这些重复学号的中间4位替换为相应的班级编号。替换后的学生信息表保存为\"学生信息表-6.csv\""
   ]
  },
  {
   "cell_type": "code",
   "execution_count": 26,
   "metadata": {},
   "outputs": [
    {
     "data": {
      "text/plain": [
       "((760,), (150,), (610,))"
      ]
     },
     "execution_count": 26,
     "metadata": {},
     "output_type": "execute_result"
    }
   ],
   "source": [
    "# 获得重复学号的索引\n",
    "student_ids = students_info[1:, 0]\n",
    "_, u_indices = np.unique(student_ids, return_index=True)\n",
    "dup_indices = np.setdiff1d(np.arange(student_ids.shape[0]), u_indices)\n",
    "student_ids.shape, u_indices.shape, dup_indices.shape"
   ]
  },
  {
   "cell_type": "code",
   "execution_count": 27,
   "metadata": {},
   "outputs": [
    {
     "name": "stdout",
     "output_type": "stream",
     "text": [
      "170403011103,黎世顺,男,0206,20170901\r\n",
      "170403011104,王春香,女,0207,20170901\r\n",
      "170403011105,罗印,男,0208,20170901\r\n",
      "170403011106,文富艳,男,0209,20170901\r\n",
      "170403011107,杨冰凤,女,0210,20170901\r\n",
      "170403011108,陈港,女,0211,20170901\r\n",
      "170403011109,黄红梅,女,0212,20170901\r\n",
      "170403011110,向跃进,男,0213,20170901\r\n",
      "170403011111,朱兴愿,女,0214,20170901\r\n",
      "170403011112,黎绚婷,女,0215,20170901\r\n"
     ]
    }
   ],
   "source": [
    "# 根据对应的班级编号创建新的学号\n",
    "ids_left = np.char.ljust(student_ids[dup_indices], 4) \n",
    "ids_center = students_info[1:, 3][dup_indices]\n",
    "ids_right = np.array([s[-4:] for s in student_ids[dup_indices]])\n",
    "ids_new = np.char.add(ids_left, ids_center)\n",
    "ids_new = np.char.add(ids_new, ids_right)\n",
    "# 替换\n",
    "students_info[1:, 0][dup_indices] = ids_new\n",
    "# 存储\n",
    "np.savetxt('学生信息表-6.csv',students_info, fmt='%s', delimiter=',')\n",
    "!cat 学生信息表-6.csv | tail -n 10"
   ]
  },
  {
   "cell_type": "markdown",
   "metadata": {},
   "source": [
    "#### 第7题  （难易程度：**）\n",
    "\n",
    "结合**班级信息表**和**学生信息表**，统计不同院系的入学人数，并绘制条形图，其中横坐标为入学人数，纵坐标为院系名称，标题为“院系入学人数”。图表保存为“2017院系入学人数-7.png\"文件。"
   ]
  },
  {
   "cell_type": "code",
   "execution_count": 30,
   "metadata": {},
   "outputs": [
    {
     "data": {
      "text/plain": [
       "(array(['信息科学技术学院', '经济管理学院', '计算机学院', '软件与微电子学院'], dtype='<U9'),\n",
       " array([12, 15, 19, 12]),\n",
       " [164, 179, 246, 171])"
      ]
     },
     "execution_count": 30,
     "metadata": {},
     "output_type": "execute_result"
    }
   ],
   "source": [
    "# 操作代码\n",
    "# 先利用学生信息表统计每个班级的学生人数\n",
    "_, stu_counts = np.unique(students_info[1:, 3], return_counts=True)\n",
    "# 在利用班级信息表统计不同院系的班级数\n",
    "dep_names, class_counts = np.unique(classes_info[1:, 3], return_counts=True)\n",
    "\n",
    "# 统计不同院系的入学人数\n",
    "# 注：大家可以对此函数进行泛化，能够应对任何类似这种跨表统计的情况\n",
    "# 这里定义函数仅仅是为了避免重复，但泛化程度差，复用率低。下题和本题类似，故可以复用此函数。\n",
    "def dep_stu_counts(stu_counts, class_counts):\n",
    "    dep_stu_counts = []\n",
    "\n",
    "    from_index = 0\n",
    "    for class_count in class_counts:\n",
    "        stu_count = np.sum(stu_counts[from_index:from_index + class_count])\n",
    "        dep_stu_counts.append(stu_count)\n",
    "        from_index = from_index + class_count\n",
    "    \n",
    "    return dep_stu_counts\n",
    "\n",
    "dept_counts = dep_stu_counts(stu_counts, class_counts)\n",
    "\n",
    "dep_names, class_counts, dept_counts"
   ]
  },
  {
   "cell_type": "code",
   "execution_count": 31,
   "metadata": {},
   "outputs": [
    {
     "data": {
      "image/png": "[encoded data removed]",
      "text/plain": [
       "<Figure size 576x432 with 1 Axes>"
      ]
     },
     "metadata": {
      "needs_background": "light"
     },
     "output_type": "display_data"
    }
   ],
   "source": [
    "# 绘图\n",
    "plt.figure(figsize=(8, 6))\n",
    "plt.rc('font', size=14, family='Arial Unicode MS')\n",
    "\n",
    "plt.bar(dep_names, dept_counts)\n",
    "\n",
    "plt.title('院系入学人数')\n",
    "plt.xlabel('院系名称', color='r')\n",
    "plt.ylabel('入学人数', color='r')\n",
    "\n",
    "plt.show()"
   ]
  },
  {
   "cell_type": "markdown",
   "metadata": {},
   "source": [
    "#### 第8题 （难易程度：**）\n",
    "\n",
    "结合**班级信息表**和**学生信息表**统计**不同院系**的入学男女生人数，并绘制堆叠式柱状图。"
   ]
  },
  {
   "cell_type": "code",
   "execution_count": 32,
   "metadata": {},
   "outputs": [],
   "source": [
    "# 先把常用的代码封装为函数，后面可能重复使用\n",
    "def order_by(array2d, col_index):\n",
    "    sorted_indices = np.argsort(array2d[:, col_index])\n",
    "    return array2d[:, sorted_indices]\n",
    "\n",
    "def value_counts(array2d, col_index):\n",
    "    values, counts = np.unique(array2d[:, col_index], return_counts=True)\n",
    "    return np.hstack((values.reshape(-1,1), counts.reshape(-1,1)))"
   ]
  },
  {
   "cell_type": "code",
   "execution_count": 33,
   "metadata": {},
   "outputs": [
    {
     "data": {
      "text/plain": [
       "((447, 5), (313, 5))"
      ]
     },
     "execution_count": 33,
     "metadata": {},
     "output_type": "execute_result"
    }
   ],
   "source": [
    "# 操作代码\n",
    "# 先男女拆分\n",
    "male_students = students_info[students_info[:,2]=='男']\n",
    "female_students = students_info[students_info[:,2]=='女']\n",
    "male_students.shape, female_students.shape"
   ]
  },
  {
   "cell_type": "code",
   "execution_count": 34,
   "metadata": {},
   "outputs": [
    {
     "data": {
      "text/plain": [
       "array([['信息科学技术学院', '12'],\n",
       "       ['经济管理学院', '15'],\n",
       "       ['计算机学院', '19'],\n",
       "       ['软件与微电子学院', '12']], dtype='<U21')"
      ]
     },
     "execution_count": 34,
     "metadata": {},
     "output_type": "execute_result"
    }
   ],
   "source": [
    "male_counts_by_class = value_counts(male_students, 3)\n",
    "female_counts_by_class = value_counts(female_students, 3)\n",
    "class_counts_by_dep = value_counts(classes_info[1:,], 3)\n",
    "class_counts_by_dep"
   ]
  },
  {
   "cell_type": "code",
   "execution_count": 35,
   "metadata": {},
   "outputs": [
    {
     "data": {
      "text/plain": [
       "([103, 110, 132, 102], [61, 69, 114, 69])"
      ]
     },
     "execution_count": 35,
     "metadata": {},
     "output_type": "execute_result"
    }
   ],
   "source": [
    "male_counts_by_dep = dep_stu_counts(male_counts_by_class[:,1].astype('i4'), \n",
    "                                    class_counts_by_dep[:,1].astype('i4'))\n",
    "female_counts_by_dep = dep_stu_counts(female_counts_by_class[:,1].astype('i4'),\n",
    "                                    class_counts_by_dep[:,1].astype('i4'))\n",
    "male_counts_by_dep, female_counts_by_dep"
   ]
  },
  {
   "cell_type": "code",
   "execution_count": 36,
   "metadata": {},
   "outputs": [
    {
     "data": {
      "image/png": "[encoded data removed]",
      "text/plain": [
       "<Figure size 576x432 with 1 Axes>"
      ]
     },
     "metadata": {
      "needs_background": "light"
     },
     "output_type": "display_data"
    }
   ],
   "source": [
    "# 绘图\n",
    "plt.figure(figsize=(8, 6))\n",
    "plt.rc('font', size=10, family='Arial Unicode MS')\n",
    "\n",
    "dep_names = class_counts_by_dep[:,0]\n",
    "\n",
    "p1 = plt.bar(dep_names, male_counts_by_dep)\n",
    "p2 = plt.bar(dep_names, female_counts_by_dep, bottom=male_counts_by_dep)\n",
    "\n",
    "plt.xlabel('院系名称',fontsize=16)\n",
    "plt.ylabel('男女生人数', fontsize=16)\n",
    "\n",
    "plt.title('院系男女生人数对比', fontsize=20)\n",
    "\n",
    "plt.savefig('院系男女生人数对比.png')\n",
    "plt.show()"
   ]
  },
  {
   "cell_type": "markdown",
   "metadata": {},
   "source": [
    "#### 第9题 （难易程度：** ）\n",
    "\n",
    "将**学生信息表**和**学生成绩表**合并为一张新表，**保留**没有对应成绩的行，合并后缺失的成绩通过**随机选取**的方式从前面具有成绩的行中选取并填充缺失值。新表保存为\"学生成绩表-9.csv\"。"
   ]
  },
  {
   "cell_type": "code",
   "execution_count": 37,
   "metadata": {},
   "outputs": [
    {
     "name": "stdout",
     "output_type": "stream",
     "text": [
      "(761, 5) (128, 5)\n",
      "['学号' '姓名' '性别' '所属班级编号' '入学日期'] ['学号' '姓名' '性别' '所属班级编号' '入学成绩']\n"
     ]
    }
   ],
   "source": [
    "# 操作代码\n",
    "print(students_info.shape, students_scores.shape)\n",
    "print(students_info[0,:], students_scores[0,:])"
   ]
  },
  {
   "cell_type": "code",
   "execution_count": 38,
   "metadata": {},
   "outputs": [
    {
     "name": "stdout",
     "output_type": "stream",
     "text": [
      "170403011103,黎世顺,男,0206,20170901,358\r\n",
      "170403011104,王春香,女,0207,20170901,437\r\n",
      "170403011105,罗印,男,0208,20170901,501\r\n",
      "170403011106,文富艳,男,0209,20170901,499\r\n",
      "170403011107,杨冰凤,女,0210,20170901,348\r\n",
      "170403011108,陈港,女,0211,20170901,356\r\n",
      "170403011109,黄红梅,女,0212,20170901,340\r\n",
      "170403011110,向跃进,男,0213,20170901,274\r\n",
      "170403011111,朱兴愿,女,0214,20170901,447\r\n",
      "170403011112,黎绚婷,女,0215,20170901,287\r\n"
     ]
    }
   ],
   "source": [
    "rnd_indices = np.random.randint(1, 128, size=(len(students_info) - len(students_scores),))\n",
    "rnd_scores = students_scores[:, 4][rnd_indices]\n",
    "new_scores = np.concatenate((students_scores[:,4], rnd_scores))\n",
    "student_scores_new = np.concatenate((students_info, new_scores.reshape(-1,1)), axis=1)\n",
    "np.savetxt('学生成绩表-9.csv', student_scores_new, fmt='%s', delimiter=',')\n",
    "!cat 学生成绩表-9.csv | tail -n 10"
   ]
  },
  {
   "cell_type": "markdown",
   "metadata": {},
   "source": [
    "#### 第10题 （难易程度：**）\n",
    "\n",
    "在第9题操作的基础上：\n",
    "\n",
    "1. 计算**新表**中学生成绩的均值，方差、标准差和中位数\n",
    "2. 绘制**新表**和**学生入学成绩表**入学成绩的箱线图，比较二者成绩分布的差异，以了解上述成绩填充的方式是否合理。图表标题为\"成绩分布对比\"，保存为\"成绩分布对比-10.png\"。"
   ]
  },
  {
   "cell_type": "code",
   "execution_count": 39,
   "metadata": {},
   "outputs": [
    {
     "name": "stdout",
     "output_type": "stream",
     "text": [
      "均值：406.62\n",
      "方差：9371.37\n",
      "标准差：96.81\n",
      "中位数： 431.0\n"
     ]
    }
   ],
   "source": [
    "# 操作代码\n",
    "print('均值：{:.2f}'.format(new_scores[1:].astype('f4').mean()))\n",
    "print('方差：{:.2f}'.format(new_scores[1:].astype('f4').var()))\n",
    "print('标准差：{:.2f}'.format(new_scores[1:].astype('f4').std()))\n",
    "print('中位数：', np.median(new_scores[1:].astype('f4')))"
   ]
  },
  {
   "cell_type": "code",
   "execution_count": 40,
   "metadata": {},
   "outputs": [
    {
     "data": {
      "image/png": "[encoded data removed]",
      "text/plain": [
       "<Figure size 720x576 with 2 Axes>"
      ]
     },
     "metadata": {
      "needs_background": "light"
     },
     "output_type": "display_data"
    }
   ],
   "source": [
    "fig, (ax1, ax2) = plt.subplots(1, 2, figsize=(10, 8), sharey=True)\n",
    "\n",
    "red_square = dict(markerfacecolor='r', marker='s')\n",
    "blue_circle = dict(markerfacecolor='b', marker='o')\n",
    "\n",
    "ax1.boxplot(new_scores[1:].astype('f4'), flierprops=red_square)\n",
    "\n",
    "ax2.boxplot(students_scores[1:, 4].astype('f4'), flierprops=blue_circle)\n",
    "\n",
    "ax1.grid()\n",
    "ax1.set_title('新表成绩分布')\n",
    "ax2.grid()\n",
    "ax2.set_title('旧表成绩分布')\n",
    "\n",
    "plt.subplots_adjust(wspace=0)\n",
    "plt.suptitle('成绩分布对比',fontsize=16)\n",
    "plt.savefig('成绩分布对比-10.png')\n",
    "\n",
    "plt.show()"
   ]
  },
  {
   "cell_type": "markdown",
   "metadata": {},
   "source": [
    "#### 第11题 （难易程度：**）\n",
    "\n",
    "在第9题操作的基础上：\n",
    "\n",
    "1. 输出**新表**入学成绩最高和最低的学生姓名、所属班级和院系名称。注：若存在多个，则全部输出\n",
    "2. 将**新表**和**班级信息表**连接为完整的**新生入学成绩表**，并保存为\"新生入学成绩表-11.csv\"文件"
   ]
  },
  {
   "cell_type": "code",
   "execution_count": 41,
   "metadata": {},
   "outputs": [
    {
     "data": {
      "text/plain": [
       "(53, 677)"
      ]
     },
     "execution_count": 41,
     "metadata": {},
     "output_type": "execute_result"
    }
   ],
   "source": [
    "# 操作代码\n",
    "new_scores = new_scores[1:,].astype('i4')\n",
    "score_min = new_scores.min()\n",
    "score_max = new_scores.max()\n",
    "score_min, score_max"
   ]
  },
  {
   "cell_type": "code",
   "execution_count": 42,
   "metadata": {},
   "outputs": [
    {
     "data": {
      "text/plain": [
       "(array([['170402011055', '陈美文', '男', '0106', '20170901', '53'],\n",
       "        ['170401231127', '吴玉梅', '男', '0123', '20170901', '53']],\n",
       "       dtype='<U13'),\n",
       " array([['170403011064', '骆青', '男', '0107', '20170901', '677'],\n",
       "        ['170401291099', '史欢', '女', '0129', '20170901', '677'],\n",
       "        ['170402191107', '罗建雄', '男', '0219', '20170901', '677'],\n",
       "        ['170402111114', '张伟', '男', '0211', '20170901', '677'],\n",
       "        ['170401151102', '许春梅', '女', '0115', '20170901', '677'],\n",
       "        ['170401131116', '蒲绍缔', '男', '0113', '20170901', '677']],\n",
       "       dtype='<U13'))"
      ]
     },
     "execution_count": 42,
     "metadata": {},
     "output_type": "execute_result"
    }
   ],
   "source": [
    "students_min = student_scores_new[1:,][new_scores == score_min]\n",
    "students_max = student_scores_new[1:,][new_scores == score_max]\n",
    "students_min, students_max"
   ]
  },
  {
   "cell_type": "code",
   "execution_count": 62,
   "metadata": {},
   "outputs": [],
   "source": [
    "# 如果从第2题之前就定义此函数，可节约一半的时间\n",
    "def array_left_join(arr_left, arr_right, left_on, right_on, has_header=True):\n",
    "    '''\n",
    "    简单的数组左连接函数\n",
    "    :param arr_left 主表（二维数组）\n",
    "    :param arr_right 外表（引用表）\n",
    "    :param left_on 主表外键列索引\n",
    "    :param right_on 外部主键列索引\n",
    "    :param has_header 是否包含表头(可选，默认为True)\n",
    "    :return 连接后的宽表\n",
    "    '''\n",
    "    rows_joined = []\n",
    "    if has_header:\n",
    "        header = np.append(arr_left[0], arr_right[0])\n",
    "        rows_joined.append(header)\n",
    "        arr_left = arr_left[1:]\n",
    "        arr_right = arr_right[1:]\n",
    "    for row in arr_left:\n",
    "        selection = arr_right[:, right_on] == row[left_on]\n",
    "        row_joined = np.append(row, arr_right[selection])\n",
    "        rows_joined.append(row_joined)\n",
    "    return np.array(rows_joined)"
   ]
  },
  {
   "cell_type": "code",
   "execution_count": 61,
   "metadata": {},
   "outputs": [
    {
     "name": "stdout",
     "output_type": "stream",
     "text": [
      "---------------成绩最低的学生信息---------------\n",
      "[['陈美文' '智能科学三班' '计算机学院' '53']\n",
      " ['吴玉梅' '金融一班' '经济管理学院' '53']]\n",
      "---------------成绩最高的学生信息---------------\n",
      "[['骆青' '智能科学四班' '计算机学院' '677']\n",
      " ['史欢' '经济一班' '经济管理学院' '677']\n",
      " ['罗建雄' '宇航三班' '信息科学技术学院' '677']\n",
      " ['张伟' '电子通信一班' '软件与微电子学院' '677']\n",
      " ['许春梅' '网络计算二班' '计算机学院' '677']\n",
      " ['蒲绍缔' '数字图像处理三班' '计算机学院' '677']]\n"
     ]
    }
   ],
   "source": [
    "students_min_joined = array_left_join(students_min, classes_info, 3, 0, has_header=False)\n",
    "students_max_joined = array_left_join(students_max, classes_info, 3, 0, has_header=False)\n",
    "print('-' * 15 + '成绩最低的学生信息' + '-' * 15)\n",
    "print(students_min_joined[:, [1, 7, 9, 5]])\n",
    "print('-' * 15 + '成绩最高的学生信息' + '-' * 15)\n",
    "print(students_max_joined[:, [1, 7, 9, 5]])"
   ]
  },
  {
   "cell_type": "code",
   "execution_count": 66,
   "metadata": {},
   "outputs": [
    {
     "name": "stdout",
     "output_type": "stream",
     "text": [
      "学号,姓名,性别,入学日期,入学成绩,班级编号,班级名称,所属院系中文名\r\n",
      "170401011001,施礼义,男,20170901,467,0101,计算机一班,计算机学院\r\n",
      "170401011002,王旭,男,20170901,518,0101,计算机一班,计算机学院\r\n",
      "170401011003,肖桢,女,20170901,509,0101,计算机一班,计算机学院\r\n",
      "170401011004,吴佩东,男,20170901,508,0101,计算机一班,计算机学院\r\n",
      "170401011005,魏会,男,20170901,494,0101,计算机一班,计算机学院\r\n",
      "170401011006,曾美,女,20170901,500,0101,计算机一班,计算机学院\r\n",
      "170401011007,邵亚,女,20170901,490,0101,计算机一班,计算机学院\r\n",
      "170401011008,朱燕菊,女,20170901,466,0101,计算机一班,计算机学院\r\n",
      "170401011009,杨明书,男,20170901,534,0101,计算机一班,计算机学院\r\n"
     ]
    }
   ],
   "source": [
    "student_enrol_scores_full = array_left_join(student_scores_new, classes_info, 3, 0)\n",
    "# 保存之前应该删除重复列\n",
    "student_enrol_scores_full = np.delete(student_enrol_scores_full, [3, 8], axis=1)\n",
    "np.savetxt('新生入学成绩表-11.csv', student_enrol_scores_full, fmt='%s', delimiter=',')\n",
    "!cat 新生入学成绩表-11.csv | head -n 10"
   ]
  },
  {
   "cell_type": "markdown",
   "metadata": {},
   "source": [
    "#### 第12题 （难易程度：**）\n",
    "\n",
    "在第11题操作的基础上：\n",
    "\n",
    "1. 将完整的**新生入学成绩表**按照院系拆分4个表，分别保存为形如\"<院系名称>入学成绩表-12.csv\"的文件"
   ]
  },
  {
   "cell_type": "code",
   "execution_count": 67,
   "metadata": {},
   "outputs": [
    {
     "data": {
      "text/plain": [
       "array([['院系编号', '院系名称'],\n",
       "       ['01', '计算机学院'],\n",
       "       ['02', '经济管理学院'],\n",
       "       ['03', '软件与微电子学院'],\n",
       "       ['04', '信息科学技术学院']], dtype='<U8')"
      ]
     },
     "execution_count": 67,
     "metadata": {},
     "output_type": "execute_result"
    }
   ],
   "source": [
    "# 操作代码\n",
    "departments_info"
   ]
  },
  {
   "cell_type": "code",
   "execution_count": 82,
   "metadata": {},
   "outputs": [
    {
     "name": "stdout",
     "output_type": "stream",
     "text": [
      "-------------------------计算机学院(251人)-------------------------\n",
      "[['学号' '姓名' '性别' ... '班级编号' '班级名称' '所属院系中文名']\n",
      " ['170401011001' '施礼义' '男' ... '0101' '计算机一班' '计算机学院']\n",
      " ['170401011002' '王旭' '男' ... '0101' '计算机一班' '计算机学院']\n",
      " ...\n",
      " ['170401171120' '王伟' '女' ... '0117' '信息工程一班' '计算机学院']\n",
      " ['170401181121' '胡蓉' '女' ... '0118' '信息工程二班' '计算机学院']\n",
      " ['170401191122' '邵宝' '男' ... '0119' '信息工程三班' '计算机学院']]\n",
      "-------------------------经济管理学院(185人)-------------------------\n",
      "[['学号' '姓名' '性别' ... '班级编号' '班级名称' '所属院系中文名']\n",
      " ['170401201103' '邓云' '男' ... '0120' '管理科学与工程一班' '经济管理学院']\n",
      " ['170401201104' '胡雪' '女' ... '0120' '管理科学与工程一班' '经济管理学院']\n",
      " ...\n",
      " ['170403011099' '潘林' '男' ... '0202' '工商管理一班' '经济管理学院']\n",
      " ['170403011100' '刘伟' '男' ... '0203' '工商管理二班' '经济管理学院']\n",
      " ['170403011101' '杨佳威' '男' ... '0204' '工商管理三班' '经济管理学院']]\n",
      "-------------------------软件与微电子学院(156人)-------------------------\n",
      "[['学号' '姓名' '性别' ... '班级编号' '班级名称' '所属院系中文名']\n",
      " ['170402051119' '葛军' '男' ... '0205' '软件开发一班' '软件与微电子学院']\n",
      " ['170402051120' '叶龙' '男' ... '0205' '软件开发一班' '软件与微电子学院']\n",
      " ...\n",
      " ['170403011110' '向跃进' '男' ... '0213' '电子通信三班' '软件与微电子学院']\n",
      " ['170403011111' '朱兴愿' '女' ... '0214' '电子金融一班' '软件与微电子学院']\n",
      " ['170403011112' '黎绚婷' '女' ... '0215' '电子金融二班' '软件与微电子学院']]\n",
      "-------------------------信息科学技术学院(172人)-------------------------\n",
      "[['学号' '姓名' '性别' ... '班级编号' '班级名称' '所属院系中文名']\n",
      " ['170402171119' '胡茂丽' '男' ... '0217' '宇航一班' '信息科学技术学院']\n",
      " ['170402171120' '胡欢' '男' ... '0217' '宇航一班' '信息科学技术学院']\n",
      " ...\n",
      " ['170402261101' '陈茂' '男' ... '0226' '材料一班' '信息科学技术学院']\n",
      " ['170402271102' '李雪梅' '女' ... '0227' '材料二班' '信息科学技术学院']\n",
      " ['170402281103' '张广杨' '男' ... '0228' '材料三班' '信息科学技术学院']]\n"
     ]
    }
   ],
   "source": [
    "header = student_enrol_scores_full[0]\n",
    "for department in departments_info[1:]:\n",
    "    splited = student_enrol_scores_full[1:][student_enrol_scores_full[1:,7]==department[1]]\n",
    "    splited = np.vstack((header, splited))\n",
    "    np.savetxt('{}入学成绩表-12.csv'.format(department[1]), splited, fmt='%s', delimiter=',')\n",
    "    print('-' * 25 + '{}({}人)'.format(department[1], len(splited)) + '-' * 25)\n",
    "    print(splited)"
   ]
  },
  {
   "cell_type": "markdown",
   "metadata": {},
   "source": [
    "2. 将完整的**新生入学成绩表**按入学成绩的**中位数**将**新表**拆分为两个表，分别保存为\"学生成绩表-高于中等-12.csv\"和\"学生成绩表-低于中等-12.csv\"文件"
   ]
  },
  {
   "cell_type": "code",
   "execution_count": 103,
   "metadata": {},
   "outputs": [
    {
     "name": "stdout",
     "output_type": "stream",
     "text": [
      "--------------------学生成绩表-高于中等-12.csv(431.0,367人)--------------------\n",
      "[['170401011001' '施礼义' '男' '20170901' '467' '0101' '计算机一班' '计算机学院']\n",
      " ['170401011002' '王旭' '男' '20170901' '518' '0101' '计算机一班' '计算机学院']\n",
      " ['170401011003' '肖桢' '女' '20170901' '509' '0101' '计算机一班' '计算机学院']\n",
      " ['170401011004' '吴佩东' '男' '20170901' '508' '0101' '计算机一班' '计算机学院']\n",
      " ['170401011005' '魏会' '男' '20170901' '494' '0101' '计算机一班' '计算机学院']\n",
      " ['170401011006' '曾美' '女' '20170901' '500' '0101' '计算机一班' '计算机学院']\n",
      " ['170401011007' '邵亚' '女' '20170901' '490' '0101' '计算机一班' '计算机学院']\n",
      " ['170401011008' '朱燕菊' '女' '20170901' '466' '0101' '计算机一班' '计算机学院']\n",
      " ['170401011009' '杨明书' '男' '20170901' '534' '0101' '计算机一班' '计算机学院']\n",
      " ['170401011010' '张伟' '男' '20170901' '507' '0101' '计算机一班' '计算机学院']\n",
      " ['170401011011' '张宁波' '男' '20170901' '479' '0102' '计算机二班' '计算机学院']]\n",
      "--------------------学生成绩表-低于中等-12.csv(431.0,374人)--------------------\n",
      "[['170401011016' '周鹏琼' '女' '20170901' '425' '0102' '计算机二班' '计算机学院']\n",
      " ['170401011018' '黄城' '男' '20170901' '383' '0102' '计算机二班' '计算机学院']\n",
      " ['170401011019' '颜旺' '男' '20170901' '352' '0102' '计算机二班' '计算机学院']\n",
      " ['170401011020' '龙位' '男' '20170901' '387' '0102' '计算机二班' '计算机学院']\n",
      " ['170401011024' '韩婷' '女' '20170901' '414' '0103' '计算机三班' '计算机学院']\n",
      " ['170401011029' '杨友龙' '男' '20170901' '261' '0103' '计算机三班' '计算机学院']\n",
      " ['170402011031' '张兴刚' '男' '20170901' '364' '0104' '智能科学一班' '计算机学院']\n",
      " ['170402011033' '汪联' '男' '20170901' '418' '0104' '智能科学一班' '计算机学院']\n",
      " ['170402011034' '王芳' '女' '20170901' '410' '0104' '智能科学一班' '计算机学院']\n",
      " ['170402011035' '孟从伍' '男' '20170901' '408' '0104' '智能科学一班' '计算机学院']\n",
      " ['170402011036' '李滔滔' '男' '20170901' '407' '0104' '智能科学一班' '计算机学院']]\n"
     ]
    }
   ],
   "source": [
    "scores = student_enrol_scores_full[1:, 4].astype('i2')\n",
    "median = np.median(scores)\n",
    "\n",
    "def split_scores(scores, ref_score, fname1, fname2):\n",
    "    t1 = student_enrol_scores_full[1:][scores > ref_score]\n",
    "    t2 = student_enrol_scores_full[1:][scores < ref_score]\n",
    "    np.savetxt(fname1, t1, fmt='%s', delimiter=',')\n",
    "    np.savetxt(fname2, t2, fmt='%s', delimiter=',')\n",
    "    print('-'* 20 + fname1 + '({:.1f},{}人)'.format(ref_score, len(t1)) + '-'* 20)\n",
    "    print(t1[:11])\n",
    "    print('-'* 20 + fname2 + '({:.1f},{}人)'.format(ref_score, len(t2)) + '-'* 20)\n",
    "    print(t2[:11])\n",
    "\n",
    "split_scores(scores, median, '学生成绩表-高于中等-12.csv', '学生成绩表-低于中等-12.csv')"
   ]
  },
  {
   "cell_type": "markdown",
   "metadata": {},
   "source": [
    "3. 将完整的**新生入学成绩表**按入学成绩的**均值**将**新表**拆分为两个表，分别保存为\"学生成绩表-高于平均-12.csv\"和\"学生成绩表-低于平均-12.csv\"文件"
   ]
  },
  {
   "cell_type": "code",
   "execution_count": 102,
   "metadata": {},
   "outputs": [
    {
     "name": "stdout",
     "output_type": "stream",
     "text": [
      "--------------------学生成绩表-高于平均-12.csv(406.62,437人)--------------------\n",
      "[['170401011001' '施礼义' '男' '20170901' '467' '0101' '计算机一班' '计算机学院']\n",
      " ['170401011002' '王旭' '男' '20170901' '518' '0101' '计算机一班' '计算机学院']\n",
      " ['170401011003' '肖桢' '女' '20170901' '509' '0101' '计算机一班' '计算机学院']\n",
      " ['170401011004' '吴佩东' '男' '20170901' '508' '0101' '计算机一班' '计算机学院']\n",
      " ['170401011005' '魏会' '男' '20170901' '494' '0101' '计算机一班' '计算机学院']\n",
      " ['170401011006' '曾美' '女' '20170901' '500' '0101' '计算机一班' '计算机学院']\n",
      " ['170401011007' '邵亚' '女' '20170901' '490' '0101' '计算机一班' '计算机学院']\n",
      " ['170401011008' '朱燕菊' '女' '20170901' '466' '0101' '计算机一班' '计算机学院']\n",
      " ['170401011009' '杨明书' '男' '20170901' '534' '0101' '计算机一班' '计算机学院']\n",
      " ['170401011010' '张伟' '男' '20170901' '507' '0101' '计算机一班' '计算机学院']\n",
      " ['170401011011' '张宁波' '男' '20170901' '479' '0102' '计算机二班' '计算机学院']]\n",
      "--------------------学生成绩表-低于平均-12.csv(406.62,323人)--------------------\n",
      "[['170401011018' '黄城' '男' '20170901' '383' '0102' '计算机二班' '计算机学院']\n",
      " ['170401011019' '颜旺' '男' '20170901' '352' '0102' '计算机二班' '计算机学院']\n",
      " ['170401011020' '龙位' '男' '20170901' '387' '0102' '计算机二班' '计算机学院']\n",
      " ['170401011029' '杨友龙' '男' '20170901' '261' '0103' '计算机三班' '计算机学院']\n",
      " ['170402011031' '张兴刚' '男' '20170901' '364' '0104' '智能科学一班' '计算机学院']\n",
      " ['170402011037' '越信红' '女' '20170901' '401' '0104' '智能科学一班' '计算机学院']\n",
      " ['170402011038' '简丽玲' '女' '20170901' '355' '0104' '智能科学一班' '计算机学院']\n",
      " ['170402011039' '刘金' '女' '20170901' '399' '0104' '智能科学一班' '计算机学院']\n",
      " ['170402011040' '潘菊' '女' '20170901' '348' '0104' '智能科学一班' '计算机学院']\n",
      " ['170402011041' '帅智红' '女' '20170901' '358' '0105' '智能科学二班' '计算机学院']\n",
      " ['170402011042' '王旭' '男' '20170901' '356' '0105' '智能科学二班' '计算机学院']]\n"
     ]
    }
   ],
   "source": [
    "scores = student_enrol_scores_full[1:, 4].astype('i2')\n",
    "mean = np.mean(scores)\n",
    "\n",
    "split_scores(scores, mean, '学生成绩表-高于平均-12.csv', '学生成绩表-低于平均-12.csv')"
   ]
  },
  {
   "cell_type": "code",
   "execution_count": null,
   "metadata": {},
   "outputs": [],
   "source": []
  }
 ],
 "metadata": {
  "kernelspec": {
   "display_name": "Python 3",
   "language": "python",
   "name": "python3"
  },
  "language_info": {
   "codemirror_mode": {
    "name": "ipython",
    "version": 3
   },
   "file_extension": ".py",
   "mimetype": "text/x-python",
   "name": "python",
   "nbconvert_exporter": "python",
   "pygments_lexer": "ipython3",
   "version": "3.7.3"
  },
  "toc": {
   "base_numbering": 1,
   "nav_menu": {},
   "number_sections": false,
   "sideBar": true,
   "skip_h1_title": false,
   "title_cell": "Table of Contents",
   "title_sidebar": "Contents",
   "toc_cell": false,
   "toc_position": {
    "height": "calc(100% - 180px)",
    "left": "10px",
    "top": "150px",
    "width": "166.179px"
   },
   "toc_section_display": true,
   "toc_window_display": true
  }
 },
 "nbformat": 4,
 "nbformat_minor": 2
}
