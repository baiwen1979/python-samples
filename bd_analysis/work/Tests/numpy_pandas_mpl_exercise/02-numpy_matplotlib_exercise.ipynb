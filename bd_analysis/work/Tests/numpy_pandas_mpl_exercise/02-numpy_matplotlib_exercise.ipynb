{
 "cells": [
  {
   "cell_type": "markdown",
   "metadata": {},
   "source": [
    "# 数据分析实操专题练习-Numpy\n",
    "---\n",
    "\n",
    "**习题说明：**\n",
    "\n",
    "- 练习时间：6小时\n",
    "- 练习环境：jupyter notebook\n",
    "- 练习要求：所有操作命令或代码均在此notebook文件中编写，完整的Python程序可新建为扩展名为.py的文本文件，然后在本notebook中使用命令或者以引入模块的方式调用执行。程序运行结果必须在此notebook中输出，具体输出方法可见题目中的**操作说明**。\n",
    "\n",
    "## 数据预处理与可视化\n",
    "\n",
    "### 数据描述\n",
    "\n",
    "高校学生入学成绩数据分为4个数据文件，分别为：\n",
    "\n",
    "- 班级信息表（data/班级信息表.txt）\n",
    "- 学生信息表（data/学生信息表.txt）\n",
    "- 院系信息表（data/院系信息表.txt）\n",
    "- 学生成绩表（data/学生成绩表.txt）\n",
    "\n",
    "\n",
    "### 题目要求\n",
    "\n",
    "请使用**numpy**编程完成以下操作任务。【注：只能使用numpy和matplotlib，禁止使用第三方工具包】\n",
    "\n",
    "#### 第1题（难易程度：* ）\n",
    "\n",
    "分别导入上述数据文件，完成以下操作：\n",
    "\n",
    "1. 输出每个数据表的行列数（形状）和头5行\n",
    "2. 去除院系信息表和学生信息表中的重复行和空白字符，处理后的数据分别保存为\"院系信息表-1.csv\"和\"学生信息表-1.csv\"文件"
   ]
  },
  {
   "cell_type": "code",
   "execution_count": null,
   "metadata": {},
   "outputs": [],
   "source": [
    "# 操作代码\n"
   ]
  },
  {
   "cell_type": "markdown",
   "metadata": {},
   "source": [
    "#### 第2题（难易程度：* ）\n",
    "\n",
    "1. 将学生成绩表按列划分为两个表，分别为**学生基本信息表**（学号，姓名，性别，所属班级编号）和**学号成绩表**（学号，入学成绩），分别保存为\"学生基本信息表-2.csv\"和\"学号成绩表-2.csv\"\n",
    "\n",
    "2. 将学生信息表拆分为两个表，分别为学生基本信息表2（学号，姓名，性别，所属班级编号）和入学日期表（学号，入学日期），分别保存为\"学生基本信息表-2-2.csv\"和\"入学日期表-2.csv\"\n",
    "\n",
    "3. 将**学生基本信息表**，**入学日期表**和**学号成绩表**合并为**学生入学成绩表**，忽略没有对应成绩的行，并保存为\"学生入学成绩表-2.csv\""
   ]
  },
  {
   "cell_type": "code",
   "execution_count": null,
   "metadata": {},
   "outputs": [],
   "source": [
    "# 操作代码\n"
   ]
  },
  {
   "cell_type": "markdown",
   "metadata": {},
   "source": [
    "#### 第3题（难易程度：* ）\n",
    "\n",
    "统计**学生信息表**中的男女生比例，绘制爆裂式饼图，标题为\"2017年入学男女生比例\"，并显示男女生的百分比。图表保存为\"2017年入学男女生比例.png\"文件"
   ]
  },
  {
   "cell_type": "code",
   "execution_count": null,
   "metadata": {},
   "outputs": [],
   "source": [
    "# 操作代码\n"
   ]
  },
  {
   "cell_type": "markdown",
   "metadata": {},
   "source": [
    "#### 第4题 （难易程度：**）\n",
    "\n",
    "统计**学生信息表中**不同班级的男生人数和女生人数，并绘制堆叠式柱状图，男生显示为绿色，女生显示为红色。横坐标为班级名称，纵坐标为男女生人数。图表保存为\"班级男女生人数对比.png\""
   ]
  },
  {
   "cell_type": "code",
   "execution_count": 240,
   "metadata": {},
   "outputs": [],
   "source": [
    "# 操作代码\n"
   ]
  },
  {
   "cell_type": "markdown",
   "metadata": {},
   "source": [
    "#### 第5题 （难易程度：**）\n",
    "\n",
    "绘制**学生入学成绩表**入学成绩的箱线图，在图表中以注解的形式显示中位数，最大值、最小值和异常值（如果有的话）"
   ]
  },
  {
   "cell_type": "code",
   "execution_count": null,
   "metadata": {},
   "outputs": [],
   "source": [
    "# 操作代码\n"
   ]
  },
  {
   "cell_type": "markdown",
   "metadata": {},
   "source": [
    "#### 第6题 （难易程度：**）\n",
    "\n",
    "**学生信息表**中的学号存在大量重复，请将这些重复学号的中间4位替换为相应的班级编号。替换后的学生信息表保存为\"学生信息表-6.csv\""
   ]
  },
  {
   "cell_type": "code",
   "execution_count": null,
   "metadata": {},
   "outputs": [],
   "source": [
    "# 操作代码\n"
   ]
  },
  {
   "cell_type": "markdown",
   "metadata": {},
   "source": [
    "#### 第7题  （难易程度：**）\n",
    "\n",
    "结合**班级信息表**和**学生信息表**，统计不同院系的入学人数，并绘制条形图，其中横坐标为入学人数，纵坐标为院系名称，标题为“院系入学人数”。图表保存为“2017院系入学人数-7.png\"文件。"
   ]
  },
  {
   "cell_type": "code",
   "execution_count": null,
   "metadata": {},
   "outputs": [],
   "source": [
    "# 操作代码\n"
   ]
  },
  {
   "cell_type": "markdown",
   "metadata": {},
   "source": [
    "#### 第8题 （难易程度：**）\n",
    "\n",
    "结合**班级信息表**和**学生信息表**统计**不同院系**的入学男女生比例，并绘制堆叠式柱状图。"
   ]
  },
  {
   "cell_type": "code",
   "execution_count": null,
   "metadata": {},
   "outputs": [],
   "source": [
    "# 操作代码\n"
   ]
  },
  {
   "cell_type": "markdown",
   "metadata": {},
   "source": [
    "#### 第9题 （难易程度：** ）\n",
    "\n",
    "将**学生信息表**和**学生成绩表**合并为一张新表，**保留**没有对应成绩的行，合并后缺失的成绩通过**随机选取**的方式从前面具有成绩的行中选取并填充缺失值。新表保存为\"学生成绩表-9.csv\"。"
   ]
  },
  {
   "cell_type": "code",
   "execution_count": null,
   "metadata": {},
   "outputs": [],
   "source": [
    "# 操作代码\n"
   ]
  },
  {
   "cell_type": "markdown",
   "metadata": {},
   "source": [
    "#### 第10题 （难易程度：**）\n",
    "\n",
    "在第9题操作的基础上：\n",
    "\n",
    "1. 计算**新表**中学生成绩的均值，方差、标准差和中位数\n",
    "2. 绘制**新表**和**学生入学成绩表**入学成绩的箱线图，比较二者成绩分布的差异，以了解上述成绩填充的方式是否合理。图表标题为\"成绩分布对比\"，保存为\"成绩分布对比-10.png\"。"
   ]
  },
  {
   "cell_type": "code",
   "execution_count": null,
   "metadata": {},
   "outputs": [],
   "source": [
    "# 操作代码\n"
   ]
  },
  {
   "cell_type": "markdown",
   "metadata": {},
   "source": [
    "#### 第11题 （难易程度：**）\n",
    "\n",
    "在第9题操作的基础上：\n",
    "\n",
    "1. 输出**新表**入学成绩最高和最低的学生姓名、所属班级和院系名称。注：若存在多个，则全部输出\n",
    "2. 将**新表**和**班级信息表**连接为完整的**新生入学成绩表**，并保存为\"新生入学成绩表.csv\"文件"
   ]
  },
  {
   "cell_type": "code",
   "execution_count": null,
   "metadata": {},
   "outputs": [],
   "source": [
    "# 操作代码\n"
   ]
  },
  {
   "cell_type": "markdown",
   "metadata": {},
   "source": [
    "#### 第12题 （难易程度：**）\n",
    "\n",
    "在第11题操作的基础上：\n",
    "\n",
    "1. 将完整的**新生入学成绩表**按照院系拆分4个表，分别保存为形如\"<院系名称>入学成绩表-12.csv\"的文件\n",
    "2. 将完整的**新生入学成绩表**按入学成绩的**中位数**将**新表**拆分为两个表，分别保存为\"学生成绩表-高于中等-12.csv\"和\"学生成绩表-低于中等-12.csv\"文件\n",
    "3. 将完整的**新生入学成绩表**按入学成绩的**均值**将**新表**拆分为两个表，分别保存为\"学生成绩表-高于平均-12.csv\"和\"学生成绩表-低于平均-12.csv\"文件"
   ]
  },
  {
   "cell_type": "code",
   "execution_count": null,
   "metadata": {},
   "outputs": [],
   "source": [
    "# 操作代码\n"
   ]
  }
 ],
 "metadata": {
  "kernelspec": {
   "display_name": "Python 3",
   "language": "python",
   "name": "python3"
  },
  "language_info": {
   "codemirror_mode": {
    "name": "ipython",
    "version": 3
   },
   "file_extension": ".py",
   "mimetype": "text/x-python",
   "name": "python",
   "nbconvert_exporter": "python",
   "pygments_lexer": "ipython3",
   "version": "3.7.3"
  },
  "toc": {
   "base_numbering": 1,
   "nav_menu": {},
   "number_sections": false,
   "sideBar": true,
   "skip_h1_title": false,
   "title_cell": "Table of Contents",
   "title_sidebar": "Contents",
   "toc_cell": false,
   "toc_position": {
    "height": "calc(100% - 180px)",
    "left": "10px",
    "top": "150px",
    "width": "166.179px"
   },
   "toc_section_display": true,
   "toc_window_display": true
  }
 },
 "nbformat": 4,
 "nbformat_minor": 2
}
