{
 "cells": [
  {
   "cell_type": "markdown",
   "metadata": {},
   "source": [
    "# 数据分析实操专题练习答案-Pandas\n",
    "---\n",
    "\n",
    "## 数据预处理与可视化\n",
    "\n",
    "### 数据描述\n",
    "\n",
    "[餐饮订单数据](data/data_desc.htm)分为三个数据文件，分别为：\n",
    "\n",
    "- 用户表（users.xlsx）\n",
    "- 菜品订单表（meal_order_info.csv）\n",
    "- 菜品订单详情表（meal_order_detail.xlsx）\n",
    "\n",
    "\n",
    "### 题目要求\n",
    "\n",
    "请使用**pandas**编程完成以下操作任务。【注：只能使用matplotlib绘制图表，禁止使用第三方绘图包】\n",
    "\n",
    "#### 第1题（难易程度：* ）\n",
    "\n",
    "分别导入上述数据文件（对于包含多个sheet页的Excel数据表，只需导入第1个sheet页），完成以下操作：\n",
    "\n",
    "1. 输出每个数据表的行数和列数"
   ]
  },
  {
   "cell_type": "code",
   "execution_count": 262,
   "metadata": {},
   "outputs": [],
   "source": [
    "# 操作代码\n",
    "import pandas as pd\n",
    "import numpy as np\n",
    "import matplotlib.pyplot as plt\n",
    "import warnings\n",
    "\n",
    "dir(warnings)\n",
    "warnings.filterwarnings('ignore')"
   ]
  },
  {
   "cell_type": "code",
   "execution_count": 47,
   "metadata": {},
   "outputs": [
    {
     "data": {
      "text/plain": [
       "(734, 37)"
      ]
     },
     "execution_count": 47,
     "metadata": {},
     "output_type": "execute_result"
    }
   ],
   "source": [
    "# 读取用户表\n",
    "users = pd.read_excel('data/users.xlsx')\n",
    "users.shape"
   ]
  },
  {
   "cell_type": "code",
   "execution_count": 48,
   "metadata": {},
   "outputs": [
    {
     "data": {
      "text/plain": [
       "(945, 21)"
      ]
     },
     "execution_count": 48,
     "metadata": {},
     "output_type": "execute_result"
    }
   ],
   "source": [
    "# 读取订单信息表\n",
    "orders = pd.read_csv('data/meal_order_info.csv', encoding='gbk')\n",
    "orders.shape"
   ]
  },
  {
   "cell_type": "code",
   "execution_count": 49,
   "metadata": {},
   "outputs": [
    {
     "data": {
      "text/plain": [
       "(2779, 19)"
      ]
     },
     "execution_count": 49,
     "metadata": {},
     "output_type": "execute_result"
    }
   ],
   "source": [
    "# 读取订单详情表\n",
    "order_details = pd.read_excel('data/meal_order_detail.xlsx')\n",
    "order_details.shape"
   ]
  },
  {
   "cell_type": "markdown",
   "metadata": {},
   "source": [
    "2. 输出订单详情表菜品销量（counts和amounts列）的描述性统计\n"
   ]
  },
  {
   "cell_type": "code",
   "execution_count": 50,
   "metadata": {},
   "outputs": [
    {
     "data": {
      "text/html": [
       "<div>\n",
       "<style scoped>\n",
       "    .dataframe tbody tr th:only-of-type {\n",
       "        vertical-align: middle;\n",
       "    }\n",
       "\n",
       "    .dataframe tbody tr th {\n",
       "        vertical-align: top;\n",
       "    }\n",
       "\n",
       "    .dataframe thead th {\n",
       "        text-align: right;\n",
       "    }\n",
       "</style>\n",
       "<table border=\"1\" class=\"dataframe\">\n",
       "  <thead>\n",
       "    <tr style=\"text-align: right;\">\n",
       "      <th></th>\n",
       "      <th>counts</th>\n",
       "      <th>amounts</th>\n",
       "    </tr>\n",
       "  </thead>\n",
       "  <tbody>\n",
       "    <tr>\n",
       "      <th>count</th>\n",
       "      <td>2779.000000</td>\n",
       "      <td>2779.000000</td>\n",
       "    </tr>\n",
       "    <tr>\n",
       "      <th>mean</th>\n",
       "      <td>1.111191</td>\n",
       "      <td>45.337172</td>\n",
       "    </tr>\n",
       "    <tr>\n",
       "      <th>std</th>\n",
       "      <td>0.625428</td>\n",
       "      <td>36.808550</td>\n",
       "    </tr>\n",
       "    <tr>\n",
       "      <th>min</th>\n",
       "      <td>1.000000</td>\n",
       "      <td>1.000000</td>\n",
       "    </tr>\n",
       "    <tr>\n",
       "      <th>25%</th>\n",
       "      <td>1.000000</td>\n",
       "      <td>25.000000</td>\n",
       "    </tr>\n",
       "    <tr>\n",
       "      <th>50%</th>\n",
       "      <td>1.000000</td>\n",
       "      <td>35.000000</td>\n",
       "    </tr>\n",
       "    <tr>\n",
       "      <th>75%</th>\n",
       "      <td>1.000000</td>\n",
       "      <td>56.000000</td>\n",
       "    </tr>\n",
       "    <tr>\n",
       "      <th>max</th>\n",
       "      <td>10.000000</td>\n",
       "      <td>178.000000</td>\n",
       "    </tr>\n",
       "  </tbody>\n",
       "</table>\n",
       "</div>"
      ],
      "text/plain": [
       "            counts      amounts\n",
       "count  2779.000000  2779.000000\n",
       "mean      1.111191    45.337172\n",
       "std       0.625428    36.808550\n",
       "min       1.000000     1.000000\n",
       "25%       1.000000    25.000000\n",
       "50%       1.000000    35.000000\n",
       "75%       1.000000    56.000000\n",
       "max      10.000000   178.000000"
      ]
     },
     "execution_count": 50,
     "metadata": {},
     "output_type": "execute_result"
    }
   ],
   "source": [
    "order_details[['counts', 'amounts']].describe()"
   ]
  },
  {
   "cell_type": "markdown",
   "metadata": {},
   "source": [
    "3. 输出订单信息表订单编号与菜品名称（order_id和dishes_name列）的描述性统计"
   ]
  },
  {
   "cell_type": "code",
   "execution_count": 51,
   "metadata": {},
   "outputs": [
    {
     "data": {
      "text/html": [
       "<div>\n",
       "<style scoped>\n",
       "    .dataframe tbody tr th:only-of-type {\n",
       "        vertical-align: middle;\n",
       "    }\n",
       "\n",
       "    .dataframe tbody tr th {\n",
       "        vertical-align: top;\n",
       "    }\n",
       "\n",
       "    .dataframe thead th {\n",
       "        text-align: right;\n",
       "    }\n",
       "</style>\n",
       "<table border=\"1\" class=\"dataframe\">\n",
       "  <thead>\n",
       "    <tr style=\"text-align: right;\">\n",
       "      <th></th>\n",
       "      <th>order_id</th>\n",
       "      <th>dishes_name</th>\n",
       "    </tr>\n",
       "  </thead>\n",
       "  <tbody>\n",
       "    <tr>\n",
       "      <th>count</th>\n",
       "      <td>2779</td>\n",
       "      <td>2779</td>\n",
       "    </tr>\n",
       "    <tr>\n",
       "      <th>unique</th>\n",
       "      <td>278</td>\n",
       "      <td>154</td>\n",
       "    </tr>\n",
       "    <tr>\n",
       "      <th>top</th>\n",
       "      <td>392</td>\n",
       "      <td>白饭/大碗</td>\n",
       "    </tr>\n",
       "    <tr>\n",
       "      <th>freq</th>\n",
       "      <td>24</td>\n",
       "      <td>92</td>\n",
       "    </tr>\n",
       "  </tbody>\n",
       "</table>\n",
       "</div>"
      ],
      "text/plain": [
       "        order_id dishes_name\n",
       "count       2779        2779\n",
       "unique       278         154\n",
       "top          392       白饭/大碗\n",
       "freq          24          92"
      ]
     },
     "execution_count": 51,
     "metadata": {},
     "output_type": "execute_result"
    }
   ],
   "source": [
    "order_details['order_id'] = order_details['order_id'].astype('category')\n",
    "order_details['dishes_name'] = order_details['dishes_name'].astype('category')\n",
    "\n",
    "order_details[['order_id', 'dishes_name']].describe()"
   ]
  },
  {
   "cell_type": "markdown",
   "metadata": {},
   "source": [
    "#### 第2题 （难易程度：* ）\n",
    "\n",
    "在第1题操作的基础上，完成以下操作：\n",
    "\n",
    "1. 剔除三个表中全为空值或者所有元素取值相同的列，并将修改后的表分别保存为\"users-01.csv\",\"orders-01.csv\"和\"order-details-01.csv\"文件；"
   ]
  },
  {
   "cell_type": "code",
   "execution_count": 52,
   "metadata": {},
   "outputs": [],
   "source": [
    "# 操作代码\n",
    "\n",
    "def dropnasv_cols(df):\n",
    "    '''删除全空列和所有元素取值相同的列'''\n",
    "    \n",
    "    print('删除前：', df.shape)\n",
    "    num_cols = df.shape[1]\n",
    "\n",
    "    # 删除全空列\n",
    "    df.dropna(axis=1, how='all', inplace=True)\n",
    "\n",
    "    # 删除所有元素取值相同的列\n",
    "    all_same_cols = df.describe().loc['std'] == 0 \n",
    "    all_same_cols = all_same_cols.index[all_same_cols]\n",
    "    df.drop(all_same_cols, axis=1, inplace=True)\n",
    "\n",
    "    print('删除后：', df.shape)\n",
    "    print('删除列数：', num_cols - df.shape[1])"
   ]
  },
  {
   "cell_type": "code",
   "execution_count": 53,
   "metadata": {},
   "outputs": [
    {
     "name": "stdout",
     "output_type": "stream",
     "text": [
      "删除前： (734, 37)\n",
      "删除后： (734, 24)\n",
      "删除列数： 13\n"
     ]
    }
   ],
   "source": [
    "# 删除用户表全空或者所有元素取值相同的列\n",
    "dropnasv_cols(users)\n",
    "# 保存用户表\n",
    "users.to_csv('users-01.csv')"
   ]
  },
  {
   "cell_type": "code",
   "execution_count": 54,
   "metadata": {},
   "outputs": [
    {
     "name": "stdout",
     "output_type": "stream",
     "text": [
      "删除前： (945, 21)\n",
      "删除后： (945, 14)\n",
      "删除列数： 7\n"
     ]
    }
   ],
   "source": [
    "# 删除订单信息表全空或者所有元素取值相同的列\n",
    "dropnasv_cols(orders)\n",
    "# 保存订单信息表\n",
    "orders.to_csv('orders-01.csv')"
   ]
  },
  {
   "cell_type": "code",
   "execution_count": 55,
   "metadata": {},
   "outputs": [
    {
     "name": "stdout",
     "output_type": "stream",
     "text": [
      "删除前： (2779, 19)\n",
      "删除后： (2779, 9)\n",
      "删除列数： 10\n"
     ]
    }
   ],
   "source": [
    "# 删除订单详情表全空或者所有元素取值相同的列\n",
    "dropnasv_cols(order_details)\n",
    "# 保存订单详情表\n",
    "order_details.to_csv('order-details-01.csv')"
   ]
  },
  {
   "cell_type": "markdown",
   "metadata": {},
   "source": [
    "2. 使用matplotlib绘制用户表、订单信息表和订单详情表中缺失值的热图；"
   ]
  },
  {
   "cell_type": "code",
   "execution_count": 56,
   "metadata": {},
   "outputs": [],
   "source": [
    "# 定义热图绘制函数\n",
    "def plot_heatmap(data, ax, cmap='Reds_r'):\n",
    "    xlabels = data.columns.values    \n",
    "    X = data.values\n",
    "    \n",
    "    ax.imshow(X, aspect='auto', cmap=cmap)\n",
    "    ax.set_xticklabels(xlabels, rotation='vertical')\n",
    "    ax.set_xticks(range(len(xlabels)))\n",
    "    for k in ax.spines:\n",
    "        ax.spines[k].set_visible(False)"
   ]
  },
  {
   "cell_type": "code",
   "execution_count": 57,
   "metadata": {},
   "outputs": [
    {
     "data": {
      "image/png": "[encoded data removed]",
      "text/plain": [
       "<Figure size 720x360 with 1 Axes>"
      ]
     },
     "metadata": {
      "needs_background": "light"
     },
     "output_type": "display_data"
    }
   ],
   "source": [
    "# 绘制用户表缺失值的热图\n",
    "plt.figure(figsize=(10, 5))\n",
    "plot_heatmap(users.isna(), plt.gca())\n",
    "plt.show()"
   ]
  },
  {
   "cell_type": "code",
   "execution_count": 58,
   "metadata": {},
   "outputs": [
    {
     "data": {
      "image/png": "[encoded data removed]",
      "text/plain": [
       "<Figure size 720x360 with 1 Axes>"
      ]
     },
     "metadata": {
      "needs_background": "light"
     },
     "output_type": "display_data"
    }
   ],
   "source": [
    "# 绘制订单信息表缺失值的热图\n",
    "plt.figure(figsize=(10, 5))\n",
    "plot_heatmap(orders.isna(), plt.gca(), cmap='Greens_r')\n",
    "plt.show()"
   ]
  },
  {
   "cell_type": "code",
   "execution_count": 59,
   "metadata": {},
   "outputs": [
    {
     "data": {
      "image/png": "[encoded data removed]",
      "text/plain": [
       "<Figure size 720x360 with 1 Axes>"
      ]
     },
     "metadata": {
      "needs_background": "light"
     },
     "output_type": "display_data"
    }
   ],
   "source": [
    "# 绘制订单详情表缺失值的热图\n",
    "plt.figure(figsize=(10, 5))\n",
    "plot_heatmap(order_details.isna(), plt.gca(), cmap='Blues_r')\n",
    "plt.show()"
   ]
  },
  {
   "cell_type": "markdown",
   "metadata": {},
   "source": [
    "3. 删除三个表中缺失值占比超过99%的列。"
   ]
  },
  {
   "cell_type": "code",
   "execution_count": 60,
   "metadata": {},
   "outputs": [],
   "source": [
    "# 定义根据缺失值占比删除列的函数\n",
    "def dropna_percent(df, percentage):    \n",
    "    print('删除前：', df.shape)\n",
    "    num_cols = df.shape[1]\n",
    "    \n",
    "    thresh = int((1 - percentage) * len(df))\n",
    "    df.dropna(axis=1, thresh=thresh, inplace=True)\n",
    "    \n",
    "    print('删除后：', df.shape)\n",
    "    print('删除列数：', num_cols - df.shape[1])"
   ]
  },
  {
   "cell_type": "code",
   "execution_count": 61,
   "metadata": {},
   "outputs": [
    {
     "name": "stdout",
     "output_type": "stream",
     "text": [
      "删除前： (734, 24)\n",
      "删除后： (734, 16)\n",
      "删除列数： 8\n"
     ]
    }
   ],
   "source": [
    "# 删除用户表缺失值占比超过90%的列\n",
    "dropna_percent(users, 0.90)"
   ]
  },
  {
   "cell_type": "code",
   "execution_count": 62,
   "metadata": {},
   "outputs": [
    {
     "name": "stdout",
     "output_type": "stream",
     "text": [
      "删除前： (945, 14)\n",
      "删除后： (945, 14)\n",
      "删除列数： 0\n"
     ]
    }
   ],
   "source": [
    "# 删除订单信息表缺失值占比超过90%的列\n",
    "dropna_percent(orders, 0.90)"
   ]
  },
  {
   "cell_type": "code",
   "execution_count": 63,
   "metadata": {},
   "outputs": [
    {
     "name": "stdout",
     "output_type": "stream",
     "text": [
      "删除前： (2779, 9)\n",
      "删除后： (2779, 9)\n",
      "删除列数： 0\n"
     ]
    }
   ],
   "source": [
    "# 删除订单详情表缺失值占比超过90%的列\n",
    "dropna_percent(order_details, 0.90)"
   ]
  },
  {
   "cell_type": "markdown",
   "metadata": {},
   "source": [
    "#### 第3题（难易程度：* ）\n",
    "\n",
    "在第2题操作的基础上，完成以下操作：\n",
    "\n",
    "1. 对用户表进行反向和前向缺失值填充；"
   ]
  },
  {
   "cell_type": "code",
   "execution_count": 64,
   "metadata": {},
   "outputs": [
    {
     "name": "stdout",
     "output_type": "stream",
     "text": [
      "<class 'pandas.core.frame.DataFrame'>\n",
      "RangeIndex: 734 entries, 0 to 733\n",
      "Data columns (total 16 columns):\n",
      "USER_ID          734 non-null int64\n",
      "ACCOUNT          734 non-null object\n",
      "NAME             734 non-null object\n",
      "ORGANIZE_ID      734 non-null int64\n",
      "ORGANIZE_NAME    734 non-null object\n",
      "PASSWORD         734 non-null object\n",
      "FIRST_VISIT      734 non-null datetime64[ns]\n",
      "LAST_VISITS      734 non-null datetime64[ns]\n",
      "CREATED          734 non-null datetime64[ns]\n",
      "CREATER          734 non-null float64\n",
      "TEL              734 non-null float64\n",
      "stuNo            734 non-null object\n",
      "sex              734 non-null object\n",
      "poo              734 non-null object\n",
      "address          734 non-null object\n",
      "age              734 non-null float64\n",
      "dtypes: datetime64[ns](3), float64(3), int64(2), object(8)\n",
      "memory usage: 91.8+ KB\n"
     ]
    }
   ],
   "source": [
    "# 操作代码\n",
    "users.fillna(method='bfill', inplace=True)\n",
    "users.fillna(method='ffill', inplace=True)\n",
    "users.info()"
   ]
  },
  {
   "cell_type": "markdown",
   "metadata": {},
   "source": [
    "2. 对订单信息表使用**use_start_time**列的非空值填充**lock_time**列对应行的缺失值；"
   ]
  },
  {
   "cell_type": "code",
   "execution_count": 65,
   "metadata": {},
   "outputs": [
    {
     "name": "stdout",
     "output_type": "stream",
     "text": [
      "<class 'pandas.core.frame.DataFrame'>\n",
      "RangeIndex: 945 entries, 0 to 944\n",
      "Data columns (total 14 columns):\n",
      "info_id              945 non-null int64\n",
      "emp_id               945 non-null int64\n",
      "number_consumers     945 non-null int64\n",
      "dining_table_id      945 non-null int64\n",
      "dining_table_name    945 non-null int64\n",
      "expenditure          945 non-null int64\n",
      "dishes_count         945 non-null int64\n",
      "accounts_payable     945 non-null int64\n",
      "use_start_time       945 non-null object\n",
      "lock_time            936 non-null object\n",
      "org_id               945 non-null int64\n",
      "order_status         945 non-null int64\n",
      "phone                945 non-null int64\n",
      "name                 945 non-null object\n",
      "dtypes: int64(11), object(3)\n",
      "memory usage: 103.4+ KB\n"
     ]
    }
   ],
   "source": [
    "# 操作代码\n",
    "orders.info()"
   ]
  },
  {
   "cell_type": "code",
   "execution_count": 66,
   "metadata": {},
   "outputs": [
    {
     "name": "stdout",
     "output_type": "stream",
     "text": [
      "<class 'pandas.core.frame.DataFrame'>\n",
      "RangeIndex: 945 entries, 0 to 944\n",
      "Data columns (total 14 columns):\n",
      "info_id              945 non-null int64\n",
      "emp_id               945 non-null int64\n",
      "number_consumers     945 non-null int64\n",
      "dining_table_id      945 non-null int64\n",
      "dining_table_name    945 non-null int64\n",
      "expenditure          945 non-null int64\n",
      "dishes_count         945 non-null int64\n",
      "accounts_payable     945 non-null int64\n",
      "use_start_time       945 non-null object\n",
      "lock_time            945 non-null object\n",
      "org_id               945 non-null int64\n",
      "order_status         945 non-null int64\n",
      "phone                945 non-null int64\n",
      "name                 945 non-null object\n",
      "dtypes: int64(11), object(3)\n",
      "memory usage: 103.4+ KB\n"
     ]
    }
   ],
   "source": [
    "# 操作代码\n",
    "na_rows = orders['lock_time'].isna()\n",
    "orders.loc[na_rows, 'lock_time'] = orders[na_rows]['use_start_time']\n",
    "orders.info()"
   ]
  },
  {
   "cell_type": "markdown",
   "metadata": {},
   "source": [
    "3. 使用matplotlib绘制缺失值删除和填充后三个表的缺失值热图。"
   ]
  },
  {
   "cell_type": "code",
   "execution_count": 67,
   "metadata": {},
   "outputs": [
    {
     "data": {
      "image/png": "[encoded data removed]",
      "text/plain": [
       "<Figure size 864x288 with 3 Axes>"
      ]
     },
     "metadata": {
      "needs_background": "light"
     },
     "output_type": "display_data"
    }
   ],
   "source": [
    "# 可视化上述三个表的缺失值删除和填充的结果\n",
    "fig, (ax1, ax2, ax3) = plt.subplots(1, 3, figsize=(12, 4))\n",
    "plot_heatmap(users.isna(), ax=ax1, cmap='Reds_r')\n",
    "plot_heatmap(orders.isna(), ax=ax2, cmap='Greens_r')\n",
    "plot_heatmap(order_details.isna(), ax=ax3, cmap='Blues_r')\n",
    "\n",
    "ax1.set_title('Users')\n",
    "ax2.set_title('Orders')\n",
    "ax3.set_title('Order Details')\n",
    "plt.show()"
   ]
  },
  {
   "cell_type": "markdown",
   "metadata": {},
   "source": [
    "#### 第4题 （难易程度：* ）\n",
    "\n",
    "在第3题操作的基础上，完成以下操作：\n",
    "\n",
    "1. 将订单信息表开始时间（use_start_time）和锁单时间（lock_time）列由字符串转换为时间类型；"
   ]
  },
  {
   "cell_type": "code",
   "execution_count": 68,
   "metadata": {},
   "outputs": [
    {
     "data": {
      "text/plain": [
       "use_start_time    datetime64[ns]\n",
       "lock_time         datetime64[ns]\n",
       "dtype: object"
      ]
     },
     "execution_count": 68,
     "metadata": {},
     "output_type": "execute_result"
    }
   ],
   "source": [
    "# 操作代码\n",
    "orders['use_start_time'] = pd.to_datetime(orders['use_start_time'])\n",
    "orders['lock_time'] = pd.to_datetime(orders['lock_time'])\n",
    "orders[['use_start_time', 'lock_time']].dtypes"
   ]
  },
  {
   "cell_type": "markdown",
   "metadata": {},
   "source": [
    "2. 提取类型转换后锁单时间（lock_time）列的年（year）、月（month）、日（day）、周（week）、星期（weekday)和星期名（weekname），并分别输出其前5条和后5条；"
   ]
  },
  {
   "cell_type": "code",
   "execution_count": 69,
   "metadata": {},
   "outputs": [
    {
     "name": "stdout",
     "output_type": "stream",
     "text": [
      "年份（前5条）: [2016, 2016, 2016, 2016, 2016]\n",
      "年份（后5条）: [2016, 2016, 2016, 2016, 2016]\n",
      "月份（前5条）: [8, 8, 8, 8, 8]\n",
      "月份（后5条）: [8, 8, 8, 8, 8]\n",
      "日期（前5条）: [1, 1, 1, 1, 1]\n",
      "日期（后5条）: [31, 31, 31, 31, 31]\n",
      "星期（前5条）: [0, 0, 0, 0, 0]\n",
      "星期（后5条）: [2, 2, 2, 2, 2]\n",
      "星期名（前5条）: ['Monday', 'Monday', 'Monday', 'Monday', 'Monday']\n",
      "星期名（后5条）: ['Wednesday', 'Wednesday', 'Wednesday', 'Wednesday', 'Wednesday']\n"
     ]
    }
   ],
   "source": [
    "years = [dt.year for dt in orders['lock_time']]\n",
    "print('年份（前5条）:', years[:5])\n",
    "print('年份（后5条）:', years[-5:])\n",
    "months = [dt.month for dt in orders['lock_time']]\n",
    "print('月份（前5条）:', months[:5])\n",
    "print('月份（后5条）:', months[-5:])\n",
    "days = [dt.day for dt in orders['lock_time']]\n",
    "print('日期（前5条）:', days[:5])\n",
    "print('日期（后5条）:', days[-5:])\n",
    "weekdays = [dt.weekday() for dt in orders['lock_time']]\n",
    "print('星期（前5条）:', weekdays[:5])\n",
    "print('星期（后5条）:', weekdays[-5:])\n",
    "weekday_names = [dt.day_name() for dt in orders['lock_time']]\n",
    "print('星期名（前5条）:', weekday_names[:5])\n",
    "print('星期名（后5条）:', weekday_names[-5:])"
   ]
  },
  {
   "cell_type": "markdown",
   "metadata": {},
   "source": [
    "3. 输出订单信息表的下列时间统计信息【点餐时间=锁单时间（lock_time) - 开始时间（use_start_time）】：\n",
    "   - 订单最早时间\n",
    "   - 订单最晚时间\n",
    "   - 平均点餐时间\n",
    "   - 最短点餐时间\n",
    "   - 最长点餐时间"
   ]
  },
  {
   "cell_type": "code",
   "execution_count": 70,
   "metadata": {},
   "outputs": [
    {
     "name": "stdout",
     "output_type": "stream",
     "text": [
      "最早锁单时间: 2016-08-01 11:11:46\n",
      "最晚锁单时间: 2016-08-31 21:56:12\n",
      "平均点餐时间: 0 days 01:11:29.085714\n",
      "最短点餐时间: -1 days +00:05:03\n",
      "最长点餐时间: 16 days 00:08:00\n"
     ]
    }
   ],
   "source": [
    "print('最早锁单时间:', orders['lock_time'].min())\n",
    "print('最晚锁单时间:', orders['lock_time'].max())\n",
    "\n",
    "print('平均点餐时间:', (orders['lock_time'] - orders['use_start_time']).mean())\n",
    "print('最短点餐时间:', (orders['lock_time'] - orders['use_start_time']).min())\n",
    "print('最长点餐时间:', (orders['lock_time'] - orders['use_start_time']).max())"
   ]
  },
  {
   "cell_type": "markdown",
   "metadata": {},
   "source": [
    "#### 第5题 （难易程度：**）\n",
    "\n",
    "在第4题操作的基础上，完成以下操作：\n",
    "\n",
    "1. 找出订单信息表锁单时间（lock_time）的异常值（点餐时间小于10秒或者大于1天的值）；"
   ]
  },
  {
   "cell_type": "code",
   "execution_count": 71,
   "metadata": {},
   "outputs": [
    {
     "data": {
      "text/plain": [
       "16    2016-08-01 19:40:00\n",
       "82    2016-08-21 19:26:52\n",
       "106   2016-08-06 13:18:18\n",
       "114   2016-08-06 17:33:05\n",
       "115   2016-08-06 17:20:46\n",
       "118   2016-08-06 17:34:27\n",
       "128   2016-08-06 18:36:12\n",
       "132   2016-08-06 19:06:01\n",
       "170   2016-08-07 11:07:23\n",
       "188   2016-08-07 17:20:56\n",
       "197   2016-08-07 18:46:07\n",
       "215   2016-08-07 20:26:42\n",
       "220   2016-08-07 21:28:59\n",
       "242   2016-08-09 11:07:00\n",
       "279   2016-08-11 11:47:00\n",
       "303   2016-08-21 18:26:19\n",
       "321   2016-08-13 11:30:31\n",
       "429   2016-08-14 20:27:22\n",
       "433   2016-08-14 21:09:41\n",
       "438   2016-08-14 21:37:00\n",
       "439   2016-08-14 21:16:06\n",
       "513   2016-08-21 12:40:26\n",
       "518   2016-08-21 18:48:41\n",
       "526   2016-08-21 21:07:41\n",
       "527   2016-08-29 21:10:34\n",
       "546   2016-08-20 12:21:05\n",
       "551   2016-08-20 12:19:12\n",
       "560   2016-08-19 13:55:56\n",
       "567   2016-08-20 17:26:48\n",
       "621   2016-08-21 12:54:05\n",
       "625   2016-08-21 13:40:32\n",
       "632   2016-08-21 17:16:00\n",
       "657   2016-08-21 19:41:00\n",
       "785   2016-08-27 17:14:48\n",
       "806   2016-08-27 19:19:12\n",
       "828   2016-08-27 21:50:01\n",
       "843   2016-08-28 12:09:07\n",
       "896   2016-08-28 21:09:50\n",
       "931   2016-08-31 13:29:29\n",
       "944   2016-08-31 21:32:56\n",
       "Name: lock_time, dtype: datetime64[ns]"
      ]
     },
     "execution_count": 71,
     "metadata": {},
     "output_type": "execute_result"
    }
   ],
   "source": [
    "# 操作代码\n",
    "min_delta = pd.Timedelta(seconds=10)\n",
    "max_delta = pd.Timedelta(days=1)\n",
    "\n",
    "outlier_rows = orders['lock_time'] - orders['use_start_time'] <= min_delta\n",
    "outlier_rows = outlier_rows | (orders['lock_time'] - orders['use_start_time'] >= max_delta)\n",
    "\n",
    "orders['lock_time'][outlier_rows]"
   ]
  },
  {
   "cell_type": "markdown",
   "metadata": {},
   "source": [
    "2. 将锁单时间（lock_time）的异常值替换为对应行的开始时间（use_start_time）加上平均点餐时间；"
   ]
  },
  {
   "cell_type": "code",
   "execution_count": 72,
   "metadata": {},
   "outputs": [
    {
     "data": {
      "text/html": [
       "<div>\n",
       "<style scoped>\n",
       "    .dataframe tbody tr th:only-of-type {\n",
       "        vertical-align: middle;\n",
       "    }\n",
       "\n",
       "    .dataframe tbody tr th {\n",
       "        vertical-align: top;\n",
       "    }\n",
       "\n",
       "    .dataframe thead th {\n",
       "        text-align: right;\n",
       "    }\n",
       "</style>\n",
       "<table border=\"1\" class=\"dataframe\">\n",
       "  <thead>\n",
       "    <tr style=\"text-align: right;\">\n",
       "      <th></th>\n",
       "      <th>use_start_time</th>\n",
       "      <th>lock_time</th>\n",
       "    </tr>\n",
       "  </thead>\n",
       "  <tbody>\n",
       "    <tr>\n",
       "      <th>16</th>\n",
       "      <td>2016-08-01 19:40:00</td>\n",
       "      <td>2016-08-01 20:51:29.085714285</td>\n",
       "    </tr>\n",
       "    <tr>\n",
       "      <th>82</th>\n",
       "      <td>2016-08-05 19:18:52</td>\n",
       "      <td>2016-08-05 20:30:21.085714285</td>\n",
       "    </tr>\n",
       "    <tr>\n",
       "      <th>106</th>\n",
       "      <td>2016-08-06 13:45:18</td>\n",
       "      <td>2016-08-06 14:56:47.085714285</td>\n",
       "    </tr>\n",
       "    <tr>\n",
       "      <th>114</th>\n",
       "      <td>2016-08-06 17:33:05</td>\n",
       "      <td>2016-08-06 18:44:34.085714285</td>\n",
       "    </tr>\n",
       "    <tr>\n",
       "      <th>115</th>\n",
       "      <td>2016-08-06 17:35:46</td>\n",
       "      <td>2016-08-06 18:47:15.085714285</td>\n",
       "    </tr>\n",
       "    <tr>\n",
       "      <th>118</th>\n",
       "      <td>2016-08-06 17:48:27</td>\n",
       "      <td>2016-08-06 18:59:56.085714285</td>\n",
       "    </tr>\n",
       "    <tr>\n",
       "      <th>128</th>\n",
       "      <td>2016-08-06 18:50:12</td>\n",
       "      <td>2016-08-06 20:01:41.085714285</td>\n",
       "    </tr>\n",
       "    <tr>\n",
       "      <th>132</th>\n",
       "      <td>2016-08-06 19:06:14</td>\n",
       "      <td>2016-08-06 20:17:43.085714285</td>\n",
       "    </tr>\n",
       "    <tr>\n",
       "      <th>170</th>\n",
       "      <td>2016-08-07 11:45:23</td>\n",
       "      <td>2016-08-07 12:56:52.085714285</td>\n",
       "    </tr>\n",
       "    <tr>\n",
       "      <th>188</th>\n",
       "      <td>2016-08-07 17:58:56</td>\n",
       "      <td>2016-08-07 19:10:25.085714285</td>\n",
       "    </tr>\n",
       "    <tr>\n",
       "      <th>197</th>\n",
       "      <td>2016-08-07 18:58:07</td>\n",
       "      <td>2016-08-07 20:09:36.085714285</td>\n",
       "    </tr>\n",
       "    <tr>\n",
       "      <th>215</th>\n",
       "      <td>2016-08-07 20:44:42</td>\n",
       "      <td>2016-08-07 21:56:11.085714285</td>\n",
       "    </tr>\n",
       "    <tr>\n",
       "      <th>220</th>\n",
       "      <td>2016-08-07 21:34:59</td>\n",
       "      <td>2016-08-07 22:46:28.085714285</td>\n",
       "    </tr>\n",
       "    <tr>\n",
       "      <th>242</th>\n",
       "      <td>2016-08-09 11:07:00</td>\n",
       "      <td>2016-08-09 12:18:29.085714285</td>\n",
       "    </tr>\n",
       "    <tr>\n",
       "      <th>279</th>\n",
       "      <td>2016-08-11 11:47:00</td>\n",
       "      <td>2016-08-11 12:58:29.085714285</td>\n",
       "    </tr>\n",
       "    <tr>\n",
       "      <th>303</th>\n",
       "      <td>2016-08-12 18:11:22</td>\n",
       "      <td>2016-08-12 19:22:51.085714285</td>\n",
       "    </tr>\n",
       "    <tr>\n",
       "      <th>321</th>\n",
       "      <td>2016-08-13 11:37:31</td>\n",
       "      <td>2016-08-13 12:49:00.085714285</td>\n",
       "    </tr>\n",
       "    <tr>\n",
       "      <th>429</th>\n",
       "      <td>2016-08-14 20:55:22</td>\n",
       "      <td>2016-08-14 22:06:51.085714285</td>\n",
       "    </tr>\n",
       "    <tr>\n",
       "      <th>433</th>\n",
       "      <td>2016-08-14 21:12:41</td>\n",
       "      <td>2016-08-14 22:24:10.085714285</td>\n",
       "    </tr>\n",
       "    <tr>\n",
       "      <th>438</th>\n",
       "      <td>2016-08-14 21:37:00</td>\n",
       "      <td>2016-08-14 22:48:29.085714285</td>\n",
       "    </tr>\n",
       "    <tr>\n",
       "      <th>439</th>\n",
       "      <td>2016-08-14 21:39:06</td>\n",
       "      <td>2016-08-14 22:50:35.085714285</td>\n",
       "    </tr>\n",
       "    <tr>\n",
       "      <th>513</th>\n",
       "      <td>2016-08-19 12:37:01</td>\n",
       "      <td>2016-08-19 13:48:30.085714285</td>\n",
       "    </tr>\n",
       "    <tr>\n",
       "      <th>518</th>\n",
       "      <td>2016-08-19 18:33:39</td>\n",
       "      <td>2016-08-19 19:45:08.085714285</td>\n",
       "    </tr>\n",
       "    <tr>\n",
       "      <th>526</th>\n",
       "      <td>2016-08-19 20:55:51</td>\n",
       "      <td>2016-08-19 22:07:20.085714285</td>\n",
       "    </tr>\n",
       "    <tr>\n",
       "      <th>527</th>\n",
       "      <td>2016-08-19 21:04:58</td>\n",
       "      <td>2016-08-19 22:16:27.085714285</td>\n",
       "    </tr>\n",
       "    <tr>\n",
       "      <th>546</th>\n",
       "      <td>2016-08-20 12:21:05</td>\n",
       "      <td>2016-08-20 13:32:34.085714285</td>\n",
       "    </tr>\n",
       "    <tr>\n",
       "      <th>551</th>\n",
       "      <td>2016-08-20 12:34:12</td>\n",
       "      <td>2016-08-20 13:45:41.085714285</td>\n",
       "    </tr>\n",
       "    <tr>\n",
       "      <th>560</th>\n",
       "      <td>2016-08-20 13:50:53</td>\n",
       "      <td>2016-08-20 15:02:22.085714285</td>\n",
       "    </tr>\n",
       "    <tr>\n",
       "      <th>567</th>\n",
       "      <td>2016-08-20 17:57:48</td>\n",
       "      <td>2016-08-20 19:09:17.085714285</td>\n",
       "    </tr>\n",
       "    <tr>\n",
       "      <th>621</th>\n",
       "      <td>2016-08-21 12:54:05</td>\n",
       "      <td>2016-08-21 14:05:34.085714285</td>\n",
       "    </tr>\n",
       "    <tr>\n",
       "      <th>625</th>\n",
       "      <td>2016-08-21 13:43:32</td>\n",
       "      <td>2016-08-21 14:55:01.085714285</td>\n",
       "    </tr>\n",
       "    <tr>\n",
       "      <th>632</th>\n",
       "      <td>2016-08-21 17:16:00</td>\n",
       "      <td>2016-08-21 18:27:29.085714285</td>\n",
       "    </tr>\n",
       "    <tr>\n",
       "      <th>657</th>\n",
       "      <td>2016-08-21 19:41:00</td>\n",
       "      <td>2016-08-21 20:52:29.085714285</td>\n",
       "    </tr>\n",
       "    <tr>\n",
       "      <th>785</th>\n",
       "      <td>2016-08-27 17:56:48</td>\n",
       "      <td>2016-08-27 19:08:17.085714285</td>\n",
       "    </tr>\n",
       "    <tr>\n",
       "      <th>806</th>\n",
       "      <td>2016-08-27 19:32:12</td>\n",
       "      <td>2016-08-27 20:43:41.085714285</td>\n",
       "    </tr>\n",
       "    <tr>\n",
       "      <th>828</th>\n",
       "      <td>2016-08-27 21:57:01</td>\n",
       "      <td>2016-08-27 23:08:30.085714285</td>\n",
       "    </tr>\n",
       "    <tr>\n",
       "      <th>843</th>\n",
       "      <td>2016-08-28 12:46:07</td>\n",
       "      <td>2016-08-28 13:57:36.085714285</td>\n",
       "    </tr>\n",
       "    <tr>\n",
       "      <th>896</th>\n",
       "      <td>2016-08-28 21:53:50</td>\n",
       "      <td>2016-08-28 23:05:19.085714285</td>\n",
       "    </tr>\n",
       "    <tr>\n",
       "      <th>931</th>\n",
       "      <td>2016-08-31 13:29:29</td>\n",
       "      <td>2016-08-31 14:40:58.085714285</td>\n",
       "    </tr>\n",
       "    <tr>\n",
       "      <th>944</th>\n",
       "      <td>2016-08-31 21:41:56</td>\n",
       "      <td>2016-08-31 22:53:25.085714285</td>\n",
       "    </tr>\n",
       "  </tbody>\n",
       "</table>\n",
       "</div>"
      ],
      "text/plain": [
       "         use_start_time                     lock_time\n",
       "16  2016-08-01 19:40:00 2016-08-01 20:51:29.085714285\n",
       "82  2016-08-05 19:18:52 2016-08-05 20:30:21.085714285\n",
       "106 2016-08-06 13:45:18 2016-08-06 14:56:47.085714285\n",
       "114 2016-08-06 17:33:05 2016-08-06 18:44:34.085714285\n",
       "115 2016-08-06 17:35:46 2016-08-06 18:47:15.085714285\n",
       "118 2016-08-06 17:48:27 2016-08-06 18:59:56.085714285\n",
       "128 2016-08-06 18:50:12 2016-08-06 20:01:41.085714285\n",
       "132 2016-08-06 19:06:14 2016-08-06 20:17:43.085714285\n",
       "170 2016-08-07 11:45:23 2016-08-07 12:56:52.085714285\n",
       "188 2016-08-07 17:58:56 2016-08-07 19:10:25.085714285\n",
       "197 2016-08-07 18:58:07 2016-08-07 20:09:36.085714285\n",
       "215 2016-08-07 20:44:42 2016-08-07 21:56:11.085714285\n",
       "220 2016-08-07 21:34:59 2016-08-07 22:46:28.085714285\n",
       "242 2016-08-09 11:07:00 2016-08-09 12:18:29.085714285\n",
       "279 2016-08-11 11:47:00 2016-08-11 12:58:29.085714285\n",
       "303 2016-08-12 18:11:22 2016-08-12 19:22:51.085714285\n",
       "321 2016-08-13 11:37:31 2016-08-13 12:49:00.085714285\n",
       "429 2016-08-14 20:55:22 2016-08-14 22:06:51.085714285\n",
       "433 2016-08-14 21:12:41 2016-08-14 22:24:10.085714285\n",
       "438 2016-08-14 21:37:00 2016-08-14 22:48:29.085714285\n",
       "439 2016-08-14 21:39:06 2016-08-14 22:50:35.085714285\n",
       "513 2016-08-19 12:37:01 2016-08-19 13:48:30.085714285\n",
       "518 2016-08-19 18:33:39 2016-08-19 19:45:08.085714285\n",
       "526 2016-08-19 20:55:51 2016-08-19 22:07:20.085714285\n",
       "527 2016-08-19 21:04:58 2016-08-19 22:16:27.085714285\n",
       "546 2016-08-20 12:21:05 2016-08-20 13:32:34.085714285\n",
       "551 2016-08-20 12:34:12 2016-08-20 13:45:41.085714285\n",
       "560 2016-08-20 13:50:53 2016-08-20 15:02:22.085714285\n",
       "567 2016-08-20 17:57:48 2016-08-20 19:09:17.085714285\n",
       "621 2016-08-21 12:54:05 2016-08-21 14:05:34.085714285\n",
       "625 2016-08-21 13:43:32 2016-08-21 14:55:01.085714285\n",
       "632 2016-08-21 17:16:00 2016-08-21 18:27:29.085714285\n",
       "657 2016-08-21 19:41:00 2016-08-21 20:52:29.085714285\n",
       "785 2016-08-27 17:56:48 2016-08-27 19:08:17.085714285\n",
       "806 2016-08-27 19:32:12 2016-08-27 20:43:41.085714285\n",
       "828 2016-08-27 21:57:01 2016-08-27 23:08:30.085714285\n",
       "843 2016-08-28 12:46:07 2016-08-28 13:57:36.085714285\n",
       "896 2016-08-28 21:53:50 2016-08-28 23:05:19.085714285\n",
       "931 2016-08-31 13:29:29 2016-08-31 14:40:58.085714285\n",
       "944 2016-08-31 21:41:56 2016-08-31 22:53:25.085714285"
      ]
     },
     "execution_count": 72,
     "metadata": {},
     "output_type": "execute_result"
    }
   ],
   "source": [
    "mean_order_timedelta = (orders['lock_time'] - orders['use_start_time']).mean()\n",
    "orders.loc[outlier_rows, 'lock_time'] = orders.loc[outlier_rows, 'use_start_time'] + mean_order_timedelta\n",
    "orders.loc[outlier_rows, ['use_start_time','lock_time']]"
   ]
  },
  {
   "cell_type": "markdown",
   "metadata": {},
   "source": [
    "3. 将上述异常值处理后的订单信息表存储为\"orders-05.csv\"文件。"
   ]
  },
  {
   "cell_type": "code",
   "execution_count": 73,
   "metadata": {},
   "outputs": [],
   "source": [
    "orders.to_csv('orders-05.csv')"
   ]
  },
  {
   "cell_type": "markdown",
   "metadata": {},
   "source": [
    "#### 第6题 （难易程度：**）\n",
    "\n",
    "在第5题操作的基础上，完成以下操作：\n",
    "\n",
    "1. 按照点餐时间（place_order_time）的日期对订单详情表的订单数量进行分组；"
   ]
  },
  {
   "cell_type": "code",
   "execution_count": 87,
   "metadata": {},
   "outputs": [
    {
     "data": {
      "text/plain": [
       "date\n",
       "2016-08-01    217\n",
       "2016-08-02    138\n",
       "2016-08-03    157\n",
       "2016-08-04    144\n",
       "2016-08-05    193\n",
       "2016-08-06    706\n",
       "2016-08-07    696\n",
       "2016-08-08    160\n",
       "2016-08-09    146\n",
       "2016-08-10    222\n",
       "dtype: int64"
      ]
     },
     "execution_count": 87,
     "metadata": {},
     "output_type": "execute_result"
    }
   ],
   "source": [
    "# 操作代码\n",
    "order_details['place_order_time'] = pd.to_datetime(order_details['place_order_time'])\n",
    "order_details['date'] = [dt.date() for dt in order_details['place_order_time']]\n",
    "order_detail_groups = order_details[['date', 'counts', 'amounts']].groupby(by='date')\n",
    "order_detail_groups.size()"
   ]
  },
  {
   "cell_type": "markdown",
   "metadata": {},
   "source": [
    "2. 绘制第一周（2016-08-01至2016-08-07）订单数量的柱状图，其中标题为\"2016年8月第1周订单数量\",横坐标为精确到天的日期，纵坐标为订单数量；"
   ]
  },
  {
   "cell_type": "code",
   "execution_count": 118,
   "metadata": {},
   "outputs": [
    {
     "data": {
      "image/png": "[encoded data removed]",
      "text/plain": [
       "<Figure size 576x432 with 1 Axes>"
      ]
     },
     "metadata": {
      "needs_background": "light"
     },
     "output_type": "display_data"
    }
   ],
   "source": [
    "plt.figure(figsize=(8, 6))\n",
    "x = order_detail_groups.size()[:7].index.values\n",
    "y = order_detail_groups.size()[:7].values\n",
    "plt.bar(x, y)\n",
    "plt.title('Order Counts 2016.08.01 ~ 2016.08.07')\n",
    "plt.show()"
   ]
  },
  {
   "cell_type": "markdown",
   "metadata": {},
   "source": [
    "3. 计算订单详情表单日销售金额的均值和中位数，并绘制线图，其中横坐标为日期，日期刻度标签旋转45度，纵坐标为均值和中位数，标题为\"日销售额均值和中位数\",图例分别为\"均值\"和\"中位数\"；"
   ]
  },
  {
   "cell_type": "code",
   "execution_count": 123,
   "metadata": {},
   "outputs": [
    {
     "data": {
      "text/html": [
       "<div>\n",
       "<style scoped>\n",
       "    .dataframe tbody tr th:only-of-type {\n",
       "        vertical-align: middle;\n",
       "    }\n",
       "\n",
       "    .dataframe tbody tr th {\n",
       "        vertical-align: top;\n",
       "    }\n",
       "\n",
       "    .dataframe thead th {\n",
       "        text-align: right;\n",
       "    }\n",
       "</style>\n",
       "<table border=\"1\" class=\"dataframe\">\n",
       "  <thead>\n",
       "    <tr style=\"text-align: right;\">\n",
       "      <th></th>\n",
       "      <th>amounts</th>\n",
       "    </tr>\n",
       "    <tr>\n",
       "      <th>date</th>\n",
       "      <th></th>\n",
       "    </tr>\n",
       "  </thead>\n",
       "  <tbody>\n",
       "    <tr>\n",
       "      <th>2016-08-01</th>\n",
       "      <td>43.161290</td>\n",
       "    </tr>\n",
       "    <tr>\n",
       "      <th>2016-08-02</th>\n",
       "      <td>44.384058</td>\n",
       "    </tr>\n",
       "    <tr>\n",
       "      <th>2016-08-03</th>\n",
       "      <td>43.885350</td>\n",
       "    </tr>\n",
       "    <tr>\n",
       "      <th>2016-08-04</th>\n",
       "      <td>52.423611</td>\n",
       "    </tr>\n",
       "    <tr>\n",
       "      <th>2016-08-05</th>\n",
       "      <td>44.927461</td>\n",
       "    </tr>\n",
       "    <tr>\n",
       "      <th>2016-08-06</th>\n",
       "      <td>45.562323</td>\n",
       "    </tr>\n",
       "    <tr>\n",
       "      <th>2016-08-07</th>\n",
       "      <td>44.979885</td>\n",
       "    </tr>\n",
       "    <tr>\n",
       "      <th>2016-08-08</th>\n",
       "      <td>40.825000</td>\n",
       "    </tr>\n",
       "    <tr>\n",
       "      <th>2016-08-09</th>\n",
       "      <td>49.006849</td>\n",
       "    </tr>\n",
       "    <tr>\n",
       "      <th>2016-08-10</th>\n",
       "      <td>46.085586</td>\n",
       "    </tr>\n",
       "  </tbody>\n",
       "</table>\n",
       "</div>"
      ],
      "text/plain": [
       "              amounts\n",
       "date                 \n",
       "2016-08-01  43.161290\n",
       "2016-08-02  44.384058\n",
       "2016-08-03  43.885350\n",
       "2016-08-04  52.423611\n",
       "2016-08-05  44.927461\n",
       "2016-08-06  45.562323\n",
       "2016-08-07  44.979885\n",
       "2016-08-08  40.825000\n",
       "2016-08-09  49.006849\n",
       "2016-08-10  46.085586"
      ]
     },
     "execution_count": 123,
     "metadata": {},
     "output_type": "execute_result"
    }
   ],
   "source": [
    "day_mean = order_detail_groups.agg({'amounts': 'mean'})\n",
    "day_mean"
   ]
  },
  {
   "cell_type": "code",
   "execution_count": 124,
   "metadata": {},
   "outputs": [
    {
     "data": {
      "text/html": [
       "<div>\n",
       "<style scoped>\n",
       "    .dataframe tbody tr th:only-of-type {\n",
       "        vertical-align: middle;\n",
       "    }\n",
       "\n",
       "    .dataframe tbody tr th {\n",
       "        vertical-align: top;\n",
       "    }\n",
       "\n",
       "    .dataframe thead th {\n",
       "        text-align: right;\n",
       "    }\n",
       "</style>\n",
       "<table border=\"1\" class=\"dataframe\">\n",
       "  <thead>\n",
       "    <tr style=\"text-align: right;\">\n",
       "      <th></th>\n",
       "      <th>amounts</th>\n",
       "    </tr>\n",
       "    <tr>\n",
       "      <th>date</th>\n",
       "      <th></th>\n",
       "    </tr>\n",
       "  </thead>\n",
       "  <tbody>\n",
       "    <tr>\n",
       "      <th>2016-08-01</th>\n",
       "      <td>33</td>\n",
       "    </tr>\n",
       "    <tr>\n",
       "      <th>2016-08-02</th>\n",
       "      <td>35</td>\n",
       "    </tr>\n",
       "    <tr>\n",
       "      <th>2016-08-03</th>\n",
       "      <td>38</td>\n",
       "    </tr>\n",
       "    <tr>\n",
       "      <th>2016-08-04</th>\n",
       "      <td>39</td>\n",
       "    </tr>\n",
       "    <tr>\n",
       "      <th>2016-08-05</th>\n",
       "      <td>37</td>\n",
       "    </tr>\n",
       "    <tr>\n",
       "      <th>2016-08-06</th>\n",
       "      <td>35</td>\n",
       "    </tr>\n",
       "    <tr>\n",
       "      <th>2016-08-07</th>\n",
       "      <td>35</td>\n",
       "    </tr>\n",
       "    <tr>\n",
       "      <th>2016-08-08</th>\n",
       "      <td>34</td>\n",
       "    </tr>\n",
       "    <tr>\n",
       "      <th>2016-08-09</th>\n",
       "      <td>38</td>\n",
       "    </tr>\n",
       "    <tr>\n",
       "      <th>2016-08-10</th>\n",
       "      <td>35</td>\n",
       "    </tr>\n",
       "  </tbody>\n",
       "</table>\n",
       "</div>"
      ],
      "text/plain": [
       "            amounts\n",
       "date               \n",
       "2016-08-01       33\n",
       "2016-08-02       35\n",
       "2016-08-03       38\n",
       "2016-08-04       39\n",
       "2016-08-05       37\n",
       "2016-08-06       35\n",
       "2016-08-07       35\n",
       "2016-08-08       34\n",
       "2016-08-09       38\n",
       "2016-08-10       35"
      ]
     },
     "execution_count": 124,
     "metadata": {},
     "output_type": "execute_result"
    }
   ],
   "source": [
    "day_median = order_detail_groups.agg({'amounts': 'median'})\n",
    "day_median"
   ]
  },
  {
   "cell_type": "code",
   "execution_count": 150,
   "metadata": {},
   "outputs": [
    {
     "data": {
      "image/png": "[encoded data removed]",
      "text/plain": [
       "<Figure size 576x432 with 1 Axes>"
      ]
     },
     "metadata": {
      "needs_background": "light"
     },
     "output_type": "display_data"
    }
   ],
   "source": [
    "plt.figure(figsize=(8, 6))\n",
    "\n",
    "plt.plot(day_mean.index.values, day_mean['amounts'].values, label='Mean')\n",
    "plt.plot(day_median.index.values, day_median['amounts'].values, label='Median')\n",
    "\n",
    "plt.xticks(label=day_mean.index.values, rotation='45')\n",
    "plt.title('Amounts Mean and Median per Day')\n",
    "plt.legend()\n",
    "\n",
    "plt.show()"
   ]
  },
  {
   "cell_type": "markdown",
   "metadata": {},
   "source": [
    "4. 计算订单详情表单日销售数量，并绘制点线图，其中横坐标为日期，旋转45度，纵坐标为销量，标题为“日销售量\"。"
   ]
  },
  {
   "cell_type": "code",
   "execution_count": 140,
   "metadata": {},
   "outputs": [
    {
     "data": {
      "text/plain": [
       "date\n",
       "2016-08-01    233\n",
       "2016-08-02    151\n",
       "2016-08-03    192\n",
       "2016-08-04    169\n",
       "2016-08-05    224\n",
       "2016-08-06    793\n",
       "2016-08-07    761\n",
       "2016-08-08    171\n",
       "2016-08-09    167\n",
       "2016-08-10    227\n",
       "Name: counts, dtype: int64"
      ]
     },
     "execution_count": 140,
     "metadata": {},
     "output_type": "execute_result"
    }
   ],
   "source": [
    "day_sum = order_detail_groups.apply(np.sum)['counts']\n",
    "day_sum"
   ]
  },
  {
   "cell_type": "code",
   "execution_count": 149,
   "metadata": {},
   "outputs": [
    {
     "data": {
      "image/png": "[encoded data removed]",
      "text/plain": [
       "<Figure size 576x432 with 1 Axes>"
      ]
     },
     "metadata": {
      "needs_background": "light"
     },
     "output_type": "display_data"
    }
   ],
   "source": [
    "plt.figure(figsize=(8, 6))\n",
    "x = day_sum.index.values\n",
    "y = day_sum.values\n",
    "\n",
    "plt.plot(x, y, 'o-')\n",
    "plt.title('Sales Sum per Day')\n",
    "plt.xticks(label=day_sum.index.values, rotation='45')\n",
    "\n",
    "plt.show()"
   ]
  },
  {
   "cell_type": "markdown",
   "metadata": {},
   "source": [
    "#### 第7题  （难易程度：**）\n",
    "\n",
    "对订单详情表进行以下重构操作：\n",
    "\n",
    "1. 以订单编号（order_id）为行索引键创建订单销量（counts）和销售额（amounts）的透视表，并输出前5行；"
   ]
  },
  {
   "cell_type": "code",
   "execution_count": 152,
   "metadata": {},
   "outputs": [
    {
     "data": {
      "text/html": [
       "<div>\n",
       "<style scoped>\n",
       "    .dataframe tbody tr th:only-of-type {\n",
       "        vertical-align: middle;\n",
       "    }\n",
       "\n",
       "    .dataframe tbody tr th {\n",
       "        vertical-align: top;\n",
       "    }\n",
       "\n",
       "    .dataframe thead th {\n",
       "        text-align: right;\n",
       "    }\n",
       "</style>\n",
       "<table border=\"1\" class=\"dataframe\">\n",
       "  <thead>\n",
       "    <tr style=\"text-align: right;\">\n",
       "      <th></th>\n",
       "      <th>amounts</th>\n",
       "      <th>counts</th>\n",
       "    </tr>\n",
       "    <tr>\n",
       "      <th>order_id</th>\n",
       "      <th></th>\n",
       "      <th></th>\n",
       "    </tr>\n",
       "  </thead>\n",
       "  <tbody>\n",
       "    <tr>\n",
       "      <th>137</th>\n",
       "      <td>32.333333</td>\n",
       "      <td>1.500000</td>\n",
       "    </tr>\n",
       "    <tr>\n",
       "      <th>165</th>\n",
       "      <td>52.944444</td>\n",
       "      <td>1.166667</td>\n",
       "    </tr>\n",
       "    <tr>\n",
       "      <th>166</th>\n",
       "      <td>48.200000</td>\n",
       "      <td>1.400000</td>\n",
       "    </tr>\n",
       "    <tr>\n",
       "      <th>171</th>\n",
       "      <td>36.285714</td>\n",
       "      <td>1.428571</td>\n",
       "    </tr>\n",
       "    <tr>\n",
       "      <th>177</th>\n",
       "      <td>34.250000</td>\n",
       "      <td>1.000000</td>\n",
       "    </tr>\n",
       "  </tbody>\n",
       "</table>\n",
       "</div>"
      ],
      "text/plain": [
       "            amounts    counts\n",
       "order_id                     \n",
       "137       32.333333  1.500000\n",
       "165       52.944444  1.166667\n",
       "166       48.200000  1.400000\n",
       "171       36.285714  1.428571\n",
       "177       34.250000  1.000000"
      ]
     },
     "execution_count": 152,
     "metadata": {},
     "output_type": "execute_result"
    }
   ],
   "source": [
    "# 操作代码\n",
    "order_detail_pivot = pd.pivot_table(order_details[['order_id', 'counts', 'amounts']], index='order_id')\n",
    "order_detail_pivot.head()"
   ]
  },
  {
   "cell_type": "markdown",
   "metadata": {},
   "source": [
    "2. 创建使用订单编号（order_id）和菜品名称（dishes_name）作为行索引键创建订单销量（counts）和销售额（amounts）的透视表，输出前5行；"
   ]
  },
  {
   "cell_type": "code",
   "execution_count": 153,
   "metadata": {},
   "outputs": [
    {
     "data": {
      "text/html": [
       "<div>\n",
       "<style scoped>\n",
       "    .dataframe tbody tr th:only-of-type {\n",
       "        vertical-align: middle;\n",
       "    }\n",
       "\n",
       "    .dataframe tbody tr th {\n",
       "        vertical-align: top;\n",
       "    }\n",
       "\n",
       "    .dataframe thead th {\n",
       "        text-align: right;\n",
       "    }\n",
       "</style>\n",
       "<table border=\"1\" class=\"dataframe\">\n",
       "  <thead>\n",
       "    <tr style=\"text-align: right;\">\n",
       "      <th></th>\n",
       "      <th></th>\n",
       "      <th>amounts</th>\n",
       "      <th>counts</th>\n",
       "    </tr>\n",
       "    <tr>\n",
       "      <th>order_id</th>\n",
       "      <th>dishes_name</th>\n",
       "      <th></th>\n",
       "      <th></th>\n",
       "    </tr>\n",
       "  </thead>\n",
       "  <tbody>\n",
       "    <tr>\n",
       "      <th rowspan=\"5\" valign=\"top\">137</th>\n",
       "      <th>农夫山泉NFC果汁100%橙汁</th>\n",
       "      <td>6</td>\n",
       "      <td>1</td>\n",
       "    </tr>\n",
       "    <tr>\n",
       "      <th>凉拌菠菜</th>\n",
       "      <td>27</td>\n",
       "      <td>1</td>\n",
       "    </tr>\n",
       "    <tr>\n",
       "      <th>番茄炖牛腩\\r\\n</th>\n",
       "      <td>35</td>\n",
       "      <td>1</td>\n",
       "    </tr>\n",
       "    <tr>\n",
       "      <th>白饭/小碗</th>\n",
       "      <td>1</td>\n",
       "      <td>4</td>\n",
       "    </tr>\n",
       "    <tr>\n",
       "      <th>西瓜胡萝卜沙拉</th>\n",
       "      <td>26</td>\n",
       "      <td>1</td>\n",
       "    </tr>\n",
       "  </tbody>\n",
       "</table>\n",
       "</div>"
      ],
      "text/plain": [
       "                          amounts  counts\n",
       "order_id dishes_name                     \n",
       "137      农夫山泉NFC果汁100%橙汁        6       1\n",
       "         凉拌菠菜                  27       1\n",
       "         番茄炖牛腩\\r\\n             35       1\n",
       "         白饭/小碗                  1       4\n",
       "         西瓜胡萝卜沙拉               26       1"
      ]
     },
     "execution_count": 153,
     "metadata": {},
     "output_type": "execute_result"
    }
   ],
   "source": [
    "order_detail_pivot2 = pd.pivot_table(order_details[['order_id', 'dishes_name', 'counts', 'amounts']],\n",
    "                                    index=['order_id', 'dishes_name'], aggfunc='sum')\n",
    "order_detail_pivot2.head()"
   ]
  },
  {
   "cell_type": "markdown",
   "metadata": {},
   "source": [
    "3. 创建以订单编号（order_id）为行索引键，菜品名称（dishes_name）作为列索引键的透视表，并将缺失值填充为0，输出前5行4列。"
   ]
  },
  {
   "cell_type": "code",
   "execution_count": 158,
   "metadata": {},
   "outputs": [
    {
     "data": {
      "text/html": [
       "<div>\n",
       "<style scoped>\n",
       "    .dataframe tbody tr th:only-of-type {\n",
       "        vertical-align: middle;\n",
       "    }\n",
       "\n",
       "    .dataframe tbody tr th {\n",
       "        vertical-align: top;\n",
       "    }\n",
       "\n",
       "    .dataframe thead tr th {\n",
       "        text-align: left;\n",
       "    }\n",
       "\n",
       "    .dataframe thead tr:last-of-type th {\n",
       "        text-align: right;\n",
       "    }\n",
       "</style>\n",
       "<table border=\"1\" class=\"dataframe\">\n",
       "  <thead>\n",
       "    <tr>\n",
       "      <th></th>\n",
       "      <th colspan=\"4\" halign=\"left\">amounts</th>\n",
       "    </tr>\n",
       "    <tr>\n",
       "      <th>dishes_name</th>\n",
       "      <th>42度海之蓝</th>\n",
       "      <th>北冰洋汽水</th>\n",
       "      <th>38度剑南春</th>\n",
       "      <th>50度古井贡酒</th>\n",
       "    </tr>\n",
       "    <tr>\n",
       "      <th>order_id</th>\n",
       "      <th></th>\n",
       "      <th></th>\n",
       "      <th></th>\n",
       "      <th></th>\n",
       "    </tr>\n",
       "  </thead>\n",
       "  <tbody>\n",
       "    <tr>\n",
       "      <th>137</th>\n",
       "      <td>0</td>\n",
       "      <td>0</td>\n",
       "      <td>0</td>\n",
       "      <td>0</td>\n",
       "    </tr>\n",
       "    <tr>\n",
       "      <th>165</th>\n",
       "      <td>0</td>\n",
       "      <td>0</td>\n",
       "      <td>80</td>\n",
       "      <td>0</td>\n",
       "    </tr>\n",
       "    <tr>\n",
       "      <th>166</th>\n",
       "      <td>0</td>\n",
       "      <td>0</td>\n",
       "      <td>0</td>\n",
       "      <td>0</td>\n",
       "    </tr>\n",
       "    <tr>\n",
       "      <th>171</th>\n",
       "      <td>0</td>\n",
       "      <td>0</td>\n",
       "      <td>0</td>\n",
       "      <td>0</td>\n",
       "    </tr>\n",
       "    <tr>\n",
       "      <th>177</th>\n",
       "      <td>0</td>\n",
       "      <td>0</td>\n",
       "      <td>0</td>\n",
       "      <td>0</td>\n",
       "    </tr>\n",
       "  </tbody>\n",
       "</table>\n",
       "</div>"
      ],
      "text/plain": [
       "            amounts                        \n",
       "dishes_name  42度海之蓝  北冰洋汽水  38度剑南春  50度古井贡酒\n",
       "order_id                                   \n",
       "137               0       0       0       0\n",
       "165               0       0      80       0\n",
       "166               0       0       0       0\n",
       "171               0       0       0       0\n",
       "177               0       0       0       0"
      ]
     },
     "execution_count": 158,
     "metadata": {},
     "output_type": "execute_result"
    }
   ],
   "source": [
    "order_detail_pivot3 = pd.pivot_table(order_details[['order_id', 'dishes_name', 'counts', 'amounts']],\n",
    "                                    index='order_id', columns='dishes_name', aggfunc='sum', fill_value=0)\n",
    "order_detail_pivot3.iloc[:5,:4]"
   ]
  },
  {
   "cell_type": "markdown",
   "metadata": {},
   "source": [
    "#### 第8题 （难易程度：**）\n",
    "\n",
    "对订单详情表进行以下重构操作：\n",
    "\n",
    "1. 创建单日菜品销售额（amounts）与销量（counts）的交叉表，并输出前5行；"
   ]
  },
  {
   "cell_type": "code",
   "execution_count": 160,
   "metadata": {},
   "outputs": [
    {
     "data": {
      "text/html": [
       "<div>\n",
       "<style scoped>\n",
       "    .dataframe tbody tr th:only-of-type {\n",
       "        vertical-align: middle;\n",
       "    }\n",
       "\n",
       "    .dataframe tbody tr th {\n",
       "        vertical-align: top;\n",
       "    }\n",
       "\n",
       "    .dataframe thead th {\n",
       "        text-align: right;\n",
       "    }\n",
       "</style>\n",
       "<table border=\"1\" class=\"dataframe\">\n",
       "  <thead>\n",
       "    <tr style=\"text-align: right;\">\n",
       "      <th></th>\n",
       "      <th>amounts</th>\n",
       "      <th>counts</th>\n",
       "    </tr>\n",
       "    <tr>\n",
       "      <th>date</th>\n",
       "      <th></th>\n",
       "      <th></th>\n",
       "    </tr>\n",
       "  </thead>\n",
       "  <tbody>\n",
       "    <tr>\n",
       "      <th>2016-08-01</th>\n",
       "      <td>9366</td>\n",
       "      <td>233</td>\n",
       "    </tr>\n",
       "    <tr>\n",
       "      <th>2016-08-02</th>\n",
       "      <td>6125</td>\n",
       "      <td>151</td>\n",
       "    </tr>\n",
       "    <tr>\n",
       "      <th>2016-08-03</th>\n",
       "      <td>6890</td>\n",
       "      <td>192</td>\n",
       "    </tr>\n",
       "    <tr>\n",
       "      <th>2016-08-04</th>\n",
       "      <td>7549</td>\n",
       "      <td>169</td>\n",
       "    </tr>\n",
       "    <tr>\n",
       "      <th>2016-08-05</th>\n",
       "      <td>8671</td>\n",
       "      <td>224</td>\n",
       "    </tr>\n",
       "  </tbody>\n",
       "</table>\n",
       "</div>"
      ],
      "text/plain": [
       "            amounts  counts\n",
       "date                       \n",
       "2016-08-01     9366     233\n",
       "2016-08-02     6125     151\n",
       "2016-08-03     6890     192\n",
       "2016-08-04     7549     169\n",
       "2016-08-05     8671     224"
      ]
     },
     "execution_count": 160,
     "metadata": {},
     "output_type": "execute_result"
    }
   ],
   "source": [
    "# 操作代码\n",
    "order_details['place_order_time'] = pd.to_datetime(order_details['place_order_time'])\n",
    "order_details['date'] = [dt.date() for dt in order_details['place_order_time']]\n",
    "\n",
    "order_details_pivot4 = pd.pivot_table(order_details[['date', 'dishes_name', 'counts', 'amounts']], \n",
    "                                      index='date', aggfunc='sum')\n",
    "order_details_pivot4.head()"
   ]
  },
  {
   "cell_type": "markdown",
   "metadata": {},
   "source": [
    "2. 在同一图表上绘制上述单日菜品销售额（蓝）与销量（红）的点线图（趋势图），其中横坐标为日期（共享,标签旋转30度，右对齐），纵坐标分别为成交额和销量，标题为\"2016年八月份日销售额和销量\"。"
   ]
  },
  {
   "cell_type": "code",
   "execution_count": 210,
   "metadata": {},
   "outputs": [
    {
     "data": {
      "image/png": "[encoded data removed]",
      "text/plain": [
       "<Figure size 576x576 with 2 Axes>"
      ]
     },
     "metadata": {
      "needs_background": "light"
     },
     "output_type": "display_data"
    }
   ],
   "source": [
    "fig, (ax1, ax2) = plt.subplots(2, 1, sharex=True, figsize=(8, 8), constrained_layout=True)\n",
    "\n",
    "ax1.plot(order_details_pivot4['amounts'], 'o-')\n",
    "ax2.plot(order_details_pivot4['counts'], 'o-', c='red')\n",
    "\n",
    "plt.setp(ax2.get_xticklabels(), rotation=30, ha=\"right\")\n",
    "plt.suptitle('2016.8 Counts and Amounts')\n",
    "\n",
    "plt.show()"
   ]
  },
  {
   "cell_type": "markdown",
   "metadata": {},
   "source": [
    "3. 创建单个菜品单日销售额的交叉表，包含汇总行和列，并输出后5行5列。"
   ]
  },
  {
   "cell_type": "code",
   "execution_count": 216,
   "metadata": {},
   "outputs": [
    {
     "data": {
      "text/html": [
       "<div>\n",
       "<style scoped>\n",
       "    .dataframe tbody tr th:only-of-type {\n",
       "        vertical-align: middle;\n",
       "    }\n",
       "\n",
       "    .dataframe tbody tr th {\n",
       "        vertical-align: top;\n",
       "    }\n",
       "\n",
       "    .dataframe thead th {\n",
       "        text-align: right;\n",
       "    }\n",
       "</style>\n",
       "<table border=\"1\" class=\"dataframe\">\n",
       "  <thead>\n",
       "    <tr style=\"text-align: right;\">\n",
       "      <th>dishes_name</th>\n",
       "      <th>黄尾袋鼠西拉子红葡萄酒</th>\n",
       "      <th>黄油曲奇饼干</th>\n",
       "      <th>黄花菜炒木耳</th>\n",
       "      <th>黑米恋上葡萄</th>\n",
       "      <th>All</th>\n",
       "    </tr>\n",
       "    <tr>\n",
       "      <th>date</th>\n",
       "      <th></th>\n",
       "      <th></th>\n",
       "      <th></th>\n",
       "      <th></th>\n",
       "      <th></th>\n",
       "    </tr>\n",
       "  </thead>\n",
       "  <tbody>\n",
       "    <tr>\n",
       "      <th>2016-08-07</th>\n",
       "      <td>230.0</td>\n",
       "      <td>32.0</td>\n",
       "      <td>105.0</td>\n",
       "      <td>99.0</td>\n",
       "      <td>31306</td>\n",
       "    </tr>\n",
       "    <tr>\n",
       "      <th>2016-08-08</th>\n",
       "      <td>46.0</td>\n",
       "      <td>NaN</td>\n",
       "      <td>NaN</td>\n",
       "      <td>33.0</td>\n",
       "      <td>6532</td>\n",
       "    </tr>\n",
       "    <tr>\n",
       "      <th>2016-08-09</th>\n",
       "      <td>138.0</td>\n",
       "      <td>NaN</td>\n",
       "      <td>35.0</td>\n",
       "      <td>99.0</td>\n",
       "      <td>7155</td>\n",
       "    </tr>\n",
       "    <tr>\n",
       "      <th>2016-08-10</th>\n",
       "      <td>46.0</td>\n",
       "      <td>NaN</td>\n",
       "      <td>70.0</td>\n",
       "      <td>33.0</td>\n",
       "      <td>10231</td>\n",
       "    </tr>\n",
       "    <tr>\n",
       "      <th>All</th>\n",
       "      <td>736.0</td>\n",
       "      <td>80.0</td>\n",
       "      <td>525.0</td>\n",
       "      <td>561.0</td>\n",
       "      <td>125992</td>\n",
       "    </tr>\n",
       "  </tbody>\n",
       "</table>\n",
       "</div>"
      ],
      "text/plain": [
       "dishes_name  黄尾袋鼠西拉子红葡萄酒  黄油曲奇饼干  黄花菜炒木耳  黑米恋上葡萄     All\n",
       "date                                                    \n",
       "2016-08-07         230.0    32.0   105.0    99.0   31306\n",
       "2016-08-08          46.0     NaN     NaN    33.0    6532\n",
       "2016-08-09         138.0     NaN    35.0    99.0    7155\n",
       "2016-08-10          46.0     NaN    70.0    33.0   10231\n",
       "All                736.0    80.0   525.0   561.0  125992"
      ]
     },
     "execution_count": 216,
     "metadata": {},
     "output_type": "execute_result"
    }
   ],
   "source": [
    "order_details_cross = pd.crosstab(index=order_details['date'], \n",
    "                                  columns=order_details['dishes_name'],\n",
    "                                  values=order_details['amounts'], \n",
    "                                  aggfunc='sum',\n",
    "                                  margins=True)\n",
    "order_details_cross.iloc[-5:, -5:]"
   ]
  },
  {
   "cell_type": "markdown",
   "metadata": {},
   "source": [
    "#### 第9题 （难易程度：** ）\n",
    "\n",
    "重新导入订单详情表，然后完成以下操作：\n",
    "\n",
    "1. 导入订单详情表的其余两个sheet页，然后将其纵向合并为一张表，输出合并前后订单详情表的形状；"
   ]
  },
  {
   "cell_type": "code",
   "execution_count": 264,
   "metadata": {},
   "outputs": [
    {
     "data": {
      "text/plain": [
       "(10037, 19)"
      ]
     },
     "execution_count": 264,
     "metadata": {},
     "output_type": "execute_result"
    }
   ],
   "source": [
    "# 操作代码\n",
    "order_detail1 = pd.read_excel('data/meal_order_detail.xlsx')\n",
    "order_detail2 = pd.read_excel('data/meal_order_detail.xlsx', sheet_name='meal_order_detail2')\n",
    "order_detail3 = pd.read_excel('data/meal_order_detail.xlsx', sheet_name='meal_order_detail3')\n",
    "\n",
    "order_details_all = pd.concat([order_detail1, order_detail2, order_detail3])\n",
    "order_details_all.shape"
   ]
  },
  {
   "cell_type": "markdown",
   "metadata": {},
   "source": [
    "2. 对合并后的订单详情表进行样本（记录）去重和特征去重，并输出去重前后订单详情表的形状；"
   ]
  },
  {
   "cell_type": "code",
   "execution_count": 265,
   "metadata": {},
   "outputs": [
    {
     "name": "stdout",
     "output_type": "stream",
     "text": [
      "去重前： (10037, 19)\n",
      "去重后： (10037, 19)\n"
     ]
    }
   ],
   "source": [
    "# 样本去重\n",
    "print('去重前：', order_details_all.shape)\n",
    "order_details_all.drop_duplicates(inplace=True)\n",
    "print('去重后：', order_details_all.shape)"
   ]
  },
  {
   "cell_type": "code",
   "execution_count": 266,
   "metadata": {},
   "outputs": [
    {
     "name": "stdout",
     "output_type": "stream",
     "text": [
      "去重前： (10037, 19)\n",
      "去重后： (10037, 11)\n"
     ]
    }
   ],
   "source": [
    "# 特征去重\n",
    "def feature_equals(df):\n",
    "    df_equals = pd.DataFrame([], columns=df.columns, index=df.columns)\n",
    "    for i in df.columns:\n",
    "        for j in df.columns:\n",
    "            df_equals.loc[i,j] = df.loc[:, i].equals(df.loc[:,j])\n",
    "    return df_equals\n",
    "\n",
    "detail_equals = feature_equals(order_details_all)\n",
    "\n",
    "# 遍历所有数据\n",
    "detail_len = detail_equals.shape[0]\n",
    "dup_cols = []\n",
    "\n",
    "for k in range(detail_len):\n",
    "    for l in range(k+1, detail_len):\n",
    "        if detail_equals.iloc[k, l] & (detail_equals.columns[l] not in dup_cols):\n",
    "            dup_cols.append(detail_equals.columns[l])\n",
    "\n",
    "print('去重前：', order_details_all.shape)\n",
    "order_details_all.drop(dup_cols, axis=1, inplace=True)\n",
    "print('去重后：', order_details_all.shape)"
   ]
  },
  {
   "cell_type": "markdown",
   "metadata": {},
   "source": [
    "3. 统计合并后订单详情表各个特征的缺失率（百分比），删除全部数据缺失的列，输出缺失值处理后的缺失数量。"
   ]
  },
  {
   "cell_type": "code",
   "execution_count": 267,
   "metadata": {},
   "outputs": [
    {
     "data": {
      "text/plain": [
       "detail_id             0.0%\n",
       "order_id              0.0%\n",
       "dishes_id             0.0%\n",
       "logicprn_name       100.0%\n",
       "dishes_name           0.0%\n",
       "itemis_add            0.0%\n",
       "counts                0.0%\n",
       "amounts               0.0%\n",
       "place_order_time      0.0%\n",
       "picture_file          0.0%\n",
       "emp_id                0.0%\n",
       "dtype: object"
      ]
     },
     "execution_count": 267,
     "metadata": {},
     "output_type": "execute_result"
    }
   ],
   "source": [
    "# 统计各个特征的缺失率\n",
    "na_rate = (order_details_all.isna().sum() / order_details_all.shape[0] * 100).astype('str') + '%'\n",
    "na_rate"
   ]
  },
  {
   "cell_type": "code",
   "execution_count": 268,
   "metadata": {},
   "outputs": [
    {
     "data": {
      "text/plain": [
       "detail_id           0\n",
       "order_id            0\n",
       "dishes_id           0\n",
       "dishes_name         0\n",
       "counts              0\n",
       "amounts             0\n",
       "place_order_time    0\n",
       "picture_file        0\n",
       "emp_id              0\n",
       "date                0\n",
       "dtype: int64"
      ]
     },
     "execution_count": 268,
     "metadata": {},
     "output_type": "execute_result"
    }
   ],
   "source": [
    "# 删除全部数据均为缺失的列\n",
    "order_details_all.dropna(axis=1, how='all', inplace=True)\n",
    "order_details.isnull().sum()"
   ]
  },
  {
   "cell_type": "markdown",
   "metadata": {},
   "source": [
    "#### 第10题 （难易程度：**）\n",
    "\n",
    "在第9题操作的基础上，完成以下操作：\n",
    "\n",
    "1. 绘制合并后订单详情表菜品销量（counts）的箱线图，以识别其异常值，要求通过箱线图的异常值标签获取异常值的个数、最大最小值统计信息，然后将这些统计信息作为文本注解添加到图表中，图表标题为\"菜品销量箱线图\"，图表保存为\"details-10.png\"文件。"
   ]
  },
  {
   "cell_type": "code",
   "execution_count": 269,
   "metadata": {},
   "outputs": [
    {
     "data": {
      "image/png": "[encoded data removed]",
      "text/plain": [
       "<Figure size 720x576 with 1 Axes>"
      ]
     },
     "metadata": {
      "needs_background": "light"
     },
     "output_type": "display_data"
    }
   ],
   "source": [
    "# 操作代码\n",
    "plt.figure(figsize=(10, 8))\n",
    "p = plt.boxplot(order_details_all['counts'].values, notch=True)\n",
    "\n",
    "# 获取异常值统计信息\n",
    "outliers = p['fliers'][0].get_ydata()\n",
    "num_outliers = len(outliers)\n",
    "max_outlier = max(outliers)\n",
    "min_outlier = min(outliers)\n",
    "\n",
    "plt.text(1.2, 9.5, 'Num:{}'.format(num_outliers), fontsize=20, color='r')\n",
    "plt.text(1.2, 8.5, 'Max:{}'.format(max_outlier), fontsize=20, color='g')\n",
    "plt.text(1.2, 7.5, 'Min:{}'.format(min_outlier), fontsize=20, color='b')\n",
    "plt.title('Counts Box Plot')\n",
    "\n",
    "plt.savefig('details-10.png')\n",
    "plt.show()"
   ]
  },
  {
   "cell_type": "markdown",
   "metadata": {},
   "source": [
    "2. 通过替换法处理合并后订单详情表的销量（counts）和销售额（amounts）列存在的异常值，并输出替换后销量和销售额的最大最小值。"
   ]
  },
  {
   "cell_type": "code",
   "execution_count": 270,
   "metadata": {},
   "outputs": [],
   "source": [
    "# 定义异常值识别与处理函数\n",
    "def proc_outlier(series):\n",
    "    ql = series.quantile(0.25) # 上四分位\n",
    "    qu = series.quantile(0.75) # 下四分位\n",
    "    \n",
    "    iqr = qu - ql # 四分位数间距\n",
    "    \n",
    "    # 异常值定义为小于ql-1.5*iqr或大于qu+1.5*iqr\n",
    "    series.loc[series > (qu + 1.5 * iqr)] = qu\n",
    "    series.loc[series < (ql - 1.5 * iqr)] = ql\n",
    "    \n",
    "    return series"
   ]
  },
  {
   "cell_type": "code",
   "execution_count": 271,
   "metadata": {},
   "outputs": [
    {
     "name": "stdout",
     "output_type": "stream",
     "text": [
      "----------替换前----------\n",
      "销量最小值： 1\n",
      "销量最大值： 10\n",
      "售额最小值： 1\n",
      "售额最大值： 178\n",
      "----------替换后----------\n",
      "销量最小值： 1.0\n",
      "销量最大值： 1.0\n",
      "售额最小值： 1.0\n",
      "售额最大值： 99.0\n"
     ]
    }
   ],
   "source": [
    "# 处理销售量和销售额的异常值\n",
    "print('-'* 10 + '替换前' + '-' * 10)\n",
    "print('销量最小值：', order_details_all['counts'].min())\n",
    "print('销量最大值：', order_details_all['counts'].max())\n",
    "print('售额最小值：', order_details_all['amounts'].min())\n",
    "print('售额最大值：', order_details_all['amounts'].max())\n",
    "\n",
    "order_details_all['counts'] = proc_outlier(order_details_all['counts'])\n",
    "order_details_all['amounts'] = proc_outlier(order_details_all['amounts'])\n",
    "\n",
    "print('-'* 10 + '替换后' + '-' * 10)\n",
    "print('销量最小值：', order_details_all['counts'].min())\n",
    "print('销量最大值：', order_details_all['counts'].max())\n",
    "print('售额最小值：', order_details_all['amounts'].min())\n",
    "print('售额最大值：', order_details_all['amounts'].max())"
   ]
  },
  {
   "cell_type": "markdown",
   "metadata": {},
   "source": [
    "#### 第11题 （难易程度：**）\n",
    "\n",
    "在第10题操作的基础上，完成以下操作：\n",
    "\n",
    "1. 订单详情表（合并后）、订单信息表和用户表之间存在关联，请通过主键合并的方式将3张表横向合并为一张宽表"
   ]
  },
  {
   "cell_type": "code",
   "execution_count": 277,
   "metadata": {},
   "outputs": [
    {
     "data": {
      "text/plain": [
       "detail_id                    int64\n",
       "order_id                    object\n",
       "dishes_id                    int64\n",
       "dishes_name                 object\n",
       "itemis_add                   int64\n",
       "counts                     float64\n",
       "amounts                    float64\n",
       "place_order_time    datetime64[ns]\n",
       "picture_file                object\n",
       "emp_id                      object\n",
       "dtype: object"
      ]
     },
     "execution_count": 277,
     "metadata": {},
     "output_type": "execute_result"
    }
   ],
   "source": [
    "# 操作代码\n",
    "order_details_all['order_id'] = order_details_all['order_id'].astype('str')\n",
    "order_details_all['emp_id'] = order_details_all['emp_id'].astype('str')\n",
    "orders['info_id'] = orders['info_id'].astype('str')\n",
    "orders['emp_id'] = orders['emp_id'].astype('str')\n",
    "users['USER_ID'] = users['USER_ID'].astype('str')\n",
    "order_details_all.dtypes"
   ]
  },
  {
   "cell_type": "code",
   "execution_count": 276,
   "metadata": {},
   "outputs": [
    {
     "data": {
      "text/plain": [
       "info_id                      object\n",
       "emp_id                       object\n",
       "number_consumers              int64\n",
       "dining_table_id               int64\n",
       "dining_table_name             int64\n",
       "expenditure                   int64\n",
       "dishes_count                  int64\n",
       "accounts_payable              int64\n",
       "use_start_time       datetime64[ns]\n",
       "lock_time            datetime64[ns]\n",
       "org_id                        int64\n",
       "order_status                  int64\n",
       "phone                         int64\n",
       "name                         object\n",
       "dtype: object"
      ]
     },
     "execution_count": 276,
     "metadata": {},
     "output_type": "execute_result"
    }
   ],
   "source": [
    "orders.dtypes"
   ]
  },
  {
   "cell_type": "code",
   "execution_count": 278,
   "metadata": {},
   "outputs": [
    {
     "data": {
      "text/plain": [
       "(10037, 39)"
      ]
     },
     "execution_count": 278,
     "metadata": {},
     "output_type": "execute_result"
    }
   ],
   "source": [
    "data_merged = pd.merge(order_details_all, orders, left_on=['order_id', 'emp_id'], right_on=['info_id', 'emp_id'])\n",
    "data_merged = pd.merge(data_merged, users, left_on='emp_id', right_on='USER_ID', how='inner')\n",
    "data_merged.shape"
   ]
  },
  {
   "cell_type": "code",
   "execution_count": 280,
   "metadata": {},
   "outputs": [
    {
     "name": "stdout",
     "output_type": "stream",
     "text": [
      "<class 'pandas.core.frame.DataFrame'>\n",
      "Int64Index: 10037 entries, 0 to 10036\n",
      "Data columns (total 39 columns):\n",
      "detail_id            10037 non-null int64\n",
      "order_id             10037 non-null object\n",
      "dishes_id            10037 non-null int64\n",
      "dishes_name          10037 non-null object\n",
      "itemis_add           10037 non-null int64\n",
      "counts               10037 non-null float64\n",
      "amounts              10037 non-null float64\n",
      "place_order_time     10037 non-null datetime64[ns]\n",
      "picture_file         10037 non-null object\n",
      "emp_id               10037 non-null object\n",
      "info_id              10037 non-null object\n",
      "number_consumers     10037 non-null int64\n",
      "dining_table_id      10037 non-null int64\n",
      "dining_table_name    10037 non-null int64\n",
      "expenditure          10037 non-null int64\n",
      "dishes_count         10037 non-null int64\n",
      "accounts_payable     10037 non-null int64\n",
      "use_start_time       10037 non-null datetime64[ns]\n",
      "lock_time            10037 non-null datetime64[ns]\n",
      "org_id               10037 non-null int64\n",
      "order_status         10037 non-null int64\n",
      "phone                10037 non-null int64\n",
      "name                 10037 non-null object\n",
      "USER_ID              10037 non-null object\n",
      "ACCOUNT              10037 non-null object\n",
      "NAME                 10037 non-null object\n",
      "ORGANIZE_ID          10037 non-null int64\n",
      "ORGANIZE_NAME        10037 non-null object\n",
      "PASSWORD             10037 non-null object\n",
      "FIRST_VISIT          10037 non-null datetime64[ns]\n",
      "LAST_VISITS          10037 non-null datetime64[ns]\n",
      "CREATED              10037 non-null datetime64[ns]\n",
      "CREATER              10037 non-null float64\n",
      "TEL                  10037 non-null float64\n",
      "stuNo                10037 non-null object\n",
      "sex                  10037 non-null object\n",
      "poo                  10037 non-null object\n",
      "address              10037 non-null object\n",
      "age                  10037 non-null float64\n",
      "dtypes: datetime64[ns](6), float64(5), int64(13), object(15)\n",
      "memory usage: 3.1+ MB\n"
     ]
    }
   ],
   "source": [
    "data_merged.info()"
   ]
  },
  {
   "cell_type": "code",
   "execution_count": 282,
   "metadata": {},
   "outputs": [
    {
     "data": {
      "text/html": [
       "<div>\n",
       "<style scoped>\n",
       "    .dataframe tbody tr th:only-of-type {\n",
       "        vertical-align: middle;\n",
       "    }\n",
       "\n",
       "    .dataframe tbody tr th {\n",
       "        vertical-align: top;\n",
       "    }\n",
       "\n",
       "    .dataframe thead th {\n",
       "        text-align: right;\n",
       "    }\n",
       "</style>\n",
       "<table border=\"1\" class=\"dataframe\">\n",
       "  <thead>\n",
       "    <tr style=\"text-align: right;\">\n",
       "      <th></th>\n",
       "      <th>0</th>\n",
       "      <th>1</th>\n",
       "      <th>2</th>\n",
       "    </tr>\n",
       "  </thead>\n",
       "  <tbody>\n",
       "    <tr>\n",
       "      <th>detail_id</th>\n",
       "      <td>2956</td>\n",
       "      <td>2958</td>\n",
       "      <td>2961</td>\n",
       "    </tr>\n",
       "    <tr>\n",
       "      <th>order_id</th>\n",
       "      <td>417</td>\n",
       "      <td>417</td>\n",
       "      <td>417</td>\n",
       "    </tr>\n",
       "    <tr>\n",
       "      <th>dishes_id</th>\n",
       "      <td>610062</td>\n",
       "      <td>609957</td>\n",
       "      <td>609950</td>\n",
       "    </tr>\n",
       "    <tr>\n",
       "      <th>dishes_name</th>\n",
       "      <td>蒜蓉生蚝</td>\n",
       "      <td>蒙古烤羊腿\\r\\n\\r\\n\\r\\n</td>\n",
       "      <td>大蒜苋菜</td>\n",
       "    </tr>\n",
       "    <tr>\n",
       "      <th>itemis_add</th>\n",
       "      <td>0</td>\n",
       "      <td>0</td>\n",
       "      <td>0</td>\n",
       "    </tr>\n",
       "    <tr>\n",
       "      <th>counts</th>\n",
       "      <td>1</td>\n",
       "      <td>1</td>\n",
       "      <td>1</td>\n",
       "    </tr>\n",
       "    <tr>\n",
       "      <th>amounts</th>\n",
       "      <td>49</td>\n",
       "      <td>48</td>\n",
       "      <td>30</td>\n",
       "    </tr>\n",
       "    <tr>\n",
       "      <th>place_order_time</th>\n",
       "      <td>2016-08-01 11:05:36</td>\n",
       "      <td>2016-08-01 11:07:07</td>\n",
       "      <td>2016-08-01 11:07:40</td>\n",
       "    </tr>\n",
       "    <tr>\n",
       "      <th>picture_file</th>\n",
       "      <td>caipu/104001.jpg</td>\n",
       "      <td>caipu/202003.jpg</td>\n",
       "      <td>caipu/303001.jpg</td>\n",
       "    </tr>\n",
       "    <tr>\n",
       "      <th>emp_id</th>\n",
       "      <td>1442</td>\n",
       "      <td>1442</td>\n",
       "      <td>1442</td>\n",
       "    </tr>\n",
       "    <tr>\n",
       "      <th>info_id</th>\n",
       "      <td>417</td>\n",
       "      <td>417</td>\n",
       "      <td>417</td>\n",
       "    </tr>\n",
       "    <tr>\n",
       "      <th>number_consumers</th>\n",
       "      <td>4</td>\n",
       "      <td>4</td>\n",
       "      <td>4</td>\n",
       "    </tr>\n",
       "    <tr>\n",
       "      <th>dining_table_id</th>\n",
       "      <td>1501</td>\n",
       "      <td>1501</td>\n",
       "      <td>1501</td>\n",
       "    </tr>\n",
       "    <tr>\n",
       "      <th>dining_table_name</th>\n",
       "      <td>1022</td>\n",
       "      <td>1022</td>\n",
       "      <td>1022</td>\n",
       "    </tr>\n",
       "    <tr>\n",
       "      <th>expenditure</th>\n",
       "      <td>165</td>\n",
       "      <td>165</td>\n",
       "      <td>165</td>\n",
       "    </tr>\n",
       "    <tr>\n",
       "      <th>dishes_count</th>\n",
       "      <td>5</td>\n",
       "      <td>5</td>\n",
       "      <td>5</td>\n",
       "    </tr>\n",
       "    <tr>\n",
       "      <th>accounts_payable</th>\n",
       "      <td>165</td>\n",
       "      <td>165</td>\n",
       "      <td>165</td>\n",
       "    </tr>\n",
       "    <tr>\n",
       "      <th>use_start_time</th>\n",
       "      <td>2016-08-01 11:05:36</td>\n",
       "      <td>2016-08-01 11:05:36</td>\n",
       "      <td>2016-08-01 11:05:36</td>\n",
       "    </tr>\n",
       "    <tr>\n",
       "      <th>lock_time</th>\n",
       "      <td>2016-08-01 11:11:46</td>\n",
       "      <td>2016-08-01 11:11:46</td>\n",
       "      <td>2016-08-01 11:11:46</td>\n",
       "    </tr>\n",
       "    <tr>\n",
       "      <th>org_id</th>\n",
       "      <td>330</td>\n",
       "      <td>330</td>\n",
       "      <td>330</td>\n",
       "    </tr>\n",
       "    <tr>\n",
       "      <th>order_status</th>\n",
       "      <td>1</td>\n",
       "      <td>1</td>\n",
       "      <td>1</td>\n",
       "    </tr>\n",
       "    <tr>\n",
       "      <th>phone</th>\n",
       "      <td>18688880641</td>\n",
       "      <td>18688880641</td>\n",
       "      <td>18688880641</td>\n",
       "    </tr>\n",
       "    <tr>\n",
       "      <th>name</th>\n",
       "      <td>苗宇怡</td>\n",
       "      <td>苗宇怡</td>\n",
       "      <td>苗宇怡</td>\n",
       "    </tr>\n",
       "    <tr>\n",
       "      <th>USER_ID</th>\n",
       "      <td>1442</td>\n",
       "      <td>1442</td>\n",
       "      <td>1442</td>\n",
       "    </tr>\n",
       "    <tr>\n",
       "      <th>ACCOUNT</th>\n",
       "      <td>苗宇怡</td>\n",
       "      <td>苗宇怡</td>\n",
       "      <td>苗宇怡</td>\n",
       "    </tr>\n",
       "    <tr>\n",
       "      <th>NAME</th>\n",
       "      <td>a571</td>\n",
       "      <td>a571</td>\n",
       "      <td>a571</td>\n",
       "    </tr>\n",
       "    <tr>\n",
       "      <th>ORGANIZE_ID</th>\n",
       "      <td>330</td>\n",
       "      <td>330</td>\n",
       "      <td>330</td>\n",
       "    </tr>\n",
       "    <tr>\n",
       "      <th>ORGANIZE_NAME</th>\n",
       "      <td>统计17级</td>\n",
       "      <td>统计17级</td>\n",
       "      <td>统计17级</td>\n",
       "    </tr>\n",
       "    <tr>\n",
       "      <th>PASSWORD</th>\n",
       "      <td>202cb962ac59075b964b07152d234b312</td>\n",
       "      <td>202cb962ac59075b964b07152d234b312</td>\n",
       "      <td>202cb962ac59075b964b07152d234b312</td>\n",
       "    </tr>\n",
       "    <tr>\n",
       "      <th>FIRST_VISIT</th>\n",
       "      <td>2015-12-16 19:43:37</td>\n",
       "      <td>2015-12-16 19:43:37</td>\n",
       "      <td>2015-12-16 19:43:37</td>\n",
       "    </tr>\n",
       "    <tr>\n",
       "      <th>LAST_VISITS</th>\n",
       "      <td>2016-08-01 11:05:36</td>\n",
       "      <td>2016-08-01 11:05:36</td>\n",
       "      <td>2016-08-01 11:05:36</td>\n",
       "    </tr>\n",
       "    <tr>\n",
       "      <th>CREATED</th>\n",
       "      <td>2015-12-16 19:43:37</td>\n",
       "      <td>2015-12-16 19:43:37</td>\n",
       "      <td>2015-12-16 19:43:37</td>\n",
       "    </tr>\n",
       "    <tr>\n",
       "      <th>CREATER</th>\n",
       "      <td>1070</td>\n",
       "      <td>1070</td>\n",
       "      <td>1070</td>\n",
       "    </tr>\n",
       "    <tr>\n",
       "      <th>TEL</th>\n",
       "      <td>1.86889e+10</td>\n",
       "      <td>1.86889e+10</td>\n",
       "      <td>1.86889e+10</td>\n",
       "    </tr>\n",
       "    <tr>\n",
       "      <th>stuNo</th>\n",
       "      <td>2017571</td>\n",
       "      <td>2017571</td>\n",
       "      <td>2017571</td>\n",
       "    </tr>\n",
       "    <tr>\n",
       "      <th>sex</th>\n",
       "      <td>女</td>\n",
       "      <td>女</td>\n",
       "      <td>女</td>\n",
       "    </tr>\n",
       "    <tr>\n",
       "      <th>poo</th>\n",
       "      <td>天津</td>\n",
       "      <td>天津</td>\n",
       "      <td>天津</td>\n",
       "    </tr>\n",
       "    <tr>\n",
       "      <th>address</th>\n",
       "      <td>广州</td>\n",
       "      <td>广州</td>\n",
       "      <td>广州</td>\n",
       "    </tr>\n",
       "    <tr>\n",
       "      <th>age</th>\n",
       "      <td>23</td>\n",
       "      <td>23</td>\n",
       "      <td>23</td>\n",
       "    </tr>\n",
       "  </tbody>\n",
       "</table>\n",
       "</div>"
      ],
      "text/plain": [
       "                                                   0  \\\n",
       "detail_id                                       2956   \n",
       "order_id                                         417   \n",
       "dishes_id                                     610062   \n",
       "dishes_name                                     蒜蓉生蚝   \n",
       "itemis_add                                         0   \n",
       "counts                                             1   \n",
       "amounts                                           49   \n",
       "place_order_time                 2016-08-01 11:05:36   \n",
       "picture_file                        caipu/104001.jpg   \n",
       "emp_id                                          1442   \n",
       "info_id                                          417   \n",
       "number_consumers                                   4   \n",
       "dining_table_id                                 1501   \n",
       "dining_table_name                               1022   \n",
       "expenditure                                      165   \n",
       "dishes_count                                       5   \n",
       "accounts_payable                                 165   \n",
       "use_start_time                   2016-08-01 11:05:36   \n",
       "lock_time                        2016-08-01 11:11:46   \n",
       "org_id                                           330   \n",
       "order_status                                       1   \n",
       "phone                                    18688880641   \n",
       "name                                             苗宇怡   \n",
       "USER_ID                                         1442   \n",
       "ACCOUNT                                          苗宇怡   \n",
       "NAME                                            a571   \n",
       "ORGANIZE_ID                                      330   \n",
       "ORGANIZE_NAME                                  统计17级   \n",
       "PASSWORD           202cb962ac59075b964b07152d234b312   \n",
       "FIRST_VISIT                      2015-12-16 19:43:37   \n",
       "LAST_VISITS                      2016-08-01 11:05:36   \n",
       "CREATED                          2015-12-16 19:43:37   \n",
       "CREATER                                         1070   \n",
       "TEL                                      1.86889e+10   \n",
       "stuNo                                        2017571   \n",
       "sex                                                女   \n",
       "poo                                               天津   \n",
       "address                                           广州   \n",
       "age                                               23   \n",
       "\n",
       "                                                   1  \\\n",
       "detail_id                                       2958   \n",
       "order_id                                         417   \n",
       "dishes_id                                     609957   \n",
       "dishes_name                        蒙古烤羊腿\\r\\n\\r\\n\\r\\n   \n",
       "itemis_add                                         0   \n",
       "counts                                             1   \n",
       "amounts                                           48   \n",
       "place_order_time                 2016-08-01 11:07:07   \n",
       "picture_file                        caipu/202003.jpg   \n",
       "emp_id                                          1442   \n",
       "info_id                                          417   \n",
       "number_consumers                                   4   \n",
       "dining_table_id                                 1501   \n",
       "dining_table_name                               1022   \n",
       "expenditure                                      165   \n",
       "dishes_count                                       5   \n",
       "accounts_payable                                 165   \n",
       "use_start_time                   2016-08-01 11:05:36   \n",
       "lock_time                        2016-08-01 11:11:46   \n",
       "org_id                                           330   \n",
       "order_status                                       1   \n",
       "phone                                    18688880641   \n",
       "name                                             苗宇怡   \n",
       "USER_ID                                         1442   \n",
       "ACCOUNT                                          苗宇怡   \n",
       "NAME                                            a571   \n",
       "ORGANIZE_ID                                      330   \n",
       "ORGANIZE_NAME                                  统计17级   \n",
       "PASSWORD           202cb962ac59075b964b07152d234b312   \n",
       "FIRST_VISIT                      2015-12-16 19:43:37   \n",
       "LAST_VISITS                      2016-08-01 11:05:36   \n",
       "CREATED                          2015-12-16 19:43:37   \n",
       "CREATER                                         1070   \n",
       "TEL                                      1.86889e+10   \n",
       "stuNo                                        2017571   \n",
       "sex                                                女   \n",
       "poo                                               天津   \n",
       "address                                           广州   \n",
       "age                                               23   \n",
       "\n",
       "                                                   2  \n",
       "detail_id                                       2961  \n",
       "order_id                                         417  \n",
       "dishes_id                                     609950  \n",
       "dishes_name                                     大蒜苋菜  \n",
       "itemis_add                                         0  \n",
       "counts                                             1  \n",
       "amounts                                           30  \n",
       "place_order_time                 2016-08-01 11:07:40  \n",
       "picture_file                        caipu/303001.jpg  \n",
       "emp_id                                          1442  \n",
       "info_id                                          417  \n",
       "number_consumers                                   4  \n",
       "dining_table_id                                 1501  \n",
       "dining_table_name                               1022  \n",
       "expenditure                                      165  \n",
       "dishes_count                                       5  \n",
       "accounts_payable                                 165  \n",
       "use_start_time                   2016-08-01 11:05:36  \n",
       "lock_time                        2016-08-01 11:11:46  \n",
       "org_id                                           330  \n",
       "order_status                                       1  \n",
       "phone                                    18688880641  \n",
       "name                                             苗宇怡  \n",
       "USER_ID                                         1442  \n",
       "ACCOUNT                                          苗宇怡  \n",
       "NAME                                            a571  \n",
       "ORGANIZE_ID                                      330  \n",
       "ORGANIZE_NAME                                  统计17级  \n",
       "PASSWORD           202cb962ac59075b964b07152d234b312  \n",
       "FIRST_VISIT                      2015-12-16 19:43:37  \n",
       "LAST_VISITS                      2016-08-01 11:05:36  \n",
       "CREATED                          2015-12-16 19:43:37  \n",
       "CREATER                                         1070  \n",
       "TEL                                      1.86889e+10  \n",
       "stuNo                                        2017571  \n",
       "sex                                                女  \n",
       "poo                                               天津  \n",
       "address                                           广州  \n",
       "age                                               23  "
      ]
     },
     "execution_count": 282,
     "metadata": {},
     "output_type": "execute_result"
    }
   ],
   "source": [
    "data_merged.head(3).T"
   ]
  },
  {
   "cell_type": "markdown",
   "metadata": {},
   "source": [
    "2. 对合并后宽表的进行缺失值可视化检测，若存在缺失值，则进行以下处理：\n",
    "   - 删除全空列\n",
    "   - 对于部分为空值的数值型特征列，使用均值填充\n",
    "   - 对于部分为空值的类别型特征列，使用前向和反向填充"
   ]
  },
  {
   "cell_type": "code",
   "execution_count": 286,
   "metadata": {},
   "outputs": [
    {
     "data": {
      "image/png": "[encoded data removed]",
      "text/plain": [
       "<Figure size 720x360 with 1 Axes>"
      ]
     },
     "metadata": {
      "needs_background": "light"
     },
     "output_type": "display_data"
    }
   ],
   "source": [
    "plt.figure(figsize=(10, 5))\n",
    "plot_heatmap(data_merged.isna(), plt.gca(), cmap='jet')\n",
    "plt.show()"
   ]
  },
  {
   "cell_type": "markdown",
   "metadata": {},
   "source": [
    "#### 第12题 （难易程度：** ）\n",
    "\n",
    "对订单详情表进行以下数据转换和可视化操作：\n",
    "\n",
    "1. 对菜品名称（dishes_name）特征进行哑变量（one-hot独热编码）处理，输出处理前的菜品名称的前5行和处理后的前5行5列"
   ]
  },
  {
   "cell_type": "code",
   "execution_count": 290,
   "metadata": {},
   "outputs": [
    {
     "name": "stdout",
     "output_type": "stream",
     "text": [
      "----------处理前----------\n"
     ]
    },
    {
     "data": {
      "text/plain": [
       "0                 蒜蓉生蚝\n",
       "1    蒙古烤羊腿\\r\\n\\r\\n\\r\\n\n",
       "2                 大蒜苋菜\n",
       "3                芝麻烤紫菜\n",
       "4                  蒜香包\n",
       "Name: dishes_name, dtype: category\n",
       "Categories (154, object): [42度海之蓝, 北冰洋汽水, 38度剑南春, 50度古井贡酒, ..., 黄尾袋鼠西拉子红葡萄酒, 黄油曲奇饼干, 黄花菜炒木耳, 黑米恋上葡萄]"
      ]
     },
     "execution_count": 290,
     "metadata": {},
     "output_type": "execute_result"
    }
   ],
   "source": [
    "# 操作代码\n",
    "dishes_names = order_details.loc[:, 'dishes_name']\n",
    "print('-'*10 + '处理前' + '-'*10)\n",
    "dishes_names.iloc[:5]"
   ]
  },
  {
   "cell_type": "code",
   "execution_count": 291,
   "metadata": {},
   "outputs": [
    {
     "name": "stdout",
     "output_type": "stream",
     "text": [
      "----------处理后----------\n"
     ]
    },
    {
     "data": {
      "text/html": [
       "<div>\n",
       "<style scoped>\n",
       "    .dataframe tbody tr th:only-of-type {\n",
       "        vertical-align: middle;\n",
       "    }\n",
       "\n",
       "    .dataframe tbody tr th {\n",
       "        vertical-align: top;\n",
       "    }\n",
       "\n",
       "    .dataframe thead th {\n",
       "        text-align: right;\n",
       "    }\n",
       "</style>\n",
       "<table border=\"1\" class=\"dataframe\">\n",
       "  <thead>\n",
       "    <tr style=\"text-align: right;\">\n",
       "      <th></th>\n",
       "      <th>42度海之蓝</th>\n",
       "      <th>北冰洋汽水</th>\n",
       "      <th>38度剑南春</th>\n",
       "      <th>50度古井贡酒</th>\n",
       "      <th>52度泸州老窖</th>\n",
       "    </tr>\n",
       "  </thead>\n",
       "  <tbody>\n",
       "    <tr>\n",
       "      <th>0</th>\n",
       "      <td>0</td>\n",
       "      <td>0</td>\n",
       "      <td>0</td>\n",
       "      <td>0</td>\n",
       "      <td>0</td>\n",
       "    </tr>\n",
       "    <tr>\n",
       "      <th>1</th>\n",
       "      <td>0</td>\n",
       "      <td>0</td>\n",
       "      <td>0</td>\n",
       "      <td>0</td>\n",
       "      <td>0</td>\n",
       "    </tr>\n",
       "    <tr>\n",
       "      <th>2</th>\n",
       "      <td>0</td>\n",
       "      <td>0</td>\n",
       "      <td>0</td>\n",
       "      <td>0</td>\n",
       "      <td>0</td>\n",
       "    </tr>\n",
       "    <tr>\n",
       "      <th>3</th>\n",
       "      <td>0</td>\n",
       "      <td>0</td>\n",
       "      <td>0</td>\n",
       "      <td>0</td>\n",
       "      <td>0</td>\n",
       "    </tr>\n",
       "    <tr>\n",
       "      <th>4</th>\n",
       "      <td>0</td>\n",
       "      <td>0</td>\n",
       "      <td>0</td>\n",
       "      <td>0</td>\n",
       "      <td>0</td>\n",
       "    </tr>\n",
       "  </tbody>\n",
       "</table>\n",
       "</div>"
      ],
      "text/plain": [
       "    42度海之蓝   北冰洋汽水   38度剑南春   50度古井贡酒  52度泸州老窖 \n",
       "0        0        0        0        0         0\n",
       "1        0        0        0        0         0\n",
       "2        0        0        0        0         0\n",
       "3        0        0        0        0         0\n",
       "4        0        0        0        0         0"
      ]
     },
     "execution_count": 291,
     "metadata": {},
     "output_type": "execute_result"
    }
   ],
   "source": [
    "print('-'*10 + '处理后' + '-'*10)\n",
    "pd.get_dummies(dishes_names).iloc[:5, :5]"
   ]
  },
  {
   "cell_type": "markdown",
   "metadata": {},
   "source": [
    "2. 对菜品销售额（amounts）进行等宽离散化处理，输出5个价格区间（便宜，平价，中等，较贵，很贵）的销售数量。"
   ]
  },
  {
   "cell_type": "code",
   "execution_count": 294,
   "metadata": {},
   "outputs": [
    {
     "data": {
      "text/plain": [
       "PY    1488\n",
       "PJ     885\n",
       "ZD     233\n",
       "HG     130\n",
       "JG      43\n",
       "Name: amounts, dtype: int64"
      ]
     },
     "execution_count": 294,
     "metadata": {},
     "output_type": "execute_result"
    }
   ],
   "source": [
    "prices = pd.cut(order_details['amounts'], 5, labels=['PY', 'PJ', 'ZD', 'JG', 'HG'])\n",
    "prices.value_counts()"
   ]
  },
  {
   "cell_type": "markdown",
   "metadata": {},
   "source": [
    "3. 绘制上述5个价格区间销量的爆裂式饼图，图表标题为\"不同价格区间菜品销量占比\"，标签分别为\"便宜、平价、中等、较贵、很贵\", 颜色分别为“红、橙、黄、绿、蓝”，并以”16.8%\"的形式显示每个价格区间销量的百分比。"
   ]
  },
  {
   "cell_type": "code",
   "execution_count": 316,
   "metadata": {},
   "outputs": [
    {
     "data": {
      "image/png": "[encoded data removed]",
      "text/plain": [
       "<Figure size 576x576 with 1 Axes>"
      ]
     },
     "metadata": {},
     "output_type": "display_data"
    }
   ],
   "source": [
    "plt.figure(figsize=(8,8))\n",
    "# 爆裂指数\n",
    "explode=[0.1, 0.1, 0, 0, 0.1]\n",
    "colors=['red','orange', 'yellow', 'green', 'blue']\n",
    "\n",
    "plt.pie(prices.value_counts(), \n",
    "        explode=explode, \n",
    "        labels=prices.value_counts().index,\n",
    "        colors=colors[::-1],\n",
    "        autopct='%1.1f%%',\n",
    "        shadow=True, startangle=90)\n",
    "\n",
    "plt.axis('equal')\n",
    "plt.show()"
   ]
  },
  {
   "cell_type": "code",
   "execution_count": null,
   "metadata": {},
   "outputs": [],
   "source": []
  }
 ],
 "metadata": {
  "kernel_info": {
   "name": "python3"
  },
  "kernelspec": {
   "display_name": "Python 3",
   "language": "python",
   "name": "python3"
  },
  "language_info": {
   "codemirror_mode": {
    "name": "ipython",
    "version": 3
   },
   "file_extension": ".py",
   "mimetype": "text/x-python",
   "name": "python",
   "nbconvert_exporter": "python",
   "pygments_lexer": "ipython3",
   "version": "3.7.6"
  },
  "nteract": {
   "version": "0.15.0"
  },
  "toc": {
   "base_numbering": 1,
   "nav_menu": {},
   "number_sections": false,
   "sideBar": true,
   "skip_h1_title": false,
   "title_cell": "Table of Contents",
   "title_sidebar": "Contents",
   "toc_cell": false,
   "toc_position": {
    "height": "calc(100% - 180px)",
    "left": "10px",
    "top": "150px",
    "width": "165px"
   },
   "toc_section_display": true,
   "toc_window_display": true
  }
 },
 "nbformat": 4,
 "nbformat_minor": 4
}
