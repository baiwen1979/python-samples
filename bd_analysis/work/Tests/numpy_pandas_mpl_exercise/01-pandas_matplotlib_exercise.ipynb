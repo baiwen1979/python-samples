{
 "cells": [
  {
   "cell_type": "markdown",
   "metadata": {},
   "source": [
    "# 数据分析实操专题练习-Pandas\n",
    "---\n",
    "\n",
    "**习题说明：**\n",
    "\n",
    "- 练习时间：8小时\n",
    "- 练习环境：juypter notebook\n",
    "- 练习要求：所有操作命令或代码均在此notebook文件中编写，完整的Python程序可新建为扩展名为.py的文本文件，然后在本notebook中使用命令或者以引入模块的方式调用执行。程序运行结果必须在此notebook中输出，具体输出方法可见题目中的**操作说明**。\n",
    "\n",
    "## 数据预处理与可视化\n",
    "\n",
    "### 数据描述\n",
    "\n",
    "[餐饮订单数据](data/data_desc.htm)分为三个数据文件，分别为：\n",
    "\n",
    "- 用户表（users.xlsx）\n",
    "- 菜品订单表（meal_order_info.csv）\n",
    "- 菜品订单详情表（meal_order_detail.xlsx）\n",
    "\n",
    "\n",
    "### 题目要求\n",
    "\n",
    "请使用**pandas**编程完成以下操作任务。【注：只能使用matplotlib绘制图表，禁止使用第三方绘图包】\n",
    "\n",
    "#### 第1题（难易程度：* ）\n",
    "\n",
    "分别导入上述数据文件（对于包含多个sheet页的Excel数据表，只需导入第1个sheet页），完成以下操作：\n",
    "\n",
    "1. 输出每个数据表的行数和列数\n",
    "2. 输出订单详情表菜品销量（counts和amounts列）的描述性统计\n",
    "3. 输出订单信息表订单编号与菜品名称（order_id和dishes_name列）的描述性统计"
   ]
  },
  {
   "cell_type": "code",
   "execution_count": null,
   "metadata": {},
   "outputs": [],
   "source": [
    "# 操作代码\n"
   ]
  },
  {
   "cell_type": "markdown",
   "metadata": {},
   "source": [
    "#### 第2题 （难易程度：* ）\n",
    "\n",
    "在第1题操作的基础上，完成以下操作：\n",
    "\n",
    "1. 剔除三个表中全为空值或者所有元素取值相同的列，并将修改后的表分别保存为\"users-01.csv\",\"orders-01.csv\"和\"order-details-01.csv\"文件；\n",
    "2. 使用matplotlib绘制用户表、订单信息表和订单详情表中缺失值的热图；\n",
    "3. 删除三个表中缺失值占比超过99%的列。"
   ]
  },
  {
   "cell_type": "code",
   "execution_count": 1,
   "metadata": {},
   "outputs": [],
   "source": [
    "# 操作代码\n"
   ]
  },
  {
   "cell_type": "markdown",
   "metadata": {},
   "source": [
    "#### 第3题（难易程度：* ）\n",
    "\n",
    "在第2题操作的基础上，完成以下操作：\n",
    "\n",
    "1. 对用户表进行反向和前向缺失值填充；\n",
    "2. 对订单信息表使用**use_start_time**列的非空值填充**lock_time**列对应行的缺失值；\n",
    "3. 使用matplotlib绘制缺失值删除和填充后三个表的缺失值热图。"
   ]
  },
  {
   "cell_type": "code",
   "execution_count": null,
   "metadata": {},
   "outputs": [],
   "source": [
    "# 操作代码\n"
   ]
  },
  {
   "cell_type": "markdown",
   "metadata": {},
   "source": [
    "#### 第4题 （难易程度：**）\n",
    "\n",
    "在第3题操作的基础上，完成以下操作：\n",
    "\n",
    "1. 将订单信息表开始时间（use_start_time）和锁单时间（lock_time）列由字符串转换为时间类型；\n",
    "2. 提取类型转换后锁单时间（lock_time）列的年（year）、月（month）、日（day）、周（week）、星期（weekday)和星期名（weekname），并分别输出其前5条和后5条；\n",
    "3. 输出订单信息表的下列时间统计信息：\n",
    "   - 最早锁单时间\n",
    "   - 最晚锁单时间\n",
    "   - 平均点餐时间\n",
    "   - 最短点餐时间\n",
    "   - 最长点餐时间"
   ]
  },
  {
   "cell_type": "code",
   "execution_count": 2,
   "metadata": {},
   "outputs": [],
   "source": [
    "# 操作代码\n"
   ]
  },
  {
   "cell_type": "markdown",
   "metadata": {},
   "source": [
    "#### 第5题 （难易程度：**）\n",
    "\n",
    "在第4题操作的基础上，完成以下操作：\n",
    "\n",
    "1. 找出订单信息表锁单时间（lock_time）的异常值（点餐时间小于10秒或者大于1天的值）；\n",
    "2. 将锁单时间（lock_time）的异常值替换为对应行的开始时间（use_start_time）加上平均点餐时间；\n",
    "3. 将上述异常值处理后的订单信息表存储为\"orders-05.csv\"文件。"
   ]
  },
  {
   "cell_type": "code",
   "execution_count": null,
   "metadata": {},
   "outputs": [],
   "source": [
    "# 操作代码\n"
   ]
  },
  {
   "cell_type": "markdown",
   "metadata": {},
   "source": [
    "#### 第6题 （难易程度：**）\n",
    "\n",
    "在第5题操作的基础上，完成以下操作：\n",
    "\n",
    "1. 按照点餐时间（place_order_time）的日期对订单详情表的订单数量进行分组；\n",
    "2. 绘制第一周（2016-08-01至2016-08-07）订单数量的柱状图，其中标题为\"2016年8月第1周订单数量\",横坐标为精确到天的日期，纵坐标为订单数量；\n",
    "3. 计算订单详情表单日销售金额的均值和中位数，并绘制线图，其中横坐标为日期，纵坐标为均值和中位数，标题为\"日销售额均值和中位数\",图例分别为\"均值\"和\"中位数\"；\n",
    "4. 计算订单详情表单日销售数量，并绘制点线图，其中横坐标为日期，纵坐标为销量，标题为“日销售量\"。"
   ]
  },
  {
   "cell_type": "code",
   "execution_count": null,
   "metadata": {},
   "outputs": [],
   "source": [
    "# 操作代码\n"
   ]
  },
  {
   "cell_type": "markdown",
   "metadata": {},
   "source": [
    "#### 第7题  （难易程度：**）\n",
    "\n",
    "对订单详情表进行以下重构操作：\n",
    "\n",
    "1. 以订单编号（order_id）为行索引键创建订单销量（counts）和销售额（amounts）的透视表，并输出前5行；\n",
    "2. 创建使用订单编号（order_id）和菜品名称（dishes_name）作为行索引键创建订单销量（counts）和销售额（amounts）的透视表，输出前5行；\n",
    "3. 创建以订单编号（order_id）为行索引键，菜品名称（dishes_name）作为列索引键的透视表，并将缺失值填充为0, 输出前5行4列。"
   ]
  },
  {
   "cell_type": "code",
   "execution_count": null,
   "metadata": {},
   "outputs": [],
   "source": [
    "# 操作代码\n"
   ]
  },
  {
   "cell_type": "markdown",
   "metadata": {},
   "source": [
    "#### 第8题 （难易程度：**）\n",
    "\n",
    "对订单详情表进行以下重构操作：\n",
    "\n",
    "1. 创建单日菜品销售额（amounts）与销量（counts）的交叉表，并输出前5行；\n",
    "2. 在同一图表上绘制上述单日菜品销售额（蓝）与销量（红）的线图（趋势图），其中横坐标为日期（共享,标签旋转30度，右对齐），纵坐标分别为成交额和销量，标题为\"2016年八月份日销售额和销量\"。\n",
    "3. 创建单个菜品单日销售额的交叉表，包含汇总行与列，并输出后5行5列。"
   ]
  },
  {
   "cell_type": "code",
   "execution_count": null,
   "metadata": {},
   "outputs": [],
   "source": [
    "# 操作代码\n"
   ]
  },
  {
   "cell_type": "markdown",
   "metadata": {},
   "source": [
    "#### 第9题 （难易程度：** ）\n",
    "\n",
    "重新导入订单详情表，然后完成以下操作：\n",
    "\n",
    "1. 导入订单详情表的其余两个sheet页，然后将其纵向合并为一张表，输出合并前后订单详情表的形状；\n",
    "2. 对合并后的订单详情表进行样本（记录）去重和特征去重，并输出去重前后订单详情表的形状；\n",
    "3. 统计合并后订单详情表各个特征的缺失率（百分比），删除全部数据缺失的列，输出缺失值处理后的缺失数量。"
   ]
  },
  {
   "cell_type": "code",
   "execution_count": null,
   "metadata": {},
   "outputs": [],
   "source": [
    "# 操作代码\n"
   ]
  },
  {
   "cell_type": "markdown",
   "metadata": {},
   "source": [
    "#### 第10题 （难易程度：**）\n",
    "\n",
    "在第9题操作的基础上，完成以下操作：\n",
    "\n",
    "1. 绘制合并后订单详情表菜品销量（counts）的箱线图，以识别其异常值，要求通过箱线图的异常值标签获取异常值的个数、最大最小值统计信息，然后将这些统计信息作为文本注解添加到图表中，图表标题为\"菜品销量分布图\"，图表保存为\"details-10.png\"文件。\n",
    "2. 通过替换法处理合并后订单详情表的销量（counts）和销售额（amounts）列存在的异常值，并输出替换后销量和销售额的最大最小值。"
   ]
  },
  {
   "cell_type": "code",
   "execution_count": null,
   "metadata": {},
   "outputs": [],
   "source": [
    "# 操作代码\n"
   ]
  },
  {
   "cell_type": "markdown",
   "metadata": {},
   "source": [
    "#### 第11题 （难易程度：**）\n",
    "\n",
    "在第10题操作的基础上，完成以下操作：\n",
    "\n",
    "1. 订单详情表（合并后）、订单信息表和用户表之间存在关联，请通过主键合并的方式将3张表横向合并为一张宽表\n",
    "2. 对合并后宽表的进行缺失值可视化检测，若存在缺失值，则进行以下处理：\n",
    "   - 删除全空列\n",
    "   - 对于部分为空值的数值型特征列，使用均值填充\n",
    "   - 对于部分为空值的类别型特征列，使用前向和反向填充"
   ]
  },
  {
   "cell_type": "code",
   "execution_count": null,
   "metadata": {},
   "outputs": [],
   "source": [
    "# 操作代码\n"
   ]
  },
  {
   "cell_type": "markdown",
   "metadata": {},
   "source": [
    "#### 第12题 （难易程度：**）\n",
    "\n",
    "对订单详情表进行以下数据转换和可视化操作：\n",
    "\n",
    "1. 对菜品名称（dishes_name）特征进行哑变量（one-hot独热编码）处理，输出处理前的菜品名称的前5行和处理后的前5行5列\n",
    "2. 对菜品销售额（amounts）进行等宽离散化处理，输出5个价格区间（便宜，平价，中等，较贵，很贵）的销售数量。\n",
    "3. 绘制上述5个价格区间销量的爆裂式饼图，图表标题为\"不同价格区间菜品销量占比\"，标签分别为\"便宜、平价、中等、较贵、很贵\", 颜色分别为“红、橙、黄、绿、蓝”，并以”16.8%\"的形式显示每个价格区间销量的百分比。"
   ]
  },
  {
   "cell_type": "code",
   "execution_count": null,
   "metadata": {},
   "outputs": [],
   "source": [
    "# 操作代码\n"
   ]
  }
 ],
 "metadata": {
  "kernelspec": {
   "display_name": "Python 3",
   "language": "python",
   "name": "python3"
  },
  "language_info": {
   "codemirror_mode": {
    "name": "ipython",
    "version": 3
   },
   "file_extension": ".py",
   "mimetype": "text/x-python",
   "name": "python",
   "nbconvert_exporter": "python",
   "pygments_lexer": "ipython3",
   "version": "3.7.3"
  },
  "toc": {
   "base_numbering": 1,
   "nav_menu": {},
   "number_sections": false,
   "sideBar": true,
   "skip_h1_title": false,
   "title_cell": "Table of Contents",
   "title_sidebar": "Contents",
   "toc_cell": false,
   "toc_position": {
    "height": "calc(100% - 180px)",
    "left": "10px",
    "top": "150px",
    "width": "165px"
   },
   "toc_section_display": true,
   "toc_window_display": true
  }
 },
 "nbformat": 4,
 "nbformat_minor": 2
}
