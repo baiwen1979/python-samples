{
  "cells": [
    {
      "cell_type": "markdown",
      "source": [
        "# 数据分析实操模拟测试题01\n",
        "---\n",
        "\n",
        "**试题说明：**\n",
        "\n",
        "- 测试时间：4小时\n",
        "- 测试环境：juypter notebook\n",
        "- 测试要求：所有操作命令或代码均在此notebook文件中编写，完整的Python程序可新建为扩展名为.py的文本文件，然后在本notebook中使用命令或者以引入模块的方式调用执行。程序运行结果必须在此notebook中输出，具体输出方法可见题目中的**操作说明**。\n",
        "\n",
        "\n",
        "## 一、基础知识题\n",
        "\n",
        "### 试题描述\n",
        "\n",
        "“Grid, solar, and EV data from three homes.csv” 文件保存了美国NY、Austin以及Boulder三个城市的电网、太阳能以及电动汽车数据。\n",
        "\n",
        "### 题目要求\n",
        "\n",
        "请使用**numpy**编程完成以下操作。【注】本题**禁止使用pandas**工具包。\n",
        "\n",
        "#### 第1题（难易程度：* ，20分）\n",
        "\n",
        "将上述数据文件按照**NY**、**Austin**以及**Boulder**三个城市划分成三个文件，并以csv格式存储。其中分割后的文件中的数据顺序、结构和表头与原文件保持一致，且每个文件的第一列都为原文件的DateTime列，NY数据保存为“**1-NY.csv**”，Austin数据保存为“**1-Austin.csv**”，Boulder数据保存为“**1-Boulder.csv**”。"
      ],
      "metadata": {}
    },
    {
      "cell_type": "code",
      "source": [
        "# 操作代码\n"
      ],
      "outputs": [],
      "execution_count": null,
      "metadata": {}
    },
    {
      "cell_type": "markdown",
      "source": [
        "#### 第2题 （难易程度：* ,  20 分）\n",
        "\n",
        "**绘制**纽约（NY)地区从**2019年3月1号**到**2019年3月10号**整十天的电网数据（grid）的**柱状图**，其中横坐标为精确到天的日期，纵坐标为电网数值，标题为“**NY - grid**”。将柱状图保存为“**2.png**”文件。"
      ],
      "metadata": {}
    },
    {
      "cell_type": "code",
      "source": [
        "# 操作代码\n"
      ],
      "outputs": [],
      "execution_count": 1,
      "metadata": {}
    },
    {
      "cell_type": "markdown",
      "source": [
        "#### 第3题（难易程度：** , 20 分）\n",
        "\n",
        "1. 提取2019年3月数据，**删除整行缺失**的数据，剩余**缺失数据按0值**进行填充，将修改后的数据保存为“**3-1.csv**”文件，数据结构与原文件一致。"
      ],
      "metadata": {}
    },
    {
      "cell_type": "code",
      "source": [
        "# 操作代码\n"
      ],
      "outputs": [],
      "execution_count": null,
      "metadata": {}
    },
    {
      "cell_type": "markdown",
      "source": [
        "2. 统计“**Austin - EV**”数值**大于0.01**、**小于等于0.01**的**比例**，并分别标记为“**On**”和“**Off**”，把“Austin - EV”数值和新增标记列保存为“**3-2.csv**”,数据间用“，”分隔。"
      ],
      "metadata": {}
    },
    {
      "cell_type": "code",
      "source": [
        "# 操作代码\n"
      ],
      "outputs": [],
      "execution_count": 2,
      "metadata": {}
    },
    {
      "cell_type": "markdown",
      "source": [
        "3. 计算“NY - grid”与“Boulder - grid”两列数据的**相关系数**，并**绘制为曲线图**，按名称“NY - grid”与“Boulder - grid”进行标注。其中，横坐标为日期（标注出10个精确到日的坐标即可），纵坐标为数据。两条曲线以不同的颜色区分，且添加图例标注。曲线图标题为“NY-grid and Boulder-grid”。将相关系数保存为“3-3.csv”文件，曲线图保存为“**3.png**”文件。"
      ],
      "metadata": {}
    },
    {
      "cell_type": "code",
      "source": [
        "# 操作代码\n"
      ],
      "outputs": [],
      "execution_count": null,
      "metadata": {}
    },
    {
      "cell_type": "markdown",
      "source": [
        "## 二、综合题\n",
        "\n",
        "### 居民客户的用电缴费习惯分析（难易程度：*** ， 40分）\n",
        "\n",
        "居民客户的用电行为与缴费习惯一定程度上反映当地经济水平和消费能力。以某个区域为例，假设按照客户类型区分为高价值型、大众型、潜力型、低价值型四种，区分的原则见下表：\n",
        "\n",
        "![区分原则](attachment:image.png)\n",
        "\n",
        "请编程完成以下数据分析任务：\n",
        "\n",
        "1. **请根据给出的数据资源（customer_pay_habbit.csv），计算平均缴费金额、平均缴费次数，并以csv格式输出，形式见下表。其中程序保存为“居民客户的用电缴费习惯分析1.py”, 输出结果保存为“居民客户的用电缴费习惯分析1.csv”。**"
      ],
      "metadata": {}
    },
    {
      "cell_type": "markdown",
      "source": [
        "![image.png](attachment:image.png)\n",
        "\n",
        "操作说明：\n",
        "- 请使用**juypter notebook**在当前目录下新建**文本文件**，然后重命名为\"**居民客户的用电缴费习惯分析1.py**\"并编辑此文件，完成题目要求。\n",
        "- 请在下列单元格中执行或调用上述Python程序，如: `python 居民客户的用电缴费习惯分析1.py`\n",
        "- 使用cat命令查看上述程序的输出结果，如: `cat 居民客户的用电缴费习惯分析1.csv`"
      ],
      "metadata": {}
    },
    {
      "cell_type": "code",
      "source": [
        "# 操作代码\n"
      ],
      "outputs": [],
      "execution_count": 4,
      "metadata": {}
    },
    {
      "cell_type": "markdown",
      "source": [
        "2. **对每个居民客户的用电缴费情况按照上述四种客户类型进行归类，并以csv格式输出，输出形式见下表。其中程序保存为“居民客户的用电缴费习惯分析2.py”,输出结果保存为“居民客户的用电缴费习惯分析2.csv”**。\n",
        "\n",
        "![image.png](attachment:image.png)\n",
        "\n",
        "操作说明：同上"
      ],
      "metadata": {}
    },
    {
      "cell_type": "code",
      "source": [
        "# 操作代码\n"
      ],
      "outputs": [],
      "execution_count": null,
      "metadata": {}
    },
    {
      "cell_type": "markdown",
      "source": [
        "3. **依据时间序列，预测最有可能成为高价值客户的TOP5，以csv格式输出，形式见下表。其中程序保存“居民客户的用电缴费习惯分析3.py”,输出结果保存“居民客户的用电缴费习惯分析3.csv”。**\n",
        "\n",
        "![image.png](attachment:image.png)\n",
        "\n",
        "操作说明：同上"
      ],
      "metadata": {}
    },
    {
      "cell_type": "code",
      "source": [
        "# 操作代码\n"
      ],
      "outputs": [],
      "execution_count": null,
      "metadata": {}
    }
  ],
  "metadata": {
    "kernelspec": {
      "name": "python3",
      "language": "python",
      "display_name": "Python 3"
    },
    "language_info": {
      "name": "python",
      "version": "3.7.3",
      "mimetype": "text/x-python",
      "codemirror_mode": {
        "name": "ipython",
        "version": 3
      },
      "pygments_lexer": "ipython3",
      "nbconvert_exporter": "python",
      "file_extension": ".py"
    },
    "toc": {
      "toc_position": {
        "height": "calc(100% - 180px)",
        "left": "10px",
        "top": "150px",
        "width": "165px"
      },
      "skip_h1_title": false,
      "number_sections": false,
      "title_cell": "Table of Contents",
      "toc_window_display": true,
      "base_numbering": 1,
      "toc_section_display": true,
      "title_sidebar": "Contents",
      "toc_cell": false,
      "nav_menu": {},
      "sideBar": true
    },
    "kernel_info": {
      "name": "python3"
    },
    "nteract": {
      "version": "0.15.0"
    }
  },
  "nbformat": 4,
  "nbformat_minor": 2
}