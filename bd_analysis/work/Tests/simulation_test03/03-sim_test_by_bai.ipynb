{
  "cells": [
    {
      "cell_type": "markdown",
      "source": [
        "# 数据分析实操模拟练习题\n",
        "---\n",
        "\n",
        "**试题说明：**\n",
        "\n",
        "- 测试时间：8小时\n",
        "- 测试环境：juypter notebook\n",
        "- 测试要求：所有操作命令或代码均在此notebook文件中编写，完整的Python程序可新建为扩展名为.py的文本文件，然后在本notebook中使用命令或者以引入模块的方式调用执行。程序运行结果必须在此notebook中输出，具体输出方法可见题目中的**操作说明**。\n",
        "\n",
        "\n",
        "## 一、基础知识题\n",
        "\n",
        "### 数据描述\n",
        "\n",
        "1. 用户用电数据表\"data/user_power.csv\"保存了3个用户（UserA, UserB, UserC）的月用电量数据\n",
        "2. 线路线损数据表\"data/ele_loss.csv\"保存了某时期线路线损和用电量数据\n",
        "3. 线路告警数据表\"data/alarm.csv\"保存了某时期线路告警信息\n",
        "\n",
        "各数据文件及其字段说明，请查看[数据特征说明](data/data_desc.htm)\n",
        "\n",
        "### 题目要求\n",
        "\n",
        "请使用**numpy**、**pandas**、**matplotlib**（**禁用第三方绘图包**）和**scipy**根据每小题的**具体要求**编程完成相应操作。\n",
        "\n",
        "#### 第1题（难易程度：* ，本题禁用**pandas**）\n",
        "\n",
        "将**线路线损数据表**按照月份拆分为3个表，并以csv格式存储。其中分割后文件中的数据顺序、结构和表头与原文件保持一致，每个文件以\"1-yyyy-mm.csv\"的形式保存（如1-2010-10.csv）。"
      ],
      "metadata": {}
    },
    {
      "cell_type": "code",
      "source": [
        "# 操作代码\n"
      ],
      "outputs": [],
      "execution_count": null,
      "metadata": {}
    },
    {
      "cell_type": "markdown",
      "source": [
        "#### 第2题 （难易程度：* ,   本题禁用pandas）\n",
        "\n",
        "绘制**线路线损数据表**9月份**用电量（ele）**和**线损（loss）**数据的**趋势图（线图）**，其中横坐标为精确到天的日期，纵坐标为用电量和线损数值，标题为\"9月份用电量和线损情况\"，图例分别为\"用电量\"和\"线损\"。图表保存为\"2.png\"文件。"
      ],
      "metadata": {}
    },
    {
      "cell_type": "code",
      "source": [
        "# 操作代码\n"
      ],
      "outputs": [],
      "execution_count": 1,
      "metadata": {}
    },
    {
      "cell_type": "markdown",
      "source": [
        "#### 第3题 （难易程度：* ，本题禁用pandas)\n",
        "\n",
        "对**线路告警数据表**中的**警告提示（alarm）**按照下表对应关系编码为**警告级别（alarm_level）**，并作为新增列\"**alarm_level**\"。修改后的数据保存为\"3.csv\"文件。\n",
        "\n",
        "|警告提示|警告级别|\n",
        "|---|---|\n",
        "|C相电流过负荷|1|\n",
        "|A相电流过负荷|2|\n",
        "|电流不平衡|3|\n",
        "|电压断相|4|"
      ],
      "metadata": {}
    },
    {
      "cell_type": "code",
      "source": [
        "# 操作代码\n"
      ],
      "outputs": [],
      "execution_count": null,
      "metadata": {}
    },
    {
      "cell_type": "markdown",
      "source": [
        "#### 第4题 （难易程度：* ，本题禁用pandas）\n",
        "\n",
        "对**线路告警数据表**中的不同**警告提示（alarm）**的**发生次数**进行统计并绘制**柱状图**，其中横坐标为**警告提示**，纵坐标为**发生次数**，标题为\"线路告警发生次数统计\"。图表保存为\"4.png\"文件。"
      ],
      "metadata": {}
    },
    {
      "cell_type": "code",
      "source": [
        "# 操作代码\n"
      ],
      "outputs": [],
      "execution_count": null,
      "metadata": {}
    },
    {
      "cell_type": "markdown",
      "source": [
        "#### 第5题（难易程度：** ）\n",
        "\n",
        "1. **用户用电数据表**中存在**缺失值**，请对其进行**拉格朗日插值**填充，修改后的数据保存为\"5-1.csv\"文件，数据结构与原文件一致。"
      ],
      "metadata": {}
    },
    {
      "cell_type": "code",
      "source": [
        "# 操作代码\n"
      ],
      "outputs": [],
      "execution_count": null,
      "metadata": {}
    },
    {
      "cell_type": "markdown",
      "source": [
        "2. 在第5-1小题操作的基础上，绘制**用户用电数据表**中3个用户的用电趋势图，其中横坐标为**月次**，纵坐标为**用电量**，标题为\"用户用电量趋势图\",图例为3个用户的用户名。图表保存为\"5-2.png\"文件。"
      ],
      "metadata": {}
    },
    {
      "cell_type": "code",
      "source": [
        "# 操作代码\n"
      ],
      "outputs": [],
      "execution_count": null,
      "metadata": {}
    },
    {
      "cell_type": "markdown",
      "source": [
        "3. 在第5-1小题操作的基础上，统计**用户用电数据表**中3个用户的用电比例，并绘制饼图，标题为\"用户用电比例\"。图表保存为\"5-3.png\"文件。"
      ],
      "metadata": {}
    },
    {
      "cell_type": "code",
      "source": [
        "# 操作代码\n"
      ],
      "outputs": [],
      "execution_count": null,
      "metadata": {}
    },
    {
      "cell_type": "markdown",
      "source": [
        "#### 第6题 （难易程度：**）\n",
        "\n",
        "在第5-1小题操作的基础上：\n",
        "\n",
        "1. 统计**用户用电数据表**中每个用户的总用电量、平均用电量、最大用电量、最小用电量，并以csv格式输出，形式见下表。输出结果保存为\"6-1.csv\"文件。\n",
        "\n",
        "|用户|最小用电量|最大用电量|平均用电量|总用电量|\n",
        "|---|---|---|---|---|\n",
        "|XXX|###.###|###.###|###.###|###.###|\n",
        "|XXX|###.###|###.###|###.###|###.###|\n",
        "|...|...|...|...|...|"
      ],
      "metadata": {}
    },
    {
      "cell_type": "code",
      "source": [
        "# 操作代码\n"
      ],
      "outputs": [],
      "execution_count": null,
      "metadata": {}
    },
    {
      "cell_type": "markdown",
      "source": [
        "2. 在同一图表中绘制**用户用电数据表**中每个用户用电量的**箱线图**，并输出每个用户用电量的**中位数**、**上四分位数**、**下四分位数**和**异常值**（如果有的话）。"
      ],
      "metadata": {}
    },
    {
      "cell_type": "code",
      "source": [
        "# 操作代码\n"
      ],
      "outputs": [],
      "execution_count": 2,
      "metadata": {}
    },
    {
      "cell_type": "markdown",
      "source": [
        "3. 对**用户用电数据表**用电量进行归一化\\[0,1\\]处理，并绘制**热力图**，其中横坐标为归一化的每月用电数据，纵坐标为用户名，标题为\"用户用电热力图\"。图表保存为\"6-3.png\"文件。"
      ],
      "metadata": {}
    },
    {
      "cell_type": "code",
      "source": [
        "# 操作代码\n"
      ],
      "outputs": [],
      "execution_count": null,
      "metadata": {}
    },
    {
      "cell_type": "markdown",
      "source": [
        "#### 第7题（难易程度：** ）\n",
        "\n",
        "在第3题操作的基础上：\n",
        "\n",
        "1. 将**线路线损数据表**和**线路告警数据表**以**线路编号（ID）**和**日期（Date）**两个键值作为主键进行**内连接**。连接后的数据保存为\"7-线路状态表-1.csv\"文件。"
      ],
      "metadata": {}
    },
    {
      "cell_type": "code",
      "source": [
        "# 操作代码\n"
      ],
      "outputs": [],
      "execution_count": null,
      "metadata": {}
    },
    {
      "cell_type": "markdown",
      "source": [
        "2. 将连接后**线路状态表**的**警告级别（alarm_level）**列进行**one-hot编码**处理，处理后的新列代替原来的**警告提示（alarm）**和**警告级别（alarm_level）**列。修改后**线路状态表**保存为\"7-线路状态表-2.csv\"文件。"
      ],
      "metadata": {}
    },
    {
      "cell_type": "code",
      "source": [
        "# 操作代码\n"
      ],
      "outputs": [],
      "execution_count": 1,
      "metadata": {}
    },
    {
      "cell_type": "markdown",
      "source": [
        "3. 计算**线路线损数据表**中**用电量（ele）**和**线损（loss）**两列数据的**相关系数**，并绘制**曲线图**，其中横坐标为用电量，纵坐标为线损值，标题为\"用电量和线损关系图\"。相关系数保存为\"7-3.csv\"文件，图表保存为\"7-3.png\"文件。"
      ],
      "metadata": {}
    },
    {
      "cell_type": "code",
      "source": [
        "# 操作代码\n"
      ],
      "outputs": [],
      "execution_count": null,
      "metadata": {}
    },
    {
      "cell_type": "markdown",
      "source": [
        "#### 第8题（难易程度：** ）\n",
        "\n",
        "在第3题操作的基础上：\n",
        "\n",
        "1. 将**线路线损数据表**和**线路告警数据表**以**线路编号（ID）**和**日期（Date）**两个键值作为主键进行**左连接**。连接后的新表保存为“8-线路状态表-1.csv\"文件。"
      ],
      "metadata": {}
    },
    {
      "cell_type": "code",
      "source": [
        "# 操作代码\n"
      ],
      "outputs": [],
      "execution_count": null,
      "metadata": {}
    },
    {
      "cell_type": "markdown",
      "source": [
        "2. 对**左连接**后的**线路状态表**通过绘制缺失值的**热图**进行缺失值检测，并对缺失值进行填充，缺失的**警告提示（alarm）**填充为\"**正常**\",相应缺失的**警告级别（alarm_level）**填充为**0**。修改后的数据保存为\"8-线路状态表-2.csv\"文件。"
      ],
      "metadata": {}
    },
    {
      "cell_type": "code",
      "source": [
        "# 操作代码\n"
      ],
      "outputs": [],
      "execution_count": null,
      "metadata": {}
    },
    {
      "cell_type": "markdown",
      "source": [
        "3. 在上述操作的基础上，统计**线路状态表2**中不同**警告提示（alarm）**下的总用电量、平均用电量和平均线损，并分别绘制**平均用电量**和**平均线损**的**柱状图**，其中横坐标均为**警告提示**，横坐标分别为**平均用电量**和**平均线损**，标题分别为\"线损-告警\"和\"用电-告警\"。图表标题为\"线路线损告警图\",保存为\"8-3.png\"文件。"
      ],
      "metadata": {}
    },
    {
      "cell_type": "code",
      "source": [
        "# 操作代码\n"
      ],
      "outputs": [],
      "execution_count": 2,
      "metadata": {}
    },
    {
      "cell_type": "markdown",
      "source": [
        "## 二、综合题\n",
        "\n",
        "### 乳腺癌数据分析与预测\n",
        "\n",
        "`sklearn`库的`datasets`模块集成了数据分析的经典数据集，其中**乳腺癌数据集（breast_cancer）**可通过该模块的`load_breast_cancer()`函数加载。加载后的数据集相当于一个字典，可通过`data`、`target`、`target_names`、`feature_names`、`DESCR`分别获取数据集的数据、标签、特征名称和描述信息。\n",
        "\n",
        "请编程完成以下数据分析任务：\n",
        "\n",
        "#### 第1题 （难易程度：* ）\n",
        "\n",
        "1. 导入并查看**乳腺癌数据集**对象的描述信息，输出数据集的特征名称、标签名、标签和数据的形状与类型；\n",
        "2. 统计数据集中恶性（maligant）实例和良性（benign）实例的数量，并绘制饼图，标题为\"乳腺癌良性和恶性占比\"；\n",
        "3. 创建**乳腺癌数据集**的**DataFrame**，列名由特征名称（feature_names）、标签（target）和标签名（target_names）构成，并且将特征名中的空格替换为下划线，输出描述性统计信息，结果保存为\"1-breast_cancer.csv\"文件。"
      ],
      "metadata": {}
    },
    {
      "cell_type": "code",
      "source": [
        "# 操作代码\n"
      ],
      "outputs": [],
      "execution_count": 59,
      "metadata": {}
    },
    {
      "cell_type": "markdown",
      "source": [
        "#### 第2题（难易程度：**）\n",
        "\n",
        "1. 将**乳腺癌数据集**的数据按照8:2的比例划分为**训练集**和**测试集**，分别输出其形状；\n",
        "2. 分别对**训练集**和**测试集**进行\\[0,1\\]归一化处理，并输出归一化前后的**最大**和**最小值**；\n",
        "3. 分别对归一化后的**训练集**和**测试集**进行**PCA降维**，使特征数降为10。"
      ],
      "metadata": {}
    },
    {
      "cell_type": "code",
      "source": [
        "# 操作代码\n"
      ],
      "outputs": [],
      "execution_count": 4,
      "metadata": {}
    },
    {
      "cell_type": "markdown",
      "source": [
        "#### 第3题（难易程度：***）\n",
        "\n",
        "1. 构建sklearn**支持向量机**分类模型，并训练模型，输出模型信息；\n",
        "2. 使用训练好的模型对**测试集**进行预测，并以输出前20个预测结果的**标签名称**；\n",
        "3. 计算预测**正确**和预测**错误**的结果**数量**以及**正确率**；\n",
        "4. 评价模型，输出模型预测的**准确率（Accuracy）**、**精确率（Precision）**、**召回率（Recall）**、**F1值**和**Cohen's Kappa系数**，并绘制**ROC曲线**。"
      ],
      "metadata": {}
    },
    {
      "cell_type": "code",
      "source": [
        "# 操作代码\n"
      ],
      "outputs": [],
      "execution_count": null,
      "metadata": {}
    },
    {
      "cell_type": "markdown",
      "source": [
        "#### 第4题（难易程度：*** ）\n",
        "\n",
        "1. 构建sklearn**逻辑回归**、**支持向量机**和**朴素贝叶斯**分类器模型；\n",
        "2. 并按照子训练集大小从10依次递增（增量为25）到整个训练集大小的顺序多次（迭代）**训练和评估**上述三个模型，记录每个迭代周期三个模型预测结果的**准确率**；\n",
        "3. 绘制三个模型预测准确率的**线图**，以比较不同训练集大小（递增）三个模型的准确率，图表标题为\"逻辑回归、支持向量机和朴素贝叶斯准确率\"，横坐标为训练实例数量（子训练集大小），纵坐标为测试准确率，图例分别为逻辑回归、支持向量机和朴素贝叶斯。图表保存为\"乳腺癌预测模型准确率比较.png\"。"
      ],
      "metadata": {}
    },
    {
      "cell_type": "code",
      "source": [
        "# 操作代码\n"
      ],
      "outputs": [],
      "execution_count": null,
      "metadata": {}
    }
  ],
  "metadata": {
    "kernel_info": {
      "name": "python3"
    },
    "kernelspec": {
      "name": "python3",
      "language": "python",
      "display_name": "Python 3"
    },
    "language_info": {
      "name": "python",
      "version": "3.7.3",
      "mimetype": "text/x-python",
      "codemirror_mode": {
        "name": "ipython",
        "version": 3
      },
      "pygments_lexer": "ipython3",
      "nbconvert_exporter": "python",
      "file_extension": ".py"
    },
    "nteract": {
      "version": "0.15.0"
    },
    "toc": {
      "toc_position": {
        "height": "calc(100% - 180px)",
        "left": "10px",
        "top": "150px",
        "width": "165px"
      },
      "skip_h1_title": false,
      "number_sections": false,
      "title_cell": "Table of Contents",
      "toc_window_display": true,
      "base_numbering": 1,
      "toc_section_display": true,
      "title_sidebar": "Contents",
      "toc_cell": false,
      "nav_menu": {},
      "sideBar": true
    }
  },
  "nbformat": 4,
  "nbformat_minor": 2
}