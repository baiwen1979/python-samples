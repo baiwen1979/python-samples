{
 "cells": [
  {
   "cell_type": "markdown",
   "metadata": {},
   "source": [
    "# 使用Docker运行Anaconda数据分析环境"
   ]
  },
  {
   "cell_type": "markdown",
   "metadata": {},
   "source": [
    "## 下载Docker Anaconda3 镜像"
   ]
  },
  {
   "cell_type": "code",
   "execution_count": 1,
   "metadata": {},
   "outputs": [
    {
     "name": "stdout",
     "output_type": "stream",
     "text": [
      "Using default tag: latest\n",
      "latest: Pulling from continuumio/anaconda3\n",
      "Digest: sha256:9fad434f3f775ed245f0f888cda954bc93f81ffdc31d4e3e37d69283260c3f41\n",
      "Status: Image is up to date for continuumio/anaconda3:latest\n",
      "docker.io/continuumio/anaconda3:latest\n"
     ]
    }
   ],
   "source": [
    "!docker pull continuumio/anaconda3"
   ]
  },
  {
   "cell_type": "markdown",
   "metadata": {},
   "source": [
    "## Docker中运行Anaconda3 jupyter notebook"
   ]
  },
  {
   "cell_type": "code",
   "execution_count": null,
   "metadata": {},
   "outputs": [
    {
     "name": "stdout",
     "output_type": "stream",
     "text": [
      "Collecting package metadata (current_repodata.json): ...working... done\n",
      "Solving environment: ...working... done\n",
      "\n",
      "## Package Plan ##\n",
      "\n",
      "  environment location: /opt/conda\n",
      "\n",
      "  added / updated specs:\n",
      "    - jupyter\n",
      "\n",
      "\n",
      "The following packages will be downloaded:\n",
      "\n",
      "    package                    |            build\n",
      "    ---------------------------|-----------------\n",
      "    conda-4.7.11               |           py37_0         3.0 MB\n",
      "    ------------------------------------------------------------\n",
      "                                           Total:         3.0 MB\n",
      "\n",
      "The following packages will be UPDATED:\n",
      "\n",
      "  conda                                       4.7.10-py37_0 --> 4.7.11-py37_0\n",
      "\n",
      "\n",
      "Preparing transaction: ...working... done\n",
      "Verifying transaction: ...working... done\n",
      "Executing transaction: ...working... done\n",
      "\u001b[32m[I 13:22:05.905 NotebookApp]\u001b(B\u001b[m Writing notebook server cookie secret to /root/.local/share/jupyter/runtime/notebook_cookie_secret\n",
      "\u001b[33m[W 13:22:06.104 NotebookApp]\u001b(B\u001b[m WARNING: The notebook server is listening on all IP addresses and not using encryption. This is not recommended.\n",
      "\u001b[32m[I 13:22:06.149 NotebookApp]\u001b(B\u001b[m JupyterLab extension loaded from /opt/conda/lib/python3.7/site-packages/jupyterlab\n",
      "\u001b[32m[I 13:22:06.149 NotebookApp]\u001b(B\u001b[m JupyterLab application directory is /opt/conda/share/jupyter/lab\n",
      "\u001b[32m[I 13:22:06.152 NotebookApp]\u001b(B\u001b[m Serving notebooks from local directory: /opt/notebooks\n",
      "\u001b[32m[I 13:22:06.152 NotebookApp]\u001b(B\u001b[m The Jupyter Notebook is running at:\n",
      "\u001b[32m[I 13:22:06.152 NotebookApp]\u001b(B\u001b[m http://e898de349c75:8088/?token=98a0d9b2380900b708033d74f7f131d6dd0dde091a9d0fd7\n",
      "\u001b[32m[I 13:22:06.152 NotebookApp]\u001b(B\u001b[m  or http://127.0.0.1:8088/?token=98a0d9b2380900b708033d74f7f131d6dd0dde091a9d0fd7\n",
      "\u001b[32m[I 13:22:06.152 NotebookApp]\u001b(B\u001b[m Use Control-C to stop this server and shut down all kernels (twice to skip confirmation).\n",
      "[C 13:22:06.157 NotebookApp] \n",
      "    \n",
      "    To access the notebook, open this file in a browser:\n",
      "        file:///root/.local/share/jupyter/runtime/nbserver-1-open.html\n",
      "    Or copy and paste one of these URLs:\n",
      "        http://e898de349c75:8088/?token=98a0d9b2380900b708033d74f7f131d6dd0dde091a9d0fd7\n",
      "     or http://127.0.0.1:8088/?token=98a0d9b2380900b708033d74f7f131d6dd0dde091a9d0fd7\n",
      "\u001b[32m[I 13:22:15.531 NotebookApp]\u001b(B\u001b[m 302 GET /?token=98a0d9b2380900b708033d74f7f131d6dd0dde091a9d0fd7 (172.17.0.1) 1.24ms\n",
      "\u001b[31m[E 13:22:15.665 NotebookApp]\u001b(B\u001b[m Could not open static file ''\n",
      "\u001b[33m[W 13:22:15.790 NotebookApp]\u001b(B\u001b[m 404 GET /static/components/react/react-dom.production.min.js (172.17.0.1) 22.37ms referer=http://127.0.0.1:8088/tree?token=98a0d9b2380900b708033d74f7f131d6dd0dde091a9d0fd7\n",
      "\u001b[33m[W 13:22:15.858 NotebookApp]\u001b(B\u001b[m 404 GET /static/components/react/react-dom.production.min.js (172.17.0.1) 3.00ms referer=http://127.0.0.1:8088/tree?token=98a0d9b2380900b708033d74f7f131d6dd0dde091a9d0fd7\n",
      "\u001b[32m[I 13:23:10.297 NotebookApp]\u001b(B\u001b[m Creating new notebook in \n",
      "\u001b[32m[I 13:23:10.328 NotebookApp]\u001b(B\u001b[m Writing notebook-signing key to /root/.local/share/jupyter/notebook_secret\n",
      "\u001b[33m[W 13:23:10.757 NotebookApp]\u001b(B\u001b[m 404 GET /static/components/react/react-dom.production.min.js (172.17.0.1) 5.83ms referer=http://127.0.0.1:8088/notebooks/Untitled.ipynb?kernel_name=python3\n",
      "\u001b[33m[W 13:23:10.790 NotebookApp]\u001b(B\u001b[m 404 GET /static/components/react/react-dom.production.min.js (172.17.0.1) 3.05ms referer=http://127.0.0.1:8088/notebooks/Untitled.ipynb?kernel_name=python3\n",
      "\u001b[32m[I 13:23:11.361 NotebookApp]\u001b(B\u001b[m Kernel started: 3964b1a5-9fc0-4ba5-bd2b-af282365820a\n",
      "\u001b[32m[I 13:23:11.944 NotebookApp]\u001b(B\u001b[m Adapting from protocol version 5.1 (kernel 3964b1a5-9fc0-4ba5-bd2b-af282365820a) to 5.3 (client).\n",
      "\u001b[32m[I 13:25:11.310 NotebookApp]\u001b(B\u001b[m Saving file at /test.ipynb\n",
      "\u001b[32m[I 13:27:11.302 NotebookApp]\u001b(B\u001b[m Saving file at /test.ipynb\n",
      "\u001b[32m[I 13:29:11.977 NotebookApp]\u001b(B\u001b[m Saving file at /test.ipynb\n",
      "\u001b[32m[I 13:31:11.302 NotebookApp]\u001b(B\u001b[m Saving file at /test.ipynb\n",
      "\u001b[32m[I 13:33:11.318 NotebookApp]\u001b(B\u001b[m Saving file at /test.ipynb\n",
      "\u001b[32m[I 13:33:29.664 NotebookApp]\u001b(B\u001b[m Starting buffering for 3964b1a5-9fc0-4ba5-bd2b-af282365820a:e62e0e59f66f4f0b86190ecbd2cd8d9f\n"
     ]
    }
   ],
   "source": [
    "!docker run -i -t -p 8088:8088 continuumio/anaconda3 /bin/bash -c \"/opt/conda/bin/conda install jupyter -y --quiet && mkdir /opt/notebooks && /opt/conda/bin/jupyter notebook --notebook-dir=/opt/notebooks --ip='*' --port=8088 --no-browser --allow-root\""
   ]
  },
  {
   "cell_type": "code",
   "execution_count": 4,
   "metadata": {},
   "outputs": [
    {
     "name": "stdout",
     "output_type": "stream",
     "text": [
      "CONTAINER ID        IMAGE               COMMAND             CREATED             STATUS              PORTS               NAMES\r\n"
     ]
    }
   ],
   "source": [
    "!docker ps"
   ]
  },
  {
   "cell_type": "code",
   "execution_count": 5,
   "metadata": {},
   "outputs": [
    {
     "name": "stdout",
     "output_type": "stream",
     "text": [
      "CONTAINER ID        IMAGE                       COMMAND                  CREATED             STATUS                     PORTS               NAMES\r\n",
      "3a3cca7d8190        continuumio/anaconda3       \"/bin/bash -c '/opt/…\"   6 minutes ago       Exited (1) 3 minutes ago                       stupefied_swartz\r\n",
      "28d365f84b37        ubuntu                      \"bash\"                   4 hours ago         Exited (0) 3 hours ago                         suspicious_mclean\r\n",
      "6ee229e76fb5        python                      \"python3\"                33 hours ago        Exited (0) 3 hours ago                         strange_hamilton\r\n",
      "e35c38678742        mikebirdgeneau/jupyterlab   \"/bin/sh -c 'jupyter…\"   7 weeks ago         Exited (0) 7 weeks ago                         cranky_mendeleev\r\n"
     ]
    }
   ],
   "source": [
    "!docker ps -a"
   ]
  },
  {
   "cell_type": "code",
   "execution_count": 7,
   "metadata": {},
   "outputs": [
    {
     "name": "stdout",
     "output_type": "stream",
     "text": [
      "3a\r\n"
     ]
    }
   ],
   "source": [
    "!docker container rm 3a"
   ]
  }
 ],
 "metadata": {
  "kernelspec": {
   "display_name": "Python 3",
   "language": "python",
   "name": "python3"
  },
  "language_info": {
   "codemirror_mode": {
    "name": "ipython",
    "version": 3
   },
   "file_extension": ".py",
   "mimetype": "text/x-python",
   "name": "python",
   "nbconvert_exporter": "python",
   "pygments_lexer": "ipython3",
   "version": "3.7.3"
  }
 },
 "nbformat": 4,
 "nbformat_minor": 2
}
