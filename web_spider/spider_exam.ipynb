{
 "cells": [
  {
   "cell_type": "markdown",
   "metadata": {},
   "source": [
    "# 《Python网络爬虫实战》考试试题\n",
    "\n",
    "----\n",
    "**考试说明：**\n",
    "\n",
    "1. 请将此notebook文件更名为“<姓名>-<手机号>”的形式，如:张三-18803518868\n",
    "2. 考试时间：90分钟  \n",
    "3. 考试形式：机试\n",
    "4. 第一题为必选题，第二和第三题任选一题\n",
    "5. 运行结果必须包含在此notebook文件中\n",
    "6. 只提交此文件，调用的模块文件无须提交"
   ]
  },
  {
   "cell_type": "markdown",
   "metadata": {},
   "source": [
    "### 一、简单爬虫（50分）\n",
    "\n",
    "请分别使用BeautifulSoup或lxml（XPath）爬取[斗破苍穹小说网](http://www.doupoxs.com/doupocangqiong/)首页的所有小说的标题（title）及其链接（link），然后保存为CSV（doupoxs.csv）文件。"
   ]
  },
  {
   "cell_type": "code",
   "execution_count": 4,
   "metadata": {},
   "outputs": [],
   "source": [
    "# 代码写在此处"
   ]
  },
  {
   "cell_type": "markdown",
   "metadata": {},
   "source": [
    "### 二、基础爬虫（30分）\n",
    "\n",
    "使用myspider模块提供的类，编写HTML解析器类**QiushiHtmlParser**，爬取[糗事百科网“文字”专题](https://www.qiushibaike.com/text/)中前25页的信息。\n",
    "\n",
    "1）需要爬取的信息有：\n",
    "* 用户ID（id）\n",
    "* 用户等级（level）\n",
    "* 用户性别（sex）\n",
    "* 段子内容（content）\n",
    "* 好笑数量（laughs）\n",
    "* 评论数量（comments)\n",
    "\n",
    "2）爬取到的信息存储为qiushi.json文件"
   ]
  },
  {
   "cell_type": "code",
   "execution_count": 3,
   "metadata": {},
   "outputs": [],
   "source": [
    "# 代码写在此处"
   ]
  },
  {
   "cell_type": "markdown",
   "metadata": {},
   "source": [
    "### 三、高级爬虫（50分）\n",
    "\n",
    "使用scrapy框架编写网络爬虫，爬取[简书网\"推荐作者\"](https://www.jianshu.com/recommendations/users)的信息\n",
    "\n",
    "1）需要爬取的信息有：\n",
    "* 作者URL（author_url）\n",
    "* 作者名称（author_name）\n",
    "* 最近更新（recent_updates）\n",
    "* 作者描述（description）\n",
    "\n",
    "2）爬取到的信息存储为JSON文件（jianshu_recommend_authors.json）\n",
    "\n",
    "【提示】此网站的翻页采用了AJAX异步加载技术，但使用开发者工具不难找出其下一页的URL和翻页规律。"
   ]
  },
  {
   "cell_type": "code",
   "execution_count": 6,
   "metadata": {},
   "outputs": [],
   "source": [
    "# 使用cat或type命令显示爬取结果，如：\n",
    "# !type jianshu_recommend_authors.json"
   ]
  }
 ],
 "metadata": {
  "kernelspec": {
   "display_name": "Python 3",
   "language": "python",
   "name": "python3"
  },
  "language_info": {
   "codemirror_mode": {
    "name": "ipython",
    "version": 3
   },
   "file_extension": ".py",
   "mimetype": "text/x-python",
   "name": "python",
   "nbconvert_exporter": "python",
   "pygments_lexer": "ipython3",
   "version": "3.7.3"
  }
 },
 "nbformat": 4,
 "nbformat_minor": 2
}
