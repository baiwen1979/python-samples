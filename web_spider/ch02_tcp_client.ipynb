{
 "cells": [
  {
   "cell_type": "code",
   "execution_count": 11,
   "metadata": {},
   "outputs": [
    {
     "name": "stdout",
     "output_type": "stream",
     "text": [
      "-->>Server: Hello, I am server!\n",
      "Client:hello\n",
      "-->>Server: hello\n",
      "Client:what are you doing?\n",
      "-->>Server: what are you doing?\n",
      "Client:how are you?\n",
      "-->>Server: how are you?\n",
      "Client:quit\n",
      "-->>Server: quit\n"
     ]
    }
   ],
   "source": [
    "import socket\n",
    "s = socket.socket(socket.AF_INET, socket.SOCK_STREAM)\n",
    "s.connect(('127.0.0.1', 9999))\n",
    "print('-->>'+ s.recv(1024).decode('utf-8'))\n",
    "while True:\n",
    "    message = input(prompt=\"Client:\")\n",
    "    s.send(message.encode('utf-8'))\n",
    "    print('-->>'+ s.recv(1024).decode('utf-8'))\n",
    "    if message == 'quit':\n",
    "        break\n",
    "s.send(b'exit')\n",
    "s.close()"
   ]
  },
  {
   "cell_type": "code",
   "execution_count": 6,
   "metadata": {},
   "outputs": [
    {
     "name": "stdout",
     "output_type": "stream",
     "text": [
      "Help on method raw_input in module ipykernel.kernelbase:\n",
      "\n",
      "raw_input(prompt='') method of ipykernel.ipkernel.IPythonKernel instance\n",
      "    Forward raw_input to frontends\n",
      "    \n",
      "    Raises\n",
      "    ------\n",
      "    StdinNotImplentedError if active frontend doesn't support stdin.\n",
      "\n"
     ]
    }
   ],
   "source": [
    "help(input)"
   ]
  },
  {
   "cell_type": "code",
   "execution_count": null,
   "metadata": {},
   "outputs": [],
   "source": []
  }
 ],
 "metadata": {
  "kernelspec": {
   "display_name": "Python 3",
   "language": "python",
   "name": "python3"
  },
  "language_info": {
   "codemirror_mode": {
    "name": "ipython",
    "version": 3
   },
   "file_extension": ".py",
   "mimetype": "text/x-python",
   "name": "python",
   "nbconvert_exporter": "python",
   "pygments_lexer": "ipython3",
   "version": "3.7.3"
  }
 },
 "nbformat": 4,
 "nbformat_minor": 2
}
