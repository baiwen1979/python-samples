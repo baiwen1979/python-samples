{
 "cells": [
  {
   "cell_type": "markdown",
   "metadata": {},
   "source": [
    "# 实验3 基础爬虫实验\n",
    "\n",
    "##  爬取豆瓣图书TOP250的数据\n",
    "\n",
    "### 1. 实验目的\n",
    "\n",
    "1. 熟悉requests和lxml库的基本用法\n",
    "2. 掌握爬虫程序的开发流程\n",
    "3. 掌握如何使用requests抓取网页内容\n",
    "4. 掌握如何使用lxml库解析HTML，采集目标数据\n",
    "5. 掌握如何利用分页规律生成分页网址并抓取多页内容\n",
    "6. 掌握如何爬取进入详细页面的链接网址，进而爬取详细页面中的目标数据\n",
    "7. 掌握如何将爬取到的数据保存为CSV文件\n",
    "\n",
    "### 2. 实验内容：\n",
    "\n",
    "本实验爬取的内容为[豆瓣网图书TOP250](http://book.douban.com/top250)的图书信息\n",
    "\n",
    "(1) 此站的分页规律如下（每页25条，共10页）：\n",
    "\n",
    "1. http://book.douban.com/top250?start=0\n",
    "2. http://book.douban.com/top250?start=1\n",
    "3. http://book.douban.com/top250?start=2\n",
    "4. http://book.douban.com/top250?start=3\n",
    "5. http://book.douban.com/top250?start=4\n",
    "\n",
    "(2) 利用此分页规律爬取各分页中的图书信息。\n",
    "\n",
    "(3) 需要爬取的信息有：书名、书本的URL链接、作者、出版社和出版时间、评分和评价。如下图所示：\n",
    "\n",
    "![需获取的网页信息](images/douban.jpeg)\n",
    "\n",
    "(4) 将爬取到的图书信息存储到名为douban_top250.csv的文件中\n",
    "\n",
    "### 3. 实验代码"
   ]
  },
  {
   "cell_type": "code",
   "execution_count": 4,
   "metadata": {},
   "outputs": [],
   "source": [
    "# 请从此单元格开始编写爬虫程序"
   ]
  },
  {
   "cell_type": "markdown",
   "metadata": {},
   "source": [
    "### 4. 代码分析\n",
    "\n",
    "请在此处编写实验分析（双击编辑）"
   ]
  },
  {
   "cell_type": "markdown",
   "metadata": {},
   "source": [
    "### 5. 实验总结\n",
    "\n",
    "请在此处编写实验总结（双击编辑）"
   ]
  },
  {
   "cell_type": "code",
   "execution_count": null,
   "metadata": {},
   "outputs": [],
   "source": []
  }
 ],
 "metadata": {
  "kernelspec": {
   "display_name": "Python 3",
   "language": "python",
   "name": "python3"
  },
  "language_info": {
   "codemirror_mode": {
    "name": "ipython",
    "version": 3
   },
   "file_extension": ".py",
   "mimetype": "text/x-python",
   "name": "python",
   "nbconvert_exporter": "python",
   "pygments_lexer": "ipython3",
   "version": "3.7.3"
  }
 },
 "nbformat": 4,
 "nbformat_minor": 2
}
